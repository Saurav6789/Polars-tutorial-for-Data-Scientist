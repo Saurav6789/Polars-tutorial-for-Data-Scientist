{
 "cells": [
  {
   "cell_type": "markdown",
   "id": "c96e18e8-8bc4-459c-806d-c29c91ab4381",
   "metadata": {},
   "source": [
    "# Import Polars"
   ]
  },
  {
   "cell_type": "code",
   "execution_count": 1,
   "id": "f957210e-bffc-4d2e-b89e-4ac1ea288dc4",
   "metadata": {},
   "outputs": [
    {
     "name": "stdout",
     "output_type": "stream",
     "text": [
      "1.5.0\n"
     ]
    }
   ],
   "source": [
    "import polars as pl \n",
    "print(pl.__version__)"
   ]
  },
  {
   "cell_type": "markdown",
   "id": "4224de07-193e-4a5c-9187-86f775edf96c",
   "metadata": {},
   "source": [
    "# Creating a LazyFrame "
   ]
  },
  {
   "cell_type": "code",
   "execution_count": 7,
   "id": "c12cf859-e008-4425-9703-ad732b5643f3",
   "metadata": {},
   "outputs": [
    {
     "data": {
      "text/plain": [
       "polars.lazyframe.frame.LazyFrame"
      ]
     },
     "execution_count": 7,
     "metadata": {},
     "output_type": "execute_result"
    }
   ],
   "source": [
    "# Creating a Lazyframe Directly \n",
    "\n",
    "lazy_df = pl.scan_csv(\"Insurance.csv\")\n",
    "type(lazy_df)"
   ]
  },
  {
   "cell_type": "code",
   "execution_count": 8,
   "id": "ba93bcf7-f4b5-46b0-b3ad-1d7b4b12e09c",
   "metadata": {},
   "outputs": [
    {
     "data": {
      "text/plain": [
       "polars.lazyframe.frame.LazyFrame"
      ]
     },
     "execution_count": 8,
     "metadata": {},
     "output_type": "execute_result"
    }
   ],
   "source": [
    "# Creating a Lazyframe from an existing Polars DataFrame \n",
    "\n",
    "insurance_df = pl.read_csv(\"Insurance.csv\")\n",
    "lazy_df = insurance_df.lazy()\n",
    "type(lazy_df)"
   ]
  },
  {
   "cell_type": "code",
   "execution_count": 45,
   "id": "ad1bc656-817c-4902-bd08-9ddcd59dc447",
   "metadata": {},
   "outputs": [
    {
     "data": {
      "text/plain": [
       "polars.lazyframe.frame.LazyFrame"
      ]
     },
     "execution_count": 45,
     "metadata": {},
     "output_type": "execute_result"
    }
   ],
   "source": [
    "# Create a DataFrame\n",
    "df = pl.LazyFrame({\n",
    "    \"name\": [\"Alice\", \"Bob\", \"Charlie\"],\n",
    "    \"age\": [25, 30, 35],\n",
    "    \"salary\": [50000, 60000, 70000]\n",
    "})\n",
    "type(df)"
   ]
  },
  {
   "cell_type": "markdown",
   "id": "8ca016a6-7d8f-4072-bfdd-382b7dff4e63",
   "metadata": {},
   "source": [
    "# Common LazyFrame Methods "
   ]
  },
  {
   "cell_type": "code",
   "execution_count": 9,
   "id": "2a1c9c9f-4860-4395-9d6f-62845c2711f1",
   "metadata": {},
   "outputs": [
    {
     "data": {
      "text/html": [
       "<i>naive plan: (run <b>LazyFrame.explain(optimized=True)</b> to see the optimized plan)</i>\n",
       "    <p></p>\n",
       "    <div>SLICE[offset: 0, len: 5]<p></p>  DF [\"id\", \"Gender\", \"Age\", \"Driving_License\"]; PROJECT */12 COLUMNS; SELECTION: None</div>"
      ],
      "text/plain": [
       "<LazyFrame at 0x1FFAEAC1990>"
      ]
     },
     "execution_count": 9,
     "metadata": {},
     "output_type": "execute_result"
    }
   ],
   "source": [
    "lazy_df.head()"
   ]
  },
  {
   "cell_type": "code",
   "execution_count": 10,
   "id": "9e8e94c2-dadb-441d-a113-418a317cea38",
   "metadata": {},
   "outputs": [
    {
     "data": {
      "text/html": [
       "<div><style>\n",
       ".dataframe > thead > tr,\n",
       ".dataframe > tbody > tr {\n",
       "  text-align: right;\n",
       "  white-space: pre-wrap;\n",
       "}\n",
       "</style>\n",
       "<small>shape: (5, 12)</small><table border=\"1\" class=\"dataframe\"><thead><tr><th>id</th><th>Gender</th><th>Age</th><th>Driving_License</th><th>Region_Code</th><th>Previously_Insured</th><th>Vehicle_Age</th><th>Vehicle_Damage</th><th>Annual_Premium</th><th>Policy_Sales_Channel</th><th>Vintage</th><th>Response</th></tr><tr><td>i64</td><td>str</td><td>i64</td><td>i64</td><td>f64</td><td>i64</td><td>str</td><td>str</td><td>f64</td><td>f64</td><td>i64</td><td>i64</td></tr></thead><tbody><tr><td>0</td><td>&quot;Male&quot;</td><td>21</td><td>1</td><td>35.0</td><td>0</td><td>&quot;1-2 Year&quot;</td><td>&quot;Yes&quot;</td><td>65101.0</td><td>124.0</td><td>187</td><td>0</td></tr><tr><td>1</td><td>&quot;Male&quot;</td><td>43</td><td>1</td><td>28.0</td><td>0</td><td>&quot;&gt; 2 Years&quot;</td><td>&quot;Yes&quot;</td><td>58911.0</td><td>26.0</td><td>288</td><td>1</td></tr><tr><td>2</td><td>&quot;Female&quot;</td><td>25</td><td>1</td><td>14.0</td><td>1</td><td>&quot;&lt; 1 Year&quot;</td><td>&quot;No&quot;</td><td>38043.0</td><td>152.0</td><td>254</td><td>0</td></tr><tr><td>3</td><td>&quot;Female&quot;</td><td>35</td><td>1</td><td>1.0</td><td>0</td><td>&quot;1-2 Year&quot;</td><td>&quot;Yes&quot;</td><td>2630.0</td><td>156.0</td><td>76</td><td>0</td></tr><tr><td>4</td><td>&quot;Female&quot;</td><td>36</td><td>1</td><td>15.0</td><td>1</td><td>&quot;1-2 Year&quot;</td><td>&quot;No&quot;</td><td>31951.0</td><td>152.0</td><td>294</td><td>0</td></tr></tbody></table></div>"
      ],
      "text/plain": [
       "shape: (5, 12)\n",
       "┌─────┬────────┬─────┬─────────────────┬───┬────────────────┬─────────────────┬─────────┬──────────┐\n",
       "│ id  ┆ Gender ┆ Age ┆ Driving_License ┆ … ┆ Annual_Premium ┆ Policy_Sales_Ch ┆ Vintage ┆ Response │\n",
       "│ --- ┆ ---    ┆ --- ┆ ---             ┆   ┆ ---            ┆ annel           ┆ ---     ┆ ---      │\n",
       "│ i64 ┆ str    ┆ i64 ┆ i64             ┆   ┆ f64            ┆ ---             ┆ i64     ┆ i64      │\n",
       "│     ┆        ┆     ┆                 ┆   ┆                ┆ f64             ┆         ┆          │\n",
       "╞═════╪════════╪═════╪═════════════════╪═══╪════════════════╪═════════════════╪═════════╪══════════╡\n",
       "│ 0   ┆ Male   ┆ 21  ┆ 1               ┆ … ┆ 65101.0        ┆ 124.0           ┆ 187     ┆ 0        │\n",
       "│ 1   ┆ Male   ┆ 43  ┆ 1               ┆ … ┆ 58911.0        ┆ 26.0            ┆ 288     ┆ 1        │\n",
       "│ 2   ┆ Female ┆ 25  ┆ 1               ┆ … ┆ 38043.0        ┆ 152.0           ┆ 254     ┆ 0        │\n",
       "│ 3   ┆ Female ┆ 35  ┆ 1               ┆ … ┆ 2630.0         ┆ 156.0           ┆ 76      ┆ 0        │\n",
       "│ 4   ┆ Female ┆ 36  ┆ 1               ┆ … ┆ 31951.0        ┆ 152.0           ┆ 294     ┆ 0        │\n",
       "└─────┴────────┴─────┴─────────────────┴───┴────────────────┴─────────────────┴─────────┴──────────┘"
      ]
     },
     "execution_count": 10,
     "metadata": {},
     "output_type": "execute_result"
    }
   ],
   "source": [
    "# Collect Method \n",
    "lazy_df.head().collect()"
   ]
  },
  {
   "cell_type": "code",
   "execution_count": 44,
   "id": "c8d26643-2ecb-4db2-a935-3864259e7f5e",
   "metadata": {},
   "outputs": [
    {
     "data": {
      "text/html": [
       "<div><style>\n",
       ".dataframe > thead > tr,\n",
       ".dataframe > tbody > tr {\n",
       "  text-align: right;\n",
       "  white-space: pre-wrap;\n",
       "}\n",
       "</style>\n",
       "<small>shape: (11_504_798, 12)</small><table border=\"1\" class=\"dataframe\"><thead><tr><th>id</th><th>Gender</th><th>Age</th><th>Driving_License</th><th>Region_Code</th><th>Previously_Insured</th><th>Vehicle_Age</th><th>Vehicle_Damage</th><th>Annual_Premium</th><th>Policy_Sales_Channel</th><th>Vintage</th><th>Response</th></tr><tr><td>i64</td><td>str</td><td>i64</td><td>i64</td><td>f64</td><td>i64</td><td>str</td><td>str</td><td>f64</td><td>f64</td><td>i64</td><td>i64</td></tr></thead><tbody><tr><td>0</td><td>&quot;Male&quot;</td><td>21</td><td>1</td><td>35.0</td><td>0</td><td>&quot;1-2 Year&quot;</td><td>&quot;Yes&quot;</td><td>65101.0</td><td>124.0</td><td>187</td><td>0</td></tr><tr><td>1</td><td>&quot;Male&quot;</td><td>43</td><td>1</td><td>28.0</td><td>0</td><td>&quot;&gt; 2 Years&quot;</td><td>&quot;Yes&quot;</td><td>58911.0</td><td>26.0</td><td>288</td><td>1</td></tr><tr><td>2</td><td>&quot;Female&quot;</td><td>25</td><td>1</td><td>14.0</td><td>1</td><td>&quot;&lt; 1 Year&quot;</td><td>&quot;No&quot;</td><td>38043.0</td><td>152.0</td><td>254</td><td>0</td></tr><tr><td>3</td><td>&quot;Female&quot;</td><td>35</td><td>1</td><td>1.0</td><td>0</td><td>&quot;1-2 Year&quot;</td><td>&quot;Yes&quot;</td><td>2630.0</td><td>156.0</td><td>76</td><td>0</td></tr><tr><td>4</td><td>&quot;Female&quot;</td><td>36</td><td>1</td><td>15.0</td><td>1</td><td>&quot;1-2 Year&quot;</td><td>&quot;No&quot;</td><td>31951.0</td><td>152.0</td><td>294</td><td>0</td></tr><tr><td>&hellip;</td><td>&hellip;</td><td>&hellip;</td><td>&hellip;</td><td>&hellip;</td><td>&hellip;</td><td>&hellip;</td><td>&hellip;</td><td>&hellip;</td><td>&hellip;</td><td>&hellip;</td><td>&hellip;</td></tr><tr><td>11504793</td><td>&quot;Male&quot;</td><td>48</td><td>1</td><td>6.0</td><td>0</td><td>&quot;1-2 Year&quot;</td><td>&quot;Yes&quot;</td><td>27412.0</td><td>26.0</td><td>218</td><td>0</td></tr><tr><td>11504794</td><td>&quot;Female&quot;</td><td>26</td><td>1</td><td>36.0</td><td>0</td><td>&quot;&lt; 1 Year&quot;</td><td>&quot;Yes&quot;</td><td>29509.0</td><td>152.0</td><td>115</td><td>1</td></tr><tr><td>11504795</td><td>&quot;Female&quot;</td><td>29</td><td>1</td><td>32.0</td><td>1</td><td>&quot;&lt; 1 Year&quot;</td><td>&quot;No&quot;</td><td>2630.0</td><td>152.0</td><td>189</td><td>0</td></tr><tr><td>11504796</td><td>&quot;Female&quot;</td><td>51</td><td>1</td><td>28.0</td><td>0</td><td>&quot;1-2 Year&quot;</td><td>&quot;Yes&quot;</td><td>48443.0</td><td>26.0</td><td>274</td><td>1</td></tr><tr><td>11504797</td><td>&quot;Male&quot;</td><td>25</td><td>1</td><td>28.0</td><td>1</td><td>&quot;&lt; 1 Year&quot;</td><td>&quot;No&quot;</td><td>32855.0</td><td>152.0</td><td>189</td><td>0</td></tr></tbody></table></div>"
      ],
      "text/plain": [
       "shape: (11_504_798, 12)\n",
       "┌──────────┬────────┬─────┬───────────────┬───┬───────────────┬───────────────┬─────────┬──────────┐\n",
       "│ id       ┆ Gender ┆ Age ┆ Driving_Licen ┆ … ┆ Annual_Premiu ┆ Policy_Sales_ ┆ Vintage ┆ Response │\n",
       "│ ---      ┆ ---    ┆ --- ┆ se            ┆   ┆ m             ┆ Channel       ┆ ---     ┆ ---      │\n",
       "│ i64      ┆ str    ┆ i64 ┆ ---           ┆   ┆ ---           ┆ ---           ┆ i64     ┆ i64      │\n",
       "│          ┆        ┆     ┆ i64           ┆   ┆ f64           ┆ f64           ┆         ┆          │\n",
       "╞══════════╪════════╪═════╪═══════════════╪═══╪═══════════════╪═══════════════╪═════════╪══════════╡\n",
       "│ 0        ┆ Male   ┆ 21  ┆ 1             ┆ … ┆ 65101.0       ┆ 124.0         ┆ 187     ┆ 0        │\n",
       "│ 1        ┆ Male   ┆ 43  ┆ 1             ┆ … ┆ 58911.0       ┆ 26.0          ┆ 288     ┆ 1        │\n",
       "│ 2        ┆ Female ┆ 25  ┆ 1             ┆ … ┆ 38043.0       ┆ 152.0         ┆ 254     ┆ 0        │\n",
       "│ 3        ┆ Female ┆ 35  ┆ 1             ┆ … ┆ 2630.0        ┆ 156.0         ┆ 76      ┆ 0        │\n",
       "│ 4        ┆ Female ┆ 36  ┆ 1             ┆ … ┆ 31951.0       ┆ 152.0         ┆ 294     ┆ 0        │\n",
       "│ …        ┆ …      ┆ …   ┆ …             ┆ … ┆ …             ┆ …             ┆ …       ┆ …        │\n",
       "│ 11504793 ┆ Male   ┆ 48  ┆ 1             ┆ … ┆ 27412.0       ┆ 26.0          ┆ 218     ┆ 0        │\n",
       "│ 11504794 ┆ Female ┆ 26  ┆ 1             ┆ … ┆ 29509.0       ┆ 152.0         ┆ 115     ┆ 1        │\n",
       "│ 11504795 ┆ Female ┆ 29  ┆ 1             ┆ … ┆ 2630.0        ┆ 152.0         ┆ 189     ┆ 0        │\n",
       "│ 11504796 ┆ Female ┆ 51  ┆ 1             ┆ … ┆ 48443.0       ┆ 26.0          ┆ 274     ┆ 1        │\n",
       "│ 11504797 ┆ Male   ┆ 25  ┆ 1             ┆ … ┆ 32855.0       ┆ 152.0         ┆ 189     ┆ 0        │\n",
       "└──────────┴────────┴─────┴───────────────┴───┴───────────────┴───────────────┴─────────┴──────────┘"
      ]
     },
     "execution_count": 44,
     "metadata": {},
     "output_type": "execute_result"
    }
   ],
   "source": [
    "#  collect method with streaming as True \n",
    "lazy_df.collect(streaming=True)"
   ]
  },
  {
   "cell_type": "code",
   "execution_count": 12,
   "id": "2bfb3427-b221-4588-a472-452cadd9e8cb",
   "metadata": {},
   "outputs": [
    {
     "name": "stderr",
     "output_type": "stream",
     "text": [
      "C:\\Users\\Saurav\\AppData\\Local\\Temp\\ipykernel_4976\\1235569737.py:3: DeprecationWarning: `LazyFrame.fetch` is deprecated. `LazyFrame.fetch` is deprecated; use `LazyFrame.collect` instead, in conjunction with a call to `head`.\n",
      "  lazy_df.fetch(5)\n"
     ]
    },
    {
     "data": {
      "text/html": [
       "<div><style>\n",
       ".dataframe > thead > tr,\n",
       ".dataframe > tbody > tr {\n",
       "  text-align: right;\n",
       "  white-space: pre-wrap;\n",
       "}\n",
       "</style>\n",
       "<small>shape: (5, 12)</small><table border=\"1\" class=\"dataframe\"><thead><tr><th>id</th><th>Gender</th><th>Age</th><th>Driving_License</th><th>Region_Code</th><th>Previously_Insured</th><th>Vehicle_Age</th><th>Vehicle_Damage</th><th>Annual_Premium</th><th>Policy_Sales_Channel</th><th>Vintage</th><th>Response</th></tr><tr><td>i64</td><td>str</td><td>i64</td><td>i64</td><td>f64</td><td>i64</td><td>str</td><td>str</td><td>f64</td><td>f64</td><td>i64</td><td>i64</td></tr></thead><tbody><tr><td>0</td><td>&quot;Male&quot;</td><td>21</td><td>1</td><td>35.0</td><td>0</td><td>&quot;1-2 Year&quot;</td><td>&quot;Yes&quot;</td><td>65101.0</td><td>124.0</td><td>187</td><td>0</td></tr><tr><td>1</td><td>&quot;Male&quot;</td><td>43</td><td>1</td><td>28.0</td><td>0</td><td>&quot;&gt; 2 Years&quot;</td><td>&quot;Yes&quot;</td><td>58911.0</td><td>26.0</td><td>288</td><td>1</td></tr><tr><td>2</td><td>&quot;Female&quot;</td><td>25</td><td>1</td><td>14.0</td><td>1</td><td>&quot;&lt; 1 Year&quot;</td><td>&quot;No&quot;</td><td>38043.0</td><td>152.0</td><td>254</td><td>0</td></tr><tr><td>3</td><td>&quot;Female&quot;</td><td>35</td><td>1</td><td>1.0</td><td>0</td><td>&quot;1-2 Year&quot;</td><td>&quot;Yes&quot;</td><td>2630.0</td><td>156.0</td><td>76</td><td>0</td></tr><tr><td>4</td><td>&quot;Female&quot;</td><td>36</td><td>1</td><td>15.0</td><td>1</td><td>&quot;1-2 Year&quot;</td><td>&quot;No&quot;</td><td>31951.0</td><td>152.0</td><td>294</td><td>0</td></tr></tbody></table></div>"
      ],
      "text/plain": [
       "shape: (5, 12)\n",
       "┌─────┬────────┬─────┬─────────────────┬───┬────────────────┬─────────────────┬─────────┬──────────┐\n",
       "│ id  ┆ Gender ┆ Age ┆ Driving_License ┆ … ┆ Annual_Premium ┆ Policy_Sales_Ch ┆ Vintage ┆ Response │\n",
       "│ --- ┆ ---    ┆ --- ┆ ---             ┆   ┆ ---            ┆ annel           ┆ ---     ┆ ---      │\n",
       "│ i64 ┆ str    ┆ i64 ┆ i64             ┆   ┆ f64            ┆ ---             ┆ i64     ┆ i64      │\n",
       "│     ┆        ┆     ┆                 ┆   ┆                ┆ f64             ┆         ┆          │\n",
       "╞═════╪════════╪═════╪═════════════════╪═══╪════════════════╪═════════════════╪═════════╪══════════╡\n",
       "│ 0   ┆ Male   ┆ 21  ┆ 1               ┆ … ┆ 65101.0        ┆ 124.0           ┆ 187     ┆ 0        │\n",
       "│ 1   ┆ Male   ┆ 43  ┆ 1               ┆ … ┆ 58911.0        ┆ 26.0            ┆ 288     ┆ 1        │\n",
       "│ 2   ┆ Female ┆ 25  ┆ 1               ┆ … ┆ 38043.0        ┆ 152.0           ┆ 254     ┆ 0        │\n",
       "│ 3   ┆ Female ┆ 35  ┆ 1               ┆ … ┆ 2630.0         ┆ 156.0           ┆ 76      ┆ 0        │\n",
       "│ 4   ┆ Female ┆ 36  ┆ 1               ┆ … ┆ 31951.0        ┆ 152.0           ┆ 294     ┆ 0        │\n",
       "└─────┴────────┴─────┴─────────────────┴───┴────────────────┴─────────────────┴─────────┴──────────┘"
      ]
     },
     "execution_count": 12,
     "metadata": {},
     "output_type": "execute_result"
    }
   ],
   "source": [
    "# Fetch Method\n",
    "\n",
    "lazy_df.fetch(5)"
   ]
  },
  {
   "cell_type": "code",
   "execution_count": 25,
   "id": "c2448d23-4eb3-48de-906f-ac2619301100",
   "metadata": {},
   "outputs": [
    {
     "data": {
      "text/plain": [
       "Schema([('id', Int64),\n",
       "        ('Gender', String),\n",
       "        ('Age', Int64),\n",
       "        ('Driving_License', Int64),\n",
       "        ('Region_Code', Float64),\n",
       "        ('Previously_Insured', Int64),\n",
       "        ('Vehicle_Age', String),\n",
       "        ('Vehicle_Damage', String),\n",
       "        ('Annual_Premium', Float64),\n",
       "        ('Policy_Sales_Channel', Float64),\n",
       "        ('Vintage', Int64),\n",
       "        ('Response', Int64)])"
      ]
     },
     "execution_count": 25,
     "metadata": {},
     "output_type": "execute_result"
    }
   ],
   "source": [
    "# collect schema\n",
    "\n",
    "lazy_df.collect_schema()"
   ]
  },
  {
   "cell_type": "code",
   "execution_count": 28,
   "id": "27a14251-9d9c-4512-9349-499297839442",
   "metadata": {},
   "outputs": [
    {
     "data": {
      "text/html": [
       "<div><style>\n",
       ".dataframe > thead > tr,\n",
       ".dataframe > tbody > tr {\n",
       "  text-align: right;\n",
       "  white-space: pre-wrap;\n",
       "}\n",
       "</style>\n",
       "<small>shape: (11_504_798, 12)</small><table border=\"1\" class=\"dataframe\"><thead><tr><th>id</th><th>Gender</th><th>Age</th><th>Driving_License</th><th>Region_Code</th><th>Previously_Insured</th><th>Vehicle_Age</th><th>Vehicle_Damage</th><th>Annual_Premium</th><th>Policy_Sales_Channel</th><th>Vintage</th><th>Response</th></tr><tr><td>i64</td><td>str</td><td>i64</td><td>i64</td><td>f64</td><td>i64</td><td>str</td><td>str</td><td>bool</td><td>f64</td><td>i64</td><td>i64</td></tr></thead><tbody><tr><td>0</td><td>&quot;Male&quot;</td><td>21</td><td>1</td><td>35.0</td><td>0</td><td>&quot;1-2 Year&quot;</td><td>&quot;Yes&quot;</td><td>false</td><td>124.0</td><td>187</td><td>0</td></tr><tr><td>1</td><td>&quot;Male&quot;</td><td>43</td><td>1</td><td>28.0</td><td>0</td><td>&quot;&gt; 2 Years&quot;</td><td>&quot;Yes&quot;</td><td>false</td><td>26.0</td><td>288</td><td>1</td></tr><tr><td>2</td><td>&quot;Female&quot;</td><td>25</td><td>1</td><td>14.0</td><td>1</td><td>&quot;&lt; 1 Year&quot;</td><td>&quot;No&quot;</td><td>false</td><td>152.0</td><td>254</td><td>0</td></tr><tr><td>3</td><td>&quot;Female&quot;</td><td>35</td><td>1</td><td>1.0</td><td>0</td><td>&quot;1-2 Year&quot;</td><td>&quot;Yes&quot;</td><td>true</td><td>156.0</td><td>76</td><td>0</td></tr><tr><td>4</td><td>&quot;Female&quot;</td><td>36</td><td>1</td><td>15.0</td><td>1</td><td>&quot;1-2 Year&quot;</td><td>&quot;No&quot;</td><td>false</td><td>152.0</td><td>294</td><td>0</td></tr><tr><td>&hellip;</td><td>&hellip;</td><td>&hellip;</td><td>&hellip;</td><td>&hellip;</td><td>&hellip;</td><td>&hellip;</td><td>&hellip;</td><td>&hellip;</td><td>&hellip;</td><td>&hellip;</td><td>&hellip;</td></tr><tr><td>11504793</td><td>&quot;Male&quot;</td><td>48</td><td>1</td><td>6.0</td><td>0</td><td>&quot;1-2 Year&quot;</td><td>&quot;Yes&quot;</td><td>false</td><td>26.0</td><td>218</td><td>0</td></tr><tr><td>11504794</td><td>&quot;Female&quot;</td><td>26</td><td>1</td><td>36.0</td><td>0</td><td>&quot;&lt; 1 Year&quot;</td><td>&quot;Yes&quot;</td><td>false</td><td>152.0</td><td>115</td><td>1</td></tr><tr><td>11504795</td><td>&quot;Female&quot;</td><td>29</td><td>1</td><td>32.0</td><td>1</td><td>&quot;&lt; 1 Year&quot;</td><td>&quot;No&quot;</td><td>true</td><td>152.0</td><td>189</td><td>0</td></tr><tr><td>11504796</td><td>&quot;Female&quot;</td><td>51</td><td>1</td><td>28.0</td><td>0</td><td>&quot;1-2 Year&quot;</td><td>&quot;Yes&quot;</td><td>false</td><td>26.0</td><td>274</td><td>1</td></tr><tr><td>11504797</td><td>&quot;Male&quot;</td><td>25</td><td>1</td><td>28.0</td><td>1</td><td>&quot;&lt; 1 Year&quot;</td><td>&quot;No&quot;</td><td>false</td><td>152.0</td><td>189</td><td>0</td></tr></tbody></table></div>"
      ],
      "text/plain": [
       "shape: (11_504_798, 12)\n",
       "┌──────────┬────────┬─────┬───────────────┬───┬───────────────┬───────────────┬─────────┬──────────┐\n",
       "│ id       ┆ Gender ┆ Age ┆ Driving_Licen ┆ … ┆ Annual_Premiu ┆ Policy_Sales_ ┆ Vintage ┆ Response │\n",
       "│ ---      ┆ ---    ┆ --- ┆ se            ┆   ┆ m             ┆ Channel       ┆ ---     ┆ ---      │\n",
       "│ i64      ┆ str    ┆ i64 ┆ ---           ┆   ┆ ---           ┆ ---           ┆ i64     ┆ i64      │\n",
       "│          ┆        ┆     ┆ i64           ┆   ┆ bool          ┆ f64           ┆         ┆          │\n",
       "╞══════════╪════════╪═════╪═══════════════╪═══╪═══════════════╪═══════════════╪═════════╪══════════╡\n",
       "│ 0        ┆ Male   ┆ 21  ┆ 1             ┆ … ┆ false         ┆ 124.0         ┆ 187     ┆ 0        │\n",
       "│ 1        ┆ Male   ┆ 43  ┆ 1             ┆ … ┆ false         ┆ 26.0          ┆ 288     ┆ 1        │\n",
       "│ 2        ┆ Female ┆ 25  ┆ 1             ┆ … ┆ false         ┆ 152.0         ┆ 254     ┆ 0        │\n",
       "│ 3        ┆ Female ┆ 35  ┆ 1             ┆ … ┆ true          ┆ 156.0         ┆ 76      ┆ 0        │\n",
       "│ 4        ┆ Female ┆ 36  ┆ 1             ┆ … ┆ false         ┆ 152.0         ┆ 294     ┆ 0        │\n",
       "│ …        ┆ …      ┆ …   ┆ …             ┆ … ┆ …             ┆ …             ┆ …       ┆ …        │\n",
       "│ 11504793 ┆ Male   ┆ 48  ┆ 1             ┆ … ┆ false         ┆ 26.0          ┆ 218     ┆ 0        │\n",
       "│ 11504794 ┆ Female ┆ 26  ┆ 1             ┆ … ┆ false         ┆ 152.0         ┆ 115     ┆ 1        │\n",
       "│ 11504795 ┆ Female ┆ 29  ┆ 1             ┆ … ┆ true          ┆ 152.0         ┆ 189     ┆ 0        │\n",
       "│ 11504796 ┆ Female ┆ 51  ┆ 1             ┆ … ┆ false         ┆ 26.0          ┆ 274     ┆ 1        │\n",
       "│ 11504797 ┆ Male   ┆ 25  ┆ 1             ┆ … ┆ false         ┆ 152.0         ┆ 189     ┆ 0        │\n",
       "└──────────┴────────┴─────┴───────────────┴───┴───────────────┴───────────────┴─────────┴──────────┘"
      ]
     },
     "execution_count": 28,
     "metadata": {},
     "output_type": "execute_result"
    }
   ],
   "source": [
    "# with_columns\n",
    "lazy_df.with_columns(pl.col(\"Annual_Premium\")==2630.0).collect()"
   ]
  },
  {
   "cell_type": "code",
   "execution_count": 33,
   "id": "d6c512e3-380f-4b93-b85e-fb10c6d30569",
   "metadata": {},
   "outputs": [
    {
     "data": {
      "text/html": [
       "<div><style>\n",
       ".dataframe > thead > tr,\n",
       ".dataframe > tbody > tr {\n",
       "  text-align: right;\n",
       "  white-space: pre-wrap;\n",
       "}\n",
       "</style>\n",
       "<small>shape: (5_276_664, 3)</small><table border=\"1\" class=\"dataframe\"><thead><tr><th>id</th><th>Male</th><th>Female</th></tr><tr><td>i64</td><td>f64</td><td>f64</td></tr></thead><tbody><tr><td>2</td><td>null</td><td>76086.0</td></tr><tr><td>3</td><td>null</td><td>5260.0</td></tr><tr><td>4</td><td>null</td><td>63902.0</td></tr><tr><td>5</td><td>null</td><td>56300.0</td></tr><tr><td>7</td><td>null</td><td>81318.0</td></tr><tr><td>&hellip;</td><td>&hellip;</td><td>&hellip;</td></tr><tr><td>11504790</td><td>null</td><td>76194.0</td></tr><tr><td>11504791</td><td>null</td><td>5260.0</td></tr><tr><td>11504794</td><td>null</td><td>59018.0</td></tr><tr><td>11504795</td><td>null</td><td>5260.0</td></tr><tr><td>11504796</td><td>null</td><td>96886.0</td></tr></tbody></table></div>"
      ],
      "text/plain": [
       "shape: (5_276_664, 3)\n",
       "┌──────────┬──────┬─────────┐\n",
       "│ id       ┆ Male ┆ Female  │\n",
       "│ ---      ┆ ---  ┆ ---     │\n",
       "│ i64      ┆ f64  ┆ f64     │\n",
       "╞══════════╪══════╪═════════╡\n",
       "│ 2        ┆ null ┆ 76086.0 │\n",
       "│ 3        ┆ null ┆ 5260.0  │\n",
       "│ 4        ┆ null ┆ 63902.0 │\n",
       "│ 5        ┆ null ┆ 56300.0 │\n",
       "│ 7        ┆ null ┆ 81318.0 │\n",
       "│ …        ┆ …    ┆ …       │\n",
       "│ 11504790 ┆ null ┆ 76194.0 │\n",
       "│ 11504791 ┆ null ┆ 5260.0  │\n",
       "│ 11504794 ┆ null ┆ 59018.0 │\n",
       "│ 11504795 ┆ null ┆ 5260.0  │\n",
       "│ 11504796 ┆ null ┆ 96886.0 │\n",
       "└──────────┴──────┴─────────┘"
      ]
     },
     "execution_count": 33,
     "metadata": {},
     "output_type": "execute_result"
    }
   ],
   "source": [
    "# Dealing with operations not in Lazy Dataframe\n",
    "lazy_df.with_columns(\n",
    "    (2 * pl.col(\"Annual_Premium\")).alias(\"double_premium\")\n",
    ").collect().pivot(\n",
    "    index=\"id\", \n",
    "    on=\"Gender\", \n",
    "    values=\"double_premium\", \n",
    "    aggregate_function=\"first\"\n",
    ").lazy().filter(\n",
    "    pl.col(\"Male\").is_null()\n",
    ").collect()\n"
   ]
  },
  {
   "cell_type": "code",
   "execution_count": 39,
   "id": "340e03d2-19ae-4771-ba50-8d74e7bff2d0",
   "metadata": {},
   "outputs": [
    {
     "data": {
      "text/plain": [
       "'FILTER [(col(\"Gender\")) == (String(Male))] FROM\\n   WITH_COLUMNS:\\n   [col(\"Annual_Premium\").str.uppercase()] \\n    DF [\"id\", \"Gender\", \"Age\", \"Driving_License\"]; PROJECT */12 COLUMNS; SELECTION: None'"
      ]
     },
     "execution_count": 39,
     "metadata": {},
     "output_type": "execute_result"
    }
   ],
   "source": [
    "q1 = (lazy_df.with_columns(pl.col(\"Annual_Premium\").str.to_uppercase()).filter(pl.col(\"Gender\")==\"Male\"))\n",
    "q1.explain(optimized=False)"
   ]
  },
  {
   "cell_type": "code",
   "execution_count": 40,
   "id": "74d43368-9f5b-455b-a93f-e587a388771b",
   "metadata": {},
   "outputs": [
    {
     "data": {
      "text/plain": [
       "' WITH_COLUMNS:\\n [col(\"Annual_Premium\").str.uppercase()] \\n  DF [\"id\", \"Gender\", \"Age\", \"Driving_License\"]; PROJECT */12 COLUMNS; SELECTION: [(col(\"Gender\")) == (String(Male))]'"
      ]
     },
     "execution_count": 40,
     "metadata": {},
     "output_type": "execute_result"
    }
   ],
   "source": [
    "q1.explain()"
   ]
  },
  {
   "cell_type": "markdown",
   "id": "1966c3e3-9945-4fc5-aa77-ef038f503d5d",
   "metadata": {},
   "source": [
    "# Attribute Methods"
   ]
  },
  {
   "cell_type": "code",
   "execution_count": 46,
   "id": "a1fac005-e5ff-4e5b-b8e1-cc7686917891",
   "metadata": {},
   "outputs": [
    {
     "name": "stderr",
     "output_type": "stream",
     "text": [
      "C:\\Users\\Saurav\\AppData\\Local\\Temp\\ipykernel_4976\\4236129083.py:1: PerformanceWarning: Determining the column names of a LazyFrame requires resolving its schema, which is a potentially expensive operation. Use `LazyFrame.collect_schema().names()` to get the column names without this warning.\n",
      "  lazy_df.columns\n"
     ]
    },
    {
     "data": {
      "text/plain": [
       "['id',\n",
       " 'Gender',\n",
       " 'Age',\n",
       " 'Driving_License',\n",
       " 'Region_Code',\n",
       " 'Previously_Insured',\n",
       " 'Vehicle_Age',\n",
       " 'Vehicle_Damage',\n",
       " 'Annual_Premium',\n",
       " 'Policy_Sales_Channel',\n",
       " 'Vintage',\n",
       " 'Response']"
      ]
     },
     "execution_count": 46,
     "metadata": {},
     "output_type": "execute_result"
    }
   ],
   "source": [
    "# columns method \n",
    "lazy_df.columns"
   ]
  },
  {
   "cell_type": "code",
   "execution_count": 48,
   "id": "80550e61-035f-4433-b53d-d41a7a81a4f2",
   "metadata": {},
   "outputs": [
    {
     "name": "stderr",
     "output_type": "stream",
     "text": [
      "C:\\Users\\Saurav\\AppData\\Local\\Temp\\ipykernel_4976\\2561509185.py:1: PerformanceWarning: Determining the data types of a LazyFrame requires resolving its schema, which is a potentially expensive operation. Use `LazyFrame.collect_schema().dtypes()` to get the data types without this warning.\n",
      "  lazy_df.dtypes\n"
     ]
    },
    {
     "data": {
      "text/plain": [
       "[Int64,\n",
       " String,\n",
       " Int64,\n",
       " Int64,\n",
       " Float64,\n",
       " Int64,\n",
       " String,\n",
       " String,\n",
       " Float64,\n",
       " Float64,\n",
       " Int64,\n",
       " Int64]"
      ]
     },
     "execution_count": 48,
     "metadata": {},
     "output_type": "execute_result"
    }
   ],
   "source": [
    "# polars.LazyFrame.dtypes\n",
    "lazy_df.dtypes"
   ]
  },
  {
   "cell_type": "code",
   "execution_count": 49,
   "id": "d430ee43-f165-40c4-8fb2-3522bb83d7c2",
   "metadata": {},
   "outputs": [
    {
     "name": "stderr",
     "output_type": "stream",
     "text": [
      "C:\\Users\\Saurav\\AppData\\Local\\Temp\\ipykernel_4976\\3478855764.py:2: PerformanceWarning: Resolving the schema of a LazyFrame is a potentially expensive operation. Use `LazyFrame.collect_schema()` to get the schema without this warning.\n",
      "  lazy_df.schema\n"
     ]
    },
    {
     "data": {
      "text/plain": [
       "Schema([('id', Int64),\n",
       "        ('Gender', String),\n",
       "        ('Age', Int64),\n",
       "        ('Driving_License', Int64),\n",
       "        ('Region_Code', Float64),\n",
       "        ('Previously_Insured', Int64),\n",
       "        ('Vehicle_Age', String),\n",
       "        ('Vehicle_Damage', String),\n",
       "        ('Annual_Premium', Float64),\n",
       "        ('Policy_Sales_Channel', Float64),\n",
       "        ('Vintage', Int64),\n",
       "        ('Response', Int64)])"
      ]
     },
     "execution_count": 49,
     "metadata": {},
     "output_type": "execute_result"
    }
   ],
   "source": [
    "# polars.LazyFrame.schema\n",
    "lazy_df.schema"
   ]
  },
  {
   "cell_type": "code",
   "execution_count": 50,
   "id": "8b324ceb-2c2a-48a7-9d2c-c1eca23fbb3f",
   "metadata": {},
   "outputs": [
    {
     "name": "stderr",
     "output_type": "stream",
     "text": [
      "C:\\Users\\Saurav\\AppData\\Local\\Temp\\ipykernel_4976\\382485747.py:2: PerformanceWarning: Determining the width of a LazyFrame requires resolving its schema, which is a potentially expensive operation. Use `LazyFrame.collect_schema().len()` to get the width without this warning.\n",
      "  lazy_df.width\n"
     ]
    },
    {
     "data": {
      "text/plain": [
       "12"
      ]
     },
     "execution_count": 50,
     "metadata": {},
     "output_type": "execute_result"
    }
   ],
   "source": [
    "# polars.LazyFrame.width\n",
    "lazy_df.width"
   ]
  },
  {
   "cell_type": "markdown",
   "id": "eef4137a-d2a0-45a2-bf2a-108eae750bd1",
   "metadata": {},
   "source": [
    "# Descriptive Methods "
   ]
  },
  {
   "cell_type": "code",
   "execution_count": 51,
   "id": "c0d32188-da79-4133-9a5f-3402fefaae09",
   "metadata": {},
   "outputs": [
    {
     "data": {
      "text/html": [
       "<div><style>\n",
       ".dataframe > thead > tr,\n",
       ".dataframe > tbody > tr {\n",
       "  text-align: right;\n",
       "  white-space: pre-wrap;\n",
       "}\n",
       "</style>\n",
       "<small>shape: (9, 13)</small><table border=\"1\" class=\"dataframe\"><thead><tr><th>statistic</th><th>id</th><th>Gender</th><th>Age</th><th>Driving_License</th><th>Region_Code</th><th>Previously_Insured</th><th>Vehicle_Age</th><th>Vehicle_Damage</th><th>Annual_Premium</th><th>Policy_Sales_Channel</th><th>Vintage</th><th>Response</th></tr><tr><td>str</td><td>f64</td><td>str</td><td>f64</td><td>f64</td><td>f64</td><td>f64</td><td>str</td><td>str</td><td>f64</td><td>f64</td><td>f64</td><td>f64</td></tr></thead><tbody><tr><td>&quot;count&quot;</td><td>1.1504798e7</td><td>&quot;11504798&quot;</td><td>1.1504798e7</td><td>1.1504798e7</td><td>1.1504798e7</td><td>1.1504798e7</td><td>&quot;11504798&quot;</td><td>&quot;11504798&quot;</td><td>1.1504798e7</td><td>1.1504798e7</td><td>1.1504798e7</td><td>1.1504798e7</td></tr><tr><td>&quot;null_count&quot;</td><td>0.0</td><td>&quot;0&quot;</td><td>0.0</td><td>0.0</td><td>0.0</td><td>0.0</td><td>&quot;0&quot;</td><td>&quot;0&quot;</td><td>0.0</td><td>0.0</td><td>0.0</td><td>0.0</td></tr><tr><td>&quot;mean&quot;</td><td>5752398.5</td><td>null</td><td>38.383563</td><td>0.998022</td><td>26.41869</td><td>0.462997</td><td>null</td><td>null</td><td>30461.370411</td><td>112.425442</td><td>163.897744</td><td>0.122997</td></tr><tr><td>&quot;std&quot;</td><td>3.3211e6</td><td>null</td><td>14.993459</td><td>0.044431</td><td>12.99159</td><td>0.498629</td><td>null</td><td>null</td><td>16454.745205</td><td>54.035708</td><td>79.979531</td><td>0.328434</td></tr><tr><td>&quot;min&quot;</td><td>0.0</td><td>&quot;Female&quot;</td><td>20.0</td><td>0.0</td><td>0.0</td><td>0.0</td><td>&quot;1-2 Year&quot;</td><td>&quot;No&quot;</td><td>2630.0</td><td>1.0</td><td>10.0</td><td>0.0</td></tr><tr><td>&quot;25%&quot;</td><td>2.876199e6</td><td>null</td><td>24.0</td><td>1.0</td><td>15.0</td><td>0.0</td><td>null</td><td>null</td><td>25277.0</td><td>29.0</td><td>99.0</td><td>0.0</td></tr><tr><td>&quot;50%&quot;</td><td>5.752399e6</td><td>null</td><td>36.0</td><td>1.0</td><td>28.0</td><td>0.0</td><td>null</td><td>null</td><td>31824.0</td><td>151.0</td><td>166.0</td><td>0.0</td></tr><tr><td>&quot;75%&quot;</td><td>8.628598e6</td><td>null</td><td>49.0</td><td>1.0</td><td>35.0</td><td>1.0</td><td>null</td><td>null</td><td>39451.0</td><td>152.0</td><td>232.0</td><td>0.0</td></tr><tr><td>&quot;max&quot;</td><td>1.1504797e7</td><td>&quot;Male&quot;</td><td>85.0</td><td>1.0</td><td>52.0</td><td>1.0</td><td>&quot;&gt; 2 Years&quot;</td><td>&quot;Yes&quot;</td><td>540165.0</td><td>163.0</td><td>299.0</td><td>1.0</td></tr></tbody></table></div>"
      ],
      "text/plain": [
       "shape: (9, 13)\n",
       "┌───────────┬───────────┬──────────┬───────────┬───┬───────────┬───────────┬───────────┬───────────┐\n",
       "│ statistic ┆ id        ┆ Gender   ┆ Age       ┆ … ┆ Annual_Pr ┆ Policy_Sa ┆ Vintage   ┆ Response  │\n",
       "│ ---       ┆ ---       ┆ ---      ┆ ---       ┆   ┆ emium     ┆ les_Chann ┆ ---       ┆ ---       │\n",
       "│ str       ┆ f64       ┆ str      ┆ f64       ┆   ┆ ---       ┆ el        ┆ f64       ┆ f64       │\n",
       "│           ┆           ┆          ┆           ┆   ┆ f64       ┆ ---       ┆           ┆           │\n",
       "│           ┆           ┆          ┆           ┆   ┆           ┆ f64       ┆           ┆           │\n",
       "╞═══════════╪═══════════╪══════════╪═══════════╪═══╪═══════════╪═══════════╪═══════════╪═══════════╡\n",
       "│ count     ┆ 1.1504798 ┆ 11504798 ┆ 1.1504798 ┆ … ┆ 1.1504798 ┆ 1.1504798 ┆ 1.1504798 ┆ 1.1504798 │\n",
       "│           ┆ e7        ┆          ┆ e7        ┆   ┆ e7        ┆ e7        ┆ e7        ┆ e7        │\n",
       "│ null_coun ┆ 0.0       ┆ 0        ┆ 0.0       ┆ … ┆ 0.0       ┆ 0.0       ┆ 0.0       ┆ 0.0       │\n",
       "│ t         ┆           ┆          ┆           ┆   ┆           ┆           ┆           ┆           │\n",
       "│ mean      ┆ 5752398.5 ┆ null     ┆ 38.383563 ┆ … ┆ 30461.370 ┆ 112.42544 ┆ 163.89774 ┆ 0.122997  │\n",
       "│           ┆           ┆          ┆           ┆   ┆ 411       ┆ 2         ┆ 4         ┆           │\n",
       "│ std       ┆ 3.3211e6  ┆ null     ┆ 14.993459 ┆ … ┆ 16454.745 ┆ 54.035708 ┆ 79.979531 ┆ 0.328434  │\n",
       "│           ┆           ┆          ┆           ┆   ┆ 205       ┆           ┆           ┆           │\n",
       "│ min       ┆ 0.0       ┆ Female   ┆ 20.0      ┆ … ┆ 2630.0    ┆ 1.0       ┆ 10.0      ┆ 0.0       │\n",
       "│ 25%       ┆ 2.876199e ┆ null     ┆ 24.0      ┆ … ┆ 25277.0   ┆ 29.0      ┆ 99.0      ┆ 0.0       │\n",
       "│           ┆ 6         ┆          ┆           ┆   ┆           ┆           ┆           ┆           │\n",
       "│ 50%       ┆ 5.752399e ┆ null     ┆ 36.0      ┆ … ┆ 31824.0   ┆ 151.0     ┆ 166.0     ┆ 0.0       │\n",
       "│           ┆ 6         ┆          ┆           ┆   ┆           ┆           ┆           ┆           │\n",
       "│ 75%       ┆ 8.628598e ┆ null     ┆ 49.0      ┆ … ┆ 39451.0   ┆ 152.0     ┆ 232.0     ┆ 0.0       │\n",
       "│           ┆ 6         ┆          ┆           ┆   ┆           ┆           ┆           ┆           │\n",
       "│ max       ┆ 1.1504797 ┆ Male     ┆ 85.0      ┆ … ┆ 540165.0  ┆ 163.0     ┆ 299.0     ┆ 1.0       │\n",
       "│           ┆ e7        ┆          ┆           ┆   ┆           ┆           ┆           ┆           │\n",
       "└───────────┴───────────┴──────────┴───────────┴───┴───────────┴───────────┴───────────┴───────────┘"
      ]
     },
     "execution_count": 51,
     "metadata": {},
     "output_type": "execute_result"
    }
   ],
   "source": [
    "# polars.LazyFrame.describe\n",
    "lazy_df.describe()"
   ]
  },
  {
   "cell_type": "markdown",
   "id": "cb1507b2-d4bc-4433-b7c7-6060be7dfadd",
   "metadata": {},
   "source": [
    "# Aggregate Methods"
   ]
  },
  {
   "cell_type": "code",
   "execution_count": 54,
   "id": "a6cf3a0f-4829-4ee6-b301-794e6c55fff9",
   "metadata": {},
   "outputs": [
    {
     "data": {
      "text/html": [
       "<div><style>\n",
       ".dataframe > thead > tr,\n",
       ".dataframe > tbody > tr {\n",
       "  text-align: right;\n",
       "  white-space: pre-wrap;\n",
       "}\n",
       "</style>\n",
       "<small>shape: (1, 12)</small><table border=\"1\" class=\"dataframe\"><thead><tr><th>id</th><th>Gender</th><th>Age</th><th>Driving_License</th><th>Region_Code</th><th>Previously_Insured</th><th>Vehicle_Age</th><th>Vehicle_Damage</th><th>Annual_Premium</th><th>Policy_Sales_Channel</th><th>Vintage</th><th>Response</th></tr><tr><td>u32</td><td>u32</td><td>u32</td><td>u32</td><td>u32</td><td>u32</td><td>u32</td><td>u32</td><td>u32</td><td>u32</td><td>u32</td><td>u32</td></tr></thead><tbody><tr><td>11504798</td><td>11504798</td><td>11504798</td><td>11504798</td><td>11504798</td><td>11504798</td><td>11504798</td><td>11504798</td><td>11504798</td><td>11504798</td><td>11504798</td><td>11504798</td></tr></tbody></table></div>"
      ],
      "text/plain": [
       "shape: (1, 12)\n",
       "┌──────────┬──────────┬──────────┬─────────────┬───┬────────────┬────────────┬──────────┬──────────┐\n",
       "│ id       ┆ Gender   ┆ Age      ┆ Driving_Lic ┆ … ┆ Annual_Pre ┆ Policy_Sal ┆ Vintage  ┆ Response │\n",
       "│ ---      ┆ ---      ┆ ---      ┆ ense        ┆   ┆ mium       ┆ es_Channel ┆ ---      ┆ ---      │\n",
       "│ u32      ┆ u32      ┆ u32      ┆ ---         ┆   ┆ ---        ┆ ---        ┆ u32      ┆ u32      │\n",
       "│          ┆          ┆          ┆ u32         ┆   ┆ u32        ┆ u32        ┆          ┆          │\n",
       "╞══════════╪══════════╪══════════╪═════════════╪═══╪════════════╪════════════╪══════════╪══════════╡\n",
       "│ 11504798 ┆ 11504798 ┆ 11504798 ┆ 11504798    ┆ … ┆ 11504798   ┆ 11504798   ┆ 11504798 ┆ 11504798 │\n",
       "└──────────┴──────────┴──────────┴─────────────┴───┴────────────┴────────────┴──────────┴──────────┘"
      ]
     },
     "execution_count": 54,
     "metadata": {},
     "output_type": "execute_result"
    }
   ],
   "source": [
    "# polars.LazyFrame.count\n",
    "\n",
    "lazy_df.count().collect()"
   ]
  },
  {
   "cell_type": "code",
   "execution_count": 55,
   "id": "81482473-8e5f-4d6f-8f6a-f9e118d37db0",
   "metadata": {},
   "outputs": [
    {
     "data": {
      "text/html": [
       "<div><style>\n",
       ".dataframe > thead > tr,\n",
       ".dataframe > tbody > tr {\n",
       "  text-align: right;\n",
       "  white-space: pre-wrap;\n",
       "}\n",
       "</style>\n",
       "<small>shape: (1, 12)</small><table border=\"1\" class=\"dataframe\"><thead><tr><th>id</th><th>Gender</th><th>Age</th><th>Driving_License</th><th>Region_Code</th><th>Previously_Insured</th><th>Vehicle_Age</th><th>Vehicle_Damage</th><th>Annual_Premium</th><th>Policy_Sales_Channel</th><th>Vintage</th><th>Response</th></tr><tr><td>i64</td><td>str</td><td>i64</td><td>i64</td><td>f64</td><td>i64</td><td>str</td><td>str</td><td>f64</td><td>f64</td><td>i64</td><td>i64</td></tr></thead><tbody><tr><td>11504797</td><td>&quot;Male&quot;</td><td>85</td><td>1</td><td>52.0</td><td>1</td><td>&quot;&gt; 2 Years&quot;</td><td>&quot;Yes&quot;</td><td>540165.0</td><td>163.0</td><td>299</td><td>1</td></tr></tbody></table></div>"
      ],
      "text/plain": [
       "shape: (1, 12)\n",
       "┌──────────┬────────┬─────┬───────────────┬───┬───────────────┬───────────────┬─────────┬──────────┐\n",
       "│ id       ┆ Gender ┆ Age ┆ Driving_Licen ┆ … ┆ Annual_Premiu ┆ Policy_Sales_ ┆ Vintage ┆ Response │\n",
       "│ ---      ┆ ---    ┆ --- ┆ se            ┆   ┆ m             ┆ Channel       ┆ ---     ┆ ---      │\n",
       "│ i64      ┆ str    ┆ i64 ┆ ---           ┆   ┆ ---           ┆ ---           ┆ i64     ┆ i64      │\n",
       "│          ┆        ┆     ┆ i64           ┆   ┆ f64           ┆ f64           ┆         ┆          │\n",
       "╞══════════╪════════╪═════╪═══════════════╪═══╪═══════════════╪═══════════════╪═════════╪══════════╡\n",
       "│ 11504797 ┆ Male   ┆ 85  ┆ 1             ┆ … ┆ 540165.0      ┆ 163.0         ┆ 299     ┆ 1        │\n",
       "└──────────┴────────┴─────┴───────────────┴───┴───────────────┴───────────────┴─────────┴──────────┘"
      ]
     },
     "execution_count": 55,
     "metadata": {},
     "output_type": "execute_result"
    }
   ],
   "source": [
    "# polars.LazyFrame.max\n",
    "\n",
    "lazy_df.max().collect()"
   ]
  },
  {
   "cell_type": "code",
   "execution_count": 56,
   "id": "2ce2b981-b605-4269-81f8-2ffdfcef2f36",
   "metadata": {},
   "outputs": [
    {
     "data": {
      "text/html": [
       "<div><style>\n",
       ".dataframe > thead > tr,\n",
       ".dataframe > tbody > tr {\n",
       "  text-align: right;\n",
       "  white-space: pre-wrap;\n",
       "}\n",
       "</style>\n",
       "<small>shape: (1, 12)</small><table border=\"1\" class=\"dataframe\"><thead><tr><th>id</th><th>Gender</th><th>Age</th><th>Driving_License</th><th>Region_Code</th><th>Previously_Insured</th><th>Vehicle_Age</th><th>Vehicle_Damage</th><th>Annual_Premium</th><th>Policy_Sales_Channel</th><th>Vintage</th><th>Response</th></tr><tr><td>f64</td><td>str</td><td>f64</td><td>f64</td><td>f64</td><td>f64</td><td>str</td><td>str</td><td>f64</td><td>f64</td><td>f64</td><td>f64</td></tr></thead><tbody><tr><td>5752398.5</td><td>null</td><td>36.0</td><td>1.0</td><td>28.0</td><td>0.0</td><td>null</td><td>null</td><td>31824.0</td><td>151.0</td><td>166.0</td><td>0.0</td></tr></tbody></table></div>"
      ],
      "text/plain": [
       "shape: (1, 12)\n",
       "┌───────────┬────────┬──────┬───────────────┬───┬──────────────┬──────────────┬─────────┬──────────┐\n",
       "│ id        ┆ Gender ┆ Age  ┆ Driving_Licen ┆ … ┆ Annual_Premi ┆ Policy_Sales ┆ Vintage ┆ Response │\n",
       "│ ---       ┆ ---    ┆ ---  ┆ se            ┆   ┆ um           ┆ _Channel     ┆ ---     ┆ ---      │\n",
       "│ f64       ┆ str    ┆ f64  ┆ ---           ┆   ┆ ---          ┆ ---          ┆ f64     ┆ f64      │\n",
       "│           ┆        ┆      ┆ f64           ┆   ┆ f64          ┆ f64          ┆         ┆          │\n",
       "╞═══════════╪════════╪══════╪═══════════════╪═══╪══════════════╪══════════════╪═════════╪══════════╡\n",
       "│ 5752398.5 ┆ null   ┆ 36.0 ┆ 1.0           ┆ … ┆ 31824.0      ┆ 151.0        ┆ 166.0   ┆ 0.0      │\n",
       "└───────────┴────────┴──────┴───────────────┴───┴──────────────┴──────────────┴─────────┴──────────┘"
      ]
     },
     "execution_count": 56,
     "metadata": {},
     "output_type": "execute_result"
    }
   ],
   "source": [
    "# polars.LazyFrame.median\n",
    "lazy_df.median().collect()"
   ]
  },
  {
   "cell_type": "code",
   "execution_count": 57,
   "id": "2806e175-f10f-4164-b136-efe8abfdfe40",
   "metadata": {},
   "outputs": [
    {
     "data": {
      "text/html": [
       "<div><style>\n",
       ".dataframe > thead > tr,\n",
       ".dataframe > tbody > tr {\n",
       "  text-align: right;\n",
       "  white-space: pre-wrap;\n",
       "}\n",
       "</style>\n",
       "<small>shape: (1, 12)</small><table border=\"1\" class=\"dataframe\"><thead><tr><th>id</th><th>Gender</th><th>Age</th><th>Driving_License</th><th>Region_Code</th><th>Previously_Insured</th><th>Vehicle_Age</th><th>Vehicle_Damage</th><th>Annual_Premium</th><th>Policy_Sales_Channel</th><th>Vintage</th><th>Response</th></tr><tr><td>u32</td><td>u32</td><td>u32</td><td>u32</td><td>u32</td><td>u32</td><td>u32</td><td>u32</td><td>u32</td><td>u32</td><td>u32</td><td>u32</td></tr></thead><tbody><tr><td>0</td><td>0</td><td>0</td><td>0</td><td>0</td><td>0</td><td>0</td><td>0</td><td>0</td><td>0</td><td>0</td><td>0</td></tr></tbody></table></div>"
      ],
      "text/plain": [
       "shape: (1, 12)\n",
       "┌─────┬────────┬─────┬─────────────────┬───┬────────────────┬─────────────────┬─────────┬──────────┐\n",
       "│ id  ┆ Gender ┆ Age ┆ Driving_License ┆ … ┆ Annual_Premium ┆ Policy_Sales_Ch ┆ Vintage ┆ Response │\n",
       "│ --- ┆ ---    ┆ --- ┆ ---             ┆   ┆ ---            ┆ annel           ┆ ---     ┆ ---      │\n",
       "│ u32 ┆ u32    ┆ u32 ┆ u32             ┆   ┆ u32            ┆ ---             ┆ u32     ┆ u32      │\n",
       "│     ┆        ┆     ┆                 ┆   ┆                ┆ u32             ┆         ┆          │\n",
       "╞═════╪════════╪═════╪═════════════════╪═══╪════════════════╪═════════════════╪═════════╪══════════╡\n",
       "│ 0   ┆ 0      ┆ 0   ┆ 0               ┆ … ┆ 0              ┆ 0               ┆ 0       ┆ 0        │\n",
       "└─────┴────────┴─────┴─────────────────┴───┴────────────────┴─────────────────┴─────────┴──────────┘"
      ]
     },
     "execution_count": 57,
     "metadata": {},
     "output_type": "execute_result"
    }
   ],
   "source": [
    "# polars.LazyFrame.null_count\n",
    "\n",
    "lazy_df.null_count().collect()"
   ]
  },
  {
   "cell_type": "code",
   "execution_count": 58,
   "id": "cc0610b0-1ae3-430a-87d4-c9c81f162c0b",
   "metadata": {},
   "outputs": [
    {
     "data": {
      "text/html": [
       "<div><style>\n",
       ".dataframe > thead > tr,\n",
       ".dataframe > tbody > tr {\n",
       "  text-align: right;\n",
       "  white-space: pre-wrap;\n",
       "}\n",
       "</style>\n",
       "<small>shape: (1, 12)</small><table border=\"1\" class=\"dataframe\"><thead><tr><th>id</th><th>Gender</th><th>Age</th><th>Driving_License</th><th>Region_Code</th><th>Previously_Insured</th><th>Vehicle_Age</th><th>Vehicle_Damage</th><th>Annual_Premium</th><th>Policy_Sales_Channel</th><th>Vintage</th><th>Response</th></tr><tr><td>i64</td><td>str</td><td>i64</td><td>i64</td><td>f64</td><td>i64</td><td>str</td><td>str</td><td>f64</td><td>f64</td><td>i64</td><td>i64</td></tr></thead><tbody><tr><td>66180182758003</td><td>null</td><td>441595143</td><td>11482041</td><td>3.0394e8</td><td>5326682</td><td>null</td><td>null</td><td>3.5045e11</td><td>1.2934e9</td><td>1885610436</td><td>1415059</td></tr></tbody></table></div>"
      ],
      "text/plain": [
       "shape: (1, 12)\n",
       "┌────────────┬────────┬───────────┬────────────┬───┬────────────┬───────────┬───────────┬──────────┐\n",
       "│ id         ┆ Gender ┆ Age       ┆ Driving_Li ┆ … ┆ Annual_Pre ┆ Policy_Sa ┆ Vintage   ┆ Response │\n",
       "│ ---        ┆ ---    ┆ ---       ┆ cense      ┆   ┆ mium       ┆ les_Chann ┆ ---       ┆ ---      │\n",
       "│ i64        ┆ str    ┆ i64       ┆ ---        ┆   ┆ ---        ┆ el        ┆ i64       ┆ i64      │\n",
       "│            ┆        ┆           ┆ i64        ┆   ┆ f64        ┆ ---       ┆           ┆          │\n",
       "│            ┆        ┆           ┆            ┆   ┆            ┆ f64       ┆           ┆          │\n",
       "╞════════════╪════════╪═══════════╪════════════╪═══╪════════════╪═══════════╪═══════════╪══════════╡\n",
       "│ 6618018275 ┆ null   ┆ 441595143 ┆ 11482041   ┆ … ┆ 3.5045e11  ┆ 1.2934e9  ┆ 188561043 ┆ 1415059  │\n",
       "│ 8003       ┆        ┆           ┆            ┆   ┆            ┆           ┆ 6         ┆          │\n",
       "└────────────┴────────┴───────────┴────────────┴───┴────────────┴───────────┴───────────┴──────────┘"
      ]
     },
     "execution_count": 58,
     "metadata": {},
     "output_type": "execute_result"
    }
   ],
   "source": [
    "# polars.LazyFrame.sum\n",
    "lazy_df.sum().collect()"
   ]
  },
  {
   "cell_type": "code",
   "execution_count": 59,
   "id": "71cfcc00-fe01-407d-92ac-c30916e010be",
   "metadata": {},
   "outputs": [
    {
     "data": {
      "text/html": [
       "<div><style>\n",
       ".dataframe > thead > tr,\n",
       ".dataframe > tbody > tr {\n",
       "  text-align: right;\n",
       "  white-space: pre-wrap;\n",
       "}\n",
       "</style>\n",
       "<small>shape: (1, 12)</small><table border=\"1\" class=\"dataframe\"><thead><tr><th>id</th><th>Gender</th><th>Age</th><th>Driving_License</th><th>Region_Code</th><th>Previously_Insured</th><th>Vehicle_Age</th><th>Vehicle_Damage</th><th>Annual_Premium</th><th>Policy_Sales_Channel</th><th>Vintage</th><th>Response</th></tr><tr><td>f64</td><td>str</td><td>f64</td><td>f64</td><td>f64</td><td>f64</td><td>str</td><td>str</td><td>f64</td><td>f64</td><td>f64</td><td>f64</td></tr></thead><tbody><tr><td>1.1030e13</td><td>null</td><td>224.803798</td><td>0.001974</td><td>168.781416</td><td>0.248631</td><td>null</td><td>null</td><td>2.7076e8</td><td>2919.857715</td><td>6396.725396</td><td>0.107869</td></tr></tbody></table></div>"
      ],
      "text/plain": [
       "shape: (1, 12)\n",
       "┌───────────┬────────┬────────────┬────────────┬───┬────────────┬───────────┬───────────┬──────────┐\n",
       "│ id        ┆ Gender ┆ Age        ┆ Driving_Li ┆ … ┆ Annual_Pre ┆ Policy_Sa ┆ Vintage   ┆ Response │\n",
       "│ ---       ┆ ---    ┆ ---        ┆ cense      ┆   ┆ mium       ┆ les_Chann ┆ ---       ┆ ---      │\n",
       "│ f64       ┆ str    ┆ f64        ┆ ---        ┆   ┆ ---        ┆ el        ┆ f64       ┆ f64      │\n",
       "│           ┆        ┆            ┆ f64        ┆   ┆ f64        ┆ ---       ┆           ┆          │\n",
       "│           ┆        ┆            ┆            ┆   ┆            ┆ f64       ┆           ┆          │\n",
       "╞═══════════╪════════╪════════════╪════════════╪═══╪════════════╪═══════════╪═══════════╪══════════╡\n",
       "│ 1.1030e13 ┆ null   ┆ 224.803798 ┆ 0.001974   ┆ … ┆ 2.7076e8   ┆ 2919.8577 ┆ 6396.7253 ┆ 0.107869 │\n",
       "│           ┆        ┆            ┆            ┆   ┆            ┆ 15        ┆ 96        ┆          │\n",
       "└───────────┴────────┴────────────┴────────────┴───┴────────────┴───────────┴───────────┴──────────┘"
      ]
     },
     "execution_count": 59,
     "metadata": {},
     "output_type": "execute_result"
    }
   ],
   "source": [
    "# polars.LazyFrame.var\n",
    "\n",
    "lazy_df.var().collect()"
   ]
  },
  {
   "cell_type": "markdown",
   "id": "a6729157-e525-40c5-8e92-2c687cb98334",
   "metadata": {},
   "source": [
    "# GroupBy Methods"
   ]
  },
  {
   "cell_type": "code",
   "execution_count": 61,
   "id": "6e780b96-f47b-489a-8828-03867ea1117e",
   "metadata": {},
   "outputs": [
    {
     "data": {
      "text/html": [
       "<div><style>\n",
       ".dataframe > thead > tr,\n",
       ".dataframe > tbody > tr {\n",
       "  text-align: right;\n",
       "  white-space: pre-wrap;\n",
       "}\n",
       "</style>\n",
       "<small>shape: (2, 2)</small><table border=\"1\" class=\"dataframe\"><thead><tr><th>Gender</th><th>Policy_Sales_Channel</th></tr><tr><td>str</td><td>f64</td></tr></thead><tbody><tr><td>&quot;Male&quot;</td><td>6.64249355e8</td></tr><tr><td>&quot;Female&quot;</td><td>6.29182644e8</td></tr></tbody></table></div>"
      ],
      "text/plain": [
       "shape: (2, 2)\n",
       "┌────────┬──────────────────────┐\n",
       "│ Gender ┆ Policy_Sales_Channel │\n",
       "│ ---    ┆ ---                  │\n",
       "│ str    ┆ f64                  │\n",
       "╞════════╪══════════════════════╡\n",
       "│ Male   ┆ 6.64249355e8         │\n",
       "│ Female ┆ 6.29182644e8         │\n",
       "└────────┴──────────────────────┘"
      ]
     },
     "execution_count": 61,
     "metadata": {},
     "output_type": "execute_result"
    }
   ],
   "source": [
    "# agg\n",
    "lazy_df.group_by(\"Gender\").agg(\n",
    "    pl.col(\"Policy_Sales_Channel\").sum()\n",
    ").collect()  "
   ]
  },
  {
   "cell_type": "code",
   "execution_count": 62,
   "id": "f6ecf27d-6745-46b9-98ff-d8e9392b4182",
   "metadata": {},
   "outputs": [
    {
     "data": {
      "text/html": [
       "<div><style>\n",
       ".dataframe > thead > tr,\n",
       ".dataframe > tbody > tr {\n",
       "  text-align: right;\n",
       "  white-space: pre-wrap;\n",
       "}\n",
       "</style>\n",
       "<small>shape: (2, 12)</small><table border=\"1\" class=\"dataframe\"><thead><tr><th>Gender</th><th>id</th><th>Age</th><th>Driving_License</th><th>Region_Code</th><th>Previously_Insured</th><th>Vehicle_Age</th><th>Vehicle_Damage</th><th>Annual_Premium</th><th>Policy_Sales_Channel</th><th>Vintage</th><th>Response</th></tr><tr><td>str</td><td>list[i64]</td><td>list[i64]</td><td>list[i64]</td><td>list[f64]</td><td>list[i64]</td><td>list[str]</td><td>list[str]</td><td>list[f64]</td><td>list[f64]</td><td>list[i64]</td><td>list[i64]</td></tr></thead><tbody><tr><td>&quot;Male&quot;</td><td>[0, 1, … 11504797]</td><td>[21, 43, … 25]</td><td>[1, 1, … 1]</td><td>[35.0, 28.0, … 28.0]</td><td>[0, 0, … 1]</td><td>[&quot;1-2 Year&quot;, &quot;&gt; 2 Years&quot;, … &quot;&lt; 1 Year&quot;]</td><td>[&quot;Yes&quot;, &quot;Yes&quot;, … &quot;No&quot;]</td><td>[65101.0, 58911.0, … 32855.0]</td><td>[124.0, 26.0, … 152.0]</td><td>[187, 288, … 189]</td><td>[0, 1, … 0]</td></tr><tr><td>&quot;Female&quot;</td><td>[2, 3, … 11504796]</td><td>[25, 35, … 51]</td><td>[1, 1, … 1]</td><td>[14.0, 1.0, … 28.0]</td><td>[1, 0, … 0]</td><td>[&quot;&lt; 1 Year&quot;, &quot;1-2 Year&quot;, … &quot;1-2 Year&quot;]</td><td>[&quot;No&quot;, &quot;Yes&quot;, … &quot;Yes&quot;]</td><td>[38043.0, 2630.0, … 48443.0]</td><td>[152.0, 156.0, … 26.0]</td><td>[254, 76, … 274]</td><td>[0, 0, … 1]</td></tr></tbody></table></div>"
      ],
      "text/plain": [
       "shape: (2, 12)\n",
       "┌────────┬────────────┬────────────┬───────────┬───┬───────────┬───────────┬───────────┬───────────┐\n",
       "│ Gender ┆ id         ┆ Age        ┆ Driving_L ┆ … ┆ Annual_Pr ┆ Policy_Sa ┆ Vintage   ┆ Response  │\n",
       "│ ---    ┆ ---        ┆ ---        ┆ icense    ┆   ┆ emium     ┆ les_Chann ┆ ---       ┆ ---       │\n",
       "│ str    ┆ list[i64]  ┆ list[i64]  ┆ ---       ┆   ┆ ---       ┆ el        ┆ list[i64] ┆ list[i64] │\n",
       "│        ┆            ┆            ┆ list[i64] ┆   ┆ list[f64] ┆ ---       ┆           ┆           │\n",
       "│        ┆            ┆            ┆           ┆   ┆           ┆ list[f64] ┆           ┆           │\n",
       "╞════════╪════════════╪════════════╪═══════════╪═══╪═══════════╪═══════════╪═══════════╪═══════════╡\n",
       "│ Male   ┆ [0, 1, …   ┆ [21, 43, … ┆ [1, 1, …  ┆ … ┆ [65101.0, ┆ [124.0,   ┆ [187,     ┆ [0, 1, …  │\n",
       "│        ┆ 11504797]  ┆ 25]        ┆ 1]        ┆   ┆ 58911.0,  ┆ 26.0, …   ┆ 288, …    ┆ 0]        │\n",
       "│        ┆            ┆            ┆           ┆   ┆ …         ┆ 152.0]    ┆ 189]      ┆           │\n",
       "│        ┆            ┆            ┆           ┆   ┆ 32855.0]  ┆           ┆           ┆           │\n",
       "│ Female ┆ [2, 3, …   ┆ [25, 35, … ┆ [1, 1, …  ┆ … ┆ [38043.0, ┆ [152.0,   ┆ [254, 76, ┆ [0, 0, …  │\n",
       "│        ┆ 11504796]  ┆ 51]        ┆ 1]        ┆   ┆ 2630.0, … ┆ 156.0, …  ┆ … 274]    ┆ 1]        │\n",
       "│        ┆            ┆            ┆           ┆   ┆ 48443.0]  ┆ 26.0]     ┆           ┆           │\n",
       "└────────┴────────────┴────────────┴───────────┴───┴───────────┴───────────┴───────────┴───────────┘"
      ]
     },
     "execution_count": 62,
     "metadata": {},
     "output_type": "execute_result"
    }
   ],
   "source": [
    "# all\n",
    "\n",
    "lazy_df.group_by(\"Gender\", maintain_order=True).all().collect()"
   ]
  },
  {
   "cell_type": "code",
   "execution_count": 63,
   "id": "f67d025d-99f3-4c21-a6ea-c48a065d3de8",
   "metadata": {},
   "outputs": [
    {
     "name": "stderr",
     "output_type": "stream",
     "text": [
      "C:\\Users\\Saurav\\AppData\\Local\\Temp\\ipykernel_4976\\3329059855.py:3: DeprecationWarning: `LazyGroupBy.count` is deprecated. It has been renamed to `len`.\n",
      "  lazy_df.group_by(\"Gender\").count().collect()\n"
     ]
    },
    {
     "data": {
      "text/html": [
       "<div><style>\n",
       ".dataframe > thead > tr,\n",
       ".dataframe > tbody > tr {\n",
       "  text-align: right;\n",
       "  white-space: pre-wrap;\n",
       "}\n",
       "</style>\n",
       "<small>shape: (2, 2)</small><table border=\"1\" class=\"dataframe\"><thead><tr><th>Gender</th><th>count</th></tr><tr><td>str</td><td>u32</td></tr></thead><tbody><tr><td>&quot;Male&quot;</td><td>6228134</td></tr><tr><td>&quot;Female&quot;</td><td>5276664</td></tr></tbody></table></div>"
      ],
      "text/plain": [
       "shape: (2, 2)\n",
       "┌────────┬─────────┐\n",
       "│ Gender ┆ count   │\n",
       "│ ---    ┆ ---     │\n",
       "│ str    ┆ u32     │\n",
       "╞════════╪═════════╡\n",
       "│ Male   ┆ 6228134 │\n",
       "│ Female ┆ 5276664 │\n",
       "└────────┴─────────┘"
      ]
     },
     "execution_count": 63,
     "metadata": {},
     "output_type": "execute_result"
    }
   ],
   "source": [
    "# len method\n",
    "\n",
    "lazy_df.group_by(\"Gender\").count().collect() "
   ]
  },
  {
   "cell_type": "code",
   "execution_count": 64,
   "id": "9d873ee5-82e3-449d-adb1-d914936b0fb0",
   "metadata": {},
   "outputs": [
    {
     "data": {
      "text/html": [
       "<div><style>\n",
       ".dataframe > thead > tr,\n",
       ".dataframe > tbody > tr {\n",
       "  text-align: right;\n",
       "  white-space: pre-wrap;\n",
       "}\n",
       "</style>\n",
       "<small>shape: (2, 12)</small><table border=\"1\" class=\"dataframe\"><thead><tr><th>Gender</th><th>id</th><th>Age</th><th>Driving_License</th><th>Region_Code</th><th>Previously_Insured</th><th>Vehicle_Age</th><th>Vehicle_Damage</th><th>Annual_Premium</th><th>Policy_Sales_Channel</th><th>Vintage</th><th>Response</th></tr><tr><td>str</td><td>i64</td><td>i64</td><td>i64</td><td>f64</td><td>i64</td><td>str</td><td>str</td><td>f64</td><td>f64</td><td>i64</td><td>i64</td></tr></thead><tbody><tr><td>&quot;Male&quot;</td><td>0</td><td>21</td><td>1</td><td>35.0</td><td>0</td><td>&quot;1-2 Year&quot;</td><td>&quot;Yes&quot;</td><td>65101.0</td><td>124.0</td><td>187</td><td>0</td></tr><tr><td>&quot;Female&quot;</td><td>2</td><td>25</td><td>1</td><td>14.0</td><td>1</td><td>&quot;&lt; 1 Year&quot;</td><td>&quot;No&quot;</td><td>38043.0</td><td>152.0</td><td>254</td><td>0</td></tr></tbody></table></div>"
      ],
      "text/plain": [
       "shape: (2, 12)\n",
       "┌────────┬─────┬─────┬─────────────────┬───┬────────────────┬─────────────────┬─────────┬──────────┐\n",
       "│ Gender ┆ id  ┆ Age ┆ Driving_License ┆ … ┆ Annual_Premium ┆ Policy_Sales_Ch ┆ Vintage ┆ Response │\n",
       "│ ---    ┆ --- ┆ --- ┆ ---             ┆   ┆ ---            ┆ annel           ┆ ---     ┆ ---      │\n",
       "│ str    ┆ i64 ┆ i64 ┆ i64             ┆   ┆ f64            ┆ ---             ┆ i64     ┆ i64      │\n",
       "│        ┆     ┆     ┆                 ┆   ┆                ┆ f64             ┆         ┆          │\n",
       "╞════════╪═════╪═════╪═════════════════╪═══╪════════════════╪═════════════════╪═════════╪══════════╡\n",
       "│ Male   ┆ 0   ┆ 21  ┆ 1               ┆ … ┆ 65101.0        ┆ 124.0           ┆ 187     ┆ 0        │\n",
       "│ Female ┆ 2   ┆ 25  ┆ 1               ┆ … ┆ 38043.0        ┆ 152.0           ┆ 254     ┆ 0        │\n",
       "└────────┴─────┴─────┴─────────────────┴───┴────────────────┴─────────────────┴─────────┴──────────┘"
      ]
     },
     "execution_count": 64,
     "metadata": {},
     "output_type": "execute_result"
    }
   ],
   "source": [
    "# first \n",
    "\n",
    "lazy_df.group_by(\"Gender\", maintain_order=True).first().collect()"
   ]
  },
  {
   "cell_type": "code",
   "execution_count": 65,
   "id": "7083873e-ad90-4c4f-8ccb-4f31475d7f37",
   "metadata": {},
   "outputs": [
    {
     "data": {
      "text/html": [
       "<div><style>\n",
       ".dataframe > thead > tr,\n",
       ".dataframe > tbody > tr {\n",
       "  text-align: right;\n",
       "  white-space: pre-wrap;\n",
       "}\n",
       "</style>\n",
       "<small>shape: (2, 12)</small><table border=\"1\" class=\"dataframe\"><thead><tr><th>Gender</th><th>id</th><th>Age</th><th>Driving_License</th><th>Region_Code</th><th>Previously_Insured</th><th>Vehicle_Age</th><th>Vehicle_Damage</th><th>Annual_Premium</th><th>Policy_Sales_Channel</th><th>Vintage</th><th>Response</th></tr><tr><td>str</td><td>u32</td><td>u32</td><td>u32</td><td>u32</td><td>u32</td><td>u32</td><td>u32</td><td>u32</td><td>u32</td><td>u32</td><td>u32</td></tr></thead><tbody><tr><td>&quot;Male&quot;</td><td>6228134</td><td>65</td><td>2</td><td>53</td><td>2</td><td>3</td><td>2</td><td>49023</td><td>151</td><td>290</td><td>2</td></tr><tr><td>&quot;Female&quot;</td><td>5276664</td><td>66</td><td>2</td><td>54</td><td>2</td><td>3</td><td>2</td><td>48170</td><td>151</td><td>290</td><td>2</td></tr></tbody></table></div>"
      ],
      "text/plain": [
       "shape: (2, 12)\n",
       "┌────────┬─────────┬─────┬────────────────┬───┬───────────────┬───────────────┬─────────┬──────────┐\n",
       "│ Gender ┆ id      ┆ Age ┆ Driving_Licens ┆ … ┆ Annual_Premiu ┆ Policy_Sales_ ┆ Vintage ┆ Response │\n",
       "│ ---    ┆ ---     ┆ --- ┆ e              ┆   ┆ m             ┆ Channel       ┆ ---     ┆ ---      │\n",
       "│ str    ┆ u32     ┆ u32 ┆ ---            ┆   ┆ ---           ┆ ---           ┆ u32     ┆ u32      │\n",
       "│        ┆         ┆     ┆ u32            ┆   ┆ u32           ┆ u32           ┆         ┆          │\n",
       "╞════════╪═════════╪═════╪════════════════╪═══╪═══════════════╪═══════════════╪═════════╪══════════╡\n",
       "│ Male   ┆ 6228134 ┆ 65  ┆ 2              ┆ … ┆ 49023         ┆ 151           ┆ 290     ┆ 2        │\n",
       "│ Female ┆ 5276664 ┆ 66  ┆ 2              ┆ … ┆ 48170         ┆ 151           ┆ 290     ┆ 2        │\n",
       "└────────┴─────────┴─────┴────────────────┴───┴───────────────┴───────────────┴─────────┴──────────┘"
      ]
     },
     "execution_count": 65,
     "metadata": {},
     "output_type": "execute_result"
    }
   ],
   "source": [
    "# n_unique\n",
    "\n",
    "lazy_df.group_by(\"Gender\", maintain_order=True).n_unique().collect()\n"
   ]
  },
  {
   "cell_type": "markdown",
   "id": "e0aae5ba-4065-45c3-867c-f2ab4f1f255a",
   "metadata": {},
   "source": [
    "# Manipulation/Selection Methods"
   ]
  },
  {
   "cell_type": "code",
   "execution_count": 66,
   "id": "f9d7838e-c6b2-4cc2-9d8b-6cf45b740e13",
   "metadata": {},
   "outputs": [
    {
     "data": {
      "text/html": [
       "<div><style>\n",
       ".dataframe > thead > tr,\n",
       ".dataframe > tbody > tr {\n",
       "  text-align: right;\n",
       "  white-space: pre-wrap;\n",
       "}\n",
       "</style>\n",
       "<small>shape: (11_504_798, 1)</small><table border=\"1\" class=\"dataframe\"><thead><tr><th>Annual_Premium</th></tr><tr><td>f64</td></tr></thead><tbody><tr><td>65101.0</td></tr><tr><td>58911.0</td></tr><tr><td>38043.0</td></tr><tr><td>2630.0</td></tr><tr><td>31951.0</td></tr><tr><td>&hellip;</td></tr><tr><td>27412.0</td></tr><tr><td>29509.0</td></tr><tr><td>2630.0</td></tr><tr><td>48443.0</td></tr><tr><td>32855.0</td></tr></tbody></table></div>"
      ],
      "text/plain": [
       "shape: (11_504_798, 1)\n",
       "┌────────────────┐\n",
       "│ Annual_Premium │\n",
       "│ ---            │\n",
       "│ f64            │\n",
       "╞════════════════╡\n",
       "│ 65101.0        │\n",
       "│ 58911.0        │\n",
       "│ 38043.0        │\n",
       "│ 2630.0         │\n",
       "│ 31951.0        │\n",
       "│ …              │\n",
       "│ 27412.0        │\n",
       "│ 29509.0        │\n",
       "│ 2630.0         │\n",
       "│ 48443.0        │\n",
       "│ 32855.0        │\n",
       "└────────────────┘"
      ]
     },
     "execution_count": 66,
     "metadata": {},
     "output_type": "execute_result"
    }
   ],
   "source": [
    "# Select \n",
    "\n",
    "lazy_df.select(\"Annual_Premium\").collect()"
   ]
  },
  {
   "cell_type": "code",
   "execution_count": 67,
   "id": "453db06f-7ee8-4440-a84c-77972746ad43",
   "metadata": {},
   "outputs": [
    {
     "data": {
      "text/html": [
       "<div><style>\n",
       ".dataframe > thead > tr,\n",
       ".dataframe > tbody > tr {\n",
       "  text-align: right;\n",
       "  white-space: pre-wrap;\n",
       "}\n",
       "</style>\n",
       "<small>shape: (11_504_798, 2)</small><table border=\"1\" class=\"dataframe\"><thead><tr><th>Annual_Premium</th><th>Policy_Sales_Channel</th></tr><tr><td>f64</td><td>f64</td></tr></thead><tbody><tr><td>65101.0</td><td>124.0</td></tr><tr><td>58911.0</td><td>26.0</td></tr><tr><td>38043.0</td><td>152.0</td></tr><tr><td>2630.0</td><td>156.0</td></tr><tr><td>31951.0</td><td>152.0</td></tr><tr><td>&hellip;</td><td>&hellip;</td></tr><tr><td>27412.0</td><td>26.0</td></tr><tr><td>29509.0</td><td>152.0</td></tr><tr><td>2630.0</td><td>152.0</td></tr><tr><td>48443.0</td><td>26.0</td></tr><tr><td>32855.0</td><td>152.0</td></tr></tbody></table></div>"
      ],
      "text/plain": [
       "shape: (11_504_798, 2)\n",
       "┌────────────────┬──────────────────────┐\n",
       "│ Annual_Premium ┆ Policy_Sales_Channel │\n",
       "│ ---            ┆ ---                  │\n",
       "│ f64            ┆ f64                  │\n",
       "╞════════════════╪══════════════════════╡\n",
       "│ 65101.0        ┆ 124.0                │\n",
       "│ 58911.0        ┆ 26.0                 │\n",
       "│ 38043.0        ┆ 152.0                │\n",
       "│ 2630.0         ┆ 156.0                │\n",
       "│ 31951.0        ┆ 152.0                │\n",
       "│ …              ┆ …                    │\n",
       "│ 27412.0        ┆ 26.0                 │\n",
       "│ 29509.0        ┆ 152.0                │\n",
       "│ 2630.0         ┆ 152.0                │\n",
       "│ 48443.0        ┆ 26.0                 │\n",
       "│ 32855.0        ┆ 152.0                │\n",
       "└────────────────┴──────────────────────┘"
      ]
     },
     "execution_count": 67,
     "metadata": {},
     "output_type": "execute_result"
    }
   ],
   "source": [
    "lazy_df.select([\"Annual_Premium\",\"Policy_Sales_Channel\"]).collect()"
   ]
  },
  {
   "cell_type": "code",
   "execution_count": 69,
   "id": "3c92eac3-e3f5-4eef-a21e-5eb6e48b7c92",
   "metadata": {},
   "outputs": [],
   "source": [
    "# Join \n",
    "\n",
    "df1 = pl.LazyFrame(\n",
    "    {\n",
    "    \"Countries\" : [\"INDIA\",\"PAKISTAN\",\"AUSTRALIA\",\"ENGLAND\"],\n",
    "    \"Matches\" : [80,42,55,32],\n",
    "    \"Ranking\" : [1,2,7,6]\n",
    "}\n",
    ")\n",
    "\n",
    "df2 = pl.LazyFrame(\n",
    "    {\n",
    "        \"win\" :[20,31,12,9],\n",
    "        \"Countries\" : [\"INDIA\",\"AUSTRALIA\",\"NL\",\"SA\"]\n",
    "    }\n",
    ")\n"
   ]
  },
  {
   "cell_type": "code",
   "execution_count": 70,
   "id": "dc0d2bd9-e937-40da-af7e-2d545b2071ab",
   "metadata": {},
   "outputs": [
    {
     "data": {
      "text/html": [
       "<div><style>\n",
       ".dataframe > thead > tr,\n",
       ".dataframe > tbody > tr {\n",
       "  text-align: right;\n",
       "  white-space: pre-wrap;\n",
       "}\n",
       "</style>\n",
       "<small>shape: (6, 5)</small><table border=\"1\" class=\"dataframe\"><thead><tr><th>Countries</th><th>Matches</th><th>Ranking</th><th>win</th><th>Countries_right</th></tr><tr><td>str</td><td>i64</td><td>i64</td><td>i64</td><td>str</td></tr></thead><tbody><tr><td>&quot;INDIA&quot;</td><td>80</td><td>1</td><td>20</td><td>&quot;INDIA&quot;</td></tr><tr><td>&quot;AUSTRALIA&quot;</td><td>55</td><td>7</td><td>31</td><td>&quot;AUSTRALIA&quot;</td></tr><tr><td>null</td><td>null</td><td>null</td><td>12</td><td>&quot;NL&quot;</td></tr><tr><td>null</td><td>null</td><td>null</td><td>9</td><td>&quot;SA&quot;</td></tr><tr><td>&quot;ENGLAND&quot;</td><td>32</td><td>6</td><td>null</td><td>null</td></tr><tr><td>&quot;PAKISTAN&quot;</td><td>42</td><td>2</td><td>null</td><td>null</td></tr></tbody></table></div>"
      ],
      "text/plain": [
       "shape: (6, 5)\n",
       "┌───────────┬─────────┬─────────┬──────┬─────────────────┐\n",
       "│ Countries ┆ Matches ┆ Ranking ┆ win  ┆ Countries_right │\n",
       "│ ---       ┆ ---     ┆ ---     ┆ ---  ┆ ---             │\n",
       "│ str       ┆ i64     ┆ i64     ┆ i64  ┆ str             │\n",
       "╞═══════════╪═════════╪═════════╪══════╪═════════════════╡\n",
       "│ INDIA     ┆ 80      ┆ 1       ┆ 20   ┆ INDIA           │\n",
       "│ AUSTRALIA ┆ 55      ┆ 7       ┆ 31   ┆ AUSTRALIA       │\n",
       "│ null      ┆ null    ┆ null    ┆ 12   ┆ NL              │\n",
       "│ null      ┆ null    ┆ null    ┆ 9    ┆ SA              │\n",
       "│ ENGLAND   ┆ 32      ┆ 6       ┆ null ┆ null            │\n",
       "│ PAKISTAN  ┆ 42      ┆ 2       ┆ null ┆ null            │\n",
       "└───────────┴─────────┴─────────┴──────┴─────────────────┘"
      ]
     },
     "execution_count": 70,
     "metadata": {},
     "output_type": "execute_result"
    }
   ],
   "source": [
    "df1.join(df2, on=\"Countries\", how=\"full\").collect()"
   ]
  },
  {
   "cell_type": "code",
   "execution_count": 71,
   "id": "3cdda81d-195d-4127-98ce-251f2507532a",
   "metadata": {},
   "outputs": [
    {
     "data": {
      "text/html": [
       "<div><style>\n",
       ".dataframe > thead > tr,\n",
       ".dataframe > tbody > tr {\n",
       "  text-align: right;\n",
       "  white-space: pre-wrap;\n",
       "}\n",
       "</style>\n",
       "<small>shape: (4, 4)</small><table border=\"1\" class=\"dataframe\"><thead><tr><th>Countries</th><th>Matches</th><th>Ranking</th><th>win</th></tr><tr><td>str</td><td>i64</td><td>i64</td><td>i64</td></tr></thead><tbody><tr><td>&quot;INDIA&quot;</td><td>80</td><td>1</td><td>20</td></tr><tr><td>&quot;PAKISTAN&quot;</td><td>42</td><td>2</td><td>null</td></tr><tr><td>&quot;AUSTRALIA&quot;</td><td>55</td><td>7</td><td>31</td></tr><tr><td>&quot;ENGLAND&quot;</td><td>32</td><td>6</td><td>null</td></tr></tbody></table></div>"
      ],
      "text/plain": [
       "shape: (4, 4)\n",
       "┌───────────┬─────────┬─────────┬──────┐\n",
       "│ Countries ┆ Matches ┆ Ranking ┆ win  │\n",
       "│ ---       ┆ ---     ┆ ---     ┆ ---  │\n",
       "│ str       ┆ i64     ┆ i64     ┆ i64  │\n",
       "╞═══════════╪═════════╪═════════╪══════╡\n",
       "│ INDIA     ┆ 80      ┆ 1       ┆ 20   │\n",
       "│ PAKISTAN  ┆ 42      ┆ 2       ┆ null │\n",
       "│ AUSTRALIA ┆ 55      ┆ 7       ┆ 31   │\n",
       "│ ENGLAND   ┆ 32      ┆ 6       ┆ null │\n",
       "└───────────┴─────────┴─────────┴──────┘"
      ]
     },
     "execution_count": 71,
     "metadata": {},
     "output_type": "execute_result"
    }
   ],
   "source": [
    "df1.join(df2, on=\"Countries\", how=\"left\").collect()"
   ]
  },
  {
   "cell_type": "code",
   "execution_count": 72,
   "id": "e636404f-cfeb-4d76-9ddf-e8127a96ec3a",
   "metadata": {},
   "outputs": [
    {
     "data": {
      "text/html": [
       "<div><style>\n",
       ".dataframe > thead > tr,\n",
       ".dataframe > tbody > tr {\n",
       "  text-align: right;\n",
       "  white-space: pre-wrap;\n",
       "}\n",
       "</style>\n",
       "<small>shape: (2, 3)</small><table border=\"1\" class=\"dataframe\"><thead><tr><th>Countries</th><th>Matches</th><th>Ranking</th></tr><tr><td>str</td><td>i64</td><td>i64</td></tr></thead><tbody><tr><td>&quot;INDIA&quot;</td><td>80</td><td>1</td></tr><tr><td>&quot;AUSTRALIA&quot;</td><td>55</td><td>7</td></tr></tbody></table></div>"
      ],
      "text/plain": [
       "shape: (2, 3)\n",
       "┌───────────┬─────────┬─────────┐\n",
       "│ Countries ┆ Matches ┆ Ranking │\n",
       "│ ---       ┆ ---     ┆ ---     │\n",
       "│ str       ┆ i64     ┆ i64     │\n",
       "╞═══════════╪═════════╪═════════╡\n",
       "│ INDIA     ┆ 80      ┆ 1       │\n",
       "│ AUSTRALIA ┆ 55      ┆ 7       │\n",
       "└───────────┴─────────┴─────────┘"
      ]
     },
     "execution_count": 72,
     "metadata": {},
     "output_type": "execute_result"
    }
   ],
   "source": [
    "df1.join(df2, on=\"Countries\", how=\"semi\").collect()"
   ]
  },
  {
   "cell_type": "code",
   "execution_count": 73,
   "id": "346c2947-aed6-4abf-8ab1-ed922f00f98c",
   "metadata": {},
   "outputs": [
    {
     "data": {
      "text/html": [
       "<div><style>\n",
       ".dataframe > thead > tr,\n",
       ".dataframe > tbody > tr {\n",
       "  text-align: right;\n",
       "  white-space: pre-wrap;\n",
       "}\n",
       "</style>\n",
       "<small>shape: (2, 3)</small><table border=\"1\" class=\"dataframe\"><thead><tr><th>Countries</th><th>Matches</th><th>Ranking</th></tr><tr><td>str</td><td>i64</td><td>i64</td></tr></thead><tbody><tr><td>&quot;PAKISTAN&quot;</td><td>42</td><td>2</td></tr><tr><td>&quot;ENGLAND&quot;</td><td>32</td><td>6</td></tr></tbody></table></div>"
      ],
      "text/plain": [
       "shape: (2, 3)\n",
       "┌───────────┬─────────┬─────────┐\n",
       "│ Countries ┆ Matches ┆ Ranking │\n",
       "│ ---       ┆ ---     ┆ ---     │\n",
       "│ str       ┆ i64     ┆ i64     │\n",
       "╞═══════════╪═════════╪═════════╡\n",
       "│ PAKISTAN  ┆ 42      ┆ 2       │\n",
       "│ ENGLAND   ┆ 32      ┆ 6       │\n",
       "└───────────┴─────────┴─────────┘"
      ]
     },
     "execution_count": 73,
     "metadata": {},
     "output_type": "execute_result"
    }
   ],
   "source": [
    "df1.join(df2, on=\"Countries\", how=\"anti\").collect()"
   ]
  },
  {
   "cell_type": "code",
   "execution_count": 76,
   "id": "41f847f1-27d1-4eb3-8b6e-ca821bd7eb0b",
   "metadata": {},
   "outputs": [
    {
     "data": {
      "text/html": [
       "<div><style>\n",
       ".dataframe > thead > tr,\n",
       ".dataframe > tbody > tr {\n",
       "  text-align: right;\n",
       "  white-space: pre-wrap;\n",
       "}\n",
       "</style>\n",
       "<small>shape: (3, 12)</small><table border=\"1\" class=\"dataframe\"><thead><tr><th>id</th><th>Gender</th><th>Age</th><th>Driving_License</th><th>Region_Code</th><th>Previously_Insured</th><th>Vehicle_Age</th><th>Vehicle_Damage</th><th>Annual_Premium</th><th>Policy_Sales_Channel</th><th>Vintage</th><th>Response</th></tr><tr><td>i64</td><td>str</td><td>i64</td><td>i64</td><td>f64</td><td>i64</td><td>str</td><td>str</td><td>f64</td><td>f64</td><td>i64</td><td>i64</td></tr></thead><tbody><tr><td>6</td><td>&quot;Male&quot;</td><td>23</td><td>1</td><td>45.0</td><td>1</td><td>&quot;&lt; 1 Year&quot;</td><td>&quot;No&quot;</td><td>27128.0</td><td>152.0</td><td>190</td><td>0</td></tr><tr><td>7</td><td>&quot;Female&quot;</td><td>47</td><td>1</td><td>8.0</td><td>0</td><td>&quot;1-2 Year&quot;</td><td>&quot;Yes&quot;</td><td>40659.0</td><td>26.0</td><td>262</td><td>1</td></tr><tr><td>8</td><td>&quot;Female&quot;</td><td>26</td><td>1</td><td>28.0</td><td>1</td><td>&quot;&lt; 1 Year&quot;</td><td>&quot;No&quot;</td><td>31639.0</td><td>152.0</td><td>36</td><td>0</td></tr></tbody></table></div>"
      ],
      "text/plain": [
       "shape: (3, 12)\n",
       "┌─────┬────────┬─────┬─────────────────┬───┬────────────────┬─────────────────┬─────────┬──────────┐\n",
       "│ id  ┆ Gender ┆ Age ┆ Driving_License ┆ … ┆ Annual_Premium ┆ Policy_Sales_Ch ┆ Vintage ┆ Response │\n",
       "│ --- ┆ ---    ┆ --- ┆ ---             ┆   ┆ ---            ┆ annel           ┆ ---     ┆ ---      │\n",
       "│ i64 ┆ str    ┆ i64 ┆ i64             ┆   ┆ f64            ┆ ---             ┆ i64     ┆ i64      │\n",
       "│     ┆        ┆     ┆                 ┆   ┆                ┆ f64             ┆         ┆          │\n",
       "╞═════╪════════╪═════╪═════════════════╪═══╪════════════════╪═════════════════╪═════════╪══════════╡\n",
       "│ 6   ┆ Male   ┆ 23  ┆ 1               ┆ … ┆ 27128.0        ┆ 152.0           ┆ 190     ┆ 0        │\n",
       "│ 7   ┆ Female ┆ 47  ┆ 1               ┆ … ┆ 40659.0        ┆ 26.0            ┆ 262     ┆ 1        │\n",
       "│ 8   ┆ Female ┆ 26  ┆ 1               ┆ … ┆ 31639.0        ┆ 152.0           ┆ 36      ┆ 0        │\n",
       "└─────┴────────┴─────┴─────────────────┴───┴────────────────┴─────────────────┴─────────┴──────────┘"
      ]
     },
     "execution_count": 76,
     "metadata": {},
     "output_type": "execute_result"
    }
   ],
   "source": [
    "# Slice \n",
    "\n",
    "lazy_df.slice(6, 3).collect()"
   ]
  },
  {
   "cell_type": "code",
   "execution_count": 77,
   "id": "ce6b1d10-ba7a-4a55-9e9d-6d0ce9647c92",
   "metadata": {},
   "outputs": [
    {
     "data": {
      "text/html": [
       "<div><style>\n",
       ".dataframe > thead > tr,\n",
       ".dataframe > tbody > tr {\n",
       "  text-align: right;\n",
       "  white-space: pre-wrap;\n",
       "}\n",
       "</style>\n",
       "<small>shape: (11_504_798, 12)</small><table border=\"1\" class=\"dataframe\"><thead><tr><th>id</th><th>Gender</th><th>Age</th><th>Driving_License</th><th>Location_Code</th><th>Previously_Insured</th><th>Vehicle_Age</th><th>Vehicle_Damage</th><th>Annual_Premium</th><th>Policy_Sales_Channel</th><th>Vintage</th><th>Response</th></tr><tr><td>i64</td><td>str</td><td>i64</td><td>i64</td><td>f64</td><td>i64</td><td>str</td><td>str</td><td>f64</td><td>f64</td><td>i64</td><td>i64</td></tr></thead><tbody><tr><td>0</td><td>&quot;Male&quot;</td><td>21</td><td>1</td><td>35.0</td><td>0</td><td>&quot;1-2 Year&quot;</td><td>&quot;Yes&quot;</td><td>65101.0</td><td>124.0</td><td>187</td><td>0</td></tr><tr><td>1</td><td>&quot;Male&quot;</td><td>43</td><td>1</td><td>28.0</td><td>0</td><td>&quot;&gt; 2 Years&quot;</td><td>&quot;Yes&quot;</td><td>58911.0</td><td>26.0</td><td>288</td><td>1</td></tr><tr><td>2</td><td>&quot;Female&quot;</td><td>25</td><td>1</td><td>14.0</td><td>1</td><td>&quot;&lt; 1 Year&quot;</td><td>&quot;No&quot;</td><td>38043.0</td><td>152.0</td><td>254</td><td>0</td></tr><tr><td>3</td><td>&quot;Female&quot;</td><td>35</td><td>1</td><td>1.0</td><td>0</td><td>&quot;1-2 Year&quot;</td><td>&quot;Yes&quot;</td><td>2630.0</td><td>156.0</td><td>76</td><td>0</td></tr><tr><td>4</td><td>&quot;Female&quot;</td><td>36</td><td>1</td><td>15.0</td><td>1</td><td>&quot;1-2 Year&quot;</td><td>&quot;No&quot;</td><td>31951.0</td><td>152.0</td><td>294</td><td>0</td></tr><tr><td>&hellip;</td><td>&hellip;</td><td>&hellip;</td><td>&hellip;</td><td>&hellip;</td><td>&hellip;</td><td>&hellip;</td><td>&hellip;</td><td>&hellip;</td><td>&hellip;</td><td>&hellip;</td><td>&hellip;</td></tr><tr><td>11504793</td><td>&quot;Male&quot;</td><td>48</td><td>1</td><td>6.0</td><td>0</td><td>&quot;1-2 Year&quot;</td><td>&quot;Yes&quot;</td><td>27412.0</td><td>26.0</td><td>218</td><td>0</td></tr><tr><td>11504794</td><td>&quot;Female&quot;</td><td>26</td><td>1</td><td>36.0</td><td>0</td><td>&quot;&lt; 1 Year&quot;</td><td>&quot;Yes&quot;</td><td>29509.0</td><td>152.0</td><td>115</td><td>1</td></tr><tr><td>11504795</td><td>&quot;Female&quot;</td><td>29</td><td>1</td><td>32.0</td><td>1</td><td>&quot;&lt; 1 Year&quot;</td><td>&quot;No&quot;</td><td>2630.0</td><td>152.0</td><td>189</td><td>0</td></tr><tr><td>11504796</td><td>&quot;Female&quot;</td><td>51</td><td>1</td><td>28.0</td><td>0</td><td>&quot;1-2 Year&quot;</td><td>&quot;Yes&quot;</td><td>48443.0</td><td>26.0</td><td>274</td><td>1</td></tr><tr><td>11504797</td><td>&quot;Male&quot;</td><td>25</td><td>1</td><td>28.0</td><td>1</td><td>&quot;&lt; 1 Year&quot;</td><td>&quot;No&quot;</td><td>32855.0</td><td>152.0</td><td>189</td><td>0</td></tr></tbody></table></div>"
      ],
      "text/plain": [
       "shape: (11_504_798, 12)\n",
       "┌──────────┬────────┬─────┬───────────────┬───┬───────────────┬───────────────┬─────────┬──────────┐\n",
       "│ id       ┆ Gender ┆ Age ┆ Driving_Licen ┆ … ┆ Annual_Premiu ┆ Policy_Sales_ ┆ Vintage ┆ Response │\n",
       "│ ---      ┆ ---    ┆ --- ┆ se            ┆   ┆ m             ┆ Channel       ┆ ---     ┆ ---      │\n",
       "│ i64      ┆ str    ┆ i64 ┆ ---           ┆   ┆ ---           ┆ ---           ┆ i64     ┆ i64      │\n",
       "│          ┆        ┆     ┆ i64           ┆   ┆ f64           ┆ f64           ┆         ┆          │\n",
       "╞══════════╪════════╪═════╪═══════════════╪═══╪═══════════════╪═══════════════╪═════════╪══════════╡\n",
       "│ 0        ┆ Male   ┆ 21  ┆ 1             ┆ … ┆ 65101.0       ┆ 124.0         ┆ 187     ┆ 0        │\n",
       "│ 1        ┆ Male   ┆ 43  ┆ 1             ┆ … ┆ 58911.0       ┆ 26.0          ┆ 288     ┆ 1        │\n",
       "│ 2        ┆ Female ┆ 25  ┆ 1             ┆ … ┆ 38043.0       ┆ 152.0         ┆ 254     ┆ 0        │\n",
       "│ 3        ┆ Female ┆ 35  ┆ 1             ┆ … ┆ 2630.0        ┆ 156.0         ┆ 76      ┆ 0        │\n",
       "│ 4        ┆ Female ┆ 36  ┆ 1             ┆ … ┆ 31951.0       ┆ 152.0         ┆ 294     ┆ 0        │\n",
       "│ …        ┆ …      ┆ …   ┆ …             ┆ … ┆ …             ┆ …             ┆ …       ┆ …        │\n",
       "│ 11504793 ┆ Male   ┆ 48  ┆ 1             ┆ … ┆ 27412.0       ┆ 26.0          ┆ 218     ┆ 0        │\n",
       "│ 11504794 ┆ Female ┆ 26  ┆ 1             ┆ … ┆ 29509.0       ┆ 152.0         ┆ 115     ┆ 1        │\n",
       "│ 11504795 ┆ Female ┆ 29  ┆ 1             ┆ … ┆ 2630.0        ┆ 152.0         ┆ 189     ┆ 0        │\n",
       "│ 11504796 ┆ Female ┆ 51  ┆ 1             ┆ … ┆ 48443.0       ┆ 26.0          ┆ 274     ┆ 1        │\n",
       "│ 11504797 ┆ Male   ┆ 25  ┆ 1             ┆ … ┆ 32855.0       ┆ 152.0         ┆ 189     ┆ 0        │\n",
       "└──────────┴────────┴─────┴───────────────┴───┴───────────────┴───────────────┴─────────┴──────────┘"
      ]
     },
     "execution_count": 77,
     "metadata": {},
     "output_type": "execute_result"
    }
   ],
   "source": [
    "# rename \n",
    "\n",
    "lazy_df.rename({\"Region_Code\": \"Location_Code\"}).collect()"
   ]
  },
  {
   "cell_type": "code",
   "execution_count": 78,
   "id": "72e59baa-d526-4ed6-803c-79c45b9b7596",
   "metadata": {},
   "outputs": [
    {
     "data": {
      "text/html": [
       "<div><style>\n",
       ".dataframe > thead > tr,\n",
       ".dataframe > tbody > tr {\n",
       "  text-align: right;\n",
       "  white-space: pre-wrap;\n",
       "}\n",
       "</style>\n",
       "<small>shape: (11_504_798, 12)</small><table border=\"1\" class=\"dataframe\"><thead><tr><th>id</th><th>Gender</th><th>Age</th><th>Driving_License</th><th>Region_Code</th><th>Previously_Insured</th><th>Vehicle_Age</th><th>Vehicle_Damage</th><th>Annual_Premium</th><th>Policy_Sales_Channel</th><th>Vintage</th><th>Response</th></tr><tr><td>f64</td><td>str</td><td>f64</td><td>f64</td><td>f64</td><td>f64</td><td>str</td><td>str</td><td>f64</td><td>f64</td><td>f64</td><td>f64</td></tr></thead><tbody><tr><td>0.0</td><td>&quot;Male&quot;</td><td>21.0</td><td>1.0</td><td>35.0</td><td>0.0</td><td>&quot;1-2 Year&quot;</td><td>&quot;Yes&quot;</td><td>65101.0</td><td>124.0</td><td>187.0</td><td>0.0</td></tr><tr><td>1.0</td><td>&quot;Male&quot;</td><td>43.0</td><td>1.0</td><td>28.0</td><td>0.0</td><td>&quot;&gt; 2 Years&quot;</td><td>&quot;Yes&quot;</td><td>58911.0</td><td>26.0</td><td>288.0</td><td>1.0</td></tr><tr><td>2.0</td><td>&quot;Female&quot;</td><td>25.0</td><td>1.0</td><td>14.0</td><td>1.0</td><td>&quot;&lt; 1 Year&quot;</td><td>&quot;No&quot;</td><td>38043.0</td><td>152.0</td><td>254.0</td><td>0.0</td></tr><tr><td>3.0</td><td>&quot;Female&quot;</td><td>35.0</td><td>1.0</td><td>1.0</td><td>0.0</td><td>&quot;1-2 Year&quot;</td><td>&quot;Yes&quot;</td><td>2630.0</td><td>156.0</td><td>76.0</td><td>0.0</td></tr><tr><td>4.0</td><td>&quot;Female&quot;</td><td>36.0</td><td>1.0</td><td>15.0</td><td>1.0</td><td>&quot;1-2 Year&quot;</td><td>&quot;No&quot;</td><td>31951.0</td><td>152.0</td><td>294.0</td><td>0.0</td></tr><tr><td>&hellip;</td><td>&hellip;</td><td>&hellip;</td><td>&hellip;</td><td>&hellip;</td><td>&hellip;</td><td>&hellip;</td><td>&hellip;</td><td>&hellip;</td><td>&hellip;</td><td>&hellip;</td><td>&hellip;</td></tr><tr><td>1.1504793e7</td><td>&quot;Male&quot;</td><td>48.0</td><td>1.0</td><td>6.0</td><td>0.0</td><td>&quot;1-2 Year&quot;</td><td>&quot;Yes&quot;</td><td>27412.0</td><td>26.0</td><td>218.0</td><td>0.0</td></tr><tr><td>1.1504794e7</td><td>&quot;Female&quot;</td><td>26.0</td><td>1.0</td><td>36.0</td><td>0.0</td><td>&quot;&lt; 1 Year&quot;</td><td>&quot;Yes&quot;</td><td>29509.0</td><td>152.0</td><td>115.0</td><td>1.0</td></tr><tr><td>1.1504795e7</td><td>&quot;Female&quot;</td><td>29.0</td><td>1.0</td><td>32.0</td><td>1.0</td><td>&quot;&lt; 1 Year&quot;</td><td>&quot;No&quot;</td><td>2630.0</td><td>152.0</td><td>189.0</td><td>0.0</td></tr><tr><td>1.1504796e7</td><td>&quot;Female&quot;</td><td>51.0</td><td>1.0</td><td>28.0</td><td>0.0</td><td>&quot;1-2 Year&quot;</td><td>&quot;Yes&quot;</td><td>48443.0</td><td>26.0</td><td>274.0</td><td>1.0</td></tr><tr><td>1.1504797e7</td><td>&quot;Male&quot;</td><td>25.0</td><td>1.0</td><td>28.0</td><td>1.0</td><td>&quot;&lt; 1 Year&quot;</td><td>&quot;No&quot;</td><td>32855.0</td><td>152.0</td><td>189.0</td><td>0.0</td></tr></tbody></table></div>"
      ],
      "text/plain": [
       "shape: (11_504_798, 12)\n",
       "┌─────────────┬────────┬──────┬──────────────┬───┬──────────────┬─────────────┬─────────┬──────────┐\n",
       "│ id          ┆ Gender ┆ Age  ┆ Driving_Lice ┆ … ┆ Annual_Premi ┆ Policy_Sale ┆ Vintage ┆ Response │\n",
       "│ ---         ┆ ---    ┆ ---  ┆ nse          ┆   ┆ um           ┆ s_Channel   ┆ ---     ┆ ---      │\n",
       "│ f64         ┆ str    ┆ f64  ┆ ---          ┆   ┆ ---          ┆ ---         ┆ f64     ┆ f64      │\n",
       "│             ┆        ┆      ┆ f64          ┆   ┆ f64          ┆ f64         ┆         ┆          │\n",
       "╞═════════════╪════════╪══════╪══════════════╪═══╪══════════════╪═════════════╪═════════╪══════════╡\n",
       "│ 0.0         ┆ Male   ┆ 21.0 ┆ 1.0          ┆ … ┆ 65101.0      ┆ 124.0       ┆ 187.0   ┆ 0.0      │\n",
       "│ 1.0         ┆ Male   ┆ 43.0 ┆ 1.0          ┆ … ┆ 58911.0      ┆ 26.0        ┆ 288.0   ┆ 1.0      │\n",
       "│ 2.0         ┆ Female ┆ 25.0 ┆ 1.0          ┆ … ┆ 38043.0      ┆ 152.0       ┆ 254.0   ┆ 0.0      │\n",
       "│ 3.0         ┆ Female ┆ 35.0 ┆ 1.0          ┆ … ┆ 2630.0       ┆ 156.0       ┆ 76.0    ┆ 0.0      │\n",
       "│ 4.0         ┆ Female ┆ 36.0 ┆ 1.0          ┆ … ┆ 31951.0      ┆ 152.0       ┆ 294.0   ┆ 0.0      │\n",
       "│ …           ┆ …      ┆ …    ┆ …            ┆ … ┆ …            ┆ …           ┆ …       ┆ …        │\n",
       "│ 1.1504793e7 ┆ Male   ┆ 48.0 ┆ 1.0          ┆ … ┆ 27412.0      ┆ 26.0        ┆ 218.0   ┆ 0.0      │\n",
       "│ 1.1504794e7 ┆ Female ┆ 26.0 ┆ 1.0          ┆ … ┆ 29509.0      ┆ 152.0       ┆ 115.0   ┆ 1.0      │\n",
       "│ 1.1504795e7 ┆ Female ┆ 29.0 ┆ 1.0          ┆ … ┆ 2630.0       ┆ 152.0       ┆ 189.0   ┆ 0.0      │\n",
       "│ 1.1504796e7 ┆ Female ┆ 51.0 ┆ 1.0          ┆ … ┆ 48443.0      ┆ 26.0        ┆ 274.0   ┆ 1.0      │\n",
       "│ 1.1504797e7 ┆ Male   ┆ 25.0 ┆ 1.0          ┆ … ┆ 32855.0      ┆ 152.0       ┆ 189.0   ┆ 0.0      │\n",
       "└─────────────┴────────┴──────┴──────────────┴───┴──────────────┴─────────────┴─────────┴──────────┘"
      ]
     },
     "execution_count": 78,
     "metadata": {},
     "output_type": "execute_result"
    }
   ],
   "source": [
    "# interpolate \n",
    "\n",
    "lazy_df.interpolate().collect()"
   ]
  },
  {
   "cell_type": "code",
   "execution_count": 80,
   "id": "2a4bdb22-fcdd-40b9-b051-07850d15296c",
   "metadata": {},
   "outputs": [
    {
     "data": {
      "text/html": [
       "<div><style>\n",
       ".dataframe > thead > tr,\n",
       ".dataframe > tbody > tr {\n",
       "  text-align: right;\n",
       "  white-space: pre-wrap;\n",
       "}\n",
       "</style>\n",
       "<small>shape: (5_270_990, 12)</small><table border=\"1\" class=\"dataframe\"><thead><tr><th>id</th><th>Gender</th><th>Age</th><th>Driving_License</th><th>Region_Code</th><th>Previously_Insured</th><th>Vehicle_Age</th><th>Vehicle_Damage</th><th>Annual_Premium</th><th>Policy_Sales_Channel</th><th>Vintage</th><th>Response</th></tr><tr><td>i64</td><td>str</td><td>i64</td><td>i64</td><td>f64</td><td>i64</td><td>str</td><td>str</td><td>f64</td><td>f64</td><td>i64</td><td>i64</td></tr></thead><tbody><tr><td>2</td><td>&quot;Female&quot;</td><td>25</td><td>1</td><td>14.0</td><td>1</td><td>&quot;&lt; 1 Year&quot;</td><td>&quot;No&quot;</td><td>38043.0</td><td>152.0</td><td>254</td><td>0</td></tr><tr><td>3</td><td>&quot;Female&quot;</td><td>35</td><td>1</td><td>1.0</td><td>0</td><td>&quot;1-2 Year&quot;</td><td>&quot;Yes&quot;</td><td>2630.0</td><td>156.0</td><td>76</td><td>0</td></tr><tr><td>4</td><td>&quot;Female&quot;</td><td>36</td><td>1</td><td>15.0</td><td>1</td><td>&quot;1-2 Year&quot;</td><td>&quot;No&quot;</td><td>31951.0</td><td>152.0</td><td>294</td><td>0</td></tr><tr><td>5</td><td>&quot;Female&quot;</td><td>31</td><td>1</td><td>47.0</td><td>1</td><td>&quot;&lt; 1 Year&quot;</td><td>&quot;No&quot;</td><td>28150.0</td><td>152.0</td><td>197</td><td>0</td></tr><tr><td>7</td><td>&quot;Female&quot;</td><td>47</td><td>1</td><td>8.0</td><td>0</td><td>&quot;1-2 Year&quot;</td><td>&quot;Yes&quot;</td><td>40659.0</td><td>26.0</td><td>262</td><td>1</td></tr><tr><td>&hellip;</td><td>&hellip;</td><td>&hellip;</td><td>&hellip;</td><td>&hellip;</td><td>&hellip;</td><td>&hellip;</td><td>&hellip;</td><td>&hellip;</td><td>&hellip;</td><td>&hellip;</td><td>&hellip;</td></tr><tr><td>11504790</td><td>&quot;Female&quot;</td><td>21</td><td>1</td><td>36.0</td><td>1</td><td>&quot;&lt; 1 Year&quot;</td><td>&quot;No&quot;</td><td>38097.0</td><td>152.0</td><td>275</td><td>0</td></tr><tr><td>11504791</td><td>&quot;Female&quot;</td><td>31</td><td>1</td><td>32.0</td><td>1</td><td>&quot;&lt; 1 Year&quot;</td><td>&quot;No&quot;</td><td>2630.0</td><td>152.0</td><td>204</td><td>0</td></tr><tr><td>11504794</td><td>&quot;Female&quot;</td><td>26</td><td>1</td><td>36.0</td><td>0</td><td>&quot;&lt; 1 Year&quot;</td><td>&quot;Yes&quot;</td><td>29509.0</td><td>152.0</td><td>115</td><td>1</td></tr><tr><td>11504795</td><td>&quot;Female&quot;</td><td>29</td><td>1</td><td>32.0</td><td>1</td><td>&quot;&lt; 1 Year&quot;</td><td>&quot;No&quot;</td><td>2630.0</td><td>152.0</td><td>189</td><td>0</td></tr><tr><td>11504796</td><td>&quot;Female&quot;</td><td>51</td><td>1</td><td>28.0</td><td>0</td><td>&quot;1-2 Year&quot;</td><td>&quot;Yes&quot;</td><td>48443.0</td><td>26.0</td><td>274</td><td>1</td></tr></tbody></table></div>"
      ],
      "text/plain": [
       "shape: (5_270_990, 12)\n",
       "┌──────────┬────────┬─────┬───────────────┬───┬───────────────┬───────────────┬─────────┬──────────┐\n",
       "│ id       ┆ Gender ┆ Age ┆ Driving_Licen ┆ … ┆ Annual_Premiu ┆ Policy_Sales_ ┆ Vintage ┆ Response │\n",
       "│ ---      ┆ ---    ┆ --- ┆ se            ┆   ┆ m             ┆ Channel       ┆ ---     ┆ ---      │\n",
       "│ i64      ┆ str    ┆ i64 ┆ ---           ┆   ┆ ---           ┆ ---           ┆ i64     ┆ i64      │\n",
       "│          ┆        ┆     ┆ i64           ┆   ┆ f64           ┆ f64           ┆         ┆          │\n",
       "╞══════════╪════════╪═════╪═══════════════╪═══╪═══════════════╪═══════════════╪═════════╪══════════╡\n",
       "│ 2        ┆ Female ┆ 25  ┆ 1             ┆ … ┆ 38043.0       ┆ 152.0         ┆ 254     ┆ 0        │\n",
       "│ 3        ┆ Female ┆ 35  ┆ 1             ┆ … ┆ 2630.0        ┆ 156.0         ┆ 76      ┆ 0        │\n",
       "│ 4        ┆ Female ┆ 36  ┆ 1             ┆ … ┆ 31951.0       ┆ 152.0         ┆ 294     ┆ 0        │\n",
       "│ 5        ┆ Female ┆ 31  ┆ 1             ┆ … ┆ 28150.0       ┆ 152.0         ┆ 197     ┆ 0        │\n",
       "│ 7        ┆ Female ┆ 47  ┆ 1             ┆ … ┆ 40659.0       ┆ 26.0          ┆ 262     ┆ 1        │\n",
       "│ …        ┆ …      ┆ …   ┆ …             ┆ … ┆ …             ┆ …             ┆ …       ┆ …        │\n",
       "│ 11504790 ┆ Female ┆ 21  ┆ 1             ┆ … ┆ 38097.0       ┆ 152.0         ┆ 275     ┆ 0        │\n",
       "│ 11504791 ┆ Female ┆ 31  ┆ 1             ┆ … ┆ 2630.0        ┆ 152.0         ┆ 204     ┆ 0        │\n",
       "│ 11504794 ┆ Female ┆ 26  ┆ 1             ┆ … ┆ 29509.0       ┆ 152.0         ┆ 115     ┆ 1        │\n",
       "│ 11504795 ┆ Female ┆ 29  ┆ 1             ┆ … ┆ 2630.0        ┆ 152.0         ┆ 189     ┆ 0        │\n",
       "│ 11504796 ┆ Female ┆ 51  ┆ 1             ┆ … ┆ 48443.0       ┆ 26.0          ┆ 274     ┆ 1        │\n",
       "└──────────┴────────┴─────┴───────────────┴───┴───────────────┴───────────────┴─────────┴──────────┘"
      ]
     },
     "execution_count": 80,
     "metadata": {},
     "output_type": "execute_result"
    }
   ],
   "source": [
    "# Filter \n",
    "\n",
    "lazy_df.filter((pl.col(\"Gender\") == \"Female\") & (pl.col(\"Driving_License\") == 1.0)).collect()"
   ]
  },
  {
   "cell_type": "code",
   "execution_count": 81,
   "id": "7b2eef6c-03b5-4af5-b262-2ada3d9b7898",
   "metadata": {},
   "outputs": [
    {
     "data": {
      "text/html": [
       "<div><style>\n",
       ".dataframe > thead > tr,\n",
       ".dataframe > tbody > tr {\n",
       "  text-align: right;\n",
       "  white-space: pre-wrap;\n",
       "}\n",
       "</style>\n",
       "<small>shape: (11_504_798, 11)</small><table border=\"1\" class=\"dataframe\"><thead><tr><th>Gender</th><th>Age</th><th>Driving_License</th><th>Region_Code</th><th>Previously_Insured</th><th>Vehicle_Age</th><th>Vehicle_Damage</th><th>Annual_Premium</th><th>Policy_Sales_Channel</th><th>Vintage</th><th>Response</th></tr><tr><td>str</td><td>i64</td><td>i64</td><td>f64</td><td>i64</td><td>str</td><td>str</td><td>f64</td><td>f64</td><td>i64</td><td>i64</td></tr></thead><tbody><tr><td>&quot;Male&quot;</td><td>21</td><td>1</td><td>35.0</td><td>0</td><td>&quot;1-2 Year&quot;</td><td>&quot;Yes&quot;</td><td>65101.0</td><td>124.0</td><td>187</td><td>0</td></tr><tr><td>&quot;Male&quot;</td><td>43</td><td>1</td><td>28.0</td><td>0</td><td>&quot;&gt; 2 Years&quot;</td><td>&quot;Yes&quot;</td><td>58911.0</td><td>26.0</td><td>288</td><td>1</td></tr><tr><td>&quot;Female&quot;</td><td>25</td><td>1</td><td>14.0</td><td>1</td><td>&quot;&lt; 1 Year&quot;</td><td>&quot;No&quot;</td><td>38043.0</td><td>152.0</td><td>254</td><td>0</td></tr><tr><td>&quot;Female&quot;</td><td>35</td><td>1</td><td>1.0</td><td>0</td><td>&quot;1-2 Year&quot;</td><td>&quot;Yes&quot;</td><td>2630.0</td><td>156.0</td><td>76</td><td>0</td></tr><tr><td>&quot;Female&quot;</td><td>36</td><td>1</td><td>15.0</td><td>1</td><td>&quot;1-2 Year&quot;</td><td>&quot;No&quot;</td><td>31951.0</td><td>152.0</td><td>294</td><td>0</td></tr><tr><td>&hellip;</td><td>&hellip;</td><td>&hellip;</td><td>&hellip;</td><td>&hellip;</td><td>&hellip;</td><td>&hellip;</td><td>&hellip;</td><td>&hellip;</td><td>&hellip;</td><td>&hellip;</td></tr><tr><td>&quot;Male&quot;</td><td>48</td><td>1</td><td>6.0</td><td>0</td><td>&quot;1-2 Year&quot;</td><td>&quot;Yes&quot;</td><td>27412.0</td><td>26.0</td><td>218</td><td>0</td></tr><tr><td>&quot;Female&quot;</td><td>26</td><td>1</td><td>36.0</td><td>0</td><td>&quot;&lt; 1 Year&quot;</td><td>&quot;Yes&quot;</td><td>29509.0</td><td>152.0</td><td>115</td><td>1</td></tr><tr><td>&quot;Female&quot;</td><td>29</td><td>1</td><td>32.0</td><td>1</td><td>&quot;&lt; 1 Year&quot;</td><td>&quot;No&quot;</td><td>2630.0</td><td>152.0</td><td>189</td><td>0</td></tr><tr><td>&quot;Female&quot;</td><td>51</td><td>1</td><td>28.0</td><td>0</td><td>&quot;1-2 Year&quot;</td><td>&quot;Yes&quot;</td><td>48443.0</td><td>26.0</td><td>274</td><td>1</td></tr><tr><td>&quot;Male&quot;</td><td>25</td><td>1</td><td>28.0</td><td>1</td><td>&quot;&lt; 1 Year&quot;</td><td>&quot;No&quot;</td><td>32855.0</td><td>152.0</td><td>189</td><td>0</td></tr></tbody></table></div>"
      ],
      "text/plain": [
       "shape: (11_504_798, 11)\n",
       "┌────────┬─────┬──────────────┬─────────────┬───┬──────────────┬──────────────┬─────────┬──────────┐\n",
       "│ Gender ┆ Age ┆ Driving_Lice ┆ Region_Code ┆ … ┆ Annual_Premi ┆ Policy_Sales ┆ Vintage ┆ Response │\n",
       "│ ---    ┆ --- ┆ nse          ┆ ---         ┆   ┆ um           ┆ _Channel     ┆ ---     ┆ ---      │\n",
       "│ str    ┆ i64 ┆ ---          ┆ f64         ┆   ┆ ---          ┆ ---          ┆ i64     ┆ i64      │\n",
       "│        ┆     ┆ i64          ┆             ┆   ┆ f64          ┆ f64          ┆         ┆          │\n",
       "╞════════╪═════╪══════════════╪═════════════╪═══╪══════════════╪══════════════╪═════════╪══════════╡\n",
       "│ Male   ┆ 21  ┆ 1            ┆ 35.0        ┆ … ┆ 65101.0      ┆ 124.0        ┆ 187     ┆ 0        │\n",
       "│ Male   ┆ 43  ┆ 1            ┆ 28.0        ┆ … ┆ 58911.0      ┆ 26.0         ┆ 288     ┆ 1        │\n",
       "│ Female ┆ 25  ┆ 1            ┆ 14.0        ┆ … ┆ 38043.0      ┆ 152.0        ┆ 254     ┆ 0        │\n",
       "│ Female ┆ 35  ┆ 1            ┆ 1.0         ┆ … ┆ 2630.0       ┆ 156.0        ┆ 76      ┆ 0        │\n",
       "│ Female ┆ 36  ┆ 1            ┆ 15.0        ┆ … ┆ 31951.0      ┆ 152.0        ┆ 294     ┆ 0        │\n",
       "│ …      ┆ …   ┆ …            ┆ …           ┆ … ┆ …            ┆ …            ┆ …       ┆ …        │\n",
       "│ Male   ┆ 48  ┆ 1            ┆ 6.0         ┆ … ┆ 27412.0      ┆ 26.0         ┆ 218     ┆ 0        │\n",
       "│ Female ┆ 26  ┆ 1            ┆ 36.0        ┆ … ┆ 29509.0      ┆ 152.0        ┆ 115     ┆ 1        │\n",
       "│ Female ┆ 29  ┆ 1            ┆ 32.0        ┆ … ┆ 2630.0       ┆ 152.0        ┆ 189     ┆ 0        │\n",
       "│ Female ┆ 51  ┆ 1            ┆ 28.0        ┆ … ┆ 48443.0      ┆ 26.0         ┆ 274     ┆ 1        │\n",
       "│ Male   ┆ 25  ┆ 1            ┆ 28.0        ┆ … ┆ 32855.0      ┆ 152.0        ┆ 189     ┆ 0        │\n",
       "└────────┴─────┴──────────────┴─────────────┴───┴──────────────┴──────────────┴─────────┴──────────┘"
      ]
     },
     "execution_count": 81,
     "metadata": {},
     "output_type": "execute_result"
    }
   ],
   "source": [
    "# drop a column or muilple columns\n",
    "\n",
    "lazy_df.drop(\"id\").collect()"
   ]
  },
  {
   "cell_type": "code",
   "execution_count": 82,
   "id": "3b06de96-326c-4081-8f07-4be0e1c72898",
   "metadata": {},
   "outputs": [
    {
     "data": {
      "text/html": [
       "<div><style>\n",
       ".dataframe > thead > tr,\n",
       ".dataframe > tbody > tr {\n",
       "  text-align: right;\n",
       "  white-space: pre-wrap;\n",
       "}\n",
       "</style>\n",
       "<small>shape: (11_504_798, 10)</small><table border=\"1\" class=\"dataframe\"><thead><tr><th>id</th><th>Gender</th><th>Region_Code</th><th>Previously_Insured</th><th>Vehicle_Age</th><th>Vehicle_Damage</th><th>Annual_Premium</th><th>Policy_Sales_Channel</th><th>Vintage</th><th>Response</th></tr><tr><td>i64</td><td>str</td><td>f64</td><td>i64</td><td>str</td><td>str</td><td>f64</td><td>f64</td><td>i64</td><td>i64</td></tr></thead><tbody><tr><td>0</td><td>&quot;Male&quot;</td><td>35.0</td><td>0</td><td>&quot;1-2 Year&quot;</td><td>&quot;Yes&quot;</td><td>65101.0</td><td>124.0</td><td>187</td><td>0</td></tr><tr><td>1</td><td>&quot;Male&quot;</td><td>28.0</td><td>0</td><td>&quot;&gt; 2 Years&quot;</td><td>&quot;Yes&quot;</td><td>58911.0</td><td>26.0</td><td>288</td><td>1</td></tr><tr><td>2</td><td>&quot;Female&quot;</td><td>14.0</td><td>1</td><td>&quot;&lt; 1 Year&quot;</td><td>&quot;No&quot;</td><td>38043.0</td><td>152.0</td><td>254</td><td>0</td></tr><tr><td>3</td><td>&quot;Female&quot;</td><td>1.0</td><td>0</td><td>&quot;1-2 Year&quot;</td><td>&quot;Yes&quot;</td><td>2630.0</td><td>156.0</td><td>76</td><td>0</td></tr><tr><td>4</td><td>&quot;Female&quot;</td><td>15.0</td><td>1</td><td>&quot;1-2 Year&quot;</td><td>&quot;No&quot;</td><td>31951.0</td><td>152.0</td><td>294</td><td>0</td></tr><tr><td>&hellip;</td><td>&hellip;</td><td>&hellip;</td><td>&hellip;</td><td>&hellip;</td><td>&hellip;</td><td>&hellip;</td><td>&hellip;</td><td>&hellip;</td><td>&hellip;</td></tr><tr><td>11504793</td><td>&quot;Male&quot;</td><td>6.0</td><td>0</td><td>&quot;1-2 Year&quot;</td><td>&quot;Yes&quot;</td><td>27412.0</td><td>26.0</td><td>218</td><td>0</td></tr><tr><td>11504794</td><td>&quot;Female&quot;</td><td>36.0</td><td>0</td><td>&quot;&lt; 1 Year&quot;</td><td>&quot;Yes&quot;</td><td>29509.0</td><td>152.0</td><td>115</td><td>1</td></tr><tr><td>11504795</td><td>&quot;Female&quot;</td><td>32.0</td><td>1</td><td>&quot;&lt; 1 Year&quot;</td><td>&quot;No&quot;</td><td>2630.0</td><td>152.0</td><td>189</td><td>0</td></tr><tr><td>11504796</td><td>&quot;Female&quot;</td><td>28.0</td><td>0</td><td>&quot;1-2 Year&quot;</td><td>&quot;Yes&quot;</td><td>48443.0</td><td>26.0</td><td>274</td><td>1</td></tr><tr><td>11504797</td><td>&quot;Male&quot;</td><td>28.0</td><td>1</td><td>&quot;&lt; 1 Year&quot;</td><td>&quot;No&quot;</td><td>32855.0</td><td>152.0</td><td>189</td><td>0</td></tr></tbody></table></div>"
      ],
      "text/plain": [
       "shape: (11_504_798, 10)\n",
       "┌──────────┬────────┬─────────────┬─────────────┬───┬────────────┬────────────┬─────────┬──────────┐\n",
       "│ id       ┆ Gender ┆ Region_Code ┆ Previously_ ┆ … ┆ Annual_Pre ┆ Policy_Sal ┆ Vintage ┆ Response │\n",
       "│ ---      ┆ ---    ┆ ---         ┆ Insured     ┆   ┆ mium       ┆ es_Channel ┆ ---     ┆ ---      │\n",
       "│ i64      ┆ str    ┆ f64         ┆ ---         ┆   ┆ ---        ┆ ---        ┆ i64     ┆ i64      │\n",
       "│          ┆        ┆             ┆ i64         ┆   ┆ f64        ┆ f64        ┆         ┆          │\n",
       "╞══════════╪════════╪═════════════╪═════════════╪═══╪════════════╪════════════╪═════════╪══════════╡\n",
       "│ 0        ┆ Male   ┆ 35.0        ┆ 0           ┆ … ┆ 65101.0    ┆ 124.0      ┆ 187     ┆ 0        │\n",
       "│ 1        ┆ Male   ┆ 28.0        ┆ 0           ┆ … ┆ 58911.0    ┆ 26.0       ┆ 288     ┆ 1        │\n",
       "│ 2        ┆ Female ┆ 14.0        ┆ 1           ┆ … ┆ 38043.0    ┆ 152.0      ┆ 254     ┆ 0        │\n",
       "│ 3        ┆ Female ┆ 1.0         ┆ 0           ┆ … ┆ 2630.0     ┆ 156.0      ┆ 76      ┆ 0        │\n",
       "│ 4        ┆ Female ┆ 15.0        ┆ 1           ┆ … ┆ 31951.0    ┆ 152.0      ┆ 294     ┆ 0        │\n",
       "│ …        ┆ …      ┆ …           ┆ …           ┆ … ┆ …          ┆ …          ┆ …       ┆ …        │\n",
       "│ 11504793 ┆ Male   ┆ 6.0         ┆ 0           ┆ … ┆ 27412.0    ┆ 26.0       ┆ 218     ┆ 0        │\n",
       "│ 11504794 ┆ Female ┆ 36.0        ┆ 0           ┆ … ┆ 29509.0    ┆ 152.0      ┆ 115     ┆ 1        │\n",
       "│ 11504795 ┆ Female ┆ 32.0        ┆ 1           ┆ … ┆ 2630.0     ┆ 152.0      ┆ 189     ┆ 0        │\n",
       "│ 11504796 ┆ Female ┆ 28.0        ┆ 0           ┆ … ┆ 48443.0    ┆ 26.0       ┆ 274     ┆ 1        │\n",
       "│ 11504797 ┆ Male   ┆ 28.0        ┆ 1           ┆ … ┆ 32855.0    ┆ 152.0      ┆ 189     ┆ 0        │\n",
       "└──────────┴────────┴─────────────┴─────────────┴───┴────────────┴────────────┴─────────┴──────────┘"
      ]
     },
     "execution_count": 82,
     "metadata": {},
     "output_type": "execute_result"
    }
   ],
   "source": [
    "lazy_df.drop(\"Age\",\"Driving_License\").collect()"
   ]
  },
  {
   "cell_type": "markdown",
   "id": "b8d093d8-fb7c-4323-9a6f-fd5171c9bf5f",
   "metadata": {},
   "source": [
    "# Miscellaneous Methods "
   ]
  },
  {
   "cell_type": "code",
   "execution_count": 84,
   "id": "87043113-fbc6-4ffd-9c70-f334d6e5765c",
   "metadata": {},
   "outputs": [
    {
     "data": {
      "text/plain": [
       "(shape: (2, 12)\n",
       " ┌────────┬────────────┬───────────┬────────────┬───┬────────────┬───────────┬───────────┬──────────┐\n",
       " │ Gender ┆ id         ┆ Age       ┆ Driving_Li ┆ … ┆ Annual_Pre ┆ Policy_Sa ┆ Vintage   ┆ Response │\n",
       " │ ---    ┆ ---        ┆ ---       ┆ cense      ┆   ┆ mium       ┆ les_Chann ┆ ---       ┆ ---      │\n",
       " │ str    ┆ i64        ┆ i64       ┆ ---        ┆   ┆ ---        ┆ el        ┆ i64       ┆ i64      │\n",
       " │        ┆            ┆           ┆ i64        ┆   ┆ f64        ┆ ---       ┆           ┆          │\n",
       " │        ┆            ┆           ┆            ┆   ┆            ┆ f64       ┆           ┆          │\n",
       " ╞════════╪════════════╪═══════════╪════════════╪═══╪════════════╪═══════════╪═══════════╪══════════╡\n",
       " │ Female ┆ 3035405904 ┆ 188985590 ┆ 5270990    ┆ … ┆ 1.5973e11  ┆ 6.2918264 ┆ 869205331 ┆ 545061   │\n",
       " │        ┆ 3684       ┆           ┆            ┆   ┆            ┆ 4e8       ┆           ┆          │\n",
       " │ Male   ┆ 3582612371 ┆ 252609553 ┆ 6211051    ┆ … ┆ 1.9072e11  ┆ 6.6424935 ┆ 101640510 ┆ 869998   │\n",
       " │        ┆ 4319       ┆           ┆            ┆   ┆            ┆ 5e8       ┆ 5         ┆          │\n",
       " └────────┴────────────┴───────────┴────────────┴───┴────────────┴───────────┴───────────┴──────────┘,\n",
       " shape: (3, 3)\n",
       " ┌──────────────────────────────┬────────┬────────┐\n",
       " │ node                         ┆ start  ┆ end    │\n",
       " │ ---                          ┆ ---    ┆ ---    │\n",
       " │ str                          ┆ u64    ┆ u64    │\n",
       " ╞══════════════════════════════╪════════╪════════╡\n",
       " │ optimization                 ┆ 0      ┆ 26863  │\n",
       " │ group_by_partitioned(Gender) ┆ 26863  ┆ 524796 │\n",
       " │ sort(Gender)                 ┆ 524803 ┆ 524915 │\n",
       " └──────────────────────────────┴────────┴────────┘)"
      ]
     },
     "execution_count": 84,
     "metadata": {},
     "output_type": "execute_result"
    }
   ],
   "source": [
    "# profile \n",
    "\n",
    "lazy_df.group_by(\"Gender\", maintain_order=True).agg(pl.all().sum()).sort(\n",
    "    \"Gender\"\n",
    ").profile()"
   ]
  },
  {
   "cell_type": "code",
   "execution_count": 85,
   "id": "03e2a820-5354-47af-90ca-0f253a032cc7",
   "metadata": {},
   "outputs": [
    {
     "name": "stdout",
     "output_type": "stream",
     "text": [
      "shape: (1, 3)\n",
      "┌─────┬─────┬─────┐\n",
      "│ a   ┆ b   ┆ c   │\n",
      "│ --- ┆ --- ┆ --- │\n",
      "│ i64 ┆ i64 ┆ i64 │\n",
      "╞═════╪═════╪═════╡\n",
      "│ 4   ┆ 8   ┆ 12  │\n",
      "└─────┴─────┴─────┘\n"
     ]
    }
   ],
   "source": [
    "# pipe method\n",
    "\n",
    "df = pl.LazyFrame({\n",
    "    \"a\": [1, 2, 3, 4],\n",
    "    \"b\": [5, 6, 7, 8]\n",
    "})\n",
    "\n",
    "# Function to add a new column\n",
    "def add_new_column(df, col1, col2):\n",
    "    return df.with_columns((pl.col(col1) + pl.col(col2)).alias(\"c\"))\n",
    "\n",
    "# Function to filter rows where the new column is greater than a threshold\n",
    "def filter_rows(df, threshold):\n",
    "    return df.filter(pl.col(\"c\") > threshold)\n",
    "\n",
    "# Chaining multiple operations\n",
    "df_final = (\n",
    "    df.pipe(add_new_column, \"a\", \"b\")\n",
    "       .pipe(filter_rows, threshold=10)\n",
    ").collect()\n",
    "\n",
    "print(df_final)"
   ]
  }
 ],
 "metadata": {
  "kernelspec": {
   "display_name": "Python 3 (ipykernel)",
   "language": "python",
   "name": "python3"
  },
  "language_info": {
   "codemirror_mode": {
    "name": "ipython",
    "version": 3
   },
   "file_extension": ".py",
   "mimetype": "text/x-python",
   "name": "python",
   "nbconvert_exporter": "python",
   "pygments_lexer": "ipython3",
   "version": "3.11.7"
  }
 },
 "nbformat": 4,
 "nbformat_minor": 5
}
