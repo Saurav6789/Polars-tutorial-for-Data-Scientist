{
 "cells": [
  {
   "cell_type": "markdown",
   "id": "7470c84d-4c08-445e-ba60-fb4683bbe6fa",
   "metadata": {},
   "source": [
    "# Import Polars "
   ]
  },
  {
   "cell_type": "code",
   "execution_count": 1,
   "id": "9e1d02ef-ce7c-4dbc-84c8-0cce632e05fc",
   "metadata": {},
   "outputs": [
    {
     "name": "stdout",
     "output_type": "stream",
     "text": [
      "1.5.0\n"
     ]
    }
   ],
   "source": [
    "import polars as pl \n",
    "print(pl.__version__)"
   ]
  },
  {
   "cell_type": "code",
   "execution_count": 2,
   "id": "8d9c3061-a56d-48c7-b6d7-2020617d5d66",
   "metadata": {},
   "outputs": [],
   "source": [
    "insurance_df = pl.read_csv(\"Insurance.csv\")"
   ]
  },
  {
   "cell_type": "code",
   "execution_count": 3,
   "id": "e9ba3dec-7543-47b1-a68a-32702487a8c3",
   "metadata": {},
   "outputs": [
    {
     "data": {
      "text/plain": [
       "polars.dataframe.frame.DataFrame"
      ]
     },
     "execution_count": 3,
     "metadata": {},
     "output_type": "execute_result"
    }
   ],
   "source": [
    "type(insurance_df)"
   ]
  },
  {
   "cell_type": "code",
   "execution_count": 4,
   "id": "c38f4a73-7671-4ff4-9789-6da9ee58e156",
   "metadata": {},
   "outputs": [
    {
     "data": {
      "text/plain": [
       "['id',\n",
       " 'Gender',\n",
       " 'Age',\n",
       " 'Driving_License',\n",
       " 'Region_Code',\n",
       " 'Previously_Insured',\n",
       " 'Vehicle_Age',\n",
       " 'Vehicle_Damage',\n",
       " 'Annual_Premium',\n",
       " 'Policy_Sales_Channel',\n",
       " 'Vintage',\n",
       " 'Response']"
      ]
     },
     "execution_count": 4,
     "metadata": {},
     "output_type": "execute_result"
    }
   ],
   "source": [
    "insurance_df.columns"
   ]
  },
  {
   "cell_type": "markdown",
   "id": "1a0f2385-b1b0-4653-98e6-e66d8a9afe27",
   "metadata": {},
   "source": [
    "# Aggregate Functions"
   ]
  },
  {
   "cell_type": "code",
   "execution_count": 6,
   "id": "e580beef-6b46-436c-afee-c61bb5919ab4",
   "metadata": {},
   "outputs": [
    {
     "data": {
      "text/html": [
       "<div><style>\n",
       ".dataframe > thead > tr,\n",
       ".dataframe > tbody > tr {\n",
       "  text-align: right;\n",
       "  white-space: pre-wrap;\n",
       "}\n",
       "</style>\n",
       "<small>shape: (2, 2)</small><table border=\"1\" class=\"dataframe\"><thead><tr><th>Gender</th><th>Annual_Premium</th></tr><tr><td>str</td><td>list[u32]</td></tr></thead><tbody><tr><td>&quot;Male&quot;</td><td>[0, 1, … 11504797]</td></tr><tr><td>&quot;Female&quot;</td><td>[2, 3, … 11504796]</td></tr></tbody></table></div>"
      ],
      "text/plain": [
       "shape: (2, 2)\n",
       "┌────────┬────────────────────┐\n",
       "│ Gender ┆ Annual_Premium     │\n",
       "│ ---    ┆ ---                │\n",
       "│ str    ┆ list[u32]          │\n",
       "╞════════╪════════════════════╡\n",
       "│ Male   ┆ [0, 1, … 11504797] │\n",
       "│ Female ┆ [2, 3, … 11504796] │\n",
       "└────────┴────────────────────┘"
      ]
     },
     "execution_count": 6,
     "metadata": {},
     "output_type": "execute_result"
    }
   ],
   "source": [
    "# polars.Expr.agg_groups\n",
    "insurance_df.group_by(\"Gender\",maintain_order=True).agg(pl.col(\"Annual_Premium\").agg_groups())"
   ]
  },
  {
   "cell_type": "code",
   "execution_count": 7,
   "id": "6f93ab63-fe4e-4ee1-afc3-0f0d7c5a402d",
   "metadata": {},
   "outputs": [
    {
     "data": {
      "text/html": [
       "<div><style>\n",
       ".dataframe > thead > tr,\n",
       ".dataframe > tbody > tr {\n",
       "  text-align: right;\n",
       "  white-space: pre-wrap;\n",
       "}\n",
       "</style>\n",
       "<small>shape: (1, 1)</small><table border=\"1\" class=\"dataframe\"><thead><tr><th>Annual_Premium</th></tr><tr><td>u32</td></tr></thead><tbody><tr><td>586353</td></tr></tbody></table></div>"
      ],
      "text/plain": [
       "shape: (1, 1)\n",
       "┌────────────────┐\n",
       "│ Annual_Premium │\n",
       "│ ---            │\n",
       "│ u32            │\n",
       "╞════════════════╡\n",
       "│ 586353         │\n",
       "└────────────────┘"
      ]
     },
     "execution_count": 7,
     "metadata": {},
     "output_type": "execute_result"
    }
   ],
   "source": [
    "# polars.Expr.arg_max\n",
    "insurance_df.select(pl.col(\"Annual_Premium\").arg_max())"
   ]
  },
  {
   "cell_type": "code",
   "execution_count": 8,
   "id": "a0784aa9-3188-4aa4-a644-84eea4741eb6",
   "metadata": {},
   "outputs": [
    {
     "data": {
      "text/html": [
       "<div><style>\n",
       ".dataframe > thead > tr,\n",
       ".dataframe > tbody > tr {\n",
       "  text-align: right;\n",
       "  white-space: pre-wrap;\n",
       "}\n",
       "</style>\n",
       "<small>shape: (1, 1)</small><table border=\"1\" class=\"dataframe\"><thead><tr><th>Annual_Premium</th></tr><tr><td>u32</td></tr></thead><tbody><tr><td>3</td></tr></tbody></table></div>"
      ],
      "text/plain": [
       "shape: (1, 1)\n",
       "┌────────────────┐\n",
       "│ Annual_Premium │\n",
       "│ ---            │\n",
       "│ u32            │\n",
       "╞════════════════╡\n",
       "│ 3              │\n",
       "└────────────────┘"
      ]
     },
     "execution_count": 8,
     "metadata": {},
     "output_type": "execute_result"
    }
   ],
   "source": [
    "# polars.Expr.arg_min\n",
    "insurance_df.select(pl.col(\"Annual_Premium\").arg_min())"
   ]
  },
  {
   "cell_type": "code",
   "execution_count": 9,
   "id": "550cfc5b-cdab-4271-91ab-2eaebd99ad8a",
   "metadata": {},
   "outputs": [
    {
     "data": {
      "text/html": [
       "<div><style>\n",
       ".dataframe > thead > tr,\n",
       ".dataframe > tbody > tr {\n",
       "  text-align: right;\n",
       "  white-space: pre-wrap;\n",
       "}\n",
       "</style>\n",
       "<small>shape: (1, 12)</small><table border=\"1\" class=\"dataframe\"><thead><tr><th>id</th><th>Gender</th><th>Age</th><th>Driving_License</th><th>Region_Code</th><th>Previously_Insured</th><th>Vehicle_Age</th><th>Vehicle_Damage</th><th>Annual_Premium</th><th>Policy_Sales_Channel</th><th>Vintage</th><th>Response</th></tr><tr><td>u32</td><td>u32</td><td>u32</td><td>u32</td><td>u32</td><td>u32</td><td>u32</td><td>u32</td><td>u32</td><td>u32</td><td>u32</td><td>u32</td></tr></thead><tbody><tr><td>11504798</td><td>11504798</td><td>11504798</td><td>11504798</td><td>11504798</td><td>11504798</td><td>11504798</td><td>11504798</td><td>11504798</td><td>11504798</td><td>11504798</td><td>11504798</td></tr></tbody></table></div>"
      ],
      "text/plain": [
       "shape: (1, 12)\n",
       "┌──────────┬──────────┬──────────┬─────────────┬───┬────────────┬────────────┬──────────┬──────────┐\n",
       "│ id       ┆ Gender   ┆ Age      ┆ Driving_Lic ┆ … ┆ Annual_Pre ┆ Policy_Sal ┆ Vintage  ┆ Response │\n",
       "│ ---      ┆ ---      ┆ ---      ┆ ense        ┆   ┆ mium       ┆ es_Channel ┆ ---      ┆ ---      │\n",
       "│ u32      ┆ u32      ┆ u32      ┆ ---         ┆   ┆ ---        ┆ ---        ┆ u32      ┆ u32      │\n",
       "│          ┆          ┆          ┆ u32         ┆   ┆ u32        ┆ u32        ┆          ┆          │\n",
       "╞══════════╪══════════╪══════════╪═════════════╪═══╪════════════╪════════════╪══════════╪══════════╡\n",
       "│ 11504798 ┆ 11504798 ┆ 11504798 ┆ 11504798    ┆ … ┆ 11504798   ┆ 11504798   ┆ 11504798 ┆ 11504798 │\n",
       "└──────────┴──────────┴──────────┴─────────────┴───┴────────────┴────────────┴──────────┴──────────┘"
      ]
     },
     "execution_count": 9,
     "metadata": {},
     "output_type": "execute_result"
    }
   ],
   "source": [
    "# polars.Expr.count\n",
    "insurance_df.select(pl.all().count())"
   ]
  },
  {
   "cell_type": "code",
   "execution_count": 11,
   "id": "cb0f263e-f4a9-4ae2-bdd5-3f9032b7f81a",
   "metadata": {},
   "outputs": [
    {
     "data": {
      "text/html": [
       "<div><style>\n",
       ".dataframe > thead > tr,\n",
       ".dataframe > tbody > tr {\n",
       "  text-align: right;\n",
       "  white-space: pre-wrap;\n",
       "}\n",
       "</style>\n",
       "<small>shape: (1, 2)</small><table border=\"1\" class=\"dataframe\"><thead><tr><th>Countries</th><th>GDP</th></tr><tr><td>list[str]</td><td>list[i64]</td></tr></thead><tbody><tr><td>[&quot;India&quot;, &quot;Australia&quot;, &quot;England&quot;]</td><td>[26, 45, 60]</td></tr></tbody></table></div>"
      ],
      "text/plain": [
       "shape: (1, 2)\n",
       "┌─────────────────────────────────┬──────────────┐\n",
       "│ Countries                       ┆ GDP          │\n",
       "│ ---                             ┆ ---          │\n",
       "│ list[str]                       ┆ list[i64]    │\n",
       "╞═════════════════════════════════╪══════════════╡\n",
       "│ [\"India\", \"Australia\", \"Englan… ┆ [26, 45, 60] │\n",
       "└─────────────────────────────────┴──────────────┘"
      ]
     },
     "execution_count": 11,
     "metadata": {},
     "output_type": "execute_result"
    }
   ],
   "source": [
    "# polars.Expr.implode\n",
    "df = pl.DataFrame({\n",
    "    \"Countries\":[\"India\",\"Australia\",\"England\"],\n",
    "    \"GDP\":[26,45,60]\n",
    "})\n",
    "df.select(pl.all().implode())"
   ]
  },
  {
   "cell_type": "code",
   "execution_count": 12,
   "id": "b581c7e4-92a9-4b3b-86de-2e60261ea9c2",
   "metadata": {},
   "outputs": [
    {
     "data": {
      "text/html": [
       "<div><style>\n",
       ".dataframe > thead > tr,\n",
       ".dataframe > tbody > tr {\n",
       "  text-align: right;\n",
       "  white-space: pre-wrap;\n",
       "}\n",
       "</style>\n",
       "<small>shape: (1, 1)</small><table border=\"1\" class=\"dataframe\"><thead><tr><th>Policy_Sales_Channel</th></tr><tr><td>f64</td></tr></thead><tbody><tr><td>163.0</td></tr></tbody></table></div>"
      ],
      "text/plain": [
       "shape: (1, 1)\n",
       "┌──────────────────────┐\n",
       "│ Policy_Sales_Channel │\n",
       "│ ---                  │\n",
       "│ f64                  │\n",
       "╞══════════════════════╡\n",
       "│ 163.0                │\n",
       "└──────────────────────┘"
      ]
     },
     "execution_count": 12,
     "metadata": {},
     "output_type": "execute_result"
    }
   ],
   "source": [
    "# polars.Expr.max\n",
    "\n",
    "insurance_df.select(pl.col(\"Policy_Sales_Channel\").max())"
   ]
  },
  {
   "cell_type": "code",
   "execution_count": 13,
   "id": "74799dc9-2101-4ae9-b35f-1dd9b9383614",
   "metadata": {},
   "outputs": [
    {
     "data": {
      "text/html": [
       "<div><style>\n",
       ".dataframe > thead > tr,\n",
       ".dataframe > tbody > tr {\n",
       "  text-align: right;\n",
       "  white-space: pre-wrap;\n",
       "}\n",
       "</style>\n",
       "<small>shape: (1, 1)</small><table border=\"1\" class=\"dataframe\"><thead><tr><th>Policy_Sales_Channel</th></tr><tr><td>f64</td></tr></thead><tbody><tr><td>112.425442</td></tr></tbody></table></div>"
      ],
      "text/plain": [
       "shape: (1, 1)\n",
       "┌──────────────────────┐\n",
       "│ Policy_Sales_Channel │\n",
       "│ ---                  │\n",
       "│ f64                  │\n",
       "╞══════════════════════╡\n",
       "│ 112.425442           │\n",
       "└──────────────────────┘"
      ]
     },
     "execution_count": 13,
     "metadata": {},
     "output_type": "execute_result"
    }
   ],
   "source": [
    "# polars.Expr.mean\n",
    "insurance_df.select(pl.col(\"Policy_Sales_Channel\").mean())"
   ]
  },
  {
   "cell_type": "code",
   "execution_count": 15,
   "id": "1bd6c612-f9ef-495a-8b41-7f92a80eb1be",
   "metadata": {},
   "outputs": [
    {
     "data": {
      "text/html": [
       "<div><style>\n",
       ".dataframe > thead > tr,\n",
       ".dataframe > tbody > tr {\n",
       "  text-align: right;\n",
       "  white-space: pre-wrap;\n",
       "}\n",
       "</style>\n",
       "<small>shape: (1, 1)</small><table border=\"1\" class=\"dataframe\"><thead><tr><th>Policy_Sales_Channel</th></tr><tr><td>f64</td></tr></thead><tbody><tr><td>151.0</td></tr></tbody></table></div>"
      ],
      "text/plain": [
       "shape: (1, 1)\n",
       "┌──────────────────────┐\n",
       "│ Policy_Sales_Channel │\n",
       "│ ---                  │\n",
       "│ f64                  │\n",
       "╞══════════════════════╡\n",
       "│ 151.0                │\n",
       "└──────────────────────┘"
      ]
     },
     "execution_count": 15,
     "metadata": {},
     "output_type": "execute_result"
    }
   ],
   "source": [
    "# polars.Expr.quantile\n",
    "\n",
    "insurance_df.select(pl.col(\"Policy_Sales_Channel\").quantile(0.5))\n"
   ]
  },
  {
   "cell_type": "markdown",
   "id": "c9851bbc-308f-4d1a-beab-56efccbdebb5",
   "metadata": {},
   "source": [
    "# Array Methods "
   ]
  },
  {
   "cell_type": "code",
   "execution_count": 28,
   "id": "42f695bc-f3ed-497a-ae7c-128ad5cd74c8",
   "metadata": {},
   "outputs": [
    {
     "data": {
      "text/html": [
       "<div><style>\n",
       ".dataframe > thead > tr,\n",
       ".dataframe > tbody > tr {\n",
       "  text-align: right;\n",
       "  white-space: pre-wrap;\n",
       "}\n",
       "</style>\n",
       "<small>shape: (2, 1)</small><table border=\"1\" class=\"dataframe\"><thead><tr><th>GDP</th></tr><tr><td>i64</td></tr></thead><tbody><tr><td>45</td></tr><tr><td>60</td></tr></tbody></table></div>"
      ],
      "text/plain": [
       "shape: (2, 1)\n",
       "┌─────┐\n",
       "│ GDP │\n",
       "│ --- │\n",
       "│ i64 │\n",
       "╞═════╡\n",
       "│ 45  │\n",
       "│ 60  │\n",
       "└─────┘"
      ]
     },
     "execution_count": 28,
     "metadata": {},
     "output_type": "execute_result"
    }
   ],
   "source": [
    "df = pl.DataFrame( data = {\n",
    "    \"GDP\":[[26,45],[60,35]]\n",
    "},schema={\"GDP\": pl.Array(pl.Int64, 2)},)\n",
    "df.select(pl.col(\"GDP\").arr.max())"
   ]
  },
  {
   "cell_type": "code",
   "execution_count": 17,
   "id": "bd7b62c6-a9f0-4061-ba7f-d87a13eab695",
   "metadata": {},
   "outputs": [
    {
     "data": {
      "text/html": [
       "<div><style>\n",
       ".dataframe > thead > tr,\n",
       ".dataframe > tbody > tr {\n",
       "  text-align: right;\n",
       "  white-space: pre-wrap;\n",
       "}\n",
       "</style>\n",
       "<small>shape: (2, 1)</small><table border=\"1\" class=\"dataframe\"><thead><tr><th>GDP</th></tr><tr><td>i64</td></tr></thead><tbody><tr><td>71</td></tr><tr><td>95</td></tr></tbody></table></div>"
      ],
      "text/plain": [
       "shape: (2, 1)\n",
       "┌─────┐\n",
       "│ GDP │\n",
       "│ --- │\n",
       "│ i64 │\n",
       "╞═════╡\n",
       "│ 71  │\n",
       "│ 95  │\n",
       "└─────┘"
      ]
     },
     "execution_count": 17,
     "metadata": {},
     "output_type": "execute_result"
    }
   ],
   "source": [
    "# polars.Expr.arr.sum\n",
    "\n",
    "df.select(pl.col(\"GDP\").arr.sum())\n"
   ]
  },
  {
   "cell_type": "code",
   "execution_count": 18,
   "id": "69f7503d-0e08-40e8-835b-46cf00e30576",
   "metadata": {},
   "outputs": [
    {
     "data": {
      "text/html": [
       "<div><style>\n",
       ".dataframe > thead > tr,\n",
       ".dataframe > tbody > tr {\n",
       "  text-align: right;\n",
       "  white-space: pre-wrap;\n",
       "}\n",
       "</style>\n",
       "<small>shape: (2, 1)</small><table border=\"1\" class=\"dataframe\"><thead><tr><th>GDP</th></tr><tr><td>list[i64]</td></tr></thead><tbody><tr><td>[26, 45]</td></tr><tr><td>[60, 35]</td></tr></tbody></table></div>"
      ],
      "text/plain": [
       "shape: (2, 1)\n",
       "┌───────────┐\n",
       "│ GDP       │\n",
       "│ ---       │\n",
       "│ list[i64] │\n",
       "╞═══════════╡\n",
       "│ [26, 45]  │\n",
       "│ [60, 35]  │\n",
       "└───────────┘"
      ]
     },
     "execution_count": 18,
     "metadata": {},
     "output_type": "execute_result"
    }
   ],
   "source": [
    "# polars.Expr.arr.to_list\n",
    "\n",
    "df.select(pl.col(\"GDP\").arr.to_list())\n"
   ]
  },
  {
   "cell_type": "code",
   "execution_count": 19,
   "id": "ec818e76-8d9c-4e4d-a002-00e56631e7ba",
   "metadata": {},
   "outputs": [
    {
     "data": {
      "text/html": [
       "<div><style>\n",
       ".dataframe > thead > tr,\n",
       ".dataframe > tbody > tr {\n",
       "  text-align: right;\n",
       "  white-space: pre-wrap;\n",
       "}\n",
       "</style>\n",
       "<small>shape: (2, 2)</small><table border=\"1\" class=\"dataframe\"><thead><tr><th>GDP</th><th>reverse</th></tr><tr><td>array[i64, 2]</td><td>array[i64, 2]</td></tr></thead><tbody><tr><td>[26, 45]</td><td>[45, 26]</td></tr><tr><td>[60, 35]</td><td>[35, 60]</td></tr></tbody></table></div>"
      ],
      "text/plain": [
       "shape: (2, 2)\n",
       "┌───────────────┬───────────────┐\n",
       "│ GDP           ┆ reverse       │\n",
       "│ ---           ┆ ---           │\n",
       "│ array[i64, 2] ┆ array[i64, 2] │\n",
       "╞═══════════════╪═══════════════╡\n",
       "│ [26, 45]      ┆ [45, 26]      │\n",
       "│ [60, 35]      ┆ [35, 60]      │\n",
       "└───────────────┴───────────────┘"
      ]
     },
     "execution_count": 19,
     "metadata": {},
     "output_type": "execute_result"
    }
   ],
   "source": [
    "# polars.Expr.arr.reverse\n",
    "\n",
    "df.with_columns(reverse=pl.col(\"GDP\").arr.reverse())"
   ]
  },
  {
   "cell_type": "code",
   "execution_count": 20,
   "id": "9d288ac4-ec14-4b6b-8655-b08841ea5689",
   "metadata": {},
   "outputs": [
    {
     "data": {
      "text/html": [
       "<div><style>\n",
       ".dataframe > thead > tr,\n",
       ".dataframe > tbody > tr {\n",
       "  text-align: right;\n",
       "  white-space: pre-wrap;\n",
       "}\n",
       "</style>\n",
       "<small>shape: (2, 2)</small><table border=\"1\" class=\"dataframe\"><thead><tr><th>GDP</th><th>contains</th></tr><tr><td>array[i64, 2]</td><td>bool</td></tr></thead><tbody><tr><td>[26, 45]</td><td>false</td></tr><tr><td>[60, 35]</td><td>true</td></tr></tbody></table></div>"
      ],
      "text/plain": [
       "shape: (2, 2)\n",
       "┌───────────────┬──────────┐\n",
       "│ GDP           ┆ contains │\n",
       "│ ---           ┆ ---      │\n",
       "│ array[i64, 2] ┆ bool     │\n",
       "╞═══════════════╪══════════╡\n",
       "│ [26, 45]      ┆ false    │\n",
       "│ [60, 35]      ┆ true     │\n",
       "└───────────────┴──────────┘"
      ]
     },
     "execution_count": 20,
     "metadata": {},
     "output_type": "execute_result"
    }
   ],
   "source": [
    "# polars.Expr.arr.contains\n",
    "df.with_columns(contains=pl.col(\"GDP\").arr.contains(60))"
   ]
  },
  {
   "cell_type": "code",
   "execution_count": 21,
   "id": "3bbab47d-0494-4784-a270-7d88eeaaba5a",
   "metadata": {},
   "outputs": [
    {
     "data": {
      "text/html": [
       "<div><style>\n",
       ".dataframe > thead > tr,\n",
       ".dataframe > tbody > tr {\n",
       "  text-align: right;\n",
       "  white-space: pre-wrap;\n",
       "}\n",
       "</style>\n",
       "<small>shape: (2, 2)</small><table border=\"1\" class=\"dataframe\"><thead><tr><th>GDP</th><th>arg_max</th></tr><tr><td>array[i64, 2]</td><td>u32</td></tr></thead><tbody><tr><td>[26, 45]</td><td>1</td></tr><tr><td>[60, 35]</td><td>0</td></tr></tbody></table></div>"
      ],
      "text/plain": [
       "shape: (2, 2)\n",
       "┌───────────────┬─────────┐\n",
       "│ GDP           ┆ arg_max │\n",
       "│ ---           ┆ ---     │\n",
       "│ array[i64, 2] ┆ u32     │\n",
       "╞═══════════════╪═════════╡\n",
       "│ [26, 45]      ┆ 1       │\n",
       "│ [60, 35]      ┆ 0       │\n",
       "└───────────────┴─────────┘"
      ]
     },
     "execution_count": 21,
     "metadata": {},
     "output_type": "execute_result"
    }
   ],
   "source": [
    "# polars.Expr.arr.arg_max\n",
    "\n",
    "df.with_columns(arg_max=pl.col(\"GDP\").arr.arg_max())\n"
   ]
  },
  {
   "cell_type": "code",
   "execution_count": 30,
   "id": "679ea618-bb2c-4d5d-ad6d-4416834fc627",
   "metadata": {},
   "outputs": [
    {
     "data": {
      "text/html": [
       "<div><style>\n",
       ".dataframe > thead > tr,\n",
       ".dataframe > tbody > tr {\n",
       "  text-align: right;\n",
       "  white-space: pre-wrap;\n",
       "}\n",
       "</style>\n",
       "<small>shape: (2, 2)</small><table border=\"1\" class=\"dataframe\"><thead><tr><th>GDP</th><th>sort</th></tr><tr><td>array[i64, 2]</td><td>array[i64, 2]</td></tr></thead><tbody><tr><td>[26, 45]</td><td>[26, 45]</td></tr><tr><td>[60, 35]</td><td>[35, 60]</td></tr></tbody></table></div>"
      ],
      "text/plain": [
       "shape: (2, 2)\n",
       "┌───────────────┬───────────────┐\n",
       "│ GDP           ┆ sort          │\n",
       "│ ---           ┆ ---           │\n",
       "│ array[i64, 2] ┆ array[i64, 2] │\n",
       "╞═══════════════╪═══════════════╡\n",
       "│ [26, 45]      ┆ [26, 45]      │\n",
       "│ [60, 35]      ┆ [35, 60]      │\n",
       "└───────────────┴───────────────┘"
      ]
     },
     "execution_count": 30,
     "metadata": {},
     "output_type": "execute_result"
    }
   ],
   "source": [
    "# polars.Expr.arr.sort\n",
    "\n",
    "df.with_columns(sort=pl.col(\"GDP\").arr.sort())"
   ]
  },
  {
   "cell_type": "code",
   "execution_count": 31,
   "id": "f85f9467-9762-4a8b-a4e5-87f941e55acb",
   "metadata": {},
   "outputs": [
    {
     "data": {
      "text/html": [
       "<div><style>\n",
       ".dataframe > thead > tr,\n",
       ".dataframe > tbody > tr {\n",
       "  text-align: right;\n",
       "  white-space: pre-wrap;\n",
       "}\n",
       "</style>\n",
       "<small>shape: (2, 1)</small><table border=\"1\" class=\"dataframe\"><thead><tr><th>GDP</th></tr><tr><td>list[i64]</td></tr></thead><tbody><tr><td>[26, 45]</td></tr><tr><td>[35, 60]</td></tr></tbody></table></div>"
      ],
      "text/plain": [
       "shape: (2, 1)\n",
       "┌───────────┐\n",
       "│ GDP       │\n",
       "│ ---       │\n",
       "│ list[i64] │\n",
       "╞═══════════╡\n",
       "│ [26, 45]  │\n",
       "│ [35, 60]  │\n",
       "└───────────┘"
      ]
     },
     "execution_count": 31,
     "metadata": {},
     "output_type": "execute_result"
    }
   ],
   "source": [
    "# polars.Expr.arr.unique\n",
    "df.select(pl.col(\"GDP\").arr.unique())\n"
   ]
  },
  {
   "cell_type": "code",
   "execution_count": 32,
   "id": "04b38412-55d7-41bd-816b-50a20cb7cc5f",
   "metadata": {},
   "outputs": [
    {
     "data": {
      "text/html": [
       "<div><style>\n",
       ".dataframe > thead > tr,\n",
       ".dataframe > tbody > tr {\n",
       "  text-align: right;\n",
       "  white-space: pre-wrap;\n",
       "}\n",
       "</style>\n",
       "<small>shape: (2, 2)</small><table border=\"1\" class=\"dataframe\"><thead><tr><th>GDP</th><th>n_unique</th></tr><tr><td>array[i64, 2]</td><td>u32</td></tr></thead><tbody><tr><td>[26, 45]</td><td>2</td></tr><tr><td>[60, 35]</td><td>2</td></tr></tbody></table></div>"
      ],
      "text/plain": [
       "shape: (2, 2)\n",
       "┌───────────────┬──────────┐\n",
       "│ GDP           ┆ n_unique │\n",
       "│ ---           ┆ ---      │\n",
       "│ array[i64, 2] ┆ u32      │\n",
       "╞═══════════════╪══════════╡\n",
       "│ [26, 45]      ┆ 2        │\n",
       "│ [60, 35]      ┆ 2        │\n",
       "└───────────────┴──────────┘"
      ]
     },
     "execution_count": 32,
     "metadata": {},
     "output_type": "execute_result"
    }
   ],
   "source": [
    "# polars.Expr.arr.n_unique\n",
    "df.with_columns(n_unique=pl.col(\"GDP\").arr.n_unique())\n"
   ]
  },
  {
   "cell_type": "markdown",
   "id": "7c63d153-6277-4714-ae4c-7fcf82a62902",
   "metadata": {},
   "source": [
    "# Categories Method "
   ]
  },
  {
   "cell_type": "code",
   "execution_count": 35,
   "id": "a4037902-252b-4f75-9599-59986b799ccf",
   "metadata": {},
   "outputs": [
    {
     "name": "stderr",
     "output_type": "stream",
     "text": [
      "C:\\Users\\Saurav\\AppData\\Local\\Temp\\ipykernel_628\\3897525799.py:1: CategoricalRemappingWarning: Local categoricals have different encodings, expensive re-encoding is done to perform this merge operation. Consider using a StringCache or an Enum type if the categories are known in advance\n",
      "  insurance_df.with_columns(\n"
     ]
    },
    {
     "data": {
      "text/html": [
       "<div><style>\n",
       ".dataframe > thead > tr,\n",
       ".dataframe > tbody > tr {\n",
       "  text-align: right;\n",
       "  white-space: pre-wrap;\n",
       "}\n",
       "</style>\n",
       "<small>shape: (2, 1)</small><table border=\"1\" class=\"dataframe\"><thead><tr><th>Gender</th></tr><tr><td>str</td></tr></thead><tbody><tr><td>&quot;Male&quot;</td></tr><tr><td>&quot;Female&quot;</td></tr></tbody></table></div>"
      ],
      "text/plain": [
       "shape: (2, 1)\n",
       "┌────────┐\n",
       "│ Gender │\n",
       "│ ---    │\n",
       "│ str    │\n",
       "╞════════╡\n",
       "│ Male   │\n",
       "│ Female │\n",
       "└────────┘"
      ]
     },
     "execution_count": 35,
     "metadata": {},
     "output_type": "execute_result"
    }
   ],
   "source": [
    "# polars.Expr.cat.get_categories\n",
    "insurance_df.with_columns(\n",
    "    pl.col(\"Gender\").cast(pl.Categorical)\n",
    ").select(\n",
    "    pl.col(\"Gender\").cat.get_categories()\n",
    ")"
   ]
  },
  {
   "cell_type": "markdown",
   "id": "740e3890-6c67-4e0e-862d-0f62e174f3c9",
   "metadata": {},
   "source": [
    "# Column/Names Method"
   ]
  },
  {
   "cell_type": "code",
   "execution_count": 36,
   "id": "d6cdb3fb-abc8-4078-b140-bc9490b2b7dc",
   "metadata": {},
   "outputs": [
    {
     "data": {
      "text/html": [
       "<div><style>\n",
       ".dataframe > thead > tr,\n",
       ".dataframe > tbody > tr {\n",
       "  text-align: right;\n",
       "  white-space: pre-wrap;\n",
       "}\n",
       "</style>\n",
       "<small>shape: (3, 2)</small><table border=\"1\" class=\"dataframe\"><thead><tr><th>X</th><th>Y</th></tr><tr><td>i64</td><td>i64</td></tr></thead><tbody><tr><td>1</td><td>4</td></tr><tr><td>2</td><td>5</td></tr><tr><td>3</td><td>6</td></tr></tbody></table></div>"
      ],
      "text/plain": [
       "shape: (3, 2)\n",
       "┌─────┬─────┐\n",
       "│ X   ┆ Y   │\n",
       "│ --- ┆ --- │\n",
       "│ i64 ┆ i64 │\n",
       "╞═════╪═════╡\n",
       "│ 1   ┆ 4   │\n",
       "│ 2   ┆ 5   │\n",
       "│ 3   ┆ 6   │\n",
       "└─────┴─────┘"
      ]
     },
     "execution_count": 36,
     "metadata": {},
     "output_type": "execute_result"
    }
   ],
   "source": [
    "# polars.Expr.alias\n",
    "\n",
    "df = df = pl.DataFrame({\n",
    "    \"A\": [1, 2, 3],\n",
    "    \"B\": [4, 5, 6]\n",
    "})\n",
    "\n",
    "df.select(\n",
    "    pl.col(\"A\").alias(\"X\"),\n",
    "    pl.col(\"B\").alias(\"Y\")\n",
    ")"
   ]
  },
  {
   "cell_type": "code",
   "execution_count": 37,
   "id": "8737f487-3482-47f9-99b9-9be261e9593a",
   "metadata": {},
   "outputs": [
    {
     "data": {
      "text/html": [
       "<div><style>\n",
       ".dataframe > thead > tr,\n",
       ".dataframe > tbody > tr {\n",
       "  text-align: right;\n",
       "  white-space: pre-wrap;\n",
       "}\n",
       "</style>\n",
       "<small>shape: (3, 3)</small><table border=\"1\" class=\"dataframe\"><thead><tr><th>A</th><th>B</th><th>C</th></tr><tr><td>i64</td><td>i64</td><td>i64</td></tr></thead><tbody><tr><td>1</td><td>4</td><td>5</td></tr><tr><td>2</td><td>5</td><td>7</td></tr><tr><td>3</td><td>6</td><td>9</td></tr></tbody></table></div>"
      ],
      "text/plain": [
       "shape: (3, 3)\n",
       "┌─────┬─────┬─────┐\n",
       "│ A   ┆ B   ┆ C   │\n",
       "│ --- ┆ --- ┆ --- │\n",
       "│ i64 ┆ i64 ┆ i64 │\n",
       "╞═════╪═════╪═════╡\n",
       "│ 1   ┆ 4   ┆ 5   │\n",
       "│ 2   ┆ 5   ┆ 7   │\n",
       "│ 3   ┆ 6   ┆ 9   │\n",
       "└─────┴─────┴─────┘"
      ]
     },
     "execution_count": 37,
     "metadata": {},
     "output_type": "execute_result"
    }
   ],
   "source": [
    "df.select(\n",
    "    pl.col(\"A\"),\n",
    "    pl.col(\"B\"),\n",
    "    (pl.col(\"A\") + pl.col(\"B\")).alias(\"C\")  # Computed column with alias\n",
    ")\n"
   ]
  },
  {
   "cell_type": "code",
   "execution_count": 38,
   "id": "d966913c-852c-4cfe-9818-feebe42486d7",
   "metadata": {},
   "outputs": [
    {
     "name": "stdout",
     "output_type": "stream",
     "text": [
      "shape: (3, 2)\n",
      "┌─────┬─────┐\n",
      "│ A   ┆ C   │\n",
      "│ --- ┆ --- │\n",
      "│ i64 ┆ i64 │\n",
      "╞═════╪═════╡\n",
      "│ 2   ┆ 14  │\n",
      "│ 4   ┆ 16  │\n",
      "│ 6   ┆ 18  │\n",
      "└─────┴─────┘\n"
     ]
    }
   ],
   "source": [
    "df = pl.DataFrame({\n",
    "    \"A\": [1, 2, 3],\n",
    "    \"B\": [4, 5, 6],\n",
    "    \"C\": [7, 8, 9]\n",
    "})\n",
    "df_result = df.select(\n",
    "    pl.exclude(\"B\") * 2  # Multiplies all columns except 'B' by 2\n",
    ")\n",
    "print(df_result)"
   ]
  },
  {
   "cell_type": "markdown",
   "id": "d0411bb4-61ad-4f49-86fb-0687abceaf61",
   "metadata": {},
   "source": [
    "# Computation Methods "
   ]
  },
  {
   "cell_type": "code",
   "execution_count": 39,
   "id": "af0c8466-859f-4850-a491-da517b56dac6",
   "metadata": {},
   "outputs": [
    {
     "data": {
      "text/html": [
       "<div><style>\n",
       ".dataframe > thead > tr,\n",
       ".dataframe > tbody > tr {\n",
       "  text-align: right;\n",
       "  white-space: pre-wrap;\n",
       "}\n",
       "</style>\n",
       "<small>shape: (11_504_798, 1)</small><table border=\"1\" class=\"dataframe\"><thead><tr><th>Policy_Sales_Channel</th></tr><tr><td>f64</td></tr></thead><tbody><tr><td>124.0</td></tr><tr><td>26.0</td></tr><tr><td>152.0</td></tr><tr><td>156.0</td></tr><tr><td>152.0</td></tr><tr><td>&hellip;</td></tr><tr><td>26.0</td></tr><tr><td>152.0</td></tr><tr><td>152.0</td></tr><tr><td>26.0</td></tr><tr><td>152.0</td></tr></tbody></table></div>"
      ],
      "text/plain": [
       "shape: (11_504_798, 1)\n",
       "┌──────────────────────┐\n",
       "│ Policy_Sales_Channel │\n",
       "│ ---                  │\n",
       "│ f64                  │\n",
       "╞══════════════════════╡\n",
       "│ 124.0                │\n",
       "│ 26.0                 │\n",
       "│ 152.0                │\n",
       "│ 156.0                │\n",
       "│ 152.0                │\n",
       "│ …                    │\n",
       "│ 26.0                 │\n",
       "│ 152.0                │\n",
       "│ 152.0                │\n",
       "│ 26.0                 │\n",
       "│ 152.0                │\n",
       "└──────────────────────┘"
      ]
     },
     "execution_count": 39,
     "metadata": {},
     "output_type": "execute_result"
    }
   ],
   "source": [
    "# polars.Expr.abs\n",
    "insurance_df.select(pl.col(\"Policy_Sales_Channel\").abs())"
   ]
  },
  {
   "cell_type": "code",
   "execution_count": 40,
   "id": "4beaf967-dde9-4150-8bea-a24912f07faa",
   "metadata": {},
   "outputs": [
    {
     "data": {
      "text/html": [
       "<div><style>\n",
       ".dataframe > thead > tr,\n",
       ".dataframe > tbody > tr {\n",
       "  text-align: right;\n",
       "  white-space: pre-wrap;\n",
       "}\n",
       "</style>\n",
       "<small>shape: (11_504_798, 1)</small><table border=\"1\" class=\"dataframe\"><thead><tr><th>Policy_Sales_Channel</th></tr><tr><td>f64</td></tr></thead><tbody><tr><td>-0.092776</td></tr><tr><td>0.646919</td></tr><tr><td>0.359044</td></tr><tr><td>0.471652</td></tr><tr><td>0.359044</td></tr><tr><td>&hellip;</td></tr><tr><td>0.646919</td></tr><tr><td>0.359044</td></tr><tr><td>0.359044</td></tr><tr><td>0.646919</td></tr><tr><td>0.359044</td></tr></tbody></table></div>"
      ],
      "text/plain": [
       "shape: (11_504_798, 1)\n",
       "┌──────────────────────┐\n",
       "│ Policy_Sales_Channel │\n",
       "│ ---                  │\n",
       "│ f64                  │\n",
       "╞══════════════════════╡\n",
       "│ -0.092776            │\n",
       "│ 0.646919             │\n",
       "│ 0.359044             │\n",
       "│ 0.471652             │\n",
       "│ 0.359044             │\n",
       "│ …                    │\n",
       "│ 0.646919             │\n",
       "│ 0.359044             │\n",
       "│ 0.359044             │\n",
       "│ 0.646919             │\n",
       "│ 0.359044             │\n",
       "└──────────────────────┘"
      ]
     },
     "execution_count": 40,
     "metadata": {},
     "output_type": "execute_result"
    }
   ],
   "source": [
    "# polars.Expr.cos\n",
    "insurance_df.select(pl.col(\"Policy_Sales_Channel\").cos())"
   ]
  },
  {
   "cell_type": "code",
   "execution_count": 41,
   "id": "bc19ee66-69b9-4e9b-8567-c8b682ae2eff",
   "metadata": {},
   "outputs": [
    {
     "data": {
      "text/html": [
       "<div><style>\n",
       ".dataframe > thead > tr,\n",
       ".dataframe > tbody > tr {\n",
       "  text-align: right;\n",
       "  white-space: pre-wrap;\n",
       "}\n",
       "</style>\n",
       "<small>shape: (11_504_798, 1)</small><table border=\"1\" class=\"dataframe\"><thead><tr><th>Policy_Sales_Channel</th></tr><tr><td>f64</td></tr></thead><tbody><tr><td>124.0</td></tr><tr><td>124.0</td></tr><tr><td>152.0</td></tr><tr><td>156.0</td></tr><tr><td>156.0</td></tr><tr><td>&hellip;</td></tr><tr><td>163.0</td></tr><tr><td>163.0</td></tr><tr><td>163.0</td></tr><tr><td>163.0</td></tr><tr><td>163.0</td></tr></tbody></table></div>"
      ],
      "text/plain": [
       "shape: (11_504_798, 1)\n",
       "┌──────────────────────┐\n",
       "│ Policy_Sales_Channel │\n",
       "│ ---                  │\n",
       "│ f64                  │\n",
       "╞══════════════════════╡\n",
       "│ 124.0                │\n",
       "│ 124.0                │\n",
       "│ 152.0                │\n",
       "│ 156.0                │\n",
       "│ 156.0                │\n",
       "│ …                    │\n",
       "│ 163.0                │\n",
       "│ 163.0                │\n",
       "│ 163.0                │\n",
       "│ 163.0                │\n",
       "│ 163.0                │\n",
       "└──────────────────────┘"
      ]
     },
     "execution_count": 41,
     "metadata": {},
     "output_type": "execute_result"
    }
   ],
   "source": [
    "# polars.Expr.cum_max\n",
    "\n",
    "insurance_df.select(pl.col(\"Policy_Sales_Channel\").cum_max())"
   ]
  },
  {
   "cell_type": "code",
   "execution_count": 42,
   "id": "d6acf0df-6e05-4e93-96bc-49fdba27b6e9",
   "metadata": {},
   "outputs": [
    {
     "data": {
      "text/html": [
       "<div><style>\n",
       ".dataframe > thead > tr,\n",
       ".dataframe > tbody > tr {\n",
       "  text-align: right;\n",
       "  white-space: pre-wrap;\n",
       "}\n",
       "</style>\n",
       "<small>shape: (1, 1)</small><table border=\"1\" class=\"dataframe\"><thead><tr><th>Policy_Sales_Channel</th></tr><tr><td>f64</td></tr></thead><tbody><tr><td>-0.945331</td></tr></tbody></table></div>"
      ],
      "text/plain": [
       "shape: (1, 1)\n",
       "┌──────────────────────┐\n",
       "│ Policy_Sales_Channel │\n",
       "│ ---                  │\n",
       "│ f64                  │\n",
       "╞══════════════════════╡\n",
       "│ -0.945331            │\n",
       "└──────────────────────┘"
      ]
     },
     "execution_count": 42,
     "metadata": {},
     "output_type": "execute_result"
    }
   ],
   "source": [
    "# polars.Expr.kurtosis\n",
    "insurance_df.select(pl.col(\"Policy_Sales_Channel\").kurtosis())"
   ]
  },
  {
   "cell_type": "code",
   "execution_count": 43,
   "id": "9a06ae2f-debf-4b3f-988e-ce4879991c07",
   "metadata": {},
   "outputs": [
    {
     "data": {
      "text/html": [
       "<div><style>\n",
       ".dataframe > thead > tr,\n",
       ".dataframe > tbody > tr {\n",
       "  text-align: right;\n",
       "  white-space: pre-wrap;\n",
       "}\n",
       "</style>\n",
       "<small>shape: (11_504_798, 1)</small><table border=\"1\" class=\"dataframe\"><thead><tr><th>Policy_Sales_Channel</th></tr><tr><td>f64</td></tr></thead><tbody><tr><td>4.820282</td></tr><tr><td>3.258097</td></tr><tr><td>5.023881</td></tr><tr><td>5.049856</td></tr><tr><td>5.023881</td></tr><tr><td>&hellip;</td></tr><tr><td>3.258097</td></tr><tr><td>5.023881</td></tr><tr><td>5.023881</td></tr><tr><td>3.258097</td></tr><tr><td>5.023881</td></tr></tbody></table></div>"
      ],
      "text/plain": [
       "shape: (11_504_798, 1)\n",
       "┌──────────────────────┐\n",
       "│ Policy_Sales_Channel │\n",
       "│ ---                  │\n",
       "│ f64                  │\n",
       "╞══════════════════════╡\n",
       "│ 4.820282             │\n",
       "│ 3.258097             │\n",
       "│ 5.023881             │\n",
       "│ 5.049856             │\n",
       "│ 5.023881             │\n",
       "│ …                    │\n",
       "│ 3.258097             │\n",
       "│ 5.023881             │\n",
       "│ 5.023881             │\n",
       "│ 3.258097             │\n",
       "│ 5.023881             │\n",
       "└──────────────────────┘"
      ]
     },
     "execution_count": 43,
     "metadata": {},
     "output_type": "execute_result"
    }
   ],
   "source": [
    "# polars.Expr.log\n",
    "\n",
    "insurance_df.select(pl.col(\"Policy_Sales_Channel\").log())"
   ]
  },
  {
   "cell_type": "code",
   "execution_count": 44,
   "id": "afe32bf2-59bf-4d99-8c93-449a8500fea4",
   "metadata": {},
   "outputs": [
    {
     "data": {
      "text/html": [
       "<div><style>\n",
       ".dataframe > thead > tr,\n",
       ".dataframe > tbody > tr {\n",
       "  text-align: right;\n",
       "  white-space: pre-wrap;\n",
       "}\n",
       "</style>\n",
       "<small>shape: (1, 1)</small><table border=\"1\" class=\"dataframe\"><thead><tr><th>Policy_Sales_Channel</th></tr><tr><td>f64</td></tr></thead><tbody><tr><td>-0.915082</td></tr></tbody></table></div>"
      ],
      "text/plain": [
       "shape: (1, 1)\n",
       "┌──────────────────────┐\n",
       "│ Policy_Sales_Channel │\n",
       "│ ---                  │\n",
       "│ f64                  │\n",
       "╞══════════════════════╡\n",
       "│ -0.915082            │\n",
       "└──────────────────────┘"
      ]
     },
     "execution_count": 44,
     "metadata": {},
     "output_type": "execute_result"
    }
   ],
   "source": [
    "# polars.Expr.skew\n",
    "insurance_df.select(pl.col(\"Policy_Sales_Channel\").skew())"
   ]
  },
  {
   "cell_type": "code",
   "execution_count": 45,
   "id": "3cd443c1-a6c2-4b75-b986-5ee46b54ca37",
   "metadata": {},
   "outputs": [
    {
     "data": {
      "text/html": [
       "<div><style>\n",
       ".dataframe > thead > tr,\n",
       ".dataframe > tbody > tr {\n",
       "  text-align: right;\n",
       "  white-space: pre-wrap;\n",
       "}\n",
       "</style>\n",
       "<small>shape: (152, 1)</small><table border=\"1\" class=\"dataframe\"><thead><tr><th>Policy_Sales_Channel</th></tr><tr><td>f64</td></tr></thead><tbody><tr><td>1.0</td></tr><tr><td>2.0</td></tr><tr><td>3.0</td></tr><tr><td>4.0</td></tr><tr><td>5.0</td></tr><tr><td>&hellip;</td></tr><tr><td>157.0</td></tr><tr><td>158.0</td></tr><tr><td>159.0</td></tr><tr><td>160.0</td></tr><tr><td>163.0</td></tr></tbody></table></div>"
      ],
      "text/plain": [
       "shape: (152, 1)\n",
       "┌──────────────────────┐\n",
       "│ Policy_Sales_Channel │\n",
       "│ ---                  │\n",
       "│ f64                  │\n",
       "╞══════════════════════╡\n",
       "│ 1.0                  │\n",
       "│ 2.0                  │\n",
       "│ 3.0                  │\n",
       "│ 4.0                  │\n",
       "│ 5.0                  │\n",
       "│ …                    │\n",
       "│ 157.0                │\n",
       "│ 158.0                │\n",
       "│ 159.0                │\n",
       "│ 160.0                │\n",
       "│ 163.0                │\n",
       "└──────────────────────┘"
      ]
     },
     "execution_count": 45,
     "metadata": {},
     "output_type": "execute_result"
    }
   ],
   "source": [
    "# polars.Expr.unique\n",
    "insurance_df.select(pl.col(\"Policy_Sales_Channel\").unique())"
   ]
  },
  {
   "cell_type": "code",
   "execution_count": 46,
   "id": "0e78c58a-a06b-411f-8187-276c66c70b7c",
   "metadata": {},
   "outputs": [
    {
     "data": {
      "text/html": [
       "<div><style>\n",
       ".dataframe > thead > tr,\n",
       ".dataframe > tbody > tr {\n",
       "  text-align: right;\n",
       "  white-space: pre-wrap;\n",
       "}\n",
       "</style>\n",
       "<small>shape: (152, 1)</small><table border=\"1\" class=\"dataframe\"><thead><tr><th>Policy_Sales_Channel</th></tr><tr><td>struct[2]</td></tr></thead><tbody><tr><td>{33.0,5}</td></tr><tr><td>{44.0,1828}</td></tr><tr><td>{150.0,8259}</td></tr><tr><td>{160.0,640380}</td></tr><tr><td>{129.0,709}</td></tr><tr><td>&hellip;</td></tr><tr><td>{126.0,84}</td></tr><tr><td>{121.0,1113}</td></tr><tr><td>{94.0,632}</td></tr><tr><td>{136.0,4775}</td></tr><tr><td>{27.0,2}</td></tr></tbody></table></div>"
      ],
      "text/plain": [
       "shape: (152, 1)\n",
       "┌──────────────────────┐\n",
       "│ Policy_Sales_Channel │\n",
       "│ ---                  │\n",
       "│ struct[2]            │\n",
       "╞══════════════════════╡\n",
       "│ {33.0,5}             │\n",
       "│ {44.0,1828}          │\n",
       "│ {150.0,8259}         │\n",
       "│ {160.0,640380}       │\n",
       "│ {129.0,709}          │\n",
       "│ …                    │\n",
       "│ {126.0,84}           │\n",
       "│ {121.0,1113}         │\n",
       "│ {94.0,632}           │\n",
       "│ {136.0,4775}         │\n",
       "│ {27.0,2}             │\n",
       "└──────────────────────┘"
      ]
     },
     "execution_count": 46,
     "metadata": {},
     "output_type": "execute_result"
    }
   ],
   "source": [
    "# polars.Expr.value_counts\n",
    "insurance_df.select(pl.col(\"Policy_Sales_Channel\").value_counts())"
   ]
  },
  {
   "cell_type": "markdown",
   "id": "9e62252e-c74e-4fb1-8534-5375c8751266",
   "metadata": {},
   "source": [
    "# Manipulation/Selection"
   ]
  },
  {
   "cell_type": "code",
   "execution_count": 48,
   "id": "9b7ee420-e316-4770-9be9-fbad4f6be072",
   "metadata": {},
   "outputs": [
    {
     "data": {
      "text/html": [
       "<div><style>\n",
       ".dataframe > thead > tr,\n",
       ".dataframe > tbody > tr {\n",
       "  text-align: right;\n",
       "  white-space: pre-wrap;\n",
       "}\n",
       "</style>\n",
       "<small>shape: (11_504_798, 1)</small><table border=\"1\" class=\"dataframe\"><thead><tr><th>Gender</th></tr><tr><td>str</td></tr></thead><tbody><tr><td>&quot;Male&quot;</td></tr><tr><td>&quot;Male&quot;</td></tr><tr><td>&quot;Female&quot;</td></tr><tr><td>&quot;Female&quot;</td></tr><tr><td>&quot;Female&quot;</td></tr><tr><td>&hellip;</td></tr><tr><td>&quot;Male&quot;</td></tr><tr><td>&quot;Female&quot;</td></tr><tr><td>&quot;Female&quot;</td></tr><tr><td>&quot;Female&quot;</td></tr><tr><td>&quot;Male&quot;</td></tr></tbody></table></div>"
      ],
      "text/plain": [
       "shape: (11_504_798, 1)\n",
       "┌────────┐\n",
       "│ Gender │\n",
       "│ ---    │\n",
       "│ str    │\n",
       "╞════════╡\n",
       "│ Male   │\n",
       "│ Male   │\n",
       "│ Female │\n",
       "│ Female │\n",
       "│ Female │\n",
       "│ …      │\n",
       "│ Male   │\n",
       "│ Female │\n",
       "│ Female │\n",
       "│ Female │\n",
       "│ Male   │\n",
       "└────────┘"
      ]
     },
     "execution_count": 48,
     "metadata": {},
     "output_type": "execute_result"
    }
   ],
   "source": [
    "# polars.Expr.drop_nans\n",
    "\n",
    "insurance_df.select(pl.col(\"Gender\").drop_nans())\n"
   ]
  },
  {
   "cell_type": "code",
   "execution_count": 49,
   "id": "2215356f-4da1-4aa7-9eae-420e0e23d6dd",
   "metadata": {},
   "outputs": [
    {
     "data": {
      "text/html": [
       "<div><style>\n",
       ".dataframe > thead > tr,\n",
       ".dataframe > tbody > tr {\n",
       "  text-align: right;\n",
       "  white-space: pre-wrap;\n",
       "}\n",
       "</style>\n",
       "<small>shape: (11_504_798, 1)</small><table border=\"1\" class=\"dataframe\"><thead><tr><th>Policy_Sales_Channel</th></tr><tr><td>f64</td></tr></thead><tbody><tr><td>124.0</td></tr><tr><td>26.0</td></tr><tr><td>152.0</td></tr><tr><td>156.0</td></tr><tr><td>152.0</td></tr><tr><td>&hellip;</td></tr><tr><td>26.0</td></tr><tr><td>152.0</td></tr><tr><td>152.0</td></tr><tr><td>26.0</td></tr><tr><td>152.0</td></tr></tbody></table></div>"
      ],
      "text/plain": [
       "shape: (11_504_798, 1)\n",
       "┌──────────────────────┐\n",
       "│ Policy_Sales_Channel │\n",
       "│ ---                  │\n",
       "│ f64                  │\n",
       "╞══════════════════════╡\n",
       "│ 124.0                │\n",
       "│ 26.0                 │\n",
       "│ 152.0                │\n",
       "│ 156.0                │\n",
       "│ 152.0                │\n",
       "│ …                    │\n",
       "│ 26.0                 │\n",
       "│ 152.0                │\n",
       "│ 152.0                │\n",
       "│ 26.0                 │\n",
       "│ 152.0                │\n",
       "└──────────────────────┘"
      ]
     },
     "execution_count": 49,
     "metadata": {},
     "output_type": "execute_result"
    }
   ],
   "source": [
    "# polars.Expr.drop_nulls\n",
    "\n",
    "insurance_df.select(pl.col(\"Policy_Sales_Channel\").drop_nulls())\n"
   ]
  },
  {
   "cell_type": "code",
   "execution_count": 52,
   "id": "ea6e6d5e-c768-46e6-97a1-659d0426cc00",
   "metadata": {},
   "outputs": [
    {
     "data": {
      "text/html": [
       "<div><style>\n",
       ".dataframe > thead > tr,\n",
       ".dataframe > tbody > tr {\n",
       "  text-align: right;\n",
       "  white-space: pre-wrap;\n",
       "}\n",
       "</style>\n",
       "<small>shape: (2, 3)</small><table border=\"1\" class=\"dataframe\"><thead><tr><th>Gender</th><th>lt</th><th>gte</th></tr><tr><td>str</td><td>f64</td><td>f64</td></tr></thead><tbody><tr><td>&quot;Female&quot;</td><td>0.0</td><td>0.0</td></tr><tr><td>&quot;Male&quot;</td><td>0.0</td><td>0.0</td></tr></tbody></table></div>"
      ],
      "text/plain": [
       "shape: (2, 3)\n",
       "┌────────┬─────┬─────┐\n",
       "│ Gender ┆ lt  ┆ gte │\n",
       "│ ---    ┆ --- ┆ --- │\n",
       "│ str    ┆ f64 ┆ f64 │\n",
       "╞════════╪═════╪═════╡\n",
       "│ Female ┆ 0.0 ┆ 0.0 │\n",
       "│ Male   ┆ 0.0 ┆ 0.0 │\n",
       "└────────┴─────┴─────┘"
      ]
     },
     "execution_count": 52,
     "metadata": {},
     "output_type": "execute_result"
    }
   ],
   "source": [
    "# polars.Expr.filter\n",
    "insurance_df.group_by(\"Gender\").agg(\n",
    "    lt=pl.col(\"Annual_Premium\").filter(pl.col(\"Annual_Premium\") < 2000).sum(),\n",
    "    gte=pl.col(\"Policy_Sales_Channel\").filter(pl.col(\"Policy_Sales_Channel\") >= 500).sum(),\n",
    ").sort(\"Gender\")"
   ]
  },
  {
   "cell_type": "code",
   "execution_count": 53,
   "id": "e9fc9a79-4d74-4580-b280-624600a5a45c",
   "metadata": {},
   "outputs": [
    {
     "name": "stdout",
     "output_type": "stream",
     "text": [
      "shape: (4, 1)\n",
      "┌───────────────┐\n",
      "│ A_transformed │\n",
      "│ ---           │\n",
      "│ i64           │\n",
      "╞═══════════════╡\n",
      "│ 39            │\n",
      "│ 72            │\n",
      "│ 135           │\n",
      "│ 168           │\n",
      "└───────────────┘\n"
     ]
    }
   ],
   "source": [
    "# polars.Expr.pipe\n",
    "\n",
    "df = pl.DataFrame({\n",
    "    \"A\": [11, 22, 43, 54],\n",
    "    \"B\": [56, 86, 70, 81]\n",
    "})\n",
    "\n",
    "def add_two_and_multiply(expr, multiplier):\n",
    "    return (expr + 2) * multiplier\n",
    "\n",
    "df_transformed = df.select(\n",
    "    pl.col(\"A\").pipe(add_two_and_multiply, multiplier=3).alias(\"A_transformed\")\n",
    ")\n",
    "\n",
    "print(df_transformed)\n"
   ]
  },
  {
   "cell_type": "code",
   "execution_count": 54,
   "id": "d643e670-12e1-425d-af31-0c8d509e82e2",
   "metadata": {},
   "outputs": [
    {
     "data": {
      "text/html": [
       "<div><style>\n",
       ".dataframe > thead > tr,\n",
       ".dataframe > tbody > tr {\n",
       "  text-align: right;\n",
       "  white-space: pre-wrap;\n",
       "}\n",
       "</style>\n",
       "<small>shape: (2, 12)</small><table border=\"1\" class=\"dataframe\"><thead><tr><th>id</th><th>Gender</th><th>Age</th><th>Driving_License</th><th>Region_Code</th><th>Previously_Insured</th><th>Vehicle_Age</th><th>Vehicle_Damage</th><th>Annual_Premium</th><th>Policy_Sales_Channel</th><th>Vintage</th><th>Response</th></tr><tr><td>i64</td><td>str</td><td>i64</td><td>i64</td><td>f64</td><td>i64</td><td>str</td><td>str</td><td>f64</td><td>f64</td><td>i64</td><td>i64</td></tr></thead><tbody><tr><td>1</td><td>&quot;Male&quot;</td><td>43</td><td>1</td><td>28.0</td><td>0</td><td>&quot;&gt; 2 Years&quot;</td><td>&quot;Yes&quot;</td><td>58911.0</td><td>26.0</td><td>288</td><td>1</td></tr><tr><td>2</td><td>&quot;Female&quot;</td><td>25</td><td>1</td><td>14.0</td><td>1</td><td>&quot;&lt; 1 Year&quot;</td><td>&quot;No&quot;</td><td>38043.0</td><td>152.0</td><td>254</td><td>0</td></tr></tbody></table></div>"
      ],
      "text/plain": [
       "shape: (2, 12)\n",
       "┌─────┬────────┬─────┬─────────────────┬───┬────────────────┬─────────────────┬─────────┬──────────┐\n",
       "│ id  ┆ Gender ┆ Age ┆ Driving_License ┆ … ┆ Annual_Premium ┆ Policy_Sales_Ch ┆ Vintage ┆ Response │\n",
       "│ --- ┆ ---    ┆ --- ┆ ---             ┆   ┆ ---            ┆ annel           ┆ ---     ┆ ---      │\n",
       "│ i64 ┆ str    ┆ i64 ┆ i64             ┆   ┆ f64            ┆ ---             ┆ i64     ┆ i64      │\n",
       "│     ┆        ┆     ┆                 ┆   ┆                ┆ f64             ┆         ┆          │\n",
       "╞═════╪════════╪═════╪═════════════════╪═══╪════════════════╪═════════════════╪═════════╪══════════╡\n",
       "│ 1   ┆ Male   ┆ 43  ┆ 1               ┆ … ┆ 58911.0        ┆ 26.0            ┆ 288     ┆ 1        │\n",
       "│ 2   ┆ Female ┆ 25  ┆ 1               ┆ … ┆ 38043.0        ┆ 152.0           ┆ 254     ┆ 0        │\n",
       "└─────┴────────┴─────┴─────────────────┴───┴────────────────┴─────────────────┴─────────┴──────────┘"
      ]
     },
     "execution_count": 54,
     "metadata": {},
     "output_type": "execute_result"
    }
   ],
   "source": [
    "# polars.Expr.slice\n",
    "\n",
    "insurance_df.select(pl.all().slice(1, 2))\n"
   ]
  },
  {
   "cell_type": "code",
   "execution_count": 56,
   "id": "e77f59b1-f7d4-4468-a41a-772df67cd34e",
   "metadata": {},
   "outputs": [
    {
     "data": {
      "text/html": [
       "<div><style>\n",
       ".dataframe > thead > tr,\n",
       ".dataframe > tbody > tr {\n",
       "  text-align: right;\n",
       "  white-space: pre-wrap;\n",
       "}\n",
       "</style>\n",
       "<small>shape: (11_504_798, 1)</small><table border=\"1\" class=\"dataframe\"><thead><tr><th>Annual_Premium</th></tr><tr><td>f64</td></tr></thead><tbody><tr><td>2630.0</td></tr><tr><td>2630.0</td></tr><tr><td>2630.0</td></tr><tr><td>2630.0</td></tr><tr><td>2630.0</td></tr><tr><td>&hellip;</td></tr><tr><td>540165.0</td></tr><tr><td>540165.0</td></tr><tr><td>540165.0</td></tr><tr><td>540165.0</td></tr><tr><td>540165.0</td></tr></tbody></table></div>"
      ],
      "text/plain": [
       "shape: (11_504_798, 1)\n",
       "┌────────────────┐\n",
       "│ Annual_Premium │\n",
       "│ ---            │\n",
       "│ f64            │\n",
       "╞════════════════╡\n",
       "│ 2630.0         │\n",
       "│ 2630.0         │\n",
       "│ 2630.0         │\n",
       "│ 2630.0         │\n",
       "│ 2630.0         │\n",
       "│ …              │\n",
       "│ 540165.0       │\n",
       "│ 540165.0       │\n",
       "│ 540165.0       │\n",
       "│ 540165.0       │\n",
       "│ 540165.0       │\n",
       "└────────────────┘"
      ]
     },
     "execution_count": 56,
     "metadata": {},
     "output_type": "execute_result"
    }
   ],
   "source": [
    "# polars.Expr.sort\n",
    "\n",
    "insurance_df.select(pl.col(\"Annual_Premium\").sort())"
   ]
  },
  {
   "cell_type": "code",
   "execution_count": 58,
   "id": "e386eb38-f4c2-47d1-ae67-a4d66b71947a",
   "metadata": {},
   "outputs": [
    {
     "data": {
      "text/html": [
       "<div><style>\n",
       ".dataframe > thead > tr,\n",
       ".dataframe > tbody > tr {\n",
       "  text-align: right;\n",
       "  white-space: pre-wrap;\n",
       "}\n",
       "</style>\n",
       "<small>shape: (11_504_798, 1)</small><table border=\"1\" class=\"dataframe\"><thead><tr><th>Policy_Sales_Channel</th></tr><tr><td>f64</td></tr></thead><tbody><tr><td>156.0</td></tr><tr><td>26.0</td></tr><tr><td>152.0</td></tr><tr><td>8.0</td></tr><tr><td>157.0</td></tr><tr><td>&hellip;</td></tr><tr><td>124.0</td></tr><tr><td>124.0</td></tr><tr><td>122.0</td></tr><tr><td>26.0</td></tr><tr><td>26.0</td></tr></tbody></table></div>"
      ],
      "text/plain": [
       "shape: (11_504_798, 1)\n",
       "┌──────────────────────┐\n",
       "│ Policy_Sales_Channel │\n",
       "│ ---                  │\n",
       "│ f64                  │\n",
       "╞══════════════════════╡\n",
       "│ 156.0                │\n",
       "│ 26.0                 │\n",
       "│ 152.0                │\n",
       "│ 8.0                  │\n",
       "│ 157.0                │\n",
       "│ …                    │\n",
       "│ 124.0                │\n",
       "│ 124.0                │\n",
       "│ 122.0                │\n",
       "│ 26.0                 │\n",
       "│ 26.0                 │\n",
       "└──────────────────────┘"
      ]
     },
     "execution_count": 58,
     "metadata": {},
     "output_type": "execute_result"
    }
   ],
   "source": [
    "# polars.Expr.sort_by\n",
    "\n",
    "insurance_df.select(pl.col(\"Policy_Sales_Channel\").sort_by(\"Annual_Premium\"))"
   ]
  },
  {
   "cell_type": "code",
   "execution_count": 59,
   "id": "19fcbe27-fde5-4da3-8e98-c0a5363f24a7",
   "metadata": {},
   "outputs": [
    {
     "data": {
      "text/html": [
       "<div><style>\n",
       ".dataframe > thead > tr,\n",
       ".dataframe > tbody > tr {\n",
       "  text-align: right;\n",
       "  white-space: pre-wrap;\n",
       "}\n",
       "</style>\n",
       "<small>shape: (3, 1)</small><table border=\"1\" class=\"dataframe\"><thead><tr><th>Ranking</th></tr><tr><td>array[i64, 3]</td></tr></thead><tbody><tr><td>[1, 2, 3]</td></tr><tr><td>[4, 5, 6]</td></tr><tr><td>[7, 8, 9]</td></tr></tbody></table></div>"
      ],
      "text/plain": [
       "shape: (3, 1)\n",
       "┌───────────────┐\n",
       "│ Ranking       │\n",
       "│ ---           │\n",
       "│ array[i64, 3] │\n",
       "╞═══════════════╡\n",
       "│ [1, 2, 3]     │\n",
       "│ [4, 5, 6]     │\n",
       "│ [7, 8, 9]     │\n",
       "└───────────────┘"
      ]
     },
     "execution_count": 59,
     "metadata": {},
     "output_type": "execute_result"
    }
   ],
   "source": [
    "# polars.Expr.limit\n",
    "\n",
    "df = pl.DataFrame({\"Ranking\": [1, 2, 3, 4, 5, 6, 7, 8, 9]})\n",
    "df.select(pl.col(\"Ranking\").reshape((3, 3)))\n"
   ]
  },
  {
   "cell_type": "markdown",
   "id": "5c932356-c1aa-400c-8524-b3f5976e2205",
   "metadata": {},
   "source": [
    "# Name Methods "
   ]
  },
  {
   "cell_type": "code",
   "execution_count": 61,
   "id": "6f90c930-dd99-46e9-9c32-d68c78bbe777",
   "metadata": {},
   "outputs": [
    {
     "data": {
      "text/html": [
       "<div><style>\n",
       ".dataframe > thead > tr,\n",
       ".dataframe > tbody > tr {\n",
       "  text-align: right;\n",
       "  white-space: pre-wrap;\n",
       "}\n",
       "</style>\n",
       "<small>shape: (11_504_798, 23)</small><table border=\"1\" class=\"dataframe\"><thead><tr><th>id</th><th>Gender</th><th>Age</th><th>Driving_License</th><th>Region_Code</th><th>Previously_Insured</th><th>Vehicle_Age</th><th>Vehicle_Damage</th><th>Annual_Premium</th><th>Policy_Sales_Channel</th><th>Vintage</th><th>Response</th><th>gender</th><th>age</th><th>driving_license</th><th>region_code</th><th>previously_insured</th><th>vehicle_age</th><th>vehicle_damage</th><th>annual_premium</th><th>policy_sales_channel</th><th>vintage</th><th>response</th></tr><tr><td>i64</td><td>str</td><td>i64</td><td>i64</td><td>f64</td><td>i64</td><td>str</td><td>str</td><td>f64</td><td>f64</td><td>i64</td><td>i64</td><td>str</td><td>i64</td><td>i64</td><td>f64</td><td>i64</td><td>str</td><td>str</td><td>f64</td><td>f64</td><td>i64</td><td>i64</td></tr></thead><tbody><tr><td>0</td><td>&quot;Male&quot;</td><td>21</td><td>1</td><td>35.0</td><td>0</td><td>&quot;1-2 Year&quot;</td><td>&quot;Yes&quot;</td><td>65101.0</td><td>124.0</td><td>187</td><td>0</td><td>&quot;Male&quot;</td><td>21</td><td>1</td><td>35.0</td><td>0</td><td>&quot;1-2 Year&quot;</td><td>&quot;Yes&quot;</td><td>65101.0</td><td>124.0</td><td>187</td><td>0</td></tr><tr><td>1</td><td>&quot;Male&quot;</td><td>43</td><td>1</td><td>28.0</td><td>0</td><td>&quot;&gt; 2 Years&quot;</td><td>&quot;Yes&quot;</td><td>58911.0</td><td>26.0</td><td>288</td><td>1</td><td>&quot;Male&quot;</td><td>43</td><td>1</td><td>28.0</td><td>0</td><td>&quot;&gt; 2 Years&quot;</td><td>&quot;Yes&quot;</td><td>58911.0</td><td>26.0</td><td>288</td><td>1</td></tr><tr><td>2</td><td>&quot;Female&quot;</td><td>25</td><td>1</td><td>14.0</td><td>1</td><td>&quot;&lt; 1 Year&quot;</td><td>&quot;No&quot;</td><td>38043.0</td><td>152.0</td><td>254</td><td>0</td><td>&quot;Female&quot;</td><td>25</td><td>1</td><td>14.0</td><td>1</td><td>&quot;&lt; 1 Year&quot;</td><td>&quot;No&quot;</td><td>38043.0</td><td>152.0</td><td>254</td><td>0</td></tr><tr><td>3</td><td>&quot;Female&quot;</td><td>35</td><td>1</td><td>1.0</td><td>0</td><td>&quot;1-2 Year&quot;</td><td>&quot;Yes&quot;</td><td>2630.0</td><td>156.0</td><td>76</td><td>0</td><td>&quot;Female&quot;</td><td>35</td><td>1</td><td>1.0</td><td>0</td><td>&quot;1-2 Year&quot;</td><td>&quot;Yes&quot;</td><td>2630.0</td><td>156.0</td><td>76</td><td>0</td></tr><tr><td>4</td><td>&quot;Female&quot;</td><td>36</td><td>1</td><td>15.0</td><td>1</td><td>&quot;1-2 Year&quot;</td><td>&quot;No&quot;</td><td>31951.0</td><td>152.0</td><td>294</td><td>0</td><td>&quot;Female&quot;</td><td>36</td><td>1</td><td>15.0</td><td>1</td><td>&quot;1-2 Year&quot;</td><td>&quot;No&quot;</td><td>31951.0</td><td>152.0</td><td>294</td><td>0</td></tr><tr><td>&hellip;</td><td>&hellip;</td><td>&hellip;</td><td>&hellip;</td><td>&hellip;</td><td>&hellip;</td><td>&hellip;</td><td>&hellip;</td><td>&hellip;</td><td>&hellip;</td><td>&hellip;</td><td>&hellip;</td><td>&hellip;</td><td>&hellip;</td><td>&hellip;</td><td>&hellip;</td><td>&hellip;</td><td>&hellip;</td><td>&hellip;</td><td>&hellip;</td><td>&hellip;</td><td>&hellip;</td><td>&hellip;</td></tr><tr><td>11504793</td><td>&quot;Male&quot;</td><td>48</td><td>1</td><td>6.0</td><td>0</td><td>&quot;1-2 Year&quot;</td><td>&quot;Yes&quot;</td><td>27412.0</td><td>26.0</td><td>218</td><td>0</td><td>&quot;Male&quot;</td><td>48</td><td>1</td><td>6.0</td><td>0</td><td>&quot;1-2 Year&quot;</td><td>&quot;Yes&quot;</td><td>27412.0</td><td>26.0</td><td>218</td><td>0</td></tr><tr><td>11504794</td><td>&quot;Female&quot;</td><td>26</td><td>1</td><td>36.0</td><td>0</td><td>&quot;&lt; 1 Year&quot;</td><td>&quot;Yes&quot;</td><td>29509.0</td><td>152.0</td><td>115</td><td>1</td><td>&quot;Female&quot;</td><td>26</td><td>1</td><td>36.0</td><td>0</td><td>&quot;&lt; 1 Year&quot;</td><td>&quot;Yes&quot;</td><td>29509.0</td><td>152.0</td><td>115</td><td>1</td></tr><tr><td>11504795</td><td>&quot;Female&quot;</td><td>29</td><td>1</td><td>32.0</td><td>1</td><td>&quot;&lt; 1 Year&quot;</td><td>&quot;No&quot;</td><td>2630.0</td><td>152.0</td><td>189</td><td>0</td><td>&quot;Female&quot;</td><td>29</td><td>1</td><td>32.0</td><td>1</td><td>&quot;&lt; 1 Year&quot;</td><td>&quot;No&quot;</td><td>2630.0</td><td>152.0</td><td>189</td><td>0</td></tr><tr><td>11504796</td><td>&quot;Female&quot;</td><td>51</td><td>1</td><td>28.0</td><td>0</td><td>&quot;1-2 Year&quot;</td><td>&quot;Yes&quot;</td><td>48443.0</td><td>26.0</td><td>274</td><td>1</td><td>&quot;Female&quot;</td><td>51</td><td>1</td><td>28.0</td><td>0</td><td>&quot;1-2 Year&quot;</td><td>&quot;Yes&quot;</td><td>48443.0</td><td>26.0</td><td>274</td><td>1</td></tr><tr><td>11504797</td><td>&quot;Male&quot;</td><td>25</td><td>1</td><td>28.0</td><td>1</td><td>&quot;&lt; 1 Year&quot;</td><td>&quot;No&quot;</td><td>32855.0</td><td>152.0</td><td>189</td><td>0</td><td>&quot;Male&quot;</td><td>25</td><td>1</td><td>28.0</td><td>1</td><td>&quot;&lt; 1 Year&quot;</td><td>&quot;No&quot;</td><td>32855.0</td><td>152.0</td><td>189</td><td>0</td></tr></tbody></table></div>"
      ],
      "text/plain": [
       "shape: (11_504_798, 23)\n",
       "┌──────────┬────────┬─────┬───────────────┬───┬───────────────┬───────────────┬─────────┬──────────┐\n",
       "│ id       ┆ Gender ┆ Age ┆ Driving_Licen ┆ … ┆ annual_premiu ┆ policy_sales_ ┆ vintage ┆ response │\n",
       "│ ---      ┆ ---    ┆ --- ┆ se            ┆   ┆ m             ┆ channel       ┆ ---     ┆ ---      │\n",
       "│ i64      ┆ str    ┆ i64 ┆ ---           ┆   ┆ ---           ┆ ---           ┆ i64     ┆ i64      │\n",
       "│          ┆        ┆     ┆ i64           ┆   ┆ f64           ┆ f64           ┆         ┆          │\n",
       "╞══════════╪════════╪═════╪═══════════════╪═══╪═══════════════╪═══════════════╪═════════╪══════════╡\n",
       "│ 0        ┆ Male   ┆ 21  ┆ 1             ┆ … ┆ 65101.0       ┆ 124.0         ┆ 187     ┆ 0        │\n",
       "│ 1        ┆ Male   ┆ 43  ┆ 1             ┆ … ┆ 58911.0       ┆ 26.0          ┆ 288     ┆ 1        │\n",
       "│ 2        ┆ Female ┆ 25  ┆ 1             ┆ … ┆ 38043.0       ┆ 152.0         ┆ 254     ┆ 0        │\n",
       "│ 3        ┆ Female ┆ 35  ┆ 1             ┆ … ┆ 2630.0        ┆ 156.0         ┆ 76      ┆ 0        │\n",
       "│ 4        ┆ Female ┆ 36  ┆ 1             ┆ … ┆ 31951.0       ┆ 152.0         ┆ 294     ┆ 0        │\n",
       "│ …        ┆ …      ┆ …   ┆ …             ┆ … ┆ …             ┆ …             ┆ …       ┆ …        │\n",
       "│ 11504793 ┆ Male   ┆ 48  ┆ 1             ┆ … ┆ 27412.0       ┆ 26.0          ┆ 218     ┆ 0        │\n",
       "│ 11504794 ┆ Female ┆ 26  ┆ 1             ┆ … ┆ 29509.0       ┆ 152.0         ┆ 115     ┆ 1        │\n",
       "│ 11504795 ┆ Female ┆ 29  ┆ 1             ┆ … ┆ 2630.0        ┆ 152.0         ┆ 189     ┆ 0        │\n",
       "│ 11504796 ┆ Female ┆ 51  ┆ 1             ┆ … ┆ 48443.0       ┆ 26.0          ┆ 274     ┆ 1        │\n",
       "│ 11504797 ┆ Male   ┆ 25  ┆ 1             ┆ … ┆ 32855.0       ┆ 152.0         ┆ 189     ┆ 0        │\n",
       "└──────────┴────────┴─────┴───────────────┴───┴───────────────┴───────────────┴─────────┴──────────┘"
      ]
     },
     "execution_count": 61,
     "metadata": {},
     "output_type": "execute_result"
    }
   ],
   "source": [
    "# polars.Expr.name.to_lowercase\n",
    "\n",
    "insurance_df.with_columns(pl.all().name.to_lowercase())"
   ]
  },
  {
   "cell_type": "code",
   "execution_count": 62,
   "id": "ea08874f-f598-4763-bde5-8aba2245e55d",
   "metadata": {},
   "outputs": [
    {
     "data": {
      "text/html": [
       "<div><style>\n",
       ".dataframe > thead > tr,\n",
       ".dataframe > tbody > tr {\n",
       "  text-align: right;\n",
       "  white-space: pre-wrap;\n",
       "}\n",
       "</style>\n",
       "<small>shape: (11_504_798, 24)</small><table border=\"1\" class=\"dataframe\"><thead><tr><th>id</th><th>Gender</th><th>Age</th><th>Driving_License</th><th>Region_Code</th><th>Previously_Insured</th><th>Vehicle_Age</th><th>Vehicle_Damage</th><th>Annual_Premium</th><th>Policy_Sales_Channel</th><th>Vintage</th><th>Response</th><th>ID</th><th>GENDER</th><th>AGE</th><th>DRIVING_LICENSE</th><th>REGION_CODE</th><th>PREVIOUSLY_INSURED</th><th>VEHICLE_AGE</th><th>VEHICLE_DAMAGE</th><th>ANNUAL_PREMIUM</th><th>POLICY_SALES_CHANNEL</th><th>VINTAGE</th><th>RESPONSE</th></tr><tr><td>i64</td><td>str</td><td>i64</td><td>i64</td><td>f64</td><td>i64</td><td>str</td><td>str</td><td>f64</td><td>f64</td><td>i64</td><td>i64</td><td>i64</td><td>str</td><td>i64</td><td>i64</td><td>f64</td><td>i64</td><td>str</td><td>str</td><td>f64</td><td>f64</td><td>i64</td><td>i64</td></tr></thead><tbody><tr><td>0</td><td>&quot;Male&quot;</td><td>21</td><td>1</td><td>35.0</td><td>0</td><td>&quot;1-2 Year&quot;</td><td>&quot;Yes&quot;</td><td>65101.0</td><td>124.0</td><td>187</td><td>0</td><td>0</td><td>&quot;Male&quot;</td><td>21</td><td>1</td><td>35.0</td><td>0</td><td>&quot;1-2 Year&quot;</td><td>&quot;Yes&quot;</td><td>65101.0</td><td>124.0</td><td>187</td><td>0</td></tr><tr><td>1</td><td>&quot;Male&quot;</td><td>43</td><td>1</td><td>28.0</td><td>0</td><td>&quot;&gt; 2 Years&quot;</td><td>&quot;Yes&quot;</td><td>58911.0</td><td>26.0</td><td>288</td><td>1</td><td>1</td><td>&quot;Male&quot;</td><td>43</td><td>1</td><td>28.0</td><td>0</td><td>&quot;&gt; 2 Years&quot;</td><td>&quot;Yes&quot;</td><td>58911.0</td><td>26.0</td><td>288</td><td>1</td></tr><tr><td>2</td><td>&quot;Female&quot;</td><td>25</td><td>1</td><td>14.0</td><td>1</td><td>&quot;&lt; 1 Year&quot;</td><td>&quot;No&quot;</td><td>38043.0</td><td>152.0</td><td>254</td><td>0</td><td>2</td><td>&quot;Female&quot;</td><td>25</td><td>1</td><td>14.0</td><td>1</td><td>&quot;&lt; 1 Year&quot;</td><td>&quot;No&quot;</td><td>38043.0</td><td>152.0</td><td>254</td><td>0</td></tr><tr><td>3</td><td>&quot;Female&quot;</td><td>35</td><td>1</td><td>1.0</td><td>0</td><td>&quot;1-2 Year&quot;</td><td>&quot;Yes&quot;</td><td>2630.0</td><td>156.0</td><td>76</td><td>0</td><td>3</td><td>&quot;Female&quot;</td><td>35</td><td>1</td><td>1.0</td><td>0</td><td>&quot;1-2 Year&quot;</td><td>&quot;Yes&quot;</td><td>2630.0</td><td>156.0</td><td>76</td><td>0</td></tr><tr><td>4</td><td>&quot;Female&quot;</td><td>36</td><td>1</td><td>15.0</td><td>1</td><td>&quot;1-2 Year&quot;</td><td>&quot;No&quot;</td><td>31951.0</td><td>152.0</td><td>294</td><td>0</td><td>4</td><td>&quot;Female&quot;</td><td>36</td><td>1</td><td>15.0</td><td>1</td><td>&quot;1-2 Year&quot;</td><td>&quot;No&quot;</td><td>31951.0</td><td>152.0</td><td>294</td><td>0</td></tr><tr><td>&hellip;</td><td>&hellip;</td><td>&hellip;</td><td>&hellip;</td><td>&hellip;</td><td>&hellip;</td><td>&hellip;</td><td>&hellip;</td><td>&hellip;</td><td>&hellip;</td><td>&hellip;</td><td>&hellip;</td><td>&hellip;</td><td>&hellip;</td><td>&hellip;</td><td>&hellip;</td><td>&hellip;</td><td>&hellip;</td><td>&hellip;</td><td>&hellip;</td><td>&hellip;</td><td>&hellip;</td><td>&hellip;</td><td>&hellip;</td></tr><tr><td>11504793</td><td>&quot;Male&quot;</td><td>48</td><td>1</td><td>6.0</td><td>0</td><td>&quot;1-2 Year&quot;</td><td>&quot;Yes&quot;</td><td>27412.0</td><td>26.0</td><td>218</td><td>0</td><td>11504793</td><td>&quot;Male&quot;</td><td>48</td><td>1</td><td>6.0</td><td>0</td><td>&quot;1-2 Year&quot;</td><td>&quot;Yes&quot;</td><td>27412.0</td><td>26.0</td><td>218</td><td>0</td></tr><tr><td>11504794</td><td>&quot;Female&quot;</td><td>26</td><td>1</td><td>36.0</td><td>0</td><td>&quot;&lt; 1 Year&quot;</td><td>&quot;Yes&quot;</td><td>29509.0</td><td>152.0</td><td>115</td><td>1</td><td>11504794</td><td>&quot;Female&quot;</td><td>26</td><td>1</td><td>36.0</td><td>0</td><td>&quot;&lt; 1 Year&quot;</td><td>&quot;Yes&quot;</td><td>29509.0</td><td>152.0</td><td>115</td><td>1</td></tr><tr><td>11504795</td><td>&quot;Female&quot;</td><td>29</td><td>1</td><td>32.0</td><td>1</td><td>&quot;&lt; 1 Year&quot;</td><td>&quot;No&quot;</td><td>2630.0</td><td>152.0</td><td>189</td><td>0</td><td>11504795</td><td>&quot;Female&quot;</td><td>29</td><td>1</td><td>32.0</td><td>1</td><td>&quot;&lt; 1 Year&quot;</td><td>&quot;No&quot;</td><td>2630.0</td><td>152.0</td><td>189</td><td>0</td></tr><tr><td>11504796</td><td>&quot;Female&quot;</td><td>51</td><td>1</td><td>28.0</td><td>0</td><td>&quot;1-2 Year&quot;</td><td>&quot;Yes&quot;</td><td>48443.0</td><td>26.0</td><td>274</td><td>1</td><td>11504796</td><td>&quot;Female&quot;</td><td>51</td><td>1</td><td>28.0</td><td>0</td><td>&quot;1-2 Year&quot;</td><td>&quot;Yes&quot;</td><td>48443.0</td><td>26.0</td><td>274</td><td>1</td></tr><tr><td>11504797</td><td>&quot;Male&quot;</td><td>25</td><td>1</td><td>28.0</td><td>1</td><td>&quot;&lt; 1 Year&quot;</td><td>&quot;No&quot;</td><td>32855.0</td><td>152.0</td><td>189</td><td>0</td><td>11504797</td><td>&quot;Male&quot;</td><td>25</td><td>1</td><td>28.0</td><td>1</td><td>&quot;&lt; 1 Year&quot;</td><td>&quot;No&quot;</td><td>32855.0</td><td>152.0</td><td>189</td><td>0</td></tr></tbody></table></div>"
      ],
      "text/plain": [
       "shape: (11_504_798, 24)\n",
       "┌──────────┬────────┬─────┬───────────────┬───┬───────────────┬───────────────┬─────────┬──────────┐\n",
       "│ id       ┆ Gender ┆ Age ┆ Driving_Licen ┆ … ┆ ANNUAL_PREMIU ┆ POLICY_SALES_ ┆ VINTAGE ┆ RESPONSE │\n",
       "│ ---      ┆ ---    ┆ --- ┆ se            ┆   ┆ M             ┆ CHANNEL       ┆ ---     ┆ ---      │\n",
       "│ i64      ┆ str    ┆ i64 ┆ ---           ┆   ┆ ---           ┆ ---           ┆ i64     ┆ i64      │\n",
       "│          ┆        ┆     ┆ i64           ┆   ┆ f64           ┆ f64           ┆         ┆          │\n",
       "╞══════════╪════════╪═════╪═══════════════╪═══╪═══════════════╪═══════════════╪═════════╪══════════╡\n",
       "│ 0        ┆ Male   ┆ 21  ┆ 1             ┆ … ┆ 65101.0       ┆ 124.0         ┆ 187     ┆ 0        │\n",
       "│ 1        ┆ Male   ┆ 43  ┆ 1             ┆ … ┆ 58911.0       ┆ 26.0          ┆ 288     ┆ 1        │\n",
       "│ 2        ┆ Female ┆ 25  ┆ 1             ┆ … ┆ 38043.0       ┆ 152.0         ┆ 254     ┆ 0        │\n",
       "│ 3        ┆ Female ┆ 35  ┆ 1             ┆ … ┆ 2630.0        ┆ 156.0         ┆ 76      ┆ 0        │\n",
       "│ 4        ┆ Female ┆ 36  ┆ 1             ┆ … ┆ 31951.0       ┆ 152.0         ┆ 294     ┆ 0        │\n",
       "│ …        ┆ …      ┆ …   ┆ …             ┆ … ┆ …             ┆ …             ┆ …       ┆ …        │\n",
       "│ 11504793 ┆ Male   ┆ 48  ┆ 1             ┆ … ┆ 27412.0       ┆ 26.0          ┆ 218     ┆ 0        │\n",
       "│ 11504794 ┆ Female ┆ 26  ┆ 1             ┆ … ┆ 29509.0       ┆ 152.0         ┆ 115     ┆ 1        │\n",
       "│ 11504795 ┆ Female ┆ 29  ┆ 1             ┆ … ┆ 2630.0        ┆ 152.0         ┆ 189     ┆ 0        │\n",
       "│ 11504796 ┆ Female ┆ 51  ┆ 1             ┆ … ┆ 48443.0       ┆ 26.0          ┆ 274     ┆ 1        │\n",
       "│ 11504797 ┆ Male   ┆ 25  ┆ 1             ┆ … ┆ 32855.0       ┆ 152.0         ┆ 189     ┆ 0        │\n",
       "└──────────┴────────┴─────┴───────────────┴───┴───────────────┴───────────────┴─────────┴──────────┘"
      ]
     },
     "execution_count": 62,
     "metadata": {},
     "output_type": "execute_result"
    }
   ],
   "source": [
    "# polars.Expr.name.to_uppercase\n",
    "insurance_df.with_columns(pl.all().name.to_uppercase())"
   ]
  },
  {
   "cell_type": "code",
   "execution_count": null,
   "id": "557a6a94-1f5a-4e86-93ae-628b796485d2",
   "metadata": {},
   "outputs": [],
   "source": [
    "# polars.Expr.name.map\n",
    "\n",
    "df.with_columns(pl.all().reverse().name.map(lambda c: c.rstrip(\"_reverse\").lower()))"
   ]
  },
  {
   "cell_type": "code",
   "execution_count": 63,
   "id": "df6a64dd-03b3-43ca-a118-73ed1e7c6fbb",
   "metadata": {},
   "outputs": [
    {
     "data": {
      "text/html": [
       "<div><style>\n",
       ".dataframe > thead > tr,\n",
       ".dataframe > tbody > tr {\n",
       "  text-align: right;\n",
       "  white-space: pre-wrap;\n",
       "}\n",
       "</style>\n",
       "<small>shape: (11_504_798, 12)</small><table border=\"1\" class=\"dataframe\"><thead><tr><th>id</th><th>Gender</th><th>Age</th><th>Driving_License</th><th>Region_Code</th><th>Previously_Insured</th><th>Vehicle_Age</th><th>Vehicle_Damage</th><th>Annual_Premium</th><th>Policy_Sales_Channel</th><th>Vintage</th><th>Response</th></tr><tr><td>i64</td><td>str</td><td>i64</td><td>i64</td><td>f64</td><td>i64</td><td>str</td><td>str</td><td>f64</td><td>f64</td><td>i64</td><td>i64</td></tr></thead><tbody><tr><td>0</td><td>&quot;Male&quot;</td><td>21</td><td>1</td><td>35.0</td><td>0</td><td>&quot;1-2 Year&quot;</td><td>&quot;Yes&quot;</td><td>585909.0</td><td>124.0</td><td>187</td><td>0</td></tr><tr><td>1</td><td>&quot;Male&quot;</td><td>43</td><td>1</td><td>28.0</td><td>0</td><td>&quot;&gt; 2 Years&quot;</td><td>&quot;Yes&quot;</td><td>530199.0</td><td>26.0</td><td>288</td><td>1</td></tr><tr><td>2</td><td>&quot;Female&quot;</td><td>25</td><td>1</td><td>14.0</td><td>1</td><td>&quot;&lt; 1 Year&quot;</td><td>&quot;No&quot;</td><td>342387.0</td><td>152.0</td><td>254</td><td>0</td></tr><tr><td>3</td><td>&quot;Female&quot;</td><td>35</td><td>1</td><td>1.0</td><td>0</td><td>&quot;1-2 Year&quot;</td><td>&quot;Yes&quot;</td><td>23670.0</td><td>156.0</td><td>76</td><td>0</td></tr><tr><td>4</td><td>&quot;Female&quot;</td><td>36</td><td>1</td><td>15.0</td><td>1</td><td>&quot;1-2 Year&quot;</td><td>&quot;No&quot;</td><td>287559.0</td><td>152.0</td><td>294</td><td>0</td></tr><tr><td>&hellip;</td><td>&hellip;</td><td>&hellip;</td><td>&hellip;</td><td>&hellip;</td><td>&hellip;</td><td>&hellip;</td><td>&hellip;</td><td>&hellip;</td><td>&hellip;</td><td>&hellip;</td><td>&hellip;</td></tr><tr><td>11504793</td><td>&quot;Male&quot;</td><td>48</td><td>1</td><td>6.0</td><td>0</td><td>&quot;1-2 Year&quot;</td><td>&quot;Yes&quot;</td><td>246708.0</td><td>26.0</td><td>218</td><td>0</td></tr><tr><td>11504794</td><td>&quot;Female&quot;</td><td>26</td><td>1</td><td>36.0</td><td>0</td><td>&quot;&lt; 1 Year&quot;</td><td>&quot;Yes&quot;</td><td>265581.0</td><td>152.0</td><td>115</td><td>1</td></tr><tr><td>11504795</td><td>&quot;Female&quot;</td><td>29</td><td>1</td><td>32.0</td><td>1</td><td>&quot;&lt; 1 Year&quot;</td><td>&quot;No&quot;</td><td>23670.0</td><td>152.0</td><td>189</td><td>0</td></tr><tr><td>11504796</td><td>&quot;Female&quot;</td><td>51</td><td>1</td><td>28.0</td><td>0</td><td>&quot;1-2 Year&quot;</td><td>&quot;Yes&quot;</td><td>435987.0</td><td>26.0</td><td>274</td><td>1</td></tr><tr><td>11504797</td><td>&quot;Male&quot;</td><td>25</td><td>1</td><td>28.0</td><td>1</td><td>&quot;&lt; 1 Year&quot;</td><td>&quot;No&quot;</td><td>295695.0</td><td>152.0</td><td>189</td><td>0</td></tr></tbody></table></div>"
      ],
      "text/plain": [
       "shape: (11_504_798, 12)\n",
       "┌──────────┬────────┬─────┬───────────────┬───┬───────────────┬───────────────┬─────────┬──────────┐\n",
       "│ id       ┆ Gender ┆ Age ┆ Driving_Licen ┆ … ┆ Annual_Premiu ┆ Policy_Sales_ ┆ Vintage ┆ Response │\n",
       "│ ---      ┆ ---    ┆ --- ┆ se            ┆   ┆ m             ┆ Channel       ┆ ---     ┆ ---      │\n",
       "│ i64      ┆ str    ┆ i64 ┆ ---           ┆   ┆ ---           ┆ ---           ┆ i64     ┆ i64      │\n",
       "│          ┆        ┆     ┆ i64           ┆   ┆ f64           ┆ f64           ┆         ┆          │\n",
       "╞══════════╪════════╪═════╪═══════════════╪═══╪═══════════════╪═══════════════╪═════════╪══════════╡\n",
       "│ 0        ┆ Male   ┆ 21  ┆ 1             ┆ … ┆ 585909.0      ┆ 124.0         ┆ 187     ┆ 0        │\n",
       "│ 1        ┆ Male   ┆ 43  ┆ 1             ┆ … ┆ 530199.0      ┆ 26.0          ┆ 288     ┆ 1        │\n",
       "│ 2        ┆ Female ┆ 25  ┆ 1             ┆ … ┆ 342387.0      ┆ 152.0         ┆ 254     ┆ 0        │\n",
       "│ 3        ┆ Female ┆ 35  ┆ 1             ┆ … ┆ 23670.0       ┆ 156.0         ┆ 76      ┆ 0        │\n",
       "│ 4        ┆ Female ┆ 36  ┆ 1             ┆ … ┆ 287559.0      ┆ 152.0         ┆ 294     ┆ 0        │\n",
       "│ …        ┆ …      ┆ …   ┆ …             ┆ … ┆ …             ┆ …             ┆ …       ┆ …        │\n",
       "│ 11504793 ┆ Male   ┆ 48  ┆ 1             ┆ … ┆ 246708.0      ┆ 26.0          ┆ 218     ┆ 0        │\n",
       "│ 11504794 ┆ Female ┆ 26  ┆ 1             ┆ … ┆ 265581.0      ┆ 152.0         ┆ 115     ┆ 1        │\n",
       "│ 11504795 ┆ Female ┆ 29  ┆ 1             ┆ … ┆ 23670.0       ┆ 152.0         ┆ 189     ┆ 0        │\n",
       "│ 11504796 ┆ Female ┆ 51  ┆ 1             ┆ … ┆ 435987.0      ┆ 26.0          ┆ 274     ┆ 1        │\n",
       "│ 11504797 ┆ Male   ┆ 25  ┆ 1             ┆ … ┆ 295695.0      ┆ 152.0         ┆ 189     ┆ 0        │\n",
       "└──────────┴────────┴─────┴───────────────┴───┴───────────────┴───────────────┴─────────┴──────────┘"
      ]
     },
     "execution_count": 63,
     "metadata": {},
     "output_type": "execute_result"
    }
   ],
   "source": [
    "#  polars.Expr.name.keep\n",
    "insurance_df.with_columns((pl.col(\"Annual_Premium\") * 9).alias(\"c\").name.keep())"
   ]
  },
  {
   "cell_type": "markdown",
   "id": "7afa22eb-0d3a-47fb-adb7-3f2f35b1c947",
   "metadata": {},
   "source": [
    "# Operators "
   ]
  },
  {
   "cell_type": "code",
   "execution_count": 64,
   "id": "d5d40900-f707-4c93-903f-bfee8f1cdabc",
   "metadata": {},
   "outputs": [
    {
     "data": {
      "text/html": [
       "<div><style>\n",
       ".dataframe > thead > tr,\n",
       ".dataframe > tbody > tr {\n",
       "  text-align: right;\n",
       "  white-space: pre-wrap;\n",
       "}\n",
       "</style>\n",
       "<small>shape: (1, 2)</small><table border=\"1\" class=\"dataframe\"><thead><tr><th>Ranking</th><th>GDP</th></tr><tr><td>i64</td><td>i64</td></tr></thead><tbody><tr><td>6</td><td>13</td></tr></tbody></table></div>"
      ],
      "text/plain": [
       "shape: (1, 2)\n",
       "┌─────────┬─────┐\n",
       "│ Ranking ┆ GDP │\n",
       "│ ---     ┆ --- │\n",
       "│ i64     ┆ i64 │\n",
       "╞═════════╪═════╡\n",
       "│ 6       ┆ 13  │\n",
       "└─────────┴─────┘"
      ]
     },
     "execution_count": 64,
     "metadata": {},
     "output_type": "execute_result"
    }
   ],
   "source": [
    "# polars.Expr.and_\n",
    "\n",
    "df = pl.DataFrame({\"Ranking\":[2,4,5,8,6],\"GDP\":[22,87,54,65,13]})\n",
    "df.filter(\n",
    "    (pl.col(\"Ranking\") > 2).and_(pl.col(\"GDP\") < 54)\n",
    ")"
   ]
  },
  {
   "cell_type": "code",
   "execution_count": 65,
   "id": "92c88ca7-2fb2-47f5-8d3b-b9b358ab2d0d",
   "metadata": {},
   "outputs": [
    {
     "data": {
      "text/html": [
       "<div><style>\n",
       ".dataframe > thead > tr,\n",
       ".dataframe > tbody > tr {\n",
       "  text-align: right;\n",
       "  white-space: pre-wrap;\n",
       "}\n",
       "</style>\n",
       "<small>shape: (5, 2)</small><table border=\"1\" class=\"dataframe\"><thead><tr><th>Ranking</th><th>GDP</th></tr><tr><td>i64</td><td>i64</td></tr></thead><tbody><tr><td>2</td><td>22</td></tr><tr><td>4</td><td>87</td></tr><tr><td>5</td><td>54</td></tr><tr><td>8</td><td>65</td></tr><tr><td>6</td><td>13</td></tr></tbody></table></div>"
      ],
      "text/plain": [
       "shape: (5, 2)\n",
       "┌─────────┬─────┐\n",
       "│ Ranking ┆ GDP │\n",
       "│ ---     ┆ --- │\n",
       "│ i64     ┆ i64 │\n",
       "╞═════════╪═════╡\n",
       "│ 2       ┆ 22  │\n",
       "│ 4       ┆ 87  │\n",
       "│ 5       ┆ 54  │\n",
       "│ 8       ┆ 65  │\n",
       "│ 6       ┆ 13  │\n",
       "└─────────┴─────┘"
      ]
     },
     "execution_count": 65,
     "metadata": {},
     "output_type": "execute_result"
    }
   ],
   "source": [
    "# polars.Expr.or_\n",
    "df.filter(\n",
    "    (pl.col(\"Ranking\") > 2).or_(pl.col(\"GDP\") < 54)\n",
    ")"
   ]
  },
  {
   "cell_type": "code",
   "execution_count": 66,
   "id": "7c740350-a0c2-454f-99fe-0a55d3599583",
   "metadata": {},
   "outputs": [
    {
     "data": {
      "text/html": [
       "<div><style>\n",
       ".dataframe > thead > tr,\n",
       ".dataframe > tbody > tr {\n",
       "  text-align: right;\n",
       "  white-space: pre-wrap;\n",
       "}\n",
       "</style>\n",
       "<small>shape: (4, 2)</small><table border=\"1\" class=\"dataframe\"><thead><tr><th>Ranking</th><th>GDP</th></tr><tr><td>i64</td><td>i64</td></tr></thead><tbody><tr><td>4</td><td>87</td></tr><tr><td>5</td><td>54</td></tr><tr><td>8</td><td>65</td></tr><tr><td>6</td><td>13</td></tr></tbody></table></div>"
      ],
      "text/plain": [
       "shape: (4, 2)\n",
       "┌─────────┬─────┐\n",
       "│ Ranking ┆ GDP │\n",
       "│ ---     ┆ --- │\n",
       "│ i64     ┆ i64 │\n",
       "╞═════════╪═════╡\n",
       "│ 4       ┆ 87  │\n",
       "│ 5       ┆ 54  │\n",
       "│ 8       ┆ 65  │\n",
       "│ 6       ┆ 13  │\n",
       "└─────────┴─────┘"
      ]
     },
     "execution_count": 66,
     "metadata": {},
     "output_type": "execute_result"
    }
   ],
   "source": [
    "# polars.Expr.ge\n",
    "\n",
    "\n",
    "df.filter(pl.col(\"Ranking\").ge(3))"
   ]
  },
  {
   "cell_type": "code",
   "execution_count": 67,
   "id": "ea257841-b0e4-49f0-a20e-81f2f07306aa",
   "metadata": {},
   "outputs": [
    {
     "data": {
      "text/html": [
       "<div><style>\n",
       ".dataframe > thead > tr,\n",
       ".dataframe > tbody > tr {\n",
       "  text-align: right;\n",
       "  white-space: pre-wrap;\n",
       "}\n",
       "</style>\n",
       "<small>shape: (4, 2)</small><table border=\"1\" class=\"dataframe\"><thead><tr><th>Ranking</th><th>GDP</th></tr><tr><td>i64</td><td>i64</td></tr></thead><tbody><tr><td>4</td><td>87</td></tr><tr><td>5</td><td>54</td></tr><tr><td>8</td><td>65</td></tr><tr><td>6</td><td>13</td></tr></tbody></table></div>"
      ],
      "text/plain": [
       "shape: (4, 2)\n",
       "┌─────────┬─────┐\n",
       "│ Ranking ┆ GDP │\n",
       "│ ---     ┆ --- │\n",
       "│ i64     ┆ i64 │\n",
       "╞═════════╪═════╡\n",
       "│ 4       ┆ 87  │\n",
       "│ 5       ┆ 54  │\n",
       "│ 8       ┆ 65  │\n",
       "│ 6       ┆ 13  │\n",
       "└─────────┴─────┘"
      ]
     },
     "execution_count": 67,
     "metadata": {},
     "output_type": "execute_result"
    }
   ],
   "source": [
    "# polars.Expr.gt\n",
    "df.filter(pl.col(\"Ranking\").gt(3))"
   ]
  },
  {
   "cell_type": "code",
   "execution_count": 68,
   "id": "3e93b666-5c69-4b9a-9e88-156bc5afe591",
   "metadata": {},
   "outputs": [
    {
     "data": {
      "text/html": [
       "<div><style>\n",
       ".dataframe > thead > tr,\n",
       ".dataframe > tbody > tr {\n",
       "  text-align: right;\n",
       "  white-space: pre-wrap;\n",
       "}\n",
       "</style>\n",
       "<small>shape: (3, 2)</small><table border=\"1\" class=\"dataframe\"><thead><tr><th>Ranking</th><th>GDP</th></tr><tr><td>i64</td><td>i64</td></tr></thead><tbody><tr><td>5</td><td>54</td></tr><tr><td>8</td><td>65</td></tr><tr><td>6</td><td>13</td></tr></tbody></table></div>"
      ],
      "text/plain": [
       "shape: (3, 2)\n",
       "┌─────────┬─────┐\n",
       "│ Ranking ┆ GDP │\n",
       "│ ---     ┆ --- │\n",
       "│ i64     ┆ i64 │\n",
       "╞═════════╪═════╡\n",
       "│ 5       ┆ 54  │\n",
       "│ 8       ┆ 65  │\n",
       "│ 6       ┆ 13  │\n",
       "└─────────┴─────┘"
      ]
     },
     "execution_count": 68,
     "metadata": {},
     "output_type": "execute_result"
    }
   ],
   "source": [
    "#polars.Expr.le\n",
    "df.filter(pl.col(\"Ranking\").gt(4))"
   ]
  },
  {
   "cell_type": "code",
   "execution_count": 69,
   "id": "3ad5be13-5657-4e8d-b703-d41c7f5a7baa",
   "metadata": {},
   "outputs": [
    {
     "data": {
      "text/html": [
       "<div><style>\n",
       ".dataframe > thead > tr,\n",
       ".dataframe > tbody > tr {\n",
       "  text-align: right;\n",
       "  white-space: pre-wrap;\n",
       "}\n",
       "</style>\n",
       "<small>shape: (1, 2)</small><table border=\"1\" class=\"dataframe\"><thead><tr><th>Ranking</th><th>GDP</th></tr><tr><td>i64</td><td>i64</td></tr></thead><tbody><tr><td>2</td><td>22</td></tr></tbody></table></div>"
      ],
      "text/plain": [
       "shape: (1, 2)\n",
       "┌─────────┬─────┐\n",
       "│ Ranking ┆ GDP │\n",
       "│ ---     ┆ --- │\n",
       "│ i64     ┆ i64 │\n",
       "╞═════════╪═════╡\n",
       "│ 2       ┆ 22  │\n",
       "└─────────┴─────┘"
      ]
     },
     "execution_count": 69,
     "metadata": {},
     "output_type": "execute_result"
    }
   ],
   "source": [
    "# polars.Expr.lt\n",
    "df.filter(pl.col(\"Ranking\").lt(4))"
   ]
  },
  {
   "cell_type": "code",
   "execution_count": 71,
   "id": "b97cf9a1-6fe9-43b5-a142-7750f37aac8e",
   "metadata": {},
   "outputs": [
    {
     "data": {
      "text/html": [
       "<div><style>\n",
       ".dataframe > thead > tr,\n",
       ".dataframe > tbody > tr {\n",
       "  text-align: right;\n",
       "  white-space: pre-wrap;\n",
       "}\n",
       "</style>\n",
       "<small>shape: (4, 2)</small><table border=\"1\" class=\"dataframe\"><thead><tr><th>Ranking</th><th>GDP</th></tr><tr><td>i64</td><td>i64</td></tr></thead><tbody><tr><td>4</td><td>87</td></tr><tr><td>5</td><td>54</td></tr><tr><td>8</td><td>65</td></tr><tr><td>6</td><td>13</td></tr></tbody></table></div>"
      ],
      "text/plain": [
       "shape: (4, 2)\n",
       "┌─────────┬─────┐\n",
       "│ Ranking ┆ GDP │\n",
       "│ ---     ┆ --- │\n",
       "│ i64     ┆ i64 │\n",
       "╞═════════╪═════╡\n",
       "│ 4       ┆ 87  │\n",
       "│ 5       ┆ 54  │\n",
       "│ 8       ┆ 65  │\n",
       "│ 6       ┆ 13  │\n",
       "└─────────┴─────┘"
      ]
     },
     "execution_count": 71,
     "metadata": {},
     "output_type": "execute_result"
    }
   ],
   "source": [
    "# polars.Expr.ne\n",
    "\n",
    "df.filter(pl.col(\"Ranking\").ne(2))"
   ]
  },
  {
   "cell_type": "code",
   "execution_count": 72,
   "id": "a6abb7f0-1e3e-4128-bd83-2b57ed0f1c27",
   "metadata": {},
   "outputs": [
    {
     "data": {
      "text/html": [
       "<div><style>\n",
       ".dataframe > thead > tr,\n",
       ".dataframe > tbody > tr {\n",
       "  text-align: right;\n",
       "  white-space: pre-wrap;\n",
       "}\n",
       "</style>\n",
       "<small>shape: (5, 3)</small><table border=\"1\" class=\"dataframe\"><thead><tr><th>Ranking</th><th>GDP</th><th>Total</th></tr><tr><td>i64</td><td>i64</td><td>i64</td></tr></thead><tbody><tr><td>2</td><td>22</td><td>24</td></tr><tr><td>4</td><td>87</td><td>91</td></tr><tr><td>5</td><td>54</td><td>59</td></tr><tr><td>8</td><td>65</td><td>73</td></tr><tr><td>6</td><td>13</td><td>19</td></tr></tbody></table></div>"
      ],
      "text/plain": [
       "shape: (5, 3)\n",
       "┌─────────┬─────┬───────┐\n",
       "│ Ranking ┆ GDP ┆ Total │\n",
       "│ ---     ┆ --- ┆ ---   │\n",
       "│ i64     ┆ i64 ┆ i64   │\n",
       "╞═════════╪═════╪═══════╡\n",
       "│ 2       ┆ 22  ┆ 24    │\n",
       "│ 4       ┆ 87  ┆ 91    │\n",
       "│ 5       ┆ 54  ┆ 59    │\n",
       "│ 8       ┆ 65  ┆ 73    │\n",
       "│ 6       ┆ 13  ┆ 19    │\n",
       "└─────────┴─────┴───────┘"
      ]
     },
     "execution_count": 72,
     "metadata": {},
     "output_type": "execute_result"
    }
   ],
   "source": [
    "# polars.Expr.add\n",
    "\n",
    "df.with_columns(\n",
    "    (pl.col(\"Ranking\") + pl.col(\"GDP\")).alias(\"Total\")\n",
    ")"
   ]
  },
  {
   "cell_type": "code",
   "execution_count": 75,
   "id": "5950d089-d5a7-426e-b8ea-9237479a7b68",
   "metadata": {},
   "outputs": [
    {
     "data": {
      "text/html": [
       "<div><style>\n",
       ".dataframe > thead > tr,\n",
       ".dataframe > tbody > tr {\n",
       "  text-align: right;\n",
       "  white-space: pre-wrap;\n",
       "}\n",
       "</style>\n",
       "<small>shape: (5, 3)</small><table border=\"1\" class=\"dataframe\"><thead><tr><th>Ranking</th><th>GDP</th><th>New_Ranking</th></tr><tr><td>i64</td><td>i64</td><td>i64</td></tr></thead><tbody><tr><td>2</td><td>22</td><td>0</td></tr><tr><td>4</td><td>87</td><td>1</td></tr><tr><td>5</td><td>54</td><td>1</td></tr><tr><td>8</td><td>65</td><td>2</td></tr><tr><td>6</td><td>13</td><td>2</td></tr></tbody></table></div>"
      ],
      "text/plain": [
       "shape: (5, 3)\n",
       "┌─────────┬─────┬─────────────┐\n",
       "│ Ranking ┆ GDP ┆ New_Ranking │\n",
       "│ ---     ┆ --- ┆ ---         │\n",
       "│ i64     ┆ i64 ┆ i64         │\n",
       "╞═════════╪═════╪═════════════╡\n",
       "│ 2       ┆ 22  ┆ 0           │\n",
       "│ 4       ┆ 87  ┆ 1           │\n",
       "│ 5       ┆ 54  ┆ 1           │\n",
       "│ 8       ┆ 65  ┆ 2           │\n",
       "│ 6       ┆ 13  ┆ 2           │\n",
       "└─────────┴─────┴─────────────┘"
      ]
     },
     "execution_count": 75,
     "metadata": {},
     "output_type": "execute_result"
    }
   ],
   "source": [
    "# polars.Expr.floordiv\n",
    "df.with_columns(\n",
    "    (pl.col(\"Ranking\").floordiv(3).alias(\"New_Ranking\"))\n",
    ")\n"
   ]
  },
  {
   "cell_type": "markdown",
   "id": "2a54e634-b3dd-48e4-9f89-08c67bd709d6",
   "metadata": {},
   "source": [
    "# Windows Function "
   ]
  },
  {
   "cell_type": "code",
   "execution_count": 78,
   "id": "92988131-a895-4564-a41b-8f1b73b5a46f",
   "metadata": {},
   "outputs": [
    {
     "data": {
      "text/html": [
       "<div><style>\n",
       ".dataframe > thead > tr,\n",
       ".dataframe > tbody > tr {\n",
       "  text-align: right;\n",
       "  white-space: pre-wrap;\n",
       "}\n",
       "</style>\n",
       "<small>shape: (6, 3)</small><table border=\"1\" class=\"dataframe\"><thead><tr><th>Department</th><th>Sales</th><th>CumulativeSales</th></tr><tr><td>str</td><td>i64</td><td>i64</td></tr></thead><tbody><tr><td>&quot;Aerial&quot;</td><td>200</td><td>200</td></tr><tr><td>&quot;Aerial&quot;</td><td>150</td><td>350</td></tr><tr><td>&quot;Aerial&quot;</td><td>300</td><td>650</td></tr><tr><td>&quot;Biscuits&quot;</td><td>400</td><td>400</td></tr><tr><td>&quot;Biscuits&quot;</td><td>250</td><td>650</td></tr><tr><td>&quot;Biscuits&quot;</td><td>500</td><td>1150</td></tr></tbody></table></div>"
      ],
      "text/plain": [
       "shape: (6, 3)\n",
       "┌────────────┬───────┬─────────────────┐\n",
       "│ Department ┆ Sales ┆ CumulativeSales │\n",
       "│ ---        ┆ ---   ┆ ---             │\n",
       "│ str        ┆ i64   ┆ i64             │\n",
       "╞════════════╪═══════╪═════════════════╡\n",
       "│ Aerial     ┆ 200   ┆ 200             │\n",
       "│ Aerial     ┆ 150   ┆ 350             │\n",
       "│ Aerial     ┆ 300   ┆ 650             │\n",
       "│ Biscuits   ┆ 400   ┆ 400             │\n",
       "│ Biscuits   ┆ 250   ┆ 650             │\n",
       "│ Biscuits   ┆ 500   ┆ 1150            │\n",
       "└────────────┴───────┴─────────────────┘"
      ]
     },
     "execution_count": 78,
     "metadata": {},
     "output_type": "execute_result"
    }
   ],
   "source": [
    "# polars.Expr.over\n",
    "\n",
    "df = pl.DataFrame({\n",
    "    \"Department\": [\"Aerial\", \"Aerial\", \"Aerial\", \"Biscuits\", \"Biscuits\", \"Biscuits\"],\n",
    "    \"Sales\": [200, 150, 300, 400, 250, 500]\n",
    "})\n",
    "\n",
    "df.with_columns(\n",
    "    pl.col(\"Sales\").cum_sum().over(\"Department\").alias(\"CumulativeSales\")\n",
    ")"
   ]
  },
  {
   "cell_type": "code",
   "execution_count": 81,
   "id": "f10bee29-9150-4e0c-ba7b-7e42bf78659e",
   "metadata": {},
   "outputs": [
    {
     "data": {
      "text/html": [
       "<div><style>\n",
       ".dataframe > thead > tr,\n",
       ".dataframe > tbody > tr {\n",
       "  text-align: right;\n",
       "  white-space: pre-wrap;\n",
       "}\n",
       "</style>\n",
       "<small>shape: (5, 3)</small><table border=\"1\" class=\"dataframe\"><thead><tr><th>Date</th><th>Sales</th><th>RollingMean</th></tr><tr><td>str</td><td>i64</td><td>i64</td></tr></thead><tbody><tr><td>&quot;2023-08-01&quot;</td><td>100</td><td>null</td></tr><tr><td>&quot;2023-08-02&quot;</td><td>150</td><td>null</td></tr><tr><td>&quot;2023-08-03&quot;</td><td>200</td><td>450</td></tr><tr><td>&quot;2023-08-04&quot;</td><td>250</td><td>600</td></tr><tr><td>&quot;2023-08-05&quot;</td><td>300</td><td>750</td></tr></tbody></table></div>"
      ],
      "text/plain": [
       "shape: (5, 3)\n",
       "┌────────────┬───────┬─────────────┐\n",
       "│ Date       ┆ Sales ┆ RollingMean │\n",
       "│ ---        ┆ ---   ┆ ---         │\n",
       "│ str        ┆ i64   ┆ i64         │\n",
       "╞════════════╪═══════╪═════════════╡\n",
       "│ 2023-08-01 ┆ 100   ┆ null        │\n",
       "│ 2023-08-02 ┆ 150   ┆ null        │\n",
       "│ 2023-08-03 ┆ 200   ┆ 450         │\n",
       "│ 2023-08-04 ┆ 250   ┆ 600         │\n",
       "│ 2023-08-05 ┆ 300   ┆ 750         │\n",
       "└────────────┴───────┴─────────────┘"
      ]
     },
     "execution_count": 81,
     "metadata": {},
     "output_type": "execute_result"
    }
   ],
   "source": [
    "# polars.Expr.rolling\n",
    "\n",
    "df = pl.DataFrame({\n",
    "    \"Date\": [\"2023-08-01\", \"2023-08-02\", \"2023-08-03\", \"2023-08-04\", \"2023-08-05\"],\n",
    "    \"Sales\": [100, 150, 200, 250, 300]\n",
    "})\n",
    "\n",
    "df.with_columns(\n",
    "    pl.col(\"Sales\").rolling_sum(window_size=3).alias(\"RollingMean\")\n",
    ")"
   ]
  },
  {
   "cell_type": "code",
   "execution_count": 82,
   "id": "2e7053e3-c31a-45f9-8b43-ea7e9681324f",
   "metadata": {},
   "outputs": [
    {
     "data": {
      "text/html": [
       "<div><style>\n",
       ".dataframe > thead > tr,\n",
       ".dataframe > tbody > tr {\n",
       "  text-align: right;\n",
       "  white-space: pre-wrap;\n",
       "}\n",
       "</style>\n",
       "<small>shape: (5, 3)</small><table border=\"1\" class=\"dataframe\"><thead><tr><th>Date</th><th>Sales</th><th>RollingMean</th></tr><tr><td>str</td><td>i64</td><td>f64</td></tr></thead><tbody><tr><td>&quot;2023-08-01&quot;</td><td>100</td><td>null</td></tr><tr><td>&quot;2023-08-02&quot;</td><td>150</td><td>null</td></tr><tr><td>&quot;2023-08-03&quot;</td><td>200</td><td>150.0</td></tr><tr><td>&quot;2023-08-04&quot;</td><td>250</td><td>200.0</td></tr><tr><td>&quot;2023-08-05&quot;</td><td>300</td><td>250.0</td></tr></tbody></table></div>"
      ],
      "text/plain": [
       "shape: (5, 3)\n",
       "┌────────────┬───────┬─────────────┐\n",
       "│ Date       ┆ Sales ┆ RollingMean │\n",
       "│ ---        ┆ ---   ┆ ---         │\n",
       "│ str        ┆ i64   ┆ f64         │\n",
       "╞════════════╪═══════╪═════════════╡\n",
       "│ 2023-08-01 ┆ 100   ┆ null        │\n",
       "│ 2023-08-02 ┆ 150   ┆ null        │\n",
       "│ 2023-08-03 ┆ 200   ┆ 150.0       │\n",
       "│ 2023-08-04 ┆ 250   ┆ 200.0       │\n",
       "│ 2023-08-05 ┆ 300   ┆ 250.0       │\n",
       "└────────────┴───────┴─────────────┘"
      ]
     },
     "execution_count": 82,
     "metadata": {},
     "output_type": "execute_result"
    }
   ],
   "source": [
    "df.with_columns(\n",
    "    pl.col(\"Sales\").rolling_mean(window_size=3).alias(\"RollingMean\")\n",
    ")"
   ]
  },
  {
   "cell_type": "markdown",
   "id": "e3acafbb-6eae-465c-9437-961377a8e882",
   "metadata": {},
   "source": [
    "# Temporal Functions"
   ]
  },
  {
   "cell_type": "code",
   "execution_count": 84,
   "id": "e57f6f79-4625-481e-93c8-98e53ba7cff9",
   "metadata": {},
   "outputs": [],
   "source": [
    "df = pl.DataFrame({\n",
    "    \"Timestamp\": [\n",
    "        \"2023-08-01 12:34:56\",\n",
    "        \"2023-08-02 14:22:11\",\n",
    "        \"2023-08-03 08:19:03\"\n",
    "    ]\n",
    "})\n",
    "df = df.with_columns(\n",
    "    pl.col(\"Timestamp\").str.strptime(pl.Datetime, \"%Y-%m-%d %H:%M:%S\")\n",
    ")"
   ]
  },
  {
   "cell_type": "code",
   "execution_count": 85,
   "id": "97328078-7957-4186-b4a0-0e166f0bc529",
   "metadata": {},
   "outputs": [
    {
     "data": {
      "text/html": [
       "<div><style>\n",
       ".dataframe > thead > tr,\n",
       ".dataframe > tbody > tr {\n",
       "  text-align: right;\n",
       "  white-space: pre-wrap;\n",
       "}\n",
       "</style>\n",
       "<small>shape: (3, 2)</small><table border=\"1\" class=\"dataframe\"><thead><tr><th>Timestamp</th><th>Date</th></tr><tr><td>datetime[μs]</td><td>date</td></tr></thead><tbody><tr><td>2023-08-01 12:34:56</td><td>2023-08-01</td></tr><tr><td>2023-08-02 14:22:11</td><td>2023-08-02</td></tr><tr><td>2023-08-03 08:19:03</td><td>2023-08-03</td></tr></tbody></table></div>"
      ],
      "text/plain": [
       "shape: (3, 2)\n",
       "┌─────────────────────┬────────────┐\n",
       "│ Timestamp           ┆ Date       │\n",
       "│ ---                 ┆ ---        │\n",
       "│ datetime[μs]        ┆ date       │\n",
       "╞═════════════════════╪════════════╡\n",
       "│ 2023-08-01 12:34:56 ┆ 2023-08-01 │\n",
       "│ 2023-08-02 14:22:11 ┆ 2023-08-02 │\n",
       "│ 2023-08-03 08:19:03 ┆ 2023-08-03 │\n",
       "└─────────────────────┴────────────┘"
      ]
     },
     "execution_count": 85,
     "metadata": {},
     "output_type": "execute_result"
    }
   ],
   "source": [
    "# polars.Expr.dt.date\n",
    "\n",
    "df.with_columns(\n",
    "    pl.col(\"Timestamp\").dt.date().alias(\"Date\")\n",
    ")"
   ]
  },
  {
   "cell_type": "code",
   "execution_count": 86,
   "id": "d2f67247-a0bf-4cdc-8544-f2d4efeae3cf",
   "metadata": {},
   "outputs": [
    {
     "data": {
      "text/html": [
       "<div><style>\n",
       ".dataframe > thead > tr,\n",
       ".dataframe > tbody > tr {\n",
       "  text-align: right;\n",
       "  white-space: pre-wrap;\n",
       "}\n",
       "</style>\n",
       "<small>shape: (3, 2)</small><table border=\"1\" class=\"dataframe\"><thead><tr><th>Timestamp</th><th>Day</th></tr><tr><td>datetime[μs]</td><td>i8</td></tr></thead><tbody><tr><td>2023-08-01 12:34:56</td><td>1</td></tr><tr><td>2023-08-02 14:22:11</td><td>2</td></tr><tr><td>2023-08-03 08:19:03</td><td>3</td></tr></tbody></table></div>"
      ],
      "text/plain": [
       "shape: (3, 2)\n",
       "┌─────────────────────┬─────┐\n",
       "│ Timestamp           ┆ Day │\n",
       "│ ---                 ┆ --- │\n",
       "│ datetime[μs]        ┆ i8  │\n",
       "╞═════════════════════╪═════╡\n",
       "│ 2023-08-01 12:34:56 ┆ 1   │\n",
       "│ 2023-08-02 14:22:11 ┆ 2   │\n",
       "│ 2023-08-03 08:19:03 ┆ 3   │\n",
       "└─────────────────────┴─────┘"
      ]
     },
     "execution_count": 86,
     "metadata": {},
     "output_type": "execute_result"
    }
   ],
   "source": [
    "# polars.Expr.dt.day\n",
    "\n",
    "df.with_columns(\n",
    "    pl.col(\"Timestamp\").dt.day().alias(\"Day\")\n",
    ")"
   ]
  },
  {
   "cell_type": "code",
   "execution_count": 87,
   "id": "712bd42d-51a6-4392-bf5f-819efa0569e4",
   "metadata": {},
   "outputs": [
    {
     "data": {
      "text/html": [
       "<div><style>\n",
       ".dataframe > thead > tr,\n",
       ".dataframe > tbody > tr {\n",
       "  text-align: right;\n",
       "  white-space: pre-wrap;\n",
       "}\n",
       "</style>\n",
       "<small>shape: (3, 2)</small><table border=\"1\" class=\"dataframe\"><thead><tr><th>Timestamp</th><th>Hour</th></tr><tr><td>datetime[μs]</td><td>i8</td></tr></thead><tbody><tr><td>2023-08-01 12:34:56</td><td>12</td></tr><tr><td>2023-08-02 14:22:11</td><td>14</td></tr><tr><td>2023-08-03 08:19:03</td><td>8</td></tr></tbody></table></div>"
      ],
      "text/plain": [
       "shape: (3, 2)\n",
       "┌─────────────────────┬──────┐\n",
       "│ Timestamp           ┆ Hour │\n",
       "│ ---                 ┆ ---  │\n",
       "│ datetime[μs]        ┆ i8   │\n",
       "╞═════════════════════╪══════╡\n",
       "│ 2023-08-01 12:34:56 ┆ 12   │\n",
       "│ 2023-08-02 14:22:11 ┆ 14   │\n",
       "│ 2023-08-03 08:19:03 ┆ 8    │\n",
       "└─────────────────────┴──────┘"
      ]
     },
     "execution_count": 87,
     "metadata": {},
     "output_type": "execute_result"
    }
   ],
   "source": [
    "# polars.Expr.dt.hour\n",
    "df.with_columns(\n",
    "    pl.col(\"Timestamp\").dt.hour().alias(\"Hour\")\n",
    ")\n"
   ]
  },
  {
   "cell_type": "code",
   "execution_count": 88,
   "id": "c11d9dec-8c96-4100-9414-1729f2139867",
   "metadata": {},
   "outputs": [
    {
     "data": {
      "text/html": [
       "<div><style>\n",
       ".dataframe > thead > tr,\n",
       ".dataframe > tbody > tr {\n",
       "  text-align: right;\n",
       "  white-space: pre-wrap;\n",
       "}\n",
       "</style>\n",
       "<small>shape: (3, 2)</small><table border=\"1\" class=\"dataframe\"><thead><tr><th>Timestamp</th><th>Minute</th></tr><tr><td>datetime[μs]</td><td>i8</td></tr></thead><tbody><tr><td>2023-08-01 12:34:56</td><td>34</td></tr><tr><td>2023-08-02 14:22:11</td><td>22</td></tr><tr><td>2023-08-03 08:19:03</td><td>19</td></tr></tbody></table></div>"
      ],
      "text/plain": [
       "shape: (3, 2)\n",
       "┌─────────────────────┬────────┐\n",
       "│ Timestamp           ┆ Minute │\n",
       "│ ---                 ┆ ---    │\n",
       "│ datetime[μs]        ┆ i8     │\n",
       "╞═════════════════════╪════════╡\n",
       "│ 2023-08-01 12:34:56 ┆ 34     │\n",
       "│ 2023-08-02 14:22:11 ┆ 22     │\n",
       "│ 2023-08-03 08:19:03 ┆ 19     │\n",
       "└─────────────────────┴────────┘"
      ]
     },
     "execution_count": 88,
     "metadata": {},
     "output_type": "execute_result"
    }
   ],
   "source": [
    "# polars.Expr.dt.minute\n",
    "df.with_columns(\n",
    "    pl.col(\"Timestamp\").dt.minute().alias(\"Minute\")\n",
    ")\n"
   ]
  },
  {
   "cell_type": "code",
   "execution_count": 89,
   "id": "62a3384b-1cba-4f2f-991e-0b75eee86a83",
   "metadata": {},
   "outputs": [
    {
     "data": {
      "text/html": [
       "<div><style>\n",
       ".dataframe > thead > tr,\n",
       ".dataframe > tbody > tr {\n",
       "  text-align: right;\n",
       "  white-space: pre-wrap;\n",
       "}\n",
       "</style>\n",
       "<small>shape: (3, 2)</small><table border=\"1\" class=\"dataframe\"><thead><tr><th>Timestamp</th><th>Month</th></tr><tr><td>datetime[μs]</td><td>i8</td></tr></thead><tbody><tr><td>2023-08-01 12:34:56</td><td>8</td></tr><tr><td>2023-08-02 14:22:11</td><td>8</td></tr><tr><td>2023-08-03 08:19:03</td><td>8</td></tr></tbody></table></div>"
      ],
      "text/plain": [
       "shape: (3, 2)\n",
       "┌─────────────────────┬───────┐\n",
       "│ Timestamp           ┆ Month │\n",
       "│ ---                 ┆ ---   │\n",
       "│ datetime[μs]        ┆ i8    │\n",
       "╞═════════════════════╪═══════╡\n",
       "│ 2023-08-01 12:34:56 ┆ 8     │\n",
       "│ 2023-08-02 14:22:11 ┆ 8     │\n",
       "│ 2023-08-03 08:19:03 ┆ 8     │\n",
       "└─────────────────────┴───────┘"
      ]
     },
     "execution_count": 89,
     "metadata": {},
     "output_type": "execute_result"
    }
   ],
   "source": [
    "# polars.Expr.dt.month\n",
    "df.with_columns(\n",
    "    pl.col(\"Timestamp\").dt.month().alias(\"Month\")\n",
    ")\n"
   ]
  },
  {
   "cell_type": "code",
   "execution_count": 90,
   "id": "3d005462-af1d-4eb3-a346-1dca0b861ab6",
   "metadata": {},
   "outputs": [
    {
     "data": {
      "text/html": [
       "<div><style>\n",
       ".dataframe > thead > tr,\n",
       ".dataframe > tbody > tr {\n",
       "  text-align: right;\n",
       "  white-space: pre-wrap;\n",
       "}\n",
       "</style>\n",
       "<small>shape: (3, 2)</small><table border=\"1\" class=\"dataframe\"><thead><tr><th>Timestamp</th><th>Time</th></tr><tr><td>datetime[μs]</td><td>time</td></tr></thead><tbody><tr><td>2023-08-01 12:34:56</td><td>12:34:56</td></tr><tr><td>2023-08-02 14:22:11</td><td>14:22:11</td></tr><tr><td>2023-08-03 08:19:03</td><td>08:19:03</td></tr></tbody></table></div>"
      ],
      "text/plain": [
       "shape: (3, 2)\n",
       "┌─────────────────────┬──────────┐\n",
       "│ Timestamp           ┆ Time     │\n",
       "│ ---                 ┆ ---      │\n",
       "│ datetime[μs]        ┆ time     │\n",
       "╞═════════════════════╪══════════╡\n",
       "│ 2023-08-01 12:34:56 ┆ 12:34:56 │\n",
       "│ 2023-08-02 14:22:11 ┆ 14:22:11 │\n",
       "│ 2023-08-03 08:19:03 ┆ 08:19:03 │\n",
       "└─────────────────────┴──────────┘"
      ]
     },
     "execution_count": 90,
     "metadata": {},
     "output_type": "execute_result"
    }
   ],
   "source": [
    "# polars.Expr.dt.time\n",
    "\n",
    "df.with_columns(\n",
    "    pl.col(\"Timestamp\").dt.time().alias(\"Time\")\n",
    ")\n"
   ]
  },
  {
   "cell_type": "markdown",
   "id": "0e6ad83a-6d4a-479e-8b6f-2b099ec094c5",
   "metadata": {},
   "source": [
    "# There are some other methods for list , string and List expressions which can be practiced on own. "
   ]
  },
  {
   "cell_type": "code",
   "execution_count": null,
   "id": "dd7f819a-de3d-4d2a-bef4-ce1b63ca5e32",
   "metadata": {},
   "outputs": [],
   "source": []
  }
 ],
 "metadata": {
  "kernelspec": {
   "display_name": "Python 3 (ipykernel)",
   "language": "python",
   "name": "python3"
  },
  "language_info": {
   "codemirror_mode": {
    "name": "ipython",
    "version": 3
   },
   "file_extension": ".py",
   "mimetype": "text/x-python",
   "name": "python",
   "nbconvert_exporter": "python",
   "pygments_lexer": "ipython3",
   "version": "3.11.7"
  }
 },
 "nbformat": 4,
 "nbformat_minor": 5
}
