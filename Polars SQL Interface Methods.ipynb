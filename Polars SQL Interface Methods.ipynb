{
 "cells": [
  {
   "cell_type": "markdown",
   "id": "c3e23e8a-a3fc-4223-a120-c4d436a3427f",
   "metadata": {},
   "source": [
    "# Import library"
   ]
  },
  {
   "cell_type": "code",
   "execution_count": 1,
   "id": "f90ca4a5-7214-41f9-bdce-cf2d4544a255",
   "metadata": {},
   "outputs": [
    {
     "name": "stdout",
     "output_type": "stream",
     "text": [
      "1.5.0\n"
     ]
    }
   ],
   "source": [
    "import polars as pl \n",
    "print(pl.__version__)"
   ]
  },
  {
   "cell_type": "code",
   "execution_count": 2,
   "id": "5132885c-8568-4765-b9d1-8f52fef07c23",
   "metadata": {},
   "outputs": [],
   "source": [
    "insurance_df = pl.read_csv(\"Insurance.csv\")"
   ]
  },
  {
   "cell_type": "code",
   "execution_count": 3,
   "id": "af46de03-7aff-41e6-80ca-c31f8ad887c9",
   "metadata": {},
   "outputs": [
    {
     "data": {
      "text/plain": [
       "['id',\n",
       " 'Gender',\n",
       " 'Age',\n",
       " 'Driving_License',\n",
       " 'Region_Code',\n",
       " 'Previously_Insured',\n",
       " 'Vehicle_Age',\n",
       " 'Vehicle_Damage',\n",
       " 'Annual_Premium',\n",
       " 'Policy_Sales_Channel',\n",
       " 'Vintage',\n",
       " 'Response']"
      ]
     },
     "execution_count": 3,
     "metadata": {},
     "output_type": "execute_result"
    }
   ],
   "source": [
    "insurance_df.columns"
   ]
  },
  {
   "cell_type": "markdown",
   "id": "1a983d95-fc21-4f6d-82cb-6bf9cb75c36c",
   "metadata": {},
   "source": [
    "# SQL Clauses "
   ]
  },
  {
   "cell_type": "code",
   "execution_count": 4,
   "id": "f3cda0be-5103-44dc-ba61-0ec6daa6c3a3",
   "metadata": {},
   "outputs": [
    {
     "data": {
      "text/html": [
       "<div><style>\n",
       ".dataframe > thead > tr,\n",
       ".dataframe > tbody > tr {\n",
       "  text-align: right;\n",
       "  white-space: pre-wrap;\n",
       "}\n",
       "</style>\n",
       "<small>shape: (11_504_798, 2)</small><table border=\"1\" class=\"dataframe\"><thead><tr><th>Gender</th><th>Age</th></tr><tr><td>str</td><td>i64</td></tr></thead><tbody><tr><td>&quot;Male&quot;</td><td>21</td></tr><tr><td>&quot;Male&quot;</td><td>43</td></tr><tr><td>&quot;Female&quot;</td><td>25</td></tr><tr><td>&quot;Female&quot;</td><td>35</td></tr><tr><td>&quot;Female&quot;</td><td>36</td></tr><tr><td>&hellip;</td><td>&hellip;</td></tr><tr><td>&quot;Male&quot;</td><td>48</td></tr><tr><td>&quot;Female&quot;</td><td>26</td></tr><tr><td>&quot;Female&quot;</td><td>29</td></tr><tr><td>&quot;Female&quot;</td><td>51</td></tr><tr><td>&quot;Male&quot;</td><td>25</td></tr></tbody></table></div>"
      ],
      "text/plain": [
       "shape: (11_504_798, 2)\n",
       "┌────────┬─────┐\n",
       "│ Gender ┆ Age │\n",
       "│ ---    ┆ --- │\n",
       "│ str    ┆ i64 │\n",
       "╞════════╪═════╡\n",
       "│ Male   ┆ 21  │\n",
       "│ Male   ┆ 43  │\n",
       "│ Female ┆ 25  │\n",
       "│ Female ┆ 35  │\n",
       "│ Female ┆ 36  │\n",
       "│ …      ┆ …   │\n",
       "│ Male   ┆ 48  │\n",
       "│ Female ┆ 26  │\n",
       "│ Female ┆ 29  │\n",
       "│ Female ┆ 51  │\n",
       "│ Male   ┆ 25  │\n",
       "└────────┴─────┘"
      ]
     },
     "execution_count": 4,
     "metadata": {},
     "output_type": "execute_result"
    }
   ],
   "source": [
    "# Select Statement\n",
    "\n",
    "insurance_df.sql(\"\"\"\n",
    "  SELECT Gender, Age FROM self\n",
    "\"\"\")"
   ]
  },
  {
   "cell_type": "code",
   "execution_count": 5,
   "id": "da8c1f52-68e9-4db9-8306-bb0b4d2295c6",
   "metadata": {},
   "outputs": [
    {
     "data": {
      "text/html": [
       "<div><style>\n",
       ".dataframe > thead > tr,\n",
       ".dataframe > tbody > tr {\n",
       "  text-align: right;\n",
       "  white-space: pre-wrap;\n",
       "}\n",
       "</style>\n",
       "<small>shape: (2, 1)</small><table border=\"1\" class=\"dataframe\"><thead><tr><th>Gender</th></tr><tr><td>str</td></tr></thead><tbody><tr><td>&quot;Male&quot;</td></tr><tr><td>&quot;Female&quot;</td></tr></tbody></table></div>"
      ],
      "text/plain": [
       "shape: (2, 1)\n",
       "┌────────┐\n",
       "│ Gender │\n",
       "│ ---    │\n",
       "│ str    │\n",
       "╞════════╡\n",
       "│ Male   │\n",
       "│ Female │\n",
       "└────────┘"
      ]
     },
     "execution_count": 5,
     "metadata": {},
     "output_type": "execute_result"
    }
   ],
   "source": [
    "# Distinct\n",
    "\n",
    "insurance_df.sql(\"\"\"\n",
    "  SELECT DISTINCT(Gender) FROM self\n",
    "\"\"\")"
   ]
  },
  {
   "cell_type": "code",
   "execution_count": 6,
   "id": "00012034-8a28-4c4e-a102-a04e17ed00f5",
   "metadata": {},
   "outputs": [
    {
     "data": {
      "text/html": [
       "<div><style>\n",
       ".dataframe > thead > tr,\n",
       ".dataframe > tbody > tr {\n",
       "  text-align: right;\n",
       "  white-space: pre-wrap;\n",
       "}\n",
       "</style>\n",
       "<small>shape: (1, 1)</small><table border=\"1\" class=\"dataframe\"><thead><tr><th>Gender</th></tr><tr><td>u32</td></tr></thead><tbody><tr><td>2</td></tr></tbody></table></div>"
      ],
      "text/plain": [
       "shape: (1, 1)\n",
       "┌────────┐\n",
       "│ Gender │\n",
       "│ ---    │\n",
       "│ u32    │\n",
       "╞════════╡\n",
       "│ 2      │\n",
       "└────────┘"
      ]
     },
     "execution_count": 6,
     "metadata": {},
     "output_type": "execute_result"
    }
   ],
   "source": [
    "# COUNT \n",
    "\n",
    "insurance_df.sql(\"\"\"\n",
    "  SELECT COUNT(DISTINCT Gender) FROM self\n",
    "\"\"\")"
   ]
  },
  {
   "cell_type": "code",
   "execution_count": 7,
   "id": "c11248fe-0cea-4c3f-9bc1-173908e7b3e6",
   "metadata": {},
   "outputs": [
    {
     "data": {
      "text/html": [
       "<div><style>\n",
       ".dataframe > thead > tr,\n",
       ".dataframe > tbody > tr {\n",
       "  text-align: right;\n",
       "  white-space: pre-wrap;\n",
       "}\n",
       "</style>\n",
       "<small>shape: (11_504_798, 3)</small><table border=\"1\" class=\"dataframe\"><thead><tr><th>Gender</th><th>Age</th><th>Annual_Premium</th></tr><tr><td>str</td><td>i64</td><td>f64</td></tr></thead><tbody><tr><td>&quot;Male&quot;</td><td>21</td><td>65101.0</td></tr><tr><td>&quot;Male&quot;</td><td>43</td><td>58911.0</td></tr><tr><td>&quot;Female&quot;</td><td>25</td><td>38043.0</td></tr><tr><td>&quot;Female&quot;</td><td>35</td><td>2630.0</td></tr><tr><td>&quot;Female&quot;</td><td>36</td><td>31951.0</td></tr><tr><td>&hellip;</td><td>&hellip;</td><td>&hellip;</td></tr><tr><td>&quot;Male&quot;</td><td>48</td><td>27412.0</td></tr><tr><td>&quot;Female&quot;</td><td>26</td><td>29509.0</td></tr><tr><td>&quot;Female&quot;</td><td>29</td><td>2630.0</td></tr><tr><td>&quot;Female&quot;</td><td>51</td><td>48443.0</td></tr><tr><td>&quot;Male&quot;</td><td>25</td><td>32855.0</td></tr></tbody></table></div>"
      ],
      "text/plain": [
       "shape: (11_504_798, 3)\n",
       "┌────────┬─────┬────────────────┐\n",
       "│ Gender ┆ Age ┆ Annual_Premium │\n",
       "│ ---    ┆ --- ┆ ---            │\n",
       "│ str    ┆ i64 ┆ f64            │\n",
       "╞════════╪═════╪════════════════╡\n",
       "│ Male   ┆ 21  ┆ 65101.0        │\n",
       "│ Male   ┆ 43  ┆ 58911.0        │\n",
       "│ Female ┆ 25  ┆ 38043.0        │\n",
       "│ Female ┆ 35  ┆ 2630.0         │\n",
       "│ Female ┆ 36  ┆ 31951.0        │\n",
       "│ …      ┆ …   ┆ …              │\n",
       "│ Male   ┆ 48  ┆ 27412.0        │\n",
       "│ Female ┆ 26  ┆ 29509.0        │\n",
       "│ Female ┆ 29  ┆ 2630.0         │\n",
       "│ Female ┆ 51  ┆ 48443.0        │\n",
       "│ Male   ┆ 25  ┆ 32855.0        │\n",
       "└────────┴─────┴────────────────┘"
      ]
     },
     "execution_count": 7,
     "metadata": {},
     "output_type": "execute_result"
    }
   ],
   "source": [
    "# Where \n",
    "insurance_df.sql(\"\"\"\n",
    "  SELECT Gender, Age , Annual_Premium FROM self where Annual_Premium > 500\n",
    "\"\"\")\n"
   ]
  },
  {
   "cell_type": "code",
   "execution_count": 8,
   "id": "1fd4934e-cd8e-4fa3-a10f-acb914702b03",
   "metadata": {},
   "outputs": [
    {
     "data": {
      "text/html": [
       "<div><style>\n",
       ".dataframe > thead > tr,\n",
       ".dataframe > tbody > tr {\n",
       "  text-align: right;\n",
       "  white-space: pre-wrap;\n",
       "}\n",
       "</style>\n",
       "<small>shape: (2, 2)</small><table border=\"1\" class=\"dataframe\"><thead><tr><th>Gender</th><th>Annual_Premium</th></tr><tr><td>str</td><td>f64</td></tr></thead><tbody><tr><td>&quot;Male&quot;</td><td>1.9072e11</td></tr><tr><td>&quot;Female&quot;</td><td>1.5973e11</td></tr></tbody></table></div>"
      ],
      "text/plain": [
       "shape: (2, 2)\n",
       "┌────────┬────────────────┐\n",
       "│ Gender ┆ Annual_Premium │\n",
       "│ ---    ┆ ---            │\n",
       "│ str    ┆ f64            │\n",
       "╞════════╪════════════════╡\n",
       "│ Male   ┆ 1.9072e11      │\n",
       "│ Female ┆ 1.5973e11      │\n",
       "└────────┴────────────────┘"
      ]
     },
     "execution_count": 8,
     "metadata": {},
     "output_type": "execute_result"
    }
   ],
   "source": [
    "# Group By\n",
    "\n",
    "insurance_df.sql(\"\"\"\n",
    "  SELECT  Gender,SUM(Annual_Premium) FROM self GROUP BY Gender\n",
    "\"\"\")\n",
    "\n"
   ]
  },
  {
   "cell_type": "code",
   "execution_count": 9,
   "id": "cefa5dd0-ebed-49b6-946f-f1eae7f6aa8a",
   "metadata": {},
   "outputs": [
    {
     "data": {
      "text/html": [
       "<div><style>\n",
       ".dataframe > thead > tr,\n",
       ".dataframe > tbody > tr {\n",
       "  text-align: right;\n",
       "  white-space: pre-wrap;\n",
       "}\n",
       "</style>\n",
       "<small>shape: (3, 2)</small><table border=\"1\" class=\"dataframe\"><thead><tr><th>Vehicle_Age</th><th>Annual_Premium</th></tr><tr><td>str</td><td>f64</td></tr></thead><tbody><tr><td>&quot;1-2 Year&quot;</td><td>1.8108e11</td></tr><tr><td>&quot;&gt; 2 Years&quot;</td><td>1.6645e10</td></tr><tr><td>&quot;&lt; 1 Year&quot;</td><td>1.5273e11</td></tr></tbody></table></div>"
      ],
      "text/plain": [
       "shape: (3, 2)\n",
       "┌─────────────┬────────────────┐\n",
       "│ Vehicle_Age ┆ Annual_Premium │\n",
       "│ ---         ┆ ---            │\n",
       "│ str         ┆ f64            │\n",
       "╞═════════════╪════════════════╡\n",
       "│ 1-2 Year    ┆ 1.8108e11      │\n",
       "│ > 2 Years   ┆ 1.6645e10      │\n",
       "│ < 1 Year    ┆ 1.5273e11      │\n",
       "└─────────────┴────────────────┘"
      ]
     },
     "execution_count": 9,
     "metadata": {},
     "output_type": "execute_result"
    }
   ],
   "source": [
    "# Having\n",
    "\n",
    "insurance_df.sql(\"\"\"\n",
    "  SELECT  Vehicle_Age,SUM(Annual_Premium) FROM self GROUP BY Vehicle_Age\n",
    "\"\"\")"
   ]
  },
  {
   "cell_type": "code",
   "execution_count": 10,
   "id": "f813f554-008f-4286-b12e-ab7702e5789c",
   "metadata": {},
   "outputs": [
    {
     "data": {
      "text/html": [
       "<div><style>\n",
       ".dataframe > thead > tr,\n",
       ".dataframe > tbody > tr {\n",
       "  text-align: right;\n",
       "  white-space: pre-wrap;\n",
       "}\n",
       "</style>\n",
       "<small>shape: (3, 2)</small><table border=\"1\" class=\"dataframe\"><thead><tr><th>Vehicle_Age</th><th>Vintage</th></tr><tr><td>str</td><td>i64</td></tr></thead><tbody><tr><td>&quot;&lt; 1 Year&quot;</td><td>835456283</td></tr><tr><td>&quot;1-2 Year&quot;</td><td>972499683</td></tr><tr><td>&quot;&gt; 2 Years&quot;</td><td>77654470</td></tr></tbody></table></div>"
      ],
      "text/plain": [
       "shape: (3, 2)\n",
       "┌─────────────┬───────────┐\n",
       "│ Vehicle_Age ┆ Vintage   │\n",
       "│ ---         ┆ ---       │\n",
       "│ str         ┆ i64       │\n",
       "╞═════════════╪═══════════╡\n",
       "│ < 1 Year    ┆ 835456283 │\n",
       "│ 1-2 Year    ┆ 972499683 │\n",
       "│ > 2 Years   ┆ 77654470  │\n",
       "└─────────────┴───────────┘"
      ]
     },
     "execution_count": 10,
     "metadata": {},
     "output_type": "execute_result"
    }
   ],
   "source": [
    "# Having\n",
    "insurance_df.sql(\"\"\"\n",
    "  SELECT  Vehicle_Age,SUM(Vintage) FROM self GROUP BY Vehicle_Age HAVING Vintage >=76\n",
    "\"\"\")"
   ]
  },
  {
   "cell_type": "code",
   "execution_count": 11,
   "id": "e91a150e-4f66-4602-b625-3a8668100384",
   "metadata": {},
   "outputs": [
    {
     "data": {
      "text/html": [
       "<div><style>\n",
       ".dataframe > thead > tr,\n",
       ".dataframe > tbody > tr {\n",
       "  text-align: right;\n",
       "  white-space: pre-wrap;\n",
       "}\n",
       "</style>\n",
       "<small>shape: (11_504_798, 2)</small><table border=\"1\" class=\"dataframe\"><thead><tr><th>Vehicle_Damage</th><th>Annual_Premium</th></tr><tr><td>str</td><td>f64</td></tr></thead><tbody><tr><td>&quot;Yes&quot;</td><td>540165.0</td></tr><tr><td>&quot;Yes&quot;</td><td>540165.0</td></tr><tr><td>&quot;Yes&quot;</td><td>540165.0</td></tr><tr><td>&quot;Yes&quot;</td><td>540165.0</td></tr><tr><td>&quot;Yes&quot;</td><td>540165.0</td></tr><tr><td>&hellip;</td><td>&hellip;</td></tr><tr><td>&quot;Yes&quot;</td><td>2630.0</td></tr><tr><td>&quot;Yes&quot;</td><td>2630.0</td></tr><tr><td>&quot;No&quot;</td><td>2630.0</td></tr><tr><td>&quot;No&quot;</td><td>2630.0</td></tr><tr><td>&quot;No&quot;</td><td>2630.0</td></tr></tbody></table></div>"
      ],
      "text/plain": [
       "shape: (11_504_798, 2)\n",
       "┌────────────────┬────────────────┐\n",
       "│ Vehicle_Damage ┆ Annual_Premium │\n",
       "│ ---            ┆ ---            │\n",
       "│ str            ┆ f64            │\n",
       "╞════════════════╪════════════════╡\n",
       "│ Yes            ┆ 540165.0       │\n",
       "│ Yes            ┆ 540165.0       │\n",
       "│ Yes            ┆ 540165.0       │\n",
       "│ Yes            ┆ 540165.0       │\n",
       "│ Yes            ┆ 540165.0       │\n",
       "│ …              ┆ …              │\n",
       "│ Yes            ┆ 2630.0         │\n",
       "│ Yes            ┆ 2630.0         │\n",
       "│ No             ┆ 2630.0         │\n",
       "│ No             ┆ 2630.0         │\n",
       "│ No             ┆ 2630.0         │\n",
       "└────────────────┴────────────────┘"
      ]
     },
     "execution_count": 11,
     "metadata": {},
     "output_type": "execute_result"
    }
   ],
   "source": [
    "# ORDER BY \n",
    "\n",
    "insurance_df.sql(\"\"\"\n",
    "  SELECT Vehicle_Damage, Annual_Premium FROM self ORDER BY Annual_Premium DESC\n",
    "\"\"\")"
   ]
  },
  {
   "cell_type": "code",
   "execution_count": 12,
   "id": "3b724b31-a8c3-49f9-a191-816dc44d39ad",
   "metadata": {},
   "outputs": [
    {
     "data": {
      "text/html": [
       "<div><style>\n",
       ".dataframe > thead > tr,\n",
       ".dataframe > tbody > tr {\n",
       "  text-align: right;\n",
       "  white-space: pre-wrap;\n",
       "}\n",
       "</style>\n",
       "<small>shape: (10, 12)</small><table border=\"1\" class=\"dataframe\"><thead><tr><th>id</th><th>Gender</th><th>Age</th><th>Driving_License</th><th>Region_Code</th><th>Previously_Insured</th><th>Vehicle_Age</th><th>Vehicle_Damage</th><th>Annual_Premium</th><th>Policy_Sales_Channel</th><th>Vintage</th><th>Response</th></tr><tr><td>i64</td><td>str</td><td>i64</td><td>i64</td><td>f64</td><td>i64</td><td>str</td><td>str</td><td>f64</td><td>f64</td><td>i64</td><td>i64</td></tr></thead><tbody><tr><td>0</td><td>&quot;Male&quot;</td><td>21</td><td>1</td><td>35.0</td><td>0</td><td>&quot;1-2 Year&quot;</td><td>&quot;Yes&quot;</td><td>65101.0</td><td>124.0</td><td>187</td><td>0</td></tr><tr><td>1</td><td>&quot;Male&quot;</td><td>43</td><td>1</td><td>28.0</td><td>0</td><td>&quot;&gt; 2 Years&quot;</td><td>&quot;Yes&quot;</td><td>58911.0</td><td>26.0</td><td>288</td><td>1</td></tr><tr><td>2</td><td>&quot;Female&quot;</td><td>25</td><td>1</td><td>14.0</td><td>1</td><td>&quot;&lt; 1 Year&quot;</td><td>&quot;No&quot;</td><td>38043.0</td><td>152.0</td><td>254</td><td>0</td></tr><tr><td>3</td><td>&quot;Female&quot;</td><td>35</td><td>1</td><td>1.0</td><td>0</td><td>&quot;1-2 Year&quot;</td><td>&quot;Yes&quot;</td><td>2630.0</td><td>156.0</td><td>76</td><td>0</td></tr><tr><td>4</td><td>&quot;Female&quot;</td><td>36</td><td>1</td><td>15.0</td><td>1</td><td>&quot;1-2 Year&quot;</td><td>&quot;No&quot;</td><td>31951.0</td><td>152.0</td><td>294</td><td>0</td></tr><tr><td>5</td><td>&quot;Female&quot;</td><td>31</td><td>1</td><td>47.0</td><td>1</td><td>&quot;&lt; 1 Year&quot;</td><td>&quot;No&quot;</td><td>28150.0</td><td>152.0</td><td>197</td><td>0</td></tr><tr><td>6</td><td>&quot;Male&quot;</td><td>23</td><td>1</td><td>45.0</td><td>1</td><td>&quot;&lt; 1 Year&quot;</td><td>&quot;No&quot;</td><td>27128.0</td><td>152.0</td><td>190</td><td>0</td></tr><tr><td>7</td><td>&quot;Female&quot;</td><td>47</td><td>1</td><td>8.0</td><td>0</td><td>&quot;1-2 Year&quot;</td><td>&quot;Yes&quot;</td><td>40659.0</td><td>26.0</td><td>262</td><td>1</td></tr><tr><td>8</td><td>&quot;Female&quot;</td><td>26</td><td>1</td><td>28.0</td><td>1</td><td>&quot;&lt; 1 Year&quot;</td><td>&quot;No&quot;</td><td>31639.0</td><td>152.0</td><td>36</td><td>0</td></tr><tr><td>9</td><td>&quot;Female&quot;</td><td>66</td><td>1</td><td>11.0</td><td>0</td><td>&quot;1-2 Year&quot;</td><td>&quot;Yes&quot;</td><td>2630.0</td><td>26.0</td><td>125</td><td>0</td></tr></tbody></table></div>"
      ],
      "text/plain": [
       "shape: (10, 12)\n",
       "┌─────┬────────┬─────┬─────────────────┬───┬────────────────┬─────────────────┬─────────┬──────────┐\n",
       "│ id  ┆ Gender ┆ Age ┆ Driving_License ┆ … ┆ Annual_Premium ┆ Policy_Sales_Ch ┆ Vintage ┆ Response │\n",
       "│ --- ┆ ---    ┆ --- ┆ ---             ┆   ┆ ---            ┆ annel           ┆ ---     ┆ ---      │\n",
       "│ i64 ┆ str    ┆ i64 ┆ i64             ┆   ┆ f64            ┆ ---             ┆ i64     ┆ i64      │\n",
       "│     ┆        ┆     ┆                 ┆   ┆                ┆ f64             ┆         ┆          │\n",
       "╞═════╪════════╪═════╪═════════════════╪═══╪════════════════╪═════════════════╪═════════╪══════════╡\n",
       "│ 0   ┆ Male   ┆ 21  ┆ 1               ┆ … ┆ 65101.0        ┆ 124.0           ┆ 187     ┆ 0        │\n",
       "│ 1   ┆ Male   ┆ 43  ┆ 1               ┆ … ┆ 58911.0        ┆ 26.0            ┆ 288     ┆ 1        │\n",
       "│ 2   ┆ Female ┆ 25  ┆ 1               ┆ … ┆ 38043.0        ┆ 152.0           ┆ 254     ┆ 0        │\n",
       "│ 3   ┆ Female ┆ 35  ┆ 1               ┆ … ┆ 2630.0         ┆ 156.0           ┆ 76      ┆ 0        │\n",
       "│ 4   ┆ Female ┆ 36  ┆ 1               ┆ … ┆ 31951.0        ┆ 152.0           ┆ 294     ┆ 0        │\n",
       "│ 5   ┆ Female ┆ 31  ┆ 1               ┆ … ┆ 28150.0        ┆ 152.0           ┆ 197     ┆ 0        │\n",
       "│ 6   ┆ Male   ┆ 23  ┆ 1               ┆ … ┆ 27128.0        ┆ 152.0           ┆ 190     ┆ 0        │\n",
       "│ 7   ┆ Female ┆ 47  ┆ 1               ┆ … ┆ 40659.0        ┆ 26.0            ┆ 262     ┆ 1        │\n",
       "│ 8   ┆ Female ┆ 26  ┆ 1               ┆ … ┆ 31639.0        ┆ 152.0           ┆ 36      ┆ 0        │\n",
       "│ 9   ┆ Female ┆ 66  ┆ 1               ┆ … ┆ 2630.0         ┆ 26.0            ┆ 125     ┆ 0        │\n",
       "└─────┴────────┴─────┴─────────────────┴───┴────────────────┴─────────────────┴─────────┴──────────┘"
      ]
     },
     "execution_count": 12,
     "metadata": {},
     "output_type": "execute_result"
    }
   ],
   "source": [
    "# LIMIT \n",
    "\n",
    "insurance_df.sql(\"\"\"\n",
    "  SELECT * FROM self LIMIT 10\n",
    "\"\"\")"
   ]
  },
  {
   "cell_type": "code",
   "execution_count": 13,
   "id": "09c80675-c4e5-4599-833a-fe9ab0381fad",
   "metadata": {},
   "outputs": [
    {
     "data": {
      "text/html": [
       "<div><style>\n",
       ".dataframe > thead > tr,\n",
       ".dataframe > tbody > tr {\n",
       "  text-align: right;\n",
       "  white-space: pre-wrap;\n",
       "}\n",
       "</style>\n",
       "<small>shape: (10, 12)</small><table border=\"1\" class=\"dataframe\"><thead><tr><th>id</th><th>Gender</th><th>Age</th><th>Driving_License</th><th>Region_Code</th><th>Previously_Insured</th><th>Vehicle_Age</th><th>Vehicle_Damage</th><th>Annual_Premium</th><th>Policy_Sales_Channel</th><th>Vintage</th><th>Response</th></tr><tr><td>i64</td><td>str</td><td>i64</td><td>i64</td><td>f64</td><td>i64</td><td>str</td><td>str</td><td>f64</td><td>f64</td><td>i64</td><td>i64</td></tr></thead><tbody><tr><td>3</td><td>&quot;Female&quot;</td><td>35</td><td>1</td><td>1.0</td><td>0</td><td>&quot;1-2 Year&quot;</td><td>&quot;Yes&quot;</td><td>2630.0</td><td>156.0</td><td>76</td><td>0</td></tr><tr><td>4</td><td>&quot;Female&quot;</td><td>36</td><td>1</td><td>15.0</td><td>1</td><td>&quot;1-2 Year&quot;</td><td>&quot;No&quot;</td><td>31951.0</td><td>152.0</td><td>294</td><td>0</td></tr><tr><td>5</td><td>&quot;Female&quot;</td><td>31</td><td>1</td><td>47.0</td><td>1</td><td>&quot;&lt; 1 Year&quot;</td><td>&quot;No&quot;</td><td>28150.0</td><td>152.0</td><td>197</td><td>0</td></tr><tr><td>6</td><td>&quot;Male&quot;</td><td>23</td><td>1</td><td>45.0</td><td>1</td><td>&quot;&lt; 1 Year&quot;</td><td>&quot;No&quot;</td><td>27128.0</td><td>152.0</td><td>190</td><td>0</td></tr><tr><td>7</td><td>&quot;Female&quot;</td><td>47</td><td>1</td><td>8.0</td><td>0</td><td>&quot;1-2 Year&quot;</td><td>&quot;Yes&quot;</td><td>40659.0</td><td>26.0</td><td>262</td><td>1</td></tr><tr><td>8</td><td>&quot;Female&quot;</td><td>26</td><td>1</td><td>28.0</td><td>1</td><td>&quot;&lt; 1 Year&quot;</td><td>&quot;No&quot;</td><td>31639.0</td><td>152.0</td><td>36</td><td>0</td></tr><tr><td>9</td><td>&quot;Female&quot;</td><td>66</td><td>1</td><td>11.0</td><td>0</td><td>&quot;1-2 Year&quot;</td><td>&quot;Yes&quot;</td><td>2630.0</td><td>26.0</td><td>125</td><td>0</td></tr><tr><td>10</td><td>&quot;Male&quot;</td><td>22</td><td>1</td><td>3.0</td><td>1</td><td>&quot;&lt; 1 Year&quot;</td><td>&quot;No&quot;</td><td>27996.0</td><td>152.0</td><td>215</td><td>0</td></tr><tr><td>11</td><td>&quot;Female&quot;</td><td>25</td><td>1</td><td>10.0</td><td>0</td><td>&quot;&lt; 1 Year&quot;</td><td>&quot;Yes&quot;</td><td>2630.0</td><td>152.0</td><td>30</td><td>0</td></tr><tr><td>12</td><td>&quot;Male&quot;</td><td>36</td><td>1</td><td>28.0</td><td>0</td><td>&quot;1-2 Year&quot;</td><td>&quot;Yes&quot;</td><td>38104.0</td><td>26.0</td><td>203</td><td>0</td></tr></tbody></table></div>"
      ],
      "text/plain": [
       "shape: (10, 12)\n",
       "┌─────┬────────┬─────┬─────────────────┬───┬────────────────┬─────────────────┬─────────┬──────────┐\n",
       "│ id  ┆ Gender ┆ Age ┆ Driving_License ┆ … ┆ Annual_Premium ┆ Policy_Sales_Ch ┆ Vintage ┆ Response │\n",
       "│ --- ┆ ---    ┆ --- ┆ ---             ┆   ┆ ---            ┆ annel           ┆ ---     ┆ ---      │\n",
       "│ i64 ┆ str    ┆ i64 ┆ i64             ┆   ┆ f64            ┆ ---             ┆ i64     ┆ i64      │\n",
       "│     ┆        ┆     ┆                 ┆   ┆                ┆ f64             ┆         ┆          │\n",
       "╞═════╪════════╪═════╪═════════════════╪═══╪════════════════╪═════════════════╪═════════╪══════════╡\n",
       "│ 3   ┆ Female ┆ 35  ┆ 1               ┆ … ┆ 2630.0         ┆ 156.0           ┆ 76      ┆ 0        │\n",
       "│ 4   ┆ Female ┆ 36  ┆ 1               ┆ … ┆ 31951.0        ┆ 152.0           ┆ 294     ┆ 0        │\n",
       "│ 5   ┆ Female ┆ 31  ┆ 1               ┆ … ┆ 28150.0        ┆ 152.0           ┆ 197     ┆ 0        │\n",
       "│ 6   ┆ Male   ┆ 23  ┆ 1               ┆ … ┆ 27128.0        ┆ 152.0           ┆ 190     ┆ 0        │\n",
       "│ 7   ┆ Female ┆ 47  ┆ 1               ┆ … ┆ 40659.0        ┆ 26.0            ┆ 262     ┆ 1        │\n",
       "│ 8   ┆ Female ┆ 26  ┆ 1               ┆ … ┆ 31639.0        ┆ 152.0           ┆ 36      ┆ 0        │\n",
       "│ 9   ┆ Female ┆ 66  ┆ 1               ┆ … ┆ 2630.0         ┆ 26.0            ┆ 125     ┆ 0        │\n",
       "│ 10  ┆ Male   ┆ 22  ┆ 1               ┆ … ┆ 27996.0        ┆ 152.0           ┆ 215     ┆ 0        │\n",
       "│ 11  ┆ Female ┆ 25  ┆ 1               ┆ … ┆ 2630.0         ┆ 152.0           ┆ 30      ┆ 0        │\n",
       "│ 12  ┆ Male   ┆ 36  ┆ 1               ┆ … ┆ 38104.0        ┆ 26.0            ┆ 203     ┆ 0        │\n",
       "└─────┴────────┴─────┴─────────────────┴───┴────────────────┴─────────────────┴─────────┴──────────┘"
      ]
     },
     "execution_count": 13,
     "metadata": {},
     "output_type": "execute_result"
    }
   ],
   "source": [
    "# Offset\n",
    "insurance_df.sql(\"\"\"\n",
    "  SELECT * FROM self LIMIT 10 OFFSET 3\n",
    "\"\"\")"
   ]
  },
  {
   "cell_type": "markdown",
   "id": "f401142c-97df-4827-8819-ae94d4f9610c",
   "metadata": {},
   "source": [
    "# SQL Functions "
   ]
  },
  {
   "cell_type": "markdown",
   "id": "c187838c-e77d-45b0-9ee3-5616b955dad1",
   "metadata": {},
   "source": [
    "## Aggregate functions"
   ]
  },
  {
   "cell_type": "code",
   "execution_count": 14,
   "id": "747b27be-c36b-47c7-a10d-a0c31ac4b6af",
   "metadata": {},
   "outputs": [
    {
     "data": {
      "text/html": [
       "<div><style>\n",
       ".dataframe > thead > tr,\n",
       ".dataframe > tbody > tr {\n",
       "  text-align: right;\n",
       "  white-space: pre-wrap;\n",
       "}\n",
       "</style>\n",
       "<small>shape: (1, 1)</small><table border=\"1\" class=\"dataframe\"><thead><tr><th>premium_avg</th></tr><tr><td>f64</td></tr></thead><tbody><tr><td>30461.370411</td></tr></tbody></table></div>"
      ],
      "text/plain": [
       "shape: (1, 1)\n",
       "┌──────────────┐\n",
       "│ premium_avg  │\n",
       "│ ---          │\n",
       "│ f64          │\n",
       "╞══════════════╡\n",
       "│ 30461.370411 │\n",
       "└──────────────┘"
      ]
     },
     "execution_count": 14,
     "metadata": {},
     "output_type": "execute_result"
    }
   ],
   "source": [
    "# AVG \n",
    "insurance_df.sql(\"\"\"\n",
    "  SELECT AVG(Annual_Premium) AS premium_avg FROM self\n",
    "\"\"\")"
   ]
  },
  {
   "cell_type": "code",
   "execution_count": 15,
   "id": "bba0cb78-60b5-4b5f-80f3-fc55a3991b6f",
   "metadata": {},
   "outputs": [
    {
     "data": {
      "text/html": [
       "<div><style>\n",
       ".dataframe > thead > tr,\n",
       ".dataframe > tbody > tr {\n",
       "  text-align: right;\n",
       "  white-space: pre-wrap;\n",
       "}\n",
       "</style>\n",
       "<small>shape: (1, 2)</small><table border=\"1\" class=\"dataframe\"><thead><tr><th>n_age</th><th>n_age_unique</th></tr><tr><td>u32</td><td>u32</td></tr></thead><tbody><tr><td>11504798</td><td>3</td></tr></tbody></table></div>"
      ],
      "text/plain": [
       "shape: (1, 2)\n",
       "┌──────────┬──────────────┐\n",
       "│ n_age    ┆ n_age_unique │\n",
       "│ ---      ┆ ---          │\n",
       "│ u32      ┆ u32          │\n",
       "╞══════════╪══════════════╡\n",
       "│ 11504798 ┆ 3            │\n",
       "└──────────┴──────────────┘"
      ]
     },
     "execution_count": 15,
     "metadata": {},
     "output_type": "execute_result"
    }
   ],
   "source": [
    "# COUNT\n",
    "\n",
    "insurance_df.sql(\"\"\"\n",
    "  SELECT\n",
    "    COUNT(Vehicle_Age) AS n_age,\n",
    "    COUNT(DISTINCT Vehicle_Age) AS n_age_unique\n",
    "  FROM self\n",
    "\"\"\")"
   ]
  },
  {
   "cell_type": "code",
   "execution_count": 16,
   "id": "9fc32dd6-e19c-401f-bbaf-f799dbfb20ac",
   "metadata": {},
   "outputs": [
    {
     "data": {
      "text/html": [
       "<div><style>\n",
       ".dataframe > thead > tr,\n",
       ".dataframe > tbody > tr {\n",
       "  text-align: right;\n",
       "  white-space: pre-wrap;\n",
       "}\n",
       "</style>\n",
       "<small>shape: (1, 1)</small><table border=\"1\" class=\"dataframe\"><thead><tr><th>first_value</th></tr><tr><td>str</td></tr></thead><tbody><tr><td>&quot;Male&quot;</td></tr></tbody></table></div>"
      ],
      "text/plain": [
       "shape: (1, 1)\n",
       "┌─────────────┐\n",
       "│ first_value │\n",
       "│ ---         │\n",
       "│ str         │\n",
       "╞═════════════╡\n",
       "│ Male        │\n",
       "└─────────────┘"
      ]
     },
     "execution_count": 16,
     "metadata": {},
     "output_type": "execute_result"
    }
   ],
   "source": [
    "# First \n",
    "\n",
    "insurance_df.sql(\"\"\"\n",
    "  SELECT FIRST(Gender) AS first_value FROM self\n",
    "\"\"\")"
   ]
  },
  {
   "cell_type": "code",
   "execution_count": 17,
   "id": "cde02860-8bcd-4a9d-af3b-5c70db818a71",
   "metadata": {},
   "outputs": [
    {
     "data": {
      "text/html": [
       "<div><style>\n",
       ".dataframe > thead > tr,\n",
       ".dataframe > tbody > tr {\n",
       "  text-align: right;\n",
       "  white-space: pre-wrap;\n",
       "}\n",
       "</style>\n",
       "<small>shape: (1, 1)</small><table border=\"1\" class=\"dataframe\"><thead><tr><th>last_value</th></tr><tr><td>f64</td></tr></thead><tbody><tr><td>152.0</td></tr></tbody></table></div>"
      ],
      "text/plain": [
       "shape: (1, 1)\n",
       "┌────────────┐\n",
       "│ last_value │\n",
       "│ ---        │\n",
       "│ f64        │\n",
       "╞════════════╡\n",
       "│ 152.0      │\n",
       "└────────────┘"
      ]
     },
     "execution_count": 17,
     "metadata": {},
     "output_type": "execute_result"
    }
   ],
   "source": [
    "# Last \n",
    "insurance_df.sql(\"\"\"\n",
    "  SELECT LAST(Policy_Sales_Channel) AS last_value FROM self\n",
    "\"\"\")"
   ]
  },
  {
   "cell_type": "code",
   "execution_count": 18,
   "id": "954ab34b-340c-4c63-866e-887041839899",
   "metadata": {},
   "outputs": [
    {
     "data": {
      "text/html": [
       "<div><style>\n",
       ".dataframe > thead > tr,\n",
       ".dataframe > tbody > tr {\n",
       "  text-align: right;\n",
       "  white-space: pre-wrap;\n",
       "}\n",
       "</style>\n",
       "<small>shape: (1, 1)</small><table border=\"1\" class=\"dataframe\"><thead><tr><th>max_value</th></tr><tr><td>f64</td></tr></thead><tbody><tr><td>163.0</td></tr></tbody></table></div>"
      ],
      "text/plain": [
       "shape: (1, 1)\n",
       "┌───────────┐\n",
       "│ max_value │\n",
       "│ ---       │\n",
       "│ f64       │\n",
       "╞═══════════╡\n",
       "│ 163.0     │\n",
       "└───────────┘"
      ]
     },
     "execution_count": 18,
     "metadata": {},
     "output_type": "execute_result"
    }
   ],
   "source": [
    "# MAX \n",
    "insurance_df.sql(\"\"\"\n",
    "  SELECT MAX(Policy_Sales_Channel) AS max_value FROM self\n",
    "\"\"\")\n"
   ]
  },
  {
   "cell_type": "code",
   "execution_count": 19,
   "id": "f9d89670-312b-4063-916a-782f3d6e37eb",
   "metadata": {},
   "outputs": [
    {
     "data": {
      "text/html": [
       "<div><style>\n",
       ".dataframe > thead > tr,\n",
       ".dataframe > tbody > tr {\n",
       "  text-align: right;\n",
       "  white-space: pre-wrap;\n",
       "}\n",
       "</style>\n",
       "<small>shape: (1, 1)</small><table border=\"1\" class=\"dataframe\"><thead><tr><th>min_value</th></tr><tr><td>f64</td></tr></thead><tbody><tr><td>1.0</td></tr></tbody></table></div>"
      ],
      "text/plain": [
       "shape: (1, 1)\n",
       "┌───────────┐\n",
       "│ min_value │\n",
       "│ ---       │\n",
       "│ f64       │\n",
       "╞═══════════╡\n",
       "│ 1.0       │\n",
       "└───────────┘"
      ]
     },
     "execution_count": 19,
     "metadata": {},
     "output_type": "execute_result"
    }
   ],
   "source": [
    "# MIN\n",
    "insurance_df.sql(\"\"\"\n",
    "  SELECT MIN(Policy_Sales_Channel) AS min_value FROM self\n",
    "\"\"\")\n"
   ]
  },
  {
   "cell_type": "code",
   "execution_count": 20,
   "id": "162fac7c-9d1d-46cf-bdb8-66dea49025e9",
   "metadata": {},
   "outputs": [
    {
     "data": {
      "text/html": [
       "<div><style>\n",
       ".dataframe > thead > tr,\n",
       ".dataframe > tbody > tr {\n",
       "  text-align: right;\n",
       "  white-space: pre-wrap;\n",
       "}\n",
       "</style>\n",
       "<small>shape: (1, 1)</small><table border=\"1\" class=\"dataframe\"><thead><tr><th>median_value</th></tr><tr><td>f64</td></tr></thead><tbody><tr><td>151.0</td></tr></tbody></table></div>"
      ],
      "text/plain": [
       "shape: (1, 1)\n",
       "┌──────────────┐\n",
       "│ median_value │\n",
       "│ ---          │\n",
       "│ f64          │\n",
       "╞══════════════╡\n",
       "│ 151.0        │\n",
       "└──────────────┘"
      ]
     },
     "execution_count": 20,
     "metadata": {},
     "output_type": "execute_result"
    }
   ],
   "source": [
    "# Median\n",
    "insurance_df.sql(\"\"\"\n",
    "  SELECT MEDIAN(Policy_Sales_Channel) AS median_value FROM self\n",
    "\"\"\")\n"
   ]
  },
  {
   "cell_type": "code",
   "execution_count": 21,
   "id": "6f322d00-e71c-4bd4-87f7-c5b35279ff90",
   "metadata": {},
   "outputs": [
    {
     "data": {
      "text/html": [
       "<div><style>\n",
       ".dataframe > thead > tr,\n",
       ".dataframe > tbody > tr {\n",
       "  text-align: right;\n",
       "  white-space: pre-wrap;\n",
       "}\n",
       "</style>\n",
       "<small>shape: (1, 1)</small><table border=\"1\" class=\"dataframe\"><thead><tr><th>stddev_value</th></tr><tr><td>f64</td></tr></thead><tbody><tr><td>54.035708</td></tr></tbody></table></div>"
      ],
      "text/plain": [
       "shape: (1, 1)\n",
       "┌──────────────┐\n",
       "│ stddev_value │\n",
       "│ ---          │\n",
       "│ f64          │\n",
       "╞══════════════╡\n",
       "│ 54.035708    │\n",
       "└──────────────┘"
      ]
     },
     "execution_count": 21,
     "metadata": {},
     "output_type": "execute_result"
    }
   ],
   "source": [
    "# STDDEV\n",
    "\n",
    "insurance_df.sql(\"\"\"\n",
    "  SELECT STDDEV(Policy_Sales_Channel) AS stddev_value FROM self\n",
    "\"\"\")"
   ]
  },
  {
   "cell_type": "code",
   "execution_count": 22,
   "id": "60ca2066-a448-4e91-825a-b117a99f9557",
   "metadata": {},
   "outputs": [
    {
     "data": {
      "text/html": [
       "<div><style>\n",
       ".dataframe > thead > tr,\n",
       ".dataframe > tbody > tr {\n",
       "  text-align: right;\n",
       "  white-space: pre-wrap;\n",
       "}\n",
       "</style>\n",
       "<small>shape: (1, 1)</small><table border=\"1\" class=\"dataframe\"><thead><tr><th>sum_value</th></tr><tr><td>f64</td></tr></thead><tbody><tr><td>1.2934e9</td></tr></tbody></table></div>"
      ],
      "text/plain": [
       "shape: (1, 1)\n",
       "┌───────────┐\n",
       "│ sum_value │\n",
       "│ ---       │\n",
       "│ f64       │\n",
       "╞═══════════╡\n",
       "│ 1.2934e9  │\n",
       "└───────────┘"
      ]
     },
     "execution_count": 22,
     "metadata": {},
     "output_type": "execute_result"
    }
   ],
   "source": [
    "# Sum\n",
    "insurance_df.sql(\"\"\"\n",
    "  SELECT SUM(Policy_Sales_Channel) AS sum_value FROM self\n",
    "\"\"\")"
   ]
  },
  {
   "cell_type": "code",
   "execution_count": 23,
   "id": "75dc7afe-640e-4cf6-a0ea-df1c111ced9c",
   "metadata": {},
   "outputs": [
    {
     "data": {
      "text/html": [
       "<div><style>\n",
       ".dataframe > thead > tr,\n",
       ".dataframe > tbody > tr {\n",
       "  text-align: right;\n",
       "  white-space: pre-wrap;\n",
       "}\n",
       "</style>\n",
       "<small>shape: (1, 1)</small><table border=\"1\" class=\"dataframe\"><thead><tr><th>variance_value</th></tr><tr><td>f64</td></tr></thead><tbody><tr><td>2919.857715</td></tr></tbody></table></div>"
      ],
      "text/plain": [
       "shape: (1, 1)\n",
       "┌────────────────┐\n",
       "│ variance_value │\n",
       "│ ---            │\n",
       "│ f64            │\n",
       "╞════════════════╡\n",
       "│ 2919.857715    │\n",
       "└────────────────┘"
      ]
     },
     "execution_count": 23,
     "metadata": {},
     "output_type": "execute_result"
    }
   ],
   "source": [
    "# VARIANCE\n",
    "\n",
    "insurance_df.sql(\"\"\"\n",
    "  SELECT VARIANCE(Policy_Sales_Channel) AS variance_value FROM self\n",
    "\"\"\")"
   ]
  },
  {
   "cell_type": "markdown",
   "id": "0f306279-52eb-4c6c-b9bb-59c73d41957e",
   "metadata": {},
   "source": [
    "## Conditional Functions"
   ]
  },
  {
   "cell_type": "code",
   "execution_count": 24,
   "id": "2a64a01f-1d56-4336-87cf-c059ec23175e",
   "metadata": {},
   "outputs": [
    {
     "data": {
      "text/html": [
       "<div><style>\n",
       ".dataframe > thead > tr,\n",
       ".dataframe > tbody > tr {\n",
       "  text-align: right;\n",
       "  white-space: pre-wrap;\n",
       "}\n",
       "</style>\n",
       "<small>shape: (4, 4)</small><table border=\"1\" class=\"dataframe\"><thead><tr><th>col1</th><th>col2</th><th>col3</th><th>baz</th></tr><tr><td>i64</td><td>i64</td><td>i64</td><td>i64</td></tr></thead><tbody><tr><td>null</td><td>1</td><td>null</td><td>1</td></tr><tr><td>2</td><td>null</td><td>null</td><td>2</td></tr><tr><td>null</td><td>3</td><td>null</td><td>3</td></tr><tr><td>4</td><td>null</td><td>4</td><td>4</td></tr></tbody></table></div>"
      ],
      "text/plain": [
       "shape: (4, 4)\n",
       "┌──────┬──────┬──────┬─────┐\n",
       "│ col1 ┆ col2 ┆ col3 ┆ baz │\n",
       "│ ---  ┆ ---  ┆ ---  ┆ --- │\n",
       "│ i64  ┆ i64  ┆ i64  ┆ i64 │\n",
       "╞══════╪══════╪══════╪═════╡\n",
       "│ null ┆ 1    ┆ null ┆ 1   │\n",
       "│ 2    ┆ null ┆ null ┆ 2   │\n",
       "│ null ┆ 3    ┆ null ┆ 3   │\n",
       "│ 4    ┆ null ┆ 4    ┆ 4   │\n",
       "└──────┴──────┴──────┴─────┘"
      ]
     },
     "execution_count": 24,
     "metadata": {},
     "output_type": "execute_result"
    }
   ],
   "source": [
    "df = pl.DataFrame({\n",
    "    \"col1\": [None, 2, None, 4],\n",
    "    \"col2\": [1, None, 3, None],\n",
    "    \"col3\": [None, None, None, 4]\n",
    "})\n",
    "\n",
    "df.sql(\"\"\"\n",
    "  SELECT col1, col2,col3, COALESCE(col1, col2,col3) AS baz FROM self\n",
    "\"\"\")"
   ]
  },
  {
   "cell_type": "code",
   "execution_count": 25,
   "id": "0355c759-81a2-4ea1-91cc-6352f6bd09fd",
   "metadata": {},
   "outputs": [
    {
     "data": {
      "text/html": [
       "<div><style>\n",
       ".dataframe > thead > tr,\n",
       ".dataframe > tbody > tr {\n",
       "  text-align: right;\n",
       "  white-space: pre-wrap;\n",
       "}\n",
       "</style>\n",
       "<small>shape: (11_504_798, 1)</small><table border=\"1\" class=\"dataframe\"><thead><tr><th>greater</th></tr><tr><td>f64</td></tr></thead><tbody><tr><td>65101.0</td></tr><tr><td>58911.0</td></tr><tr><td>38043.0</td></tr><tr><td>2630.0</td></tr><tr><td>31951.0</td></tr><tr><td>&hellip;</td></tr><tr><td>27412.0</td></tr><tr><td>29509.0</td></tr><tr><td>2630.0</td></tr><tr><td>48443.0</td></tr><tr><td>32855.0</td></tr></tbody></table></div>"
      ],
      "text/plain": [
       "shape: (11_504_798, 1)\n",
       "┌─────────┐\n",
       "│ greater │\n",
       "│ ---     │\n",
       "│ f64     │\n",
       "╞═════════╡\n",
       "│ 65101.0 │\n",
       "│ 58911.0 │\n",
       "│ 38043.0 │\n",
       "│ 2630.0  │\n",
       "│ 31951.0 │\n",
       "│ …       │\n",
       "│ 27412.0 │\n",
       "│ 29509.0 │\n",
       "│ 2630.0  │\n",
       "│ 48443.0 │\n",
       "│ 32855.0 │\n",
       "└─────────┘"
      ]
     },
     "execution_count": 25,
     "metadata": {},
     "output_type": "execute_result"
    }
   ],
   "source": [
    "# Greatest\n",
    "\n",
    "insurance_df.sql(\"\"\"\n",
    "  SELECT GREATEST(Annual_Premium, Policy_Sales_Channel) AS greater FROM self\n",
    "\"\"\")"
   ]
  },
  {
   "cell_type": "code",
   "execution_count": 26,
   "id": "97c1ddae-b1c6-4312-902b-ce11cec010dc",
   "metadata": {},
   "outputs": [
    {
     "data": {
      "text/html": [
       "<div><style>\n",
       ".dataframe > thead > tr,\n",
       ".dataframe > tbody > tr {\n",
       "  text-align: right;\n",
       "  white-space: pre-wrap;\n",
       "}\n",
       "</style>\n",
       "<small>shape: (11_504_798, 1)</small><table border=\"1\" class=\"dataframe\"><thead><tr><th>condition</th></tr><tr><td>f64</td></tr></thead><tbody><tr><td>2630.0</td></tr><tr><td>2630.0</td></tr><tr><td>2630.0</td></tr><tr><td>40659.0</td></tr><tr><td>2630.0</td></tr><tr><td>&hellip;</td></tr><tr><td>40659.0</td></tr><tr><td>40659.0</td></tr><tr><td>40659.0</td></tr><tr><td>2630.0</td></tr><tr><td>2630.0</td></tr></tbody></table></div>"
      ],
      "text/plain": [
       "shape: (11_504_798, 1)\n",
       "┌───────────┐\n",
       "│ condition │\n",
       "│ ---       │\n",
       "│ f64       │\n",
       "╞═══════════╡\n",
       "│ 2630.0    │\n",
       "│ 2630.0    │\n",
       "│ 2630.0    │\n",
       "│ 40659.0   │\n",
       "│ 2630.0    │\n",
       "│ …         │\n",
       "│ 40659.0   │\n",
       "│ 40659.0   │\n",
       "│ 40659.0   │\n",
       "│ 2630.0    │\n",
       "│ 2630.0    │\n",
       "└───────────┘"
      ]
     },
     "execution_count": 26,
     "metadata": {},
     "output_type": "execute_result"
    }
   ],
   "source": [
    "# IF clause\n",
    "insurance_df.sql(\"\"\"\n",
    "  SELECT IF(Annual_Premium < 31951.0, 40659.0, 2630.0) AS condition FROM self\n",
    "\"\"\")"
   ]
  },
  {
   "cell_type": "code",
   "execution_count": 27,
   "id": "b3b99237-62f1-4e2f-978d-75872b9f1600",
   "metadata": {},
   "outputs": [
    {
     "data": {
      "text/html": [
       "<div><style>\n",
       ".dataframe > thead > tr,\n",
       ".dataframe > tbody > tr {\n",
       "  text-align: right;\n",
       "  white-space: pre-wrap;\n",
       "}\n",
       "</style>\n",
       "<small>shape: (11_504_798, 1)</small><table border=\"1\" class=\"dataframe\"><thead><tr><th>null_condition</th></tr><tr><td>str</td></tr></thead><tbody><tr><td>&quot;65101.0&quot;</td></tr><tr><td>&quot;58911.0&quot;</td></tr><tr><td>&quot;38043.0&quot;</td></tr><tr><td>&quot;2630.0&quot;</td></tr><tr><td>&quot;31951.0&quot;</td></tr><tr><td>&hellip;</td></tr><tr><td>&quot;27412.0&quot;</td></tr><tr><td>&quot;29509.0&quot;</td></tr><tr><td>&quot;2630.0&quot;</td></tr><tr><td>&quot;48443.0&quot;</td></tr><tr><td>&quot;32855.0&quot;</td></tr></tbody></table></div>"
      ],
      "text/plain": [
       "shape: (11_504_798, 1)\n",
       "┌────────────────┐\n",
       "│ null_condition │\n",
       "│ ---            │\n",
       "│ str            │\n",
       "╞════════════════╡\n",
       "│ 65101.0        │\n",
       "│ 58911.0        │\n",
       "│ 38043.0        │\n",
       "│ 2630.0         │\n",
       "│ 31951.0        │\n",
       "│ …              │\n",
       "│ 27412.0        │\n",
       "│ 29509.0        │\n",
       "│ 2630.0         │\n",
       "│ 48443.0        │\n",
       "│ 32855.0        │\n",
       "└────────────────┘"
      ]
     },
     "execution_count": 27,
     "metadata": {},
     "output_type": "execute_result"
    }
   ],
   "source": [
    "# IFNULL\n",
    "\n",
    "insurance_df.sql(\"\"\"\n",
    "  SELECT IFNULL(Annual_Premium, 'n/a') AS null_condition FROM self\n",
    "\"\"\")"
   ]
  },
  {
   "cell_type": "code",
   "execution_count": 28,
   "id": "a7839c60-206e-4107-8b30-057d401e2cf4",
   "metadata": {},
   "outputs": [
    {
     "data": {
      "text/html": [
       "<div><style>\n",
       ".dataframe > thead > tr,\n",
       ".dataframe > tbody > tr {\n",
       "  text-align: right;\n",
       "  white-space: pre-wrap;\n",
       "}\n",
       "</style>\n",
       "<small>shape: (11_504_798, 1)</small><table border=\"1\" class=\"dataframe\"><thead><tr><th>least</th></tr><tr><td>f64</td></tr></thead><tbody><tr><td>124.0</td></tr><tr><td>26.0</td></tr><tr><td>152.0</td></tr><tr><td>156.0</td></tr><tr><td>152.0</td></tr><tr><td>&hellip;</td></tr><tr><td>26.0</td></tr><tr><td>152.0</td></tr><tr><td>152.0</td></tr><tr><td>26.0</td></tr><tr><td>152.0</td></tr></tbody></table></div>"
      ],
      "text/plain": [
       "shape: (11_504_798, 1)\n",
       "┌───────┐\n",
       "│ least │\n",
       "│ ---   │\n",
       "│ f64   │\n",
       "╞═══════╡\n",
       "│ 124.0 │\n",
       "│ 26.0  │\n",
       "│ 152.0 │\n",
       "│ 156.0 │\n",
       "│ 152.0 │\n",
       "│ …     │\n",
       "│ 26.0  │\n",
       "│ 152.0 │\n",
       "│ 152.0 │\n",
       "│ 26.0  │\n",
       "│ 152.0 │\n",
       "└───────┘"
      ]
     },
     "execution_count": 28,
     "metadata": {},
     "output_type": "execute_result"
    }
   ],
   "source": [
    "# LEAST\n",
    "\n",
    "insurance_df.sql(\"\"\"\n",
    "  SELECT LEAST(Annual_Premium, Policy_Sales_Channel) AS least FROM self\n",
    "\"\"\")"
   ]
  },
  {
   "cell_type": "code",
   "execution_count": 29,
   "id": "13163694-d86a-4be0-9bdd-a13e75e39bdb",
   "metadata": {},
   "outputs": [
    {
     "data": {
      "text/html": [
       "<div><style>\n",
       ".dataframe > thead > tr,\n",
       ".dataframe > tbody > tr {\n",
       "  text-align: right;\n",
       "  white-space: pre-wrap;\n",
       "}\n",
       "</style>\n",
       "<small>shape: (11_504_798, 1)</small><table border=\"1\" class=\"dataframe\"><thead><tr><th>baz</th></tr><tr><td>f64</td></tr></thead><tbody><tr><td>65101.0</td></tr><tr><td>58911.0</td></tr><tr><td>38043.0</td></tr><tr><td>2630.0</td></tr><tr><td>31951.0</td></tr><tr><td>&hellip;</td></tr><tr><td>27412.0</td></tr><tr><td>29509.0</td></tr><tr><td>2630.0</td></tr><tr><td>48443.0</td></tr><tr><td>32855.0</td></tr></tbody></table></div>"
      ],
      "text/plain": [
       "shape: (11_504_798, 1)\n",
       "┌─────────┐\n",
       "│ baz     │\n",
       "│ ---     │\n",
       "│ f64     │\n",
       "╞═════════╡\n",
       "│ 65101.0 │\n",
       "│ 58911.0 │\n",
       "│ 38043.0 │\n",
       "│ 2630.0  │\n",
       "│ 31951.0 │\n",
       "│ …       │\n",
       "│ 27412.0 │\n",
       "│ 29509.0 │\n",
       "│ 2630.0  │\n",
       "│ 48443.0 │\n",
       "│ 32855.0 │\n",
       "└─────────┘"
      ]
     },
     "execution_count": 29,
     "metadata": {},
     "output_type": "execute_result"
    }
   ],
   "source": [
    "# NULLIF \n",
    "\n",
    "insurance_df.sql(\"\"\"\n",
    "  SELECT NULLIF(Annual_Premium,Policy_Sales_Channel) AS baz FROM self\n",
    "\"\"\")"
   ]
  },
  {
   "cell_type": "markdown",
   "id": "eee75900-24a5-4978-b597-7e0881535755",
   "metadata": {},
   "source": [
    "## Maths functions "
   ]
  },
  {
   "cell_type": "code",
   "execution_count": 30,
   "id": "e7e6829c-e241-46ee-909c-dddb9834445f",
   "metadata": {},
   "outputs": [
    {
     "data": {
      "text/html": [
       "<div><style>\n",
       ".dataframe > thead > tr,\n",
       ".dataframe > tbody > tr {\n",
       "  text-align: right;\n",
       "  white-space: pre-wrap;\n",
       "}\n",
       "</style>\n",
       "<small>shape: (11_504_798, 2)</small><table border=\"1\" class=\"dataframe\"><thead><tr><th>Policy_Sales_Channel</th><th>abs_policy</th></tr><tr><td>f64</td><td>f64</td></tr></thead><tbody><tr><td>124.0</td><td>124.0</td></tr><tr><td>26.0</td><td>26.0</td></tr><tr><td>152.0</td><td>152.0</td></tr><tr><td>156.0</td><td>156.0</td></tr><tr><td>152.0</td><td>152.0</td></tr><tr><td>&hellip;</td><td>&hellip;</td></tr><tr><td>26.0</td><td>26.0</td></tr><tr><td>152.0</td><td>152.0</td></tr><tr><td>152.0</td><td>152.0</td></tr><tr><td>26.0</td><td>26.0</td></tr><tr><td>152.0</td><td>152.0</td></tr></tbody></table></div>"
      ],
      "text/plain": [
       "shape: (11_504_798, 2)\n",
       "┌──────────────────────┬────────────┐\n",
       "│ Policy_Sales_Channel ┆ abs_policy │\n",
       "│ ---                  ┆ ---        │\n",
       "│ f64                  ┆ f64        │\n",
       "╞══════════════════════╪════════════╡\n",
       "│ 124.0                ┆ 124.0      │\n",
       "│ 26.0                 ┆ 26.0       │\n",
       "│ 152.0                ┆ 152.0      │\n",
       "│ 156.0                ┆ 156.0      │\n",
       "│ 152.0                ┆ 152.0      │\n",
       "│ …                    ┆ …          │\n",
       "│ 26.0                 ┆ 26.0       │\n",
       "│ 152.0                ┆ 152.0      │\n",
       "│ 152.0                ┆ 152.0      │\n",
       "│ 26.0                 ┆ 26.0       │\n",
       "│ 152.0                ┆ 152.0      │\n",
       "└──────────────────────┴────────────┘"
      ]
     },
     "execution_count": 30,
     "metadata": {},
     "output_type": "execute_result"
    }
   ],
   "source": [
    "# abs function\n",
    "insurance_df.sql(\"\"\"\n",
    "  SELECT Policy_Sales_Channel, ABS(Policy_Sales_Channel) AS abs_policy FROM self\n",
    "\"\"\")"
   ]
  },
  {
   "cell_type": "code",
   "execution_count": 31,
   "id": "0975c0ec-77b0-4885-8402-0024905bd127",
   "metadata": {},
   "outputs": [
    {
     "data": {
      "text/html": [
       "<div><style>\n",
       ".dataframe > thead > tr,\n",
       ".dataframe > tbody > tr {\n",
       "  text-align: right;\n",
       "  white-space: pre-wrap;\n",
       "}\n",
       "</style>\n",
       "<small>shape: (11_504_798, 2)</small><table border=\"1\" class=\"dataframe\"><thead><tr><th>Policy_Sales_Channel</th><th>cbrt_policy</th></tr><tr><td>f64</td><td>f64</td></tr></thead><tbody><tr><td>124.0</td><td>4.986631</td></tr><tr><td>26.0</td><td>2.962496</td></tr><tr><td>152.0</td><td>5.336803</td></tr><tr><td>156.0</td><td>5.383213</td></tr><tr><td>152.0</td><td>5.336803</td></tr><tr><td>&hellip;</td><td>&hellip;</td></tr><tr><td>26.0</td><td>2.962496</td></tr><tr><td>152.0</td><td>5.336803</td></tr><tr><td>152.0</td><td>5.336803</td></tr><tr><td>26.0</td><td>2.962496</td></tr><tr><td>152.0</td><td>5.336803</td></tr></tbody></table></div>"
      ],
      "text/plain": [
       "shape: (11_504_798, 2)\n",
       "┌──────────────────────┬─────────────┐\n",
       "│ Policy_Sales_Channel ┆ cbrt_policy │\n",
       "│ ---                  ┆ ---         │\n",
       "│ f64                  ┆ f64         │\n",
       "╞══════════════════════╪═════════════╡\n",
       "│ 124.0                ┆ 4.986631    │\n",
       "│ 26.0                 ┆ 2.962496    │\n",
       "│ 152.0                ┆ 5.336803    │\n",
       "│ 156.0                ┆ 5.383213    │\n",
       "│ 152.0                ┆ 5.336803    │\n",
       "│ …                    ┆ …           │\n",
       "│ 26.0                 ┆ 2.962496    │\n",
       "│ 152.0                ┆ 5.336803    │\n",
       "│ 152.0                ┆ 5.336803    │\n",
       "│ 26.0                 ┆ 2.962496    │\n",
       "│ 152.0                ┆ 5.336803    │\n",
       "└──────────────────────┴─────────────┘"
      ]
     },
     "execution_count": 31,
     "metadata": {},
     "output_type": "execute_result"
    }
   ],
   "source": [
    "# cbrt\n",
    "insurance_df.sql(\"\"\"\n",
    "  SELECT Policy_Sales_Channel, CBRT(Policy_Sales_Channel) AS cbrt_policy FROM self\n",
    "\"\"\")"
   ]
  },
  {
   "cell_type": "code",
   "execution_count": 32,
   "id": "2caae2e0-8d64-4cd8-90ed-a29f53d20275",
   "metadata": {},
   "outputs": [
    {
     "data": {
      "text/html": [
       "<div><style>\n",
       ".dataframe > thead > tr,\n",
       ".dataframe > tbody > tr {\n",
       "  text-align: right;\n",
       "  white-space: pre-wrap;\n",
       "}\n",
       "</style>\n",
       "<small>shape: (11_504_798, 3)</small><table border=\"1\" class=\"dataframe\"><thead><tr><th>Policy_Sales_Channel</th><th>policy_div_2</th><th>policy_div_5</th></tr><tr><td>f64</td><td>i64</td><td>i64</td></tr></thead><tbody><tr><td>124.0</td><td>62</td><td>24</td></tr><tr><td>26.0</td><td>13</td><td>5</td></tr><tr><td>152.0</td><td>76</td><td>30</td></tr><tr><td>156.0</td><td>78</td><td>31</td></tr><tr><td>152.0</td><td>76</td><td>30</td></tr><tr><td>&hellip;</td><td>&hellip;</td><td>&hellip;</td></tr><tr><td>26.0</td><td>13</td><td>5</td></tr><tr><td>152.0</td><td>76</td><td>30</td></tr><tr><td>152.0</td><td>76</td><td>30</td></tr><tr><td>26.0</td><td>13</td><td>5</td></tr><tr><td>152.0</td><td>76</td><td>30</td></tr></tbody></table></div>"
      ],
      "text/plain": [
       "shape: (11_504_798, 3)\n",
       "┌──────────────────────┬──────────────┬──────────────┐\n",
       "│ Policy_Sales_Channel ┆ policy_div_2 ┆ policy_div_5 │\n",
       "│ ---                  ┆ ---          ┆ ---          │\n",
       "│ f64                  ┆ i64          ┆ i64          │\n",
       "╞══════════════════════╪══════════════╪══════════════╡\n",
       "│ 124.0                ┆ 62           ┆ 24           │\n",
       "│ 26.0                 ┆ 13           ┆ 5            │\n",
       "│ 152.0                ┆ 76           ┆ 30           │\n",
       "│ 156.0                ┆ 78           ┆ 31           │\n",
       "│ 152.0                ┆ 76           ┆ 30           │\n",
       "│ …                    ┆ …            ┆ …            │\n",
       "│ 26.0                 ┆ 13           ┆ 5            │\n",
       "│ 152.0                ┆ 76           ┆ 30           │\n",
       "│ 152.0                ┆ 76           ┆ 30           │\n",
       "│ 26.0                 ┆ 13           ┆ 5            │\n",
       "│ 152.0                ┆ 76           ┆ 30           │\n",
       "└──────────────────────┴──────────────┴──────────────┘"
      ]
     },
     "execution_count": 32,
     "metadata": {},
     "output_type": "execute_result"
    }
   ],
   "source": [
    "# div\n",
    "insurance_df.sql(\"\"\"\n",
    "  SELECT Policy_Sales_Channel, DIV(Policy_Sales_Channel, 2) AS policy_div_2, DIV(Policy_Sales_Channel, 5) AS policy_div_5 FROM self\n",
    "\"\"\")"
   ]
  },
  {
   "cell_type": "code",
   "execution_count": 33,
   "id": "59b7f2f6-6bf8-4b2a-aeef-2f380ad0b24d",
   "metadata": {},
   "outputs": [
    {
     "data": {
      "text/html": [
       "<div><style>\n",
       ".dataframe > thead > tr,\n",
       ".dataframe > tbody > tr {\n",
       "  text-align: right;\n",
       "  white-space: pre-wrap;\n",
       "}\n",
       "</style>\n",
       "<small>shape: (11_504_798, 2)</small><table border=\"1\" class=\"dataframe\"><thead><tr><th>Policy_Sales_Channel</th><th>log1p_policy</th></tr><tr><td>f64</td><td>f64</td></tr></thead><tbody><tr><td>124.0</td><td>4.828314</td></tr><tr><td>26.0</td><td>3.295837</td></tr><tr><td>152.0</td><td>5.030438</td></tr><tr><td>156.0</td><td>5.056246</td></tr><tr><td>152.0</td><td>5.030438</td></tr><tr><td>&hellip;</td><td>&hellip;</td></tr><tr><td>26.0</td><td>3.295837</td></tr><tr><td>152.0</td><td>5.030438</td></tr><tr><td>152.0</td><td>5.030438</td></tr><tr><td>26.0</td><td>3.295837</td></tr><tr><td>152.0</td><td>5.030438</td></tr></tbody></table></div>"
      ],
      "text/plain": [
       "shape: (11_504_798, 2)\n",
       "┌──────────────────────┬──────────────┐\n",
       "│ Policy_Sales_Channel ┆ log1p_policy │\n",
       "│ ---                  ┆ ---          │\n",
       "│ f64                  ┆ f64          │\n",
       "╞══════════════════════╪══════════════╡\n",
       "│ 124.0                ┆ 4.828314     │\n",
       "│ 26.0                 ┆ 3.295837     │\n",
       "│ 152.0                ┆ 5.030438     │\n",
       "│ 156.0                ┆ 5.056246     │\n",
       "│ 152.0                ┆ 5.030438     │\n",
       "│ …                    ┆ …            │\n",
       "│ 26.0                 ┆ 3.295837     │\n",
       "│ 152.0                ┆ 5.030438     │\n",
       "│ 152.0                ┆ 5.030438     │\n",
       "│ 26.0                 ┆ 3.295837     │\n",
       "│ 152.0                ┆ 5.030438     │\n",
       "└──────────────────────┴──────────────┘"
      ]
     },
     "execution_count": 33,
     "metadata": {},
     "output_type": "execute_result"
    }
   ],
   "source": [
    "# log \n",
    "insurance_df.sql(\"\"\"\n",
    "  SELECT Policy_Sales_Channel, LOG1P(Policy_Sales_Channel) AS log1p_policy FROM self\n",
    "\"\"\")"
   ]
  },
  {
   "cell_type": "markdown",
   "id": "1f876ad8-0283-4b54-84a5-7f43a288a7e5",
   "metadata": {},
   "source": [
    "## Types functions "
   ]
  },
  {
   "cell_type": "code",
   "execution_count": 34,
   "id": "2e72ba09-b2a1-49ec-a0d0-06ffd72de46f",
   "metadata": {},
   "outputs": [
    {
     "data": {
      "text/plain": [
       "['id',\n",
       " 'Gender',\n",
       " 'Age',\n",
       " 'Driving_License',\n",
       " 'Region_Code',\n",
       " 'Previously_Insured',\n",
       " 'Vehicle_Age',\n",
       " 'Vehicle_Damage',\n",
       " 'Annual_Premium',\n",
       " 'Policy_Sales_Channel',\n",
       " 'Vintage',\n",
       " 'Response']"
      ]
     },
     "execution_count": 34,
     "metadata": {},
     "output_type": "execute_result"
    }
   ],
   "source": [
    "insurance_df.columns"
   ]
  },
  {
   "cell_type": "code",
   "execution_count": 35,
   "id": "bcc10ef5-48c2-4b4f-bf13-e108e5163ef0",
   "metadata": {},
   "outputs": [
    {
     "data": {
      "text/html": [
       "<div><style>\n",
       ".dataframe > thead > tr,\n",
       ".dataframe > tbody > tr {\n",
       "  text-align: right;\n",
       "  white-space: pre-wrap;\n",
       "}\n",
       "</style>\n",
       "<small>shape: (11_504_798, 2)</small><table border=\"1\" class=\"dataframe\"><thead><tr><th>Vintage</th><th>Response</th></tr><tr><td>f32</td><td>str</td></tr></thead><tbody><tr><td>187.0</td><td>&quot;0&quot;</td></tr><tr><td>288.0</td><td>&quot;1&quot;</td></tr><tr><td>254.0</td><td>&quot;0&quot;</td></tr><tr><td>76.0</td><td>&quot;0&quot;</td></tr><tr><td>294.0</td><td>&quot;0&quot;</td></tr><tr><td>&hellip;</td><td>&hellip;</td></tr><tr><td>218.0</td><td>&quot;0&quot;</td></tr><tr><td>115.0</td><td>&quot;1&quot;</td></tr><tr><td>189.0</td><td>&quot;0&quot;</td></tr><tr><td>274.0</td><td>&quot;1&quot;</td></tr><tr><td>189.0</td><td>&quot;0&quot;</td></tr></tbody></table></div>"
      ],
      "text/plain": [
       "shape: (11_504_798, 2)\n",
       "┌─────────┬──────────┐\n",
       "│ Vintage ┆ Response │\n",
       "│ ---     ┆ ---      │\n",
       "│ f32     ┆ str      │\n",
       "╞═════════╪══════════╡\n",
       "│ 187.0   ┆ 0        │\n",
       "│ 288.0   ┆ 1        │\n",
       "│ 254.0   ┆ 0        │\n",
       "│ 76.0    ┆ 0        │\n",
       "│ 294.0   ┆ 0        │\n",
       "│ …       ┆ …        │\n",
       "│ 218.0   ┆ 0        │\n",
       "│ 115.0   ┆ 1        │\n",
       "│ 189.0   ┆ 0        │\n",
       "│ 274.0   ┆ 1        │\n",
       "│ 189.0   ┆ 0        │\n",
       "└─────────┴──────────┘"
      ]
     },
     "execution_count": 35,
     "metadata": {},
     "output_type": "execute_result"
    }
   ],
   "source": [
    "insurance_df.sql(\"\"\"\n",
    "  SELECT\n",
    "    Vintage ::float4,\n",
    "    Response:: string\n",
    "  FROM self\n",
    "\"\"\")"
   ]
  },
  {
   "cell_type": "code",
   "execution_count": 36,
   "id": "e24df070-9ea4-4f7c-9863-a7148f74b616",
   "metadata": {},
   "outputs": [
    {
     "data": {
      "text/html": [
       "<div><style>\n",
       ".dataframe > thead > tr,\n",
       ".dataframe > tbody > tr {\n",
       "  text-align: right;\n",
       "  white-space: pre-wrap;\n",
       "}\n",
       "</style>\n",
       "<small>shape: (11_504_798, 2)</small><table border=\"1\" class=\"dataframe\"><thead><tr><th>Annual_Premium</th><th>Previously_Insured</th></tr><tr><td>u16</td><td>str</td></tr></thead><tbody><tr><td>65101</td><td>&quot;0&quot;</td></tr><tr><td>58911</td><td>&quot;0&quot;</td></tr><tr><td>38043</td><td>&quot;1&quot;</td></tr><tr><td>2630</td><td>&quot;0&quot;</td></tr><tr><td>31951</td><td>&quot;1&quot;</td></tr><tr><td>&hellip;</td><td>&hellip;</td></tr><tr><td>27412</td><td>&quot;0&quot;</td></tr><tr><td>29509</td><td>&quot;0&quot;</td></tr><tr><td>2630</td><td>&quot;1&quot;</td></tr><tr><td>48443</td><td>&quot;0&quot;</td></tr><tr><td>32855</td><td>&quot;1&quot;</td></tr></tbody></table></div>"
      ],
      "text/plain": [
       "shape: (11_504_798, 2)\n",
       "┌────────────────┬────────────────────┐\n",
       "│ Annual_Premium ┆ Previously_Insured │\n",
       "│ ---            ┆ ---                │\n",
       "│ u16            ┆ str                │\n",
       "╞════════════════╪════════════════════╡\n",
       "│ 65101          ┆ 0                  │\n",
       "│ 58911          ┆ 0                  │\n",
       "│ 38043          ┆ 1                  │\n",
       "│ 2630           ┆ 0                  │\n",
       "│ 31951          ┆ 1                  │\n",
       "│ …              ┆ …                  │\n",
       "│ 27412          ┆ 0                  │\n",
       "│ 29509          ┆ 0                  │\n",
       "│ 2630           ┆ 1                  │\n",
       "│ 48443          ┆ 0                  │\n",
       "│ 32855          ┆ 1                  │\n",
       "└────────────────┴────────────────────┘"
      ]
     },
     "execution_count": 36,
     "metadata": {},
     "output_type": "execute_result"
    }
   ],
   "source": [
    "insurance_df.sql(\"\"\"\n",
    "  SELECT\n",
    "  TRY_CAST(Annual_Premium AS uint2),\n",
    "  TRY_CAST(Previously_Insured AS string)\n",
    "  FROM self\n",
    "\"\"\")"
   ]
  },
  {
   "cell_type": "markdown",
   "id": "7120dd15-cb89-460d-a9d6-898b053fd31c",
   "metadata": {},
   "source": [
    "## Temporal Functions"
   ]
  },
  {
   "cell_type": "markdown",
   "id": "ec216559-758b-4b68-b880-09b42c5b7bc3",
   "metadata": {},
   "source": [
    "### DATE_PART"
   ]
  },
  {
   "cell_type": "code",
   "execution_count": 37,
   "id": "4c979ea9-88bf-40c8-a74c-fbf5d4b18738",
   "metadata": {},
   "outputs": [
    {
     "data": {
      "text/html": [
       "<div><style>\n",
       ".dataframe > thead > tr,\n",
       ".dataframe > tbody > tr {\n",
       "  text-align: right;\n",
       "  white-space: pre-wrap;\n",
       "}\n",
       "</style>\n",
       "<small>shape: (3, 4)</small><table border=\"1\" class=\"dataframe\"><thead><tr><th>sales_datetime</th><th>year</th><th>month</th><th>day</th></tr><tr><td>date</td><td>i32</td><td>i8</td><td>i8</td></tr></thead><tbody><tr><td>2024-03-16</td><td>2024</td><td>3</td><td>16</td></tr><tr><td>2024-01-11</td><td>2024</td><td>1</td><td>11</td></tr><tr><td>2077-02-02</td><td>2077</td><td>2</td><td>2</td></tr></tbody></table></div>"
      ],
      "text/plain": [
       "shape: (3, 4)\n",
       "┌────────────────┬──────┬───────┬─────┐\n",
       "│ sales_datetime ┆ year ┆ month ┆ day │\n",
       "│ ---            ┆ ---  ┆ ---   ┆ --- │\n",
       "│ date           ┆ i32  ┆ i8    ┆ i8  │\n",
       "╞════════════════╪══════╪═══════╪═════╡\n",
       "│ 2024-03-16     ┆ 2024 ┆ 3     ┆ 16  │\n",
       "│ 2024-01-11     ┆ 2024 ┆ 1     ┆ 11  │\n",
       "│ 2077-02-02     ┆ 2077 ┆ 2     ┆ 2   │\n",
       "└────────────────┴──────┴───────┴─────┘"
      ]
     },
     "execution_count": 37,
     "metadata": {},
     "output_type": "execute_result"
    }
   ],
   "source": [
    "from datetime import date\n",
    "df = pl.DataFrame(\n",
    "  {\n",
    "      \"sales_datetime\": [\n",
    "          date(2024, 3, 16),\n",
    "          date(2024, 1, 11),\n",
    "          date(2077, 2, 2),\n",
    "      ]\n",
    "  }\n",
    ")\n",
    "df.sql(\"\"\"\n",
    "  SELECT\n",
    "    sales_datetime,\n",
    "    DATE_PART('year',sales_datetime ) AS year,\n",
    "    DATE_PART('month', sales_datetime) AS month,\n",
    "    DATE_PART('day', sales_datetime) AS day\n",
    "  FROM self\n",
    "\"\"\")"
   ]
  },
  {
   "cell_type": "markdown",
   "id": "bb4f352f-ef02-4712-af6e-e720e98ce77a",
   "metadata": {},
   "source": [
    "### EXTRACT"
   ]
  },
  {
   "cell_type": "code",
   "execution_count": 38,
   "id": "8c7f4444-d58a-4051-912f-77eda0d019b2",
   "metadata": {},
   "outputs": [
    {
     "data": {
      "text/html": [
       "<div><style>\n",
       ".dataframe > thead > tr,\n",
       ".dataframe > tbody > tr {\n",
       "  text-align: right;\n",
       "  white-space: pre-wrap;\n",
       "}\n",
       "</style>\n",
       "<small>shape: (3, 4)</small><table border=\"1\" class=\"dataframe\"><thead><tr><th>sales_datetime</th><th>decade</th><th>year</th><th>quarter</th></tr><tr><td>date</td><td>i32</td><td>i32</td><td>i8</td></tr></thead><tbody><tr><td>2024-03-16</td><td>202</td><td>2024</td><td>1</td></tr><tr><td>2024-01-11</td><td>202</td><td>2024</td><td>1</td></tr><tr><td>2077-02-02</td><td>207</td><td>2077</td><td>1</td></tr></tbody></table></div>"
      ],
      "text/plain": [
       "shape: (3, 4)\n",
       "┌────────────────┬────────┬──────┬─────────┐\n",
       "│ sales_datetime ┆ decade ┆ year ┆ quarter │\n",
       "│ ---            ┆ ---    ┆ ---  ┆ ---     │\n",
       "│ date           ┆ i32    ┆ i32  ┆ i8      │\n",
       "╞════════════════╪════════╪══════╪═════════╡\n",
       "│ 2024-03-16     ┆ 202    ┆ 2024 ┆ 1       │\n",
       "│ 2024-01-11     ┆ 202    ┆ 2024 ┆ 1       │\n",
       "│ 2077-02-02     ┆ 207    ┆ 2077 ┆ 1       │\n",
       "└────────────────┴────────┴──────┴─────────┘"
      ]
     },
     "execution_count": 38,
     "metadata": {},
     "output_type": "execute_result"
    }
   ],
   "source": [
    "df.sql(\"\"\"\n",
    "  SELECT\n",
    "    sales_datetime,\n",
    "    EXTRACT(decade FROM sales_datetime) AS decade,\n",
    "    EXTRACT(year FROM sales_datetime) AS year,\n",
    "    EXTRACT(quarter FROM sales_datetime) AS quarter,\n",
    "  FROM self\n",
    "\"\"\")"
   ]
  },
  {
   "cell_type": "markdown",
   "id": "1b277f55-db89-4977-ae2c-5b1fe2dca049",
   "metadata": {},
   "source": [
    "### STRFTIME"
   ]
  },
  {
   "cell_type": "code",
   "execution_count": 39,
   "id": "a95d76f9-2a3f-4107-9670-b0ed737b9094",
   "metadata": {},
   "outputs": [
    {
     "data": {
      "text/html": [
       "<div><style>\n",
       ".dataframe > thead > tr,\n",
       ".dataframe > tbody > tr {\n",
       "  text-align: right;\n",
       "  white-space: pre-wrap;\n",
       "}\n",
       "</style>\n",
       "<small>shape: (3, 2)</small><table border=\"1\" class=\"dataframe\"><thead><tr><th>s_dt</th><th>s_tm</th></tr><tr><td>str</td><td>str</td></tr></thead><tbody><tr><td>&quot;July 05, 1978&quot;</td><td>&quot;10.10.10&quot;</td></tr><tr><td>null</td><td>&quot;22.33.55&quot;</td></tr><tr><td>&quot;April 10, 2020&quot;</td><td>null</td></tr></tbody></table></div>"
      ],
      "text/plain": [
       "shape: (3, 2)\n",
       "┌────────────────┬──────────┐\n",
       "│ s_dt           ┆ s_tm     │\n",
       "│ ---            ┆ ---      │\n",
       "│ str            ┆ str      │\n",
       "╞════════════════╪══════════╡\n",
       "│ July 05, 1978  ┆ 10.10.10 │\n",
       "│ null           ┆ 22.33.55 │\n",
       "│ April 10, 2020 ┆ null     │\n",
       "└────────────────┴──────────┘"
      ]
     },
     "execution_count": 39,
     "metadata": {},
     "output_type": "execute_result"
    }
   ],
   "source": [
    "from datetime import time\n",
    "df = pl.DataFrame(\n",
    "  {\n",
    "    \"dt\": [date(1978, 7, 5), None, date(2020, 4, 10)],\n",
    "    \"tm\": [time(10, 10, 10), time(22, 33, 55), None],\n",
    "  }\n",
    ")\n",
    "\n",
    "df.sql(\"\"\"\n",
    "  SELECT\n",
    "    STRFTIME(dt, '%B %d, %Y') AS s_dt,\n",
    "    STRFTIME(tm, '%H.%M.%S') AS s_tm,\n",
    "  FROM self\n",
    "\"\"\")"
   ]
  },
  {
   "cell_type": "markdown",
   "id": "832ed9eb-5f7e-410b-ae15-230f8c014210",
   "metadata": {},
   "source": [
    "There are other functions for Array, String  data structures along with the Trigonometry functions which can be called from SQL interface. "
   ]
  },
  {
   "cell_type": "markdown",
   "id": "73bed17c-88ca-4f24-b6a0-3836b7f55e3e",
   "metadata": {},
   "source": [
    "# Set Operations "
   ]
  },
  {
   "cell_type": "code",
   "execution_count": 59,
   "id": "03b2a763-12e0-4ce2-8e31-b440fc2f14aa",
   "metadata": {},
   "outputs": [
    {
     "data": {
      "text/html": [
       "<div><style>\n",
       ".dataframe > thead > tr,\n",
       ".dataframe > tbody > tr {\n",
       "  text-align: right;\n",
       "  white-space: pre-wrap;\n",
       "}\n",
       "</style>\n",
       "<small>shape: (2, 3)</small><table border=\"1\" class=\"dataframe\"><thead><tr><th>Countries</th><th>Matches</th><th>Ranking</th></tr><tr><td>str</td><td>i64</td><td>i64</td></tr></thead><tbody><tr><td>&quot;ENGLAND&quot;</td><td>32</td><td>6</td></tr><tr><td>&quot;PAKISTAN&quot;</td><td>42</td><td>2</td></tr></tbody></table></div>"
      ],
      "text/plain": [
       "shape: (2, 3)\n",
       "┌───────────┬─────────┬─────────┐\n",
       "│ Countries ┆ Matches ┆ Ranking │\n",
       "│ ---       ┆ ---     ┆ ---     │\n",
       "│ str       ┆ i64     ┆ i64     │\n",
       "╞═══════════╪═════════╪═════════╡\n",
       "│ ENGLAND   ┆ 32      ┆ 6       │\n",
       "│ PAKISTAN  ┆ 42      ┆ 2       │\n",
       "└───────────┴─────────┴─────────┘"
      ]
     },
     "execution_count": 59,
     "metadata": {},
     "output_type": "execute_result"
    }
   ],
   "source": [
    "## Except \n",
    "df1 = pl.DataFrame({\n",
    "    \"Countries\": [\"INDIA\", \"PAKISTAN\", \"AUSTRALIA\", \"ENGLAND\"],\n",
    "    \"Matches\": [80, 42, 55, 32],\n",
    "    \"Ranking\": [1, 2, 7, 6]\n",
    "})\n",
    "\n",
    "df2 = pl.DataFrame({\n",
    "    \"Countries\": [\"INDIA\", \"AUSTRALIA\", \"NL\", \"SA\"],\n",
    "    \"Matches\": [80, 55, 10, 15],\n",
    "    \"Ranking\": [1, 7, 9, 8]\n",
    "})\n",
    "\n",
    "# Use SQL to perform an EXCEPT operation\n",
    "pl.sql(\"\"\"\n",
    "    SELECT * FROM df1 EXCEPT SELECT * FROM df2\n",
    "\"\"\").sort(by=\"Countries\").collect()\n"
   ]
  },
  {
   "cell_type": "code",
   "execution_count": 49,
   "id": "14e2c903-506c-4468-a7c5-e152a71d5ada",
   "metadata": {},
   "outputs": [
    {
     "data": {
      "text/html": [
       "<div><style>\n",
       ".dataframe > thead > tr,\n",
       ".dataframe > tbody > tr {\n",
       "  text-align: right;\n",
       "  white-space: pre-wrap;\n",
       "}\n",
       "</style>\n",
       "<small>shape: (2, 3)</small><table border=\"1\" class=\"dataframe\"><thead><tr><th>Countries</th><th>Matches</th><th>Ranking</th></tr><tr><td>str</td><td>i64</td><td>i64</td></tr></thead><tbody><tr><td>&quot;AUSTRALIA&quot;</td><td>55</td><td>7</td></tr><tr><td>&quot;INDIA&quot;</td><td>80</td><td>1</td></tr></tbody></table></div>"
      ],
      "text/plain": [
       "shape: (2, 3)\n",
       "┌───────────┬─────────┬─────────┐\n",
       "│ Countries ┆ Matches ┆ Ranking │\n",
       "│ ---       ┆ ---     ┆ ---     │\n",
       "│ str       ┆ i64     ┆ i64     │\n",
       "╞═══════════╪═════════╪═════════╡\n",
       "│ AUSTRALIA ┆ 55      ┆ 7       │\n",
       "│ INDIA     ┆ 80      ┆ 1       │\n",
       "└───────────┴─────────┴─────────┘"
      ]
     },
     "execution_count": 49,
     "metadata": {},
     "output_type": "execute_result"
    }
   ],
   "source": [
    "# INTERSECT\n",
    "pl.sql(\"\"\"\n",
    "    SELECT * FROM df1 INTERSECT SELECT * FROM df2\n",
    "\"\"\").sort(by=\"Countries\").collect()"
   ]
  },
  {
   "cell_type": "code",
   "execution_count": 50,
   "id": "13b6d8ff-4e77-4632-a324-8e6114dbd9ab",
   "metadata": {},
   "outputs": [
    {
     "data": {
      "text/html": [
       "<div><style>\n",
       ".dataframe > thead > tr,\n",
       ".dataframe > tbody > tr {\n",
       "  text-align: right;\n",
       "  white-space: pre-wrap;\n",
       "}\n",
       "</style>\n",
       "<small>shape: (6, 3)</small><table border=\"1\" class=\"dataframe\"><thead><tr><th>Countries</th><th>Matches</th><th>Ranking</th></tr><tr><td>str</td><td>i64</td><td>i64</td></tr></thead><tbody><tr><td>&quot;AUSTRALIA&quot;</td><td>55</td><td>7</td></tr><tr><td>&quot;ENGLAND&quot;</td><td>32</td><td>6</td></tr><tr><td>&quot;INDIA&quot;</td><td>80</td><td>1</td></tr><tr><td>&quot;NL&quot;</td><td>10</td><td>9</td></tr><tr><td>&quot;PAKISTAN&quot;</td><td>42</td><td>2</td></tr><tr><td>&quot;SA&quot;</td><td>15</td><td>8</td></tr></tbody></table></div>"
      ],
      "text/plain": [
       "shape: (6, 3)\n",
       "┌───────────┬─────────┬─────────┐\n",
       "│ Countries ┆ Matches ┆ Ranking │\n",
       "│ ---       ┆ ---     ┆ ---     │\n",
       "│ str       ┆ i64     ┆ i64     │\n",
       "╞═══════════╪═════════╪═════════╡\n",
       "│ AUSTRALIA ┆ 55      ┆ 7       │\n",
       "│ ENGLAND   ┆ 32      ┆ 6       │\n",
       "│ INDIA     ┆ 80      ┆ 1       │\n",
       "│ NL        ┆ 10      ┆ 9       │\n",
       "│ PAKISTAN  ┆ 42      ┆ 2       │\n",
       "│ SA        ┆ 15      ┆ 8       │\n",
       "└───────────┴─────────┴─────────┘"
      ]
     },
     "execution_count": 50,
     "metadata": {},
     "output_type": "execute_result"
    }
   ],
   "source": [
    "# UNION\n",
    "pl.sql(\"\"\"\n",
    "    SELECT * FROM df1 UNION SELECT * FROM df2\n",
    "\"\"\").sort(by=\"Countries\").collect()\n"
   ]
  },
  {
   "cell_type": "code",
   "execution_count": 51,
   "id": "81b20424-d9d3-45ba-a80c-4a384e45d653",
   "metadata": {},
   "outputs": [
    {
     "data": {
      "text/html": [
       "<div><style>\n",
       ".dataframe > thead > tr,\n",
       ".dataframe > tbody > tr {\n",
       "  text-align: right;\n",
       "  white-space: pre-wrap;\n",
       "}\n",
       "</style>\n",
       "<small>shape: (8, 3)</small><table border=\"1\" class=\"dataframe\"><thead><tr><th>Countries</th><th>Matches</th><th>Ranking</th></tr><tr><td>str</td><td>i64</td><td>i64</td></tr></thead><tbody><tr><td>&quot;AUSTRALIA&quot;</td><td>55</td><td>7</td></tr><tr><td>&quot;AUSTRALIA&quot;</td><td>55</td><td>7</td></tr><tr><td>&quot;ENGLAND&quot;</td><td>32</td><td>6</td></tr><tr><td>&quot;INDIA&quot;</td><td>80</td><td>1</td></tr><tr><td>&quot;INDIA&quot;</td><td>80</td><td>1</td></tr><tr><td>&quot;NL&quot;</td><td>10</td><td>9</td></tr><tr><td>&quot;PAKISTAN&quot;</td><td>42</td><td>2</td></tr><tr><td>&quot;SA&quot;</td><td>15</td><td>8</td></tr></tbody></table></div>"
      ],
      "text/plain": [
       "shape: (8, 3)\n",
       "┌───────────┬─────────┬─────────┐\n",
       "│ Countries ┆ Matches ┆ Ranking │\n",
       "│ ---       ┆ ---     ┆ ---     │\n",
       "│ str       ┆ i64     ┆ i64     │\n",
       "╞═══════════╪═════════╪═════════╡\n",
       "│ AUSTRALIA ┆ 55      ┆ 7       │\n",
       "│ AUSTRALIA ┆ 55      ┆ 7       │\n",
       "│ ENGLAND   ┆ 32      ┆ 6       │\n",
       "│ INDIA     ┆ 80      ┆ 1       │\n",
       "│ INDIA     ┆ 80      ┆ 1       │\n",
       "│ NL        ┆ 10      ┆ 9       │\n",
       "│ PAKISTAN  ┆ 42      ┆ 2       │\n",
       "│ SA        ┆ 15      ┆ 8       │\n",
       "└───────────┴─────────┴─────────┘"
      ]
     },
     "execution_count": 51,
     "metadata": {},
     "output_type": "execute_result"
    }
   ],
   "source": [
    "# UNION ALL\n",
    "pl.sql(\"\"\"\n",
    "    SELECT * FROM df1 UNION ALL SELECT * FROM df2\n",
    "\"\"\").sort(by=\"Countries\").collect()\n"
   ]
  },
  {
   "cell_type": "code",
   "execution_count": 52,
   "id": "a6ad445a-995c-4521-8163-bbe05a3365ec",
   "metadata": {},
   "outputs": [
    {
     "data": {
      "text/html": [
       "<div><style>\n",
       ".dataframe > thead > tr,\n",
       ".dataframe > tbody > tr {\n",
       "  text-align: right;\n",
       "  white-space: pre-wrap;\n",
       "}\n",
       "</style>\n",
       "<small>shape: (6, 3)</small><table border=\"1\" class=\"dataframe\"><thead><tr><th>Countries</th><th>Matches</th><th>Ranking</th></tr><tr><td>str</td><td>i64</td><td>i64</td></tr></thead><tbody><tr><td>&quot;AUSTRALIA&quot;</td><td>55</td><td>7</td></tr><tr><td>&quot;ENGLAND&quot;</td><td>32</td><td>6</td></tr><tr><td>&quot;INDIA&quot;</td><td>80</td><td>1</td></tr><tr><td>&quot;NL&quot;</td><td>10</td><td>9</td></tr><tr><td>&quot;PAKISTAN&quot;</td><td>42</td><td>2</td></tr><tr><td>&quot;SA&quot;</td><td>15</td><td>8</td></tr></tbody></table></div>"
      ],
      "text/plain": [
       "shape: (6, 3)\n",
       "┌───────────┬─────────┬─────────┐\n",
       "│ Countries ┆ Matches ┆ Ranking │\n",
       "│ ---       ┆ ---     ┆ ---     │\n",
       "│ str       ┆ i64     ┆ i64     │\n",
       "╞═══════════╪═════════╪═════════╡\n",
       "│ AUSTRALIA ┆ 55      ┆ 7       │\n",
       "│ ENGLAND   ┆ 32      ┆ 6       │\n",
       "│ INDIA     ┆ 80      ┆ 1       │\n",
       "│ NL        ┆ 10      ┆ 9       │\n",
       "│ PAKISTAN  ┆ 42      ┆ 2       │\n",
       "│ SA        ┆ 15      ┆ 8       │\n",
       "└───────────┴─────────┴─────────┘"
      ]
     },
     "execution_count": 52,
     "metadata": {},
     "output_type": "execute_result"
    }
   ],
   "source": [
    "# UNION BY NAME\n",
    "\n",
    "pl.sql(\"\"\"\n",
    "    SELECT * FROM df1 UNION BY NAME SELECT * FROM df2\n",
    "\"\"\").sort(by=\"Countries\").collect()"
   ]
  }
 ],
 "metadata": {
  "kernelspec": {
   "display_name": "Python 3 (ipykernel)",
   "language": "python",
   "name": "python3"
  },
  "language_info": {
   "codemirror_mode": {
    "name": "ipython",
    "version": 3
   },
   "file_extension": ".py",
   "mimetype": "text/x-python",
   "name": "python",
   "nbconvert_exporter": "python",
   "pygments_lexer": "ipython3",
   "version": "3.11.7"
  }
 },
 "nbformat": 4,
 "nbformat_minor": 5
}
