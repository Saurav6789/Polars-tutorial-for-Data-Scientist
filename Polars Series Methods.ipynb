{
 "cells": [
  {
   "cell_type": "markdown",
   "id": "2dc44efe-8499-48b3-9c21-788f71f8c278",
   "metadata": {},
   "source": [
    "# Import Polars "
   ]
  },
  {
   "cell_type": "code",
   "execution_count": 1,
   "id": "b926e7e6-319d-4625-b50c-8d07c97aca2e",
   "metadata": {},
   "outputs": [
    {
     "name": "stdout",
     "output_type": "stream",
     "text": [
      "1.5.0\n"
     ]
    }
   ],
   "source": [
    "import polars as pl\n",
    "print(pl.__version__)"
   ]
  },
  {
   "cell_type": "code",
   "execution_count": 2,
   "id": "ac1086db-9204-49d4-8120-e20ee75aa303",
   "metadata": {},
   "outputs": [],
   "source": [
    "insurance_df = pl.read_csv(\"Insurance.csv\")"
   ]
  },
  {
   "cell_type": "code",
   "execution_count": 3,
   "id": "b4542e54-60da-4848-878c-07fcc649bc38",
   "metadata": {},
   "outputs": [
    {
     "data": {
      "text/plain": [
       "polars.dataframe.frame.DataFrame"
      ]
     },
     "execution_count": 3,
     "metadata": {},
     "output_type": "execute_result"
    }
   ],
   "source": [
    "type(insurance_df)"
   ]
  },
  {
   "cell_type": "code",
   "execution_count": 4,
   "id": "fc965550-b6a8-4200-9b2c-7bec688e75de",
   "metadata": {},
   "outputs": [
    {
     "data": {
      "text/html": [
       "<div><style>\n",
       ".dataframe > thead > tr,\n",
       ".dataframe > tbody > tr {\n",
       "  text-align: right;\n",
       "  white-space: pre-wrap;\n",
       "}\n",
       "</style>\n",
       "<small>shape: (5, 12)</small><table border=\"1\" class=\"dataframe\"><thead><tr><th>id</th><th>Gender</th><th>Age</th><th>Driving_License</th><th>Region_Code</th><th>Previously_Insured</th><th>Vehicle_Age</th><th>Vehicle_Damage</th><th>Annual_Premium</th><th>Policy_Sales_Channel</th><th>Vintage</th><th>Response</th></tr><tr><td>i64</td><td>str</td><td>i64</td><td>i64</td><td>f64</td><td>i64</td><td>str</td><td>str</td><td>f64</td><td>f64</td><td>i64</td><td>i64</td></tr></thead><tbody><tr><td>0</td><td>&quot;Male&quot;</td><td>21</td><td>1</td><td>35.0</td><td>0</td><td>&quot;1-2 Year&quot;</td><td>&quot;Yes&quot;</td><td>65101.0</td><td>124.0</td><td>187</td><td>0</td></tr><tr><td>1</td><td>&quot;Male&quot;</td><td>43</td><td>1</td><td>28.0</td><td>0</td><td>&quot;&gt; 2 Years&quot;</td><td>&quot;Yes&quot;</td><td>58911.0</td><td>26.0</td><td>288</td><td>1</td></tr><tr><td>2</td><td>&quot;Female&quot;</td><td>25</td><td>1</td><td>14.0</td><td>1</td><td>&quot;&lt; 1 Year&quot;</td><td>&quot;No&quot;</td><td>38043.0</td><td>152.0</td><td>254</td><td>0</td></tr><tr><td>3</td><td>&quot;Female&quot;</td><td>35</td><td>1</td><td>1.0</td><td>0</td><td>&quot;1-2 Year&quot;</td><td>&quot;Yes&quot;</td><td>2630.0</td><td>156.0</td><td>76</td><td>0</td></tr><tr><td>4</td><td>&quot;Female&quot;</td><td>36</td><td>1</td><td>15.0</td><td>1</td><td>&quot;1-2 Year&quot;</td><td>&quot;No&quot;</td><td>31951.0</td><td>152.0</td><td>294</td><td>0</td></tr></tbody></table></div>"
      ],
      "text/plain": [
       "shape: (5, 12)\n",
       "┌─────┬────────┬─────┬─────────────────┬───┬────────────────┬─────────────────┬─────────┬──────────┐\n",
       "│ id  ┆ Gender ┆ Age ┆ Driving_License ┆ … ┆ Annual_Premium ┆ Policy_Sales_Ch ┆ Vintage ┆ Response │\n",
       "│ --- ┆ ---    ┆ --- ┆ ---             ┆   ┆ ---            ┆ annel           ┆ ---     ┆ ---      │\n",
       "│ i64 ┆ str    ┆ i64 ┆ i64             ┆   ┆ f64            ┆ ---             ┆ i64     ┆ i64      │\n",
       "│     ┆        ┆     ┆                 ┆   ┆                ┆ f64             ┆         ┆          │\n",
       "╞═════╪════════╪═════╪═════════════════╪═══╪════════════════╪═════════════════╪═════════╪══════════╡\n",
       "│ 0   ┆ Male   ┆ 21  ┆ 1               ┆ … ┆ 65101.0        ┆ 124.0           ┆ 187     ┆ 0        │\n",
       "│ 1   ┆ Male   ┆ 43  ┆ 1               ┆ … ┆ 58911.0        ┆ 26.0            ┆ 288     ┆ 1        │\n",
       "│ 2   ┆ Female ┆ 25  ┆ 1               ┆ … ┆ 38043.0        ┆ 152.0           ┆ 254     ┆ 0        │\n",
       "│ 3   ┆ Female ┆ 35  ┆ 1               ┆ … ┆ 2630.0         ┆ 156.0           ┆ 76      ┆ 0        │\n",
       "│ 4   ┆ Female ┆ 36  ┆ 1               ┆ … ┆ 31951.0        ┆ 152.0           ┆ 294     ┆ 0        │\n",
       "└─────┴────────┴─────┴─────────────────┴───┴────────────────┴─────────────────┴─────────┴──────────┘"
      ]
     },
     "execution_count": 4,
     "metadata": {},
     "output_type": "execute_result"
    }
   ],
   "source": [
    "insurance_df.head()"
   ]
  },
  {
   "cell_type": "markdown",
   "id": "3420e2eb-3fce-4f6f-9dc3-acc2eda1f805",
   "metadata": {},
   "source": [
    "#  Attributes Methods "
   ]
  },
  {
   "cell_type": "code",
   "execution_count": 6,
   "id": "7144284f-7b1f-4b84-b0c2-f1f193521b11",
   "metadata": {},
   "outputs": [],
   "source": [
    "series1  = insurance_df[\"Annual_Premium\"]"
   ]
  },
  {
   "cell_type": "code",
   "execution_count": 7,
   "id": "a13e3277-6684-44d7-9387-b2114ef798d4",
   "metadata": {},
   "outputs": [
    {
     "data": {
      "text/plain": [
       "polars.series.series.Series"
      ]
     },
     "execution_count": 7,
     "metadata": {},
     "output_type": "execute_result"
    }
   ],
   "source": [
    "type(series1)"
   ]
  },
  {
   "cell_type": "markdown",
   "id": "31dc7370-59cd-4a89-9d3d-285da9e78f1c",
   "metadata": {},
   "source": [
    "## polars.Series.dtype"
   ]
  },
  {
   "cell_type": "code",
   "execution_count": 8,
   "id": "a7dc1d13-78eb-4b00-89f4-f9d5ea8e8f00",
   "metadata": {},
   "outputs": [
    {
     "data": {
      "text/plain": [
       "Float64"
      ]
     },
     "execution_count": 8,
     "metadata": {},
     "output_type": "execute_result"
    }
   ],
   "source": [
    "series1.dtype"
   ]
  },
  {
   "cell_type": "markdown",
   "id": "def36baa-7e37-41c9-9c53-f2f5488f590c",
   "metadata": {},
   "source": [
    "## polars.Series.name"
   ]
  },
  {
   "cell_type": "code",
   "execution_count": 9,
   "id": "b5fde116-ee24-4c3b-b4c6-81db33c21a4c",
   "metadata": {},
   "outputs": [
    {
     "data": {
      "text/plain": [
       "'Annual_Premium'"
      ]
     },
     "execution_count": 9,
     "metadata": {},
     "output_type": "execute_result"
    }
   ],
   "source": [
    "series1.name"
   ]
  },
  {
   "cell_type": "markdown",
   "id": "3a219a6d-5568-43f1-9875-22607db2c5a3",
   "metadata": {},
   "source": [
    "## polars.Series.shape"
   ]
  },
  {
   "cell_type": "code",
   "execution_count": 10,
   "id": "d6974436-bdd8-4cc5-b3ef-3dc605fc8206",
   "metadata": {},
   "outputs": [
    {
     "data": {
      "text/plain": [
       "(11504798,)"
      ]
     },
     "execution_count": 10,
     "metadata": {},
     "output_type": "execute_result"
    }
   ],
   "source": [
    "series1.shape"
   ]
  },
  {
   "cell_type": "markdown",
   "id": "6c740036-1bc5-4b5e-bd86-fb0bef65776f",
   "metadata": {},
   "source": [
    "## polars.Series.flags"
   ]
  },
  {
   "cell_type": "code",
   "execution_count": 11,
   "id": "bd3787c1-e5af-4161-a2e4-c20d565cc873",
   "metadata": {},
   "outputs": [
    {
     "data": {
      "text/plain": [
       "{'SORTED_ASC': False, 'SORTED_DESC': False}"
      ]
     },
     "execution_count": 11,
     "metadata": {},
     "output_type": "execute_result"
    }
   ],
   "source": [
    "series1.flags"
   ]
  },
  {
   "cell_type": "markdown",
   "id": "a150f70f-659d-42ef-8687-823448b59232",
   "metadata": {},
   "source": [
    "# Boolean Methods"
   ]
  },
  {
   "cell_type": "markdown",
   "id": "07e61fa5-dcde-452e-8ffa-e709aa93c6d4",
   "metadata": {},
   "source": [
    "## polars.Series.all"
   ]
  },
  {
   "cell_type": "code",
   "execution_count": 12,
   "id": "500439a5-3834-4548-a0fe-ee42470bc39f",
   "metadata": {},
   "outputs": [
    {
     "data": {
      "text/plain": [
       "True"
      ]
     },
     "execution_count": 12,
     "metadata": {},
     "output_type": "execute_result"
    }
   ],
   "source": [
    "bool_series = pl.Series([True, True, True])\n",
    "bool_series.all()"
   ]
  },
  {
   "cell_type": "code",
   "execution_count": 13,
   "id": "300ace15-19ea-4005-9941-a8abff2d1422",
   "metadata": {},
   "outputs": [
    {
     "data": {
      "text/plain": [
       "False"
      ]
     },
     "execution_count": 13,
     "metadata": {},
     "output_type": "execute_result"
    }
   ],
   "source": [
    "mixed_series = pl.Series([True, False, True])\n",
    "mixed_series.all()"
   ]
  },
  {
   "cell_type": "code",
   "execution_count": 14,
   "id": "8f17b6db-92df-4fcf-aa33-fd55ceafeaba",
   "metadata": {},
   "outputs": [
    {
     "data": {
      "text/plain": [
       "True"
      ]
     },
     "execution_count": 14,
     "metadata": {},
     "output_type": "execute_result"
    }
   ],
   "source": [
    "(series1 >0).all() # series1 is the col from the insurance table "
   ]
  },
  {
   "cell_type": "markdown",
   "id": "01b94a44-09a6-4dd2-9d9a-2c2d6875447f",
   "metadata": {},
   "source": [
    "## polars.Series.any"
   ]
  },
  {
   "cell_type": "code",
   "execution_count": 16,
   "id": "e357c80e-a4ec-40c6-8240-50b7b7b95eb1",
   "metadata": {},
   "outputs": [
    {
     "data": {
      "text/plain": [
       "True"
      ]
     },
     "execution_count": 16,
     "metadata": {},
     "output_type": "execute_result"
    }
   ],
   "source": [
    "bool_series = pl.Series([False, False, True])\n",
    "bool_series.any()"
   ]
  },
  {
   "cell_type": "code",
   "execution_count": 17,
   "id": "1abbb382-96a8-49a6-aec1-e26f45699e32",
   "metadata": {},
   "outputs": [
    {
     "data": {
      "text/plain": [
       "False"
      ]
     },
     "execution_count": 17,
     "metadata": {},
     "output_type": "execute_result"
    }
   ],
   "source": [
    "(series1 <1000).any()"
   ]
  },
  {
   "cell_type": "code",
   "execution_count": 18,
   "id": "49a763bd-19bc-4ab1-aac4-0c582c0beab1",
   "metadata": {},
   "outputs": [
    {
     "data": {
      "text/plain": [
       "<bound method Series.any of shape: (11_504_798,)\n",
       "Series: 'Annual_Premium' [bool]\n",
       "[\n",
       "\ttrue\n",
       "\ttrue\n",
       "\ttrue\n",
       "\ttrue\n",
       "\ttrue\n",
       "\t…\n",
       "\ttrue\n",
       "\ttrue\n",
       "\ttrue\n",
       "\ttrue\n",
       "\ttrue\n",
       "]>"
      ]
     },
     "execution_count": 18,
     "metadata": {},
     "output_type": "execute_result"
    }
   ],
   "source": [
    "(series1 > 500).any"
   ]
  },
  {
   "cell_type": "markdown",
   "id": "aace0bd9-d266-4e03-a094-bac939140743",
   "metadata": {},
   "source": [
    "## polars.Series.not_ explanation"
   ]
  },
  {
   "cell_type": "code",
   "execution_count": 19,
   "id": "73cef526-b39c-49c8-a68e-90c8706d7bd2",
   "metadata": {},
   "outputs": [
    {
     "data": {
      "text/html": [
       "<div><style>\n",
       ".dataframe > thead > tr,\n",
       ".dataframe > tbody > tr {\n",
       "  text-align: right;\n",
       "  white-space: pre-wrap;\n",
       "}\n",
       "</style>\n",
       "<small>shape: (3,)</small><table border=\"1\" class=\"dataframe\"><thead><tr><th></th></tr><tr><td>bool</td></tr></thead><tbody><tr><td>true</td></tr><tr><td>true</td></tr><tr><td>false</td></tr></tbody></table></div>"
      ],
      "text/plain": [
       "shape: (3,)\n",
       "Series: '' [bool]\n",
       "[\n",
       "\ttrue\n",
       "\ttrue\n",
       "\tfalse\n",
       "]"
      ]
     },
     "execution_count": 19,
     "metadata": {},
     "output_type": "execute_result"
    }
   ],
   "source": [
    "bool_series = pl.Series([False, False, True])\n",
    "inverted_series = bool_series.not_()\n",
    "inverted_series"
   ]
  },
  {
   "cell_type": "code",
   "execution_count": 21,
   "id": "83d20189-c7ba-4f07-b219-fe9eb15be2dc",
   "metadata": {},
   "outputs": [
    {
     "name": "stdout",
     "output_type": "stream",
     "text": [
      "shape: (11_504_798,)\n",
      "Series: 'Annual_Premium' [bool]\n",
      "[\n",
      "\tfalse\n",
      "\tfalse\n",
      "\tfalse\n",
      "\tfalse\n",
      "\tfalse\n",
      "\t…\n",
      "\tfalse\n",
      "\tfalse\n",
      "\tfalse\n",
      "\tfalse\n",
      "\tfalse\n",
      "]\n"
     ]
    }
   ],
   "source": [
    "condition = series1 >500 \n",
    "inverted_condition = condition.not_()\n",
    "print(inverted_condition)"
   ]
  },
  {
   "cell_type": "markdown",
   "id": "d18e5c50-4080-4251-8a87-262b3e4fb841",
   "metadata": {},
   "source": [
    "# Categories Methods "
   ]
  },
  {
   "cell_type": "code",
   "execution_count": 24,
   "id": "5ced3777-4eab-44df-88eb-4880e003174f",
   "metadata": {},
   "outputs": [],
   "source": [
    "series2 = insurance_df[\"Gender\"]\n",
    "cat_series = series2.cast(pl.Categorical)"
   ]
  },
  {
   "cell_type": "markdown",
   "id": "3965958b-ff9e-4996-ae91-70df22b4e902",
   "metadata": {},
   "source": [
    "## polars.Series.cat.get_categories"
   ]
  },
  {
   "cell_type": "code",
   "execution_count": 26,
   "id": "a7dff32e-1f6a-4e5c-8a66-1c7582c0b195",
   "metadata": {},
   "outputs": [
    {
     "data": {
      "text/html": [
       "<div><style>\n",
       ".dataframe > thead > tr,\n",
       ".dataframe > tbody > tr {\n",
       "  text-align: right;\n",
       "  white-space: pre-wrap;\n",
       "}\n",
       "</style>\n",
       "<small>shape: (2,)</small><table border=\"1\" class=\"dataframe\"><thead><tr><th>Gender</th></tr><tr><td>str</td></tr></thead><tbody><tr><td>&quot;Male&quot;</td></tr><tr><td>&quot;Female&quot;</td></tr></tbody></table></div>"
      ],
      "text/plain": [
       "shape: (2,)\n",
       "Series: 'Gender' [str]\n",
       "[\n",
       "\t\"Male\"\n",
       "\t\"Female\"\n",
       "]"
      ]
     },
     "execution_count": 26,
     "metadata": {},
     "output_type": "execute_result"
    }
   ],
   "source": [
    "cat_series.cat.get_categories()"
   ]
  },
  {
   "cell_type": "markdown",
   "id": "27d18a00-2e60-4036-9ef2-da692e1e7d11",
   "metadata": {},
   "source": [
    "## polars.Series.cat.is_local"
   ]
  },
  {
   "cell_type": "code",
   "execution_count": 27,
   "id": "6d1b7905-8264-47b4-bd17-2ac5a8523fa8",
   "metadata": {},
   "outputs": [
    {
     "data": {
      "text/plain": [
       "True"
      ]
     },
     "execution_count": 27,
     "metadata": {},
     "output_type": "execute_result"
    }
   ],
   "source": [
    "cat_series.cat.is_local()"
   ]
  },
  {
   "cell_type": "markdown",
   "id": "c7a92595-01ca-4b70-a92b-1eeefe078320",
   "metadata": {},
   "source": [
    "## Descriptive "
   ]
  },
  {
   "cell_type": "markdown",
   "id": "4ed58b59-dd5c-43d3-8bc1-3717e7e05ade",
   "metadata": {},
   "source": [
    "## polars.Series.describe"
   ]
  },
  {
   "cell_type": "code",
   "execution_count": 28,
   "id": "3ad2bd06-9e51-4ae4-9043-a7a78d4f02f5",
   "metadata": {},
   "outputs": [
    {
     "data": {
      "text/html": [
       "<div><style>\n",
       ".dataframe > thead > tr,\n",
       ".dataframe > tbody > tr {\n",
       "  text-align: right;\n",
       "  white-space: pre-wrap;\n",
       "}\n",
       "</style>\n",
       "<small>shape: (9, 2)</small><table border=\"1\" class=\"dataframe\"><thead><tr><th>statistic</th><th>value</th></tr><tr><td>str</td><td>f64</td></tr></thead><tbody><tr><td>&quot;count&quot;</td><td>1.1504798e7</td></tr><tr><td>&quot;null_count&quot;</td><td>0.0</td></tr><tr><td>&quot;mean&quot;</td><td>30461.370411</td></tr><tr><td>&quot;std&quot;</td><td>16454.745205</td></tr><tr><td>&quot;min&quot;</td><td>2630.0</td></tr><tr><td>&quot;25%&quot;</td><td>25277.0</td></tr><tr><td>&quot;50%&quot;</td><td>31824.0</td></tr><tr><td>&quot;75%&quot;</td><td>39451.0</td></tr><tr><td>&quot;max&quot;</td><td>540165.0</td></tr></tbody></table></div>"
      ],
      "text/plain": [
       "shape: (9, 2)\n",
       "┌────────────┬──────────────┐\n",
       "│ statistic  ┆ value        │\n",
       "│ ---        ┆ ---          │\n",
       "│ str        ┆ f64          │\n",
       "╞════════════╪══════════════╡\n",
       "│ count      ┆ 1.1504798e7  │\n",
       "│ null_count ┆ 0.0          │\n",
       "│ mean       ┆ 30461.370411 │\n",
       "│ std        ┆ 16454.745205 │\n",
       "│ min        ┆ 2630.0       │\n",
       "│ 25%        ┆ 25277.0      │\n",
       "│ 50%        ┆ 31824.0      │\n",
       "│ 75%        ┆ 39451.0      │\n",
       "│ max        ┆ 540165.0     │\n",
       "└────────────┴──────────────┘"
      ]
     },
     "execution_count": 28,
     "metadata": {},
     "output_type": "execute_result"
    }
   ],
   "source": [
    "series1.describe()"
   ]
  },
  {
   "cell_type": "markdown",
   "id": "dcda247d-c983-4323-adb1-6560cbb85d34",
   "metadata": {},
   "source": [
    "## polars.Series.has_nulls"
   ]
  },
  {
   "cell_type": "code",
   "execution_count": 29,
   "id": "0b8bdb64-0f5c-4bd3-a59a-1f3497de8baa",
   "metadata": {},
   "outputs": [
    {
     "data": {
      "text/plain": [
       "False"
      ]
     },
     "execution_count": 29,
     "metadata": {},
     "output_type": "execute_result"
    }
   ],
   "source": [
    "series2.has_nulls()"
   ]
  },
  {
   "cell_type": "markdown",
   "id": "996cc9e4-6e1c-4673-8b30-2b481ab6798e",
   "metadata": {},
   "source": [
    "## polars.Series.is_duplicated"
   ]
  },
  {
   "cell_type": "code",
   "execution_count": 31,
   "id": "0662499e-0f5b-48be-968f-10800f100d0e",
   "metadata": {},
   "outputs": [
    {
     "data": {
      "text/html": [
       "<div><style>\n",
       ".dataframe > thead > tr,\n",
       ".dataframe > tbody > tr {\n",
       "  text-align: right;\n",
       "  white-space: pre-wrap;\n",
       "}\n",
       "</style>\n",
       "<small>shape: (11_504_798,)</small><table border=\"1\" class=\"dataframe\"><thead><tr><th>Annual_Premium</th></tr><tr><td>bool</td></tr></thead><tbody><tr><td>true</td></tr><tr><td>true</td></tr><tr><td>true</td></tr><tr><td>true</td></tr><tr><td>true</td></tr><tr><td>&hellip;</td></tr><tr><td>true</td></tr><tr><td>true</td></tr><tr><td>true</td></tr><tr><td>true</td></tr><tr><td>true</td></tr></tbody></table></div>"
      ],
      "text/plain": [
       "shape: (11_504_798,)\n",
       "Series: 'Annual_Premium' [bool]\n",
       "[\n",
       "\ttrue\n",
       "\ttrue\n",
       "\ttrue\n",
       "\ttrue\n",
       "\ttrue\n",
       "\t…\n",
       "\ttrue\n",
       "\ttrue\n",
       "\ttrue\n",
       "\ttrue\n",
       "\ttrue\n",
       "]"
      ]
     },
     "execution_count": 31,
     "metadata": {},
     "output_type": "execute_result"
    }
   ],
   "source": [
    "series1.is_duplicated()"
   ]
  },
  {
   "cell_type": "markdown",
   "id": "afb83a58-3aa1-4276-9ecb-7c19996c2d0b",
   "metadata": {},
   "source": [
    "## polars.Series.is_empty"
   ]
  },
  {
   "cell_type": "code",
   "execution_count": 32,
   "id": "71d2ad4f-aeeb-4f7c-a02a-9a98631981c1",
   "metadata": {},
   "outputs": [
    {
     "data": {
      "text/plain": [
       "False"
      ]
     },
     "execution_count": 32,
     "metadata": {},
     "output_type": "execute_result"
    }
   ],
   "source": [
    "series1.is_empty()"
   ]
  },
  {
   "cell_type": "code",
   "execution_count": 33,
   "id": "e9820202-27ad-4d2b-bae0-377770e9e1ed",
   "metadata": {},
   "outputs": [
    {
     "data": {
      "text/plain": [
       "False"
      ]
     },
     "execution_count": 33,
     "metadata": {},
     "output_type": "execute_result"
    }
   ],
   "source": [
    "series2.is_empty()"
   ]
  },
  {
   "cell_type": "markdown",
   "id": "217e6ca0-4949-444e-b8f5-571c3b1a4b80",
   "metadata": {},
   "source": [
    "## polars.Series.is_finite"
   ]
  },
  {
   "cell_type": "code",
   "execution_count": 34,
   "id": "76e45955-1123-464e-8345-91291d4b6c91",
   "metadata": {},
   "outputs": [
    {
     "data": {
      "text/html": [
       "<div><style>\n",
       ".dataframe > thead > tr,\n",
       ".dataframe > tbody > tr {\n",
       "  text-align: right;\n",
       "  white-space: pre-wrap;\n",
       "}\n",
       "</style>\n",
       "<small>shape: (11_504_798,)</small><table border=\"1\" class=\"dataframe\"><thead><tr><th>Annual_Premium</th></tr><tr><td>bool</td></tr></thead><tbody><tr><td>true</td></tr><tr><td>true</td></tr><tr><td>true</td></tr><tr><td>true</td></tr><tr><td>true</td></tr><tr><td>&hellip;</td></tr><tr><td>true</td></tr><tr><td>true</td></tr><tr><td>true</td></tr><tr><td>true</td></tr><tr><td>true</td></tr></tbody></table></div>"
      ],
      "text/plain": [
       "shape: (11_504_798,)\n",
       "Series: 'Annual_Premium' [bool]\n",
       "[\n",
       "\ttrue\n",
       "\ttrue\n",
       "\ttrue\n",
       "\ttrue\n",
       "\ttrue\n",
       "\t…\n",
       "\ttrue\n",
       "\ttrue\n",
       "\ttrue\n",
       "\ttrue\n",
       "\ttrue\n",
       "]"
      ]
     },
     "execution_count": 34,
     "metadata": {},
     "output_type": "execute_result"
    }
   ],
   "source": [
    "series1.is_finite()"
   ]
  },
  {
   "cell_type": "markdown",
   "id": "937acaff-6bfc-4394-b95a-3962d2ad3c7c",
   "metadata": {},
   "source": [
    "## polars.Series.n_unique"
   ]
  },
  {
   "cell_type": "code",
   "execution_count": 36,
   "id": "d69fa971-a876-4c59-8e7e-6506c91c4451",
   "metadata": {},
   "outputs": [
    {
     "data": {
      "text/plain": [
       "51728"
      ]
     },
     "execution_count": 36,
     "metadata": {},
     "output_type": "execute_result"
    }
   ],
   "source": [
    "series1.n_unique()"
   ]
  },
  {
   "cell_type": "code",
   "execution_count": 37,
   "id": "5450ef86-4bb4-47bc-b4d7-0b12edb1b51f",
   "metadata": {},
   "outputs": [
    {
     "data": {
      "text/plain": [
       "2"
      ]
     },
     "execution_count": 37,
     "metadata": {},
     "output_type": "execute_result"
    }
   ],
   "source": [
    "series2.n_unique()"
   ]
  },
  {
   "cell_type": "markdown",
   "id": "662428f2-7563-45ba-b51f-f9832b968a48",
   "metadata": {},
   "source": [
    "## polars.Series.unique_counts"
   ]
  },
  {
   "cell_type": "code",
   "execution_count": 39,
   "id": "7fa873d4-1388-4b5c-8d0e-e95a6175580d",
   "metadata": {},
   "outputs": [
    {
     "data": {
      "text/html": [
       "<div><style>\n",
       ".dataframe > thead > tr,\n",
       ".dataframe > tbody > tr {\n",
       "  text-align: right;\n",
       "  white-space: pre-wrap;\n",
       "}\n",
       "</style>\n",
       "<small>shape: (2,)</small><table border=\"1\" class=\"dataframe\"><thead><tr><th>Gender</th></tr><tr><td>u32</td></tr></thead><tbody><tr><td>6228134</td></tr><tr><td>5276664</td></tr></tbody></table></div>"
      ],
      "text/plain": [
       "shape: (2,)\n",
       "Series: 'Gender' [u32]\n",
       "[\n",
       "\t6228134\n",
       "\t5276664\n",
       "]"
      ]
     },
     "execution_count": 39,
     "metadata": {},
     "output_type": "execute_result"
    }
   ],
   "source": [
    "series2.unique_counts()"
   ]
  },
  {
   "cell_type": "markdown",
   "id": "6837dd5e-0228-4fb3-8501-cbfbd6ff7ac9",
   "metadata": {},
   "source": [
    "## polars.Series.value_counts"
   ]
  },
  {
   "cell_type": "code",
   "execution_count": 40,
   "id": "223f65b5-d981-4d34-98fd-889d5d8da3f2",
   "metadata": {},
   "outputs": [
    {
     "data": {
      "text/html": [
       "<div><style>\n",
       ".dataframe > thead > tr,\n",
       ".dataframe > tbody > tr {\n",
       "  text-align: right;\n",
       "  white-space: pre-wrap;\n",
       "}\n",
       "</style>\n",
       "<small>shape: (2, 2)</small><table border=\"1\" class=\"dataframe\"><thead><tr><th>Gender</th><th>count</th></tr><tr><td>str</td><td>u32</td></tr></thead><tbody><tr><td>&quot;Female&quot;</td><td>5276664</td></tr><tr><td>&quot;Male&quot;</td><td>6228134</td></tr></tbody></table></div>"
      ],
      "text/plain": [
       "shape: (2, 2)\n",
       "┌────────┬─────────┐\n",
       "│ Gender ┆ count   │\n",
       "│ ---    ┆ ---     │\n",
       "│ str    ┆ u32     │\n",
       "╞════════╪═════════╡\n",
       "│ Female ┆ 5276664 │\n",
       "│ Male   ┆ 6228134 │\n",
       "└────────┴─────────┘"
      ]
     },
     "execution_count": 40,
     "metadata": {},
     "output_type": "execute_result"
    }
   ],
   "source": [
    "series2.value_counts()"
   ]
  },
  {
   "cell_type": "markdown",
   "id": "ab3f22b0-da43-4d66-a8e6-55ee7b4a7d69",
   "metadata": {},
   "source": [
    "## Compuatation "
   ]
  },
  {
   "cell_type": "code",
   "execution_count": 41,
   "id": "5e543470-672c-421b-bb7c-72568e651f69",
   "metadata": {},
   "outputs": [
    {
     "data": {
      "text/html": [
       "<div><style>\n",
       ".dataframe > thead > tr,\n",
       ".dataframe > tbody > tr {\n",
       "  text-align: right;\n",
       "  white-space: pre-wrap;\n",
       "}\n",
       "</style>\n",
       "<small>shape: (11_504_798,)</small><table border=\"1\" class=\"dataframe\"><thead><tr><th>Annual_Premium</th></tr><tr><td>u32</td></tr></thead><tbody><tr><td>1</td></tr><tr><td>2</td></tr><tr><td>3</td></tr><tr><td>4</td></tr><tr><td>5</td></tr><tr><td>&hellip;</td></tr><tr><td>11504794</td></tr><tr><td>11504795</td></tr><tr><td>11504796</td></tr><tr><td>11504797</td></tr><tr><td>11504798</td></tr></tbody></table></div>"
      ],
      "text/plain": [
       "shape: (11_504_798,)\n",
       "Series: 'Annual_Premium' [u32]\n",
       "[\n",
       "\t1\n",
       "\t2\n",
       "\t3\n",
       "\t4\n",
       "\t5\n",
       "\t…\n",
       "\t11504794\n",
       "\t11504795\n",
       "\t11504796\n",
       "\t11504797\n",
       "\t11504798\n",
       "]"
      ]
     },
     "execution_count": 41,
     "metadata": {},
     "output_type": "execute_result"
    }
   ],
   "source": [
    "# polars.Series.cum_count\n",
    "series1.cum_count()"
   ]
  },
  {
   "cell_type": "code",
   "execution_count": 42,
   "id": "c22a2f8f-a54b-4744-b5d5-31220f9ff20a",
   "metadata": {},
   "outputs": [
    {
     "data": {
      "text/html": [
       "<div><style>\n",
       ".dataframe > thead > tr,\n",
       ".dataframe > tbody > tr {\n",
       "  text-align: right;\n",
       "  white-space: pre-wrap;\n",
       "}\n",
       "</style>\n",
       "<small>shape: (11_504_798,)</small><table border=\"1\" class=\"dataframe\"><thead><tr><th>Annual_Premium</th></tr><tr><td>f64</td></tr></thead><tbody><tr><td>11.083695</td></tr><tr><td>10.983783</td></tr><tr><td>10.546472</td></tr><tr><td>7.874739</td></tr><tr><td>10.371959</td></tr><tr><td>&hellip;</td></tr><tr><td>10.218736</td></tr><tr><td>10.292451</td></tr><tr><td>7.874739</td></tr><tr><td>10.788143</td></tr><tr><td>10.399859</td></tr></tbody></table></div>"
      ],
      "text/plain": [
       "shape: (11_504_798,)\n",
       "Series: 'Annual_Premium' [f64]\n",
       "[\n",
       "\t11.083695\n",
       "\t10.983783\n",
       "\t10.546472\n",
       "\t7.874739\n",
       "\t10.371959\n",
       "\t…\n",
       "\t10.218736\n",
       "\t10.292451\n",
       "\t7.874739\n",
       "\t10.788143\n",
       "\t10.399859\n",
       "]"
      ]
     },
     "execution_count": 42,
     "metadata": {},
     "output_type": "execute_result"
    }
   ],
   "source": [
    "# polars.Series.log\n",
    "series1.log()"
   ]
  },
  {
   "cell_type": "code",
   "execution_count": 43,
   "id": "195ab2f2-a3ec-42c9-bac6-a79631f16ff6",
   "metadata": {},
   "outputs": [
    {
     "data": {
      "text/plain": [
       "24.59795591513306"
      ]
     },
     "execution_count": 43,
     "metadata": {},
     "output_type": "execute_result"
    }
   ],
   "source": [
    "# polars.Series.kurtosis\n",
    "\n",
    "series1.kurtosis()"
   ]
  },
  {
   "cell_type": "code",
   "execution_count": 44,
   "id": "2ff67262-3d4b-4aa6-bb2f-728e8e321ab2",
   "metadata": {},
   "outputs": [
    {
     "data": {
      "text/plain": [
       "0.7769367289427773"
      ]
     },
     "execution_count": 44,
     "metadata": {},
     "output_type": "execute_result"
    }
   ],
   "source": [
    "# polars.Series.skew\n",
    "\n",
    "series1.skew()"
   ]
  },
  {
   "cell_type": "code",
   "execution_count": 45,
   "id": "e51cd061-9ae8-457b-81a6-27a0fb565e6d",
   "metadata": {},
   "outputs": [
    {
     "data": {
      "text/html": [
       "<div><style>\n",
       ".dataframe > thead > tr,\n",
       ".dataframe > tbody > tr {\n",
       "  text-align: right;\n",
       "  white-space: pre-wrap;\n",
       "}\n",
       "</style>\n",
       "<small>shape: (11_504_798,)</small><table border=\"1\" class=\"dataframe\"><thead><tr><th>Annual_Premium</th></tr><tr><td>f64</td></tr></thead><tbody><tr><td>0.608179</td></tr><tr><td>0.989442</td></tr><tr><td>-0.115977</td></tr><tr><td>-0.883765</td></tr><tr><td>0.538017</td></tr><tr><td>&hellip;</td></tr><tr><td>0.033295</td></tr><tr><td>-0.999796</td></tr><tr><td>-0.883765</td></tr><tr><td>0.936348</td></tr><tr><td>0.97501</td></tr></tbody></table></div>"
      ],
      "text/plain": [
       "shape: (11_504_798,)\n",
       "Series: 'Annual_Premium' [f64]\n",
       "[\n",
       "\t0.608179\n",
       "\t0.989442\n",
       "\t-0.115977\n",
       "\t-0.883765\n",
       "\t0.538017\n",
       "\t…\n",
       "\t0.033295\n",
       "\t-0.999796\n",
       "\t-0.883765\n",
       "\t0.936348\n",
       "\t0.97501\n",
       "]"
      ]
     },
     "execution_count": 45,
     "metadata": {},
     "output_type": "execute_result"
    }
   ],
   "source": [
    "# polars.Series.cos\n",
    "\n",
    "series1.cos()"
   ]
  },
  {
   "cell_type": "code",
   "execution_count": 48,
   "id": "4c566763-d07e-4184-baa2-c84aa3a29b02",
   "metadata": {},
   "outputs": [
    {
     "data": {
      "text/html": [
       "<div><style>\n",
       ".dataframe > thead > tr,\n",
       ".dataframe > tbody > tr {\n",
       "  text-align: right;\n",
       "  white-space: pre-wrap;\n",
       "}\n",
       "</style>\n",
       "<small>shape: (3,)</small><table border=\"1\" class=\"dataframe\"><thead><tr><th></th></tr><tr><td>f64</td></tr></thead><tbody><tr><td>59874.141715</td></tr><tr><td>162754.791419</td></tr><tr><td>2.9049e13</td></tr></tbody></table></div>"
      ],
      "text/plain": [
       "shape: (3,)\n",
       "Series: '' [f64]\n",
       "[\n",
       "\t59874.141715\n",
       "\t162754.791419\n",
       "\t2.9049e13\n",
       "]"
      ]
     },
     "execution_count": 48,
     "metadata": {},
     "output_type": "execute_result"
    }
   ],
   "source": [
    "# polars.Series.cos\n",
    "\n",
    "s = pl.Series([11, 12, 31])\n",
    "s.exp()"
   ]
  },
  {
   "cell_type": "code",
   "execution_count": 49,
   "id": "373e768e-b70b-4110-a4f5-e0384b24b05b",
   "metadata": {},
   "outputs": [
    {
     "data": {
      "text/html": [
       "<div><style>\n",
       ".dataframe > thead > tr,\n",
       ".dataframe > tbody > tr {\n",
       "  text-align: right;\n",
       "  white-space: pre-wrap;\n",
       "}\n",
       "</style>\n",
       "<small>shape: (5,)</small><table border=\"1\" class=\"dataframe\"><thead><tr><th></th></tr><tr><td>i64</td></tr></thead><tbody><tr><td>21</td></tr><tr><td>32</td></tr><tr><td>43</td></tr><tr><td>91</td></tr><tr><td>12</td></tr></tbody></table></div>"
      ],
      "text/plain": [
       "shape: (5,)\n",
       "Series: '' [i64]\n",
       "[\n",
       "\t21\n",
       "\t32\n",
       "\t43\n",
       "\t91\n",
       "\t12\n",
       "]"
      ]
     },
     "execution_count": 49,
     "metadata": {},
     "output_type": "execute_result"
    }
   ],
   "source": [
    "# polars.Series.abs\n",
    "\n",
    "s = pl.Series([21,32,-43,91,-12])\n",
    "s.abs()"
   ]
  },
  {
   "cell_type": "markdown",
   "id": "7cce982e-fcc1-488d-99e5-889a6a5e6767",
   "metadata": {},
   "source": [
    "# Export Methods "
   ]
  },
  {
   "cell_type": "code",
   "execution_count": 50,
   "id": "c40154ff-6880-4daf-b277-9dc5dc73c304",
   "metadata": {},
   "outputs": [
    {
     "data": {
      "text/plain": [
       "pyarrow.lib.DoubleArray"
      ]
     },
     "execution_count": 50,
     "metadata": {},
     "output_type": "execute_result"
    }
   ],
   "source": [
    "series_arrow = series1.to_arrow()\n",
    "type(series_arrow)"
   ]
  },
  {
   "cell_type": "code",
   "execution_count": 51,
   "id": "174c48a1-a515-4d4e-8c8a-b9524707f939",
   "metadata": {},
   "outputs": [
    {
     "data": {
      "text/plain": [
       "polars.dataframe.frame.DataFrame"
      ]
     },
     "execution_count": 51,
     "metadata": {},
     "output_type": "execute_result"
    }
   ],
   "source": [
    "series_frame = series1.to_frame()\n",
    "type(series_frame)"
   ]
  },
  {
   "cell_type": "code",
   "execution_count": 53,
   "id": "3f7571eb-e393-4075-8cd6-426fd3991975",
   "metadata": {},
   "outputs": [
    {
     "data": {
      "text/plain": [
       "list"
      ]
     },
     "execution_count": 53,
     "metadata": {},
     "output_type": "execute_result"
    }
   ],
   "source": [
    "series_list = series1.to_list()\n",
    "type(series_list)"
   ]
  },
  {
   "cell_type": "code",
   "execution_count": 54,
   "id": "d3ea5319-ebc1-44b5-b326-bd6d0852f992",
   "metadata": {},
   "outputs": [
    {
     "data": {
      "text/plain": [
       "list"
      ]
     },
     "execution_count": 54,
     "metadata": {},
     "output_type": "execute_result"
    }
   ],
   "source": [
    "series_list - series1.to_numpy()\n",
    "type(series_list)"
   ]
  },
  {
   "cell_type": "code",
   "execution_count": 55,
   "id": "8152ae07-0f0d-4605-92da-9191fe5c28a9",
   "metadata": {},
   "outputs": [
    {
     "data": {
      "text/plain": [
       "pandas.core.series.Series"
      ]
     },
     "execution_count": 55,
     "metadata": {},
     "output_type": "execute_result"
    }
   ],
   "source": [
    "series_pandas = series1.to_pandas()\n",
    "type(series_pandas)"
   ]
  },
  {
   "cell_type": "markdown",
   "id": "46e5edb5-0e62-44fd-8a56-5cac8b9c3f51",
   "metadata": {},
   "source": [
    "# List Methods "
   ]
  },
  {
   "cell_type": "code",
   "execution_count": 58,
   "id": "b7fe93ac-1fb2-41d2-9f20-8fe639132240",
   "metadata": {},
   "outputs": [],
   "source": [
    "s_list1 = pl.Series(\"Course\",[[\"Maths\",\"Programming\",\"Product\",\"Engineering\"],[\"Data\"]])\n",
    "s_list2 = pl.Series(\"Training\",[[\"Online\"],[\"Assessment\",None]])"
   ]
  },
  {
   "cell_type": "code",
   "execution_count": 59,
   "id": "266c8dc6-2eb1-4bc1-b795-fac12169e01a",
   "metadata": {},
   "outputs": [
    {
     "data": {
      "text/html": [
       "<div><style>\n",
       ".dataframe > thead > tr,\n",
       ".dataframe > tbody > tr {\n",
       "  text-align: right;\n",
       "  white-space: pre-wrap;\n",
       "}\n",
       "</style>\n",
       "<small>shape: (2,)</small><table border=\"1\" class=\"dataframe\"><thead><tr><th>Course</th></tr><tr><td>list[str]</td></tr></thead><tbody><tr><td>[&quot;Maths&quot;, &quot;Programming&quot;, … &quot;Online&quot;]</td></tr><tr><td>[&quot;Data&quot;, &quot;Assessment&quot;, null]</td></tr></tbody></table></div>"
      ],
      "text/plain": [
       "shape: (2,)\n",
       "Series: 'Course' [list[str]]\n",
       "[\n",
       "\t[\"Maths\", \"Programming\", … \"Online\"]\n",
       "\t[\"Data\", \"Assessment\", null]\n",
       "]"
      ]
     },
     "execution_count": 59,
     "metadata": {},
     "output_type": "execute_result"
    }
   ],
   "source": [
    "# polars.Series.list.concat\n",
    "s_list1.list.concat(s_list2)"
   ]
  },
  {
   "cell_type": "code",
   "execution_count": 62,
   "id": "69467aa7-70b2-4f5d-9aec-7e87616ab73f",
   "metadata": {},
   "outputs": [
    {
     "data": {
      "text/html": [
       "<div><style>\n",
       ".dataframe > thead > tr,\n",
       ".dataframe > tbody > tr {\n",
       "  text-align: right;\n",
       "  white-space: pre-wrap;\n",
       "}\n",
       "</style>\n",
       "<small>shape: (2,)</small><table border=\"1\" class=\"dataframe\"><thead><tr><th>Course</th></tr><tr><td>list[str]</td></tr></thead><tbody><tr><td>[&quot;Maths&quot;, &quot;Programming&quot;, … &quot;Engineering&quot;]</td></tr><tr><td>[&quot;Data&quot;]</td></tr></tbody></table></div>"
      ],
      "text/plain": [
       "shape: (2,)\n",
       "Series: 'Course' [list[str]]\n",
       "[\n",
       "\t[\"Maths\", \"Programming\", … \"Engineering\"]\n",
       "\t[\"Data\"]\n",
       "]"
      ]
     },
     "execution_count": 62,
     "metadata": {},
     "output_type": "execute_result"
    }
   ],
   "source": [
    "s_list1"
   ]
  },
  {
   "cell_type": "code",
   "execution_count": 69,
   "id": "c6b71af3-8296-43c2-8de9-69dbde252175",
   "metadata": {},
   "outputs": [
    {
     "data": {
      "text/html": [
       "<div><style>\n",
       ".dataframe > thead > tr,\n",
       ".dataframe > tbody > tr {\n",
       "  text-align: right;\n",
       "  white-space: pre-wrap;\n",
       "}\n",
       "</style>\n",
       "<small>shape: (2,)</small><table border=\"1\" class=\"dataframe\"><thead><tr><th>Course</th></tr><tr><td>bool</td></tr></thead><tbody><tr><td>true</td></tr><tr><td>false</td></tr></tbody></table></div>"
      ],
      "text/plain": [
       "shape: (2,)\n",
       "Series: 'Course' [bool]\n",
       "[\n",
       "\ttrue\n",
       "\tfalse\n",
       "]"
      ]
     },
     "execution_count": 69,
     "metadata": {},
     "output_type": "execute_result"
    }
   ],
   "source": [
    "# polars.Series.list.contains\n",
    "s_list1 = pl.Series(\"Course\",[[\"Maths\",\"Programming\",\"Product\",\"Engineering\"],[\"Data\"]])\n",
    "s_list1.list.contains(\"Maths\")"
   ]
  },
  {
   "cell_type": "code",
   "execution_count": 70,
   "id": "f786a36b-c0c3-49fc-85ca-881f8f05835e",
   "metadata": {},
   "outputs": [
    {
     "data": {
      "text/html": [
       "<div><style>\n",
       ".dataframe > thead > tr,\n",
       ".dataframe > tbody > tr {\n",
       "  text-align: right;\n",
       "  white-space: pre-wrap;\n",
       "}\n",
       "</style>\n",
       "<small>shape: (5,)</small><table border=\"1\" class=\"dataframe\"><thead><tr><th>Course</th></tr><tr><td>str</td></tr></thead><tbody><tr><td>&quot;Maths&quot;</td></tr><tr><td>&quot;Programming&quot;</td></tr><tr><td>&quot;Product&quot;</td></tr><tr><td>&quot;Engineering&quot;</td></tr><tr><td>&quot;Data&quot;</td></tr></tbody></table></div>"
      ],
      "text/plain": [
       "shape: (5,)\n",
       "Series: 'Course' [str]\n",
       "[\n",
       "\t\"Maths\"\n",
       "\t\"Programming\"\n",
       "\t\"Product\"\n",
       "\t\"Engineering\"\n",
       "\t\"Data\"\n",
       "]"
      ]
     },
     "execution_count": 70,
     "metadata": {},
     "output_type": "execute_result"
    }
   ],
   "source": [
    "# polars.Series.list.explode\n",
    "\n",
    "s_list1.list.explode()"
   ]
  },
  {
   "cell_type": "code",
   "execution_count": 74,
   "id": "786294f3-8f11-4332-a4b2-02875f443c15",
   "metadata": {},
   "outputs": [
    {
     "data": {
      "text/html": [
       "<div><style>\n",
       ".dataframe > thead > tr,\n",
       ".dataframe > tbody > tr {\n",
       "  text-align: right;\n",
       "  white-space: pre-wrap;\n",
       "}\n",
       "</style>\n",
       "<small>shape: (2,)</small><table border=\"1\" class=\"dataframe\"><thead><tr><th>Marks</th></tr><tr><td>f64</td></tr></thead><tbody><tr><td>20.5</td></tr><tr><td>52.5</td></tr></tbody></table></div>"
      ],
      "text/plain": [
       "shape: (2,)\n",
       "Series: 'Marks' [f64]\n",
       "[\n",
       "\t20.5\n",
       "\t52.5\n",
       "]"
      ]
     },
     "execution_count": 74,
     "metadata": {},
     "output_type": "execute_result"
    }
   ],
   "source": [
    "## polars.Series.list.mean\n",
    "\n",
    "s_list =pl.Series(\"Marks\",[[20,21],[45,60]])\n",
    "s_list.list.mean()"
   ]
  },
  {
   "cell_type": "code",
   "execution_count": 75,
   "id": "134caaf9-df35-4c75-a793-d9d936a912e2",
   "metadata": {},
   "outputs": [
    {
     "data": {
      "text/html": [
       "<div><style>\n",
       ".dataframe > thead > tr,\n",
       ".dataframe > tbody > tr {\n",
       "  text-align: right;\n",
       "  white-space: pre-wrap;\n",
       "}\n",
       "</style>\n",
       "<small>shape: (2,)</small><table border=\"1\" class=\"dataframe\"><thead><tr><th>Course</th></tr><tr><td>list[str]</td></tr></thead><tbody><tr><td>[&quot;Engineering&quot;, &quot;Product&quot;, … &quot;Maths&quot;]</td></tr><tr><td>[&quot;Data&quot;]</td></tr></tbody></table></div>"
      ],
      "text/plain": [
       "shape: (2,)\n",
       "Series: 'Course' [list[str]]\n",
       "[\n",
       "\t[\"Engineering\", \"Product\", … \"Maths\"]\n",
       "\t[\"Data\"]\n",
       "]"
      ]
     },
     "execution_count": 75,
     "metadata": {},
     "output_type": "execute_result"
    }
   ],
   "source": [
    "# polars.Series.list.reverse\n",
    "s_list1 = pl.Series(\"Course\",[[\"Maths\",\"Programming\",\"Product\",\"Engineering\"],[\"Data\"]])\n",
    "s_list1.list.reverse()\n"
   ]
  },
  {
   "cell_type": "code",
   "execution_count": 78,
   "id": "ef698a5e-1c03-47e7-b45b-ce00a2eaf011",
   "metadata": {},
   "outputs": [
    {
     "data": {
      "text/html": [
       "<div><style>\n",
       ".dataframe > thead > tr,\n",
       ".dataframe > tbody > tr {\n",
       "  text-align: right;\n",
       "  white-space: pre-wrap;\n",
       "}\n",
       "</style>\n",
       "<small>shape: (2,)</small><table border=\"1\" class=\"dataframe\"><thead><tr><th>Course</th></tr><tr><td>list[str]</td></tr></thead><tbody><tr><td>[&quot;Maths&quot;, &quot;Programming&quot;, … &quot;Engineering&quot;]</td></tr><tr><td>[&quot;Data&quot;]</td></tr></tbody></table></div>"
      ],
      "text/plain": [
       "shape: (2,)\n",
       "Series: 'Course' [list[str]]\n",
       "[\n",
       "\t[\"Maths\", \"Programming\", … \"Engineering\"]\n",
       "\t[\"Data\"]\n",
       "]"
      ]
     },
     "execution_count": 78,
     "metadata": {},
     "output_type": "execute_result"
    }
   ],
   "source": [
    "s_list1"
   ]
  },
  {
   "cell_type": "code",
   "execution_count": 79,
   "id": "0c62e646-6251-4a53-9563-46a41a740bae",
   "metadata": {},
   "outputs": [
    {
     "name": "stdout",
     "output_type": "stream",
     "text": [
      "shape: (3,)\n",
      "Series: 'lists' [list[i64]]\n",
      "[\n",
      "\t[2, 3]\n",
      "\t[6, 7]\n",
      "\t[9]\n",
      "]\n"
     ]
    }
   ],
   "source": [
    "# polars.Series.list.slice\n",
    "\n",
    "list_series = pl.Series(\"lists\", [[1, 2, 3, 4], [5, 6, 7], [8, 9]])\n",
    "sliced_series = list_series.list.slice(1, 2)\n",
    "print(sliced_series)"
   ]
  },
  {
   "cell_type": "code",
   "execution_count": 80,
   "id": "898b40e8-59eb-4081-8877-6893fc6b122d",
   "metadata": {},
   "outputs": [
    {
     "name": "stdout",
     "output_type": "stream",
     "text": [
      "shape: (3,)\n",
      "Series: 'lists' [list[i64]]\n",
      "[\n",
      "\t[3, 4]\n",
      "\t[6, 7]\n",
      "\t[8, 9]\n",
      "]\n"
     ]
    }
   ],
   "source": [
    "sliced_series = list_series.list.slice(-2, 2)\n",
    "print(sliced_series)"
   ]
  },
  {
   "cell_type": "code",
   "execution_count": 81,
   "id": "27eb507a-0910-4809-8a23-6f964f6891a2",
   "metadata": {},
   "outputs": [
    {
     "name": "stdout",
     "output_type": "stream",
     "text": [
      "shape: (3,)\n",
      "Series: 'lists' [u32]\n",
      "[\n",
      "\t3\n",
      "\t2\n",
      "\t1\n",
      "]\n"
     ]
    }
   ],
   "source": [
    "# polars.Series.list.n_unique\n",
    "\n",
    "list_series = pl.Series(\"lists\", [[1, 2, 2, 3], [4, 5, 4], [6, 6, 6]])\n",
    "unique_counts = list_series.list.n_unique()\n",
    "print(unique_counts)"
   ]
  },
  {
   "cell_type": "code",
   "execution_count": 82,
   "id": "7caab48f-79f7-4de5-a15d-80d6c898d3af",
   "metadata": {},
   "outputs": [
    {
     "name": "stdout",
     "output_type": "stream",
     "text": [
      "shape: (3,)\n",
      "Series: 'lists' [list[i64]]\n",
      "[\n",
      "\t[1, 2, 3]\n",
      "\t[4, 5]\n",
      "\t[6]\n",
      "]\n"
     ]
    }
   ],
   "source": [
    "## polars.Series.list.unique\n",
    "list_series = pl.Series(\"lists\", [[1, 2, 2, 3], [4, 5, 4], [6, 6, 6]])\n",
    "unique_elements = list_series.list.unique()\n",
    "print(unique_elements)\n"
   ]
  },
  {
   "cell_type": "markdown",
   "id": "8914864a-0220-49cd-ae3b-7a4dc169c9ef",
   "metadata": {},
   "source": [
    "# Array Methods "
   ]
  },
  {
   "cell_type": "code",
   "execution_count": 88,
   "id": "69db1c27-c757-4811-a99f-47403ec29f34",
   "metadata": {},
   "outputs": [
    {
     "data": {
      "text/html": [
       "<div><style>\n",
       ".dataframe > thead > tr,\n",
       ".dataframe > tbody > tr {\n",
       "  text-align: right;\n",
       "  white-space: pre-wrap;\n",
       "}\n",
       "</style>\n",
       "<small>shape: (3,)</small><table border=\"1\" class=\"dataframe\"><thead><tr><th>Array</th></tr><tr><td>i64</td></tr></thead><tbody><tr><td>4</td></tr><tr><td>7</td></tr><tr><td>10</td></tr></tbody></table></div>"
      ],
      "text/plain": [
       "shape: (3,)\n",
       "Series: 'Array' [i64]\n",
       "[\n",
       "\t4\n",
       "\t7\n",
       "\t10\n",
       "]"
      ]
     },
     "execution_count": 88,
     "metadata": {},
     "output_type": "execute_result"
    }
   ],
   "source": [
    "## polars.Series.arr.max\n",
    "series_arr = pl.Series(\"Array\", [[2, 3, 4], [5, 3, 7], [8, 9,10]], dtype=pl.Array(pl.Int64, 3))\n",
    "series_arr.arr.max()"
   ]
  },
  {
   "cell_type": "code",
   "execution_count": 89,
   "id": "1b6404f1-0e9f-47b9-a135-42d68e74c27d",
   "metadata": {},
   "outputs": [
    {
     "data": {
      "text/plain": [
       "[[2, 3, 4], [5, 3, 7], [8, 9, 10]]"
      ]
     },
     "execution_count": 89,
     "metadata": {},
     "output_type": "execute_result"
    }
   ],
   "source": [
    "# polars.Series.arr.to_list\n",
    "series_arr.to_list()"
   ]
  },
  {
   "cell_type": "code",
   "execution_count": 90,
   "id": "df247a73-91fb-4e01-a01a-8e0fb64fa944",
   "metadata": {},
   "outputs": [
    {
     "data": {
      "text/html": [
       "<div><style>\n",
       ".dataframe > thead > tr,\n",
       ".dataframe > tbody > tr {\n",
       "  text-align: right;\n",
       "  white-space: pre-wrap;\n",
       "}\n",
       "</style>\n",
       "<small>shape: (3,)</small><table border=\"1\" class=\"dataframe\"><thead><tr><th>Array</th></tr><tr><td>list[i64]</td></tr></thead><tbody><tr><td>[2, 3, 4]</td></tr><tr><td>[3, 5, 7]</td></tr><tr><td>[8, 9, 10]</td></tr></tbody></table></div>"
      ],
      "text/plain": [
       "shape: (3,)\n",
       "Series: 'Array' [list[i64]]\n",
       "[\n",
       "\t[2, 3, 4]\n",
       "\t[3, 5, 7]\n",
       "\t[8, 9, 10]\n",
       "]"
      ]
     },
     "execution_count": 90,
     "metadata": {},
     "output_type": "execute_result"
    }
   ],
   "source": [
    "# polars.Series.arr.unique\n",
    "series_arr.arr.unique()"
   ]
  },
  {
   "cell_type": "code",
   "execution_count": 91,
   "id": "1086a750-b406-43ce-9fbd-3b80b465ed05",
   "metadata": {},
   "outputs": [
    {
     "data": {
      "text/html": [
       "<div><style>\n",
       ".dataframe > thead > tr,\n",
       ".dataframe > tbody > tr {\n",
       "  text-align: right;\n",
       "  white-space: pre-wrap;\n",
       "}\n",
       "</style>\n",
       "<small>shape: (3,)</small><table border=\"1\" class=\"dataframe\"><thead><tr><th>Array</th></tr><tr><td>u32</td></tr></thead><tbody><tr><td>3</td></tr><tr><td>3</td></tr><tr><td>3</td></tr></tbody></table></div>"
      ],
      "text/plain": [
       "shape: (3,)\n",
       "Series: 'Array' [u32]\n",
       "[\n",
       "\t3\n",
       "\t3\n",
       "\t3\n",
       "]"
      ]
     },
     "execution_count": 91,
     "metadata": {},
     "output_type": "execute_result"
    }
   ],
   "source": [
    "# polars.Series.arr.n_unique\n",
    "series_arr.arr.n_unique()"
   ]
  },
  {
   "cell_type": "code",
   "execution_count": 93,
   "id": "b38be385-c43d-433a-a1cd-808403a0e941",
   "metadata": {},
   "outputs": [
    {
     "data": {
      "text/html": [
       "<div><style>\n",
       ".dataframe > thead > tr,\n",
       ".dataframe > tbody > tr {\n",
       "  text-align: right;\n",
       "  white-space: pre-wrap;\n",
       "}\n",
       "</style>\n",
       "<small>shape: (3,)</small><table border=\"1\" class=\"dataframe\"><thead><tr><th>Array</th></tr><tr><td>array[i64, 3]</td></tr></thead><tbody><tr><td>[4, 3, 2]</td></tr><tr><td>[7, 5, 3]</td></tr><tr><td>[10, 9, 8]</td></tr></tbody></table></div>"
      ],
      "text/plain": [
       "shape: (3,)\n",
       "Series: 'Array' [array[i64, 3]]\n",
       "[\n",
       "\t[4, 3, 2]\n",
       "\t[7, 5, 3]\n",
       "\t[10, 9, 8]\n",
       "]"
      ]
     },
     "execution_count": 93,
     "metadata": {},
     "output_type": "execute_result"
    }
   ],
   "source": [
    "# polars.Series.arr.sort\n",
    "\n",
    "series_arr.arr.sort(descending=True)"
   ]
  },
  {
   "cell_type": "code",
   "execution_count": 94,
   "id": "26f3417f-af07-4c6d-86b7-24fc5027070e",
   "metadata": {},
   "outputs": [
    {
     "data": {
      "text/html": [
       "<div><style>\n",
       ".dataframe > thead > tr,\n",
       ".dataframe > tbody > tr {\n",
       "  text-align: right;\n",
       "  white-space: pre-wrap;\n",
       "}\n",
       "</style>\n",
       "<small>shape: (3,)</small><table border=\"1\" class=\"dataframe\"><thead><tr><th>Array</th></tr><tr><td>i64</td></tr></thead><tbody><tr><td>2</td></tr><tr><td>5</td></tr><tr><td>8</td></tr></tbody></table></div>"
      ],
      "text/plain": [
       "shape: (3,)\n",
       "Series: 'Array' [i64]\n",
       "[\n",
       "\t2\n",
       "\t5\n",
       "\t8\n",
       "]"
      ]
     },
     "execution_count": 94,
     "metadata": {},
     "output_type": "execute_result"
    }
   ],
   "source": [
    "# polars.Series.arr.first\n",
    "\n",
    "series_arr.arr.first()"
   ]
  },
  {
   "cell_type": "code",
   "execution_count": 95,
   "id": "275a2df6-c5db-4390-a111-84a546addde4",
   "metadata": {},
   "outputs": [
    {
     "data": {
      "text/html": [
       "<div><style>\n",
       ".dataframe > thead > tr,\n",
       ".dataframe > tbody > tr {\n",
       "  text-align: right;\n",
       "  white-space: pre-wrap;\n",
       "}\n",
       "</style>\n",
       "<small>shape: (9,)</small><table border=\"1\" class=\"dataframe\"><thead><tr><th>Array</th></tr><tr><td>i64</td></tr></thead><tbody><tr><td>2</td></tr><tr><td>3</td></tr><tr><td>4</td></tr><tr><td>5</td></tr><tr><td>3</td></tr><tr><td>7</td></tr><tr><td>8</td></tr><tr><td>9</td></tr><tr><td>10</td></tr></tbody></table></div>"
      ],
      "text/plain": [
       "shape: (9,)\n",
       "Series: 'Array' [i64]\n",
       "[\n",
       "\t2\n",
       "\t3\n",
       "\t4\n",
       "\t5\n",
       "\t3\n",
       "\t7\n",
       "\t8\n",
       "\t9\n",
       "\t10\n",
       "]"
      ]
     },
     "execution_count": 95,
     "metadata": {},
     "output_type": "execute_result"
    }
   ],
   "source": [
    "# polars.Series.arr.explode\n",
    "\n",
    "series_arr.arr.explode()"
   ]
  },
  {
   "cell_type": "code",
   "execution_count": 96,
   "id": "c5db769b-93cc-4d0a-8614-d0753edbd3fb",
   "metadata": {},
   "outputs": [
    {
     "data": {
      "text/html": [
       "<div><style>\n",
       ".dataframe > thead > tr,\n",
       ".dataframe > tbody > tr {\n",
       "  text-align: right;\n",
       "  white-space: pre-wrap;\n",
       "}\n",
       "</style>\n",
       "<small>shape: (3,)</small><table border=\"1\" class=\"dataframe\"><thead><tr><th>Array</th></tr><tr><td>bool</td></tr></thead><tbody><tr><td>true</td></tr><tr><td>true</td></tr><tr><td>false</td></tr></tbody></table></div>"
      ],
      "text/plain": [
       "shape: (3,)\n",
       "Series: 'Array' [bool]\n",
       "[\n",
       "\ttrue\n",
       "\ttrue\n",
       "\tfalse\n",
       "]"
      ]
     },
     "execution_count": 96,
     "metadata": {},
     "output_type": "execute_result"
    }
   ],
   "source": [
    "# polars.Series.arr.contains\n",
    "\n",
    "series_arr.arr.contains(3)"
   ]
  },
  {
   "cell_type": "markdown",
   "id": "647a1fed-1eda-4919-879a-b38538a9e0a2",
   "metadata": {},
   "source": [
    "# Aggregation Methods  "
   ]
  },
  {
   "cell_type": "code",
   "execution_count": 97,
   "id": "7df34b86-0d15-4a66-a4d0-4139d10a0668",
   "metadata": {},
   "outputs": [],
   "source": [
    "series1  = insurance_df[\"Annual_Premium\"]"
   ]
  },
  {
   "cell_type": "code",
   "execution_count": 98,
   "id": "958215ec-0f6d-4b7f-a9a6-456c6ea4ecb3",
   "metadata": {},
   "outputs": [
    {
     "data": {
      "text/plain": [
       "3"
      ]
     },
     "execution_count": 98,
     "metadata": {},
     "output_type": "execute_result"
    }
   ],
   "source": [
    "# polars.Series.arg_min\n",
    "series1.arg_min()"
   ]
  },
  {
   "cell_type": "code",
   "execution_count": 99,
   "id": "37945108-ea97-4d1e-aba1-e74b3e02bc90",
   "metadata": {},
   "outputs": [
    {
     "data": {
      "text/plain": [
       "586353"
      ]
     },
     "execution_count": 99,
     "metadata": {},
     "output_type": "execute_result"
    }
   ],
   "source": [
    "# polars.Series.arg_max\n",
    "series1.arg_max()"
   ]
  },
  {
   "cell_type": "code",
   "execution_count": 100,
   "id": "21c6ab72-d323-425f-a3d5-79d1f729c95a",
   "metadata": {},
   "outputs": [
    {
     "data": {
      "text/plain": [
       "540165.0"
      ]
     },
     "execution_count": 100,
     "metadata": {},
     "output_type": "execute_result"
    }
   ],
   "source": [
    "# polars.Series.max\n",
    "series1.max()"
   ]
  },
  {
   "cell_type": "code",
   "execution_count": 101,
   "id": "f835445e-11dd-4749-9de3-42ddc2d41f3e",
   "metadata": {},
   "outputs": [
    {
     "data": {
      "text/plain": [
       "30461.370410588694"
      ]
     },
     "execution_count": 101,
     "metadata": {},
     "output_type": "execute_result"
    }
   ],
   "source": [
    "# polars.Series.mean\n",
    "series1.mean()"
   ]
  },
  {
   "cell_type": "code",
   "execution_count": 102,
   "id": "9191b6f0-6482-48ef-bd26-be03d1a7a8d0",
   "metadata": {},
   "outputs": [
    {
     "data": {
      "text/plain": [
       "31824.0"
      ]
     },
     "execution_count": 102,
     "metadata": {},
     "output_type": "execute_result"
    }
   ],
   "source": [
    "# polars.Series.median\n",
    "series1.median()"
   ]
  },
  {
   "cell_type": "code",
   "execution_count": 103,
   "id": "a76eaa63-d17e-457c-9c60-67c96d434e05",
   "metadata": {},
   "outputs": [
    {
     "data": {
      "text/plain": [
       "2630.0"
      ]
     },
     "execution_count": 103,
     "metadata": {},
     "output_type": "execute_result"
    }
   ],
   "source": [
    "# polars.Series.min\n",
    "series1.min()"
   ]
  },
  {
   "cell_type": "code",
   "execution_count": 104,
   "id": "5414db74-35a2-42ab-9bc6-2c57dfeb4498",
   "metadata": {},
   "outputs": [
    {
     "data": {
      "text/html": [
       "<div><style>\n",
       ".dataframe > thead > tr,\n",
       ".dataframe > tbody > tr {\n",
       "  text-align: right;\n",
       "  white-space: pre-wrap;\n",
       "}\n",
       "</style>\n",
       "<small>shape: (1,)</small><table border=\"1\" class=\"dataframe\"><thead><tr><th>Annual_Premium</th></tr><tr><td>f64</td></tr></thead><tbody><tr><td>2630.0</td></tr></tbody></table></div>"
      ],
      "text/plain": [
       "shape: (1,)\n",
       "Series: 'Annual_Premium' [f64]\n",
       "[\n",
       "\t2630.0\n",
       "]"
      ]
     },
     "execution_count": 104,
     "metadata": {},
     "output_type": "execute_result"
    }
   ],
   "source": [
    "# polars.Series.mode\n",
    "series1.mode()"
   ]
  },
  {
   "cell_type": "code",
   "execution_count": 108,
   "id": "7cb33b36-ce73-45a2-8aec-10cef2b0e9c4",
   "metadata": {},
   "outputs": [
    {
     "data": {
      "text/plain": [
       "31824.0"
      ]
     },
     "execution_count": 108,
     "metadata": {},
     "output_type": "execute_result"
    }
   ],
   "source": [
    "# polars.Series.quantile\n",
    "series1.quantile(0.5)"
   ]
  },
  {
   "cell_type": "code",
   "execution_count": 109,
   "id": "c0981dbc-d8a9-4ebf-8bd2-bae0d4823528",
   "metadata": {},
   "outputs": [
    {
     "data": {
      "text/plain": [
       "16454.745205061357"
      ]
     },
     "execution_count": 109,
     "metadata": {},
     "output_type": "execute_result"
    }
   ],
   "source": [
    "# polars.Series.std\n",
    "series1.std()"
   ]
  },
  {
   "cell_type": "code",
   "execution_count": 110,
   "id": "4abe5e54-5af6-4b47-8169-9364fe0d80c7",
   "metadata": {},
   "outputs": [
    {
     "data": {
      "text/plain": [
       "350451913377.0"
      ]
     },
     "execution_count": 110,
     "metadata": {},
     "output_type": "execute_result"
    }
   ],
   "source": [
    "# polars.Series.sum\n",
    "series1.sum()"
   ]
  },
  {
   "cell_type": "code",
   "execution_count": 111,
   "id": "c5fe8e51-f402-4fb0-904b-dea77270ef66",
   "metadata": {},
   "outputs": [
    {
     "data": {
      "text/plain": [
       "270758639.7634897"
      ]
     },
     "execution_count": 111,
     "metadata": {},
     "output_type": "execute_result"
    }
   ],
   "source": [
    "# polars.Series.var\n",
    "series1.var()"
   ]
  },
  {
   "cell_type": "markdown",
   "id": "929ae5ee-f93b-4148-be29-7f0be5d2623d",
   "metadata": {},
   "source": [
    "# Manipulation/Selection"
   ]
  },
  {
   "cell_type": "code",
   "execution_count": 112,
   "id": "0b166de6-d9b7-4fc9-a8ad-1b4b90cd91ea",
   "metadata": {},
   "outputs": [
    {
     "data": {
      "text/html": [
       "<div><style>\n",
       ".dataframe > thead > tr,\n",
       ".dataframe > tbody > tr {\n",
       "  text-align: right;\n",
       "  white-space: pre-wrap;\n",
       "}\n",
       "</style>\n",
       "<small>shape: (11_504_798,)</small><table border=\"1\" class=\"dataframe\"><thead><tr><th>Premium</th></tr><tr><td>f64</td></tr></thead><tbody><tr><td>65101.0</td></tr><tr><td>58911.0</td></tr><tr><td>38043.0</td></tr><tr><td>2630.0</td></tr><tr><td>31951.0</td></tr><tr><td>&hellip;</td></tr><tr><td>27412.0</td></tr><tr><td>29509.0</td></tr><tr><td>2630.0</td></tr><tr><td>48443.0</td></tr><tr><td>32855.0</td></tr></tbody></table></div>"
      ],
      "text/plain": [
       "shape: (11_504_798,)\n",
       "Series: 'Premium' [f64]\n",
       "[\n",
       "\t65101.0\n",
       "\t58911.0\n",
       "\t38043.0\n",
       "\t2630.0\n",
       "\t31951.0\n",
       "\t…\n",
       "\t27412.0\n",
       "\t29509.0\n",
       "\t2630.0\n",
       "\t48443.0\n",
       "\t32855.0\n",
       "]"
      ]
     },
     "execution_count": 112,
     "metadata": {},
     "output_type": "execute_result"
    }
   ],
   "source": [
    "# polars.Series.alias\n",
    "\n",
    "series1.alias(\"Premium\")"
   ]
  },
  {
   "cell_type": "code",
   "execution_count": 113,
   "id": "c1f50db5-4f71-44f2-98db-35b2aa881957",
   "metadata": {},
   "outputs": [
    {
     "data": {
      "text/html": [
       "<div><style>\n",
       ".dataframe > thead > tr,\n",
       ".dataframe > tbody > tr {\n",
       "  text-align: right;\n",
       "  white-space: pre-wrap;\n",
       "}\n",
       "</style>\n",
       "<small>shape: (7,)</small><table border=\"1\" class=\"dataframe\"><thead><tr><th>countries</th></tr><tr><td>str</td></tr></thead><tbody><tr><td>&quot;India&quot;</td></tr><tr><td>&quot;Srilanka&quot;</td></tr><tr><td>&quot;Sudan&quot;</td></tr><tr><td>&quot;Germany&quot;</td></tr><tr><td>&quot;Australia&quot;</td></tr><tr><td>&quot;Pakistan&quot;</td></tr><tr><td>&quot;Norway&quot;</td></tr></tbody></table></div>"
      ],
      "text/plain": [
       "shape: (7,)\n",
       "Series: 'countries' [str]\n",
       "[\n",
       "\t\"India\"\n",
       "\t\"Srilanka\"\n",
       "\t\"Sudan\"\n",
       "\t\"Germany\"\n",
       "\t\"Australia\"\n",
       "\t\"Pakistan\"\n",
       "\t\"Norway\"\n",
       "]"
      ]
     },
     "execution_count": 113,
     "metadata": {},
     "output_type": "execute_result"
    }
   ],
   "source": [
    "# polars.Series.append\n",
    "\n",
    "s1 = pl.Series(\"countries\", [\"India\",\"Srilanka\",\"Sudan\",\"Germany\"])\n",
    "s2 = pl.Series(\"more_countries\",[\"Australia\",\"Pakistan\",\"Norway\"])\n",
    "s1.append(s2)"
   ]
  },
  {
   "cell_type": "code",
   "execution_count": 115,
   "id": "ab7fc02a-5483-43fe-b025-f64215ea3615",
   "metadata": {},
   "outputs": [
    {
     "data": {
      "text/html": [
       "<div><style>\n",
       ".dataframe > thead > tr,\n",
       ".dataframe > tbody > tr {\n",
       "  text-align: right;\n",
       "  white-space: pre-wrap;\n",
       "}\n",
       "</style>\n",
       "<small>shape: (0,)</small><table border=\"1\" class=\"dataframe\"><thead><tr><th>countries</th></tr><tr><td>str</td></tr></thead><tbody></tbody></table></div>"
      ],
      "text/plain": [
       "shape: (0,)\n",
       "Series: 'countries' [str]\n",
       "[\n",
       "]"
      ]
     },
     "execution_count": 115,
     "metadata": {},
     "output_type": "execute_result"
    }
   ],
   "source": [
    "# polars.Series.clear\n",
    "s1.clear()"
   ]
  },
  {
   "cell_type": "code",
   "execution_count": 123,
   "id": "987b330c-ce61-429f-971a-b8533b1a8e00",
   "metadata": {},
   "outputs": [
    {
     "name": "stdout",
     "output_type": "stream",
     "text": [
      "shape: (5,)\n",
      "Series: 'values' [i64]\n",
      "[\n",
      "\t6\n",
      "\t6\n",
      "\t10\n",
      "\t15\n",
      "\t18\n",
      "]\n"
     ]
    }
   ],
   "source": [
    "# polars.Series.clip\n",
    "\n",
    "series = pl.Series(\"values\", [1, 5, 10, 15, 20])\n",
    "clipped_series = series.clip(6,18)\n",
    "\n",
    "print(clipped_series)"
   ]
  },
  {
   "cell_type": "code",
   "execution_count": 124,
   "id": "7ac51195-cc37-4d50-94cc-839f0d0cbc01",
   "metadata": {},
   "outputs": [
    {
     "name": "stdout",
     "output_type": "stream",
     "text": [
      "shape: (5,)\n",
      "Series: 'values' [i64]\n",
      "[\n",
      "\t5\n",
      "\t5\n",
      "\t10\n",
      "\t15\n",
      "\t20\n",
      "]\n",
      "shape: (5,)\n",
      "Series: 'values' [i64]\n",
      "[\n",
      "\t1\n",
      "\t5\n",
      "\t10\n",
      "\t15\n",
      "\t15\n",
      "]\n"
     ]
    }
   ],
   "source": [
    "clipped_min_series = series.clip(lower_bound=5)\n",
    "clipped_max_series = series.clip(upper_bound=15)\n",
    "print(clipped_min_series)\n",
    "print(clipped_max_series) "
   ]
  },
  {
   "cell_type": "code",
   "execution_count": 126,
   "id": "3cac39bb-67ef-4294-8cdb-84a788911fc3",
   "metadata": {},
   "outputs": [
    {
     "data": {
      "text/html": [
       "<div><style>\n",
       ".dataframe > thead > tr,\n",
       ".dataframe > tbody > tr {\n",
       "  text-align: right;\n",
       "  white-space: pre-wrap;\n",
       "}\n",
       "</style>\n",
       "<small>shape: (11_504_798,)</small><table border=\"1\" class=\"dataframe\"><thead><tr><th>Annual_Premium</th></tr><tr><td>f64</td></tr></thead><tbody><tr><td>65101.0</td></tr><tr><td>58911.0</td></tr><tr><td>38043.0</td></tr><tr><td>2630.0</td></tr><tr><td>31951.0</td></tr><tr><td>&hellip;</td></tr><tr><td>27412.0</td></tr><tr><td>29509.0</td></tr><tr><td>2630.0</td></tr><tr><td>48443.0</td></tr><tr><td>32855.0</td></tr></tbody></table></div>"
      ],
      "text/plain": [
       "shape: (11_504_798,)\n",
       "Series: 'Annual_Premium' [f64]\n",
       "[\n",
       "\t65101.0\n",
       "\t58911.0\n",
       "\t38043.0\n",
       "\t2630.0\n",
       "\t31951.0\n",
       "\t…\n",
       "\t27412.0\n",
       "\t29509.0\n",
       "\t2630.0\n",
       "\t48443.0\n",
       "\t32855.0\n",
       "]"
      ]
     },
     "execution_count": 126,
     "metadata": {},
     "output_type": "execute_result"
    }
   ],
   "source": [
    "#polars.Series.clone\n",
    "series_clone = series1.clone()\n",
    "series_clone"
   ]
  },
  {
   "cell_type": "code",
   "execution_count": 128,
   "id": "5eaee2b7-0c09-4a8b-9ac9-d26dcc6de346",
   "metadata": {},
   "outputs": [
    {
     "data": {
      "text/html": [
       "<div><style>\n",
       ".dataframe > thead > tr,\n",
       ".dataframe > tbody > tr {\n",
       "  text-align: right;\n",
       "  white-space: pre-wrap;\n",
       "}\n",
       "</style>\n",
       "<small>shape: (9_392_188,)</small><table border=\"1\" class=\"dataframe\"><thead><tr><th>Annual_Premium</th></tr><tr><td>f64</td></tr></thead><tbody><tr><td>65101.0</td></tr><tr><td>58911.0</td></tr><tr><td>38043.0</td></tr><tr><td>31951.0</td></tr><tr><td>28150.0</td></tr><tr><td>&hellip;</td></tr><tr><td>29974.0</td></tr><tr><td>27412.0</td></tr><tr><td>29509.0</td></tr><tr><td>48443.0</td></tr><tr><td>32855.0</td></tr></tbody></table></div>"
      ],
      "text/plain": [
       "shape: (9_392_188,)\n",
       "Series: 'Annual_Premium' [f64]\n",
       "[\n",
       "\t65101.0\n",
       "\t58911.0\n",
       "\t38043.0\n",
       "\t31951.0\n",
       "\t28150.0\n",
       "\t…\n",
       "\t29974.0\n",
       "\t27412.0\n",
       "\t29509.0\n",
       "\t48443.0\n",
       "\t32855.0\n",
       "]"
      ]
     },
     "execution_count": 128,
     "metadata": {},
     "output_type": "execute_result"
    }
   ],
   "source": [
    "# polars.Series.filter\n",
    "\n",
    "series1.filter(series1 > 3000)"
   ]
  },
  {
   "cell_type": "code",
   "execution_count": 131,
   "id": "42545f7d-81ce-4628-8c30-1e9e26b39a9b",
   "metadata": {},
   "outputs": [
    {
     "data": {
      "text/html": [
       "<div><style>\n",
       ".dataframe > thead > tr,\n",
       ".dataframe > tbody > tr {\n",
       "  text-align: right;\n",
       "  white-space: pre-wrap;\n",
       "}\n",
       "</style>\n",
       "<small>shape: (4,)</small><table border=\"1\" class=\"dataframe\"><thead><tr><th>a</th></tr><tr><td>f64</td></tr></thead><tbody><tr><td>1.0</td></tr><tr><td>2.0</td></tr><tr><td>3.0</td></tr><tr><td>4.0</td></tr></tbody></table></div>"
      ],
      "text/plain": [
       "shape: (4,)\n",
       "Series: 'a' [f64]\n",
       "[\n",
       "\t1.0\n",
       "\t2.0\n",
       "\t3.0\n",
       "\t4.0\n",
       "]"
      ]
     },
     "execution_count": 131,
     "metadata": {},
     "output_type": "execute_result"
    }
   ],
   "source": [
    "# polars.Series.floor\n",
    "s = pl.Series(\"a\", [1.12345, 2.56789, 3.901234,4.1567])\n",
    "s.floor()"
   ]
  },
  {
   "cell_type": "code",
   "execution_count": 132,
   "id": "9d2d4244-bb74-49ec-af45-fbde30d00828",
   "metadata": {},
   "outputs": [
    {
     "data": {
      "text/html": [
       "<div><style>\n",
       ".dataframe > thead > tr,\n",
       ".dataframe > tbody > tr {\n",
       "  text-align: right;\n",
       "  white-space: pre-wrap;\n",
       "}\n",
       "</style>\n",
       "<small>shape: (2,)</small><table border=\"1\" class=\"dataframe\"><thead><tr><th>a</th></tr><tr><td>f64</td></tr></thead><tbody><tr><td>2.56789</td></tr><tr><td>4.1567</td></tr></tbody></table></div>"
      ],
      "text/plain": [
       "shape: (2,)\n",
       "Series: 'a' [f64]\n",
       "[\n",
       "\t2.56789\n",
       "\t4.1567\n",
       "]"
      ]
     },
     "execution_count": 132,
     "metadata": {},
     "output_type": "execute_result"
    }
   ],
   "source": [
    "# polars.Series.gather\n",
    "\n",
    "s.gather([1,3])"
   ]
  },
  {
   "cell_type": "code",
   "execution_count": 137,
   "id": "7d7ff6c1-3312-47e7-b002-8217c3ebf8a2",
   "metadata": {},
   "outputs": [
    {
     "name": "stdout",
     "output_type": "stream",
     "text": [
      "shape: (3,)\n",
      "Series: 'values' [array[i64, 3]]\n",
      "[\n",
      "\t[0, 1, 2]\n",
      "\t[3, 4, 5]\n",
      "\t[6, 7, 8]\n",
      "]\n"
     ]
    }
   ],
   "source": [
    "# polars.Series.reshape\n",
    "\n",
    "series = pl.Series(\"values\", list(range(9)))\n",
    "reshaped_series = series.reshape((3, 3))\n",
    "print(reshaped_series)"
   ]
  },
  {
   "cell_type": "code",
   "execution_count": 138,
   "id": "5136edc7-598d-4193-ac5b-f07d8fd05f32",
   "metadata": {},
   "outputs": [
    {
     "data": {
      "text/html": [
       "<div><style>\n",
       ".dataframe > thead > tr,\n",
       ".dataframe > tbody > tr {\n",
       "  text-align: right;\n",
       "  white-space: pre-wrap;\n",
       "}\n",
       "</style>\n",
       "<small>shape: (11_504_798,)</small><table border=\"1\" class=\"dataframe\"><thead><tr><th>Annual_Premium</th></tr><tr><td>f64</td></tr></thead><tbody><tr><td>29390.0</td></tr><tr><td>36263.0</td></tr><tr><td>31389.0</td></tr><tr><td>32863.0</td></tr><tr><td>25166.0</td></tr><tr><td>&hellip;</td></tr><tr><td>29057.0</td></tr><tr><td>34709.0</td></tr><tr><td>31904.0</td></tr><tr><td>37223.0</td></tr><tr><td>27894.0</td></tr></tbody></table></div>"
      ],
      "text/plain": [
       "shape: (11_504_798,)\n",
       "Series: 'Annual_Premium' [f64]\n",
       "[\n",
       "\t29390.0\n",
       "\t36263.0\n",
       "\t31389.0\n",
       "\t32863.0\n",
       "\t25166.0\n",
       "\t…\n",
       "\t29057.0\n",
       "\t34709.0\n",
       "\t31904.0\n",
       "\t37223.0\n",
       "\t27894.0\n",
       "]"
      ]
     },
     "execution_count": 138,
     "metadata": {},
     "output_type": "execute_result"
    }
   ],
   "source": [
    "#polars.Series.shuffle\n",
    "\n",
    "series1.shuffle()"
   ]
  },
  {
   "cell_type": "code",
   "execution_count": 141,
   "id": "7bf33d61-5737-49eb-8070-2b5e1e93d043",
   "metadata": {},
   "outputs": [
    {
     "data": {
      "text/html": [
       "<div><style>\n",
       ".dataframe > thead > tr,\n",
       ".dataframe > tbody > tr {\n",
       "  text-align: right;\n",
       "  white-space: pre-wrap;\n",
       "}\n",
       "</style>\n",
       "<small>shape: (11_504_798, 2)</small><table border=\"1\" class=\"dataframe\"><thead><tr><th>Gender_Female</th><th>Gender_Male</th></tr><tr><td>u8</td><td>u8</td></tr></thead><tbody><tr><td>0</td><td>1</td></tr><tr><td>0</td><td>1</td></tr><tr><td>1</td><td>0</td></tr><tr><td>1</td><td>0</td></tr><tr><td>1</td><td>0</td></tr><tr><td>&hellip;</td><td>&hellip;</td></tr><tr><td>0</td><td>1</td></tr><tr><td>1</td><td>0</td></tr><tr><td>1</td><td>0</td></tr><tr><td>1</td><td>0</td></tr><tr><td>0</td><td>1</td></tr></tbody></table></div>"
      ],
      "text/plain": [
       "shape: (11_504_798, 2)\n",
       "┌───────────────┬─────────────┐\n",
       "│ Gender_Female ┆ Gender_Male │\n",
       "│ ---           ┆ ---         │\n",
       "│ u8            ┆ u8          │\n",
       "╞═══════════════╪═════════════╡\n",
       "│ 0             ┆ 1           │\n",
       "│ 0             ┆ 1           │\n",
       "│ 1             ┆ 0           │\n",
       "│ 1             ┆ 0           │\n",
       "│ 1             ┆ 0           │\n",
       "│ …             ┆ …           │\n",
       "│ 0             ┆ 1           │\n",
       "│ 1             ┆ 0           │\n",
       "│ 1             ┆ 0           │\n",
       "│ 1             ┆ 0           │\n",
       "│ 0             ┆ 1           │\n",
       "└───────────────┴─────────────┘"
      ]
     },
     "execution_count": 141,
     "metadata": {},
     "output_type": "execute_result"
    }
   ],
   "source": [
    "# polars.Series.to_dummies\n",
    "series2.to_dummies()"
   ]
  },
  {
   "cell_type": "code",
   "execution_count": 142,
   "id": "114c00ff-b5db-41f7-84a8-a98bf5baf1e1",
   "metadata": {},
   "outputs": [
    {
     "data": {
      "text/html": [
       "<div><style>\n",
       ".dataframe > thead > tr,\n",
       ".dataframe > tbody > tr {\n",
       "  text-align: right;\n",
       "  white-space: pre-wrap;\n",
       "}\n",
       "</style>\n",
       "<small>shape: (2,)</small><table border=\"1\" class=\"dataframe\"><thead><tr><th>Gender</th></tr><tr><td>str</td></tr></thead><tbody><tr><td>&quot;Female&quot;</td></tr><tr><td>&quot;Male&quot;</td></tr></tbody></table></div>"
      ],
      "text/plain": [
       "shape: (2,)\n",
       "Series: 'Gender' [str]\n",
       "[\n",
       "\t\"Female\"\n",
       "\t\"Male\"\n",
       "]"
      ]
     },
     "execution_count": 142,
     "metadata": {},
     "output_type": "execute_result"
    }
   ],
   "source": [
    "# polars.Series.unique\n",
    "series2.unique().sort()"
   ]
  },
  {
   "cell_type": "code",
   "execution_count": 143,
   "id": "9d60bcfd-9ccb-443e-9a50-5dc2bc25f290",
   "metadata": {},
   "outputs": [
    {
     "data": {
      "text/html": [
       "<div><style>\n",
       ".dataframe > thead > tr,\n",
       ".dataframe > tbody > tr {\n",
       "  text-align: right;\n",
       "  white-space: pre-wrap;\n",
       "}\n",
       "</style>\n",
       "<small>shape: (11_504_798,)</small><table border=\"1\" class=\"dataframe\"><thead><tr><th>Annual_Premium</th></tr><tr><td>f64</td></tr></thead><tbody><tr><td>65101.0</td></tr><tr><td>58911.0</td></tr><tr><td>38043.0</td></tr><tr><td>2630.0</td></tr><tr><td>31951.0</td></tr><tr><td>&hellip;</td></tr><tr><td>27412.0</td></tr><tr><td>29509.0</td></tr><tr><td>2630.0</td></tr><tr><td>48443.0</td></tr><tr><td>32855.0</td></tr></tbody></table></div>"
      ],
      "text/plain": [
       "shape: (11_504_798,)\n",
       "Series: 'Annual_Premium' [f64]\n",
       "[\n",
       "\t65101.0\n",
       "\t58911.0\n",
       "\t38043.0\n",
       "\t2630.0\n",
       "\t31951.0\n",
       "\t…\n",
       "\t27412.0\n",
       "\t29509.0\n",
       "\t2630.0\n",
       "\t48443.0\n",
       "\t32855.0\n",
       "]"
      ]
     },
     "execution_count": 143,
     "metadata": {},
     "output_type": "execute_result"
    }
   ],
   "source": [
    "# polars.Series.drop_nulls\n",
    "\n",
    "series1.drop_nulls()"
   ]
  },
  {
   "cell_type": "code",
   "execution_count": 144,
   "id": "7ce47773-cd4b-4f9a-9bc6-1457cea8aeec",
   "metadata": {},
   "outputs": [
    {
     "data": {
      "text/html": [
       "<div><style>\n",
       ".dataframe > thead > tr,\n",
       ".dataframe > tbody > tr {\n",
       "  text-align: right;\n",
       "  white-space: pre-wrap;\n",
       "}\n",
       "</style>\n",
       "<small>shape: (11_504_798,)</small><table border=\"1\" class=\"dataframe\"><thead><tr><th>Annual_Premium</th></tr><tr><td>f64</td></tr></thead><tbody><tr><td>65101.0</td></tr><tr><td>58911.0</td></tr><tr><td>38043.0</td></tr><tr><td>2630.0</td></tr><tr><td>31951.0</td></tr><tr><td>&hellip;</td></tr><tr><td>27412.0</td></tr><tr><td>29509.0</td></tr><tr><td>2630.0</td></tr><tr><td>48443.0</td></tr><tr><td>32855.0</td></tr></tbody></table></div>"
      ],
      "text/plain": [
       "shape: (11_504_798,)\n",
       "Series: 'Annual_Premium' [f64]\n",
       "[\n",
       "\t65101.0\n",
       "\t58911.0\n",
       "\t38043.0\n",
       "\t2630.0\n",
       "\t31951.0\n",
       "\t…\n",
       "\t27412.0\n",
       "\t29509.0\n",
       "\t2630.0\n",
       "\t48443.0\n",
       "\t32855.0\n",
       "]"
      ]
     },
     "execution_count": 144,
     "metadata": {},
     "output_type": "execute_result"
    }
   ],
   "source": [
    "# polars.Series.drop_nans\n",
    "\n",
    "series1.drop_nans()"
   ]
  },
  {
   "cell_type": "markdown",
   "id": "83e0a08f-2bcd-4436-b639-ad2ed89f1572",
   "metadata": {},
   "source": [
    "# Miscellaneous "
   ]
  },
  {
   "cell_type": "code",
   "execution_count": 145,
   "id": "d9535459-96b7-4ff9-9873-6f11cbe1b528",
   "metadata": {},
   "outputs": [
    {
     "data": {
      "text/plain": [
       "True"
      ]
     },
     "execution_count": 145,
     "metadata": {},
     "output_type": "execute_result"
    }
   ],
   "source": [
    "# polars.Series.equals\n",
    "s1 = pl.Series(\"countries\", [\"India\",\"Srilanka\",\"Sudan\",\"Germany\"])\n",
    "s2 = pl.Series(\"more_countries\",[\"Australia\",\"Pakistan\",\"Norway\"])\n",
    "s3 = pl.Series(\"countries\", [\"India\",\"Srilanka\",\"Sudan\",\"Germany\"])\n",
    "\n",
    "s1.equals(s3)"
   ]
  },
  {
   "cell_type": "code",
   "execution_count": 146,
   "id": "651b8fde-a278-45b2-b4be-9e6677b844d7",
   "metadata": {},
   "outputs": [
    {
     "data": {
      "text/plain": [
       "False"
      ]
     },
     "execution_count": 146,
     "metadata": {},
     "output_type": "execute_result"
    }
   ],
   "source": [
    "s1.equals(s2)"
   ]
  },
  {
   "cell_type": "code",
   "execution_count": 149,
   "id": "ce39a718-f923-4fb7-ad91-5e35d758baef",
   "metadata": {},
   "outputs": [
    {
     "name": "stderr",
     "output_type": "stream",
     "text": [
      "C:\\Users\\Saurav\\AppData\\Local\\Temp\\ipykernel_6872\\1276101618.py:6: PolarsInefficientMapWarning: \n",
      "Series.map_elements is significantly slower than the native series API.\n",
      "Only use if you absolutely CANNOT implement your logic otherwise.\n",
      "Replace this expression...\n",
      "  - srs.map_elements(square)\n",
      "with this one instead:\n",
      "  + s * s\n",
      "\n",
      "  squared_series = series.map_elements(square,return_dtype=pl.Int64)\n"
     ]
    },
    {
     "data": {
      "text/html": [
       "<div><style>\n",
       ".dataframe > thead > tr,\n",
       ".dataframe > tbody > tr {\n",
       "  text-align: right;\n",
       "  white-space: pre-wrap;\n",
       "}\n",
       "</style>\n",
       "<small>shape: (5,)</small><table border=\"1\" class=\"dataframe\"><thead><tr><th>numbers</th></tr><tr><td>i64</td></tr></thead><tbody><tr><td>1</td></tr><tr><td>4</td></tr><tr><td>9</td></tr><tr><td>16</td></tr><tr><td>25</td></tr></tbody></table></div>"
      ],
      "text/plain": [
       "shape: (5,)\n",
       "Series: 'numbers' [i64]\n",
       "[\n",
       "\t1\n",
       "\t4\n",
       "\t9\n",
       "\t16\n",
       "\t25\n",
       "]"
      ]
     },
     "execution_count": 149,
     "metadata": {},
     "output_type": "execute_result"
    }
   ],
   "source": [
    "# polars.Series.map_elements\n",
    "series = pl.Series(\"numbers\", [1, 2, 3, 4, 5])\n",
    "def square(x):\n",
    "    return x * x\n",
    "\n",
    "squared_series = series.map_elements(square,return_dtype=pl.Int64)\n",
    "squared_series"
   ]
  },
  {
   "cell_type": "code",
   "execution_count": 150,
   "id": "4946c152-2e63-4c1c-9979-12aa22390a3e",
   "metadata": {},
   "outputs": [
    {
     "data": {
      "text/plain": [
       "[shape: (1_458_252,)\n",
       " Series: 'Annual_Premium' [f64]\n",
       " [\n",
       " \t65101.0\n",
       " \t58911.0\n",
       " \t38043.0\n",
       " \t2630.0\n",
       " \t31951.0\n",
       " \t…\n",
       " \t2630.0\n",
       " \t2630.0\n",
       " \t2630.0\n",
       " \t48511.0\n",
       " \t2630.0\n",
       " ],\n",
       " shape: (1_438_979,)\n",
       " Series: 'Annual_Premium' [f64]\n",
       " [\n",
       " \t55976.0\n",
       " \t36289.0\n",
       " \t31821.0\n",
       " \t41823.0\n",
       " \t2630.0\n",
       " \t…\n",
       " \t51478.0\n",
       " \t27382.0\n",
       " \t33887.0\n",
       " \t28420.0\n",
       " \t28983.0\n",
       " ],\n",
       " shape: (1_438_940,)\n",
       " Series: 'Annual_Premium' [f64]\n",
       " [\n",
       " \t20447.0\n",
       " \t25949.0\n",
       " \t51512.0\n",
       " \t34347.0\n",
       " \t52388.0\n",
       " \t…\n",
       " \t47965.0\n",
       " \t34695.0\n",
       " \t2630.0\n",
       " \t32584.0\n",
       " \t57239.0\n",
       " ],\n",
       " shape: (1_438_982,)\n",
       " Series: 'Annual_Premium' [f64]\n",
       " [\n",
       " \t32111.0\n",
       " \t27658.0\n",
       " \t32965.0\n",
       " \t2630.0\n",
       " \t2630.0\n",
       " \t…\n",
       " \t39647.0\n",
       " \t29317.0\n",
       " \t43762.0\n",
       " \t24169.0\n",
       " \t27147.0\n",
       " ],\n",
       " shape: (1_438_972,)\n",
       " Series: 'Annual_Premium' [f64]\n",
       " [\n",
       " \t36141.0\n",
       " \t31831.0\n",
       " \t2630.0\n",
       " \t2630.0\n",
       " \t34122.0\n",
       " \t…\n",
       " \t27124.0\n",
       " \t23589.0\n",
       " \t2630.0\n",
       " \t26644.0\n",
       " \t46190.0\n",
       " ],\n",
       " shape: (1_438_921,)\n",
       " Series: 'Annual_Premium' [f64]\n",
       " [\n",
       " \t30061.0\n",
       " \t31565.0\n",
       " \t48409.0\n",
       " \t31939.0\n",
       " \t37492.0\n",
       " \t…\n",
       " \t44231.0\n",
       " \t32144.0\n",
       " \t2630.0\n",
       " \t45011.0\n",
       " \t2630.0\n",
       " ],\n",
       " shape: (1_437_357,)\n",
       " Series: 'Annual_Premium' [f64]\n",
       " [\n",
       " \t2630.0\n",
       " \t27169.0\n",
       " \t20657.0\n",
       " \t50316.0\n",
       " \t30455.0\n",
       " \t…\n",
       " \t2630.0\n",
       " \t56562.0\n",
       " \t45331.0\n",
       " \t2630.0\n",
       " \t2630.0\n",
       " ],\n",
       " shape: (1_414_395,)\n",
       " Series: 'Annual_Premium' [f64]\n",
       " [\n",
       " \t40297.0\n",
       " \t2630.0\n",
       " \t2630.0\n",
       " \t34144.0\n",
       " \t33448.0\n",
       " \t…\n",
       " \t27412.0\n",
       " \t29509.0\n",
       " \t2630.0\n",
       " \t48443.0\n",
       " \t32855.0\n",
       " ]]"
      ]
     },
     "execution_count": 150,
     "metadata": {},
     "output_type": "execute_result"
    }
   ],
   "source": [
    "# polars.Series.get_chunks\n",
    "\n",
    "series1.get_chunks()"
   ]
  },
  {
   "cell_type": "markdown",
   "id": "4abf915a-0f71-4aae-972d-1dea7988ce13",
   "metadata": {},
   "source": [
    "# Struct Methods"
   ]
  },
  {
   "cell_type": "code",
   "execution_count": null,
   "id": "b6ed321e-de49-431a-ab41-2e55253e2bc8",
   "metadata": {},
   "outputs": [],
   "source": [
    "# polars.Series.struct.field\n",
    "\n",
    "series = pl.Series(\"people\", [{\"name\": \"Alice\", \"age\": 30}, {\"name\": \"Bob\", \"age\": 25}])\n",
    "age_series = series.struct.field(\"name\")\n",
    "print(age_series)"
   ]
  },
  {
   "cell_type": "markdown",
   "id": "4c6d72a2-e515-4aa8-affe-c375ac8f4fd6",
   "metadata": {},
   "source": [
    "# polars.Series.struct.rename_fields\n",
    "series.struct.fields"
   ]
  },
  {
   "cell_type": "code",
   "execution_count": 155,
   "id": "79c2a6d1-bc04-4d20-b3ad-f52134043ff2",
   "metadata": {},
   "outputs": [
    {
     "data": {
      "text/html": [
       "<div><style>\n",
       ".dataframe > thead > tr,\n",
       ".dataframe > tbody > tr {\n",
       "  text-align: right;\n",
       "  white-space: pre-wrap;\n",
       "}\n",
       "</style>\n",
       "<small>shape: (2,)</small><table border=\"1\" class=\"dataframe\"><thead><tr><th>people</th></tr><tr><td>struct[2]</td></tr></thead><tbody><tr><td>{&quot;Alice&quot;,30}</td></tr><tr><td>{&quot;Bob&quot;,25}</td></tr></tbody></table></div>"
      ],
      "text/plain": [
       "shape: (2,)\n",
       "Series: 'people' [struct[2]]\n",
       "[\n",
       "\t{\"Alice\",30}\n",
       "\t{\"Bob\",25}\n",
       "]"
      ]
     },
     "execution_count": 155,
     "metadata": {},
     "output_type": "execute_result"
    }
   ],
   "source": [
    "series.struct.rename_fields([\"Name\", \"Experience\"])"
   ]
  },
  {
   "cell_type": "code",
   "execution_count": 156,
   "id": "4517b092-e6e5-48d7-8929-4de5903f0734",
   "metadata": {},
   "outputs": [
    {
     "data": {
      "text/plain": [
       "['name', 'age']"
      ]
     },
     "execution_count": 156,
     "metadata": {},
     "output_type": "execute_result"
    }
   ],
   "source": [
    "series.struct.fields"
   ]
  },
  {
   "cell_type": "code",
   "execution_count": 157,
   "id": "09b32aa3-5d5d-4936-9391-c7ded61bc080",
   "metadata": {},
   "outputs": [
    {
     "data": {
      "text/html": [
       "<div><style>\n",
       ".dataframe > thead > tr,\n",
       ".dataframe > tbody > tr {\n",
       "  text-align: right;\n",
       "  white-space: pre-wrap;\n",
       "}\n",
       "</style>\n",
       "<small>shape: (2, 2)</small><table border=\"1\" class=\"dataframe\"><thead><tr><th>name</th><th>age</th></tr><tr><td>str</td><td>i64</td></tr></thead><tbody><tr><td>&quot;Alice&quot;</td><td>30</td></tr><tr><td>&quot;Bob&quot;</td><td>25</td></tr></tbody></table></div>"
      ],
      "text/plain": [
       "shape: (2, 2)\n",
       "┌───────┬─────┐\n",
       "│ name  ┆ age │\n",
       "│ ---   ┆ --- │\n",
       "│ str   ┆ i64 │\n",
       "╞═══════╪═════╡\n",
       "│ Alice ┆ 30  │\n",
       "│ Bob   ┆ 25  │\n",
       "└───────┴─────┘"
      ]
     },
     "execution_count": 157,
     "metadata": {},
     "output_type": "execute_result"
    }
   ],
   "source": [
    "# polars.Series.struct.unnest\n",
    "\n",
    "series.struct.unnest()\n"
   ]
  },
  {
   "cell_type": "markdown",
   "id": "7e2f90c0-b383-430f-b0b8-0209398b3215",
   "metadata": {},
   "source": [
    "# Temporal Functions "
   ]
  },
  {
   "cell_type": "code",
   "execution_count": null,
   "id": "a9d2cf0e-de58-4b5e-905d-6c2d03a410d6",
   "metadata": {},
   "outputs": [],
   "source": [
    "datetime_series = pl.Series(\"datetime_column\", [\n",
    "    \"2024-03-01 12:34:40\",\n",
    "    \"2024-04-02 15:20:30\",\n",
    "    \"2024-05-03 09:15:45\"\n",
    "])\n",
    "datetime_series = datetime_series.str.strptime(pl.Datetime, \"%Y-%m-%d %H:%M:%S\")"
   ]
  },
  {
   "cell_type": "code",
   "execution_count": 158,
   "id": "3f98953a-93f2-4fdb-b384-fa1dbf2ccc99",
   "metadata": {},
   "outputs": [
    {
     "name": "stdout",
     "output_type": "stream",
     "text": [
      "shape: (3,)\n",
      "Series: 'datetime_column' [date]\n",
      "[\n",
      "\t2024-03-01\n",
      "\t2024-04-02\n",
      "\t2024-05-03\n",
      "]\n"
     ]
    }
   ],
   "source": [
    "# polars.Series.dt.date\n",
    "date_series = datetime_series.dt.date()\n",
    "print(date_series)"
   ]
  },
  {
   "cell_type": "code",
   "execution_count": 159,
   "id": "3cf4aa8e-5548-4965-9e1c-73531fa04f12",
   "metadata": {},
   "outputs": [
    {
     "name": "stderr",
     "output_type": "stream",
     "text": [
      "C:\\Users\\Saurav\\AppData\\Local\\Temp\\ipykernel_6872\\3032413238.py:3: DeprecationWarning: `ExprDateTimeNameSpace.datetime` is deprecated. Use `dt.replace_time_zone(None)` instead.\n",
      "  datetime_series.dt.datetime()\n"
     ]
    },
    {
     "data": {
      "text/html": [
       "<div><style>\n",
       ".dataframe > thead > tr,\n",
       ".dataframe > tbody > tr {\n",
       "  text-align: right;\n",
       "  white-space: pre-wrap;\n",
       "}\n",
       "</style>\n",
       "<small>shape: (3,)</small><table border=\"1\" class=\"dataframe\"><thead><tr><th>datetime_column</th></tr><tr><td>datetime[μs]</td></tr></thead><tbody><tr><td>2024-03-01 12:34:40</td></tr><tr><td>2024-04-02 15:20:30</td></tr><tr><td>2024-05-03 09:15:45</td></tr></tbody></table></div>"
      ],
      "text/plain": [
       "shape: (3,)\n",
       "Series: 'datetime_column' [datetime[μs]]\n",
       "[\n",
       "\t2024-03-01 12:34:40\n",
       "\t2024-04-02 15:20:30\n",
       "\t2024-05-03 09:15:45\n",
       "]"
      ]
     },
     "execution_count": 159,
     "metadata": {},
     "output_type": "execute_result"
    }
   ],
   "source": [
    "# polars.Series.dt.datetime\n",
    "\n",
    "datetime_series.dt.datetime()"
   ]
  },
  {
   "cell_type": "code",
   "execution_count": 160,
   "id": "f5e55460-df68-46e3-82b3-7bd5dc3b199e",
   "metadata": {},
   "outputs": [
    {
     "data": {
      "text/html": [
       "<div><style>\n",
       ".dataframe > thead > tr,\n",
       ".dataframe > tbody > tr {\n",
       "  text-align: right;\n",
       "  white-space: pre-wrap;\n",
       "}\n",
       "</style>\n",
       "<small>shape: (3,)</small><table border=\"1\" class=\"dataframe\"><thead><tr><th>datetime_column</th></tr><tr><td>i8</td></tr></thead><tbody><tr><td>1</td></tr><tr><td>2</td></tr><tr><td>3</td></tr></tbody></table></div>"
      ],
      "text/plain": [
       "shape: (3,)\n",
       "Series: 'datetime_column' [i8]\n",
       "[\n",
       "\t1\n",
       "\t2\n",
       "\t3\n",
       "]"
      ]
     },
     "execution_count": 160,
     "metadata": {},
     "output_type": "execute_result"
    }
   ],
   "source": [
    "# polars.Series.dt.day\n",
    "\n",
    "datetime_series.dt.day()"
   ]
  },
  {
   "cell_type": "code",
   "execution_count": 161,
   "id": "ed140907-9dab-46a1-aca4-3ed5ca6d5e50",
   "metadata": {},
   "outputs": [
    {
     "data": {
      "text/html": [
       "<div><style>\n",
       ".dataframe > thead > tr,\n",
       ".dataframe > tbody > tr {\n",
       "  text-align: right;\n",
       "  white-space: pre-wrap;\n",
       "}\n",
       "</style>\n",
       "<small>shape: (3,)</small><table border=\"1\" class=\"dataframe\"><thead><tr><th>datetime_column</th></tr><tr><td>i8</td></tr></thead><tbody><tr><td>12</td></tr><tr><td>15</td></tr><tr><td>9</td></tr></tbody></table></div>"
      ],
      "text/plain": [
       "shape: (3,)\n",
       "Series: 'datetime_column' [i8]\n",
       "[\n",
       "\t12\n",
       "\t15\n",
       "\t9\n",
       "]"
      ]
     },
     "execution_count": 161,
     "metadata": {},
     "output_type": "execute_result"
    }
   ],
   "source": [
    "# datetime_series.dt.hour\n",
    "\n",
    "datetime_series.dt.hour()"
   ]
  },
  {
   "cell_type": "code",
   "execution_count": 162,
   "id": "c84da10c-9524-4e47-8006-5b6b28e5558b",
   "metadata": {},
   "outputs": [
    {
     "data": {
      "text/html": [
       "<div><style>\n",
       ".dataframe > thead > tr,\n",
       ".dataframe > tbody > tr {\n",
       "  text-align: right;\n",
       "  white-space: pre-wrap;\n",
       "}\n",
       "</style>\n",
       "<small>shape: (3,)</small><table border=\"1\" class=\"dataframe\"><thead><tr><th>datetime_column</th></tr><tr><td>time</td></tr></thead><tbody><tr><td>12:34:40</td></tr><tr><td>15:20:30</td></tr><tr><td>09:15:45</td></tr></tbody></table></div>"
      ],
      "text/plain": [
       "shape: (3,)\n",
       "Series: 'datetime_column' [time]\n",
       "[\n",
       "\t12:34:40\n",
       "\t15:20:30\n",
       "\t09:15:45\n",
       "]"
      ]
     },
     "execution_count": 162,
     "metadata": {},
     "output_type": "execute_result"
    }
   ],
   "source": [
    "# polars.Series.dt.time\n",
    "\n",
    "datetime_series.dt.time()"
   ]
  },
  {
   "cell_type": "code",
   "execution_count": 163,
   "id": "28f175e3-d545-4d5a-8daa-fe1213a0e6cb",
   "metadata": {},
   "outputs": [
    {
     "data": {
      "text/html": [
       "<div><style>\n",
       ".dataframe > thead > tr,\n",
       ".dataframe > tbody > tr {\n",
       "  text-align: right;\n",
       "  white-space: pre-wrap;\n",
       "}\n",
       "</style>\n",
       "<small>shape: (3,)</small><table border=\"1\" class=\"dataframe\"><thead><tr><th>datetime_column</th></tr><tr><td>i64</td></tr></thead><tbody><tr><td>1709296480000000</td></tr><tr><td>1712071230000000</td></tr><tr><td>1714727745000000</td></tr></tbody></table></div>"
      ],
      "text/plain": [
       "shape: (3,)\n",
       "Series: 'datetime_column' [i64]\n",
       "[\n",
       "\t1709296480000000\n",
       "\t1712071230000000\n",
       "\t1714727745000000\n",
       "]"
      ]
     },
     "execution_count": 163,
     "metadata": {},
     "output_type": "execute_result"
    }
   ],
   "source": [
    "# polars.Series.dt.timestamp\n",
    "datetime_series.dt.timestamp()"
   ]
  },
  {
   "cell_type": "code",
   "execution_count": 164,
   "id": "073dff3f-0da6-4010-82cf-db03199b7917",
   "metadata": {},
   "outputs": [
    {
     "data": {
      "text/html": [
       "<div><style>\n",
       ".dataframe > thead > tr,\n",
       ".dataframe > tbody > tr {\n",
       "  text-align: right;\n",
       "  white-space: pre-wrap;\n",
       "}\n",
       "</style>\n",
       "<small>shape: (3,)</small><table border=\"1\" class=\"dataframe\"><thead><tr><th>datetime_column</th></tr><tr><td>i8</td></tr></thead><tbody><tr><td>9</td></tr><tr><td>14</td></tr><tr><td>18</td></tr></tbody></table></div>"
      ],
      "text/plain": [
       "shape: (3,)\n",
       "Series: 'datetime_column' [i8]\n",
       "[\n",
       "\t9\n",
       "\t14\n",
       "\t18\n",
       "]"
      ]
     },
     "execution_count": 164,
     "metadata": {},
     "output_type": "execute_result"
    }
   ],
   "source": [
    "# polars.Series.dt.week\n",
    "datetime_series.dt.week()"
   ]
  },
  {
   "cell_type": "markdown",
   "id": "2144a9e5-0bc4-47b8-a85f-2815a91e4e81",
   "metadata": {},
   "source": [
    "# There are also methods for String and Binary operations. "
   ]
  },
  {
   "cell_type": "code",
   "execution_count": null,
   "id": "f809a98a-fcc1-4c0c-bcfc-48717e1f14e8",
   "metadata": {},
   "outputs": [],
   "source": []
  }
 ],
 "metadata": {
  "kernelspec": {
   "display_name": "Python 3 (ipykernel)",
   "language": "python",
   "name": "python3"
  },
  "language_info": {
   "codemirror_mode": {
    "name": "ipython",
    "version": 3
   },
   "file_extension": ".py",
   "mimetype": "text/x-python",
   "name": "python",
   "nbconvert_exporter": "python",
   "pygments_lexer": "ipython3",
   "version": "3.11.7"
  }
 },
 "nbformat": 4,
 "nbformat_minor": 5
}
