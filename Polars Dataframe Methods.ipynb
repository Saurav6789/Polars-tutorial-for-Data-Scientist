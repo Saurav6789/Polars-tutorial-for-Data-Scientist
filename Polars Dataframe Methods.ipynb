{
 "cells": [
  {
   "cell_type": "markdown",
   "id": "fa229fa6-7c6a-4098-8bb8-4adf43382766",
   "metadata": {},
   "source": [
    "# Installation of the Polars \n",
    "\n",
    "We can use the Following command for installing Polars \n",
    "\n",
    "- pip install polars ( For Python )\n",
    "- conda install conda-forge::polars ( Conda Env ) \r\n"
   ]
  },
  {
   "cell_type": "markdown",
   "id": "486f0870-e3a5-478e-84ce-33982f5169b0",
   "metadata": {},
   "source": [
    "# Import Polars "
   ]
  },
  {
   "cell_type": "code",
   "execution_count": 1,
   "id": "a9ca6d0b-0d8f-4ff0-b23d-2f40b7d97933",
   "metadata": {},
   "outputs": [],
   "source": [
    "import polars as pl"
   ]
  },
  {
   "cell_type": "code",
   "execution_count": 2,
   "id": "a7eb9538-cc14-402c-8d7c-2080bd2d96b1",
   "metadata": {},
   "outputs": [
    {
     "name": "stdout",
     "output_type": "stream",
     "text": [
      "1.5.0\n"
     ]
    }
   ],
   "source": [
    "print(pl.__version__)"
   ]
  },
  {
   "cell_type": "code",
   "execution_count": 3,
   "id": "e75669d4-b9ae-400c-a0ad-df423dc090d2",
   "metadata": {},
   "outputs": [],
   "source": [
    "insurance_df = pl.read_csv(\"Insurance.csv\")"
   ]
  },
  {
   "cell_type": "code",
   "execution_count": 4,
   "id": "6d5b76a4-f0bc-4550-af10-50bde52ca63d",
   "metadata": {},
   "outputs": [
    {
     "data": {
      "text/plain": [
       "polars.dataframe.frame.DataFrame"
      ]
     },
     "execution_count": 4,
     "metadata": {},
     "output_type": "execute_result"
    }
   ],
   "source": [
    "type(insurance_df)"
   ]
  },
  {
   "cell_type": "code",
   "execution_count": 9,
   "id": "1adc287c-aca0-4aea-8f1e-48cb882e536e",
   "metadata": {},
   "outputs": [
    {
     "data": {
      "text/html": [
       "<div><style>\n",
       ".dataframe > thead > tr,\n",
       ".dataframe > tbody > tr {\n",
       "  text-align: right;\n",
       "  white-space: pre-wrap;\n",
       "}\n",
       "</style>\n",
       "<small>shape: (5, 12)</small><table border=\"1\" class=\"dataframe\"><thead><tr><th>id</th><th>Gender</th><th>Age</th><th>Driving_License</th><th>Region_Code</th><th>Previously_Insured</th><th>Vehicle_Age</th><th>Vehicle_Damage</th><th>Annual_Premium</th><th>Policy_Sales_Channel</th><th>Vintage</th><th>Response</th></tr><tr><td>i64</td><td>str</td><td>i64</td><td>i64</td><td>f64</td><td>i64</td><td>str</td><td>str</td><td>f64</td><td>f64</td><td>i64</td><td>i64</td></tr></thead><tbody><tr><td>0</td><td>&quot;Male&quot;</td><td>21</td><td>1</td><td>35.0</td><td>0</td><td>&quot;1-2 Year&quot;</td><td>&quot;Yes&quot;</td><td>65101.0</td><td>124.0</td><td>187</td><td>0</td></tr><tr><td>1</td><td>&quot;Male&quot;</td><td>43</td><td>1</td><td>28.0</td><td>0</td><td>&quot;&gt; 2 Years&quot;</td><td>&quot;Yes&quot;</td><td>58911.0</td><td>26.0</td><td>288</td><td>1</td></tr><tr><td>2</td><td>&quot;Female&quot;</td><td>25</td><td>1</td><td>14.0</td><td>1</td><td>&quot;&lt; 1 Year&quot;</td><td>&quot;No&quot;</td><td>38043.0</td><td>152.0</td><td>254</td><td>0</td></tr><tr><td>3</td><td>&quot;Female&quot;</td><td>35</td><td>1</td><td>1.0</td><td>0</td><td>&quot;1-2 Year&quot;</td><td>&quot;Yes&quot;</td><td>2630.0</td><td>156.0</td><td>76</td><td>0</td></tr><tr><td>4</td><td>&quot;Female&quot;</td><td>36</td><td>1</td><td>15.0</td><td>1</td><td>&quot;1-2 Year&quot;</td><td>&quot;No&quot;</td><td>31951.0</td><td>152.0</td><td>294</td><td>0</td></tr></tbody></table></div>"
      ],
      "text/plain": [
       "shape: (5, 12)\n",
       "┌─────┬────────┬─────┬─────────────────┬───┬────────────────┬─────────────────┬─────────┬──────────┐\n",
       "│ id  ┆ Gender ┆ Age ┆ Driving_License ┆ … ┆ Annual_Premium ┆ Policy_Sales_Ch ┆ Vintage ┆ Response │\n",
       "│ --- ┆ ---    ┆ --- ┆ ---             ┆   ┆ ---            ┆ annel           ┆ ---     ┆ ---      │\n",
       "│ i64 ┆ str    ┆ i64 ┆ i64             ┆   ┆ f64            ┆ ---             ┆ i64     ┆ i64      │\n",
       "│     ┆        ┆     ┆                 ┆   ┆                ┆ f64             ┆         ┆          │\n",
       "╞═════╪════════╪═════╪═════════════════╪═══╪════════════════╪═════════════════╪═════════╪══════════╡\n",
       "│ 0   ┆ Male   ┆ 21  ┆ 1               ┆ … ┆ 65101.0        ┆ 124.0           ┆ 187     ┆ 0        │\n",
       "│ 1   ┆ Male   ┆ 43  ┆ 1               ┆ … ┆ 58911.0        ┆ 26.0            ┆ 288     ┆ 1        │\n",
       "│ 2   ┆ Female ┆ 25  ┆ 1               ┆ … ┆ 38043.0        ┆ 152.0           ┆ 254     ┆ 0        │\n",
       "│ 3   ┆ Female ┆ 35  ┆ 1               ┆ … ┆ 2630.0         ┆ 156.0           ┆ 76      ┆ 0        │\n",
       "│ 4   ┆ Female ┆ 36  ┆ 1               ┆ … ┆ 31951.0        ┆ 152.0           ┆ 294     ┆ 0        │\n",
       "└─────┴────────┴─────┴─────────────────┴───┴────────────────┴─────────────────┴─────────┴──────────┘"
      ]
     },
     "execution_count": 9,
     "metadata": {},
     "output_type": "execute_result"
    }
   ],
   "source": [
    "insurance_df.head()"
   ]
  },
  {
   "cell_type": "markdown",
   "id": "d485dd26-eead-430a-9754-da9fbc9df53a",
   "metadata": {},
   "source": [
    "# Attributes Methods "
   ]
  },
  {
   "cell_type": "code",
   "execution_count": 10,
   "id": "d7b5bcba-d9a4-47da-9a9c-5becf4665431",
   "metadata": {},
   "outputs": [
    {
     "data": {
      "text/plain": [
       "['id',\n",
       " 'Gender',\n",
       " 'Age',\n",
       " 'Driving_License',\n",
       " 'Region_Code',\n",
       " 'Previously_Insured',\n",
       " 'Vehicle_Age',\n",
       " 'Vehicle_Damage',\n",
       " 'Annual_Premium',\n",
       " 'Policy_Sales_Channel',\n",
       " 'Vintage',\n",
       " 'Response']"
      ]
     },
     "execution_count": 10,
     "metadata": {},
     "output_type": "execute_result"
    }
   ],
   "source": [
    "insurance_df.columns"
   ]
  },
  {
   "cell_type": "code",
   "execution_count": 11,
   "id": "09c2ab3d-f65a-4b90-bb77-fde1f42c863c",
   "metadata": {},
   "outputs": [
    {
     "data": {
      "text/plain": [
       "[Int64,\n",
       " String,\n",
       " Int64,\n",
       " Int64,\n",
       " Float64,\n",
       " Int64,\n",
       " String,\n",
       " String,\n",
       " Float64,\n",
       " Float64,\n",
       " Int64,\n",
       " Int64]"
      ]
     },
     "execution_count": 11,
     "metadata": {},
     "output_type": "execute_result"
    }
   ],
   "source": [
    "insurance_df.dtypes"
   ]
  },
  {
   "cell_type": "code",
   "execution_count": 12,
   "id": "b2abed9f-2bef-47f4-bb29-fc8b73edd85b",
   "metadata": {},
   "outputs": [
    {
     "data": {
      "text/plain": [
       "11504798"
      ]
     },
     "execution_count": 12,
     "metadata": {},
     "output_type": "execute_result"
    }
   ],
   "source": [
    "insurance_df.height"
   ]
  },
  {
   "cell_type": "code",
   "execution_count": 13,
   "id": "2cefab24-46dc-4653-b0f3-8f79a5da2ded",
   "metadata": {},
   "outputs": [
    {
     "data": {
      "text/plain": [
       "{'id': {'SORTED_ASC': False, 'SORTED_DESC': False},\n",
       " 'Gender': {'SORTED_ASC': False, 'SORTED_DESC': False},\n",
       " 'Age': {'SORTED_ASC': False, 'SORTED_DESC': False},\n",
       " 'Driving_License': {'SORTED_ASC': False, 'SORTED_DESC': False},\n",
       " 'Region_Code': {'SORTED_ASC': False, 'SORTED_DESC': False},\n",
       " 'Previously_Insured': {'SORTED_ASC': False, 'SORTED_DESC': False},\n",
       " 'Vehicle_Age': {'SORTED_ASC': False, 'SORTED_DESC': False},\n",
       " 'Vehicle_Damage': {'SORTED_ASC': False, 'SORTED_DESC': False},\n",
       " 'Annual_Premium': {'SORTED_ASC': False, 'SORTED_DESC': False},\n",
       " 'Policy_Sales_Channel': {'SORTED_ASC': False, 'SORTED_DESC': False},\n",
       " 'Vintage': {'SORTED_ASC': False, 'SORTED_DESC': False},\n",
       " 'Response': {'SORTED_ASC': False, 'SORTED_DESC': False}}"
      ]
     },
     "execution_count": 13,
     "metadata": {},
     "output_type": "execute_result"
    }
   ],
   "source": [
    "insurance_df.flags"
   ]
  },
  {
   "cell_type": "code",
   "execution_count": 14,
   "id": "60f7a445-c100-41f8-887c-e108e7d6dcab",
   "metadata": {},
   "outputs": [
    {
     "data": {
      "text/plain": [
       "12"
      ]
     },
     "execution_count": 14,
     "metadata": {},
     "output_type": "execute_result"
    }
   ],
   "source": [
    "insurance_df.width"
   ]
  },
  {
   "cell_type": "code",
   "execution_count": 15,
   "id": "169bf1b7-25b1-48e2-a6d2-afe252e19c3a",
   "metadata": {},
   "outputs": [
    {
     "data": {
      "text/plain": [
       "(11504798, 12)"
      ]
     },
     "execution_count": 15,
     "metadata": {},
     "output_type": "execute_result"
    }
   ],
   "source": [
    "insurance_df.shape"
   ]
  },
  {
   "cell_type": "code",
   "execution_count": 16,
   "id": "833c6ac1-b035-4fcd-8f51-9b59c4947760",
   "metadata": {},
   "outputs": [
    {
     "data": {
      "text/plain": [
       "Schema([('id', Int64),\n",
       "        ('Gender', String),\n",
       "        ('Age', Int64),\n",
       "        ('Driving_License', Int64),\n",
       "        ('Region_Code', Float64),\n",
       "        ('Previously_Insured', Int64),\n",
       "        ('Vehicle_Age', String),\n",
       "        ('Vehicle_Damage', String),\n",
       "        ('Annual_Premium', Float64),\n",
       "        ('Policy_Sales_Channel', Float64),\n",
       "        ('Vintage', Int64),\n",
       "        ('Response', Int64)])"
      ]
     },
     "execution_count": 16,
     "metadata": {},
     "output_type": "execute_result"
    }
   ],
   "source": [
    "insurance_df.schema"
   ]
  },
  {
   "cell_type": "markdown",
   "id": "51fb1bf3-c473-478c-81f0-3e5a5ea540c9",
   "metadata": {},
   "source": [
    "# Descriptive Methods "
   ]
  },
  {
   "cell_type": "code",
   "execution_count": 20,
   "id": "86cce676-be3c-4980-93a8-8adabc4985be",
   "metadata": {},
   "outputs": [
    {
     "data": {
      "text/html": [
       "<div><style>\n",
       ".dataframe > thead > tr,\n",
       ".dataframe > tbody > tr {\n",
       "  text-align: right;\n",
       "  white-space: pre-wrap;\n",
       "}\n",
       "</style>\n",
       "<small>shape: (9, 13)</small><table border=\"1\" class=\"dataframe\"><thead><tr><th>statistic</th><th>id</th><th>Gender</th><th>Age</th><th>Driving_License</th><th>Region_Code</th><th>Previously_Insured</th><th>Vehicle_Age</th><th>Vehicle_Damage</th><th>Annual_Premium</th><th>Policy_Sales_Channel</th><th>Vintage</th><th>Response</th></tr><tr><td>str</td><td>f64</td><td>str</td><td>f64</td><td>f64</td><td>f64</td><td>f64</td><td>str</td><td>str</td><td>f64</td><td>f64</td><td>f64</td><td>f64</td></tr></thead><tbody><tr><td>&quot;count&quot;</td><td>1.1504798e7</td><td>&quot;11504798&quot;</td><td>1.1504798e7</td><td>1.1504798e7</td><td>1.1504798e7</td><td>1.1504798e7</td><td>&quot;11504798&quot;</td><td>&quot;11504798&quot;</td><td>1.1504798e7</td><td>1.1504798e7</td><td>1.1504798e7</td><td>1.1504798e7</td></tr><tr><td>&quot;null_count&quot;</td><td>0.0</td><td>&quot;0&quot;</td><td>0.0</td><td>0.0</td><td>0.0</td><td>0.0</td><td>&quot;0&quot;</td><td>&quot;0&quot;</td><td>0.0</td><td>0.0</td><td>0.0</td><td>0.0</td></tr><tr><td>&quot;mean&quot;</td><td>5752398.5</td><td>null</td><td>38.383563</td><td>0.998022</td><td>26.41869</td><td>0.462997</td><td>null</td><td>null</td><td>30461.370411</td><td>112.425442</td><td>163.897744</td><td>0.122997</td></tr><tr><td>&quot;std&quot;</td><td>3.3211e6</td><td>null</td><td>14.993459</td><td>0.044431</td><td>12.99159</td><td>0.498629</td><td>null</td><td>null</td><td>16454.745205</td><td>54.035708</td><td>79.979531</td><td>0.328434</td></tr><tr><td>&quot;min&quot;</td><td>0.0</td><td>&quot;Female&quot;</td><td>20.0</td><td>0.0</td><td>0.0</td><td>0.0</td><td>&quot;1-2 Year&quot;</td><td>&quot;No&quot;</td><td>2630.0</td><td>1.0</td><td>10.0</td><td>0.0</td></tr><tr><td>&quot;25%&quot;</td><td>2.876199e6</td><td>null</td><td>24.0</td><td>1.0</td><td>15.0</td><td>0.0</td><td>null</td><td>null</td><td>25277.0</td><td>29.0</td><td>99.0</td><td>0.0</td></tr><tr><td>&quot;50%&quot;</td><td>5.752399e6</td><td>null</td><td>36.0</td><td>1.0</td><td>28.0</td><td>0.0</td><td>null</td><td>null</td><td>31824.0</td><td>151.0</td><td>166.0</td><td>0.0</td></tr><tr><td>&quot;75%&quot;</td><td>8.628598e6</td><td>null</td><td>49.0</td><td>1.0</td><td>35.0</td><td>1.0</td><td>null</td><td>null</td><td>39451.0</td><td>152.0</td><td>232.0</td><td>0.0</td></tr><tr><td>&quot;max&quot;</td><td>1.1504797e7</td><td>&quot;Male&quot;</td><td>85.0</td><td>1.0</td><td>52.0</td><td>1.0</td><td>&quot;&gt; 2 Years&quot;</td><td>&quot;Yes&quot;</td><td>540165.0</td><td>163.0</td><td>299.0</td><td>1.0</td></tr></tbody></table></div>"
      ],
      "text/plain": [
       "shape: (9, 13)\n",
       "┌───────────┬───────────┬──────────┬───────────┬───┬───────────┬───────────┬───────────┬───────────┐\n",
       "│ statistic ┆ id        ┆ Gender   ┆ Age       ┆ … ┆ Annual_Pr ┆ Policy_Sa ┆ Vintage   ┆ Response  │\n",
       "│ ---       ┆ ---       ┆ ---      ┆ ---       ┆   ┆ emium     ┆ les_Chann ┆ ---       ┆ ---       │\n",
       "│ str       ┆ f64       ┆ str      ┆ f64       ┆   ┆ ---       ┆ el        ┆ f64       ┆ f64       │\n",
       "│           ┆           ┆          ┆           ┆   ┆ f64       ┆ ---       ┆           ┆           │\n",
       "│           ┆           ┆          ┆           ┆   ┆           ┆ f64       ┆           ┆           │\n",
       "╞═══════════╪═══════════╪══════════╪═══════════╪═══╪═══════════╪═══════════╪═══════════╪═══════════╡\n",
       "│ count     ┆ 1.1504798 ┆ 11504798 ┆ 1.1504798 ┆ … ┆ 1.1504798 ┆ 1.1504798 ┆ 1.1504798 ┆ 1.1504798 │\n",
       "│           ┆ e7        ┆          ┆ e7        ┆   ┆ e7        ┆ e7        ┆ e7        ┆ e7        │\n",
       "│ null_coun ┆ 0.0       ┆ 0        ┆ 0.0       ┆ … ┆ 0.0       ┆ 0.0       ┆ 0.0       ┆ 0.0       │\n",
       "│ t         ┆           ┆          ┆           ┆   ┆           ┆           ┆           ┆           │\n",
       "│ mean      ┆ 5752398.5 ┆ null     ┆ 38.383563 ┆ … ┆ 30461.370 ┆ 112.42544 ┆ 163.89774 ┆ 0.122997  │\n",
       "│           ┆           ┆          ┆           ┆   ┆ 411       ┆ 2         ┆ 4         ┆           │\n",
       "│ std       ┆ 3.3211e6  ┆ null     ┆ 14.993459 ┆ … ┆ 16454.745 ┆ 54.035708 ┆ 79.979531 ┆ 0.328434  │\n",
       "│           ┆           ┆          ┆           ┆   ┆ 205       ┆           ┆           ┆           │\n",
       "│ min       ┆ 0.0       ┆ Female   ┆ 20.0      ┆ … ┆ 2630.0    ┆ 1.0       ┆ 10.0      ┆ 0.0       │\n",
       "│ 25%       ┆ 2.876199e ┆ null     ┆ 24.0      ┆ … ┆ 25277.0   ┆ 29.0      ┆ 99.0      ┆ 0.0       │\n",
       "│           ┆ 6         ┆          ┆           ┆   ┆           ┆           ┆           ┆           │\n",
       "│ 50%       ┆ 5.752399e ┆ null     ┆ 36.0      ┆ … ┆ 31824.0   ┆ 151.0     ┆ 166.0     ┆ 0.0       │\n",
       "│           ┆ 6         ┆          ┆           ┆   ┆           ┆           ┆           ┆           │\n",
       "│ 75%       ┆ 8.628598e ┆ null     ┆ 49.0      ┆ … ┆ 39451.0   ┆ 152.0     ┆ 232.0     ┆ 0.0       │\n",
       "│           ┆ 6         ┆          ┆           ┆   ┆           ┆           ┆           ┆           │\n",
       "│ max       ┆ 1.1504797 ┆ Male     ┆ 85.0      ┆ … ┆ 540165.0  ┆ 163.0     ┆ 299.0     ┆ 1.0       │\n",
       "│           ┆ e7        ┆          ┆           ┆   ┆           ┆           ┆           ┆           │\n",
       "└───────────┴───────────┴──────────┴───────────┴───┴───────────┴───────────┴───────────┴───────────┘"
      ]
     },
     "execution_count": 20,
     "metadata": {},
     "output_type": "execute_result"
    }
   ],
   "source": [
    "insurance_df.describe()"
   ]
  },
  {
   "cell_type": "code",
   "execution_count": 22,
   "id": "f4b9d19b-4c7c-4f7e-acbb-6d8d0f3115a8",
   "metadata": {},
   "outputs": [
    {
     "name": "stderr",
     "output_type": "stream",
     "text": [
      "C:\\Users\\Saurav\\AppData\\Local\\Temp\\ipykernel_10932\\3046653036.py:1: DeprecationWarning: `DataFrame.approx_n_unique` is deprecated. Use `select(pl.all().approx_n_unique())` instead.\n",
      "  insurance_df.approx_n_unique()\n",
      "C:\\Users\\Saurav\\AppData\\Local\\Temp\\ipykernel_10932\\3046653036.py:1: DeprecationWarning: `LazyFrame.approx_n_unique` is deprecated. Use `select(pl.all().approx_n_unique())` instead.\n",
      "  insurance_df.approx_n_unique()\n"
     ]
    },
    {
     "data": {
      "text/html": [
       "<div><style>\n",
       ".dataframe > thead > tr,\n",
       ".dataframe > tbody > tr {\n",
       "  text-align: right;\n",
       "  white-space: pre-wrap;\n",
       "}\n",
       "</style>\n",
       "<small>shape: (1, 12)</small><table border=\"1\" class=\"dataframe\"><thead><tr><th>id</th><th>Gender</th><th>Age</th><th>Driving_License</th><th>Region_Code</th><th>Previously_Insured</th><th>Vehicle_Age</th><th>Vehicle_Damage</th><th>Annual_Premium</th><th>Policy_Sales_Channel</th><th>Vintage</th><th>Response</th></tr><tr><td>u32</td><td>u32</td><td>u32</td><td>u32</td><td>u32</td><td>u32</td><td>u32</td><td>u32</td><td>u32</td><td>u32</td><td>u32</td><td>u32</td></tr></thead><tbody><tr><td>11385199</td><td>2</td><td>65</td><td>2</td><td>54</td><td>2</td><td>3</td><td>2</td><td>51800</td><td>151</td><td>291</td><td>2</td></tr></tbody></table></div>"
      ],
      "text/plain": [
       "shape: (1, 12)\n",
       "┌──────────┬────────┬─────┬───────────────┬───┬───────────────┬───────────────┬─────────┬──────────┐\n",
       "│ id       ┆ Gender ┆ Age ┆ Driving_Licen ┆ … ┆ Annual_Premiu ┆ Policy_Sales_ ┆ Vintage ┆ Response │\n",
       "│ ---      ┆ ---    ┆ --- ┆ se            ┆   ┆ m             ┆ Channel       ┆ ---     ┆ ---      │\n",
       "│ u32      ┆ u32    ┆ u32 ┆ ---           ┆   ┆ ---           ┆ ---           ┆ u32     ┆ u32      │\n",
       "│          ┆        ┆     ┆ u32           ┆   ┆ u32           ┆ u32           ┆         ┆          │\n",
       "╞══════════╪════════╪═════╪═══════════════╪═══╪═══════════════╪═══════════════╪═════════╪══════════╡\n",
       "│ 11385199 ┆ 2      ┆ 65  ┆ 2             ┆ … ┆ 51800         ┆ 151           ┆ 291     ┆ 2        │\n",
       "└──────────┴────────┴─────┴───────────────┴───┴───────────────┴───────────────┴─────────┴──────────┘"
      ]
     },
     "execution_count": 22,
     "metadata": {},
     "output_type": "execute_result"
    }
   ],
   "source": [
    "insurance_df.approx_n_unique()"
   ]
  },
  {
   "cell_type": "code",
   "execution_count": 24,
   "id": "17152b32-7e6a-4f31-8016-3ee78b7236ff",
   "metadata": {},
   "outputs": [
    {
     "data": {
      "text/plain": [
       "1006227160"
      ]
     },
     "execution_count": 24,
     "metadata": {},
     "output_type": "execute_result"
    }
   ],
   "source": [
    "insurance_df.estimated_size()"
   ]
  },
  {
   "cell_type": "code",
   "execution_count": 25,
   "id": "9ba93ea2-848e-42d0-bf8b-32bd0c7a8433",
   "metadata": {},
   "outputs": [
    {
     "name": "stdout",
     "output_type": "stream",
     "text": [
      "Rows: 11504798\n",
      "Columns: 12\n",
      "$ id                   <i64> 0, 1, 2, 3, 4, 5, 6, 7, 8, 9\n",
      "$ Gender               <str> 'Male', 'Male', 'Female', 'Female', 'Female', 'Female', 'Male', 'Female', 'Female', 'Female'\n",
      "$ Age                  <i64> 21, 43, 25, 35, 36, 31, 23, 47, 26, 66\n",
      "$ Driving_License      <i64> 1, 1, 1, 1, 1, 1, 1, 1, 1, 1\n",
      "$ Region_Code          <f64> 35.0, 28.0, 14.0, 1.0, 15.0, 47.0, 45.0, 8.0, 28.0, 11.0\n",
      "$ Previously_Insured   <i64> 0, 0, 1, 0, 1, 1, 1, 0, 1, 0\n",
      "$ Vehicle_Age          <str> '1-2 Year', '> 2 Years', '< 1 Year', '1-2 Year', '1-2 Year', '< 1 Year', '< 1 Year', '1-2 Year', '< 1 Year', '1-2 Year'\n",
      "$ Vehicle_Damage       <str> 'Yes', 'Yes', 'No', 'Yes', 'No', 'No', 'No', 'Yes', 'No', 'Yes'\n",
      "$ Annual_Premium       <f64> 65101.0, 58911.0, 38043.0, 2630.0, 31951.0, 28150.0, 27128.0, 40659.0, 31639.0, 2630.0\n",
      "$ Policy_Sales_Channel <f64> 124.0, 26.0, 152.0, 156.0, 152.0, 152.0, 152.0, 26.0, 152.0, 26.0\n",
      "$ Vintage              <i64> 187, 288, 254, 76, 294, 197, 190, 262, 36, 125\n",
      "$ Response             <i64> 0, 1, 0, 0, 0, 0, 0, 1, 0, 0\n",
      "\n"
     ]
    }
   ],
   "source": [
    "insurance_df.glimpse()"
   ]
  },
  {
   "cell_type": "code",
   "execution_count": 26,
   "id": "aedb43a8-0313-4d27-a11b-6dcd01c1006e",
   "metadata": {},
   "outputs": [
    {
     "data": {
      "text/html": [
       "<div><style>\n",
       ".dataframe > thead > tr,\n",
       ".dataframe > tbody > tr {\n",
       "  text-align: right;\n",
       "  white-space: pre-wrap;\n",
       "}\n",
       "</style>\n",
       "<small>shape: (11_504_798,)</small><table border=\"1\" class=\"dataframe\"><thead><tr><th></th></tr><tr><td>bool</td></tr></thead><tbody><tr><td>false</td></tr><tr><td>false</td></tr><tr><td>false</td></tr><tr><td>false</td></tr><tr><td>false</td></tr><tr><td>&hellip;</td></tr><tr><td>false</td></tr><tr><td>false</td></tr><tr><td>false</td></tr><tr><td>false</td></tr><tr><td>false</td></tr></tbody></table></div>"
      ],
      "text/plain": [
       "shape: (11_504_798,)\n",
       "Series: '' [bool]\n",
       "[\n",
       "\tfalse\n",
       "\tfalse\n",
       "\tfalse\n",
       "\tfalse\n",
       "\tfalse\n",
       "\t…\n",
       "\tfalse\n",
       "\tfalse\n",
       "\tfalse\n",
       "\tfalse\n",
       "\tfalse\n",
       "]"
      ]
     },
     "execution_count": 26,
     "metadata": {},
     "output_type": "execute_result"
    }
   ],
   "source": [
    "insurance_df.is_duplicated()"
   ]
  },
  {
   "cell_type": "code",
   "execution_count": 27,
   "id": "751888c7-afe0-47e6-a217-81076ba26f1d",
   "metadata": {},
   "outputs": [
    {
     "data": {
      "text/html": [
       "<div><style>\n",
       ".dataframe > thead > tr,\n",
       ".dataframe > tbody > tr {\n",
       "  text-align: right;\n",
       "  white-space: pre-wrap;\n",
       "}\n",
       "</style>\n",
       "<small>shape: (11_504_798,)</small><table border=\"1\" class=\"dataframe\"><thead><tr><th></th></tr><tr><td>bool</td></tr></thead><tbody><tr><td>true</td></tr><tr><td>true</td></tr><tr><td>true</td></tr><tr><td>true</td></tr><tr><td>true</td></tr><tr><td>&hellip;</td></tr><tr><td>true</td></tr><tr><td>true</td></tr><tr><td>true</td></tr><tr><td>true</td></tr><tr><td>true</td></tr></tbody></table></div>"
      ],
      "text/plain": [
       "shape: (11_504_798,)\n",
       "Series: '' [bool]\n",
       "[\n",
       "\ttrue\n",
       "\ttrue\n",
       "\ttrue\n",
       "\ttrue\n",
       "\ttrue\n",
       "\t…\n",
       "\ttrue\n",
       "\ttrue\n",
       "\ttrue\n",
       "\ttrue\n",
       "\ttrue\n",
       "]"
      ]
     },
     "execution_count": 27,
     "metadata": {},
     "output_type": "execute_result"
    }
   ],
   "source": [
    "insurance_df.is_unique()"
   ]
  },
  {
   "cell_type": "code",
   "execution_count": 28,
   "id": "33450912-af7c-4b29-b960-8729613bd8b3",
   "metadata": {},
   "outputs": [
    {
     "data": {
      "text/plain": [
       "8"
      ]
     },
     "execution_count": 28,
     "metadata": {},
     "output_type": "execute_result"
    }
   ],
   "source": [
    "insurance_df.n_chunks()"
   ]
  },
  {
   "cell_type": "code",
   "execution_count": 29,
   "id": "4225b4db-46e6-4820-913a-1f0f000c67ec",
   "metadata": {},
   "outputs": [
    {
     "data": {
      "text/plain": [
       "11504798"
      ]
     },
     "execution_count": 29,
     "metadata": {},
     "output_type": "execute_result"
    }
   ],
   "source": [
    "insurance_df.n_unique()"
   ]
  },
  {
   "cell_type": "code",
   "execution_count": 30,
   "id": "35beeda7-7261-4115-b688-85853e8664bb",
   "metadata": {},
   "outputs": [
    {
     "data": {
      "text/html": [
       "<div><style>\n",
       ".dataframe > thead > tr,\n",
       ".dataframe > tbody > tr {\n",
       "  text-align: right;\n",
       "  white-space: pre-wrap;\n",
       "}\n",
       "</style>\n",
       "<small>shape: (1, 12)</small><table border=\"1\" class=\"dataframe\"><thead><tr><th>id</th><th>Gender</th><th>Age</th><th>Driving_License</th><th>Region_Code</th><th>Previously_Insured</th><th>Vehicle_Age</th><th>Vehicle_Damage</th><th>Annual_Premium</th><th>Policy_Sales_Channel</th><th>Vintage</th><th>Response</th></tr><tr><td>u32</td><td>u32</td><td>u32</td><td>u32</td><td>u32</td><td>u32</td><td>u32</td><td>u32</td><td>u32</td><td>u32</td><td>u32</td><td>u32</td></tr></thead><tbody><tr><td>0</td><td>0</td><td>0</td><td>0</td><td>0</td><td>0</td><td>0</td><td>0</td><td>0</td><td>0</td><td>0</td><td>0</td></tr></tbody></table></div>"
      ],
      "text/plain": [
       "shape: (1, 12)\n",
       "┌─────┬────────┬─────┬─────────────────┬───┬────────────────┬─────────────────┬─────────┬──────────┐\n",
       "│ id  ┆ Gender ┆ Age ┆ Driving_License ┆ … ┆ Annual_Premium ┆ Policy_Sales_Ch ┆ Vintage ┆ Response │\n",
       "│ --- ┆ ---    ┆ --- ┆ ---             ┆   ┆ ---            ┆ annel           ┆ ---     ┆ ---      │\n",
       "│ u32 ┆ u32    ┆ u32 ┆ u32             ┆   ┆ u32            ┆ ---             ┆ u32     ┆ u32      │\n",
       "│     ┆        ┆     ┆                 ┆   ┆                ┆ u32             ┆         ┆          │\n",
       "╞═════╪════════╪═════╪═════════════════╪═══╪════════════════╪═════════════════╪═════════╪══════════╡\n",
       "│ 0   ┆ 0      ┆ 0   ┆ 0               ┆ … ┆ 0              ┆ 0               ┆ 0       ┆ 0        │\n",
       "└─────┴────────┴─────┴─────────────────┴───┴────────────────┴─────────────────┴─────────┴──────────┘"
      ]
     },
     "execution_count": 30,
     "metadata": {},
     "output_type": "execute_result"
    }
   ],
   "source": [
    "insurance_df.null_count()"
   ]
  },
  {
   "cell_type": "markdown",
   "id": "86a21b71-6bdc-4c8e-8454-d44bc096c0cf",
   "metadata": {},
   "source": [
    "# Aggregation functions"
   ]
  },
  {
   "cell_type": "code",
   "execution_count": 31,
   "id": "28fc65ee-29af-4d3e-ade7-8b489119db21",
   "metadata": {},
   "outputs": [
    {
     "data": {
      "text/html": [
       "<div><style>\n",
       ".dataframe > thead > tr,\n",
       ".dataframe > tbody > tr {\n",
       "  text-align: right;\n",
       "  white-space: pre-wrap;\n",
       "}\n",
       "</style>\n",
       "<small>shape: (1, 12)</small><table border=\"1\" class=\"dataframe\"><thead><tr><th>id</th><th>Gender</th><th>Age</th><th>Driving_License</th><th>Region_Code</th><th>Previously_Insured</th><th>Vehicle_Age</th><th>Vehicle_Damage</th><th>Annual_Premium</th><th>Policy_Sales_Channel</th><th>Vintage</th><th>Response</th></tr><tr><td>u32</td><td>u32</td><td>u32</td><td>u32</td><td>u32</td><td>u32</td><td>u32</td><td>u32</td><td>u32</td><td>u32</td><td>u32</td><td>u32</td></tr></thead><tbody><tr><td>11504798</td><td>11504798</td><td>11504798</td><td>11504798</td><td>11504798</td><td>11504798</td><td>11504798</td><td>11504798</td><td>11504798</td><td>11504798</td><td>11504798</td><td>11504798</td></tr></tbody></table></div>"
      ],
      "text/plain": [
       "shape: (1, 12)\n",
       "┌──────────┬──────────┬──────────┬─────────────┬───┬────────────┬────────────┬──────────┬──────────┐\n",
       "│ id       ┆ Gender   ┆ Age      ┆ Driving_Lic ┆ … ┆ Annual_Pre ┆ Policy_Sal ┆ Vintage  ┆ Response │\n",
       "│ ---      ┆ ---      ┆ ---      ┆ ense        ┆   ┆ mium       ┆ es_Channel ┆ ---      ┆ ---      │\n",
       "│ u32      ┆ u32      ┆ u32      ┆ ---         ┆   ┆ ---        ┆ ---        ┆ u32      ┆ u32      │\n",
       "│          ┆          ┆          ┆ u32         ┆   ┆ u32        ┆ u32        ┆          ┆          │\n",
       "╞══════════╪══════════╪══════════╪═════════════╪═══╪════════════╪════════════╪══════════╪══════════╡\n",
       "│ 11504798 ┆ 11504798 ┆ 11504798 ┆ 11504798    ┆ … ┆ 11504798   ┆ 11504798   ┆ 11504798 ┆ 11504798 │\n",
       "└──────────┴──────────┴──────────┴─────────────┴───┴────────────┴────────────┴──────────┴──────────┘"
      ]
     },
     "execution_count": 31,
     "metadata": {},
     "output_type": "execute_result"
    }
   ],
   "source": [
    "insurance_df.count()"
   ]
  },
  {
   "cell_type": "code",
   "execution_count": 32,
   "id": "b2f5a6dd-fe07-4ffc-89d3-b79fbb347ce2",
   "metadata": {},
   "outputs": [
    {
     "data": {
      "text/html": [
       "<div><style>\n",
       ".dataframe > thead > tr,\n",
       ".dataframe > tbody > tr {\n",
       "  text-align: right;\n",
       "  white-space: pre-wrap;\n",
       "}\n",
       "</style>\n",
       "<small>shape: (1, 12)</small><table border=\"1\" class=\"dataframe\"><thead><tr><th>id</th><th>Gender</th><th>Age</th><th>Driving_License</th><th>Region_Code</th><th>Previously_Insured</th><th>Vehicle_Age</th><th>Vehicle_Damage</th><th>Annual_Premium</th><th>Policy_Sales_Channel</th><th>Vintage</th><th>Response</th></tr><tr><td>i64</td><td>str</td><td>i64</td><td>i64</td><td>f64</td><td>i64</td><td>str</td><td>str</td><td>f64</td><td>f64</td><td>i64</td><td>i64</td></tr></thead><tbody><tr><td>11504797</td><td>&quot;Male&quot;</td><td>85</td><td>1</td><td>52.0</td><td>1</td><td>&quot;&gt; 2 Years&quot;</td><td>&quot;Yes&quot;</td><td>540165.0</td><td>163.0</td><td>299</td><td>1</td></tr></tbody></table></div>"
      ],
      "text/plain": [
       "shape: (1, 12)\n",
       "┌──────────┬────────┬─────┬───────────────┬───┬───────────────┬───────────────┬─────────┬──────────┐\n",
       "│ id       ┆ Gender ┆ Age ┆ Driving_Licen ┆ … ┆ Annual_Premiu ┆ Policy_Sales_ ┆ Vintage ┆ Response │\n",
       "│ ---      ┆ ---    ┆ --- ┆ se            ┆   ┆ m             ┆ Channel       ┆ ---     ┆ ---      │\n",
       "│ i64      ┆ str    ┆ i64 ┆ ---           ┆   ┆ ---           ┆ ---           ┆ i64     ┆ i64      │\n",
       "│          ┆        ┆     ┆ i64           ┆   ┆ f64           ┆ f64           ┆         ┆          │\n",
       "╞══════════╪════════╪═════╪═══════════════╪═══╪═══════════════╪═══════════════╪═════════╪══════════╡\n",
       "│ 11504797 ┆ Male   ┆ 85  ┆ 1             ┆ … ┆ 540165.0      ┆ 163.0         ┆ 299     ┆ 1        │\n",
       "└──────────┴────────┴─────┴───────────────┴───┴───────────────┴───────────────┴─────────┴──────────┘"
      ]
     },
     "execution_count": 32,
     "metadata": {},
     "output_type": "execute_result"
    }
   ],
   "source": [
    "insurance_df.max()"
   ]
  },
  {
   "cell_type": "code",
   "execution_count": 35,
   "id": "3f5fb9b7-8148-4316-b71c-0e147b0bcc4b",
   "metadata": {},
   "outputs": [],
   "source": [
    "# max_horizontal() method"
   ]
  },
  {
   "cell_type": "code",
   "execution_count": 34,
   "id": "f320e21e-f63f-497c-abb8-c9e9eb560c73",
   "metadata": {},
   "outputs": [
    {
     "data": {
      "text/html": [
       "<div><style>\n",
       ".dataframe > thead > tr,\n",
       ".dataframe > tbody > tr {\n",
       "  text-align: right;\n",
       "  white-space: pre-wrap;\n",
       "}\n",
       "</style>\n",
       "<small>shape: (1, 12)</small><table border=\"1\" class=\"dataframe\"><thead><tr><th>id</th><th>Gender</th><th>Age</th><th>Driving_License</th><th>Region_Code</th><th>Previously_Insured</th><th>Vehicle_Age</th><th>Vehicle_Damage</th><th>Annual_Premium</th><th>Policy_Sales_Channel</th><th>Vintage</th><th>Response</th></tr><tr><td>f64</td><td>str</td><td>f64</td><td>f64</td><td>f64</td><td>f64</td><td>str</td><td>str</td><td>f64</td><td>f64</td><td>f64</td><td>f64</td></tr></thead><tbody><tr><td>5752398.5</td><td>null</td><td>38.383563</td><td>0.998022</td><td>26.41869</td><td>0.462997</td><td>null</td><td>null</td><td>30461.370411</td><td>112.425442</td><td>163.897744</td><td>0.122997</td></tr></tbody></table></div>"
      ],
      "text/plain": [
       "shape: (1, 12)\n",
       "┌───────────┬────────┬───────────┬────────────┬───┬────────────┬────────────┬───────────┬──────────┐\n",
       "│ id        ┆ Gender ┆ Age       ┆ Driving_Li ┆ … ┆ Annual_Pre ┆ Policy_Sal ┆ Vintage   ┆ Response │\n",
       "│ ---       ┆ ---    ┆ ---       ┆ cense      ┆   ┆ mium       ┆ es_Channel ┆ ---       ┆ ---      │\n",
       "│ f64       ┆ str    ┆ f64       ┆ ---        ┆   ┆ ---        ┆ ---        ┆ f64       ┆ f64      │\n",
       "│           ┆        ┆           ┆ f64        ┆   ┆ f64        ┆ f64        ┆           ┆          │\n",
       "╞═══════════╪════════╪═══════════╪════════════╪═══╪════════════╪════════════╪═══════════╪══════════╡\n",
       "│ 5752398.5 ┆ null   ┆ 38.383563 ┆ 0.998022   ┆ … ┆ 30461.3704 ┆ 112.425442 ┆ 163.89774 ┆ 0.122997 │\n",
       "│           ┆        ┆           ┆            ┆   ┆ 11         ┆            ┆ 4         ┆          │\n",
       "└───────────┴────────┴───────────┴────────────┴───┴────────────┴────────────┴───────────┴──────────┘"
      ]
     },
     "execution_count": 34,
     "metadata": {},
     "output_type": "execute_result"
    }
   ],
   "source": [
    "insurance_df.mean()"
   ]
  },
  {
   "cell_type": "code",
   "execution_count": 36,
   "id": "15a89caf-47ab-48b6-9e8c-22d1bfc8a4ec",
   "metadata": {},
   "outputs": [],
   "source": [
    "# mean_horizontal() method "
   ]
  },
  {
   "cell_type": "code",
   "execution_count": 37,
   "id": "563119a8-f979-4816-9a17-ebddcf19ba48",
   "metadata": {},
   "outputs": [
    {
     "data": {
      "text/html": [
       "<div><style>\n",
       ".dataframe > thead > tr,\n",
       ".dataframe > tbody > tr {\n",
       "  text-align: right;\n",
       "  white-space: pre-wrap;\n",
       "}\n",
       "</style>\n",
       "<small>shape: (1, 12)</small><table border=\"1\" class=\"dataframe\"><thead><tr><th>id</th><th>Gender</th><th>Age</th><th>Driving_License</th><th>Region_Code</th><th>Previously_Insured</th><th>Vehicle_Age</th><th>Vehicle_Damage</th><th>Annual_Premium</th><th>Policy_Sales_Channel</th><th>Vintage</th><th>Response</th></tr><tr><td>f64</td><td>str</td><td>f64</td><td>f64</td><td>f64</td><td>f64</td><td>str</td><td>str</td><td>f64</td><td>f64</td><td>f64</td><td>f64</td></tr></thead><tbody><tr><td>5752398.5</td><td>null</td><td>36.0</td><td>1.0</td><td>28.0</td><td>0.0</td><td>null</td><td>null</td><td>31824.0</td><td>151.0</td><td>166.0</td><td>0.0</td></tr></tbody></table></div>"
      ],
      "text/plain": [
       "shape: (1, 12)\n",
       "┌───────────┬────────┬──────┬───────────────┬───┬──────────────┬──────────────┬─────────┬──────────┐\n",
       "│ id        ┆ Gender ┆ Age  ┆ Driving_Licen ┆ … ┆ Annual_Premi ┆ Policy_Sales ┆ Vintage ┆ Response │\n",
       "│ ---       ┆ ---    ┆ ---  ┆ se            ┆   ┆ um           ┆ _Channel     ┆ ---     ┆ ---      │\n",
       "│ f64       ┆ str    ┆ f64  ┆ ---           ┆   ┆ ---          ┆ ---          ┆ f64     ┆ f64      │\n",
       "│           ┆        ┆      ┆ f64           ┆   ┆ f64          ┆ f64          ┆         ┆          │\n",
       "╞═══════════╪════════╪══════╪═══════════════╪═══╪══════════════╪══════════════╪═════════╪══════════╡\n",
       "│ 5752398.5 ┆ null   ┆ 36.0 ┆ 1.0           ┆ … ┆ 31824.0      ┆ 151.0        ┆ 166.0   ┆ 0.0      │\n",
       "└───────────┴────────┴──────┴───────────────┴───┴──────────────┴──────────────┴─────────┴──────────┘"
      ]
     },
     "execution_count": 37,
     "metadata": {},
     "output_type": "execute_result"
    }
   ],
   "source": [
    "insurance_df.median()"
   ]
  },
  {
   "cell_type": "code",
   "execution_count": 38,
   "id": "a8f7175f-3fba-49b3-a68c-cf06edc97f67",
   "metadata": {},
   "outputs": [
    {
     "data": {
      "text/html": [
       "<div><style>\n",
       ".dataframe > thead > tr,\n",
       ".dataframe > tbody > tr {\n",
       "  text-align: right;\n",
       "  white-space: pre-wrap;\n",
       "}\n",
       "</style>\n",
       "<small>shape: (1, 12)</small><table border=\"1\" class=\"dataframe\"><thead><tr><th>id</th><th>Gender</th><th>Age</th><th>Driving_License</th><th>Region_Code</th><th>Previously_Insured</th><th>Vehicle_Age</th><th>Vehicle_Damage</th><th>Annual_Premium</th><th>Policy_Sales_Channel</th><th>Vintage</th><th>Response</th></tr><tr><td>i64</td><td>str</td><td>i64</td><td>i64</td><td>f64</td><td>i64</td><td>str</td><td>str</td><td>f64</td><td>f64</td><td>i64</td><td>i64</td></tr></thead><tbody><tr><td>0</td><td>&quot;Female&quot;</td><td>20</td><td>0</td><td>0.0</td><td>0</td><td>&quot;1-2 Year&quot;</td><td>&quot;No&quot;</td><td>2630.0</td><td>1.0</td><td>10</td><td>0</td></tr></tbody></table></div>"
      ],
      "text/plain": [
       "shape: (1, 12)\n",
       "┌─────┬────────┬─────┬─────────────────┬───┬────────────────┬─────────────────┬─────────┬──────────┐\n",
       "│ id  ┆ Gender ┆ Age ┆ Driving_License ┆ … ┆ Annual_Premium ┆ Policy_Sales_Ch ┆ Vintage ┆ Response │\n",
       "│ --- ┆ ---    ┆ --- ┆ ---             ┆   ┆ ---            ┆ annel           ┆ ---     ┆ ---      │\n",
       "│ i64 ┆ str    ┆ i64 ┆ i64             ┆   ┆ f64            ┆ ---             ┆ i64     ┆ i64      │\n",
       "│     ┆        ┆     ┆                 ┆   ┆                ┆ f64             ┆         ┆          │\n",
       "╞═════╪════════╪═════╪═════════════════╪═══╪════════════════╪═════════════════╪═════════╪══════════╡\n",
       "│ 0   ┆ Female ┆ 20  ┆ 0               ┆ … ┆ 2630.0         ┆ 1.0             ┆ 10      ┆ 0        │\n",
       "└─────┴────────┴─────┴─────────────────┴───┴────────────────┴─────────────────┴─────────┴──────────┘"
      ]
     },
     "execution_count": 38,
     "metadata": {},
     "output_type": "execute_result"
    }
   ],
   "source": [
    "insurance_df.min()"
   ]
  },
  {
   "cell_type": "code",
   "execution_count": 40,
   "id": "edcdee51-53ca-447f-85ff-63a81111cd71",
   "metadata": {},
   "outputs": [],
   "source": [
    "#insurance_df.min_horizontal()"
   ]
  },
  {
   "cell_type": "code",
   "execution_count": 41,
   "id": "f500efec-3936-4412-ba46-3c82acf26cd2",
   "metadata": {},
   "outputs": [
    {
     "data": {
      "text/html": [
       "<div><style>\n",
       ".dataframe > thead > tr,\n",
       ".dataframe > tbody > tr {\n",
       "  text-align: right;\n",
       "  white-space: pre-wrap;\n",
       "}\n",
       "</style>\n",
       "<small>shape: (1, 12)</small><table border=\"1\" class=\"dataframe\"><thead><tr><th>id</th><th>Gender</th><th>Age</th><th>Driving_License</th><th>Region_Code</th><th>Previously_Insured</th><th>Vehicle_Age</th><th>Vehicle_Damage</th><th>Annual_Premium</th><th>Policy_Sales_Channel</th><th>Vintage</th><th>Response</th></tr><tr><td>i64</td><td>null</td><td>i64</td><td>i64</td><td>f64</td><td>i64</td><td>null</td><td>null</td><td>f64</td><td>f64</td><td>i64</td><td>i64</td></tr></thead><tbody><tr><td>0</td><td>null</td><td>0</td><td>0</td><td>0.0</td><td>0</td><td>null</td><td>null</td><td>inf</td><td>inf</td><td>0</td><td>0</td></tr></tbody></table></div>"
      ],
      "text/plain": [
       "shape: (1, 12)\n",
       "┌─────┬────────┬─────┬─────────────────┬───┬────────────────┬─────────────────┬─────────┬──────────┐\n",
       "│ id  ┆ Gender ┆ Age ┆ Driving_License ┆ … ┆ Annual_Premium ┆ Policy_Sales_Ch ┆ Vintage ┆ Response │\n",
       "│ --- ┆ ---    ┆ --- ┆ ---             ┆   ┆ ---            ┆ annel           ┆ ---     ┆ ---      │\n",
       "│ i64 ┆ null   ┆ i64 ┆ i64             ┆   ┆ f64            ┆ ---             ┆ i64     ┆ i64      │\n",
       "│     ┆        ┆     ┆                 ┆   ┆                ┆ f64             ┆         ┆          │\n",
       "╞═════╪════════╪═════╪═════════════════╪═══╪════════════════╪═════════════════╪═════════╪══════════╡\n",
       "│ 0   ┆ null   ┆ 0   ┆ 0               ┆ … ┆ inf            ┆ inf             ┆ 0       ┆ 0        │\n",
       "└─────┴────────┴─────┴─────────────────┴───┴────────────────┴─────────────────┴─────────┴──────────┘"
      ]
     },
     "execution_count": 41,
     "metadata": {},
     "output_type": "execute_result"
    }
   ],
   "source": [
    "insurance_df.product()"
   ]
  },
  {
   "cell_type": "code",
   "execution_count": 44,
   "id": "3f85890f-5dfa-48be-a57b-48ef6d4e6cc0",
   "metadata": {},
   "outputs": [
    {
     "data": {
      "text/html": [
       "<div><style>\n",
       ".dataframe > thead > tr,\n",
       ".dataframe > tbody > tr {\n",
       "  text-align: right;\n",
       "  white-space: pre-wrap;\n",
       "}\n",
       "</style>\n",
       "<small>shape: (1, 12)</small><table border=\"1\" class=\"dataframe\"><thead><tr><th>id</th><th>Gender</th><th>Age</th><th>Driving_License</th><th>Region_Code</th><th>Previously_Insured</th><th>Vehicle_Age</th><th>Vehicle_Damage</th><th>Annual_Premium</th><th>Policy_Sales_Channel</th><th>Vintage</th><th>Response</th></tr><tr><td>f64</td><td>str</td><td>f64</td><td>f64</td><td>f64</td><td>f64</td><td>str</td><td>str</td><td>f64</td><td>f64</td><td>f64</td><td>f64</td></tr></thead><tbody><tr><td>5.752399e6</td><td>null</td><td>36.0</td><td>1.0</td><td>28.0</td><td>0.0</td><td>null</td><td>null</td><td>31824.0</td><td>151.0</td><td>166.0</td><td>0.0</td></tr></tbody></table></div>"
      ],
      "text/plain": [
       "shape: (1, 12)\n",
       "┌────────────┬────────┬──────┬──────────────┬───┬──────────────┬──────────────┬─────────┬──────────┐\n",
       "│ id         ┆ Gender ┆ Age  ┆ Driving_Lice ┆ … ┆ Annual_Premi ┆ Policy_Sales ┆ Vintage ┆ Response │\n",
       "│ ---        ┆ ---    ┆ ---  ┆ nse          ┆   ┆ um           ┆ _Channel     ┆ ---     ┆ ---      │\n",
       "│ f64        ┆ str    ┆ f64  ┆ ---          ┆   ┆ ---          ┆ ---          ┆ f64     ┆ f64      │\n",
       "│            ┆        ┆      ┆ f64          ┆   ┆ f64          ┆ f64          ┆         ┆          │\n",
       "╞════════════╪════════╪══════╪══════════════╪═══╪══════════════╪══════════════╪═════════╪══════════╡\n",
       "│ 5.752399e6 ┆ null   ┆ 36.0 ┆ 1.0          ┆ … ┆ 31824.0      ┆ 151.0        ┆ 166.0   ┆ 0.0      │\n",
       "└────────────┴────────┴──────┴──────────────┴───┴──────────────┴──────────────┴─────────┴──────────┘"
      ]
     },
     "execution_count": 44,
     "metadata": {},
     "output_type": "execute_result"
    }
   ],
   "source": [
    "insurance_df.quantile(0.5,\"nearest\")"
   ]
  },
  {
   "cell_type": "code",
   "execution_count": 47,
   "id": "a79169a9-2c7d-474b-999f-b7e546118fb7",
   "metadata": {},
   "outputs": [
    {
     "data": {
      "text/html": [
       "<div><style>\n",
       ".dataframe > thead > tr,\n",
       ".dataframe > tbody > tr {\n",
       "  text-align: right;\n",
       "  white-space: pre-wrap;\n",
       "}\n",
       "</style>\n",
       "<small>shape: (1, 12)</small><table border=\"1\" class=\"dataframe\"><thead><tr><th>id</th><th>Gender</th><th>Age</th><th>Driving_License</th><th>Region_Code</th><th>Previously_Insured</th><th>Vehicle_Age</th><th>Vehicle_Damage</th><th>Annual_Premium</th><th>Policy_Sales_Channel</th><th>Vintage</th><th>Response</th></tr><tr><td>f64</td><td>str</td><td>f64</td><td>f64</td><td>f64</td><td>f64</td><td>str</td><td>str</td><td>f64</td><td>f64</td><td>f64</td><td>f64</td></tr></thead><tbody><tr><td>3.3211e6</td><td>null</td><td>14.993459</td><td>0.044431</td><td>12.99159</td><td>0.498629</td><td>null</td><td>null</td><td>16454.745205</td><td>54.035708</td><td>79.979531</td><td>0.328434</td></tr></tbody></table></div>"
      ],
      "text/plain": [
       "shape: (1, 12)\n",
       "┌──────────┬────────┬───────────┬─────────────┬───┬────────────┬────────────┬───────────┬──────────┐\n",
       "│ id       ┆ Gender ┆ Age       ┆ Driving_Lic ┆ … ┆ Annual_Pre ┆ Policy_Sal ┆ Vintage   ┆ Response │\n",
       "│ ---      ┆ ---    ┆ ---       ┆ ense        ┆   ┆ mium       ┆ es_Channel ┆ ---       ┆ ---      │\n",
       "│ f64      ┆ str    ┆ f64       ┆ ---         ┆   ┆ ---        ┆ ---        ┆ f64       ┆ f64      │\n",
       "│          ┆        ┆           ┆ f64         ┆   ┆ f64        ┆ f64        ┆           ┆          │\n",
       "╞══════════╪════════╪═══════════╪═════════════╪═══╪════════════╪════════════╪═══════════╪══════════╡\n",
       "│ 3.3211e6 ┆ null   ┆ 14.993459 ┆ 0.044431    ┆ … ┆ 16454.7452 ┆ 54.035708  ┆ 79.979531 ┆ 0.328434 │\n",
       "│          ┆        ┆           ┆             ┆   ┆ 05         ┆            ┆           ┆          │\n",
       "└──────────┴────────┴───────────┴─────────────┴───┴────────────┴────────────┴───────────┴──────────┘"
      ]
     },
     "execution_count": 47,
     "metadata": {},
     "output_type": "execute_result"
    }
   ],
   "source": [
    "insurance_df.std()"
   ]
  },
  {
   "cell_type": "code",
   "execution_count": 48,
   "id": "3516c501-1451-42c2-bdb5-71a96da02358",
   "metadata": {},
   "outputs": [
    {
     "data": {
      "text/html": [
       "<div><style>\n",
       ".dataframe > thead > tr,\n",
       ".dataframe > tbody > tr {\n",
       "  text-align: right;\n",
       "  white-space: pre-wrap;\n",
       "}\n",
       "</style>\n",
       "<small>shape: (1, 12)</small><table border=\"1\" class=\"dataframe\"><thead><tr><th>id</th><th>Gender</th><th>Age</th><th>Driving_License</th><th>Region_Code</th><th>Previously_Insured</th><th>Vehicle_Age</th><th>Vehicle_Damage</th><th>Annual_Premium</th><th>Policy_Sales_Channel</th><th>Vintage</th><th>Response</th></tr><tr><td>i64</td><td>str</td><td>i64</td><td>i64</td><td>f64</td><td>i64</td><td>str</td><td>str</td><td>f64</td><td>f64</td><td>i64</td><td>i64</td></tr></thead><tbody><tr><td>66180182758003</td><td>null</td><td>441595143</td><td>11482041</td><td>3.0394e8</td><td>5326682</td><td>null</td><td>null</td><td>3.5045e11</td><td>1.2934e9</td><td>1885610436</td><td>1415059</td></tr></tbody></table></div>"
      ],
      "text/plain": [
       "shape: (1, 12)\n",
       "┌────────────┬────────┬───────────┬────────────┬───┬────────────┬───────────┬───────────┬──────────┐\n",
       "│ id         ┆ Gender ┆ Age       ┆ Driving_Li ┆ … ┆ Annual_Pre ┆ Policy_Sa ┆ Vintage   ┆ Response │\n",
       "│ ---        ┆ ---    ┆ ---       ┆ cense      ┆   ┆ mium       ┆ les_Chann ┆ ---       ┆ ---      │\n",
       "│ i64        ┆ str    ┆ i64       ┆ ---        ┆   ┆ ---        ┆ el        ┆ i64       ┆ i64      │\n",
       "│            ┆        ┆           ┆ i64        ┆   ┆ f64        ┆ ---       ┆           ┆          │\n",
       "│            ┆        ┆           ┆            ┆   ┆            ┆ f64       ┆           ┆          │\n",
       "╞════════════╪════════╪═══════════╪════════════╪═══╪════════════╪═══════════╪═══════════╪══════════╡\n",
       "│ 6618018275 ┆ null   ┆ 441595143 ┆ 11482041   ┆ … ┆ 3.5045e11  ┆ 1.2934e9  ┆ 188561043 ┆ 1415059  │\n",
       "│ 8003       ┆        ┆           ┆            ┆   ┆            ┆           ┆ 6         ┆          │\n",
       "└────────────┴────────┴───────────┴────────────┴───┴────────────┴───────────┴───────────┴──────────┘"
      ]
     },
     "execution_count": 48,
     "metadata": {},
     "output_type": "execute_result"
    }
   ],
   "source": [
    "insurance_df.sum()"
   ]
  },
  {
   "cell_type": "code",
   "execution_count": 50,
   "id": "a4a3acd0-8b7b-4ca5-ae9c-fc95fff62150",
   "metadata": {},
   "outputs": [],
   "source": [
    "#insurance_df.sum_horizontal()"
   ]
  },
  {
   "cell_type": "code",
   "execution_count": 51,
   "id": "c9777537-168b-4627-9fb8-4bc9f9248ebe",
   "metadata": {},
   "outputs": [
    {
     "data": {
      "text/html": [
       "<div><style>\n",
       ".dataframe > thead > tr,\n",
       ".dataframe > tbody > tr {\n",
       "  text-align: right;\n",
       "  white-space: pre-wrap;\n",
       "}\n",
       "</style>\n",
       "<small>shape: (1, 12)</small><table border=\"1\" class=\"dataframe\"><thead><tr><th>id</th><th>Gender</th><th>Age</th><th>Driving_License</th><th>Region_Code</th><th>Previously_Insured</th><th>Vehicle_Age</th><th>Vehicle_Damage</th><th>Annual_Premium</th><th>Policy_Sales_Channel</th><th>Vintage</th><th>Response</th></tr><tr><td>f64</td><td>str</td><td>f64</td><td>f64</td><td>f64</td><td>f64</td><td>str</td><td>str</td><td>f64</td><td>f64</td><td>f64</td><td>f64</td></tr></thead><tbody><tr><td>1.1030e13</td><td>null</td><td>224.803798</td><td>0.001974</td><td>168.781416</td><td>0.248631</td><td>null</td><td>null</td><td>2.7076e8</td><td>2919.857715</td><td>6396.725396</td><td>0.107869</td></tr></tbody></table></div>"
      ],
      "text/plain": [
       "shape: (1, 12)\n",
       "┌───────────┬────────┬────────────┬────────────┬───┬────────────┬───────────┬───────────┬──────────┐\n",
       "│ id        ┆ Gender ┆ Age        ┆ Driving_Li ┆ … ┆ Annual_Pre ┆ Policy_Sa ┆ Vintage   ┆ Response │\n",
       "│ ---       ┆ ---    ┆ ---        ┆ cense      ┆   ┆ mium       ┆ les_Chann ┆ ---       ┆ ---      │\n",
       "│ f64       ┆ str    ┆ f64        ┆ ---        ┆   ┆ ---        ┆ el        ┆ f64       ┆ f64      │\n",
       "│           ┆        ┆            ┆ f64        ┆   ┆ f64        ┆ ---       ┆           ┆          │\n",
       "│           ┆        ┆            ┆            ┆   ┆            ┆ f64       ┆           ┆          │\n",
       "╞═══════════╪════════╪════════════╪════════════╪═══╪════════════╪═══════════╪═══════════╪══════════╡\n",
       "│ 1.1030e13 ┆ null   ┆ 224.803798 ┆ 0.001974   ┆ … ┆ 2.7076e8   ┆ 2919.8577 ┆ 6396.7253 ┆ 0.107869 │\n",
       "│           ┆        ┆            ┆            ┆   ┆            ┆ 15        ┆ 96        ┆          │\n",
       "└───────────┴────────┴────────────┴────────────┴───┴────────────┴───────────┴───────────┴──────────┘"
      ]
     },
     "execution_count": 51,
     "metadata": {},
     "output_type": "execute_result"
    }
   ],
   "source": [
    "insurance_df.var()"
   ]
  },
  {
   "cell_type": "markdown",
   "id": "bf1f8850-8e25-4c4e-8925-45ef0df0c07d",
   "metadata": {},
   "source": [
    "# Computation "
   ]
  },
  {
   "cell_type": "code",
   "execution_count": 60,
   "id": "ab78c4f9-2ea7-495f-85f3-2b8e305a06f9",
   "metadata": {},
   "outputs": [],
   "source": [
    "df = insurance_df.select([\"Age\",\"Vintage\"])"
   ]
  },
  {
   "cell_type": "code",
   "execution_count": 61,
   "id": "210735f2-71a4-4334-912d-bada1da2dafd",
   "metadata": {},
   "outputs": [
    {
     "data": {
      "text/plain": [
       "['Age', 'Vintage']"
      ]
     },
     "execution_count": 61,
     "metadata": {},
     "output_type": "execute_result"
    }
   ],
   "source": [
    "df.columns"
   ]
  },
  {
   "cell_type": "code",
   "execution_count": 62,
   "id": "faa70867-1bdb-4709-a3e3-30a6c5b937f2",
   "metadata": {},
   "outputs": [
    {
     "data": {
      "text/plain": [
       "polars.dataframe.frame.DataFrame"
      ]
     },
     "execution_count": 62,
     "metadata": {},
     "output_type": "execute_result"
    }
   ],
   "source": [
    "type(df)"
   ]
  },
  {
   "cell_type": "code",
   "execution_count": 63,
   "id": "8c04e7ac-fa50-4cbd-86e7-deef96465ff6",
   "metadata": {},
   "outputs": [
    {
     "data": {
      "text/html": [
       "<div><style>\n",
       ".dataframe > thead > tr,\n",
       ".dataframe > tbody > tr {\n",
       "  text-align: right;\n",
       "  white-space: pre-wrap;\n",
       "}\n",
       "</style>\n",
       "<small>shape: (11_504_798,)</small><table border=\"1\" class=\"dataframe\"><thead><tr><th>Age</th></tr><tr><td>i64</td></tr></thead><tbody><tr><td>208</td></tr><tr><td>331</td></tr><tr><td>279</td></tr><tr><td>111</td></tr><tr><td>330</td></tr><tr><td>&hellip;</td></tr><tr><td>266</td></tr><tr><td>141</td></tr><tr><td>218</td></tr><tr><td>325</td></tr><tr><td>214</td></tr></tbody></table></div>"
      ],
      "text/plain": [
       "shape: (11_504_798,)\n",
       "Series: 'Age' [i64]\n",
       "[\n",
       "\t208\n",
       "\t331\n",
       "\t279\n",
       "\t111\n",
       "\t330\n",
       "\t…\n",
       "\t266\n",
       "\t141\n",
       "\t218\n",
       "\t325\n",
       "\t214\n",
       "]"
      ]
     },
     "execution_count": 63,
     "metadata": {},
     "output_type": "execute_result"
    }
   ],
   "source": [
    "df.fold(lambda s1, s2: s1 + s2)"
   ]
  },
  {
   "cell_type": "code",
   "execution_count": 65,
   "id": "58d48c3a-766f-4797-89d9-0ba671aef2fe",
   "metadata": {},
   "outputs": [
    {
     "data": {
      "text/html": [
       "<div><style>\n",
       ".dataframe > thead > tr,\n",
       ".dataframe > tbody > tr {\n",
       "  text-align: right;\n",
       "  white-space: pre-wrap;\n",
       "}\n",
       "</style>\n",
       "<small>shape: (4,)</small><table border=\"1\" class=\"dataframe\"><thead><tr><th>x</th></tr><tr><td>bool</td></tr></thead><tbody><tr><td>false</td></tr><tr><td>true</td></tr><tr><td>true</td></tr><tr><td>true</td></tr></tbody></table></div>"
      ],
      "text/plain": [
       "shape: (4,)\n",
       "Series: 'x' [bool]\n",
       "[\n",
       "\tfalse\n",
       "\ttrue\n",
       "\ttrue\n",
       "\ttrue\n",
       "]"
      ]
     },
     "execution_count": 65,
     "metadata": {},
     "output_type": "execute_result"
    }
   ],
   "source": [
    "df_new = pl.DataFrame({\n",
    "    \"x\":[False,True,True,False],\n",
    "    \"y\":[False,False,True,True] }\n",
    "    )\n",
    "\n",
    "df_new.fold(lambda s1,s2: s1 | s2)"
   ]
  },
  {
   "cell_type": "code",
   "execution_count": 66,
   "id": "1b6b53e7-37e4-40e1-a2c6-b600ca02f25a",
   "metadata": {},
   "outputs": [],
   "source": [
    "df = insurance_df.select([\"Age\",\"Vehicle_Age\"])"
   ]
  },
  {
   "cell_type": "code",
   "execution_count": 67,
   "id": "b84db1bb-a16e-4d62-b81d-12b6cac55734",
   "metadata": {},
   "outputs": [
    {
     "data": {
      "text/html": [
       "<div><style>\n",
       ".dataframe > thead > tr,\n",
       ".dataframe > tbody > tr {\n",
       "  text-align: right;\n",
       "  white-space: pre-wrap;\n",
       "}\n",
       "</style>\n",
       "<small>shape: (11_504_798,)</small><table border=\"1\" class=\"dataframe\"><thead><tr><th>Age</th></tr><tr><td>str</td></tr></thead><tbody><tr><td>&quot;211-2 Year&quot;</td></tr><tr><td>&quot;43&gt; 2 Years&quot;</td></tr><tr><td>&quot;25&lt; 1 Year&quot;</td></tr><tr><td>&quot;351-2 Year&quot;</td></tr><tr><td>&quot;361-2 Year&quot;</td></tr><tr><td>&hellip;</td></tr><tr><td>&quot;481-2 Year&quot;</td></tr><tr><td>&quot;26&lt; 1 Year&quot;</td></tr><tr><td>&quot;29&lt; 1 Year&quot;</td></tr><tr><td>&quot;511-2 Year&quot;</td></tr><tr><td>&quot;25&lt; 1 Year&quot;</td></tr></tbody></table></div>"
      ],
      "text/plain": [
       "shape: (11_504_798,)\n",
       "Series: 'Age' [str]\n",
       "[\n",
       "\t\"211-2 Year\"\n",
       "\t\"43> 2 Years\"\n",
       "\t\"25< 1 Year\"\n",
       "\t\"351-2 Year\"\n",
       "\t\"361-2 Year\"\n",
       "\t…\n",
       "\t\"481-2 Year\"\n",
       "\t\"26< 1 Year\"\n",
       "\t\"29< 1 Year\"\n",
       "\t\"511-2 Year\"\n",
       "\t\"25< 1 Year\"\n",
       "]"
      ]
     },
     "execution_count": 67,
     "metadata": {},
     "output_type": "execute_result"
    }
   ],
   "source": [
    "df.fold(lambda s1, s2: s1 + s2)"
   ]
  },
  {
   "cell_type": "code",
   "execution_count": 70,
   "id": "4f044ac9-c27e-490e-8e8c-f2ec540b10d9",
   "metadata": {},
   "outputs": [],
   "source": [
    "df = insurance_df.select([\"Vintage\",\"Policy_Sales_Channel\"])"
   ]
  },
  {
   "cell_type": "code",
   "execution_count": 71,
   "id": "e3e8a7ce-e2c4-4908-a21f-c203c90d1fd2",
   "metadata": {},
   "outputs": [
    {
     "data": {
      "text/html": [
       "<div><style>\n",
       ".dataframe > thead > tr,\n",
       ".dataframe > tbody > tr {\n",
       "  text-align: right;\n",
       "  white-space: pre-wrap;\n",
       "}\n",
       "</style>\n",
       "<small>shape: (11_504_798,)</small><table border=\"1\" class=\"dataframe\"><thead><tr><th>Vintage</th></tr><tr><td>i64</td></tr></thead><tbody><tr><td>187</td></tr><tr><td>288</td></tr><tr><td>254</td></tr><tr><td>76</td></tr><tr><td>294</td></tr><tr><td>&hellip;</td></tr><tr><td>218</td></tr><tr><td>115</td></tr><tr><td>189</td></tr><tr><td>274</td></tr><tr><td>189</td></tr></tbody></table></div>"
      ],
      "text/plain": [
       "shape: (11_504_798,)\n",
       "Series: 'Vintage' [i64]\n",
       "[\n",
       "\t187\n",
       "\t288\n",
       "\t254\n",
       "\t76\n",
       "\t294\n",
       "\t…\n",
       "\t218\n",
       "\t115\n",
       "\t189\n",
       "\t274\n",
       "\t189\n",
       "]"
      ]
     },
     "execution_count": 71,
     "metadata": {},
     "output_type": "execute_result"
    }
   ],
   "source": [
    "df.fold(lambda s1, s2: s1.zip_with(s1 < s2, s1))"
   ]
  },
  {
   "cell_type": "code",
   "execution_count": 72,
   "id": "9992f016-26fa-4076-b94d-907a0e7aa78a",
   "metadata": {},
   "outputs": [],
   "source": [
    "df = pl.DataFrame({\n",
    "    \"column1\": [1, 2, 3],\n",
    "    \"column2\": [\"a\", \"b\", \"c\"],\n",
    "    \"column3\": [True, False, True]\n",
    "})\n"
   ]
  },
  {
   "cell_type": "code",
   "execution_count": 73,
   "id": "f81cad9d-0b54-43c7-80da-54a3a1ebde92",
   "metadata": {},
   "outputs": [],
   "source": [
    "# Computing hash values for each row\n",
    "hashed_rows = df.hash_rows()"
   ]
  },
  {
   "cell_type": "code",
   "execution_count": 77,
   "id": "82a27809-7897-4c9e-921c-6ad1e4edf4a2",
   "metadata": {},
   "outputs": [
    {
     "name": "stdout",
     "output_type": "stream",
     "text": [
      "shape: (3,)\n",
      "Series: '' [u64]\n",
      "[\n",
      "\t14243803916997746971\n",
      "\t3996096467982460256\n",
      "\t16030991012432678\n",
      "]\n"
     ]
    }
   ],
   "source": [
    "# Adding the hash values as a new column to the DataFrame\n",
    "print(hashed_rows)"
   ]
  },
  {
   "cell_type": "markdown",
   "id": "b110df29-bdd3-4b72-a321-30f2f26c141b",
   "metadata": {},
   "source": [
    "# Export Methods "
   ]
  },
  {
   "cell_type": "code",
   "execution_count": 78,
   "id": "9e1f4ff5-23dd-440c-a180-3a3e7be700b5",
   "metadata": {},
   "outputs": [],
   "source": [
    "df_dict = insurance_df.to_dict(as_series=False)"
   ]
  },
  {
   "cell_type": "code",
   "execution_count": 79,
   "id": "6f106662-5c2f-4326-babc-2b7c19516f47",
   "metadata": {},
   "outputs": [
    {
     "data": {
      "text/plain": [
       "dict"
      ]
     },
     "execution_count": 79,
     "metadata": {},
     "output_type": "execute_result"
    }
   ],
   "source": [
    "type(df_dict)"
   ]
  },
  {
   "cell_type": "code",
   "execution_count": 80,
   "id": "82087fb0-7dbf-46ee-998c-5fb4d78cf01d",
   "metadata": {},
   "outputs": [],
   "source": [
    "df_arrow = insurance_df.to_arrow()"
   ]
  },
  {
   "cell_type": "code",
   "execution_count": 81,
   "id": "2b37cea8-be41-46ea-a8e3-a9efc3fb71ce",
   "metadata": {},
   "outputs": [
    {
     "data": {
      "text/plain": [
       "pyarrow.lib.Table"
      ]
     },
     "execution_count": 81,
     "metadata": {},
     "output_type": "execute_result"
    }
   ],
   "source": [
    "type(df_arrow)"
   ]
  },
  {
   "cell_type": "code",
   "execution_count": 82,
   "id": "8e324592-6ddb-46fb-87db-9ff4d827c739",
   "metadata": {},
   "outputs": [
    {
     "data": {
      "text/plain": [
       "11504798"
      ]
     },
     "execution_count": 82,
     "metadata": {},
     "output_type": "execute_result"
    }
   ],
   "source": [
    "df = insurance_df.__dataframe__()\n",
    "df.num_rows()"
   ]
  },
  {
   "cell_type": "code",
   "execution_count": 83,
   "id": "9e488651-0814-45f5-9be9-4656f7ddd244",
   "metadata": {},
   "outputs": [
    {
     "data": {
      "text/plain": [
       "(<DtypeKind.STRING: 21>, 8, 'U', '=')"
      ]
     },
     "execution_count": 83,
     "metadata": {},
     "output_type": "execute_result"
    }
   ],
   "source": [
    "df.get_column(1).dtype"
   ]
  },
  {
   "cell_type": "code",
   "execution_count": 84,
   "id": "8defd86f-a32e-451a-b3f8-8218f4db92e2",
   "metadata": {},
   "outputs": [
    {
     "data": {
      "text/plain": [
       "polars.interchange.dataframe.PolarsDataFrame"
      ]
     },
     "execution_count": 84,
     "metadata": {},
     "output_type": "execute_result"
    }
   ],
   "source": [
    "type(df)"
   ]
  },
  {
   "cell_type": "code",
   "execution_count": 85,
   "id": "5179f732-0c73-43fd-9d38-6794a6801c9f",
   "metadata": {},
   "outputs": [
    {
     "data": {
      "text/plain": [
       "polars.dataframe.frame.DataFrame"
      ]
     },
     "execution_count": 85,
     "metadata": {},
     "output_type": "execute_result"
    }
   ],
   "source": [
    "type(insurance_df)"
   ]
  },
  {
   "cell_type": "code",
   "execution_count": 5,
   "id": "b12d96a3-fd47-4be6-8f26-09f882346798",
   "metadata": {},
   "outputs": [
    {
     "data": {
      "text/plain": [
       "str"
      ]
     },
     "execution_count": 5,
     "metadata": {},
     "output_type": "execute_result"
    }
   ],
   "source": [
    "df = insurance_df.to_init_repr()\n",
    "type(df)"
   ]
  },
  {
   "cell_type": "code",
   "execution_count": 7,
   "id": "4a5f3831-bf3a-4b8d-90a7-791bb5d3d1a5",
   "metadata": {},
   "outputs": [
    {
     "data": {
      "text/plain": [
       "numpy.ndarray"
      ]
     },
     "execution_count": 7,
     "metadata": {},
     "output_type": "execute_result"
    }
   ],
   "source": [
    "df = insurance_df.to_numpy()\n",
    "type(df)"
   ]
  },
  {
   "cell_type": "code",
   "execution_count": 8,
   "id": "23b668b0-c99c-4e1a-a917-653a3d78e87d",
   "metadata": {},
   "outputs": [
    {
     "data": {
      "text/plain": [
       "pandas.core.frame.DataFrame"
      ]
     },
     "execution_count": 8,
     "metadata": {},
     "output_type": "execute_result"
    }
   ],
   "source": [
    "df = insurance_df.to_pandas()\n",
    "type(df)"
   ]
  },
  {
   "cell_type": "code",
   "execution_count": 9,
   "id": "60148439-109f-46e4-84fb-dcd0bc50c2c5",
   "metadata": {},
   "outputs": [
    {
     "data": {
      "text/plain": [
       "polars.series.series.Series"
      ]
     },
     "execution_count": 9,
     "metadata": {},
     "output_type": "execute_result"
    }
   ],
   "source": [
    "df = insurance_df.to_struct()\n",
    "type(df)"
   ]
  },
  {
   "cell_type": "markdown",
   "id": "63501fe6-509a-40a7-bb67-0480ffddc846",
   "metadata": {},
   "source": [
    "# GroupBy Methods "
   ]
  },
  {
   "cell_type": "code",
   "execution_count": 11,
   "id": "cd4bdfe7-2ecd-4a62-bb6f-b994d4938c86",
   "metadata": {},
   "outputs": [
    {
     "name": "stdout",
     "output_type": "stream",
     "text": [
      "('Female',)\n",
      "shape: (5_276_664, 12)\n",
      "┌──────────┬────────┬─────┬───────────────┬───┬───────────────┬───────────────┬─────────┬──────────┐\n",
      "│ id       ┆ Gender ┆ Age ┆ Driving_Licen ┆ … ┆ Annual_Premiu ┆ Policy_Sales_ ┆ Vintage ┆ Response │\n",
      "│ ---      ┆ ---    ┆ --- ┆ se            ┆   ┆ m             ┆ Channel       ┆ ---     ┆ ---      │\n",
      "│ i64      ┆ str    ┆ i64 ┆ ---           ┆   ┆ ---           ┆ ---           ┆ i64     ┆ i64      │\n",
      "│          ┆        ┆     ┆ i64           ┆   ┆ f64           ┆ f64           ┆         ┆          │\n",
      "╞══════════╪════════╪═════╪═══════════════╪═══╪═══════════════╪═══════════════╪═════════╪══════════╡\n",
      "│ 2        ┆ Female ┆ 25  ┆ 1             ┆ … ┆ 38043.0       ┆ 152.0         ┆ 254     ┆ 0        │\n",
      "│ 3        ┆ Female ┆ 35  ┆ 1             ┆ … ┆ 2630.0        ┆ 156.0         ┆ 76      ┆ 0        │\n",
      "│ 4        ┆ Female ┆ 36  ┆ 1             ┆ … ┆ 31951.0       ┆ 152.0         ┆ 294     ┆ 0        │\n",
      "│ 5        ┆ Female ┆ 31  ┆ 1             ┆ … ┆ 28150.0       ┆ 152.0         ┆ 197     ┆ 0        │\n",
      "│ 7        ┆ Female ┆ 47  ┆ 1             ┆ … ┆ 40659.0       ┆ 26.0          ┆ 262     ┆ 1        │\n",
      "│ …        ┆ …      ┆ …   ┆ …             ┆ … ┆ …             ┆ …             ┆ …       ┆ …        │\n",
      "│ 11504790 ┆ Female ┆ 21  ┆ 1             ┆ … ┆ 38097.0       ┆ 152.0         ┆ 275     ┆ 0        │\n",
      "│ 11504791 ┆ Female ┆ 31  ┆ 1             ┆ … ┆ 2630.0        ┆ 152.0         ┆ 204     ┆ 0        │\n",
      "│ 11504794 ┆ Female ┆ 26  ┆ 1             ┆ … ┆ 29509.0       ┆ 152.0         ┆ 115     ┆ 1        │\n",
      "│ 11504795 ┆ Female ┆ 29  ┆ 1             ┆ … ┆ 2630.0        ┆ 152.0         ┆ 189     ┆ 0        │\n",
      "│ 11504796 ┆ Female ┆ 51  ┆ 1             ┆ … ┆ 48443.0       ┆ 26.0          ┆ 274     ┆ 1        │\n",
      "└──────────┴────────┴─────┴───────────────┴───┴───────────────┴───────────────┴─────────┴──────────┘\n",
      "('Male',)\n",
      "shape: (6_228_134, 12)\n",
      "┌──────────┬────────┬─────┬───────────────┬───┬───────────────┬───────────────┬─────────┬──────────┐\n",
      "│ id       ┆ Gender ┆ Age ┆ Driving_Licen ┆ … ┆ Annual_Premiu ┆ Policy_Sales_ ┆ Vintage ┆ Response │\n",
      "│ ---      ┆ ---    ┆ --- ┆ se            ┆   ┆ m             ┆ Channel       ┆ ---     ┆ ---      │\n",
      "│ i64      ┆ str    ┆ i64 ┆ ---           ┆   ┆ ---           ┆ ---           ┆ i64     ┆ i64      │\n",
      "│          ┆        ┆     ┆ i64           ┆   ┆ f64           ┆ f64           ┆         ┆          │\n",
      "╞══════════╪════════╪═════╪═══════════════╪═══╪═══════════════╪═══════════════╪═════════╪══════════╡\n",
      "│ 0        ┆ Male   ┆ 21  ┆ 1             ┆ … ┆ 65101.0       ┆ 124.0         ┆ 187     ┆ 0        │\n",
      "│ 1        ┆ Male   ┆ 43  ┆ 1             ┆ … ┆ 58911.0       ┆ 26.0          ┆ 288     ┆ 1        │\n",
      "│ 6        ┆ Male   ┆ 23  ┆ 1             ┆ … ┆ 27128.0       ┆ 152.0         ┆ 190     ┆ 0        │\n",
      "│ 10       ┆ Male   ┆ 22  ┆ 1             ┆ … ┆ 27996.0       ┆ 152.0         ┆ 215     ┆ 0        │\n",
      "│ 12       ┆ Male   ┆ 36  ┆ 1             ┆ … ┆ 38104.0       ┆ 26.0          ┆ 203     ┆ 0        │\n",
      "│ …        ┆ …      ┆ …   ┆ …             ┆ … ┆ …             ┆ …             ┆ …       ┆ …        │\n",
      "│ 11504788 ┆ Male   ┆ 66  ┆ 1             ┆ … ┆ 2630.0        ┆ 152.0         ┆ 74      ┆ 0        │\n",
      "│ 11504789 ┆ Male   ┆ 27  ┆ 1             ┆ … ┆ 53615.0       ┆ 152.0         ┆ 98      ┆ 0        │\n",
      "│ 11504792 ┆ Male   ┆ 34  ┆ 1             ┆ … ┆ 29974.0       ┆ 154.0         ┆ 201     ┆ 0        │\n",
      "│ 11504793 ┆ Male   ┆ 48  ┆ 1             ┆ … ┆ 27412.0       ┆ 26.0          ┆ 218     ┆ 0        │\n",
      "│ 11504797 ┆ Male   ┆ 25  ┆ 1             ┆ … ┆ 32855.0       ┆ 152.0         ┆ 189     ┆ 0        │\n",
      "└──────────┴────────┴─────┴───────────────┴───┴───────────────┴───────────────┴─────────┴──────────┘\n"
     ]
    }
   ],
   "source": [
    "for name, data in insurance_df.group_by(\"Gender\"):\n",
    "    print(name)\n",
    "    print(data)"
   ]
  },
  {
   "cell_type": "markdown",
   "id": "4d633200-263d-4742-9d5d-df922ef7177d",
   "metadata": {},
   "source": [
    "## GroupBy Agg"
   ]
  },
  {
   "cell_type": "code",
   "execution_count": 13,
   "id": "ec8331fc-fe5b-47ed-80dd-0aa042708715",
   "metadata": {},
   "outputs": [
    {
     "data": {
      "text/html": [
       "<div><style>\n",
       ".dataframe > thead > tr,\n",
       ".dataframe > tbody > tr {\n",
       "  text-align: right;\n",
       "  white-space: pre-wrap;\n",
       "}\n",
       "</style>\n",
       "<small>shape: (2, 2)</small><table border=\"1\" class=\"dataframe\"><thead><tr><th>Gender</th><th>Annual_Premium</th></tr><tr><td>str</td><td>f64</td></tr></thead><tbody><tr><td>&quot;Male&quot;</td><td>1.9072e11</td></tr><tr><td>&quot;Female&quot;</td><td>1.5973e11</td></tr></tbody></table></div>"
      ],
      "text/plain": [
       "shape: (2, 2)\n",
       "┌────────┬────────────────┐\n",
       "│ Gender ┆ Annual_Premium │\n",
       "│ ---    ┆ ---            │\n",
       "│ str    ┆ f64            │\n",
       "╞════════╪════════════════╡\n",
       "│ Male   ┆ 1.9072e11      │\n",
       "│ Female ┆ 1.5973e11      │\n",
       "└────────┴────────────────┘"
      ]
     },
     "execution_count": 13,
     "metadata": {},
     "output_type": "execute_result"
    }
   ],
   "source": [
    "insurance_df.group_by(\"Gender\").agg(pl.col(\"Annual_Premium\").sum())"
   ]
  },
  {
   "cell_type": "code",
   "execution_count": 14,
   "id": "037f612c-0564-4559-b3dc-fe63d822db69",
   "metadata": {},
   "outputs": [
    {
     "data": {
      "text/html": [
       "<div><style>\n",
       ".dataframe > thead > tr,\n",
       ".dataframe > tbody > tr {\n",
       "  text-align: right;\n",
       "  white-space: pre-wrap;\n",
       "}\n",
       "</style>\n",
       "<small>shape: (2, 3)</small><table border=\"1\" class=\"dataframe\"><thead><tr><th>Gender</th><th>Annual_Premium</th><th>Policy_Sales_Channel</th></tr><tr><td>str</td><td>f64</td><td>f64</td></tr></thead><tbody><tr><td>&quot;Male&quot;</td><td>1.9072e11</td><td>106.653029</td></tr><tr><td>&quot;Female&quot;</td><td>1.5973e11</td><td>119.238717</td></tr></tbody></table></div>"
      ],
      "text/plain": [
       "shape: (2, 3)\n",
       "┌────────┬────────────────┬──────────────────────┐\n",
       "│ Gender ┆ Annual_Premium ┆ Policy_Sales_Channel │\n",
       "│ ---    ┆ ---            ┆ ---                  │\n",
       "│ str    ┆ f64            ┆ f64                  │\n",
       "╞════════╪════════════════╪══════════════════════╡\n",
       "│ Male   ┆ 1.9072e11      ┆ 106.653029           │\n",
       "│ Female ┆ 1.5973e11      ┆ 119.238717           │\n",
       "└────────┴────────────────┴──────────────────────┘"
      ]
     },
     "execution_count": 14,
     "metadata": {},
     "output_type": "execute_result"
    }
   ],
   "source": [
    "insurance_df.group_by(\"Gender\").agg([pl.sum(\"Annual_Premium\"),pl.mean(\"Policy_Sales_Channel\")])"
   ]
  },
  {
   "cell_type": "markdown",
   "id": "7da85bcc-cd18-45ac-8bd7-e8e65580f3df",
   "metadata": {},
   "source": [
    "## GroupBy All "
   ]
  },
  {
   "cell_type": "code",
   "execution_count": 15,
   "id": "9f978323-1e9c-437e-a60e-c08bc4f821ca",
   "metadata": {},
   "outputs": [
    {
     "data": {
      "text/html": [
       "<div><style>\n",
       ".dataframe > thead > tr,\n",
       ".dataframe > tbody > tr {\n",
       "  text-align: right;\n",
       "  white-space: pre-wrap;\n",
       "}\n",
       "</style>\n",
       "<small>shape: (2, 12)</small><table border=\"1\" class=\"dataframe\"><thead><tr><th>Gender</th><th>id</th><th>Age</th><th>Driving_License</th><th>Region_Code</th><th>Previously_Insured</th><th>Vehicle_Age</th><th>Vehicle_Damage</th><th>Annual_Premium</th><th>Policy_Sales_Channel</th><th>Vintage</th><th>Response</th></tr><tr><td>str</td><td>list[i64]</td><td>list[i64]</td><td>list[i64]</td><td>list[f64]</td><td>list[i64]</td><td>list[str]</td><td>list[str]</td><td>list[f64]</td><td>list[f64]</td><td>list[i64]</td><td>list[i64]</td></tr></thead><tbody><tr><td>&quot;Male&quot;</td><td>[0, 1, … 11504797]</td><td>[21, 43, … 25]</td><td>[1, 1, … 1]</td><td>[35.0, 28.0, … 28.0]</td><td>[0, 0, … 1]</td><td>[&quot;1-2 Year&quot;, &quot;&gt; 2 Years&quot;, … &quot;&lt; 1 Year&quot;]</td><td>[&quot;Yes&quot;, &quot;Yes&quot;, … &quot;No&quot;]</td><td>[65101.0, 58911.0, … 32855.0]</td><td>[124.0, 26.0, … 152.0]</td><td>[187, 288, … 189]</td><td>[0, 1, … 0]</td></tr><tr><td>&quot;Female&quot;</td><td>[2, 3, … 11504796]</td><td>[25, 35, … 51]</td><td>[1, 1, … 1]</td><td>[14.0, 1.0, … 28.0]</td><td>[1, 0, … 0]</td><td>[&quot;&lt; 1 Year&quot;, &quot;1-2 Year&quot;, … &quot;1-2 Year&quot;]</td><td>[&quot;No&quot;, &quot;Yes&quot;, … &quot;Yes&quot;]</td><td>[38043.0, 2630.0, … 48443.0]</td><td>[152.0, 156.0, … 26.0]</td><td>[254, 76, … 274]</td><td>[0, 0, … 1]</td></tr></tbody></table></div>"
      ],
      "text/plain": [
       "shape: (2, 12)\n",
       "┌────────┬────────────┬────────────┬───────────┬───┬───────────┬───────────┬───────────┬───────────┐\n",
       "│ Gender ┆ id         ┆ Age        ┆ Driving_L ┆ … ┆ Annual_Pr ┆ Policy_Sa ┆ Vintage   ┆ Response  │\n",
       "│ ---    ┆ ---        ┆ ---        ┆ icense    ┆   ┆ emium     ┆ les_Chann ┆ ---       ┆ ---       │\n",
       "│ str    ┆ list[i64]  ┆ list[i64]  ┆ ---       ┆   ┆ ---       ┆ el        ┆ list[i64] ┆ list[i64] │\n",
       "│        ┆            ┆            ┆ list[i64] ┆   ┆ list[f64] ┆ ---       ┆           ┆           │\n",
       "│        ┆            ┆            ┆           ┆   ┆           ┆ list[f64] ┆           ┆           │\n",
       "╞════════╪════════════╪════════════╪═══════════╪═══╪═══════════╪═══════════╪═══════════╪═══════════╡\n",
       "│ Male   ┆ [0, 1, …   ┆ [21, 43, … ┆ [1, 1, …  ┆ … ┆ [65101.0, ┆ [124.0,   ┆ [187,     ┆ [0, 1, …  │\n",
       "│        ┆ 11504797]  ┆ 25]        ┆ 1]        ┆   ┆ 58911.0,  ┆ 26.0, …   ┆ 288, …    ┆ 0]        │\n",
       "│        ┆            ┆            ┆           ┆   ┆ …         ┆ 152.0]    ┆ 189]      ┆           │\n",
       "│        ┆            ┆            ┆           ┆   ┆ 32855.0]  ┆           ┆           ┆           │\n",
       "│ Female ┆ [2, 3, …   ┆ [25, 35, … ┆ [1, 1, …  ┆ … ┆ [38043.0, ┆ [152.0,   ┆ [254, 76, ┆ [0, 0, …  │\n",
       "│        ┆ 11504796]  ┆ 51]        ┆ 1]        ┆   ┆ 2630.0, … ┆ 156.0, …  ┆ … 274]    ┆ 1]        │\n",
       "│        ┆            ┆            ┆           ┆   ┆ 48443.0]  ┆ 26.0]     ┆           ┆           │\n",
       "└────────┴────────────┴────────────┴───────────┴───┴───────────┴───────────┴───────────┴───────────┘"
      ]
     },
     "execution_count": 15,
     "metadata": {},
     "output_type": "execute_result"
    }
   ],
   "source": [
    "insurance_df.group_by(\"Gender\",maintain_order=True).all()"
   ]
  },
  {
   "cell_type": "markdown",
   "id": "4ca1b1f1-bbc9-44b4-b8af-0fc29038098e",
   "metadata": {},
   "source": [
    "## GroupBy Count"
   ]
  },
  {
   "cell_type": "code",
   "execution_count": 16,
   "id": "8addcb43-94e8-4d6f-9326-9ac533123cbc",
   "metadata": {},
   "outputs": [
    {
     "name": "stderr",
     "output_type": "stream",
     "text": [
      "C:\\Users\\Saurav\\AppData\\Local\\Temp\\ipykernel_2888\\4120252076.py:1: DeprecationWarning: `GroupBy.count` is deprecated. It has been renamed to `len`.\n",
      "  insurance_df.group_by(\"Gender\").count()\n"
     ]
    },
    {
     "data": {
      "text/html": [
       "<div><style>\n",
       ".dataframe > thead > tr,\n",
       ".dataframe > tbody > tr {\n",
       "  text-align: right;\n",
       "  white-space: pre-wrap;\n",
       "}\n",
       "</style>\n",
       "<small>shape: (2, 2)</small><table border=\"1\" class=\"dataframe\"><thead><tr><th>Gender</th><th>count</th></tr><tr><td>str</td><td>u32</td></tr></thead><tbody><tr><td>&quot;Female&quot;</td><td>5276664</td></tr><tr><td>&quot;Male&quot;</td><td>6228134</td></tr></tbody></table></div>"
      ],
      "text/plain": [
       "shape: (2, 2)\n",
       "┌────────┬─────────┐\n",
       "│ Gender ┆ count   │\n",
       "│ ---    ┆ ---     │\n",
       "│ str    ┆ u32     │\n",
       "╞════════╪═════════╡\n",
       "│ Female ┆ 5276664 │\n",
       "│ Male   ┆ 6228134 │\n",
       "└────────┴─────────┘"
      ]
     },
     "execution_count": 16,
     "metadata": {},
     "output_type": "execute_result"
    }
   ],
   "source": [
    "insurance_df.group_by(\"Gender\").count()"
   ]
  },
  {
   "cell_type": "markdown",
   "id": "cdeeb383-b7cc-4fb3-a574-ba86f3bc6605",
   "metadata": {},
   "source": [
    "## GroupBy first"
   ]
  },
  {
   "cell_type": "code",
   "execution_count": 17,
   "id": "be293aca-b483-4ded-9284-397f35a24a9b",
   "metadata": {},
   "outputs": [
    {
     "data": {
      "text/html": [
       "<div><style>\n",
       ".dataframe > thead > tr,\n",
       ".dataframe > tbody > tr {\n",
       "  text-align: right;\n",
       "  white-space: pre-wrap;\n",
       "}\n",
       "</style>\n",
       "<small>shape: (3, 12)</small><table border=\"1\" class=\"dataframe\"><thead><tr><th>Vehicle_Age</th><th>id</th><th>Gender</th><th>Age</th><th>Driving_License</th><th>Region_Code</th><th>Previously_Insured</th><th>Vehicle_Damage</th><th>Annual_Premium</th><th>Policy_Sales_Channel</th><th>Vintage</th><th>Response</th></tr><tr><td>str</td><td>i64</td><td>str</td><td>i64</td><td>i64</td><td>f64</td><td>i64</td><td>str</td><td>f64</td><td>f64</td><td>i64</td><td>i64</td></tr></thead><tbody><tr><td>&quot;1-2 Year&quot;</td><td>0</td><td>&quot;Male&quot;</td><td>21</td><td>1</td><td>35.0</td><td>0</td><td>&quot;Yes&quot;</td><td>65101.0</td><td>124.0</td><td>187</td><td>0</td></tr><tr><td>&quot;&gt; 2 Years&quot;</td><td>1</td><td>&quot;Male&quot;</td><td>43</td><td>1</td><td>28.0</td><td>0</td><td>&quot;Yes&quot;</td><td>58911.0</td><td>26.0</td><td>288</td><td>1</td></tr><tr><td>&quot;&lt; 1 Year&quot;</td><td>2</td><td>&quot;Female&quot;</td><td>25</td><td>1</td><td>14.0</td><td>1</td><td>&quot;No&quot;</td><td>38043.0</td><td>152.0</td><td>254</td><td>0</td></tr></tbody></table></div>"
      ],
      "text/plain": [
       "shape: (3, 12)\n",
       "┌─────────────┬─────┬────────┬─────┬───┬────────────────┬─────────────────────┬─────────┬──────────┐\n",
       "│ Vehicle_Age ┆ id  ┆ Gender ┆ Age ┆ … ┆ Annual_Premium ┆ Policy_Sales_Channe ┆ Vintage ┆ Response │\n",
       "│ ---         ┆ --- ┆ ---    ┆ --- ┆   ┆ ---            ┆ l                   ┆ ---     ┆ ---      │\n",
       "│ str         ┆ i64 ┆ str    ┆ i64 ┆   ┆ f64            ┆ ---                 ┆ i64     ┆ i64      │\n",
       "│             ┆     ┆        ┆     ┆   ┆                ┆ f64                 ┆         ┆          │\n",
       "╞═════════════╪═════╪════════╪═════╪═══╪════════════════╪═════════════════════╪═════════╪══════════╡\n",
       "│ 1-2 Year    ┆ 0   ┆ Male   ┆ 21  ┆ … ┆ 65101.0        ┆ 124.0               ┆ 187     ┆ 0        │\n",
       "│ > 2 Years   ┆ 1   ┆ Male   ┆ 43  ┆ … ┆ 58911.0        ┆ 26.0                ┆ 288     ┆ 1        │\n",
       "│ < 1 Year    ┆ 2   ┆ Female ┆ 25  ┆ … ┆ 38043.0        ┆ 152.0               ┆ 254     ┆ 0        │\n",
       "└─────────────┴─────┴────────┴─────┴───┴────────────────┴─────────────────────┴─────────┴──────────┘"
      ]
     },
     "execution_count": 17,
     "metadata": {},
     "output_type": "execute_result"
    }
   ],
   "source": [
    "insurance_df.group_by(\"Vehicle_Age\").first()"
   ]
  },
  {
   "cell_type": "markdown",
   "id": "aa8c8e6e-f043-42e0-a290-67340e9aa9fa",
   "metadata": {},
   "source": [
    "## GroupBy Head"
   ]
  },
  {
   "cell_type": "code",
   "execution_count": 20,
   "id": "dbf0f8d0-7be0-431d-86ac-c1debc3bc003",
   "metadata": {},
   "outputs": [
    {
     "data": {
      "text/html": [
       "<div><style>\n",
       ".dataframe > thead > tr,\n",
       ".dataframe > tbody > tr {\n",
       "  text-align: right;\n",
       "  white-space: pre-wrap;\n",
       "}\n",
       "</style>\n",
       "<small>shape: (9, 12)</small><table border=\"1\" class=\"dataframe\"><thead><tr><th>Vehicle_Age</th><th>id</th><th>Gender</th><th>Age</th><th>Driving_License</th><th>Region_Code</th><th>Previously_Insured</th><th>Vehicle_Damage</th><th>Annual_Premium</th><th>Policy_Sales_Channel</th><th>Vintage</th><th>Response</th></tr><tr><td>str</td><td>i64</td><td>str</td><td>i64</td><td>i64</td><td>f64</td><td>i64</td><td>str</td><td>f64</td><td>f64</td><td>i64</td><td>i64</td></tr></thead><tbody><tr><td>&quot;&lt; 1 Year&quot;</td><td>2</td><td>&quot;Female&quot;</td><td>25</td><td>1</td><td>14.0</td><td>1</td><td>&quot;No&quot;</td><td>38043.0</td><td>152.0</td><td>254</td><td>0</td></tr><tr><td>&quot;&lt; 1 Year&quot;</td><td>5</td><td>&quot;Female&quot;</td><td>31</td><td>1</td><td>47.0</td><td>1</td><td>&quot;No&quot;</td><td>28150.0</td><td>152.0</td><td>197</td><td>0</td></tr><tr><td>&quot;&lt; 1 Year&quot;</td><td>6</td><td>&quot;Male&quot;</td><td>23</td><td>1</td><td>45.0</td><td>1</td><td>&quot;No&quot;</td><td>27128.0</td><td>152.0</td><td>190</td><td>0</td></tr><tr><td>&quot;&gt; 2 Years&quot;</td><td>1</td><td>&quot;Male&quot;</td><td>43</td><td>1</td><td>28.0</td><td>0</td><td>&quot;Yes&quot;</td><td>58911.0</td><td>26.0</td><td>288</td><td>1</td></tr><tr><td>&quot;&gt; 2 Years&quot;</td><td>15</td><td>&quot;Male&quot;</td><td>79</td><td>1</td><td>8.0</td><td>0</td><td>&quot;Yes&quot;</td><td>66887.0</td><td>124.0</td><td>150</td><td>0</td></tr><tr><td>&quot;&gt; 2 Years&quot;</td><td>78</td><td>&quot;Male&quot;</td><td>46</td><td>1</td><td>50.0</td><td>0</td><td>&quot;Yes&quot;</td><td>31240.0</td><td>124.0</td><td>132</td><td>0</td></tr><tr><td>&quot;1-2 Year&quot;</td><td>0</td><td>&quot;Male&quot;</td><td>21</td><td>1</td><td>35.0</td><td>0</td><td>&quot;Yes&quot;</td><td>65101.0</td><td>124.0</td><td>187</td><td>0</td></tr><tr><td>&quot;1-2 Year&quot;</td><td>3</td><td>&quot;Female&quot;</td><td>35</td><td>1</td><td>1.0</td><td>0</td><td>&quot;Yes&quot;</td><td>2630.0</td><td>156.0</td><td>76</td><td>0</td></tr><tr><td>&quot;1-2 Year&quot;</td><td>4</td><td>&quot;Female&quot;</td><td>36</td><td>1</td><td>15.0</td><td>1</td><td>&quot;No&quot;</td><td>31951.0</td><td>152.0</td><td>294</td><td>0</td></tr></tbody></table></div>"
      ],
      "text/plain": [
       "shape: (9, 12)\n",
       "┌─────────────┬─────┬────────┬─────┬───┬────────────────┬─────────────────────┬─────────┬──────────┐\n",
       "│ Vehicle_Age ┆ id  ┆ Gender ┆ Age ┆ … ┆ Annual_Premium ┆ Policy_Sales_Channe ┆ Vintage ┆ Response │\n",
       "│ ---         ┆ --- ┆ ---    ┆ --- ┆   ┆ ---            ┆ l                   ┆ ---     ┆ ---      │\n",
       "│ str         ┆ i64 ┆ str    ┆ i64 ┆   ┆ f64            ┆ ---                 ┆ i64     ┆ i64      │\n",
       "│             ┆     ┆        ┆     ┆   ┆                ┆ f64                 ┆         ┆          │\n",
       "╞═════════════╪═════╪════════╪═════╪═══╪════════════════╪═════════════════════╪═════════╪══════════╡\n",
       "│ < 1 Year    ┆ 2   ┆ Female ┆ 25  ┆ … ┆ 38043.0        ┆ 152.0               ┆ 254     ┆ 0        │\n",
       "│ < 1 Year    ┆ 5   ┆ Female ┆ 31  ┆ … ┆ 28150.0        ┆ 152.0               ┆ 197     ┆ 0        │\n",
       "│ < 1 Year    ┆ 6   ┆ Male   ┆ 23  ┆ … ┆ 27128.0        ┆ 152.0               ┆ 190     ┆ 0        │\n",
       "│ > 2 Years   ┆ 1   ┆ Male   ┆ 43  ┆ … ┆ 58911.0        ┆ 26.0                ┆ 288     ┆ 1        │\n",
       "│ > 2 Years   ┆ 15  ┆ Male   ┆ 79  ┆ … ┆ 66887.0        ┆ 124.0               ┆ 150     ┆ 0        │\n",
       "│ > 2 Years   ┆ 78  ┆ Male   ┆ 46  ┆ … ┆ 31240.0        ┆ 124.0               ┆ 132     ┆ 0        │\n",
       "│ 1-2 Year    ┆ 0   ┆ Male   ┆ 21  ┆ … ┆ 65101.0        ┆ 124.0               ┆ 187     ┆ 0        │\n",
       "│ 1-2 Year    ┆ 3   ┆ Female ┆ 35  ┆ … ┆ 2630.0         ┆ 156.0               ┆ 76      ┆ 0        │\n",
       "│ 1-2 Year    ┆ 4   ┆ Female ┆ 36  ┆ … ┆ 31951.0        ┆ 152.0               ┆ 294     ┆ 0        │\n",
       "└─────────────┴─────┴────────┴─────┴───┴────────────────┴─────────────────────┴─────────┴──────────┘"
      ]
     },
     "execution_count": 20,
     "metadata": {},
     "output_type": "execute_result"
    }
   ],
   "source": [
    "insurance_df.group_by(\"Vehicle_Age\").head(3)"
   ]
  },
  {
   "cell_type": "markdown",
   "id": "c90ac5a5-11fc-45d4-b361-f55859e117e9",
   "metadata": {},
   "source": [
    "## GroupBy Last"
   ]
  },
  {
   "cell_type": "code",
   "execution_count": 21,
   "id": "a8a03c00-6847-4861-8a23-045cd1975577",
   "metadata": {},
   "outputs": [
    {
     "data": {
      "text/html": [
       "<div><style>\n",
       ".dataframe > thead > tr,\n",
       ".dataframe > tbody > tr {\n",
       "  text-align: right;\n",
       "  white-space: pre-wrap;\n",
       "}\n",
       "</style>\n",
       "<small>shape: (3, 12)</small><table border=\"1\" class=\"dataframe\"><thead><tr><th>Vehicle_Age</th><th>id</th><th>Gender</th><th>Age</th><th>Driving_License</th><th>Region_Code</th><th>Previously_Insured</th><th>Vehicle_Damage</th><th>Annual_Premium</th><th>Policy_Sales_Channel</th><th>Vintage</th><th>Response</th></tr><tr><td>str</td><td>i64</td><td>str</td><td>i64</td><td>i64</td><td>f64</td><td>i64</td><td>str</td><td>f64</td><td>f64</td><td>i64</td><td>i64</td></tr></thead><tbody><tr><td>&quot;&gt; 2 Years&quot;</td><td>11504757</td><td>&quot;Female&quot;</td><td>57</td><td>1</td><td>28.0</td><td>0</td><td>&quot;Yes&quot;</td><td>69344.0</td><td>122.0</td><td>163</td><td>0</td></tr><tr><td>&quot;&lt; 1 Year&quot;</td><td>11504797</td><td>&quot;Male&quot;</td><td>25</td><td>1</td><td>28.0</td><td>1</td><td>&quot;No&quot;</td><td>32855.0</td><td>152.0</td><td>189</td><td>0</td></tr><tr><td>&quot;1-2 Year&quot;</td><td>11504796</td><td>&quot;Female&quot;</td><td>51</td><td>1</td><td>28.0</td><td>0</td><td>&quot;Yes&quot;</td><td>48443.0</td><td>26.0</td><td>274</td><td>1</td></tr></tbody></table></div>"
      ],
      "text/plain": [
       "shape: (3, 12)\n",
       "┌─────────────┬──────────┬────────┬─────┬───┬────────────────┬────────────────┬─────────┬──────────┐\n",
       "│ Vehicle_Age ┆ id       ┆ Gender ┆ Age ┆ … ┆ Annual_Premium ┆ Policy_Sales_C ┆ Vintage ┆ Response │\n",
       "│ ---         ┆ ---      ┆ ---    ┆ --- ┆   ┆ ---            ┆ hannel         ┆ ---     ┆ ---      │\n",
       "│ str         ┆ i64      ┆ str    ┆ i64 ┆   ┆ f64            ┆ ---            ┆ i64     ┆ i64      │\n",
       "│             ┆          ┆        ┆     ┆   ┆                ┆ f64            ┆         ┆          │\n",
       "╞═════════════╪══════════╪════════╪═════╪═══╪════════════════╪════════════════╪═════════╪══════════╡\n",
       "│ > 2 Years   ┆ 11504757 ┆ Female ┆ 57  ┆ … ┆ 69344.0        ┆ 122.0          ┆ 163     ┆ 0        │\n",
       "│ < 1 Year    ┆ 11504797 ┆ Male   ┆ 25  ┆ … ┆ 32855.0        ┆ 152.0          ┆ 189     ┆ 0        │\n",
       "│ 1-2 Year    ┆ 11504796 ┆ Female ┆ 51  ┆ … ┆ 48443.0        ┆ 26.0           ┆ 274     ┆ 1        │\n",
       "└─────────────┴──────────┴────────┴─────┴───┴────────────────┴────────────────┴─────────┴──────────┘"
      ]
     },
     "execution_count": 21,
     "metadata": {},
     "output_type": "execute_result"
    }
   ],
   "source": [
    "insurance_df.group_by(\"Vehicle_Age\").last()"
   ]
  },
  {
   "cell_type": "markdown",
   "id": "6e1a961c-be99-4987-984b-6cfed2f8608f",
   "metadata": {},
   "source": [
    "## GroupBy len"
   ]
  },
  {
   "cell_type": "code",
   "execution_count": 22,
   "id": "7fbf28b0-9974-4c32-b457-6e816af53d7b",
   "metadata": {},
   "outputs": [
    {
     "data": {
      "text/html": [
       "<div><style>\n",
       ".dataframe > thead > tr,\n",
       ".dataframe > tbody > tr {\n",
       "  text-align: right;\n",
       "  white-space: pre-wrap;\n",
       "}\n",
       "</style>\n",
       "<small>shape: (3, 2)</small><table border=\"1\" class=\"dataframe\"><thead><tr><th>Vehicle_Age</th><th>len</th></tr><tr><td>str</td><td>u32</td></tr></thead><tbody><tr><td>&quot;1-2 Year&quot;</td><td>5982678</td></tr><tr><td>&quot;&lt; 1 Year&quot;</td><td>5044145</td></tr><tr><td>&quot;&gt; 2 Years&quot;</td><td>477975</td></tr></tbody></table></div>"
      ],
      "text/plain": [
       "shape: (3, 2)\n",
       "┌─────────────┬─────────┐\n",
       "│ Vehicle_Age ┆ len     │\n",
       "│ ---         ┆ ---     │\n",
       "│ str         ┆ u32     │\n",
       "╞═════════════╪═════════╡\n",
       "│ 1-2 Year    ┆ 5982678 │\n",
       "│ < 1 Year    ┆ 5044145 │\n",
       "│ > 2 Years   ┆ 477975  │\n",
       "└─────────────┴─────────┘"
      ]
     },
     "execution_count": 22,
     "metadata": {},
     "output_type": "execute_result"
    }
   ],
   "source": [
    "insurance_df.group_by(\"Vehicle_Age\").len()"
   ]
  },
  {
   "cell_type": "markdown",
   "id": "877687a9-f1d1-47d1-ae52-8bbdb9ffb292",
   "metadata": {},
   "source": [
    "## GroupBy Map_groups"
   ]
  },
  {
   "cell_type": "code",
   "execution_count": 23,
   "id": "8c210711-db0e-4fcb-a42b-8e4ebe7c953f",
   "metadata": {},
   "outputs": [
    {
     "data": {
      "text/html": [
       "<div><style>\n",
       ".dataframe > thead > tr,\n",
       ".dataframe > tbody > tr {\n",
       "  text-align: right;\n",
       "  white-space: pre-wrap;\n",
       "}\n",
       "</style>\n",
       "<small>shape: (6, 12)</small><table border=\"1\" class=\"dataframe\"><thead><tr><th>id</th><th>Gender</th><th>Age</th><th>Driving_License</th><th>Region_Code</th><th>Previously_Insured</th><th>Vehicle_Age</th><th>Vehicle_Damage</th><th>Annual_Premium</th><th>Policy_Sales_Channel</th><th>Vintage</th><th>Response</th></tr><tr><td>i64</td><td>str</td><td>i64</td><td>i64</td><td>f64</td><td>i64</td><td>str</td><td>str</td><td>f64</td><td>f64</td><td>i64</td><td>i64</td></tr></thead><tbody><tr><td>6705536</td><td>&quot;Male&quot;</td><td>31</td><td>1</td><td>28.0</td><td>0</td><td>&quot;1-2 Year&quot;</td><td>&quot;Yes&quot;</td><td>30263.0</td><td>124.0</td><td>261</td><td>0</td></tr><tr><td>6800582</td><td>&quot;Female&quot;</td><td>42</td><td>1</td><td>28.0</td><td>0</td><td>&quot;1-2 Year&quot;</td><td>&quot;Yes&quot;</td><td>39911.0</td><td>154.0</td><td>63</td><td>1</td></tr><tr><td>11405860</td><td>&quot;Male&quot;</td><td>63</td><td>1</td><td>28.0</td><td>0</td><td>&quot;&gt; 2 Years&quot;</td><td>&quot;Yes&quot;</td><td>58718.0</td><td>26.0</td><td>189</td><td>1</td></tr><tr><td>10940257</td><td>&quot;Male&quot;</td><td>44</td><td>1</td><td>28.0</td><td>0</td><td>&quot;&gt; 2 Years&quot;</td><td>&quot;Yes&quot;</td><td>49094.0</td><td>124.0</td><td>226</td><td>0</td></tr><tr><td>2212512</td><td>&quot;Female&quot;</td><td>24</td><td>1</td><td>36.0</td><td>1</td><td>&quot;&lt; 1 Year&quot;</td><td>&quot;No&quot;</td><td>38949.0</td><td>152.0</td><td>106</td><td>0</td></tr><tr><td>3094675</td><td>&quot;Female&quot;</td><td>23</td><td>1</td><td>28.0</td><td>1</td><td>&quot;&lt; 1 Year&quot;</td><td>&quot;No&quot;</td><td>48419.0</td><td>152.0</td><td>155</td><td>0</td></tr></tbody></table></div>"
      ],
      "text/plain": [
       "shape: (6, 12)\n",
       "┌──────────┬────────┬─────┬───────────────┬───┬───────────────┬───────────────┬─────────┬──────────┐\n",
       "│ id       ┆ Gender ┆ Age ┆ Driving_Licen ┆ … ┆ Annual_Premiu ┆ Policy_Sales_ ┆ Vintage ┆ Response │\n",
       "│ ---      ┆ ---    ┆ --- ┆ se            ┆   ┆ m             ┆ Channel       ┆ ---     ┆ ---      │\n",
       "│ i64      ┆ str    ┆ i64 ┆ ---           ┆   ┆ ---           ┆ ---           ┆ i64     ┆ i64      │\n",
       "│          ┆        ┆     ┆ i64           ┆   ┆ f64           ┆ f64           ┆         ┆          │\n",
       "╞══════════╪════════╪═════╪═══════════════╪═══╪═══════════════╪═══════════════╪═════════╪══════════╡\n",
       "│ 6705536  ┆ Male   ┆ 31  ┆ 1             ┆ … ┆ 30263.0       ┆ 124.0         ┆ 261     ┆ 0        │\n",
       "│ 6800582  ┆ Female ┆ 42  ┆ 1             ┆ … ┆ 39911.0       ┆ 154.0         ┆ 63      ┆ 1        │\n",
       "│ 11405860 ┆ Male   ┆ 63  ┆ 1             ┆ … ┆ 58718.0       ┆ 26.0          ┆ 189     ┆ 1        │\n",
       "│ 10940257 ┆ Male   ┆ 44  ┆ 1             ┆ … ┆ 49094.0       ┆ 124.0         ┆ 226     ┆ 0        │\n",
       "│ 2212512  ┆ Female ┆ 24  ┆ 1             ┆ … ┆ 38949.0       ┆ 152.0         ┆ 106     ┆ 0        │\n",
       "│ 3094675  ┆ Female ┆ 23  ┆ 1             ┆ … ┆ 48419.0       ┆ 152.0         ┆ 155     ┆ 0        │\n",
       "└──────────┴────────┴─────┴───────────────┴───┴───────────────┴───────────────┴─────────┴──────────┘"
      ]
     },
     "execution_count": 23,
     "metadata": {},
     "output_type": "execute_result"
    }
   ],
   "source": [
    "insurance_df.group_by(\"Vehicle_Age\").map_groups(lambda group_df:group_df.sample(2))"
   ]
  },
  {
   "cell_type": "markdown",
   "id": "b484d2d1-87f0-458e-a5e6-876f7ba760a0",
   "metadata": {},
   "source": [
    "## GroupBy.max"
   ]
  },
  {
   "cell_type": "code",
   "execution_count": 24,
   "id": "8705952a-804c-4b47-acd2-3005a2043e33",
   "metadata": {},
   "outputs": [
    {
     "data": {
      "text/html": [
       "<div><style>\n",
       ".dataframe > thead > tr,\n",
       ".dataframe > tbody > tr {\n",
       "  text-align: right;\n",
       "  white-space: pre-wrap;\n",
       "}\n",
       "</style>\n",
       "<small>shape: (3, 12)</small><table border=\"1\" class=\"dataframe\"><thead><tr><th>Vehicle_Age</th><th>id</th><th>Gender</th><th>Age</th><th>Driving_License</th><th>Region_Code</th><th>Previously_Insured</th><th>Vehicle_Damage</th><th>Annual_Premium</th><th>Policy_Sales_Channel</th><th>Vintage</th><th>Response</th></tr><tr><td>str</td><td>i64</td><td>str</td><td>i64</td><td>i64</td><td>f64</td><td>i64</td><td>str</td><td>f64</td><td>f64</td><td>i64</td><td>i64</td></tr></thead><tbody><tr><td>&quot;1-2 Year&quot;</td><td>11504796</td><td>&quot;Male&quot;</td><td>85</td><td>1</td><td>52.0</td><td>1</td><td>&quot;Yes&quot;</td><td>540165.0</td><td>163.0</td><td>299</td><td>1</td></tr><tr><td>&quot;&lt; 1 Year&quot;</td><td>11504797</td><td>&quot;Male&quot;</td><td>80</td><td>1</td><td>52.0</td><td>1</td><td>&quot;Yes&quot;</td><td>540165.0</td><td>163.0</td><td>299</td><td>1</td></tr><tr><td>&quot;&gt; 2 Years&quot;</td><td>11504757</td><td>&quot;Male&quot;</td><td>83</td><td>1</td><td>52.0</td><td>1</td><td>&quot;Yes&quot;</td><td>540165.0</td><td>163.0</td><td>299</td><td>1</td></tr></tbody></table></div>"
      ],
      "text/plain": [
       "shape: (3, 12)\n",
       "┌─────────────┬──────────┬────────┬─────┬───┬────────────────┬────────────────┬─────────┬──────────┐\n",
       "│ Vehicle_Age ┆ id       ┆ Gender ┆ Age ┆ … ┆ Annual_Premium ┆ Policy_Sales_C ┆ Vintage ┆ Response │\n",
       "│ ---         ┆ ---      ┆ ---    ┆ --- ┆   ┆ ---            ┆ hannel         ┆ ---     ┆ ---      │\n",
       "│ str         ┆ i64      ┆ str    ┆ i64 ┆   ┆ f64            ┆ ---            ┆ i64     ┆ i64      │\n",
       "│             ┆          ┆        ┆     ┆   ┆                ┆ f64            ┆         ┆          │\n",
       "╞═════════════╪══════════╪════════╪═════╪═══╪════════════════╪════════════════╪═════════╪══════════╡\n",
       "│ 1-2 Year    ┆ 11504796 ┆ Male   ┆ 85  ┆ … ┆ 540165.0       ┆ 163.0          ┆ 299     ┆ 1        │\n",
       "│ < 1 Year    ┆ 11504797 ┆ Male   ┆ 80  ┆ … ┆ 540165.0       ┆ 163.0          ┆ 299     ┆ 1        │\n",
       "│ > 2 Years   ┆ 11504757 ┆ Male   ┆ 83  ┆ … ┆ 540165.0       ┆ 163.0          ┆ 299     ┆ 1        │\n",
       "└─────────────┴──────────┴────────┴─────┴───┴────────────────┴────────────────┴─────────┴──────────┘"
      ]
     },
     "execution_count": 24,
     "metadata": {},
     "output_type": "execute_result"
    }
   ],
   "source": [
    "insurance_df.group_by(\"Vehicle_Age\").max()"
   ]
  },
  {
   "cell_type": "markdown",
   "id": "e6f9db52-4f4c-47b4-baff-e92d46eb8461",
   "metadata": {},
   "source": [
    "## GroupBy.mean"
   ]
  },
  {
   "cell_type": "code",
   "execution_count": 26,
   "id": "fcee862f-fee3-421a-b1ea-bb4602e84bc9",
   "metadata": {},
   "outputs": [
    {
     "data": {
      "text/html": [
       "<div><style>\n",
       ".dataframe > thead > tr,\n",
       ".dataframe > tbody > tr {\n",
       "  text-align: right;\n",
       "  white-space: pre-wrap;\n",
       "}\n",
       "</style>\n",
       "<small>shape: (3, 12)</small><table border=\"1\" class=\"dataframe\"><thead><tr><th>Vehicle_Age</th><th>id</th><th>Gender</th><th>Age</th><th>Driving_License</th><th>Region_Code</th><th>Previously_Insured</th><th>Vehicle_Damage</th><th>Annual_Premium</th><th>Policy_Sales_Channel</th><th>Vintage</th><th>Response</th></tr><tr><td>str</td><td>f64</td><td>str</td><td>f64</td><td>f64</td><td>f64</td><td>f64</td><td>str</td><td>f64</td><td>f64</td><td>f64</td><td>f64</td></tr></thead><tbody><tr><td>&quot;1-2 Year&quot;</td><td>5.7517e6</td><td>null</td><td>48.596603</td><td>0.996469</td><td>26.831988</td><td>0.320529</td><td>null</td><td>30267.679359</td><td>85.636195</td><td>162.55257</td><td>0.177725</td></tr><tr><td>&quot;&lt; 1 Year&quot;</td><td>5.7528e6</td><td>null</td><td>24.76273</td><td>0.999994</td><td>25.843436</td><td>0.675598</td><td>null</td><td>30277.793441</td><td>147.873093</td><td>165.628919</td><td>0.041404</td></tr><tr><td>&quot;&gt; 2 Years&quot;</td><td>5.7574e6</td><td>null</td><td>54.292622</td><td>0.996657</td><td>27.316299</td><td>0.002603</td><td>null</td><td>34823.063062</td><td>73.654264</td><td>162.465547</td><td>0.299049</td></tr></tbody></table></div>"
      ],
      "text/plain": [
       "shape: (3, 12)\n",
       "┌────────────┬──────────┬────────┬───────────┬───┬────────────┬────────────┬────────────┬──────────┐\n",
       "│ Vehicle_Ag ┆ id       ┆ Gender ┆ Age       ┆ … ┆ Annual_Pre ┆ Policy_Sal ┆ Vintage    ┆ Response │\n",
       "│ e          ┆ ---      ┆ ---    ┆ ---       ┆   ┆ mium       ┆ es_Channel ┆ ---        ┆ ---      │\n",
       "│ ---        ┆ f64      ┆ str    ┆ f64       ┆   ┆ ---        ┆ ---        ┆ f64        ┆ f64      │\n",
       "│ str        ┆          ┆        ┆           ┆   ┆ f64        ┆ f64        ┆            ┆          │\n",
       "╞════════════╪══════════╪════════╪═══════════╪═══╪════════════╪════════════╪════════════╪══════════╡\n",
       "│ 1-2 Year   ┆ 5.7517e6 ┆ null   ┆ 48.596603 ┆ … ┆ 30267.6793 ┆ 85.636195  ┆ 162.55257  ┆ 0.177725 │\n",
       "│            ┆          ┆        ┆           ┆   ┆ 59         ┆            ┆            ┆          │\n",
       "│ < 1 Year   ┆ 5.7528e6 ┆ null   ┆ 24.76273  ┆ … ┆ 30277.7934 ┆ 147.873093 ┆ 165.628919 ┆ 0.041404 │\n",
       "│            ┆          ┆        ┆           ┆   ┆ 41         ┆            ┆            ┆          │\n",
       "│ > 2 Years  ┆ 5.7574e6 ┆ null   ┆ 54.292622 ┆ … ┆ 34823.0630 ┆ 73.654264  ┆ 162.465547 ┆ 0.299049 │\n",
       "│            ┆          ┆        ┆           ┆   ┆ 62         ┆            ┆            ┆          │\n",
       "└────────────┴──────────┴────────┴───────────┴───┴────────────┴────────────┴────────────┴──────────┘"
      ]
     },
     "execution_count": 26,
     "metadata": {},
     "output_type": "execute_result"
    }
   ],
   "source": [
    "insurance_df.group_by(\"Vehicle_Age\").mean()"
   ]
  },
  {
   "cell_type": "markdown",
   "id": "d2f077c3-3a54-42fc-9512-5308c77706f1",
   "metadata": {},
   "source": [
    "## GroupBy.median"
   ]
  },
  {
   "cell_type": "code",
   "execution_count": 28,
   "id": "3af947c8-5a70-4e60-89a7-877237c11011",
   "metadata": {},
   "outputs": [
    {
     "data": {
      "text/html": [
       "<div><style>\n",
       ".dataframe > thead > tr,\n",
       ".dataframe > tbody > tr {\n",
       "  text-align: right;\n",
       "  white-space: pre-wrap;\n",
       "}\n",
       "</style>\n",
       "<small>shape: (3, 12)</small><table border=\"1\" class=\"dataframe\"><thead><tr><th>Vehicle_Age</th><th>id</th><th>Gender</th><th>Age</th><th>Driving_License</th><th>Region_Code</th><th>Previously_Insured</th><th>Vehicle_Damage</th><th>Annual_Premium</th><th>Policy_Sales_Channel</th><th>Vintage</th><th>Response</th></tr><tr><td>str</td><td>f64</td><td>str</td><td>f64</td><td>f64</td><td>f64</td><td>f64</td><td>str</td><td>f64</td><td>f64</td><td>f64</td><td>f64</td></tr></thead><tbody><tr><td>&quot;&gt; 2 Years&quot;</td><td>5.75601e6</td><td>null</td><td>53.0</td><td>1.0</td><td>28.0</td><td>0.0</td><td>null</td><td>38371.0</td><td>26.0</td><td>165.0</td><td>0.0</td></tr><tr><td>&quot;1-2 Year&quot;</td><td>5751429.5</td><td>null</td><td>47.0</td><td>1.0</td><td>28.0</td><td>0.0</td><td>null</td><td>32965.0</td><td>124.0</td><td>164.0</td><td>0.0</td></tr><tr><td>&quot;&lt; 1 Year&quot;</td><td>5.753184e6</td><td>null</td><td>24.0</td><td>1.0</td><td>28.0</td><td>1.0</td><td>null</td><td>30596.0</td><td>152.0</td><td>170.0</td><td>0.0</td></tr></tbody></table></div>"
      ],
      "text/plain": [
       "shape: (3, 12)\n",
       "┌─────────────┬────────────┬────────┬──────┬───┬───────────────┬──────────────┬─────────┬──────────┐\n",
       "│ Vehicle_Age ┆ id         ┆ Gender ┆ Age  ┆ … ┆ Annual_Premiu ┆ Policy_Sales ┆ Vintage ┆ Response │\n",
       "│ ---         ┆ ---        ┆ ---    ┆ ---  ┆   ┆ m             ┆ _Channel     ┆ ---     ┆ ---      │\n",
       "│ str         ┆ f64        ┆ str    ┆ f64  ┆   ┆ ---           ┆ ---          ┆ f64     ┆ f64      │\n",
       "│             ┆            ┆        ┆      ┆   ┆ f64           ┆ f64          ┆         ┆          │\n",
       "╞═════════════╪════════════╪════════╪══════╪═══╪═══════════════╪══════════════╪═════════╪══════════╡\n",
       "│ > 2 Years   ┆ 5.75601e6  ┆ null   ┆ 53.0 ┆ … ┆ 38371.0       ┆ 26.0         ┆ 165.0   ┆ 0.0      │\n",
       "│ 1-2 Year    ┆ 5751429.5  ┆ null   ┆ 47.0 ┆ … ┆ 32965.0       ┆ 124.0        ┆ 164.0   ┆ 0.0      │\n",
       "│ < 1 Year    ┆ 5.753184e6 ┆ null   ┆ 24.0 ┆ … ┆ 30596.0       ┆ 152.0        ┆ 170.0   ┆ 0.0      │\n",
       "└─────────────┴────────────┴────────┴──────┴───┴───────────────┴──────────────┴─────────┴──────────┘"
      ]
     },
     "execution_count": 28,
     "metadata": {},
     "output_type": "execute_result"
    }
   ],
   "source": [
    "insurance_df.group_by(\"Vehicle_Age\").median()"
   ]
  },
  {
   "cell_type": "markdown",
   "id": "65281ce4-ad93-4db4-b3af-1c10167e9fc7",
   "metadata": {},
   "source": [
    "## GroupBy.min"
   ]
  },
  {
   "cell_type": "code",
   "execution_count": 29,
   "id": "52433617-1ce4-4a98-b40b-27aa294df9a6",
   "metadata": {},
   "outputs": [
    {
     "data": {
      "text/html": [
       "<div><style>\n",
       ".dataframe > thead > tr,\n",
       ".dataframe > tbody > tr {\n",
       "  text-align: right;\n",
       "  white-space: pre-wrap;\n",
       "}\n",
       "</style>\n",
       "<small>shape: (3, 12)</small><table border=\"1\" class=\"dataframe\"><thead><tr><th>Vehicle_Age</th><th>id</th><th>Gender</th><th>Age</th><th>Driving_License</th><th>Region_Code</th><th>Previously_Insured</th><th>Vehicle_Damage</th><th>Annual_Premium</th><th>Policy_Sales_Channel</th><th>Vintage</th><th>Response</th></tr><tr><td>str</td><td>i64</td><td>str</td><td>i64</td><td>i64</td><td>f64</td><td>i64</td><td>str</td><td>f64</td><td>f64</td><td>i64</td><td>i64</td></tr></thead><tbody><tr><td>&quot;&gt; 2 Years&quot;</td><td>1</td><td>&quot;Female&quot;</td><td>20</td><td>0</td><td>0.0</td><td>0</td><td>&quot;No&quot;</td><td>2630.0</td><td>1.0</td><td>10</td><td>0</td></tr><tr><td>&quot;&lt; 1 Year&quot;</td><td>2</td><td>&quot;Female&quot;</td><td>20</td><td>0</td><td>0.0</td><td>0</td><td>&quot;No&quot;</td><td>2630.0</td><td>1.0</td><td>10</td><td>0</td></tr><tr><td>&quot;1-2 Year&quot;</td><td>0</td><td>&quot;Female&quot;</td><td>20</td><td>0</td><td>0.0</td><td>0</td><td>&quot;No&quot;</td><td>2630.0</td><td>1.0</td><td>10</td><td>0</td></tr></tbody></table></div>"
      ],
      "text/plain": [
       "shape: (3, 12)\n",
       "┌─────────────┬─────┬────────┬─────┬───┬────────────────┬─────────────────────┬─────────┬──────────┐\n",
       "│ Vehicle_Age ┆ id  ┆ Gender ┆ Age ┆ … ┆ Annual_Premium ┆ Policy_Sales_Channe ┆ Vintage ┆ Response │\n",
       "│ ---         ┆ --- ┆ ---    ┆ --- ┆   ┆ ---            ┆ l                   ┆ ---     ┆ ---      │\n",
       "│ str         ┆ i64 ┆ str    ┆ i64 ┆   ┆ f64            ┆ ---                 ┆ i64     ┆ i64      │\n",
       "│             ┆     ┆        ┆     ┆   ┆                ┆ f64                 ┆         ┆          │\n",
       "╞═════════════╪═════╪════════╪═════╪═══╪════════════════╪═════════════════════╪═════════╪══════════╡\n",
       "│ > 2 Years   ┆ 1   ┆ Female ┆ 20  ┆ … ┆ 2630.0         ┆ 1.0                 ┆ 10      ┆ 0        │\n",
       "│ < 1 Year    ┆ 2   ┆ Female ┆ 20  ┆ … ┆ 2630.0         ┆ 1.0                 ┆ 10      ┆ 0        │\n",
       "│ 1-2 Year    ┆ 0   ┆ Female ┆ 20  ┆ … ┆ 2630.0         ┆ 1.0                 ┆ 10      ┆ 0        │\n",
       "└─────────────┴─────┴────────┴─────┴───┴────────────────┴─────────────────────┴─────────┴──────────┘"
      ]
     },
     "execution_count": 29,
     "metadata": {},
     "output_type": "execute_result"
    }
   ],
   "source": [
    "insurance_df.group_by(\"Vehicle_Age\").min()"
   ]
  },
  {
   "cell_type": "markdown",
   "id": "7f200ad5-4cac-499c-85cc-acb67d953582",
   "metadata": {},
   "source": [
    "## GroupBy.n_unique"
   ]
  },
  {
   "cell_type": "code",
   "execution_count": 30,
   "id": "209247f0-ce2c-4455-8211-21cc92f72d24",
   "metadata": {},
   "outputs": [
    {
     "data": {
      "text/html": [
       "<div><style>\n",
       ".dataframe > thead > tr,\n",
       ".dataframe > tbody > tr {\n",
       "  text-align: right;\n",
       "  white-space: pre-wrap;\n",
       "}\n",
       "</style>\n",
       "<small>shape: (3, 12)</small><table border=\"1\" class=\"dataframe\"><thead><tr><th>Vehicle_Age</th><th>id</th><th>Gender</th><th>Age</th><th>Driving_License</th><th>Region_Code</th><th>Previously_Insured</th><th>Vehicle_Damage</th><th>Annual_Premium</th><th>Policy_Sales_Channel</th><th>Vintage</th><th>Response</th></tr><tr><td>str</td><td>u32</td><td>u32</td><td>u32</td><td>u32</td><td>u32</td><td>u32</td><td>u32</td><td>u32</td><td>u32</td><td>u32</td><td>u32</td></tr></thead><tbody><tr><td>&quot;&gt; 2 Years&quot;</td><td>477975</td><td>2</td><td>64</td><td>2</td><td>53</td><td>2</td><td>2</td><td>32053</td><td>137</td><td>290</td><td>2</td></tr><tr><td>&quot;1-2 Year&quot;</td><td>5982678</td><td>2</td><td>66</td><td>2</td><td>53</td><td>2</td><td>2</td><td>47552</td><td>150</td><td>290</td><td>2</td></tr><tr><td>&quot;&lt; 1 Year&quot;</td><td>5044145</td><td>2</td><td>61</td><td>2</td><td>54</td><td>2</td><td>2</td><td>44962</td><td>99</td><td>290</td><td>2</td></tr></tbody></table></div>"
      ],
      "text/plain": [
       "shape: (3, 12)\n",
       "┌─────────────┬─────────┬────────┬─────┬───┬────────────────┬─────────────────┬─────────┬──────────┐\n",
       "│ Vehicle_Age ┆ id      ┆ Gender ┆ Age ┆ … ┆ Annual_Premium ┆ Policy_Sales_Ch ┆ Vintage ┆ Response │\n",
       "│ ---         ┆ ---     ┆ ---    ┆ --- ┆   ┆ ---            ┆ annel           ┆ ---     ┆ ---      │\n",
       "│ str         ┆ u32     ┆ u32    ┆ u32 ┆   ┆ u32            ┆ ---             ┆ u32     ┆ u32      │\n",
       "│             ┆         ┆        ┆     ┆   ┆                ┆ u32             ┆         ┆          │\n",
       "╞═════════════╪═════════╪════════╪═════╪═══╪════════════════╪═════════════════╪═════════╪══════════╡\n",
       "│ > 2 Years   ┆ 477975  ┆ 2      ┆ 64  ┆ … ┆ 32053          ┆ 137             ┆ 290     ┆ 2        │\n",
       "│ 1-2 Year    ┆ 5982678 ┆ 2      ┆ 66  ┆ … ┆ 47552          ┆ 150             ┆ 290     ┆ 2        │\n",
       "│ < 1 Year    ┆ 5044145 ┆ 2      ┆ 61  ┆ … ┆ 44962          ┆ 99              ┆ 290     ┆ 2        │\n",
       "└─────────────┴─────────┴────────┴─────┴───┴────────────────┴─────────────────┴─────────┴──────────┘"
      ]
     },
     "execution_count": 30,
     "metadata": {},
     "output_type": "execute_result"
    }
   ],
   "source": [
    "insurance_df.group_by(\"Vehicle_Age\").n_unique()"
   ]
  },
  {
   "cell_type": "markdown",
   "id": "5aafebcf-083b-4cab-893c-751cceebcc4f",
   "metadata": {},
   "source": [
    "## GroupBy.quantile"
   ]
  },
  {
   "cell_type": "code",
   "execution_count": 31,
   "id": "504e6f2f-33fe-418f-8192-b60fcb95488d",
   "metadata": {},
   "outputs": [
    {
     "data": {
      "text/html": [
       "<div><style>\n",
       ".dataframe > thead > tr,\n",
       ".dataframe > tbody > tr {\n",
       "  text-align: right;\n",
       "  white-space: pre-wrap;\n",
       "}\n",
       "</style>\n",
       "<small>shape: (3, 12)</small><table border=\"1\" class=\"dataframe\"><thead><tr><th>Vehicle_Age</th><th>id</th><th>Gender</th><th>Age</th><th>Driving_License</th><th>Region_Code</th><th>Previously_Insured</th><th>Vehicle_Damage</th><th>Annual_Premium</th><th>Policy_Sales_Channel</th><th>Vintage</th><th>Response</th></tr><tr><td>str</td><td>f64</td><td>str</td><td>f64</td><td>f64</td><td>f64</td><td>f64</td><td>str</td><td>f64</td><td>f64</td><td>f64</td><td>f64</td></tr></thead><tbody><tr><td>&quot;&gt; 2 Years&quot;</td><td>1.1504757e7</td><td>null</td><td>83.0</td><td>1.0</td><td>52.0</td><td>1.0</td><td>null</td><td>540165.0</td><td>163.0</td><td>299.0</td><td>1.0</td></tr><tr><td>&quot;&lt; 1 Year&quot;</td><td>1.1504797e7</td><td>null</td><td>80.0</td><td>1.0</td><td>52.0</td><td>1.0</td><td>null</td><td>540165.0</td><td>163.0</td><td>299.0</td><td>1.0</td></tr><tr><td>&quot;1-2 Year&quot;</td><td>1.1504796e7</td><td>null</td><td>85.0</td><td>1.0</td><td>52.0</td><td>1.0</td><td>null</td><td>540165.0</td><td>163.0</td><td>299.0</td><td>1.0</td></tr></tbody></table></div>"
      ],
      "text/plain": [
       "shape: (3, 12)\n",
       "┌─────────────┬─────────────┬────────┬──────┬───┬──────────────┬──────────────┬─────────┬──────────┐\n",
       "│ Vehicle_Age ┆ id          ┆ Gender ┆ Age  ┆ … ┆ Annual_Premi ┆ Policy_Sales ┆ Vintage ┆ Response │\n",
       "│ ---         ┆ ---         ┆ ---    ┆ ---  ┆   ┆ um           ┆ _Channel     ┆ ---     ┆ ---      │\n",
       "│ str         ┆ f64         ┆ str    ┆ f64  ┆   ┆ ---          ┆ ---          ┆ f64     ┆ f64      │\n",
       "│             ┆             ┆        ┆      ┆   ┆ f64          ┆ f64          ┆         ┆          │\n",
       "╞═════════════╪═════════════╪════════╪══════╪═══╪══════════════╪══════════════╪═════════╪══════════╡\n",
       "│ > 2 Years   ┆ 1.1504757e7 ┆ null   ┆ 83.0 ┆ … ┆ 540165.0     ┆ 163.0        ┆ 299.0   ┆ 1.0      │\n",
       "│ < 1 Year    ┆ 1.1504797e7 ┆ null   ┆ 80.0 ┆ … ┆ 540165.0     ┆ 163.0        ┆ 299.0   ┆ 1.0      │\n",
       "│ 1-2 Year    ┆ 1.1504796e7 ┆ null   ┆ 85.0 ┆ … ┆ 540165.0     ┆ 163.0        ┆ 299.0   ┆ 1.0      │\n",
       "└─────────────┴─────────────┴────────┴──────┴───┴──────────────┴──────────────┴─────────┴──────────┘"
      ]
     },
     "execution_count": 31,
     "metadata": {},
     "output_type": "execute_result"
    }
   ],
   "source": [
    "insurance_df.group_by(\"Vehicle_Age\").quantile(1)"
   ]
  },
  {
   "cell_type": "markdown",
   "id": "966e7862-8d3e-410f-9d5f-4bba0d8e07c4",
   "metadata": {},
   "source": [
    "## GroupBy.sum"
   ]
  },
  {
   "cell_type": "code",
   "execution_count": 32,
   "id": "83f7d806-dfcd-4b76-a085-4d422981e39a",
   "metadata": {},
   "outputs": [
    {
     "data": {
      "text/html": [
       "<div><style>\n",
       ".dataframe > thead > tr,\n",
       ".dataframe > tbody > tr {\n",
       "  text-align: right;\n",
       "  white-space: pre-wrap;\n",
       "}\n",
       "</style>\n",
       "<small>shape: (3, 12)</small><table border=\"1\" class=\"dataframe\"><thead><tr><th>Vehicle_Age</th><th>id</th><th>Gender</th><th>Age</th><th>Driving_License</th><th>Region_Code</th><th>Previously_Insured</th><th>Vehicle_Damage</th><th>Annual_Premium</th><th>Policy_Sales_Channel</th><th>Vintage</th><th>Response</th></tr><tr><td>str</td><td>i64</td><td>str</td><td>i64</td><td>i64</td><td>f64</td><td>i64</td><td>str</td><td>f64</td><td>f64</td><td>i64</td><td>i64</td></tr></thead><tbody><tr><td>&quot;&gt; 2 Years&quot;</td><td>2751896419449</td><td>null</td><td>25950516</td><td>476377</td><td>1.3056508e7</td><td>1244</td><td>null</td><td>1.6645e10</td><td>3.5204897e7</td><td>77654470</td><td>142938</td></tr><tr><td>&quot;&lt; 1 Year&quot;</td><td>29017780793275</td><td>null</td><td>124906801</td><td>5044113</td><td>1.3036e8</td><td>3407816</td><td>null</td><td>1.5273e11</td><td>7.45893324e8</td><td>835456283</td><td>208849</td></tr><tr><td>&quot;1-2 Year&quot;</td><td>34410505545279</td><td>null</td><td>290737826</td><td>5961551</td><td>1.60527142e8</td><td>1917622</td><td>null</td><td>1.8108e11</td><td>5.12333778e8</td><td>972499683</td><td>1063272</td></tr></tbody></table></div>"
      ],
      "text/plain": [
       "shape: (3, 12)\n",
       "┌────────────┬────────────┬────────┬───────────┬───┬────────────┬───────────┬───────────┬──────────┐\n",
       "│ Vehicle_Ag ┆ id         ┆ Gender ┆ Age       ┆ … ┆ Annual_Pre ┆ Policy_Sa ┆ Vintage   ┆ Response │\n",
       "│ e          ┆ ---        ┆ ---    ┆ ---       ┆   ┆ mium       ┆ les_Chann ┆ ---       ┆ ---      │\n",
       "│ ---        ┆ i64        ┆ str    ┆ i64       ┆   ┆ ---        ┆ el        ┆ i64       ┆ i64      │\n",
       "│ str        ┆            ┆        ┆           ┆   ┆ f64        ┆ ---       ┆           ┆          │\n",
       "│            ┆            ┆        ┆           ┆   ┆            ┆ f64       ┆           ┆          │\n",
       "╞════════════╪════════════╪════════╪═══════════╪═══╪════════════╪═══════════╪═══════════╪══════════╡\n",
       "│ > 2 Years  ┆ 2751896419 ┆ null   ┆ 25950516  ┆ … ┆ 1.6645e10  ┆ 3.5204897 ┆ 77654470  ┆ 142938   │\n",
       "│            ┆ 449        ┆        ┆           ┆   ┆            ┆ e7        ┆           ┆          │\n",
       "│ < 1 Year   ┆ 2901778079 ┆ null   ┆ 124906801 ┆ … ┆ 1.5273e11  ┆ 7.4589332 ┆ 835456283 ┆ 208849   │\n",
       "│            ┆ 3275       ┆        ┆           ┆   ┆            ┆ 4e8       ┆           ┆          │\n",
       "│ 1-2 Year   ┆ 3441050554 ┆ null   ┆ 290737826 ┆ … ┆ 1.8108e11  ┆ 5.1233377 ┆ 972499683 ┆ 1063272  │\n",
       "│            ┆ 5279       ┆        ┆           ┆   ┆            ┆ 8e8       ┆           ┆          │\n",
       "└────────────┴────────────┴────────┴───────────┴───┴────────────┴───────────┴───────────┴──────────┘"
      ]
     },
     "execution_count": 32,
     "metadata": {},
     "output_type": "execute_result"
    }
   ],
   "source": [
    "insurance_df.group_by(\"Vehicle_Age\").sum()"
   ]
  },
  {
   "cell_type": "markdown",
   "id": "759e8fe4-d05f-4eb2-839d-41f0767f778b",
   "metadata": {},
   "source": [
    "## GroupBy.tail"
   ]
  },
  {
   "cell_type": "code",
   "execution_count": 33,
   "id": "269ff21b-32af-4b57-bfc8-636a58b9ba07",
   "metadata": {},
   "outputs": [
    {
     "data": {
      "text/html": [
       "<div><style>\n",
       ".dataframe > thead > tr,\n",
       ".dataframe > tbody > tr {\n",
       "  text-align: right;\n",
       "  white-space: pre-wrap;\n",
       "}\n",
       "</style>\n",
       "<small>shape: (9, 12)</small><table border=\"1\" class=\"dataframe\"><thead><tr><th>Vehicle_Age</th><th>id</th><th>Gender</th><th>Age</th><th>Driving_License</th><th>Region_Code</th><th>Previously_Insured</th><th>Vehicle_Damage</th><th>Annual_Premium</th><th>Policy_Sales_Channel</th><th>Vintage</th><th>Response</th></tr><tr><td>str</td><td>i64</td><td>str</td><td>i64</td><td>i64</td><td>f64</td><td>i64</td><td>str</td><td>f64</td><td>f64</td><td>i64</td><td>i64</td></tr></thead><tbody><tr><td>&quot;1-2 Year&quot;</td><td>11504792</td><td>&quot;Male&quot;</td><td>34</td><td>1</td><td>28.0</td><td>1</td><td>&quot;No&quot;</td><td>29974.0</td><td>154.0</td><td>201</td><td>0</td></tr><tr><td>&quot;1-2 Year&quot;</td><td>11504793</td><td>&quot;Male&quot;</td><td>48</td><td>1</td><td>6.0</td><td>0</td><td>&quot;Yes&quot;</td><td>27412.0</td><td>26.0</td><td>218</td><td>0</td></tr><tr><td>&quot;1-2 Year&quot;</td><td>11504796</td><td>&quot;Female&quot;</td><td>51</td><td>1</td><td>28.0</td><td>0</td><td>&quot;Yes&quot;</td><td>48443.0</td><td>26.0</td><td>274</td><td>1</td></tr><tr><td>&quot;&lt; 1 Year&quot;</td><td>11504794</td><td>&quot;Female&quot;</td><td>26</td><td>1</td><td>36.0</td><td>0</td><td>&quot;Yes&quot;</td><td>29509.0</td><td>152.0</td><td>115</td><td>1</td></tr><tr><td>&quot;&lt; 1 Year&quot;</td><td>11504795</td><td>&quot;Female&quot;</td><td>29</td><td>1</td><td>32.0</td><td>1</td><td>&quot;No&quot;</td><td>2630.0</td><td>152.0</td><td>189</td><td>0</td></tr><tr><td>&quot;&lt; 1 Year&quot;</td><td>11504797</td><td>&quot;Male&quot;</td><td>25</td><td>1</td><td>28.0</td><td>1</td><td>&quot;No&quot;</td><td>32855.0</td><td>152.0</td><td>189</td><td>0</td></tr><tr><td>&quot;&gt; 2 Years&quot;</td><td>11504735</td><td>&quot;Male&quot;</td><td>50</td><td>1</td><td>15.0</td><td>0</td><td>&quot;Yes&quot;</td><td>49616.0</td><td>124.0</td><td>129</td><td>0</td></tr><tr><td>&quot;&gt; 2 Years&quot;</td><td>11504754</td><td>&quot;Male&quot;</td><td>58</td><td>1</td><td>28.0</td><td>0</td><td>&quot;Yes&quot;</td><td>35992.0</td><td>26.0</td><td>197</td><td>0</td></tr><tr><td>&quot;&gt; 2 Years&quot;</td><td>11504757</td><td>&quot;Female&quot;</td><td>57</td><td>1</td><td>28.0</td><td>0</td><td>&quot;Yes&quot;</td><td>69344.0</td><td>122.0</td><td>163</td><td>0</td></tr></tbody></table></div>"
      ],
      "text/plain": [
       "shape: (9, 12)\n",
       "┌─────────────┬──────────┬────────┬─────┬───┬────────────────┬────────────────┬─────────┬──────────┐\n",
       "│ Vehicle_Age ┆ id       ┆ Gender ┆ Age ┆ … ┆ Annual_Premium ┆ Policy_Sales_C ┆ Vintage ┆ Response │\n",
       "│ ---         ┆ ---      ┆ ---    ┆ --- ┆   ┆ ---            ┆ hannel         ┆ ---     ┆ ---      │\n",
       "│ str         ┆ i64      ┆ str    ┆ i64 ┆   ┆ f64            ┆ ---            ┆ i64     ┆ i64      │\n",
       "│             ┆          ┆        ┆     ┆   ┆                ┆ f64            ┆         ┆          │\n",
       "╞═════════════╪══════════╪════════╪═════╪═══╪════════════════╪════════════════╪═════════╪══════════╡\n",
       "│ 1-2 Year    ┆ 11504792 ┆ Male   ┆ 34  ┆ … ┆ 29974.0        ┆ 154.0          ┆ 201     ┆ 0        │\n",
       "│ 1-2 Year    ┆ 11504793 ┆ Male   ┆ 48  ┆ … ┆ 27412.0        ┆ 26.0           ┆ 218     ┆ 0        │\n",
       "│ 1-2 Year    ┆ 11504796 ┆ Female ┆ 51  ┆ … ┆ 48443.0        ┆ 26.0           ┆ 274     ┆ 1        │\n",
       "│ < 1 Year    ┆ 11504794 ┆ Female ┆ 26  ┆ … ┆ 29509.0        ┆ 152.0          ┆ 115     ┆ 1        │\n",
       "│ < 1 Year    ┆ 11504795 ┆ Female ┆ 29  ┆ … ┆ 2630.0         ┆ 152.0          ┆ 189     ┆ 0        │\n",
       "│ < 1 Year    ┆ 11504797 ┆ Male   ┆ 25  ┆ … ┆ 32855.0        ┆ 152.0          ┆ 189     ┆ 0        │\n",
       "│ > 2 Years   ┆ 11504735 ┆ Male   ┆ 50  ┆ … ┆ 49616.0        ┆ 124.0          ┆ 129     ┆ 0        │\n",
       "│ > 2 Years   ┆ 11504754 ┆ Male   ┆ 58  ┆ … ┆ 35992.0        ┆ 26.0           ┆ 197     ┆ 0        │\n",
       "│ > 2 Years   ┆ 11504757 ┆ Female ┆ 57  ┆ … ┆ 69344.0        ┆ 122.0          ┆ 163     ┆ 0        │\n",
       "└─────────────┴──────────┴────────┴─────┴───┴────────────────┴────────────────┴─────────┴──────────┘"
      ]
     },
     "execution_count": 33,
     "metadata": {},
     "output_type": "execute_result"
    }
   ],
   "source": [
    "insurance_df.group_by(\"Vehicle_Age\").tail(3).sort(\"Vehicle_Age\")"
   ]
  },
  {
   "cell_type": "markdown",
   "id": "82cc5d8a-f671-48d4-8967-d31970088299",
   "metadata": {},
   "source": [
    "## Manipulation/Selection Method "
   ]
  },
  {
   "cell_type": "code",
   "execution_count": 34,
   "id": "6df83c8a-780c-4f72-bfa7-0662e6b9bf04",
   "metadata": {},
   "outputs": [
    {
     "data": {
      "text/html": [
       "<div><style>\n",
       ".dataframe > thead > tr,\n",
       ".dataframe > tbody > tr {\n",
       "  text-align: right;\n",
       "  white-space: pre-wrap;\n",
       "}\n",
       "</style>\n",
       "<small>shape: (4, 12)</small><table border=\"1\" class=\"dataframe\"><thead><tr><th>id</th><th>Gender</th><th>Age</th><th>Driving_License</th><th>Region_Code</th><th>Previously_Insured</th><th>Vehicle_Age</th><th>Vehicle_Damage</th><th>Annual_Premium</th><th>Policy_Sales_Channel</th><th>Vintage</th><th>Response</th></tr><tr><td>i64</td><td>str</td><td>i64</td><td>i64</td><td>f64</td><td>i64</td><td>str</td><td>str</td><td>f64</td><td>f64</td><td>i64</td><td>i64</td></tr></thead><tbody><tr><td>6583548</td><td>&quot;Female&quot;</td><td>20</td><td>1</td><td>28.0</td><td>0</td><td>&quot;&lt; 1 Year&quot;</td><td>&quot;Yes&quot;</td><td>31518.0</td><td>160.0</td><td>207</td><td>0</td></tr><tr><td>242</td><td>&quot;Female&quot;</td><td>20</td><td>1</td><td>46.0</td><td>1</td><td>&quot;&lt; 1 Year&quot;</td><td>&quot;No&quot;</td><td>36090.0</td><td>160.0</td><td>54</td><td>0</td></tr><tr><td>269</td><td>&quot;Male&quot;</td><td>20</td><td>1</td><td>44.0</td><td>0</td><td>&quot;&lt; 1 Year&quot;</td><td>&quot;Yes&quot;</td><td>2630.0</td><td>160.0</td><td>100</td><td>0</td></tr><tr><td>338</td><td>&quot;Female&quot;</td><td>20</td><td>1</td><td>50.0</td><td>0</td><td>&quot;&lt; 1 Year&quot;</td><td>&quot;Yes&quot;</td><td>28783.0</td><td>160.0</td><td>199</td><td>0</td></tr></tbody></table></div>"
      ],
      "text/plain": [
       "shape: (4, 12)\n",
       "┌─────────┬────────┬─────┬────────────────┬───┬───────────────┬───────────────┬─────────┬──────────┐\n",
       "│ id      ┆ Gender ┆ Age ┆ Driving_Licens ┆ … ┆ Annual_Premiu ┆ Policy_Sales_ ┆ Vintage ┆ Response │\n",
       "│ ---     ┆ ---    ┆ --- ┆ e              ┆   ┆ m             ┆ Channel       ┆ ---     ┆ ---      │\n",
       "│ i64     ┆ str    ┆ i64 ┆ ---            ┆   ┆ ---           ┆ ---           ┆ i64     ┆ i64      │\n",
       "│         ┆        ┆     ┆ i64            ┆   ┆ f64           ┆ f64           ┆         ┆          │\n",
       "╞═════════╪════════╪═════╪════════════════╪═══╪═══════════════╪═══════════════╪═════════╪══════════╡\n",
       "│ 6583548 ┆ Female ┆ 20  ┆ 1              ┆ … ┆ 31518.0       ┆ 160.0         ┆ 207     ┆ 0        │\n",
       "│ 242     ┆ Female ┆ 20  ┆ 1              ┆ … ┆ 36090.0       ┆ 160.0         ┆ 54      ┆ 0        │\n",
       "│ 269     ┆ Male   ┆ 20  ┆ 1              ┆ … ┆ 2630.0        ┆ 160.0         ┆ 100     ┆ 0        │\n",
       "│ 338     ┆ Female ┆ 20  ┆ 1              ┆ … ┆ 28783.0       ┆ 160.0         ┆ 199     ┆ 0        │\n",
       "└─────────┴────────┴─────┴────────────────┴───┴───────────────┴───────────────┴─────────┴──────────┘"
      ]
     },
     "execution_count": 34,
     "metadata": {},
     "output_type": "execute_result"
    }
   ],
   "source": [
    "# polars.DataFrame.bottom_k\n",
    "\n",
    "insurance_df.bottom_k(4,by=\"Age\")"
   ]
  },
  {
   "cell_type": "code",
   "execution_count": 37,
   "id": "8533518e-e3be-47a4-ac7c-5cf7e1f0bb2f",
   "metadata": {},
   "outputs": [
    {
     "data": {
      "text/html": [
       "<div><style>\n",
       ".dataframe > thead > tr,\n",
       ".dataframe > tbody > tr {\n",
       "  text-align: right;\n",
       "  white-space: pre-wrap;\n",
       "}\n",
       "</style>\n",
       "<small>shape: (4, 12)</small><table border=\"1\" class=\"dataframe\"><thead><tr><th>id</th><th>Gender</th><th>Age</th><th>Driving_License</th><th>Region_Code</th><th>Previously_Insured</th><th>Vehicle_Age</th><th>Vehicle_Damage</th><th>Annual_Premium</th><th>Policy_Sales_Channel</th><th>Vintage</th><th>Response</th></tr><tr><td>i64</td><td>str</td><td>i64</td><td>i64</td><td>f64</td><td>i64</td><td>str</td><td>str</td><td>f64</td><td>f64</td><td>i64</td><td>i64</td></tr></thead><tbody><tr><td>6566211</td><td>&quot;Female&quot;</td><td>57</td><td>1</td><td>9.0</td><td>1</td><td>&quot;1-2 Year&quot;</td><td>&quot;No&quot;</td><td>2630.0</td><td>26.0</td><td>10</td><td>0</td></tr><tr><td>518</td><td>&quot;Male&quot;</td><td>23</td><td>1</td><td>8.0</td><td>1</td><td>&quot;&lt; 1 Year&quot;</td><td>&quot;No&quot;</td><td>35538.0</td><td>152.0</td><td>10</td><td>0</td></tr><tr><td>864</td><td>&quot;Male&quot;</td><td>20</td><td>1</td><td>36.0</td><td>0</td><td>&quot;&lt; 1 Year&quot;</td><td>&quot;Yes&quot;</td><td>41945.0</td><td>160.0</td><td>10</td><td>0</td></tr><tr><td>1083</td><td>&quot;Male&quot;</td><td>46</td><td>1</td><td>28.0</td><td>1</td><td>&quot;1-2 Year&quot;</td><td>&quot;No&quot;</td><td>28697.0</td><td>124.0</td><td>10</td><td>0</td></tr></tbody></table></div>"
      ],
      "text/plain": [
       "shape: (4, 12)\n",
       "┌─────────┬────────┬─────┬────────────────┬───┬───────────────┬───────────────┬─────────┬──────────┐\n",
       "│ id      ┆ Gender ┆ Age ┆ Driving_Licens ┆ … ┆ Annual_Premiu ┆ Policy_Sales_ ┆ Vintage ┆ Response │\n",
       "│ ---     ┆ ---    ┆ --- ┆ e              ┆   ┆ m             ┆ Channel       ┆ ---     ┆ ---      │\n",
       "│ i64     ┆ str    ┆ i64 ┆ ---            ┆   ┆ ---           ┆ ---           ┆ i64     ┆ i64      │\n",
       "│         ┆        ┆     ┆ i64            ┆   ┆ f64           ┆ f64           ┆         ┆          │\n",
       "╞═════════╪════════╪═════╪════════════════╪═══╪═══════════════╪═══════════════╪═════════╪══════════╡\n",
       "│ 6566211 ┆ Female ┆ 57  ┆ 1              ┆ … ┆ 2630.0        ┆ 26.0          ┆ 10      ┆ 0        │\n",
       "│ 518     ┆ Male   ┆ 23  ┆ 1              ┆ … ┆ 35538.0       ┆ 152.0         ┆ 10      ┆ 0        │\n",
       "│ 864     ┆ Male   ┆ 20  ┆ 1              ┆ … ┆ 41945.0       ┆ 160.0         ┆ 10      ┆ 0        │\n",
       "│ 1083    ┆ Male   ┆ 46  ┆ 1              ┆ … ┆ 28697.0       ┆ 124.0         ┆ 10      ┆ 0        │\n",
       "└─────────┴────────┴─────┴────────────────┴───┴───────────────┴───────────────┴─────────┴──────────┘"
      ]
     },
     "execution_count": 37,
     "metadata": {},
     "output_type": "execute_result"
    }
   ],
   "source": [
    "insurance_df.bottom_k(4,by=\"Vintage\")"
   ]
  },
  {
   "cell_type": "code",
   "execution_count": 38,
   "id": "bb98a555-efd7-475a-8ce7-51474a2d3b2c",
   "metadata": {},
   "outputs": [
    {
     "data": {
      "text/html": [
       "<div><style>\n",
       ".dataframe > thead > tr,\n",
       ".dataframe > tbody > tr {\n",
       "  text-align: right;\n",
       "  white-space: pre-wrap;\n",
       "}\n",
       "</style>\n",
       "<small>shape: (11_504_798, 12)</small><table border=\"1\" class=\"dataframe\"><thead><tr><th>id</th><th>Gender</th><th>Age</th><th>Driving_License</th><th>Region_Code</th><th>Previously_Insured</th><th>Vehicle_Age</th><th>Vehicle_Damage</th><th>Annual_Premium</th><th>Policy_Sales_Channel</th><th>Vintage</th><th>Response</th></tr><tr><td>i64</td><td>str</td><td>i64</td><td>f32</td><td>str</td><td>i64</td><td>str</td><td>str</td><td>f64</td><td>f64</td><td>i64</td><td>i64</td></tr></thead><tbody><tr><td>0</td><td>&quot;Male&quot;</td><td>21</td><td>1.0</td><td>&quot;35.0&quot;</td><td>0</td><td>&quot;1-2 Year&quot;</td><td>&quot;Yes&quot;</td><td>65101.0</td><td>124.0</td><td>187</td><td>0</td></tr><tr><td>1</td><td>&quot;Male&quot;</td><td>43</td><td>1.0</td><td>&quot;28.0&quot;</td><td>0</td><td>&quot;&gt; 2 Years&quot;</td><td>&quot;Yes&quot;</td><td>58911.0</td><td>26.0</td><td>288</td><td>1</td></tr><tr><td>2</td><td>&quot;Female&quot;</td><td>25</td><td>1.0</td><td>&quot;14.0&quot;</td><td>1</td><td>&quot;&lt; 1 Year&quot;</td><td>&quot;No&quot;</td><td>38043.0</td><td>152.0</td><td>254</td><td>0</td></tr><tr><td>3</td><td>&quot;Female&quot;</td><td>35</td><td>1.0</td><td>&quot;1.0&quot;</td><td>0</td><td>&quot;1-2 Year&quot;</td><td>&quot;Yes&quot;</td><td>2630.0</td><td>156.0</td><td>76</td><td>0</td></tr><tr><td>4</td><td>&quot;Female&quot;</td><td>36</td><td>1.0</td><td>&quot;15.0&quot;</td><td>1</td><td>&quot;1-2 Year&quot;</td><td>&quot;No&quot;</td><td>31951.0</td><td>152.0</td><td>294</td><td>0</td></tr><tr><td>&hellip;</td><td>&hellip;</td><td>&hellip;</td><td>&hellip;</td><td>&hellip;</td><td>&hellip;</td><td>&hellip;</td><td>&hellip;</td><td>&hellip;</td><td>&hellip;</td><td>&hellip;</td><td>&hellip;</td></tr><tr><td>11504793</td><td>&quot;Male&quot;</td><td>48</td><td>1.0</td><td>&quot;6.0&quot;</td><td>0</td><td>&quot;1-2 Year&quot;</td><td>&quot;Yes&quot;</td><td>27412.0</td><td>26.0</td><td>218</td><td>0</td></tr><tr><td>11504794</td><td>&quot;Female&quot;</td><td>26</td><td>1.0</td><td>&quot;36.0&quot;</td><td>0</td><td>&quot;&lt; 1 Year&quot;</td><td>&quot;Yes&quot;</td><td>29509.0</td><td>152.0</td><td>115</td><td>1</td></tr><tr><td>11504795</td><td>&quot;Female&quot;</td><td>29</td><td>1.0</td><td>&quot;32.0&quot;</td><td>1</td><td>&quot;&lt; 1 Year&quot;</td><td>&quot;No&quot;</td><td>2630.0</td><td>152.0</td><td>189</td><td>0</td></tr><tr><td>11504796</td><td>&quot;Female&quot;</td><td>51</td><td>1.0</td><td>&quot;28.0&quot;</td><td>0</td><td>&quot;1-2 Year&quot;</td><td>&quot;Yes&quot;</td><td>48443.0</td><td>26.0</td><td>274</td><td>1</td></tr><tr><td>11504797</td><td>&quot;Male&quot;</td><td>25</td><td>1.0</td><td>&quot;28.0&quot;</td><td>1</td><td>&quot;&lt; 1 Year&quot;</td><td>&quot;No&quot;</td><td>32855.0</td><td>152.0</td><td>189</td><td>0</td></tr></tbody></table></div>"
      ],
      "text/plain": [
       "shape: (11_504_798, 12)\n",
       "┌──────────┬────────┬─────┬───────────────┬───┬───────────────┬───────────────┬─────────┬──────────┐\n",
       "│ id       ┆ Gender ┆ Age ┆ Driving_Licen ┆ … ┆ Annual_Premiu ┆ Policy_Sales_ ┆ Vintage ┆ Response │\n",
       "│ ---      ┆ ---    ┆ --- ┆ se            ┆   ┆ m             ┆ Channel       ┆ ---     ┆ ---      │\n",
       "│ i64      ┆ str    ┆ i64 ┆ ---           ┆   ┆ ---           ┆ ---           ┆ i64     ┆ i64      │\n",
       "│          ┆        ┆     ┆ f32           ┆   ┆ f64           ┆ f64           ┆         ┆          │\n",
       "╞══════════╪════════╪═════╪═══════════════╪═══╪═══════════════╪═══════════════╪═════════╪══════════╡\n",
       "│ 0        ┆ Male   ┆ 21  ┆ 1.0           ┆ … ┆ 65101.0       ┆ 124.0         ┆ 187     ┆ 0        │\n",
       "│ 1        ┆ Male   ┆ 43  ┆ 1.0           ┆ … ┆ 58911.0       ┆ 26.0          ┆ 288     ┆ 1        │\n",
       "│ 2        ┆ Female ┆ 25  ┆ 1.0           ┆ … ┆ 38043.0       ┆ 152.0         ┆ 254     ┆ 0        │\n",
       "│ 3        ┆ Female ┆ 35  ┆ 1.0           ┆ … ┆ 2630.0        ┆ 156.0         ┆ 76      ┆ 0        │\n",
       "│ 4        ┆ Female ┆ 36  ┆ 1.0           ┆ … ┆ 31951.0       ┆ 152.0         ┆ 294     ┆ 0        │\n",
       "│ …        ┆ …      ┆ …   ┆ …             ┆ … ┆ …             ┆ …             ┆ …       ┆ …        │\n",
       "│ 11504793 ┆ Male   ┆ 48  ┆ 1.0           ┆ … ┆ 27412.0       ┆ 26.0          ┆ 218     ┆ 0        │\n",
       "│ 11504794 ┆ Female ┆ 26  ┆ 1.0           ┆ … ┆ 29509.0       ┆ 152.0         ┆ 115     ┆ 1        │\n",
       "│ 11504795 ┆ Female ┆ 29  ┆ 1.0           ┆ … ┆ 2630.0        ┆ 152.0         ┆ 189     ┆ 0        │\n",
       "│ 11504796 ┆ Female ┆ 51  ┆ 1.0           ┆ … ┆ 48443.0       ┆ 26.0          ┆ 274     ┆ 1        │\n",
       "│ 11504797 ┆ Male   ┆ 25  ┆ 1.0           ┆ … ┆ 32855.0       ┆ 152.0         ┆ 189     ┆ 0        │\n",
       "└──────────┴────────┴─────┴───────────────┴───┴───────────────┴───────────────┴─────────┴──────────┘"
      ]
     },
     "execution_count": 38,
     "metadata": {},
     "output_type": "execute_result"
    }
   ],
   "source": [
    "# polars.DataFrame.cast\n",
    "\n",
    "insurance_df.cast({\"Region_Code\":pl.String,\"Driving_License\":pl.Float32})"
   ]
  },
  {
   "cell_type": "code",
   "execution_count": 39,
   "id": "5ef0e961-0c0d-4f1f-8658-8a5d2d705161",
   "metadata": {},
   "outputs": [],
   "source": [
    "# polars.DataFrame.clear\n",
    "df_clear = insurance_df.clear()"
   ]
  },
  {
   "cell_type": "code",
   "execution_count": 40,
   "id": "10034c24-12f6-4d7f-93ff-8915f3b4ff7c",
   "metadata": {},
   "outputs": [
    {
     "data": {
      "text/html": [
       "<div><style>\n",
       ".dataframe > thead > tr,\n",
       ".dataframe > tbody > tr {\n",
       "  text-align: right;\n",
       "  white-space: pre-wrap;\n",
       "}\n",
       "</style>\n",
       "<small>shape: (0, 12)</small><table border=\"1\" class=\"dataframe\"><thead><tr><th>id</th><th>Gender</th><th>Age</th><th>Driving_License</th><th>Region_Code</th><th>Previously_Insured</th><th>Vehicle_Age</th><th>Vehicle_Damage</th><th>Annual_Premium</th><th>Policy_Sales_Channel</th><th>Vintage</th><th>Response</th></tr><tr><td>i64</td><td>str</td><td>i64</td><td>i64</td><td>f64</td><td>i64</td><td>str</td><td>str</td><td>f64</td><td>f64</td><td>i64</td><td>i64</td></tr></thead><tbody></tbody></table></div>"
      ],
      "text/plain": [
       "shape: (0, 12)\n",
       "┌─────┬────────┬─────┬─────────────────┬───┬────────────────┬─────────────────┬─────────┬──────────┐\n",
       "│ id  ┆ Gender ┆ Age ┆ Driving_License ┆ … ┆ Annual_Premium ┆ Policy_Sales_Ch ┆ Vintage ┆ Response │\n",
       "│ --- ┆ ---    ┆ --- ┆ ---             ┆   ┆ ---            ┆ annel           ┆ ---     ┆ ---      │\n",
       "│ i64 ┆ str    ┆ i64 ┆ i64             ┆   ┆ f64            ┆ ---             ┆ i64     ┆ i64      │\n",
       "│     ┆        ┆     ┆                 ┆   ┆                ┆ f64             ┆         ┆          │\n",
       "╞═════╪════════╪═════╪═════════════════╪═══╪════════════════╪═════════════════╪═════════╪══════════╡\n",
       "└─────┴────────┴─────┴─────────────────┴───┴────────────────┴─────────────────┴─────────┴──────────┘"
      ]
     },
     "execution_count": 40,
     "metadata": {},
     "output_type": "execute_result"
    }
   ],
   "source": [
    "df_clear"
   ]
  },
  {
   "cell_type": "code",
   "execution_count": 41,
   "id": "7bb61ff7-2f4f-4344-9e3c-9fc1e6b165e2",
   "metadata": {},
   "outputs": [],
   "source": [
    "# polars.DataFrame.clone\n",
    "\n",
    "df_clone = insurance_df.clone()"
   ]
  },
  {
   "cell_type": "code",
   "execution_count": 42,
   "id": "1a9b0a32-3b93-4872-a029-42d9a285d079",
   "metadata": {},
   "outputs": [
    {
     "data": {
      "text/html": [
       "<div><style>\n",
       ".dataframe > thead > tr,\n",
       ".dataframe > tbody > tr {\n",
       "  text-align: right;\n",
       "  white-space: pre-wrap;\n",
       "}\n",
       "</style>\n",
       "<small>shape: (11_504_798, 12)</small><table border=\"1\" class=\"dataframe\"><thead><tr><th>id</th><th>Gender</th><th>Age</th><th>Driving_License</th><th>Region_Code</th><th>Previously_Insured</th><th>Vehicle_Age</th><th>Vehicle_Damage</th><th>Annual_Premium</th><th>Policy_Sales_Channel</th><th>Vintage</th><th>Response</th></tr><tr><td>i64</td><td>str</td><td>i64</td><td>i64</td><td>f64</td><td>i64</td><td>str</td><td>str</td><td>f64</td><td>f64</td><td>i64</td><td>i64</td></tr></thead><tbody><tr><td>0</td><td>&quot;Male&quot;</td><td>21</td><td>1</td><td>35.0</td><td>0</td><td>&quot;1-2 Year&quot;</td><td>&quot;Yes&quot;</td><td>65101.0</td><td>124.0</td><td>187</td><td>0</td></tr><tr><td>1</td><td>&quot;Male&quot;</td><td>43</td><td>1</td><td>28.0</td><td>0</td><td>&quot;&gt; 2 Years&quot;</td><td>&quot;Yes&quot;</td><td>58911.0</td><td>26.0</td><td>288</td><td>1</td></tr><tr><td>2</td><td>&quot;Female&quot;</td><td>25</td><td>1</td><td>14.0</td><td>1</td><td>&quot;&lt; 1 Year&quot;</td><td>&quot;No&quot;</td><td>38043.0</td><td>152.0</td><td>254</td><td>0</td></tr><tr><td>3</td><td>&quot;Female&quot;</td><td>35</td><td>1</td><td>1.0</td><td>0</td><td>&quot;1-2 Year&quot;</td><td>&quot;Yes&quot;</td><td>2630.0</td><td>156.0</td><td>76</td><td>0</td></tr><tr><td>4</td><td>&quot;Female&quot;</td><td>36</td><td>1</td><td>15.0</td><td>1</td><td>&quot;1-2 Year&quot;</td><td>&quot;No&quot;</td><td>31951.0</td><td>152.0</td><td>294</td><td>0</td></tr><tr><td>&hellip;</td><td>&hellip;</td><td>&hellip;</td><td>&hellip;</td><td>&hellip;</td><td>&hellip;</td><td>&hellip;</td><td>&hellip;</td><td>&hellip;</td><td>&hellip;</td><td>&hellip;</td><td>&hellip;</td></tr><tr><td>11504793</td><td>&quot;Male&quot;</td><td>48</td><td>1</td><td>6.0</td><td>0</td><td>&quot;1-2 Year&quot;</td><td>&quot;Yes&quot;</td><td>27412.0</td><td>26.0</td><td>218</td><td>0</td></tr><tr><td>11504794</td><td>&quot;Female&quot;</td><td>26</td><td>1</td><td>36.0</td><td>0</td><td>&quot;&lt; 1 Year&quot;</td><td>&quot;Yes&quot;</td><td>29509.0</td><td>152.0</td><td>115</td><td>1</td></tr><tr><td>11504795</td><td>&quot;Female&quot;</td><td>29</td><td>1</td><td>32.0</td><td>1</td><td>&quot;&lt; 1 Year&quot;</td><td>&quot;No&quot;</td><td>2630.0</td><td>152.0</td><td>189</td><td>0</td></tr><tr><td>11504796</td><td>&quot;Female&quot;</td><td>51</td><td>1</td><td>28.0</td><td>0</td><td>&quot;1-2 Year&quot;</td><td>&quot;Yes&quot;</td><td>48443.0</td><td>26.0</td><td>274</td><td>1</td></tr><tr><td>11504797</td><td>&quot;Male&quot;</td><td>25</td><td>1</td><td>28.0</td><td>1</td><td>&quot;&lt; 1 Year&quot;</td><td>&quot;No&quot;</td><td>32855.0</td><td>152.0</td><td>189</td><td>0</td></tr></tbody></table></div>"
      ],
      "text/plain": [
       "shape: (11_504_798, 12)\n",
       "┌──────────┬────────┬─────┬───────────────┬───┬───────────────┬───────────────┬─────────┬──────────┐\n",
       "│ id       ┆ Gender ┆ Age ┆ Driving_Licen ┆ … ┆ Annual_Premiu ┆ Policy_Sales_ ┆ Vintage ┆ Response │\n",
       "│ ---      ┆ ---    ┆ --- ┆ se            ┆   ┆ m             ┆ Channel       ┆ ---     ┆ ---      │\n",
       "│ i64      ┆ str    ┆ i64 ┆ ---           ┆   ┆ ---           ┆ ---           ┆ i64     ┆ i64      │\n",
       "│          ┆        ┆     ┆ i64           ┆   ┆ f64           ┆ f64           ┆         ┆          │\n",
       "╞══════════╪════════╪═════╪═══════════════╪═══╪═══════════════╪═══════════════╪═════════╪══════════╡\n",
       "│ 0        ┆ Male   ┆ 21  ┆ 1             ┆ … ┆ 65101.0       ┆ 124.0         ┆ 187     ┆ 0        │\n",
       "│ 1        ┆ Male   ┆ 43  ┆ 1             ┆ … ┆ 58911.0       ┆ 26.0          ┆ 288     ┆ 1        │\n",
       "│ 2        ┆ Female ┆ 25  ┆ 1             ┆ … ┆ 38043.0       ┆ 152.0         ┆ 254     ┆ 0        │\n",
       "│ 3        ┆ Female ┆ 35  ┆ 1             ┆ … ┆ 2630.0        ┆ 156.0         ┆ 76      ┆ 0        │\n",
       "│ 4        ┆ Female ┆ 36  ┆ 1             ┆ … ┆ 31951.0       ┆ 152.0         ┆ 294     ┆ 0        │\n",
       "│ …        ┆ …      ┆ …   ┆ …             ┆ … ┆ …             ┆ …             ┆ …       ┆ …        │\n",
       "│ 11504793 ┆ Male   ┆ 48  ┆ 1             ┆ … ┆ 27412.0       ┆ 26.0          ┆ 218     ┆ 0        │\n",
       "│ 11504794 ┆ Female ┆ 26  ┆ 1             ┆ … ┆ 29509.0       ┆ 152.0         ┆ 115     ┆ 1        │\n",
       "│ 11504795 ┆ Female ┆ 29  ┆ 1             ┆ … ┆ 2630.0        ┆ 152.0         ┆ 189     ┆ 0        │\n",
       "│ 11504796 ┆ Female ┆ 51  ┆ 1             ┆ … ┆ 48443.0       ┆ 26.0          ┆ 274     ┆ 1        │\n",
       "│ 11504797 ┆ Male   ┆ 25  ┆ 1             ┆ … ┆ 32855.0       ┆ 152.0         ┆ 189     ┆ 0        │\n",
       "└──────────┴────────┴─────┴───────────────┴───┴───────────────┴───────────────┴─────────┴──────────┘"
      ]
     },
     "execution_count": 42,
     "metadata": {},
     "output_type": "execute_result"
    }
   ],
   "source": [
    "df_clone"
   ]
  },
  {
   "cell_type": "code",
   "execution_count": 43,
   "id": "113f9d9f-d020-434c-aa41-84bc1b0cda06",
   "metadata": {},
   "outputs": [
    {
     "data": {
      "text/html": [
       "<div><style>\n",
       ".dataframe > thead > tr,\n",
       ".dataframe > tbody > tr {\n",
       "  text-align: right;\n",
       "  white-space: pre-wrap;\n",
       "}\n",
       "</style>\n",
       "<small>shape: (11_504_798, 11)</small><table border=\"1\" class=\"dataframe\"><thead><tr><th>Gender</th><th>Age</th><th>Driving_License</th><th>Region_Code</th><th>Previously_Insured</th><th>Vehicle_Age</th><th>Vehicle_Damage</th><th>Annual_Premium</th><th>Policy_Sales_Channel</th><th>Vintage</th><th>Response</th></tr><tr><td>str</td><td>i64</td><td>i64</td><td>f64</td><td>i64</td><td>str</td><td>str</td><td>f64</td><td>f64</td><td>i64</td><td>i64</td></tr></thead><tbody><tr><td>&quot;Male&quot;</td><td>21</td><td>1</td><td>35.0</td><td>0</td><td>&quot;1-2 Year&quot;</td><td>&quot;Yes&quot;</td><td>65101.0</td><td>124.0</td><td>187</td><td>0</td></tr><tr><td>&quot;Male&quot;</td><td>43</td><td>1</td><td>28.0</td><td>0</td><td>&quot;&gt; 2 Years&quot;</td><td>&quot;Yes&quot;</td><td>58911.0</td><td>26.0</td><td>288</td><td>1</td></tr><tr><td>&quot;Female&quot;</td><td>25</td><td>1</td><td>14.0</td><td>1</td><td>&quot;&lt; 1 Year&quot;</td><td>&quot;No&quot;</td><td>38043.0</td><td>152.0</td><td>254</td><td>0</td></tr><tr><td>&quot;Female&quot;</td><td>35</td><td>1</td><td>1.0</td><td>0</td><td>&quot;1-2 Year&quot;</td><td>&quot;Yes&quot;</td><td>2630.0</td><td>156.0</td><td>76</td><td>0</td></tr><tr><td>&quot;Female&quot;</td><td>36</td><td>1</td><td>15.0</td><td>1</td><td>&quot;1-2 Year&quot;</td><td>&quot;No&quot;</td><td>31951.0</td><td>152.0</td><td>294</td><td>0</td></tr><tr><td>&hellip;</td><td>&hellip;</td><td>&hellip;</td><td>&hellip;</td><td>&hellip;</td><td>&hellip;</td><td>&hellip;</td><td>&hellip;</td><td>&hellip;</td><td>&hellip;</td><td>&hellip;</td></tr><tr><td>&quot;Male&quot;</td><td>48</td><td>1</td><td>6.0</td><td>0</td><td>&quot;1-2 Year&quot;</td><td>&quot;Yes&quot;</td><td>27412.0</td><td>26.0</td><td>218</td><td>0</td></tr><tr><td>&quot;Female&quot;</td><td>26</td><td>1</td><td>36.0</td><td>0</td><td>&quot;&lt; 1 Year&quot;</td><td>&quot;Yes&quot;</td><td>29509.0</td><td>152.0</td><td>115</td><td>1</td></tr><tr><td>&quot;Female&quot;</td><td>29</td><td>1</td><td>32.0</td><td>1</td><td>&quot;&lt; 1 Year&quot;</td><td>&quot;No&quot;</td><td>2630.0</td><td>152.0</td><td>189</td><td>0</td></tr><tr><td>&quot;Female&quot;</td><td>51</td><td>1</td><td>28.0</td><td>0</td><td>&quot;1-2 Year&quot;</td><td>&quot;Yes&quot;</td><td>48443.0</td><td>26.0</td><td>274</td><td>1</td></tr><tr><td>&quot;Male&quot;</td><td>25</td><td>1</td><td>28.0</td><td>1</td><td>&quot;&lt; 1 Year&quot;</td><td>&quot;No&quot;</td><td>32855.0</td><td>152.0</td><td>189</td><td>0</td></tr></tbody></table></div>"
      ],
      "text/plain": [
       "shape: (11_504_798, 11)\n",
       "┌────────┬─────┬──────────────┬─────────────┬───┬──────────────┬──────────────┬─────────┬──────────┐\n",
       "│ Gender ┆ Age ┆ Driving_Lice ┆ Region_Code ┆ … ┆ Annual_Premi ┆ Policy_Sales ┆ Vintage ┆ Response │\n",
       "│ ---    ┆ --- ┆ nse          ┆ ---         ┆   ┆ um           ┆ _Channel     ┆ ---     ┆ ---      │\n",
       "│ str    ┆ i64 ┆ ---          ┆ f64         ┆   ┆ ---          ┆ ---          ┆ i64     ┆ i64      │\n",
       "│        ┆     ┆ i64          ┆             ┆   ┆ f64          ┆ f64          ┆         ┆          │\n",
       "╞════════╪═════╪══════════════╪═════════════╪═══╪══════════════╪══════════════╪═════════╪══════════╡\n",
       "│ Male   ┆ 21  ┆ 1            ┆ 35.0        ┆ … ┆ 65101.0      ┆ 124.0        ┆ 187     ┆ 0        │\n",
       "│ Male   ┆ 43  ┆ 1            ┆ 28.0        ┆ … ┆ 58911.0      ┆ 26.0         ┆ 288     ┆ 1        │\n",
       "│ Female ┆ 25  ┆ 1            ┆ 14.0        ┆ … ┆ 38043.0      ┆ 152.0        ┆ 254     ┆ 0        │\n",
       "│ Female ┆ 35  ┆ 1            ┆ 1.0         ┆ … ┆ 2630.0       ┆ 156.0        ┆ 76      ┆ 0        │\n",
       "│ Female ┆ 36  ┆ 1            ┆ 15.0        ┆ … ┆ 31951.0      ┆ 152.0        ┆ 294     ┆ 0        │\n",
       "│ …      ┆ …   ┆ …            ┆ …           ┆ … ┆ …            ┆ …            ┆ …       ┆ …        │\n",
       "│ Male   ┆ 48  ┆ 1            ┆ 6.0         ┆ … ┆ 27412.0      ┆ 26.0         ┆ 218     ┆ 0        │\n",
       "│ Female ┆ 26  ┆ 1            ┆ 36.0        ┆ … ┆ 29509.0      ┆ 152.0        ┆ 115     ┆ 1        │\n",
       "│ Female ┆ 29  ┆ 1            ┆ 32.0        ┆ … ┆ 2630.0       ┆ 152.0        ┆ 189     ┆ 0        │\n",
       "│ Female ┆ 51  ┆ 1            ┆ 28.0        ┆ … ┆ 48443.0      ┆ 26.0         ┆ 274     ┆ 1        │\n",
       "│ Male   ┆ 25  ┆ 1            ┆ 28.0        ┆ … ┆ 32855.0      ┆ 152.0        ┆ 189     ┆ 0        │\n",
       "└────────┴─────┴──────────────┴─────────────┴───┴──────────────┴──────────────┴─────────┴──────────┘"
      ]
     },
     "execution_count": 43,
     "metadata": {},
     "output_type": "execute_result"
    }
   ],
   "source": [
    "# polars.DataFrame.drop\n",
    "\n",
    "df_clone.drop(\"id\")"
   ]
  },
  {
   "cell_type": "code",
   "execution_count": 44,
   "id": "28837308-26a4-4c95-b351-238b564c3ae3",
   "metadata": {},
   "outputs": [
    {
     "data": {
      "text/html": [
       "<div><style>\n",
       ".dataframe > thead > tr,\n",
       ".dataframe > tbody > tr {\n",
       "  text-align: right;\n",
       "  white-space: pre-wrap;\n",
       "}\n",
       "</style>\n",
       "<small>shape: (11_504_798, 10)</small><table border=\"1\" class=\"dataframe\"><thead><tr><th>id</th><th>Gender</th><th>Age</th><th>Driving_License</th><th>Previously_Insured</th><th>Vehicle_Age</th><th>Vehicle_Damage</th><th>Annual_Premium</th><th>Policy_Sales_Channel</th><th>Response</th></tr><tr><td>i64</td><td>str</td><td>i64</td><td>i64</td><td>i64</td><td>str</td><td>str</td><td>f64</td><td>f64</td><td>i64</td></tr></thead><tbody><tr><td>0</td><td>&quot;Male&quot;</td><td>21</td><td>1</td><td>0</td><td>&quot;1-2 Year&quot;</td><td>&quot;Yes&quot;</td><td>65101.0</td><td>124.0</td><td>0</td></tr><tr><td>1</td><td>&quot;Male&quot;</td><td>43</td><td>1</td><td>0</td><td>&quot;&gt; 2 Years&quot;</td><td>&quot;Yes&quot;</td><td>58911.0</td><td>26.0</td><td>1</td></tr><tr><td>2</td><td>&quot;Female&quot;</td><td>25</td><td>1</td><td>1</td><td>&quot;&lt; 1 Year&quot;</td><td>&quot;No&quot;</td><td>38043.0</td><td>152.0</td><td>0</td></tr><tr><td>3</td><td>&quot;Female&quot;</td><td>35</td><td>1</td><td>0</td><td>&quot;1-2 Year&quot;</td><td>&quot;Yes&quot;</td><td>2630.0</td><td>156.0</td><td>0</td></tr><tr><td>4</td><td>&quot;Female&quot;</td><td>36</td><td>1</td><td>1</td><td>&quot;1-2 Year&quot;</td><td>&quot;No&quot;</td><td>31951.0</td><td>152.0</td><td>0</td></tr><tr><td>&hellip;</td><td>&hellip;</td><td>&hellip;</td><td>&hellip;</td><td>&hellip;</td><td>&hellip;</td><td>&hellip;</td><td>&hellip;</td><td>&hellip;</td><td>&hellip;</td></tr><tr><td>11504793</td><td>&quot;Male&quot;</td><td>48</td><td>1</td><td>0</td><td>&quot;1-2 Year&quot;</td><td>&quot;Yes&quot;</td><td>27412.0</td><td>26.0</td><td>0</td></tr><tr><td>11504794</td><td>&quot;Female&quot;</td><td>26</td><td>1</td><td>0</td><td>&quot;&lt; 1 Year&quot;</td><td>&quot;Yes&quot;</td><td>29509.0</td><td>152.0</td><td>1</td></tr><tr><td>11504795</td><td>&quot;Female&quot;</td><td>29</td><td>1</td><td>1</td><td>&quot;&lt; 1 Year&quot;</td><td>&quot;No&quot;</td><td>2630.0</td><td>152.0</td><td>0</td></tr><tr><td>11504796</td><td>&quot;Female&quot;</td><td>51</td><td>1</td><td>0</td><td>&quot;1-2 Year&quot;</td><td>&quot;Yes&quot;</td><td>48443.0</td><td>26.0</td><td>1</td></tr><tr><td>11504797</td><td>&quot;Male&quot;</td><td>25</td><td>1</td><td>1</td><td>&quot;&lt; 1 Year&quot;</td><td>&quot;No&quot;</td><td>32855.0</td><td>152.0</td><td>0</td></tr></tbody></table></div>"
      ],
      "text/plain": [
       "shape: (11_504_798, 10)\n",
       "┌──────────┬────────┬─────┬──────────────┬───┬──────────────┬─────────────┬─────────────┬──────────┐\n",
       "│ id       ┆ Gender ┆ Age ┆ Driving_Lice ┆ … ┆ Vehicle_Dama ┆ Annual_Prem ┆ Policy_Sale ┆ Response │\n",
       "│ ---      ┆ ---    ┆ --- ┆ nse          ┆   ┆ ge           ┆ ium         ┆ s_Channel   ┆ ---      │\n",
       "│ i64      ┆ str    ┆ i64 ┆ ---          ┆   ┆ ---          ┆ ---         ┆ ---         ┆ i64      │\n",
       "│          ┆        ┆     ┆ i64          ┆   ┆ str          ┆ f64         ┆ f64         ┆          │\n",
       "╞══════════╪════════╪═════╪══════════════╪═══╪══════════════╪═════════════╪═════════════╪══════════╡\n",
       "│ 0        ┆ Male   ┆ 21  ┆ 1            ┆ … ┆ Yes          ┆ 65101.0     ┆ 124.0       ┆ 0        │\n",
       "│ 1        ┆ Male   ┆ 43  ┆ 1            ┆ … ┆ Yes          ┆ 58911.0     ┆ 26.0        ┆ 1        │\n",
       "│ 2        ┆ Female ┆ 25  ┆ 1            ┆ … ┆ No           ┆ 38043.0     ┆ 152.0       ┆ 0        │\n",
       "│ 3        ┆ Female ┆ 35  ┆ 1            ┆ … ┆ Yes          ┆ 2630.0      ┆ 156.0       ┆ 0        │\n",
       "│ 4        ┆ Female ┆ 36  ┆ 1            ┆ … ┆ No           ┆ 31951.0     ┆ 152.0       ┆ 0        │\n",
       "│ …        ┆ …      ┆ …   ┆ …            ┆ … ┆ …            ┆ …           ┆ …           ┆ …        │\n",
       "│ 11504793 ┆ Male   ┆ 48  ┆ 1            ┆ … ┆ Yes          ┆ 27412.0     ┆ 26.0        ┆ 0        │\n",
       "│ 11504794 ┆ Female ┆ 26  ┆ 1            ┆ … ┆ Yes          ┆ 29509.0     ┆ 152.0       ┆ 1        │\n",
       "│ 11504795 ┆ Female ┆ 29  ┆ 1            ┆ … ┆ No           ┆ 2630.0      ┆ 152.0       ┆ 0        │\n",
       "│ 11504796 ┆ Female ┆ 51  ┆ 1            ┆ … ┆ Yes          ┆ 48443.0     ┆ 26.0        ┆ 1        │\n",
       "│ 11504797 ┆ Male   ┆ 25  ┆ 1            ┆ … ┆ No           ┆ 32855.0     ┆ 152.0       ┆ 0        │\n",
       "└──────────┴────────┴─────┴──────────────┴───┴──────────────┴─────────────┴─────────────┴──────────┘"
      ]
     },
     "execution_count": 44,
     "metadata": {},
     "output_type": "execute_result"
    }
   ],
   "source": [
    "df_clone.drop([\"Region_Code\",\"Vintage\"])"
   ]
  },
  {
   "cell_type": "code",
   "execution_count": 45,
   "id": "aabadc2e-7f51-4f85-a477-9978b81e7da7",
   "metadata": {},
   "outputs": [
    {
     "data": {
      "text/html": [
       "<div><style>\n",
       ".dataframe > thead > tr,\n",
       ".dataframe > tbody > tr {\n",
       "  text-align: right;\n",
       "  white-space: pre-wrap;\n",
       "}\n",
       "</style>\n",
       "<small>shape: (11_504_798,)</small><table border=\"1\" class=\"dataframe\"><thead><tr><th>Driving_License</th></tr><tr><td>i64</td></tr></thead><tbody><tr><td>1</td></tr><tr><td>1</td></tr><tr><td>1</td></tr><tr><td>1</td></tr><tr><td>1</td></tr><tr><td>&hellip;</td></tr><tr><td>1</td></tr><tr><td>1</td></tr><tr><td>1</td></tr><tr><td>1</td></tr><tr><td>1</td></tr></tbody></table></div>"
      ],
      "text/plain": [
       "shape: (11_504_798,)\n",
       "Series: 'Driving_License' [i64]\n",
       "[\n",
       "\t1\n",
       "\t1\n",
       "\t1\n",
       "\t1\n",
       "\t1\n",
       "\t…\n",
       "\t1\n",
       "\t1\n",
       "\t1\n",
       "\t1\n",
       "\t1\n",
       "]"
      ]
     },
     "execution_count": 45,
     "metadata": {},
     "output_type": "execute_result"
    }
   ],
   "source": [
    "# polars.DataFrame.drop_in_place\n",
    "\n",
    "df_clone.drop_in_place(\"Driving_License\")"
   ]
  },
  {
   "cell_type": "code",
   "execution_count": 47,
   "id": "8a944e35-25ec-4891-a7e1-83f3c006fcda",
   "metadata": {},
   "outputs": [
    {
     "data": {
      "text/html": [
       "<div><style>\n",
       ".dataframe > thead > tr,\n",
       ".dataframe > tbody > tr {\n",
       "  text-align: right;\n",
       "  white-space: pre-wrap;\n",
       "}\n",
       "</style>\n",
       "<small>shape: (11_504_798, 12)</small><table border=\"1\" class=\"dataframe\"><thead><tr><th>id</th><th>Gender</th><th>Age</th><th>Driving_License</th><th>Region_Code</th><th>Previously_Insured</th><th>Vehicle_Age</th><th>Vehicle_Damage</th><th>Annual_Premium</th><th>Policy_Sales_Channel</th><th>Vintage</th><th>Response</th></tr><tr><td>i64</td><td>str</td><td>i64</td><td>i64</td><td>f64</td><td>i64</td><td>str</td><td>str</td><td>f64</td><td>f64</td><td>i64</td><td>i64</td></tr></thead><tbody><tr><td>0</td><td>&quot;Male&quot;</td><td>21</td><td>1</td><td>35.0</td><td>0</td><td>&quot;1-2 Year&quot;</td><td>&quot;Yes&quot;</td><td>65101.0</td><td>124.0</td><td>187</td><td>0</td></tr><tr><td>1</td><td>&quot;Male&quot;</td><td>43</td><td>1</td><td>28.0</td><td>0</td><td>&quot;&gt; 2 Years&quot;</td><td>&quot;Yes&quot;</td><td>58911.0</td><td>26.0</td><td>288</td><td>1</td></tr><tr><td>2</td><td>&quot;Female&quot;</td><td>25</td><td>1</td><td>14.0</td><td>1</td><td>&quot;&lt; 1 Year&quot;</td><td>&quot;No&quot;</td><td>38043.0</td><td>152.0</td><td>254</td><td>0</td></tr><tr><td>3</td><td>&quot;Female&quot;</td><td>35</td><td>1</td><td>1.0</td><td>0</td><td>&quot;1-2 Year&quot;</td><td>&quot;Yes&quot;</td><td>2630.0</td><td>156.0</td><td>76</td><td>0</td></tr><tr><td>4</td><td>&quot;Female&quot;</td><td>36</td><td>1</td><td>15.0</td><td>1</td><td>&quot;1-2 Year&quot;</td><td>&quot;No&quot;</td><td>31951.0</td><td>152.0</td><td>294</td><td>0</td></tr><tr><td>&hellip;</td><td>&hellip;</td><td>&hellip;</td><td>&hellip;</td><td>&hellip;</td><td>&hellip;</td><td>&hellip;</td><td>&hellip;</td><td>&hellip;</td><td>&hellip;</td><td>&hellip;</td><td>&hellip;</td></tr><tr><td>11504793</td><td>&quot;Male&quot;</td><td>48</td><td>1</td><td>6.0</td><td>0</td><td>&quot;1-2 Year&quot;</td><td>&quot;Yes&quot;</td><td>27412.0</td><td>26.0</td><td>218</td><td>0</td></tr><tr><td>11504794</td><td>&quot;Female&quot;</td><td>26</td><td>1</td><td>36.0</td><td>0</td><td>&quot;&lt; 1 Year&quot;</td><td>&quot;Yes&quot;</td><td>29509.0</td><td>152.0</td><td>115</td><td>1</td></tr><tr><td>11504795</td><td>&quot;Female&quot;</td><td>29</td><td>1</td><td>32.0</td><td>1</td><td>&quot;&lt; 1 Year&quot;</td><td>&quot;No&quot;</td><td>2630.0</td><td>152.0</td><td>189</td><td>0</td></tr><tr><td>11504796</td><td>&quot;Female&quot;</td><td>51</td><td>1</td><td>28.0</td><td>0</td><td>&quot;1-2 Year&quot;</td><td>&quot;Yes&quot;</td><td>48443.0</td><td>26.0</td><td>274</td><td>1</td></tr><tr><td>11504797</td><td>&quot;Male&quot;</td><td>25</td><td>1</td><td>28.0</td><td>1</td><td>&quot;&lt; 1 Year&quot;</td><td>&quot;No&quot;</td><td>32855.0</td><td>152.0</td><td>189</td><td>0</td></tr></tbody></table></div>"
      ],
      "text/plain": [
       "shape: (11_504_798, 12)\n",
       "┌──────────┬────────┬─────┬───────────────┬───┬───────────────┬───────────────┬─────────┬──────────┐\n",
       "│ id       ┆ Gender ┆ Age ┆ Driving_Licen ┆ … ┆ Annual_Premiu ┆ Policy_Sales_ ┆ Vintage ┆ Response │\n",
       "│ ---      ┆ ---    ┆ --- ┆ se            ┆   ┆ m             ┆ Channel       ┆ ---     ┆ ---      │\n",
       "│ i64      ┆ str    ┆ i64 ┆ ---           ┆   ┆ ---           ┆ ---           ┆ i64     ┆ i64      │\n",
       "│          ┆        ┆     ┆ i64           ┆   ┆ f64           ┆ f64           ┆         ┆          │\n",
       "╞══════════╪════════╪═════╪═══════════════╪═══╪═══════════════╪═══════════════╪═════════╪══════════╡\n",
       "│ 0        ┆ Male   ┆ 21  ┆ 1             ┆ … ┆ 65101.0       ┆ 124.0         ┆ 187     ┆ 0        │\n",
       "│ 1        ┆ Male   ┆ 43  ┆ 1             ┆ … ┆ 58911.0       ┆ 26.0          ┆ 288     ┆ 1        │\n",
       "│ 2        ┆ Female ┆ 25  ┆ 1             ┆ … ┆ 38043.0       ┆ 152.0         ┆ 254     ┆ 0        │\n",
       "│ 3        ┆ Female ┆ 35  ┆ 1             ┆ … ┆ 2630.0        ┆ 156.0         ┆ 76      ┆ 0        │\n",
       "│ 4        ┆ Female ┆ 36  ┆ 1             ┆ … ┆ 31951.0       ┆ 152.0         ┆ 294     ┆ 0        │\n",
       "│ …        ┆ …      ┆ …   ┆ …             ┆ … ┆ …             ┆ …             ┆ …       ┆ …        │\n",
       "│ 11504793 ┆ Male   ┆ 48  ┆ 1             ┆ … ┆ 27412.0       ┆ 26.0          ┆ 218     ┆ 0        │\n",
       "│ 11504794 ┆ Female ┆ 26  ┆ 1             ┆ … ┆ 29509.0       ┆ 152.0         ┆ 115     ┆ 1        │\n",
       "│ 11504795 ┆ Female ┆ 29  ┆ 1             ┆ … ┆ 2630.0        ┆ 152.0         ┆ 189     ┆ 0        │\n",
       "│ 11504796 ┆ Female ┆ 51  ┆ 1             ┆ … ┆ 48443.0       ┆ 26.0          ┆ 274     ┆ 1        │\n",
       "│ 11504797 ┆ Male   ┆ 25  ┆ 1             ┆ … ┆ 32855.0       ┆ 152.0         ┆ 189     ┆ 0        │\n",
       "└──────────┴────────┴─────┴───────────────┴───┴───────────────┴───────────────┴─────────┴──────────┘"
      ]
     },
     "execution_count": 47,
     "metadata": {},
     "output_type": "execute_result"
    }
   ],
   "source": [
    "# polars.DataFrame.drop_nulls\n",
    "\n",
    "insurance_df.drop_nulls()"
   ]
  },
  {
   "cell_type": "code",
   "execution_count": 49,
   "id": "b2bf9183-e5f0-4d24-850e-f945dcf876ad",
   "metadata": {},
   "outputs": [
    {
     "data": {
      "text/html": [
       "<div><style>\n",
       ".dataframe > thead > tr,\n",
       ".dataframe > tbody > tr {\n",
       "  text-align: right;\n",
       "  white-space: pre-wrap;\n",
       "}\n",
       "</style>\n",
       "<small>shape: (8, 2)</small><table border=\"1\" class=\"dataframe\"><thead><tr><th>Countries</th><th>Ranking</th></tr><tr><td>str</td><td>i64</td></tr></thead><tbody><tr><td>&quot;INDIA&quot;</td><td>1</td></tr><tr><td>&quot;INDIA&quot;</td><td>2</td></tr><tr><td>&quot;INDIA&quot;</td><td>3</td></tr><tr><td>&quot;AUSTRALIA&quot;</td><td>4</td></tr><tr><td>&quot;AUSTRALIA&quot;</td><td>5</td></tr><tr><td>&quot;ENGLAND&quot;</td><td>6</td></tr><tr><td>&quot;ENGLAND&quot;</td><td>7</td></tr><tr><td>&quot;ENGLAND&quot;</td><td>8</td></tr></tbody></table></div>"
      ],
      "text/plain": [
       "shape: (8, 2)\n",
       "┌───────────┬─────────┐\n",
       "│ Countries ┆ Ranking │\n",
       "│ ---       ┆ ---     │\n",
       "│ str       ┆ i64     │\n",
       "╞═══════════╪═════════╡\n",
       "│ INDIA     ┆ 1       │\n",
       "│ INDIA     ┆ 2       │\n",
       "│ INDIA     ┆ 3       │\n",
       "│ AUSTRALIA ┆ 4       │\n",
       "│ AUSTRALIA ┆ 5       │\n",
       "│ ENGLAND   ┆ 6       │\n",
       "│ ENGLAND   ┆ 7       │\n",
       "│ ENGLAND   ┆ 8       │\n",
       "└───────────┴─────────┘"
      ]
     },
     "execution_count": 49,
     "metadata": {},
     "output_type": "execute_result"
    }
   ],
   "source": [
    "## polars.DataFrame.explode\n",
    "\n",
    "df_new = pl.DataFrame(\n",
    "    {\n",
    "    \"Countries\" : [\"INDIA\",\"INDIA\",\"AUSTRALIA\",\"ENGLAND\"],\n",
    "    \"Ranking\" : [[1],[2,3],[4,5],[6,7,8]],\n",
    "}\n",
    ")\n",
    "\n",
    "df_new.explode(\"Ranking\")\n"
   ]
  },
  {
   "cell_type": "code",
   "execution_count": 51,
   "id": "b390bf03-baf9-4e30-be73-913b728e56a2",
   "metadata": {},
   "outputs": [
    {
     "data": {
      "text/html": [
       "<div><style>\n",
       ".dataframe > thead > tr,\n",
       ".dataframe > tbody > tr {\n",
       "  text-align: right;\n",
       "  white-space: pre-wrap;\n",
       "}\n",
       "</style>\n",
       "<small>shape: (8, 2)</small><table border=\"1\" class=\"dataframe\"><thead><tr><th>Countries</th><th>Matches</th></tr><tr><td>str</td><td>i64</td></tr></thead><tbody><tr><td>&quot;INDIA&quot;</td><td>80</td></tr><tr><td>&quot;PAKISTAN&quot;</td><td>42</td></tr><tr><td>&quot;AUSTRALIA&quot;</td><td>55</td></tr><tr><td>&quot;ENGLAND&quot;</td><td>32</td></tr><tr><td>&quot;NZ&quot;</td><td>35</td></tr><tr><td>&quot;SRILANKA&quot;</td><td>28</td></tr><tr><td>&quot;BANGLADESH&quot;</td><td>30</td></tr><tr><td>&quot;KENYA&quot;</td><td>12</td></tr></tbody></table></div>"
      ],
      "text/plain": [
       "shape: (8, 2)\n",
       "┌────────────┬─────────┐\n",
       "│ Countries  ┆ Matches │\n",
       "│ ---        ┆ ---     │\n",
       "│ str        ┆ i64     │\n",
       "╞════════════╪═════════╡\n",
       "│ INDIA      ┆ 80      │\n",
       "│ PAKISTAN   ┆ 42      │\n",
       "│ AUSTRALIA  ┆ 55      │\n",
       "│ ENGLAND    ┆ 32      │\n",
       "│ NZ         ┆ 35      │\n",
       "│ SRILANKA   ┆ 28      │\n",
       "│ BANGLADESH ┆ 30      │\n",
       "│ KENYA      ┆ 12      │\n",
       "└────────────┴─────────┘"
      ]
     },
     "execution_count": 51,
     "metadata": {},
     "output_type": "execute_result"
    }
   ],
   "source": [
    "# polars.DataFrame.extend\n",
    "df1 = pl.DataFrame(\n",
    "    {\n",
    "    \"Countries\" : [\"INDIA\",\"PAKISTAN\",\"AUSTRALIA\",\"ENGLAND\"],\n",
    "    \"Matches\" : [80,42,55,32],\n",
    "}\n",
    ")\n",
    "\n",
    "df2 = pl.DataFrame(\n",
    "    {\n",
    "    \"Countries\" : [\"NZ\",\"SRILANKA\",\"BANGLADESH\",\"KENYA\"],\n",
    "    \"Matches\" : [35,28,30,12],\n",
    "}\n",
    ")\n",
    "df1.extend(df2)"
   ]
  },
  {
   "cell_type": "code",
   "execution_count": 58,
   "id": "6201840f-4e91-4e13-9ac0-999d66925941",
   "metadata": {},
   "outputs": [
    {
     "data": {
      "text/html": [
       "<div><style>\n",
       ".dataframe > thead > tr,\n",
       ".dataframe > tbody > tr {\n",
       "  text-align: right;\n",
       "  white-space: pre-wrap;\n",
       "}\n",
       "</style>\n",
       "<small>shape: (4, 2)</small><table border=\"1\" class=\"dataframe\"><thead><tr><th>Salary</th><th>Expenditure</th></tr><tr><td>f64</td><td>f64</td></tr></thead><tbody><tr><td>111.5</td><td>21.5</td></tr><tr><td>200.0</td><td>40.0</td></tr><tr><td>99.0</td><td>99.0</td></tr><tr><td>40.0</td><td>13.0</td></tr></tbody></table></div>"
      ],
      "text/plain": [
       "shape: (4, 2)\n",
       "┌────────┬─────────────┐\n",
       "│ Salary ┆ Expenditure │\n",
       "│ ---    ┆ ---         │\n",
       "│ f64    ┆ f64         │\n",
       "╞════════╪═════════════╡\n",
       "│ 111.5  ┆ 21.5        │\n",
       "│ 200.0  ┆ 40.0        │\n",
       "│ 99.0   ┆ 99.0        │\n",
       "│ 40.0   ┆ 13.0        │\n",
       "└────────┴─────────────┘"
      ]
     },
     "execution_count": 58,
     "metadata": {},
     "output_type": "execute_result"
    }
   ],
   "source": [
    "# polars.DataFrame.fill_nan\n",
    "df = pl.DataFrame(\n",
    "    {\n",
    "        \"Salary\": [111.5, 200, float(\"nan\"), 40],\n",
    "        \"Expenditure\": [21.5, 40, float(\"nan\"), 13],\n",
    "    }\n",
    ")\n",
    "df.fill_nan(99)"
   ]
  },
  {
   "cell_type": "code",
   "execution_count": 59,
   "id": "fab4c327-0d3b-4237-9c00-44c6f53d4887",
   "metadata": {},
   "outputs": [
    {
     "data": {
      "text/html": [
       "<div><style>\n",
       ".dataframe > thead > tr,\n",
       ".dataframe > tbody > tr {\n",
       "  text-align: right;\n",
       "  white-space: pre-wrap;\n",
       "}\n",
       "</style>\n",
       "<small>shape: (11_504_798, 12)</small><table border=\"1\" class=\"dataframe\"><thead><tr><th>id</th><th>Gender</th><th>Age</th><th>Driving_License</th><th>Region_Code</th><th>Previously_Insured</th><th>Vehicle_Age</th><th>Vehicle_Damage</th><th>Annual_Premium</th><th>Policy_Sales_Channel</th><th>Vintage</th><th>Response</th></tr><tr><td>i64</td><td>str</td><td>i64</td><td>i64</td><td>f64</td><td>i64</td><td>str</td><td>str</td><td>f64</td><td>f64</td><td>i64</td><td>i64</td></tr></thead><tbody><tr><td>0</td><td>&quot;Male&quot;</td><td>21</td><td>1</td><td>35.0</td><td>0</td><td>&quot;1-2 Year&quot;</td><td>&quot;Yes&quot;</td><td>65101.0</td><td>124.0</td><td>187</td><td>0</td></tr><tr><td>1</td><td>&quot;Male&quot;</td><td>43</td><td>1</td><td>28.0</td><td>0</td><td>&quot;&gt; 2 Years&quot;</td><td>&quot;Yes&quot;</td><td>58911.0</td><td>26.0</td><td>288</td><td>1</td></tr><tr><td>2</td><td>&quot;Female&quot;</td><td>25</td><td>1</td><td>14.0</td><td>1</td><td>&quot;&lt; 1 Year&quot;</td><td>&quot;No&quot;</td><td>38043.0</td><td>152.0</td><td>254</td><td>0</td></tr><tr><td>3</td><td>&quot;Female&quot;</td><td>35</td><td>1</td><td>1.0</td><td>0</td><td>&quot;1-2 Year&quot;</td><td>&quot;Yes&quot;</td><td>2630.0</td><td>156.0</td><td>76</td><td>0</td></tr><tr><td>4</td><td>&quot;Female&quot;</td><td>36</td><td>1</td><td>15.0</td><td>1</td><td>&quot;1-2 Year&quot;</td><td>&quot;No&quot;</td><td>31951.0</td><td>152.0</td><td>294</td><td>0</td></tr><tr><td>&hellip;</td><td>&hellip;</td><td>&hellip;</td><td>&hellip;</td><td>&hellip;</td><td>&hellip;</td><td>&hellip;</td><td>&hellip;</td><td>&hellip;</td><td>&hellip;</td><td>&hellip;</td><td>&hellip;</td></tr><tr><td>11504793</td><td>&quot;Male&quot;</td><td>48</td><td>1</td><td>6.0</td><td>0</td><td>&quot;1-2 Year&quot;</td><td>&quot;Yes&quot;</td><td>27412.0</td><td>26.0</td><td>218</td><td>0</td></tr><tr><td>11504794</td><td>&quot;Female&quot;</td><td>26</td><td>1</td><td>36.0</td><td>0</td><td>&quot;&lt; 1 Year&quot;</td><td>&quot;Yes&quot;</td><td>29509.0</td><td>152.0</td><td>115</td><td>1</td></tr><tr><td>11504795</td><td>&quot;Female&quot;</td><td>29</td><td>1</td><td>32.0</td><td>1</td><td>&quot;&lt; 1 Year&quot;</td><td>&quot;No&quot;</td><td>2630.0</td><td>152.0</td><td>189</td><td>0</td></tr><tr><td>11504796</td><td>&quot;Female&quot;</td><td>51</td><td>1</td><td>28.0</td><td>0</td><td>&quot;1-2 Year&quot;</td><td>&quot;Yes&quot;</td><td>48443.0</td><td>26.0</td><td>274</td><td>1</td></tr><tr><td>11504797</td><td>&quot;Male&quot;</td><td>25</td><td>1</td><td>28.0</td><td>1</td><td>&quot;&lt; 1 Year&quot;</td><td>&quot;No&quot;</td><td>32855.0</td><td>152.0</td><td>189</td><td>0</td></tr></tbody></table></div>"
      ],
      "text/plain": [
       "shape: (11_504_798, 12)\n",
       "┌──────────┬────────┬─────┬───────────────┬───┬───────────────┬───────────────┬─────────┬──────────┐\n",
       "│ id       ┆ Gender ┆ Age ┆ Driving_Licen ┆ … ┆ Annual_Premiu ┆ Policy_Sales_ ┆ Vintage ┆ Response │\n",
       "│ ---      ┆ ---    ┆ --- ┆ se            ┆   ┆ m             ┆ Channel       ┆ ---     ┆ ---      │\n",
       "│ i64      ┆ str    ┆ i64 ┆ ---           ┆   ┆ ---           ┆ ---           ┆ i64     ┆ i64      │\n",
       "│          ┆        ┆     ┆ i64           ┆   ┆ f64           ┆ f64           ┆         ┆          │\n",
       "╞══════════╪════════╪═════╪═══════════════╪═══╪═══════════════╪═══════════════╪═════════╪══════════╡\n",
       "│ 0        ┆ Male   ┆ 21  ┆ 1             ┆ … ┆ 65101.0       ┆ 124.0         ┆ 187     ┆ 0        │\n",
       "│ 1        ┆ Male   ┆ 43  ┆ 1             ┆ … ┆ 58911.0       ┆ 26.0          ┆ 288     ┆ 1        │\n",
       "│ 2        ┆ Female ┆ 25  ┆ 1             ┆ … ┆ 38043.0       ┆ 152.0         ┆ 254     ┆ 0        │\n",
       "│ 3        ┆ Female ┆ 35  ┆ 1             ┆ … ┆ 2630.0        ┆ 156.0         ┆ 76      ┆ 0        │\n",
       "│ 4        ┆ Female ┆ 36  ┆ 1             ┆ … ┆ 31951.0       ┆ 152.0         ┆ 294     ┆ 0        │\n",
       "│ …        ┆ …      ┆ …   ┆ …             ┆ … ┆ …             ┆ …             ┆ …       ┆ …        │\n",
       "│ 11504793 ┆ Male   ┆ 48  ┆ 1             ┆ … ┆ 27412.0       ┆ 26.0          ┆ 218     ┆ 0        │\n",
       "│ 11504794 ┆ Female ┆ 26  ┆ 1             ┆ … ┆ 29509.0       ┆ 152.0         ┆ 115     ┆ 1        │\n",
       "│ 11504795 ┆ Female ┆ 29  ┆ 1             ┆ … ┆ 2630.0        ┆ 152.0         ┆ 189     ┆ 0        │\n",
       "│ 11504796 ┆ Female ┆ 51  ┆ 1             ┆ … ┆ 48443.0       ┆ 26.0          ┆ 274     ┆ 1        │\n",
       "│ 11504797 ┆ Male   ┆ 25  ┆ 1             ┆ … ┆ 32855.0       ┆ 152.0         ┆ 189     ┆ 0        │\n",
       "└──────────┴────────┴─────┴───────────────┴───┴───────────────┴───────────────┴─────────┴──────────┘"
      ]
     },
     "execution_count": 59,
     "metadata": {},
     "output_type": "execute_result"
    }
   ],
   "source": [
    "# polars.DataFrame.fill_null\n",
    "\n",
    "insurance_df.fill_null(strategy=\"max\")"
   ]
  },
  {
   "cell_type": "code",
   "execution_count": 60,
   "id": "0c4c51d5-70ac-4f6c-890e-cb1e31a0d557",
   "metadata": {},
   "outputs": [
    {
     "data": {
      "text/html": [
       "<div><style>\n",
       ".dataframe > thead > tr,\n",
       ".dataframe > tbody > tr {\n",
       "  text-align: right;\n",
       "  white-space: pre-wrap;\n",
       "}\n",
       "</style>\n",
       "<small>shape: (11_332_592, 12)</small><table border=\"1\" class=\"dataframe\"><thead><tr><th>id</th><th>Gender</th><th>Age</th><th>Driving_License</th><th>Region_Code</th><th>Previously_Insured</th><th>Vehicle_Age</th><th>Vehicle_Damage</th><th>Annual_Premium</th><th>Policy_Sales_Channel</th><th>Vintage</th><th>Response</th></tr><tr><td>i64</td><td>str</td><td>i64</td><td>i64</td><td>f64</td><td>i64</td><td>str</td><td>str</td><td>f64</td><td>f64</td><td>i64</td><td>i64</td></tr></thead><tbody><tr><td>0</td><td>&quot;Male&quot;</td><td>21</td><td>1</td><td>35.0</td><td>0</td><td>&quot;1-2 Year&quot;</td><td>&quot;Yes&quot;</td><td>65101.0</td><td>124.0</td><td>187</td><td>0</td></tr><tr><td>1</td><td>&quot;Male&quot;</td><td>43</td><td>1</td><td>28.0</td><td>0</td><td>&quot;&gt; 2 Years&quot;</td><td>&quot;Yes&quot;</td><td>58911.0</td><td>26.0</td><td>288</td><td>1</td></tr><tr><td>2</td><td>&quot;Female&quot;</td><td>25</td><td>1</td><td>14.0</td><td>1</td><td>&quot;&lt; 1 Year&quot;</td><td>&quot;No&quot;</td><td>38043.0</td><td>152.0</td><td>254</td><td>0</td></tr><tr><td>3</td><td>&quot;Female&quot;</td><td>35</td><td>1</td><td>1.0</td><td>0</td><td>&quot;1-2 Year&quot;</td><td>&quot;Yes&quot;</td><td>2630.0</td><td>156.0</td><td>76</td><td>0</td></tr><tr><td>4</td><td>&quot;Female&quot;</td><td>36</td><td>1</td><td>15.0</td><td>1</td><td>&quot;1-2 Year&quot;</td><td>&quot;No&quot;</td><td>31951.0</td><td>152.0</td><td>294</td><td>0</td></tr><tr><td>&hellip;</td><td>&hellip;</td><td>&hellip;</td><td>&hellip;</td><td>&hellip;</td><td>&hellip;</td><td>&hellip;</td><td>&hellip;</td><td>&hellip;</td><td>&hellip;</td><td>&hellip;</td><td>&hellip;</td></tr><tr><td>11504793</td><td>&quot;Male&quot;</td><td>48</td><td>1</td><td>6.0</td><td>0</td><td>&quot;1-2 Year&quot;</td><td>&quot;Yes&quot;</td><td>27412.0</td><td>26.0</td><td>218</td><td>0</td></tr><tr><td>11504794</td><td>&quot;Female&quot;</td><td>26</td><td>1</td><td>36.0</td><td>0</td><td>&quot;&lt; 1 Year&quot;</td><td>&quot;Yes&quot;</td><td>29509.0</td><td>152.0</td><td>115</td><td>1</td></tr><tr><td>11504795</td><td>&quot;Female&quot;</td><td>29</td><td>1</td><td>32.0</td><td>1</td><td>&quot;&lt; 1 Year&quot;</td><td>&quot;No&quot;</td><td>2630.0</td><td>152.0</td><td>189</td><td>0</td></tr><tr><td>11504796</td><td>&quot;Female&quot;</td><td>51</td><td>1</td><td>28.0</td><td>0</td><td>&quot;1-2 Year&quot;</td><td>&quot;Yes&quot;</td><td>48443.0</td><td>26.0</td><td>274</td><td>1</td></tr><tr><td>11504797</td><td>&quot;Male&quot;</td><td>25</td><td>1</td><td>28.0</td><td>1</td><td>&quot;&lt; 1 Year&quot;</td><td>&quot;No&quot;</td><td>32855.0</td><td>152.0</td><td>189</td><td>0</td></tr></tbody></table></div>"
      ],
      "text/plain": [
       "shape: (11_332_592, 12)\n",
       "┌──────────┬────────┬─────┬───────────────┬───┬───────────────┬───────────────┬─────────┬──────────┐\n",
       "│ id       ┆ Gender ┆ Age ┆ Driving_Licen ┆ … ┆ Annual_Premiu ┆ Policy_Sales_ ┆ Vintage ┆ Response │\n",
       "│ ---      ┆ ---    ┆ --- ┆ se            ┆   ┆ m             ┆ Channel       ┆ ---     ┆ ---      │\n",
       "│ i64      ┆ str    ┆ i64 ┆ ---           ┆   ┆ ---           ┆ ---           ┆ i64     ┆ i64      │\n",
       "│          ┆        ┆     ┆ i64           ┆   ┆ f64           ┆ f64           ┆         ┆          │\n",
       "╞══════════╪════════╪═════╪═══════════════╪═══╪═══════════════╪═══════════════╪═════════╪══════════╡\n",
       "│ 0        ┆ Male   ┆ 21  ┆ 1             ┆ … ┆ 65101.0       ┆ 124.0         ┆ 187     ┆ 0        │\n",
       "│ 1        ┆ Male   ┆ 43  ┆ 1             ┆ … ┆ 58911.0       ┆ 26.0          ┆ 288     ┆ 1        │\n",
       "│ 2        ┆ Female ┆ 25  ┆ 1             ┆ … ┆ 38043.0       ┆ 152.0         ┆ 254     ┆ 0        │\n",
       "│ 3        ┆ Female ┆ 35  ┆ 1             ┆ … ┆ 2630.0        ┆ 156.0         ┆ 76      ┆ 0        │\n",
       "│ 4        ┆ Female ┆ 36  ┆ 1             ┆ … ┆ 31951.0       ┆ 152.0         ┆ 294     ┆ 0        │\n",
       "│ …        ┆ …      ┆ …   ┆ …             ┆ … ┆ …             ┆ …             ┆ …       ┆ …        │\n",
       "│ 11504793 ┆ Male   ┆ 48  ┆ 1             ┆ … ┆ 27412.0       ┆ 26.0          ┆ 218     ┆ 0        │\n",
       "│ 11504794 ┆ Female ┆ 26  ┆ 1             ┆ … ┆ 29509.0       ┆ 152.0         ┆ 115     ┆ 1        │\n",
       "│ 11504795 ┆ Female ┆ 29  ┆ 1             ┆ … ┆ 2630.0        ┆ 152.0         ┆ 189     ┆ 0        │\n",
       "│ 11504796 ┆ Female ┆ 51  ┆ 1             ┆ … ┆ 48443.0       ┆ 26.0          ┆ 274     ┆ 1        │\n",
       "│ 11504797 ┆ Male   ┆ 25  ┆ 1             ┆ … ┆ 32855.0       ┆ 152.0         ┆ 189     ┆ 0        │\n",
       "└──────────┴────────┴─────┴───────────────┴───┴───────────────┴───────────────┴─────────┴──────────┘"
      ]
     },
     "execution_count": 60,
     "metadata": {},
     "output_type": "execute_result"
    }
   ],
   "source": [
    "# polars.DataFrame.filter\n",
    "\n",
    "insurance_df.filter(pl.col(\"Age\") > 20)"
   ]
  },
  {
   "cell_type": "code",
   "execution_count": 63,
   "id": "85878fd7-3544-48ac-bc2c-0222165b47b4",
   "metadata": {},
   "outputs": [
    {
     "data": {
      "text/html": [
       "<div><style>\n",
       ".dataframe > thead > tr,\n",
       ".dataframe > tbody > tr {\n",
       "  text-align: right;\n",
       "  white-space: pre-wrap;\n",
       "}\n",
       "</style>\n",
       "<small>shape: (7_892_053, 12)</small><table border=\"1\" class=\"dataframe\"><thead><tr><th>id</th><th>Gender</th><th>Age</th><th>Driving_License</th><th>Region_Code</th><th>Previously_Insured</th><th>Vehicle_Age</th><th>Vehicle_Damage</th><th>Annual_Premium</th><th>Policy_Sales_Channel</th><th>Vintage</th><th>Response</th></tr><tr><td>i64</td><td>str</td><td>i64</td><td>i64</td><td>f64</td><td>i64</td><td>str</td><td>str</td><td>f64</td><td>f64</td><td>i64</td><td>i64</td></tr></thead><tbody><tr><td>0</td><td>&quot;Male&quot;</td><td>21</td><td>1</td><td>35.0</td><td>0</td><td>&quot;1-2 Year&quot;</td><td>&quot;Yes&quot;</td><td>65101.0</td><td>124.0</td><td>187</td><td>0</td></tr><tr><td>1</td><td>&quot;Male&quot;</td><td>43</td><td>1</td><td>28.0</td><td>0</td><td>&quot;&gt; 2 Years&quot;</td><td>&quot;Yes&quot;</td><td>58911.0</td><td>26.0</td><td>288</td><td>1</td></tr><tr><td>3</td><td>&quot;Female&quot;</td><td>35</td><td>1</td><td>1.0</td><td>0</td><td>&quot;1-2 Year&quot;</td><td>&quot;Yes&quot;</td><td>2630.0</td><td>156.0</td><td>76</td><td>0</td></tr><tr><td>4</td><td>&quot;Female&quot;</td><td>36</td><td>1</td><td>15.0</td><td>1</td><td>&quot;1-2 Year&quot;</td><td>&quot;No&quot;</td><td>31951.0</td><td>152.0</td><td>294</td><td>0</td></tr><tr><td>7</td><td>&quot;Female&quot;</td><td>47</td><td>1</td><td>8.0</td><td>0</td><td>&quot;1-2 Year&quot;</td><td>&quot;Yes&quot;</td><td>40659.0</td><td>26.0</td><td>262</td><td>1</td></tr><tr><td>&hellip;</td><td>&hellip;</td><td>&hellip;</td><td>&hellip;</td><td>&hellip;</td><td>&hellip;</td><td>&hellip;</td><td>&hellip;</td><td>&hellip;</td><td>&hellip;</td><td>&hellip;</td><td>&hellip;</td></tr><tr><td>11504788</td><td>&quot;Male&quot;</td><td>66</td><td>1</td><td>3.0</td><td>1</td><td>&quot;1-2 Year&quot;</td><td>&quot;No&quot;</td><td>2630.0</td><td>152.0</td><td>74</td><td>0</td></tr><tr><td>11504792</td><td>&quot;Male&quot;</td><td>34</td><td>1</td><td>28.0</td><td>1</td><td>&quot;1-2 Year&quot;</td><td>&quot;No&quot;</td><td>29974.0</td><td>154.0</td><td>201</td><td>0</td></tr><tr><td>11504793</td><td>&quot;Male&quot;</td><td>48</td><td>1</td><td>6.0</td><td>0</td><td>&quot;1-2 Year&quot;</td><td>&quot;Yes&quot;</td><td>27412.0</td><td>26.0</td><td>218</td><td>0</td></tr><tr><td>11504794</td><td>&quot;Female&quot;</td><td>26</td><td>1</td><td>36.0</td><td>0</td><td>&quot;&lt; 1 Year&quot;</td><td>&quot;Yes&quot;</td><td>29509.0</td><td>152.0</td><td>115</td><td>1</td></tr><tr><td>11504796</td><td>&quot;Female&quot;</td><td>51</td><td>1</td><td>28.0</td><td>0</td><td>&quot;1-2 Year&quot;</td><td>&quot;Yes&quot;</td><td>48443.0</td><td>26.0</td><td>274</td><td>1</td></tr></tbody></table></div>"
      ],
      "text/plain": [
       "shape: (7_892_053, 12)\n",
       "┌──────────┬────────┬─────┬───────────────┬───┬───────────────┬───────────────┬─────────┬──────────┐\n",
       "│ id       ┆ Gender ┆ Age ┆ Driving_Licen ┆ … ┆ Annual_Premiu ┆ Policy_Sales_ ┆ Vintage ┆ Response │\n",
       "│ ---      ┆ ---    ┆ --- ┆ se            ┆   ┆ m             ┆ Channel       ┆ ---     ┆ ---      │\n",
       "│ i64      ┆ str    ┆ i64 ┆ ---           ┆   ┆ ---           ┆ ---           ┆ i64     ┆ i64      │\n",
       "│          ┆        ┆     ┆ i64           ┆   ┆ f64           ┆ f64           ┆         ┆          │\n",
       "╞══════════╪════════╪═════╪═══════════════╪═══╪═══════════════╪═══════════════╪═════════╪══════════╡\n",
       "│ 0        ┆ Male   ┆ 21  ┆ 1             ┆ … ┆ 65101.0       ┆ 124.0         ┆ 187     ┆ 0        │\n",
       "│ 1        ┆ Male   ┆ 43  ┆ 1             ┆ … ┆ 58911.0       ┆ 26.0          ┆ 288     ┆ 1        │\n",
       "│ 3        ┆ Female ┆ 35  ┆ 1             ┆ … ┆ 2630.0        ┆ 156.0         ┆ 76      ┆ 0        │\n",
       "│ 4        ┆ Female ┆ 36  ┆ 1             ┆ … ┆ 31951.0       ┆ 152.0         ┆ 294     ┆ 0        │\n",
       "│ 7        ┆ Female ┆ 47  ┆ 1             ┆ … ┆ 40659.0       ┆ 26.0          ┆ 262     ┆ 1        │\n",
       "│ …        ┆ …      ┆ …   ┆ …             ┆ … ┆ …             ┆ …             ┆ …       ┆ …        │\n",
       "│ 11504788 ┆ Male   ┆ 66  ┆ 1             ┆ … ┆ 2630.0        ┆ 152.0         ┆ 74      ┆ 0        │\n",
       "│ 11504792 ┆ Male   ┆ 34  ┆ 1             ┆ … ┆ 29974.0       ┆ 154.0         ┆ 201     ┆ 0        │\n",
       "│ 11504793 ┆ Male   ┆ 48  ┆ 1             ┆ … ┆ 27412.0       ┆ 26.0          ┆ 218     ┆ 0        │\n",
       "│ 11504794 ┆ Female ┆ 26  ┆ 1             ┆ … ┆ 29509.0       ┆ 152.0         ┆ 115     ┆ 1        │\n",
       "│ 11504796 ┆ Female ┆ 51  ┆ 1             ┆ … ┆ 48443.0       ┆ 26.0          ┆ 274     ┆ 1        │\n",
       "└──────────┴────────┴─────┴───────────────┴───┴───────────────┴───────────────┴─────────┴──────────┘"
      ]
     },
     "execution_count": 63,
     "metadata": {},
     "output_type": "execute_result"
    }
   ],
   "source": [
    "insurance_df.filter((pl.col(\"Vehicle_Age\")==\"1-2 Year\") | (pl.col(\"Vehicle_Damage\")==\"Yes\"))"
   ]
  },
  {
   "cell_type": "code",
   "execution_count": 65,
   "id": "0829fa1b-e6a8-488a-b5fd-b4897b0b9a2e",
   "metadata": {},
   "outputs": [
    {
     "data": {
      "text/html": [
       "<div><style>\n",
       ".dataframe > thead > tr,\n",
       ".dataframe > tbody > tr {\n",
       "  text-align: right;\n",
       "  white-space: pre-wrap;\n",
       "}\n",
       "</style>\n",
       "<small>shape: (11_504_798,)</small><table border=\"1\" class=\"dataframe\"><thead><tr><th>Annual_Premium</th></tr><tr><td>f64</td></tr></thead><tbody><tr><td>65101.0</td></tr><tr><td>58911.0</td></tr><tr><td>38043.0</td></tr><tr><td>2630.0</td></tr><tr><td>31951.0</td></tr><tr><td>&hellip;</td></tr><tr><td>27412.0</td></tr><tr><td>29509.0</td></tr><tr><td>2630.0</td></tr><tr><td>48443.0</td></tr><tr><td>32855.0</td></tr></tbody></table></div>"
      ],
      "text/plain": [
       "shape: (11_504_798,)\n",
       "Series: 'Annual_Premium' [f64]\n",
       "[\n",
       "\t65101.0\n",
       "\t58911.0\n",
       "\t38043.0\n",
       "\t2630.0\n",
       "\t31951.0\n",
       "\t…\n",
       "\t27412.0\n",
       "\t29509.0\n",
       "\t2630.0\n",
       "\t48443.0\n",
       "\t32855.0\n",
       "]"
      ]
     },
     "execution_count": 65,
     "metadata": {},
     "output_type": "execute_result"
    }
   ],
   "source": [
    "# polars.DataFrame.get_column\n",
    "\n",
    "insurance_df.get_column(\"Annual_Premium\")"
   ]
  },
  {
   "cell_type": "code",
   "execution_count": 66,
   "id": "afbb053e-a423-4cc4-99c2-36ecccf28932",
   "metadata": {},
   "outputs": [
    {
     "data": {
      "text/plain": [
       "8"
      ]
     },
     "execution_count": 66,
     "metadata": {},
     "output_type": "execute_result"
    }
   ],
   "source": [
    "# polars.DataFrame.get_column_index\n",
    "insurance_df.get_column_index(\"Annual_Premium\")"
   ]
  },
  {
   "cell_type": "code",
   "execution_count": 67,
   "id": "2e4c47be-3bb0-4532-ac52-6ffe7cf72c38",
   "metadata": {},
   "outputs": [
    {
     "data": {
      "text/plain": [
       "[shape: (11_504_798,)\n",
       " Series: 'id' [i64]\n",
       " [\n",
       " \t0\n",
       " \t1\n",
       " \t2\n",
       " \t3\n",
       " \t4\n",
       " \t…\n",
       " \t11504793\n",
       " \t11504794\n",
       " \t11504795\n",
       " \t11504796\n",
       " \t11504797\n",
       " ],\n",
       " shape: (11_504_798,)\n",
       " Series: 'Gender' [str]\n",
       " [\n",
       " \t\"Male\"\n",
       " \t\"Male\"\n",
       " \t\"Female\"\n",
       " \t\"Female\"\n",
       " \t\"Female\"\n",
       " \t…\n",
       " \t\"Male\"\n",
       " \t\"Female\"\n",
       " \t\"Female\"\n",
       " \t\"Female\"\n",
       " \t\"Male\"\n",
       " ],\n",
       " shape: (11_504_798,)\n",
       " Series: 'Age' [i64]\n",
       " [\n",
       " \t21\n",
       " \t43\n",
       " \t25\n",
       " \t35\n",
       " \t36\n",
       " \t…\n",
       " \t48\n",
       " \t26\n",
       " \t29\n",
       " \t51\n",
       " \t25\n",
       " ],\n",
       " shape: (11_504_798,)\n",
       " Series: 'Driving_License' [i64]\n",
       " [\n",
       " \t1\n",
       " \t1\n",
       " \t1\n",
       " \t1\n",
       " \t1\n",
       " \t…\n",
       " \t1\n",
       " \t1\n",
       " \t1\n",
       " \t1\n",
       " \t1\n",
       " ],\n",
       " shape: (11_504_798,)\n",
       " Series: 'Region_Code' [f64]\n",
       " [\n",
       " \t35.0\n",
       " \t28.0\n",
       " \t14.0\n",
       " \t1.0\n",
       " \t15.0\n",
       " \t…\n",
       " \t6.0\n",
       " \t36.0\n",
       " \t32.0\n",
       " \t28.0\n",
       " \t28.0\n",
       " ],\n",
       " shape: (11_504_798,)\n",
       " Series: 'Previously_Insured' [i64]\n",
       " [\n",
       " \t0\n",
       " \t0\n",
       " \t1\n",
       " \t0\n",
       " \t1\n",
       " \t…\n",
       " \t0\n",
       " \t0\n",
       " \t1\n",
       " \t0\n",
       " \t1\n",
       " ],\n",
       " shape: (11_504_798,)\n",
       " Series: 'Vehicle_Age' [str]\n",
       " [\n",
       " \t\"1-2 Year\"\n",
       " \t\"> 2 Years\"\n",
       " \t\"< 1 Year\"\n",
       " \t\"1-2 Year\"\n",
       " \t\"1-2 Year\"\n",
       " \t…\n",
       " \t\"1-2 Year\"\n",
       " \t\"< 1 Year\"\n",
       " \t\"< 1 Year\"\n",
       " \t\"1-2 Year\"\n",
       " \t\"< 1 Year\"\n",
       " ],\n",
       " shape: (11_504_798,)\n",
       " Series: 'Vehicle_Damage' [str]\n",
       " [\n",
       " \t\"Yes\"\n",
       " \t\"Yes\"\n",
       " \t\"No\"\n",
       " \t\"Yes\"\n",
       " \t\"No\"\n",
       " \t…\n",
       " \t\"Yes\"\n",
       " \t\"Yes\"\n",
       " \t\"No\"\n",
       " \t\"Yes\"\n",
       " \t\"No\"\n",
       " ],\n",
       " shape: (11_504_798,)\n",
       " Series: 'Annual_Premium' [f64]\n",
       " [\n",
       " \t65101.0\n",
       " \t58911.0\n",
       " \t38043.0\n",
       " \t2630.0\n",
       " \t31951.0\n",
       " \t…\n",
       " \t27412.0\n",
       " \t29509.0\n",
       " \t2630.0\n",
       " \t48443.0\n",
       " \t32855.0\n",
       " ],\n",
       " shape: (11_504_798,)\n",
       " Series: 'Policy_Sales_Channel' [f64]\n",
       " [\n",
       " \t124.0\n",
       " \t26.0\n",
       " \t152.0\n",
       " \t156.0\n",
       " \t152.0\n",
       " \t…\n",
       " \t26.0\n",
       " \t152.0\n",
       " \t152.0\n",
       " \t26.0\n",
       " \t152.0\n",
       " ],\n",
       " shape: (11_504_798,)\n",
       " Series: 'Vintage' [i64]\n",
       " [\n",
       " \t187\n",
       " \t288\n",
       " \t254\n",
       " \t76\n",
       " \t294\n",
       " \t…\n",
       " \t218\n",
       " \t115\n",
       " \t189\n",
       " \t274\n",
       " \t189\n",
       " ],\n",
       " shape: (11_504_798,)\n",
       " Series: 'Response' [i64]\n",
       " [\n",
       " \t0\n",
       " \t1\n",
       " \t0\n",
       " \t0\n",
       " \t0\n",
       " \t…\n",
       " \t0\n",
       " \t1\n",
       " \t0\n",
       " \t1\n",
       " \t0\n",
       " ]]"
      ]
     },
     "execution_count": 67,
     "metadata": {},
     "output_type": "execute_result"
    }
   ],
   "source": [
    "# polars.DataFrame.get_columns\n",
    "\n",
    "insurance_df.get_columns()"
   ]
  },
  {
   "cell_type": "code",
   "execution_count": 69,
   "id": "c2c16aa0-3199-4335-b2d3-fa5cbf23aba5",
   "metadata": {},
   "outputs": [
    {
     "data": {
      "text/html": [
       "<div><style>\n",
       ".dataframe > thead > tr,\n",
       ".dataframe > tbody > tr {\n",
       "  text-align: right;\n",
       "  white-space: pre-wrap;\n",
       "}\n",
       "</style>\n",
       "<small>shape: (4, 3)</small><table border=\"1\" class=\"dataframe\"><thead><tr><th>Countries</th><th>Matches</th><th>ranking</th></tr><tr><td>str</td><td>i64</td><td>i64</td></tr></thead><tbody><tr><td>&quot;INDIA&quot;</td><td>80</td><td>1</td></tr><tr><td>&quot;PAKISTAN&quot;</td><td>42</td><td>8</td></tr><tr><td>&quot;AUSTRALIA&quot;</td><td>55</td><td>2</td></tr><tr><td>&quot;ENGLAND&quot;</td><td>32</td><td>4</td></tr></tbody></table></div>"
      ],
      "text/plain": [
       "shape: (4, 3)\n",
       "┌───────────┬─────────┬─────────┐\n",
       "│ Countries ┆ Matches ┆ ranking │\n",
       "│ ---       ┆ ---     ┆ ---     │\n",
       "│ str       ┆ i64     ┆ i64     │\n",
       "╞═══════════╪═════════╪═════════╡\n",
       "│ INDIA     ┆ 80      ┆ 1       │\n",
       "│ PAKISTAN  ┆ 42      ┆ 8       │\n",
       "│ AUSTRALIA ┆ 55      ┆ 2       │\n",
       "│ ENGLAND   ┆ 32      ┆ 4       │\n",
       "└───────────┴─────────┴─────────┘"
      ]
     },
     "execution_count": 69,
     "metadata": {},
     "output_type": "execute_result"
    }
   ],
   "source": [
    "# polars.DataFrame.hstack\n",
    "df1 = pl.DataFrame(\n",
    "    {\n",
    "    \"Countries\" : [\"INDIA\",\"PAKISTAN\",\"AUSTRALIA\",\"ENGLAND\"],\n",
    "    \"Matches\" : [80,42,55,32],\n",
    "}\n",
    ")\n",
    "\n",
    "ranking = pl.Series(\"ranking\",[1,8,2,4])\n",
    "df1.hstack([ranking])"
   ]
  },
  {
   "cell_type": "code",
   "execution_count": 71,
   "id": "b07ca996-07d7-4202-bb63-a45f1e16b3d1",
   "metadata": {},
   "outputs": [
    {
     "data": {
      "text/html": [
       "<div><style>\n",
       ".dataframe > thead > tr,\n",
       ".dataframe > tbody > tr {\n",
       "  text-align: right;\n",
       "  white-space: pre-wrap;\n",
       "}\n",
       "</style>\n",
       "<small>shape: (4, 3)</small><table border=\"1\" class=\"dataframe\"><thead><tr><th>Countries</th><th>Matches</th><th>ranking</th></tr><tr><td>str</td><td>i64</td><td>i64</td></tr></thead><tbody><tr><td>&quot;INDIA&quot;</td><td>80</td><td>1</td></tr><tr><td>&quot;PAKISTAN&quot;</td><td>42</td><td>8</td></tr><tr><td>&quot;AUSTRALIA&quot;</td><td>55</td><td>2</td></tr><tr><td>&quot;ENGLAND&quot;</td><td>32</td><td>4</td></tr></tbody></table></div>"
      ],
      "text/plain": [
       "shape: (4, 3)\n",
       "┌───────────┬─────────┬─────────┐\n",
       "│ Countries ┆ Matches ┆ ranking │\n",
       "│ ---       ┆ ---     ┆ ---     │\n",
       "│ str       ┆ i64     ┆ i64     │\n",
       "╞═══════════╪═════════╪═════════╡\n",
       "│ INDIA     ┆ 80      ┆ 1       │\n",
       "│ PAKISTAN  ┆ 42      ┆ 8       │\n",
       "│ AUSTRALIA ┆ 55      ┆ 2       │\n",
       "│ ENGLAND   ┆ 32      ┆ 4       │\n",
       "└───────────┴─────────┴─────────┘"
      ]
     },
     "execution_count": 71,
     "metadata": {},
     "output_type": "execute_result"
    }
   ],
   "source": [
    "# polars.DataFrame.insert_column\n",
    "\n",
    "df1 = pl.DataFrame(\n",
    "    {\n",
    "    \"Countries\" : [\"INDIA\",\"PAKISTAN\",\"AUSTRALIA\",\"ENGLAND\"],\n",
    "    \"Matches\" : [80,42,55,32],\n",
    "}\n",
    ")\n",
    "ranking = pl.Series(\"ranking\",[1,8,2,4])\n",
    "df1.insert_column(2,ranking)"
   ]
  },
  {
   "cell_type": "code",
   "execution_count": 72,
   "id": "f2eb25ba-ea3d-4cc5-ab5b-24e04c3cc7ef",
   "metadata": {},
   "outputs": [
    {
     "data": {
      "text/html": [
       "<div><style>\n",
       ".dataframe > thead > tr,\n",
       ".dataframe > tbody > tr {\n",
       "  text-align: right;\n",
       "  white-space: pre-wrap;\n",
       "}\n",
       "</style>\n",
       "<small>shape: (11_504_798, 12)</small><table border=\"1\" class=\"dataframe\"><thead><tr><th>id</th><th>Gender</th><th>Age</th><th>Driving_License</th><th>Region_Code</th><th>Previously_Insured</th><th>Vehicle_Age</th><th>Vehicle_Damage</th><th>Annual_Premium</th><th>Policy_Sales_Channel</th><th>Vintage</th><th>Response</th></tr><tr><td>f64</td><td>str</td><td>f64</td><td>f64</td><td>f64</td><td>f64</td><td>str</td><td>str</td><td>f64</td><td>f64</td><td>f64</td><td>f64</td></tr></thead><tbody><tr><td>0.0</td><td>&quot;Male&quot;</td><td>21.0</td><td>1.0</td><td>35.0</td><td>0.0</td><td>&quot;1-2 Year&quot;</td><td>&quot;Yes&quot;</td><td>65101.0</td><td>124.0</td><td>187.0</td><td>0.0</td></tr><tr><td>1.0</td><td>&quot;Male&quot;</td><td>43.0</td><td>1.0</td><td>28.0</td><td>0.0</td><td>&quot;&gt; 2 Years&quot;</td><td>&quot;Yes&quot;</td><td>58911.0</td><td>26.0</td><td>288.0</td><td>1.0</td></tr><tr><td>2.0</td><td>&quot;Female&quot;</td><td>25.0</td><td>1.0</td><td>14.0</td><td>1.0</td><td>&quot;&lt; 1 Year&quot;</td><td>&quot;No&quot;</td><td>38043.0</td><td>152.0</td><td>254.0</td><td>0.0</td></tr><tr><td>3.0</td><td>&quot;Female&quot;</td><td>35.0</td><td>1.0</td><td>1.0</td><td>0.0</td><td>&quot;1-2 Year&quot;</td><td>&quot;Yes&quot;</td><td>2630.0</td><td>156.0</td><td>76.0</td><td>0.0</td></tr><tr><td>4.0</td><td>&quot;Female&quot;</td><td>36.0</td><td>1.0</td><td>15.0</td><td>1.0</td><td>&quot;1-2 Year&quot;</td><td>&quot;No&quot;</td><td>31951.0</td><td>152.0</td><td>294.0</td><td>0.0</td></tr><tr><td>&hellip;</td><td>&hellip;</td><td>&hellip;</td><td>&hellip;</td><td>&hellip;</td><td>&hellip;</td><td>&hellip;</td><td>&hellip;</td><td>&hellip;</td><td>&hellip;</td><td>&hellip;</td><td>&hellip;</td></tr><tr><td>1.1504793e7</td><td>&quot;Male&quot;</td><td>48.0</td><td>1.0</td><td>6.0</td><td>0.0</td><td>&quot;1-2 Year&quot;</td><td>&quot;Yes&quot;</td><td>27412.0</td><td>26.0</td><td>218.0</td><td>0.0</td></tr><tr><td>1.1504794e7</td><td>&quot;Female&quot;</td><td>26.0</td><td>1.0</td><td>36.0</td><td>0.0</td><td>&quot;&lt; 1 Year&quot;</td><td>&quot;Yes&quot;</td><td>29509.0</td><td>152.0</td><td>115.0</td><td>1.0</td></tr><tr><td>1.1504795e7</td><td>&quot;Female&quot;</td><td>29.0</td><td>1.0</td><td>32.0</td><td>1.0</td><td>&quot;&lt; 1 Year&quot;</td><td>&quot;No&quot;</td><td>2630.0</td><td>152.0</td><td>189.0</td><td>0.0</td></tr><tr><td>1.1504796e7</td><td>&quot;Female&quot;</td><td>51.0</td><td>1.0</td><td>28.0</td><td>0.0</td><td>&quot;1-2 Year&quot;</td><td>&quot;Yes&quot;</td><td>48443.0</td><td>26.0</td><td>274.0</td><td>1.0</td></tr><tr><td>1.1504797e7</td><td>&quot;Male&quot;</td><td>25.0</td><td>1.0</td><td>28.0</td><td>1.0</td><td>&quot;&lt; 1 Year&quot;</td><td>&quot;No&quot;</td><td>32855.0</td><td>152.0</td><td>189.0</td><td>0.0</td></tr></tbody></table></div>"
      ],
      "text/plain": [
       "shape: (11_504_798, 12)\n",
       "┌─────────────┬────────┬──────┬──────────────┬───┬──────────────┬─────────────┬─────────┬──────────┐\n",
       "│ id          ┆ Gender ┆ Age  ┆ Driving_Lice ┆ … ┆ Annual_Premi ┆ Policy_Sale ┆ Vintage ┆ Response │\n",
       "│ ---         ┆ ---    ┆ ---  ┆ nse          ┆   ┆ um           ┆ s_Channel   ┆ ---     ┆ ---      │\n",
       "│ f64         ┆ str    ┆ f64  ┆ ---          ┆   ┆ ---          ┆ ---         ┆ f64     ┆ f64      │\n",
       "│             ┆        ┆      ┆ f64          ┆   ┆ f64          ┆ f64         ┆         ┆          │\n",
       "╞═════════════╪════════╪══════╪══════════════╪═══╪══════════════╪═════════════╪═════════╪══════════╡\n",
       "│ 0.0         ┆ Male   ┆ 21.0 ┆ 1.0          ┆ … ┆ 65101.0      ┆ 124.0       ┆ 187.0   ┆ 0.0      │\n",
       "│ 1.0         ┆ Male   ┆ 43.0 ┆ 1.0          ┆ … ┆ 58911.0      ┆ 26.0        ┆ 288.0   ┆ 1.0      │\n",
       "│ 2.0         ┆ Female ┆ 25.0 ┆ 1.0          ┆ … ┆ 38043.0      ┆ 152.0       ┆ 254.0   ┆ 0.0      │\n",
       "│ 3.0         ┆ Female ┆ 35.0 ┆ 1.0          ┆ … ┆ 2630.0       ┆ 156.0       ┆ 76.0    ┆ 0.0      │\n",
       "│ 4.0         ┆ Female ┆ 36.0 ┆ 1.0          ┆ … ┆ 31951.0      ┆ 152.0       ┆ 294.0   ┆ 0.0      │\n",
       "│ …           ┆ …      ┆ …    ┆ …            ┆ … ┆ …            ┆ …           ┆ …       ┆ …        │\n",
       "│ 1.1504793e7 ┆ Male   ┆ 48.0 ┆ 1.0          ┆ … ┆ 27412.0      ┆ 26.0        ┆ 218.0   ┆ 0.0      │\n",
       "│ 1.1504794e7 ┆ Female ┆ 26.0 ┆ 1.0          ┆ … ┆ 29509.0      ┆ 152.0       ┆ 115.0   ┆ 1.0      │\n",
       "│ 1.1504795e7 ┆ Female ┆ 29.0 ┆ 1.0          ┆ … ┆ 2630.0       ┆ 152.0       ┆ 189.0   ┆ 0.0      │\n",
       "│ 1.1504796e7 ┆ Female ┆ 51.0 ┆ 1.0          ┆ … ┆ 48443.0      ┆ 26.0        ┆ 274.0   ┆ 1.0      │\n",
       "│ 1.1504797e7 ┆ Male   ┆ 25.0 ┆ 1.0          ┆ … ┆ 32855.0      ┆ 152.0       ┆ 189.0   ┆ 0.0      │\n",
       "└─────────────┴────────┴──────┴──────────────┴───┴──────────────┴─────────────┴─────────┴──────────┘"
      ]
     },
     "execution_count": 72,
     "metadata": {},
     "output_type": "execute_result"
    }
   ],
   "source": [
    "# polars.DataFrame.interpolate\n",
    "\n",
    "insurance_df.interpolate()"
   ]
  },
  {
   "cell_type": "code",
   "execution_count": 73,
   "id": "03e77ee7-2b35-405f-bf4c-9588643e1a25",
   "metadata": {},
   "outputs": [
    {
     "data": {
      "text/plain": [
       "'Yes'"
      ]
     },
     "execution_count": 73,
     "metadata": {},
     "output_type": "execute_result"
    }
   ],
   "source": [
    "# polars.DataFrame.item\n",
    "\n",
    "insurance_df.item(47,7)"
   ]
  },
  {
   "cell_type": "code",
   "execution_count": 74,
   "id": "1ac3a823-1dca-47b5-abd2-0be8c136bb82",
   "metadata": {},
   "outputs": [
    {
     "data": {
      "text/plain": [
       "['id',\n",
       " 'Gender',\n",
       " 'Age',\n",
       " 'Driving_License',\n",
       " 'Region_Code',\n",
       " 'Previously_Insured',\n",
       " 'Vehicle_Age',\n",
       " 'Vehicle_Damage',\n",
       " 'Annual_Premium',\n",
       " 'Policy_Sales_Channel',\n",
       " 'Vintage',\n",
       " 'Response']"
      ]
     },
     "execution_count": 74,
     "metadata": {},
     "output_type": "execute_result"
    }
   ],
   "source": [
    "# polars.DataFrame.iter_columns\n",
    "\n",
    "[s.name for s in insurance_df.iter_columns()]"
   ]
  },
  {
   "cell_type": "code",
   "execution_count": 75,
   "id": "3ef498c4-4e27-42ae-bfae-78a71eee4522",
   "metadata": {},
   "outputs": [
    {
     "data": {
      "text/plain": [
       "['INDIA', 'PAKISTAN', 'AUSTRALIA', 'ENGLAND']"
      ]
     },
     "execution_count": 75,
     "metadata": {},
     "output_type": "execute_result"
    }
   ],
   "source": [
    "# polars.DataFrame.iter_rows\n",
    "df1 = pl.DataFrame(\n",
    "    {\n",
    "    \"Countries\" : [\"INDIA\",\"PAKISTAN\",\"AUSTRALIA\",\"ENGLAND\"],\n",
    "    \"Matches\" : [80,42,55,32],\n",
    "}\n",
    ")\n",
    "\n",
    "[row[0] for row in df1.iter_rows()]"
   ]
  },
  {
   "cell_type": "code",
   "execution_count": 77,
   "id": "240dbf0e-bed7-45f7-934c-42ce0106407f",
   "metadata": {},
   "outputs": [
    {
     "data": {
      "text/plain": [
       "[80, 42, 55, 32]"
      ]
     },
     "execution_count": 77,
     "metadata": {},
     "output_type": "execute_result"
    }
   ],
   "source": [
    "[row[\"Matches\"] for row in df1.iter_rows(named=True)]"
   ]
  },
  {
   "cell_type": "code",
   "execution_count": null,
   "id": "4560413a-0c20-4857-8eca-6578122d9820",
   "metadata": {},
   "outputs": [],
   "source": [
    "# polars.DataFrame.iter_slices\n",
    "\n",
    "# for idx, frame in enumerate(insurance_df.iter_slices()):\n",
    "    # print(f\"{type(frame).__name__}:[{idx}]:{len(frame)}\")"
   ]
  },
  {
   "cell_type": "code",
   "execution_count": 84,
   "id": "fcd1b3c0-ce1c-4afb-8629-ecc40111c451",
   "metadata": {},
   "outputs": [],
   "source": [
    "# polars.DataFrame.join\n",
    "\n",
    "df1 = pl.DataFrame(\n",
    "    {\n",
    "    \"Countries\" : [\"INDIA\",\"PAKISTAN\",\"AUSTRALIA\",\"ENGLAND\"],\n",
    "    \"Matches\" : [80,42,55,32],\n",
    "    \"Ranking\" : [1,2,7,6]\n",
    "}\n",
    ")\n",
    "\n",
    "df2 = pl.DataFrame(\n",
    "    {\n",
    "        \"win\" :[20,31,12,9],\n",
    "        \"Countries\" : [\"INDIA\",\"AUSTRALIA\",\"NL\",\"SA\"]\n",
    "    }\n",
    ")"
   ]
  },
  {
   "cell_type": "code",
   "execution_count": 85,
   "id": "aa5333c3-29c9-4388-ab4e-4348d63f91f8",
   "metadata": {},
   "outputs": [
    {
     "data": {
      "text/html": [
       "<div><style>\n",
       ".dataframe > thead > tr,\n",
       ".dataframe > tbody > tr {\n",
       "  text-align: right;\n",
       "  white-space: pre-wrap;\n",
       "}\n",
       "</style>\n",
       "<small>shape: (6, 5)</small><table border=\"1\" class=\"dataframe\"><thead><tr><th>Countries</th><th>Matches</th><th>Ranking</th><th>win</th><th>Countries_right</th></tr><tr><td>str</td><td>i64</td><td>i64</td><td>i64</td><td>str</td></tr></thead><tbody><tr><td>&quot;INDIA&quot;</td><td>80</td><td>1</td><td>20</td><td>&quot;INDIA&quot;</td></tr><tr><td>&quot;AUSTRALIA&quot;</td><td>55</td><td>7</td><td>31</td><td>&quot;AUSTRALIA&quot;</td></tr><tr><td>null</td><td>null</td><td>null</td><td>12</td><td>&quot;NL&quot;</td></tr><tr><td>null</td><td>null</td><td>null</td><td>9</td><td>&quot;SA&quot;</td></tr><tr><td>&quot;ENGLAND&quot;</td><td>32</td><td>6</td><td>null</td><td>null</td></tr><tr><td>&quot;PAKISTAN&quot;</td><td>42</td><td>2</td><td>null</td><td>null</td></tr></tbody></table></div>"
      ],
      "text/plain": [
       "shape: (6, 5)\n",
       "┌───────────┬─────────┬─────────┬──────┬─────────────────┐\n",
       "│ Countries ┆ Matches ┆ Ranking ┆ win  ┆ Countries_right │\n",
       "│ ---       ┆ ---     ┆ ---     ┆ ---  ┆ ---             │\n",
       "│ str       ┆ i64     ┆ i64     ┆ i64  ┆ str             │\n",
       "╞═══════════╪═════════╪═════════╪══════╪═════════════════╡\n",
       "│ INDIA     ┆ 80      ┆ 1       ┆ 20   ┆ INDIA           │\n",
       "│ AUSTRALIA ┆ 55      ┆ 7       ┆ 31   ┆ AUSTRALIA       │\n",
       "│ null      ┆ null    ┆ null    ┆ 12   ┆ NL              │\n",
       "│ null      ┆ null    ┆ null    ┆ 9    ┆ SA              │\n",
       "│ ENGLAND   ┆ 32      ┆ 6       ┆ null ┆ null            │\n",
       "│ PAKISTAN  ┆ 42      ┆ 2       ┆ null ┆ null            │\n",
       "└───────────┴─────────┴─────────┴──────┴─────────────────┘"
      ]
     },
     "execution_count": 85,
     "metadata": {},
     "output_type": "execute_result"
    }
   ],
   "source": [
    "df1.join(df2, on=\"Countries\", how=\"full\")"
   ]
  },
  {
   "cell_type": "code",
   "execution_count": 86,
   "id": "b63d8508-ba14-4a3a-9472-bbd6f24a8b32",
   "metadata": {},
   "outputs": [
    {
     "data": {
      "text/html": [
       "<div><style>\n",
       ".dataframe > thead > tr,\n",
       ".dataframe > tbody > tr {\n",
       "  text-align: right;\n",
       "  white-space: pre-wrap;\n",
       "}\n",
       "</style>\n",
       "<small>shape: (4, 4)</small><table border=\"1\" class=\"dataframe\"><thead><tr><th>Countries</th><th>Matches</th><th>Ranking</th><th>win</th></tr><tr><td>str</td><td>i64</td><td>i64</td><td>i64</td></tr></thead><tbody><tr><td>&quot;INDIA&quot;</td><td>80</td><td>1</td><td>20</td></tr><tr><td>&quot;PAKISTAN&quot;</td><td>42</td><td>2</td><td>null</td></tr><tr><td>&quot;AUSTRALIA&quot;</td><td>55</td><td>7</td><td>31</td></tr><tr><td>&quot;ENGLAND&quot;</td><td>32</td><td>6</td><td>null</td></tr></tbody></table></div>"
      ],
      "text/plain": [
       "shape: (4, 4)\n",
       "┌───────────┬─────────┬─────────┬──────┐\n",
       "│ Countries ┆ Matches ┆ Ranking ┆ win  │\n",
       "│ ---       ┆ ---     ┆ ---     ┆ ---  │\n",
       "│ str       ┆ i64     ┆ i64     ┆ i64  │\n",
       "╞═══════════╪═════════╪═════════╪══════╡\n",
       "│ INDIA     ┆ 80      ┆ 1       ┆ 20   │\n",
       "│ PAKISTAN  ┆ 42      ┆ 2       ┆ null │\n",
       "│ AUSTRALIA ┆ 55      ┆ 7       ┆ 31   │\n",
       "│ ENGLAND   ┆ 32      ┆ 6       ┆ null │\n",
       "└───────────┴─────────┴─────────┴──────┘"
      ]
     },
     "execution_count": 86,
     "metadata": {},
     "output_type": "execute_result"
    }
   ],
   "source": [
    "df1.join(df2, on=\"Countries\", how=\"left\",coalesce=True)"
   ]
  },
  {
   "cell_type": "code",
   "execution_count": 87,
   "id": "353559c6-ac94-43b8-89e8-cb0c22b042cd",
   "metadata": {},
   "outputs": [
    {
     "data": {
      "text/html": [
       "<div><style>\n",
       ".dataframe > thead > tr,\n",
       ".dataframe > tbody > tr {\n",
       "  text-align: right;\n",
       "  white-space: pre-wrap;\n",
       "}\n",
       "</style>\n",
       "<small>shape: (4, 4)</small><table border=\"1\" class=\"dataframe\"><thead><tr><th>Matches</th><th>Ranking</th><th>win</th><th>Countries</th></tr><tr><td>i64</td><td>i64</td><td>i64</td><td>str</td></tr></thead><tbody><tr><td>80</td><td>1</td><td>20</td><td>&quot;INDIA&quot;</td></tr><tr><td>55</td><td>7</td><td>31</td><td>&quot;AUSTRALIA&quot;</td></tr><tr><td>null</td><td>null</td><td>12</td><td>&quot;NL&quot;</td></tr><tr><td>null</td><td>null</td><td>9</td><td>&quot;SA&quot;</td></tr></tbody></table></div>"
      ],
      "text/plain": [
       "shape: (4, 4)\n",
       "┌─────────┬─────────┬─────┬───────────┐\n",
       "│ Matches ┆ Ranking ┆ win ┆ Countries │\n",
       "│ ---     ┆ ---     ┆ --- ┆ ---       │\n",
       "│ i64     ┆ i64     ┆ i64 ┆ str       │\n",
       "╞═════════╪═════════╪═════╪═══════════╡\n",
       "│ 80      ┆ 1       ┆ 20  ┆ INDIA     │\n",
       "│ 55      ┆ 7       ┆ 31  ┆ AUSTRALIA │\n",
       "│ null    ┆ null    ┆ 12  ┆ NL        │\n",
       "│ null    ┆ null    ┆ 9   ┆ SA        │\n",
       "└─────────┴─────────┴─────┴───────────┘"
      ]
     },
     "execution_count": 87,
     "metadata": {},
     "output_type": "execute_result"
    }
   ],
   "source": [
    "df1.join(df2, on=\"Countries\", how=\"right\",coalesce=True)"
   ]
  },
  {
   "cell_type": "code",
   "execution_count": 88,
   "id": "bcd3b925-1286-47e7-b732-d06b0d145458",
   "metadata": {},
   "outputs": [
    {
     "data": {
      "text/html": [
       "<div><style>\n",
       ".dataframe > thead > tr,\n",
       ".dataframe > tbody > tr {\n",
       "  text-align: right;\n",
       "  white-space: pre-wrap;\n",
       "}\n",
       "</style>\n",
       "<small>shape: (2, 3)</small><table border=\"1\" class=\"dataframe\"><thead><tr><th>Countries</th><th>Matches</th><th>Ranking</th></tr><tr><td>str</td><td>i64</td><td>i64</td></tr></thead><tbody><tr><td>&quot;INDIA&quot;</td><td>80</td><td>1</td></tr><tr><td>&quot;AUSTRALIA&quot;</td><td>55</td><td>7</td></tr></tbody></table></div>"
      ],
      "text/plain": [
       "shape: (2, 3)\n",
       "┌───────────┬─────────┬─────────┐\n",
       "│ Countries ┆ Matches ┆ Ranking │\n",
       "│ ---       ┆ ---     ┆ ---     │\n",
       "│ str       ┆ i64     ┆ i64     │\n",
       "╞═══════════╪═════════╪═════════╡\n",
       "│ INDIA     ┆ 80      ┆ 1       │\n",
       "│ AUSTRALIA ┆ 55      ┆ 7       │\n",
       "└───────────┴─────────┴─────────┘"
      ]
     },
     "execution_count": 88,
     "metadata": {},
     "output_type": "execute_result"
    }
   ],
   "source": [
    "df1.join(df2, on=\"Countries\", how=\"semi\",coalesce=True)"
   ]
  },
  {
   "cell_type": "code",
   "execution_count": 89,
   "id": "8080c8e9-3d62-42c5-835d-ee00da8069f7",
   "metadata": {},
   "outputs": [
    {
     "data": {
      "text/html": [
       "<div><style>\n",
       ".dataframe > thead > tr,\n",
       ".dataframe > tbody > tr {\n",
       "  text-align: right;\n",
       "  white-space: pre-wrap;\n",
       "}\n",
       "</style>\n",
       "<small>shape: (2, 3)</small><table border=\"1\" class=\"dataframe\"><thead><tr><th>Countries</th><th>Matches</th><th>Ranking</th></tr><tr><td>str</td><td>i64</td><td>i64</td></tr></thead><tbody><tr><td>&quot;PAKISTAN&quot;</td><td>42</td><td>2</td></tr><tr><td>&quot;ENGLAND&quot;</td><td>32</td><td>6</td></tr></tbody></table></div>"
      ],
      "text/plain": [
       "shape: (2, 3)\n",
       "┌───────────┬─────────┬─────────┐\n",
       "│ Countries ┆ Matches ┆ Ranking │\n",
       "│ ---       ┆ ---     ┆ ---     │\n",
       "│ str       ┆ i64     ┆ i64     │\n",
       "╞═══════════╪═════════╪═════════╡\n",
       "│ PAKISTAN  ┆ 42      ┆ 2       │\n",
       "│ ENGLAND   ┆ 32      ┆ 6       │\n",
       "└───────────┴─────────┴─────────┘"
      ]
     },
     "execution_count": 89,
     "metadata": {},
     "output_type": "execute_result"
    }
   ],
   "source": [
    "df1.join(df2, on=\"Countries\", how=\"anti\",coalesce=True)"
   ]
  },
  {
   "cell_type": "code",
   "execution_count": 90,
   "id": "77470c95-8579-4bf4-8b24-c0ed0402c819",
   "metadata": {},
   "outputs": [
    {
     "data": {
      "text/html": [
       "<div><style>\n",
       ".dataframe > thead > tr,\n",
       ".dataframe > tbody > tr {\n",
       "  text-align: right;\n",
       "  white-space: pre-wrap;\n",
       "}\n",
       "</style>\n",
       "<small>shape: (10, 12)</small><table border=\"1\" class=\"dataframe\"><thead><tr><th>id</th><th>Gender</th><th>Age</th><th>Driving_License</th><th>Region_Code</th><th>Previously_Insured</th><th>Vehicle_Age</th><th>Vehicle_Damage</th><th>Annual_Premium</th><th>Policy_Sales_Channel</th><th>Vintage</th><th>Response</th></tr><tr><td>i64</td><td>str</td><td>i64</td><td>i64</td><td>f64</td><td>i64</td><td>str</td><td>str</td><td>f64</td><td>f64</td><td>i64</td><td>i64</td></tr></thead><tbody><tr><td>0</td><td>&quot;Male&quot;</td><td>21</td><td>1</td><td>35.0</td><td>0</td><td>&quot;1-2 Year&quot;</td><td>&quot;Yes&quot;</td><td>65101.0</td><td>124.0</td><td>187</td><td>0</td></tr><tr><td>1</td><td>&quot;Male&quot;</td><td>43</td><td>1</td><td>28.0</td><td>0</td><td>&quot;&gt; 2 Years&quot;</td><td>&quot;Yes&quot;</td><td>58911.0</td><td>26.0</td><td>288</td><td>1</td></tr><tr><td>2</td><td>&quot;Female&quot;</td><td>25</td><td>1</td><td>14.0</td><td>1</td><td>&quot;&lt; 1 Year&quot;</td><td>&quot;No&quot;</td><td>38043.0</td><td>152.0</td><td>254</td><td>0</td></tr><tr><td>3</td><td>&quot;Female&quot;</td><td>35</td><td>1</td><td>1.0</td><td>0</td><td>&quot;1-2 Year&quot;</td><td>&quot;Yes&quot;</td><td>2630.0</td><td>156.0</td><td>76</td><td>0</td></tr><tr><td>4</td><td>&quot;Female&quot;</td><td>36</td><td>1</td><td>15.0</td><td>1</td><td>&quot;1-2 Year&quot;</td><td>&quot;No&quot;</td><td>31951.0</td><td>152.0</td><td>294</td><td>0</td></tr><tr><td>5</td><td>&quot;Female&quot;</td><td>31</td><td>1</td><td>47.0</td><td>1</td><td>&quot;&lt; 1 Year&quot;</td><td>&quot;No&quot;</td><td>28150.0</td><td>152.0</td><td>197</td><td>0</td></tr><tr><td>6</td><td>&quot;Male&quot;</td><td>23</td><td>1</td><td>45.0</td><td>1</td><td>&quot;&lt; 1 Year&quot;</td><td>&quot;No&quot;</td><td>27128.0</td><td>152.0</td><td>190</td><td>0</td></tr><tr><td>7</td><td>&quot;Female&quot;</td><td>47</td><td>1</td><td>8.0</td><td>0</td><td>&quot;1-2 Year&quot;</td><td>&quot;Yes&quot;</td><td>40659.0</td><td>26.0</td><td>262</td><td>1</td></tr><tr><td>8</td><td>&quot;Female&quot;</td><td>26</td><td>1</td><td>28.0</td><td>1</td><td>&quot;&lt; 1 Year&quot;</td><td>&quot;No&quot;</td><td>31639.0</td><td>152.0</td><td>36</td><td>0</td></tr><tr><td>9</td><td>&quot;Female&quot;</td><td>66</td><td>1</td><td>11.0</td><td>0</td><td>&quot;1-2 Year&quot;</td><td>&quot;Yes&quot;</td><td>2630.0</td><td>26.0</td><td>125</td><td>0</td></tr></tbody></table></div>"
      ],
      "text/plain": [
       "shape: (10, 12)\n",
       "┌─────┬────────┬─────┬─────────────────┬───┬────────────────┬─────────────────┬─────────┬──────────┐\n",
       "│ id  ┆ Gender ┆ Age ┆ Driving_License ┆ … ┆ Annual_Premium ┆ Policy_Sales_Ch ┆ Vintage ┆ Response │\n",
       "│ --- ┆ ---    ┆ --- ┆ ---             ┆   ┆ ---            ┆ annel           ┆ ---     ┆ ---      │\n",
       "│ i64 ┆ str    ┆ i64 ┆ i64             ┆   ┆ f64            ┆ ---             ┆ i64     ┆ i64      │\n",
       "│     ┆        ┆     ┆                 ┆   ┆                ┆ f64             ┆         ┆          │\n",
       "╞═════╪════════╪═════╪═════════════════╪═══╪════════════════╪═════════════════╪═════════╪══════════╡\n",
       "│ 0   ┆ Male   ┆ 21  ┆ 1               ┆ … ┆ 65101.0        ┆ 124.0           ┆ 187     ┆ 0        │\n",
       "│ 1   ┆ Male   ┆ 43  ┆ 1               ┆ … ┆ 58911.0        ┆ 26.0            ┆ 288     ┆ 1        │\n",
       "│ 2   ┆ Female ┆ 25  ┆ 1               ┆ … ┆ 38043.0        ┆ 152.0           ┆ 254     ┆ 0        │\n",
       "│ 3   ┆ Female ┆ 35  ┆ 1               ┆ … ┆ 2630.0         ┆ 156.0           ┆ 76      ┆ 0        │\n",
       "│ 4   ┆ Female ┆ 36  ┆ 1               ┆ … ┆ 31951.0        ┆ 152.0           ┆ 294     ┆ 0        │\n",
       "│ 5   ┆ Female ┆ 31  ┆ 1               ┆ … ┆ 28150.0        ┆ 152.0           ┆ 197     ┆ 0        │\n",
       "│ 6   ┆ Male   ┆ 23  ┆ 1               ┆ … ┆ 27128.0        ┆ 152.0           ┆ 190     ┆ 0        │\n",
       "│ 7   ┆ Female ┆ 47  ┆ 1               ┆ … ┆ 40659.0        ┆ 26.0            ┆ 262     ┆ 1        │\n",
       "│ 8   ┆ Female ┆ 26  ┆ 1               ┆ … ┆ 31639.0        ┆ 152.0           ┆ 36      ┆ 0        │\n",
       "│ 9   ┆ Female ┆ 66  ┆ 1               ┆ … ┆ 2630.0         ┆ 26.0            ┆ 125     ┆ 0        │\n",
       "└─────┴────────┴─────┴─────────────────┴───┴────────────────┴─────────────────┴─────────┴──────────┘"
      ]
     },
     "execution_count": 90,
     "metadata": {},
     "output_type": "execute_result"
    }
   ],
   "source": [
    "# polars.DataFrame.limit\n",
    "\n",
    "insurance_df.limit(10)"
   ]
  },
  {
   "cell_type": "code",
   "execution_count": 92,
   "id": "9bb4ff8b-df6d-4214-8103-d33506c12ad8",
   "metadata": {},
   "outputs": [
    {
     "data": {
      "text/html": [
       "<div><style>\n",
       ".dataframe > thead > tr,\n",
       ".dataframe > tbody > tr {\n",
       "  text-align: right;\n",
       "  white-space: pre-wrap;\n",
       "}\n",
       "</style>\n",
       "<small>shape: (6, 2)</small><table border=\"1\" class=\"dataframe\"><thead><tr><th>Countries</th><th>Matches</th></tr><tr><td>str</td><td>i64</td></tr></thead><tbody><tr><td>&quot;INDIA&quot;</td><td>80</td></tr><tr><td>&quot;NL&quot;</td><td>12</td></tr><tr><td>&quot;PAKISTAN&quot;</td><td>42</td></tr><tr><td>&quot;AUSTRALIA&quot;</td><td>55</td></tr><tr><td>&quot;ENGLAND&quot;</td><td>32</td></tr><tr><td>&quot;SA&quot;</td><td>9</td></tr></tbody></table></div>"
      ],
      "text/plain": [
       "shape: (6, 2)\n",
       "┌───────────┬─────────┐\n",
       "│ Countries ┆ Matches │\n",
       "│ ---       ┆ ---     │\n",
       "│ str       ┆ i64     │\n",
       "╞═══════════╪═════════╡\n",
       "│ INDIA     ┆ 80      │\n",
       "│ NL        ┆ 12      │\n",
       "│ PAKISTAN  ┆ 42      │\n",
       "│ AUSTRALIA ┆ 55      │\n",
       "│ ENGLAND   ┆ 32      │\n",
       "│ SA        ┆ 9       │\n",
       "└───────────┴─────────┘"
      ]
     },
     "execution_count": 92,
     "metadata": {},
     "output_type": "execute_result"
    }
   ],
   "source": [
    "# polars.DataFrame.merge_sorted\n",
    "\n",
    "df1 = pl.DataFrame(\n",
    "    {\n",
    "    \"Countries\" : [\"INDIA\",\"PAKISTAN\",\"AUSTRALIA\",\"ENGLAND\"],\n",
    "    \"Matches\" : [80,42,55,32],\n",
    "}\n",
    ")\n",
    "\n",
    "df2 = pl.DataFrame(\n",
    "    {\n",
    "        \"Countries\" : [\"NL\",\"SA\"],\n",
    "        \"Matches\" :[12,9]\n",
    "    }\n",
    ")\n",
    "df1.merge_sorted(df2,key=\"Countries\")"
   ]
  },
  {
   "cell_type": "code",
   "execution_count": 93,
   "id": "a8042d82-b37d-4e25-8ad9-c05248e6dcd5",
   "metadata": {},
   "outputs": [
    {
     "data": {
      "text/plain": [
       "[shape: (1, 3)\n",
       " ┌───────────┬─────────┬─────────┐\n",
       " │ Countries ┆ Matches ┆ Ranking │\n",
       " │ ---       ┆ ---     ┆ ---     │\n",
       " │ str       ┆ i64     ┆ i64     │\n",
       " ╞═══════════╪═════════╪═════════╡\n",
       " │ INDIA     ┆ 80      ┆ 1       │\n",
       " └───────────┴─────────┴─────────┘,\n",
       " shape: (1, 3)\n",
       " ┌───────────┬─────────┬─────────┐\n",
       " │ Countries ┆ Matches ┆ Ranking │\n",
       " │ ---       ┆ ---     ┆ ---     │\n",
       " │ str       ┆ i64     ┆ i64     │\n",
       " ╞═══════════╪═════════╪═════════╡\n",
       " │ PAKISTAN  ┆ 42      ┆ 2       │\n",
       " └───────────┴─────────┴─────────┘,\n",
       " shape: (1, 3)\n",
       " ┌───────────┬─────────┬─────────┐\n",
       " │ Countries ┆ Matches ┆ Ranking │\n",
       " │ ---       ┆ ---     ┆ ---     │\n",
       " │ str       ┆ i64     ┆ i64     │\n",
       " ╞═══════════╪═════════╪═════════╡\n",
       " │ AUSTRALIA ┆ 55      ┆ 7       │\n",
       " └───────────┴─────────┴─────────┘,\n",
       " shape: (1, 3)\n",
       " ┌───────────┬─────────┬─────────┐\n",
       " │ Countries ┆ Matches ┆ Ranking │\n",
       " │ ---       ┆ ---     ┆ ---     │\n",
       " │ str       ┆ i64     ┆ i64     │\n",
       " ╞═══════════╪═════════╪═════════╡\n",
       " │ ENGLAND   ┆ 32      ┆ 6       │\n",
       " └───────────┴─────────┴─────────┘]"
      ]
     },
     "execution_count": 93,
     "metadata": {},
     "output_type": "execute_result"
    }
   ],
   "source": [
    "# polars.DataFrame.partition_by\n",
    "df1 = pl.DataFrame(\n",
    "    {\n",
    "    \"Countries\" : [\"INDIA\",\"PAKISTAN\",\"AUSTRALIA\",\"ENGLAND\"],\n",
    "    \"Matches\" : [80,42,55,32],\n",
    "    \"Ranking\" : [1,2,7,6]\n",
    "}\n",
    ")\n",
    "df1.partition_by(\"Countries\")\n"
   ]
  },
  {
   "cell_type": "code",
   "execution_count": 94,
   "id": "ffadb69f-0382-488f-8e27-f9d813fa79f1",
   "metadata": {},
   "outputs": [
    {
     "data": {
      "text/html": [
       "<div><style>\n",
       ".dataframe > thead > tr,\n",
       ".dataframe > tbody > tr {\n",
       "  text-align: right;\n",
       "  white-space: pre-wrap;\n",
       "}\n",
       "</style>\n",
       "<small>shape: (4, 3)</small><table border=\"1\" class=\"dataframe\"><thead><tr><th>Countries</th><th>Matches</th><th>Ranking</th></tr><tr><td>str</td><td>i64</td><td>i64</td></tr></thead><tbody><tr><td>&quot;INDIA&quot;</td><td>80</td><td>1</td></tr><tr><td>&quot;PAKISTAN&quot;</td><td>42</td><td>2</td></tr><tr><td>&quot;AUSTRALIA&quot;</td><td>55</td><td>7</td></tr><tr><td>&quot;ENGLAND&quot;</td><td>32</td><td>6</td></tr></tbody></table></div>"
      ],
      "text/plain": [
       "shape: (4, 3)\n",
       "┌───────────┬─────────┬─────────┐\n",
       "│ Countries ┆ Matches ┆ Ranking │\n",
       "│ ---       ┆ ---     ┆ ---     │\n",
       "│ str       ┆ i64     ┆ i64     │\n",
       "╞═══════════╪═════════╪═════════╡\n",
       "│ INDIA     ┆ 80      ┆ 1       │\n",
       "│ PAKISTAN  ┆ 42      ┆ 2       │\n",
       "│ AUSTRALIA ┆ 55      ┆ 7       │\n",
       "│ ENGLAND   ┆ 32      ┆ 6       │\n",
       "└───────────┴─────────┴─────────┘"
      ]
     },
     "execution_count": 94,
     "metadata": {},
     "output_type": "execute_result"
    }
   ],
   "source": [
    "# polars.DataFrame.pipe\n",
    "\n",
    "df1.pipe(lambda tdf: tdf.select(sorted(tdf.columns)))"
   ]
  },
  {
   "cell_type": "code",
   "execution_count": 95,
   "id": "fb616484-9ca5-4b7d-a5ea-ac5a74612239",
   "metadata": {},
   "outputs": [
    {
     "name": "stdout",
     "output_type": "stream",
     "text": [
      "shape: (1, 3)\n",
      "┌─────┬─────┬─────┐\n",
      "│ a   ┆ b   ┆ c   │\n",
      "│ --- ┆ --- ┆ --- │\n",
      "│ i64 ┆ i64 ┆ i64 │\n",
      "╞═════╪═════╪═════╡\n",
      "│ 4   ┆ 8   ┆ 12  │\n",
      "└─────┴─────┴─────┘\n"
     ]
    }
   ],
   "source": [
    "df = pl.DataFrame({\n",
    "    \"a\": [1, 2, 3, 4],\n",
    "    \"b\": [5, 6, 7, 8]\n",
    "})\n",
    "\n",
    "# Function to add a new column\n",
    "def add_new_column(df, col1, col2):\n",
    "    return df.with_columns((pl.col(col1) + pl.col(col2)).alias(\"c\"))\n",
    "\n",
    "# Function to filter rows where the new column is greater than a threshold\n",
    "def filter_rows(df, threshold):\n",
    "    return df.filter(pl.col(\"c\") > threshold)\n",
    "\n",
    "# Chaining multiple operations\n",
    "df_final = (\n",
    "    df.pipe(add_new_column, \"a\", \"b\")\n",
    "       .pipe(filter_rows, threshold=10)\n",
    ")\n",
    "\n",
    "print(df_final)"
   ]
  },
  {
   "cell_type": "code",
   "execution_count": 97,
   "id": "d92dc47c-525b-4b74-9a2b-4e86c32bb261",
   "metadata": {},
   "outputs": [
    {
     "data": {
      "text/html": [
       "<div><style>\n",
       ".dataframe > thead > tr,\n",
       ".dataframe > tbody > tr {\n",
       "  text-align: right;\n",
       "  white-space: pre-wrap;\n",
       "}\n",
       "</style>\n",
       "<small>shape: (11_504_798, 3)</small><table border=\"1\" class=\"dataframe\"><thead><tr><th>id</th><th>Male</th><th>Female</th></tr><tr><td>i64</td><td>f64</td><td>f64</td></tr></thead><tbody><tr><td>0</td><td>65101.0</td><td>null</td></tr><tr><td>1</td><td>58911.0</td><td>null</td></tr><tr><td>2</td><td>null</td><td>38043.0</td></tr><tr><td>3</td><td>null</td><td>2630.0</td></tr><tr><td>4</td><td>null</td><td>31951.0</td></tr><tr><td>&hellip;</td><td>&hellip;</td><td>&hellip;</td></tr><tr><td>11504793</td><td>27412.0</td><td>null</td></tr><tr><td>11504794</td><td>null</td><td>29509.0</td></tr><tr><td>11504795</td><td>null</td><td>2630.0</td></tr><tr><td>11504796</td><td>null</td><td>48443.0</td></tr><tr><td>11504797</td><td>32855.0</td><td>null</td></tr></tbody></table></div>"
      ],
      "text/plain": [
       "shape: (11_504_798, 3)\n",
       "┌──────────┬─────────┬─────────┐\n",
       "│ id       ┆ Male    ┆ Female  │\n",
       "│ ---      ┆ ---     ┆ ---     │\n",
       "│ i64      ┆ f64     ┆ f64     │\n",
       "╞══════════╪═════════╪═════════╡\n",
       "│ 0        ┆ 65101.0 ┆ null    │\n",
       "│ 1        ┆ 58911.0 ┆ null    │\n",
       "│ 2        ┆ null    ┆ 38043.0 │\n",
       "│ 3        ┆ null    ┆ 2630.0  │\n",
       "│ 4        ┆ null    ┆ 31951.0 │\n",
       "│ …        ┆ …       ┆ …       │\n",
       "│ 11504793 ┆ 27412.0 ┆ null    │\n",
       "│ 11504794 ┆ null    ┆ 29509.0 │\n",
       "│ 11504795 ┆ null    ┆ 2630.0  │\n",
       "│ 11504796 ┆ null    ┆ 48443.0 │\n",
       "│ 11504797 ┆ 32855.0 ┆ null    │\n",
       "└──────────┴─────────┴─────────┘"
      ]
     },
     "execution_count": 97,
     "metadata": {},
     "output_type": "execute_result"
    }
   ],
   "source": [
    "# polars.DataFrame.pivot\n",
    "insurance_df.pivot(\"Gender\",index=\"id\",values=\"Annual_Premium\")"
   ]
  },
  {
   "cell_type": "code",
   "execution_count": 99,
   "id": "55e1e83b-906b-4269-8042-9e2061d5aa4d",
   "metadata": {},
   "outputs": [
    {
     "data": {
      "text/html": [
       "<div><style>\n",
       ".dataframe > thead > tr,\n",
       ".dataframe > tbody > tr {\n",
       "  text-align: right;\n",
       "  white-space: pre-wrap;\n",
       "}\n",
       "</style>\n",
       "<small>shape: (4, 3)</small><table border=\"1\" class=\"dataframe\"><thead><tr><th>Countries</th><th>Test_Matches</th><th>Ranking</th></tr><tr><td>str</td><td>i64</td><td>i64</td></tr></thead><tbody><tr><td>&quot;INDIA&quot;</td><td>80</td><td>1</td></tr><tr><td>&quot;PAKISTAN&quot;</td><td>42</td><td>2</td></tr><tr><td>&quot;AUSTRALIA&quot;</td><td>55</td><td>7</td></tr><tr><td>&quot;ENGLAND&quot;</td><td>32</td><td>6</td></tr></tbody></table></div>"
      ],
      "text/plain": [
       "shape: (4, 3)\n",
       "┌───────────┬──────────────┬─────────┐\n",
       "│ Countries ┆ Test_Matches ┆ Ranking │\n",
       "│ ---       ┆ ---          ┆ ---     │\n",
       "│ str       ┆ i64          ┆ i64     │\n",
       "╞═══════════╪══════════════╪═════════╡\n",
       "│ INDIA     ┆ 80           ┆ 1       │\n",
       "│ PAKISTAN  ┆ 42           ┆ 2       │\n",
       "│ AUSTRALIA ┆ 55           ┆ 7       │\n",
       "│ ENGLAND   ┆ 32           ┆ 6       │\n",
       "└───────────┴──────────────┴─────────┘"
      ]
     },
     "execution_count": 99,
     "metadata": {},
     "output_type": "execute_result"
    }
   ],
   "source": [
    "df1 = pl.DataFrame(\n",
    "    {\n",
    "    \"Countries\" : [\"INDIA\",\"PAKISTAN\",\"AUSTRALIA\",\"ENGLAND\"],\n",
    "    \"Matches\" : [80,42,55,32],\n",
    "    \"Ranking\" : [1,2,7,6]\n",
    "}\n",
    ")\n",
    "\n",
    "df1.rename({\"Matches\" : \"Test_Matches\"})"
   ]
  },
  {
   "cell_type": "code",
   "execution_count": 100,
   "id": "457f75b0-76f0-4b3a-892e-2722b93d5dc3",
   "metadata": {},
   "outputs": [
    {
     "data": {
      "text/html": [
       "<div><style>\n",
       ".dataframe > thead > tr,\n",
       ".dataframe > tbody > tr {\n",
       "  text-align: right;\n",
       "  white-space: pre-wrap;\n",
       "}\n",
       "</style>\n",
       "<small>shape: (4, 3)</small><table border=\"1\" class=\"dataframe\"><thead><tr><th>Countries</th><th>Matches</th><th>sportsmanship</th></tr><tr><td>str</td><td>i64</td><td>i64</td></tr></thead><tbody><tr><td>&quot;INDIA&quot;</td><td>80</td><td>10</td></tr><tr><td>&quot;PAKISTAN&quot;</td><td>42</td><td>22</td></tr><tr><td>&quot;AUSTRALIA&quot;</td><td>55</td><td>34</td></tr><tr><td>&quot;ENGLAND&quot;</td><td>32</td><td>32</td></tr></tbody></table></div>"
      ],
      "text/plain": [
       "shape: (4, 3)\n",
       "┌───────────┬─────────┬───────────────┐\n",
       "│ Countries ┆ Matches ┆ sportsmanship │\n",
       "│ ---       ┆ ---     ┆ ---           │\n",
       "│ str       ┆ i64     ┆ i64           │\n",
       "╞═══════════╪═════════╪═══════════════╡\n",
       "│ INDIA     ┆ 80      ┆ 10            │\n",
       "│ PAKISTAN  ┆ 42      ┆ 22            │\n",
       "│ AUSTRALIA ┆ 55      ┆ 34            │\n",
       "│ ENGLAND   ┆ 32      ┆ 32            │\n",
       "└───────────┴─────────┴───────────────┘"
      ]
     },
     "execution_count": 100,
     "metadata": {},
     "output_type": "execute_result"
    }
   ],
   "source": [
    "df1 = pl.DataFrame(\n",
    "    {\n",
    "    \"Countries\" : [\"INDIA\",\"PAKISTAN\",\"AUSTRALIA\",\"ENGLAND\"],\n",
    "    \"Matches\" : [80,42,55,32],\n",
    "    \"Ranking\" : [1,2,7,6]\n",
    "}\n",
    ")\n",
    "sportanship = pl.Series(\"sportsmanship\",[10,22,34,32])\n",
    "df1.replace_column(2,sportanship)"
   ]
  },
  {
   "cell_type": "code",
   "execution_count": 101,
   "id": "0bb39a08-0c3f-40f6-83f8-473943097be0",
   "metadata": {},
   "outputs": [
    {
     "data": {
      "text/html": [
       "<div><style>\n",
       ".dataframe > thead > tr,\n",
       ".dataframe > tbody > tr {\n",
       "  text-align: right;\n",
       "  white-space: pre-wrap;\n",
       "}\n",
       "</style>\n",
       "<small>shape: (10, 12)</small><table border=\"1\" class=\"dataframe\"><thead><tr><th>id</th><th>Gender</th><th>Age</th><th>Driving_License</th><th>Region_Code</th><th>Previously_Insured</th><th>Vehicle_Age</th><th>Vehicle_Damage</th><th>Annual_Premium</th><th>Policy_Sales_Channel</th><th>Vintage</th><th>Response</th></tr><tr><td>i64</td><td>str</td><td>i64</td><td>i64</td><td>f64</td><td>i64</td><td>str</td><td>str</td><td>f64</td><td>f64</td><td>i64</td><td>i64</td></tr></thead><tbody><tr><td>10970742</td><td>&quot;Female&quot;</td><td>44</td><td>1</td><td>8.0</td><td>0</td><td>&quot;1-2 Year&quot;</td><td>&quot;No&quot;</td><td>28141.0</td><td>124.0</td><td>22</td><td>0</td></tr><tr><td>9161838</td><td>&quot;Male&quot;</td><td>38</td><td>1</td><td>28.0</td><td>1</td><td>&quot;1-2 Year&quot;</td><td>&quot;No&quot;</td><td>2630.0</td><td>160.0</td><td>197</td><td>0</td></tr><tr><td>2604534</td><td>&quot;Male&quot;</td><td>41</td><td>1</td><td>28.0</td><td>1</td><td>&quot;1-2 Year&quot;</td><td>&quot;No&quot;</td><td>44227.0</td><td>124.0</td><td>227</td><td>0</td></tr><tr><td>10266155</td><td>&quot;Female&quot;</td><td>48</td><td>1</td><td>30.0</td><td>1</td><td>&quot;1-2 Year&quot;</td><td>&quot;No&quot;</td><td>31303.0</td><td>152.0</td><td>150</td><td>0</td></tr><tr><td>177725</td><td>&quot;Female&quot;</td><td>27</td><td>1</td><td>6.0</td><td>1</td><td>&quot;&lt; 1 Year&quot;</td><td>&quot;No&quot;</td><td>28317.0</td><td>152.0</td><td>14</td><td>0</td></tr><tr><td>4946980</td><td>&quot;Male&quot;</td><td>67</td><td>1</td><td>28.0</td><td>0</td><td>&quot;1-2 Year&quot;</td><td>&quot;Yes&quot;</td><td>59513.0</td><td>26.0</td><td>54</td><td>0</td></tr><tr><td>10472620</td><td>&quot;Female&quot;</td><td>22</td><td>1</td><td>4.0</td><td>0</td><td>&quot;&lt; 1 Year&quot;</td><td>&quot;Yes&quot;</td><td>27133.0</td><td>152.0</td><td>216</td><td>0</td></tr><tr><td>6555705</td><td>&quot;Male&quot;</td><td>69</td><td>1</td><td>28.0</td><td>0</td><td>&quot;&gt; 2 Years&quot;</td><td>&quot;Yes&quot;</td><td>37806.0</td><td>122.0</td><td>244</td><td>0</td></tr><tr><td>10116799</td><td>&quot;Male&quot;</td><td>56</td><td>1</td><td>28.0</td><td>1</td><td>&quot;1-2 Year&quot;</td><td>&quot;No&quot;</td><td>24307.0</td><td>26.0</td><td>280</td><td>0</td></tr><tr><td>3549592</td><td>&quot;Female&quot;</td><td>59</td><td>1</td><td>46.0</td><td>0</td><td>&quot;1-2 Year&quot;</td><td>&quot;Yes&quot;</td><td>28591.0</td><td>4.0</td><td>256</td><td>0</td></tr></tbody></table></div>"
      ],
      "text/plain": [
       "shape: (10, 12)\n",
       "┌──────────┬────────┬─────┬───────────────┬───┬───────────────┬───────────────┬─────────┬──────────┐\n",
       "│ id       ┆ Gender ┆ Age ┆ Driving_Licen ┆ … ┆ Annual_Premiu ┆ Policy_Sales_ ┆ Vintage ┆ Response │\n",
       "│ ---      ┆ ---    ┆ --- ┆ se            ┆   ┆ m             ┆ Channel       ┆ ---     ┆ ---      │\n",
       "│ i64      ┆ str    ┆ i64 ┆ ---           ┆   ┆ ---           ┆ ---           ┆ i64     ┆ i64      │\n",
       "│          ┆        ┆     ┆ i64           ┆   ┆ f64           ┆ f64           ┆         ┆          │\n",
       "╞══════════╪════════╪═════╪═══════════════╪═══╪═══════════════╪═══════════════╪═════════╪══════════╡\n",
       "│ 10970742 ┆ Female ┆ 44  ┆ 1             ┆ … ┆ 28141.0       ┆ 124.0         ┆ 22      ┆ 0        │\n",
       "│ 9161838  ┆ Male   ┆ 38  ┆ 1             ┆ … ┆ 2630.0        ┆ 160.0         ┆ 197     ┆ 0        │\n",
       "│ 2604534  ┆ Male   ┆ 41  ┆ 1             ┆ … ┆ 44227.0       ┆ 124.0         ┆ 227     ┆ 0        │\n",
       "│ 10266155 ┆ Female ┆ 48  ┆ 1             ┆ … ┆ 31303.0       ┆ 152.0         ┆ 150     ┆ 0        │\n",
       "│ 177725   ┆ Female ┆ 27  ┆ 1             ┆ … ┆ 28317.0       ┆ 152.0         ┆ 14      ┆ 0        │\n",
       "│ 4946980  ┆ Male   ┆ 67  ┆ 1             ┆ … ┆ 59513.0       ┆ 26.0          ┆ 54      ┆ 0        │\n",
       "│ 10472620 ┆ Female ┆ 22  ┆ 1             ┆ … ┆ 27133.0       ┆ 152.0         ┆ 216     ┆ 0        │\n",
       "│ 6555705  ┆ Male   ┆ 69  ┆ 1             ┆ … ┆ 37806.0       ┆ 122.0         ┆ 244     ┆ 0        │\n",
       "│ 10116799 ┆ Male   ┆ 56  ┆ 1             ┆ … ┆ 24307.0       ┆ 26.0          ┆ 280     ┆ 0        │\n",
       "│ 3549592  ┆ Female ┆ 59  ┆ 1             ┆ … ┆ 28591.0       ┆ 4.0           ┆ 256     ┆ 0        │\n",
       "└──────────┴────────┴─────┴───────────────┴───┴───────────────┴───────────────┴─────────┴──────────┘"
      ]
     },
     "execution_count": 101,
     "metadata": {},
     "output_type": "execute_result"
    }
   ],
   "source": [
    "# polars.DataFrame.sample\n",
    "\n",
    "insurance_df.sample(n=10, seed=12)"
   ]
  },
  {
   "cell_type": "code",
   "execution_count": 102,
   "id": "546f8e5c-d37e-490d-82a2-ad212723bc28",
   "metadata": {},
   "outputs": [
    {
     "data": {
      "text/html": [
       "<div><style>\n",
       ".dataframe > thead > tr,\n",
       ".dataframe > tbody > tr {\n",
       "  text-align: right;\n",
       "  white-space: pre-wrap;\n",
       "}\n",
       "</style>\n",
       "<small>shape: (11_504_798, 2)</small><table border=\"1\" class=\"dataframe\"><thead><tr><th>Gender</th><th>Annual_Premium</th></tr><tr><td>str</td><td>f64</td></tr></thead><tbody><tr><td>&quot;Male&quot;</td><td>65101.0</td></tr><tr><td>&quot;Male&quot;</td><td>58911.0</td></tr><tr><td>&quot;Female&quot;</td><td>38043.0</td></tr><tr><td>&quot;Female&quot;</td><td>2630.0</td></tr><tr><td>&quot;Female&quot;</td><td>31951.0</td></tr><tr><td>&hellip;</td><td>&hellip;</td></tr><tr><td>&quot;Male&quot;</td><td>27412.0</td></tr><tr><td>&quot;Female&quot;</td><td>29509.0</td></tr><tr><td>&quot;Female&quot;</td><td>2630.0</td></tr><tr><td>&quot;Female&quot;</td><td>48443.0</td></tr><tr><td>&quot;Male&quot;</td><td>32855.0</td></tr></tbody></table></div>"
      ],
      "text/plain": [
       "shape: (11_504_798, 2)\n",
       "┌────────┬────────────────┐\n",
       "│ Gender ┆ Annual_Premium │\n",
       "│ ---    ┆ ---            │\n",
       "│ str    ┆ f64            │\n",
       "╞════════╪════════════════╡\n",
       "│ Male   ┆ 65101.0        │\n",
       "│ Male   ┆ 58911.0        │\n",
       "│ Female ┆ 38043.0        │\n",
       "│ Female ┆ 2630.0         │\n",
       "│ Female ┆ 31951.0        │\n",
       "│ …      ┆ …              │\n",
       "│ Male   ┆ 27412.0        │\n",
       "│ Female ┆ 29509.0        │\n",
       "│ Female ┆ 2630.0         │\n",
       "│ Female ┆ 48443.0        │\n",
       "│ Male   ┆ 32855.0        │\n",
       "└────────┴────────────────┘"
      ]
     },
     "execution_count": 102,
     "metadata": {},
     "output_type": "execute_result"
    }
   ],
   "source": [
    "# polars.DataFrame.select\n",
    "\n",
    "insurance_df.select([\"Gender\",\"Annual_Premium\"])\n"
   ]
  },
  {
   "cell_type": "code",
   "execution_count": 104,
   "id": "e9aae2c1-f2dd-426f-b575-79d79ca40522",
   "metadata": {},
   "outputs": [
    {
     "data": {
      "text/html": [
       "<div><style>\n",
       ".dataframe > thead > tr,\n",
       ".dataframe > tbody > tr {\n",
       "  text-align: right;\n",
       "  white-space: pre-wrap;\n",
       "}\n",
       "</style>\n",
       "<small>shape: (4, 3)</small><table border=\"1\" class=\"dataframe\"><thead><tr><th>Countries</th><th>Matches</th><th>Ranking</th></tr><tr><td>str</td><td>i64</td><td>i64</td></tr></thead><tbody><tr><td>null</td><td>null</td><td>null</td></tr><tr><td>&quot;INDIA&quot;</td><td>80</td><td>1</td></tr><tr><td>&quot;PAKISTAN&quot;</td><td>42</td><td>2</td></tr><tr><td>&quot;AUSTRALIA&quot;</td><td>55</td><td>7</td></tr></tbody></table></div>"
      ],
      "text/plain": [
       "shape: (4, 3)\n",
       "┌───────────┬─────────┬─────────┐\n",
       "│ Countries ┆ Matches ┆ Ranking │\n",
       "│ ---       ┆ ---     ┆ ---     │\n",
       "│ str       ┆ i64     ┆ i64     │\n",
       "╞═══════════╪═════════╪═════════╡\n",
       "│ null      ┆ null    ┆ null    │\n",
       "│ INDIA     ┆ 80      ┆ 1       │\n",
       "│ PAKISTAN  ┆ 42      ┆ 2       │\n",
       "│ AUSTRALIA ┆ 55      ┆ 7       │\n",
       "└───────────┴─────────┴─────────┘"
      ]
     },
     "execution_count": 104,
     "metadata": {},
     "output_type": "execute_result"
    }
   ],
   "source": [
    "# polars.DataFrame.shift\n",
    "df1 = pl.DataFrame(\n",
    "    {\n",
    "    \"Countries\" : [\"INDIA\",\"PAKISTAN\",\"AUSTRALIA\",\"ENGLAND\"],\n",
    "    \"Matches\" : [80,42,55,32],\n",
    "    \"Ranking\" : [1,2,7,6]\n",
    "}\n",
    ")\n",
    "\n",
    "df1.shift()"
   ]
  },
  {
   "cell_type": "code",
   "execution_count": 106,
   "id": "a19130a8-d6ab-424a-8fdc-9e493e1c09e1",
   "metadata": {},
   "outputs": [
    {
     "data": {
      "text/html": [
       "<div><style>\n",
       ".dataframe > thead > tr,\n",
       ".dataframe > tbody > tr {\n",
       "  text-align: right;\n",
       "  white-space: pre-wrap;\n",
       "}\n",
       "</style>\n",
       "<small>shape: (4, 3)</small><table border=\"1\" class=\"dataframe\"><thead><tr><th>Countries</th><th>Matches</th><th>Ranking</th></tr><tr><td>str</td><td>i64</td><td>i64</td></tr></thead><tbody><tr><td>&quot;AUSTRALIA&quot;</td><td>55</td><td>7</td></tr><tr><td>&quot;ENGLAND&quot;</td><td>32</td><td>6</td></tr><tr><td>&quot;100&quot;</td><td>100</td><td>100</td></tr><tr><td>&quot;100&quot;</td><td>100</td><td>100</td></tr></tbody></table></div>"
      ],
      "text/plain": [
       "shape: (4, 3)\n",
       "┌───────────┬─────────┬─────────┐\n",
       "│ Countries ┆ Matches ┆ Ranking │\n",
       "│ ---       ┆ ---     ┆ ---     │\n",
       "│ str       ┆ i64     ┆ i64     │\n",
       "╞═══════════╪═════════╪═════════╡\n",
       "│ AUSTRALIA ┆ 55      ┆ 7       │\n",
       "│ ENGLAND   ┆ 32      ┆ 6       │\n",
       "│ 100       ┆ 100     ┆ 100     │\n",
       "│ 100       ┆ 100     ┆ 100     │\n",
       "└───────────┴─────────┴─────────┘"
      ]
     },
     "execution_count": 106,
     "metadata": {},
     "output_type": "execute_result"
    }
   ],
   "source": [
    "df1.shift(-2, fill_value=100)"
   ]
  },
  {
   "cell_type": "code",
   "execution_count": 107,
   "id": "f41e1a81-98d5-49a0-aac0-bf8a244856c9",
   "metadata": {},
   "outputs": [
    {
     "data": {
      "text/html": [
       "<div><style>\n",
       ".dataframe > thead > tr,\n",
       ".dataframe > tbody > tr {\n",
       "  text-align: right;\n",
       "  white-space: pre-wrap;\n",
       "}\n",
       "</style>\n",
       "<small>shape: (2, 3)</small><table border=\"1\" class=\"dataframe\"><thead><tr><th>Countries</th><th>Matches</th><th>Ranking</th></tr><tr><td>str</td><td>i64</td><td>i64</td></tr></thead><tbody><tr><td>&quot;PAKISTAN&quot;</td><td>42</td><td>2</td></tr><tr><td>&quot;AUSTRALIA&quot;</td><td>55</td><td>7</td></tr></tbody></table></div>"
      ],
      "text/plain": [
       "shape: (2, 3)\n",
       "┌───────────┬─────────┬─────────┐\n",
       "│ Countries ┆ Matches ┆ Ranking │\n",
       "│ ---       ┆ ---     ┆ ---     │\n",
       "│ str       ┆ i64     ┆ i64     │\n",
       "╞═══════════╪═════════╪═════════╡\n",
       "│ PAKISTAN  ┆ 42      ┆ 2       │\n",
       "│ AUSTRALIA ┆ 55      ┆ 7       │\n",
       "└───────────┴─────────┴─────────┘"
      ]
     },
     "execution_count": 107,
     "metadata": {},
     "output_type": "execute_result"
    }
   ],
   "source": [
    "# polars.DataFrame.slice\n",
    "\n",
    "df1.slice(1,2)"
   ]
  },
  {
   "cell_type": "code",
   "execution_count": 108,
   "id": "e0f0d234-6b44-441f-b475-d6dfe24a0ce0",
   "metadata": {},
   "outputs": [
    {
     "data": {
      "text/html": [
       "<div><style>\n",
       ".dataframe > thead > tr,\n",
       ".dataframe > tbody > tr {\n",
       "  text-align: right;\n",
       "  white-space: pre-wrap;\n",
       "}\n",
       "</style>\n",
       "<small>shape: (11_504_798, 12)</small><table border=\"1\" class=\"dataframe\"><thead><tr><th>id</th><th>Gender</th><th>Age</th><th>Driving_License</th><th>Region_Code</th><th>Previously_Insured</th><th>Vehicle_Age</th><th>Vehicle_Damage</th><th>Annual_Premium</th><th>Policy_Sales_Channel</th><th>Vintage</th><th>Response</th></tr><tr><td>i64</td><td>str</td><td>i64</td><td>i64</td><td>f64</td><td>i64</td><td>str</td><td>str</td><td>f64</td><td>f64</td><td>i64</td><td>i64</td></tr></thead><tbody><tr><td>5598661</td><td>&quot;Female&quot;</td><td>35</td><td>1</td><td>29.0</td><td>0</td><td>&quot;&lt; 1 Year&quot;</td><td>&quot;No&quot;</td><td>2630.0</td><td>1.0</td><td>292</td><td>0</td></tr><tr><td>5598633</td><td>&quot;Female&quot;</td><td>46</td><td>1</td><td>46.0</td><td>0</td><td>&quot;&lt; 1 Year&quot;</td><td>&quot;No&quot;</td><td>2630.0</td><td>1.0</td><td>222</td><td>0</td></tr><tr><td>10637274</td><td>&quot;Female&quot;</td><td>40</td><td>1</td><td>28.0</td><td>1</td><td>&quot;&lt; 1 Year&quot;</td><td>&quot;No&quot;</td><td>2630.0</td><td>1.0</td><td>219</td><td>0</td></tr><tr><td>7281872</td><td>&quot;Female&quot;</td><td>28</td><td>1</td><td>33.0</td><td>0</td><td>&quot;&lt; 1 Year&quot;</td><td>&quot;No&quot;</td><td>2630.0</td><td>1.0</td><td>256</td><td>0</td></tr><tr><td>7282131</td><td>&quot;Female&quot;</td><td>36</td><td>1</td><td>8.0</td><td>0</td><td>&quot;&lt; 1 Year&quot;</td><td>&quot;Yes&quot;</td><td>2630.0</td><td>1.0</td><td>171</td><td>0</td></tr><tr><td>&hellip;</td><td>&hellip;</td><td>&hellip;</td><td>&hellip;</td><td>&hellip;</td><td>&hellip;</td><td>&hellip;</td><td>&hellip;</td><td>&hellip;</td><td>&hellip;</td><td>&hellip;</td><td>&hellip;</td></tr><tr><td>9789005</td><td>&quot;Male&quot;</td><td>26</td><td>1</td><td>28.0</td><td>0</td><td>&quot;&lt; 1 Year&quot;</td><td>&quot;Yes&quot;</td><td>540165.0</td><td>124.0</td><td>103</td><td>0</td></tr><tr><td>7682681</td><td>&quot;Male&quot;</td><td>22</td><td>1</td><td>28.0</td><td>0</td><td>&quot;&lt; 1 Year&quot;</td><td>&quot;Yes&quot;</td><td>540165.0</td><td>152.0</td><td>278</td><td>0</td></tr><tr><td>3548393</td><td>&quot;Female&quot;</td><td>22</td><td>1</td><td>28.0</td><td>0</td><td>&quot;&lt; 1 Year&quot;</td><td>&quot;Yes&quot;</td><td>540165.0</td><td>152.0</td><td>272</td><td>1</td></tr><tr><td>7851401</td><td>&quot;Female&quot;</td><td>26</td><td>1</td><td>28.0</td><td>0</td><td>&quot;1-2 Year&quot;</td><td>&quot;Yes&quot;</td><td>540165.0</td><td>156.0</td><td>84</td><td>1</td></tr><tr><td>2548220</td><td>&quot;Male&quot;</td><td>26</td><td>1</td><td>28.0</td><td>0</td><td>&quot;&lt; 1 Year&quot;</td><td>&quot;Yes&quot;</td><td>540165.0</td><td>163.0</td><td>167</td><td>0</td></tr></tbody></table></div>"
      ],
      "text/plain": [
       "shape: (11_504_798, 12)\n",
       "┌──────────┬────────┬─────┬───────────────┬───┬───────────────┬───────────────┬─────────┬──────────┐\n",
       "│ id       ┆ Gender ┆ Age ┆ Driving_Licen ┆ … ┆ Annual_Premiu ┆ Policy_Sales_ ┆ Vintage ┆ Response │\n",
       "│ ---      ┆ ---    ┆ --- ┆ se            ┆   ┆ m             ┆ Channel       ┆ ---     ┆ ---      │\n",
       "│ i64      ┆ str    ┆ i64 ┆ ---           ┆   ┆ ---           ┆ ---           ┆ i64     ┆ i64      │\n",
       "│          ┆        ┆     ┆ i64           ┆   ┆ f64           ┆ f64           ┆         ┆          │\n",
       "╞══════════╪════════╪═════╪═══════════════╪═══╪═══════════════╪═══════════════╪═════════╪══════════╡\n",
       "│ 5598661  ┆ Female ┆ 35  ┆ 1             ┆ … ┆ 2630.0        ┆ 1.0           ┆ 292     ┆ 0        │\n",
       "│ 5598633  ┆ Female ┆ 46  ┆ 1             ┆ … ┆ 2630.0        ┆ 1.0           ┆ 222     ┆ 0        │\n",
       "│ 10637274 ┆ Female ┆ 40  ┆ 1             ┆ … ┆ 2630.0        ┆ 1.0           ┆ 219     ┆ 0        │\n",
       "│ 7281872  ┆ Female ┆ 28  ┆ 1             ┆ … ┆ 2630.0        ┆ 1.0           ┆ 256     ┆ 0        │\n",
       "│ 7282131  ┆ Female ┆ 36  ┆ 1             ┆ … ┆ 2630.0        ┆ 1.0           ┆ 171     ┆ 0        │\n",
       "│ …        ┆ …      ┆ …   ┆ …             ┆ … ┆ …             ┆ …             ┆ …       ┆ …        │\n",
       "│ 9789005  ┆ Male   ┆ 26  ┆ 1             ┆ … ┆ 540165.0      ┆ 124.0         ┆ 103     ┆ 0        │\n",
       "│ 7682681  ┆ Male   ┆ 22  ┆ 1             ┆ … ┆ 540165.0      ┆ 152.0         ┆ 278     ┆ 0        │\n",
       "│ 3548393  ┆ Female ┆ 22  ┆ 1             ┆ … ┆ 540165.0      ┆ 152.0         ┆ 272     ┆ 1        │\n",
       "│ 7851401  ┆ Female ┆ 26  ┆ 1             ┆ … ┆ 540165.0      ┆ 156.0         ┆ 84      ┆ 1        │\n",
       "│ 2548220  ┆ Male   ┆ 26  ┆ 1             ┆ … ┆ 540165.0      ┆ 163.0         ┆ 167     ┆ 0        │\n",
       "└──────────┴────────┴─────┴───────────────┴───┴───────────────┴───────────────┴─────────┴──────────┘"
      ]
     },
     "execution_count": 108,
     "metadata": {},
     "output_type": "execute_result"
    }
   ],
   "source": [
    "# polars.DataFrame.sort\n",
    "\n",
    "insurance_df.sort([\"Annual_Premium\",\"Policy_Sales_Channel\"])"
   ]
  },
  {
   "cell_type": "code",
   "execution_count": 109,
   "id": "29fede02-6baa-4904-83ff-e4257a5d27b0",
   "metadata": {},
   "outputs": [
    {
     "data": {
      "text/html": [
       "<div><style>\n",
       ".dataframe > thead > tr,\n",
       ".dataframe > tbody > tr {\n",
       "  text-align: right;\n",
       "  white-space: pre-wrap;\n",
       "}\n",
       "</style>\n",
       "<small>shape: (11_504_798, 12)</small><table border=\"1\" class=\"dataframe\"><thead><tr><th>id</th><th>Gender</th><th>Age</th><th>Driving_License</th><th>Region_Code</th><th>Previously_Insured</th><th>Vehicle_Age</th><th>Vehicle_Damage</th><th>Annual_Premium</th><th>Policy_Sales_Channel</th><th>Vintage</th><th>Response</th></tr><tr><td>i64</td><td>str</td><td>i64</td><td>i64</td><td>f64</td><td>i64</td><td>str</td><td>str</td><td>f64</td><td>f64</td><td>i64</td><td>i64</td></tr></thead><tbody><tr><td>2548220</td><td>&quot;Male&quot;</td><td>26</td><td>1</td><td>28.0</td><td>0</td><td>&quot;&lt; 1 Year&quot;</td><td>&quot;Yes&quot;</td><td>540165.0</td><td>163.0</td><td>167</td><td>0</td></tr><tr><td>7851401</td><td>&quot;Female&quot;</td><td>26</td><td>1</td><td>28.0</td><td>0</td><td>&quot;1-2 Year&quot;</td><td>&quot;Yes&quot;</td><td>540165.0</td><td>156.0</td><td>84</td><td>1</td></tr><tr><td>7682681</td><td>&quot;Male&quot;</td><td>22</td><td>1</td><td>28.0</td><td>0</td><td>&quot;&lt; 1 Year&quot;</td><td>&quot;Yes&quot;</td><td>540165.0</td><td>152.0</td><td>278</td><td>0</td></tr><tr><td>3548393</td><td>&quot;Female&quot;</td><td>22</td><td>1</td><td>28.0</td><td>0</td><td>&quot;&lt; 1 Year&quot;</td><td>&quot;Yes&quot;</td><td>540165.0</td><td>152.0</td><td>272</td><td>1</td></tr><tr><td>8464310</td><td>&quot;Female&quot;</td><td>42</td><td>1</td><td>28.0</td><td>0</td><td>&quot;1-2 Year&quot;</td><td>&quot;Yes&quot;</td><td>540165.0</td><td>124.0</td><td>69</td><td>0</td></tr><tr><td>&hellip;</td><td>&hellip;</td><td>&hellip;</td><td>&hellip;</td><td>&hellip;</td><td>&hellip;</td><td>&hellip;</td><td>&hellip;</td><td>&hellip;</td><td>&hellip;</td><td>&hellip;</td><td>&hellip;</td></tr><tr><td>2936315</td><td>&quot;Female&quot;</td><td>27</td><td>1</td><td>29.0</td><td>0</td><td>&quot;&lt; 1 Year&quot;</td><td>&quot;No&quot;</td><td>2630.0</td><td>1.0</td><td>205</td><td>0</td></tr><tr><td>11138276</td><td>&quot;Female&quot;</td><td>36</td><td>1</td><td>8.0</td><td>1</td><td>&quot;&lt; 1 Year&quot;</td><td>&quot;No&quot;</td><td>2630.0</td><td>1.0</td><td>22</td><td>0</td></tr><tr><td>272537</td><td>&quot;Male&quot;</td><td>34</td><td>1</td><td>8.0</td><td>0</td><td>&quot;&lt; 1 Year&quot;</td><td>&quot;No&quot;</td><td>2630.0</td><td>1.0</td><td>296</td><td>0</td></tr><tr><td>10084071</td><td>&quot;Female&quot;</td><td>57</td><td>1</td><td>28.0</td><td>0</td><td>&quot;&lt; 1 Year&quot;</td><td>&quot;No&quot;</td><td>2630.0</td><td>1.0</td><td>52</td><td>0</td></tr><tr><td>2936337</td><td>&quot;Male&quot;</td><td>44</td><td>1</td><td>3.0</td><td>0</td><td>&quot;&lt; 1 Year&quot;</td><td>&quot;No&quot;</td><td>2630.0</td><td>1.0</td><td>77</td><td>0</td></tr></tbody></table></div>"
      ],
      "text/plain": [
       "shape: (11_504_798, 12)\n",
       "┌──────────┬────────┬─────┬───────────────┬───┬───────────────┬───────────────┬─────────┬──────────┐\n",
       "│ id       ┆ Gender ┆ Age ┆ Driving_Licen ┆ … ┆ Annual_Premiu ┆ Policy_Sales_ ┆ Vintage ┆ Response │\n",
       "│ ---      ┆ ---    ┆ --- ┆ se            ┆   ┆ m             ┆ Channel       ┆ ---     ┆ ---      │\n",
       "│ i64      ┆ str    ┆ i64 ┆ ---           ┆   ┆ ---           ┆ ---           ┆ i64     ┆ i64      │\n",
       "│          ┆        ┆     ┆ i64           ┆   ┆ f64           ┆ f64           ┆         ┆          │\n",
       "╞══════════╪════════╪═════╪═══════════════╪═══╪═══════════════╪═══════════════╪═════════╪══════════╡\n",
       "│ 2548220  ┆ Male   ┆ 26  ┆ 1             ┆ … ┆ 540165.0      ┆ 163.0         ┆ 167     ┆ 0        │\n",
       "│ 7851401  ┆ Female ┆ 26  ┆ 1             ┆ … ┆ 540165.0      ┆ 156.0         ┆ 84      ┆ 1        │\n",
       "│ 7682681  ┆ Male   ┆ 22  ┆ 1             ┆ … ┆ 540165.0      ┆ 152.0         ┆ 278     ┆ 0        │\n",
       "│ 3548393  ┆ Female ┆ 22  ┆ 1             ┆ … ┆ 540165.0      ┆ 152.0         ┆ 272     ┆ 1        │\n",
       "│ 8464310  ┆ Female ┆ 42  ┆ 1             ┆ … ┆ 540165.0      ┆ 124.0         ┆ 69      ┆ 0        │\n",
       "│ …        ┆ …      ┆ …   ┆ …             ┆ … ┆ …             ┆ …             ┆ …       ┆ …        │\n",
       "│ 2936315  ┆ Female ┆ 27  ┆ 1             ┆ … ┆ 2630.0        ┆ 1.0           ┆ 205     ┆ 0        │\n",
       "│ 11138276 ┆ Female ┆ 36  ┆ 1             ┆ … ┆ 2630.0        ┆ 1.0           ┆ 22      ┆ 0        │\n",
       "│ 272537   ┆ Male   ┆ 34  ┆ 1             ┆ … ┆ 2630.0        ┆ 1.0           ┆ 296     ┆ 0        │\n",
       "│ 10084071 ┆ Female ┆ 57  ┆ 1             ┆ … ┆ 2630.0        ┆ 1.0           ┆ 52      ┆ 0        │\n",
       "│ 2936337  ┆ Male   ┆ 44  ┆ 1             ┆ … ┆ 2630.0        ┆ 1.0           ┆ 77      ┆ 0        │\n",
       "└──────────┴────────┴─────┴───────────────┴───┴───────────────┴───────────────┴─────────┴──────────┘"
      ]
     },
     "execution_count": 109,
     "metadata": {},
     "output_type": "execute_result"
    }
   ],
   "source": [
    "insurance_df.sort([\"Annual_Premium\",\"Policy_Sales_Channel\"],descending=True)"
   ]
  },
  {
   "cell_type": "code",
   "execution_count": 113,
   "id": "21488fba-10d8-4b90-ae21-204b03667ff1",
   "metadata": {},
   "outputs": [
    {
     "data": {
      "text/html": [
       "<div><style>\n",
       ".dataframe > thead > tr,\n",
       ".dataframe > tbody > tr {\n",
       "  text-align: right;\n",
       "  white-space: pre-wrap;\n",
       "}\n",
       "</style>\n",
       "<small>shape: (5_044_145, 12)</small><table border=\"1\" class=\"dataframe\"><thead><tr><th>id</th><th>Gender</th><th>Age</th><th>Driving_License</th><th>Region_Code</th><th>Previously_Insured</th><th>Vehicle_Age</th><th>Vehicle_Damage</th><th>Annual_Premium</th><th>Policy_Sales_Channel</th><th>Vintage</th><th>Response</th></tr><tr><td>i64</td><td>str</td><td>i64</td><td>i64</td><td>f64</td><td>i64</td><td>str</td><td>str</td><td>f64</td><td>f64</td><td>i64</td><td>i64</td></tr></thead><tbody><tr><td>2</td><td>&quot;Female&quot;</td><td>25</td><td>1</td><td>14.0</td><td>1</td><td>&quot;&lt; 1 Year&quot;</td><td>&quot;No&quot;</td><td>38043.0</td><td>152.0</td><td>254</td><td>0</td></tr><tr><td>5</td><td>&quot;Female&quot;</td><td>31</td><td>1</td><td>47.0</td><td>1</td><td>&quot;&lt; 1 Year&quot;</td><td>&quot;No&quot;</td><td>28150.0</td><td>152.0</td><td>197</td><td>0</td></tr><tr><td>6</td><td>&quot;Male&quot;</td><td>23</td><td>1</td><td>45.0</td><td>1</td><td>&quot;&lt; 1 Year&quot;</td><td>&quot;No&quot;</td><td>27128.0</td><td>152.0</td><td>190</td><td>0</td></tr><tr><td>8</td><td>&quot;Female&quot;</td><td>26</td><td>1</td><td>28.0</td><td>1</td><td>&quot;&lt; 1 Year&quot;</td><td>&quot;No&quot;</td><td>31639.0</td><td>152.0</td><td>36</td><td>0</td></tr><tr><td>10</td><td>&quot;Male&quot;</td><td>22</td><td>1</td><td>3.0</td><td>1</td><td>&quot;&lt; 1 Year&quot;</td><td>&quot;No&quot;</td><td>27996.0</td><td>152.0</td><td>215</td><td>0</td></tr><tr><td>&hellip;</td><td>&hellip;</td><td>&hellip;</td><td>&hellip;</td><td>&hellip;</td><td>&hellip;</td><td>&hellip;</td><td>&hellip;</td><td>&hellip;</td><td>&hellip;</td><td>&hellip;</td><td>&hellip;</td></tr><tr><td>11504790</td><td>&quot;Female&quot;</td><td>21</td><td>1</td><td>36.0</td><td>1</td><td>&quot;&lt; 1 Year&quot;</td><td>&quot;No&quot;</td><td>38097.0</td><td>152.0</td><td>275</td><td>0</td></tr><tr><td>11504791</td><td>&quot;Female&quot;</td><td>31</td><td>1</td><td>32.0</td><td>1</td><td>&quot;&lt; 1 Year&quot;</td><td>&quot;No&quot;</td><td>2630.0</td><td>152.0</td><td>204</td><td>0</td></tr><tr><td>11504794</td><td>&quot;Female&quot;</td><td>26</td><td>1</td><td>36.0</td><td>0</td><td>&quot;&lt; 1 Year&quot;</td><td>&quot;Yes&quot;</td><td>29509.0</td><td>152.0</td><td>115</td><td>1</td></tr><tr><td>11504795</td><td>&quot;Female&quot;</td><td>29</td><td>1</td><td>32.0</td><td>1</td><td>&quot;&lt; 1 Year&quot;</td><td>&quot;No&quot;</td><td>2630.0</td><td>152.0</td><td>189</td><td>0</td></tr><tr><td>11504797</td><td>&quot;Male&quot;</td><td>25</td><td>1</td><td>28.0</td><td>1</td><td>&quot;&lt; 1 Year&quot;</td><td>&quot;No&quot;</td><td>32855.0</td><td>152.0</td><td>189</td><td>0</td></tr></tbody></table></div>"
      ],
      "text/plain": [
       "shape: (5_044_145, 12)\n",
       "┌──────────┬────────┬─────┬───────────────┬───┬───────────────┬───────────────┬─────────┬──────────┐\n",
       "│ id       ┆ Gender ┆ Age ┆ Driving_Licen ┆ … ┆ Annual_Premiu ┆ Policy_Sales_ ┆ Vintage ┆ Response │\n",
       "│ ---      ┆ ---    ┆ --- ┆ se            ┆   ┆ m             ┆ Channel       ┆ ---     ┆ ---      │\n",
       "│ i64      ┆ str    ┆ i64 ┆ ---           ┆   ┆ ---           ┆ ---           ┆ i64     ┆ i64      │\n",
       "│          ┆        ┆     ┆ i64           ┆   ┆ f64           ┆ f64           ┆         ┆          │\n",
       "╞══════════╪════════╪═════╪═══════════════╪═══╪═══════════════╪═══════════════╪═════════╪══════════╡\n",
       "│ 2        ┆ Female ┆ 25  ┆ 1             ┆ … ┆ 38043.0       ┆ 152.0         ┆ 254     ┆ 0        │\n",
       "│ 5        ┆ Female ┆ 31  ┆ 1             ┆ … ┆ 28150.0       ┆ 152.0         ┆ 197     ┆ 0        │\n",
       "│ 6        ┆ Male   ┆ 23  ┆ 1             ┆ … ┆ 27128.0       ┆ 152.0         ┆ 190     ┆ 0        │\n",
       "│ 8        ┆ Female ┆ 26  ┆ 1             ┆ … ┆ 31639.0       ┆ 152.0         ┆ 36      ┆ 0        │\n",
       "│ 10       ┆ Male   ┆ 22  ┆ 1             ┆ … ┆ 27996.0       ┆ 152.0         ┆ 215     ┆ 0        │\n",
       "│ …        ┆ …      ┆ …   ┆ …             ┆ … ┆ …             ┆ …             ┆ …       ┆ …        │\n",
       "│ 11504790 ┆ Female ┆ 21  ┆ 1             ┆ … ┆ 38097.0       ┆ 152.0         ┆ 275     ┆ 0        │\n",
       "│ 11504791 ┆ Female ┆ 31  ┆ 1             ┆ … ┆ 2630.0        ┆ 152.0         ┆ 204     ┆ 0        │\n",
       "│ 11504794 ┆ Female ┆ 26  ┆ 1             ┆ … ┆ 29509.0       ┆ 152.0         ┆ 115     ┆ 1        │\n",
       "│ 11504795 ┆ Female ┆ 29  ┆ 1             ┆ … ┆ 2630.0        ┆ 152.0         ┆ 189     ┆ 0        │\n",
       "│ 11504797 ┆ Male   ┆ 25  ┆ 1             ┆ … ┆ 32855.0       ┆ 152.0         ┆ 189     ┆ 0        │\n",
       "└──────────┴────────┴─────┴───────────────┴───┴───────────────┴───────────────┴─────────┴──────────┘"
      ]
     },
     "execution_count": 113,
     "metadata": {},
     "output_type": "execute_result"
    }
   ],
   "source": [
    "# polars.DataFrame.sql\n",
    "\n",
    "insurance_df.sql(\n",
    "    query = \"SELECT * FROM self WHERE Vehicle_Age = '< 1 Year' AND Annual_Premium >2000\"\n",
    "    )"
   ]
  },
  {
   "cell_type": "code",
   "execution_count": 5,
   "id": "2aef628b-e374-48f1-a91d-60afb2e848f5",
   "metadata": {},
   "outputs": [
    {
     "data": {
      "text/html": [
       "<div><style>\n",
       ".dataframe > thead > tr,\n",
       ".dataframe > tbody > tr {\n",
       "  text-align: right;\n",
       "  white-space: pre-wrap;\n",
       "}\n",
       "</style>\n",
       "<small>shape: (4, 12)</small><table border=\"1\" class=\"dataframe\"><thead><tr><th>Countries_AUSTRALIA</th><th>Countries_ENGLAND</th><th>Countries_INDIA</th><th>Countries_PAKISTAN</th><th>Matches_32</th><th>Matches_42</th><th>Matches_55</th><th>Matches_80</th><th>Ranking_1</th><th>Ranking_2</th><th>Ranking_6</th><th>Ranking_7</th></tr><tr><td>u8</td><td>u8</td><td>u8</td><td>u8</td><td>u8</td><td>u8</td><td>u8</td><td>u8</td><td>u8</td><td>u8</td><td>u8</td><td>u8</td></tr></thead><tbody><tr><td>0</td><td>0</td><td>1</td><td>0</td><td>0</td><td>0</td><td>0</td><td>1</td><td>1</td><td>0</td><td>0</td><td>0</td></tr><tr><td>0</td><td>0</td><td>0</td><td>1</td><td>0</td><td>1</td><td>0</td><td>0</td><td>0</td><td>1</td><td>0</td><td>0</td></tr><tr><td>1</td><td>0</td><td>0</td><td>0</td><td>0</td><td>0</td><td>1</td><td>0</td><td>0</td><td>0</td><td>0</td><td>1</td></tr><tr><td>0</td><td>1</td><td>0</td><td>0</td><td>1</td><td>0</td><td>0</td><td>0</td><td>0</td><td>0</td><td>1</td><td>0</td></tr></tbody></table></div>"
      ],
      "text/plain": [
       "shape: (4, 12)\n",
       "┌───────────┬───────────┬───────────┬───────────┬───┬───────────┬───────────┬───────────┬──────────┐\n",
       "│ Countries ┆ Countries ┆ Countries ┆ Countries ┆ … ┆ Ranking_1 ┆ Ranking_2 ┆ Ranking_6 ┆ Ranking_ │\n",
       "│ _AUSTRALI ┆ _ENGLAND  ┆ _INDIA    ┆ _PAKISTAN ┆   ┆ ---       ┆ ---       ┆ ---       ┆ 7        │\n",
       "│ A         ┆ ---       ┆ ---       ┆ ---       ┆   ┆ u8        ┆ u8        ┆ u8        ┆ ---      │\n",
       "│ ---       ┆ u8        ┆ u8        ┆ u8        ┆   ┆           ┆           ┆           ┆ u8       │\n",
       "│ u8        ┆           ┆           ┆           ┆   ┆           ┆           ┆           ┆          │\n",
       "╞═══════════╪═══════════╪═══════════╪═══════════╪═══╪═══════════╪═══════════╪═══════════╪══════════╡\n",
       "│ 0         ┆ 0         ┆ 1         ┆ 0         ┆ … ┆ 1         ┆ 0         ┆ 0         ┆ 0        │\n",
       "│ 0         ┆ 0         ┆ 0         ┆ 1         ┆ … ┆ 0         ┆ 1         ┆ 0         ┆ 0        │\n",
       "│ 1         ┆ 0         ┆ 0         ┆ 0         ┆ … ┆ 0         ┆ 0         ┆ 0         ┆ 1        │\n",
       "│ 0         ┆ 1         ┆ 0         ┆ 0         ┆ … ┆ 0         ┆ 0         ┆ 1         ┆ 0        │\n",
       "└───────────┴───────────┴───────────┴───────────┴───┴───────────┴───────────┴───────────┴──────────┘"
      ]
     },
     "execution_count": 5,
     "metadata": {},
     "output_type": "execute_result"
    }
   ],
   "source": [
    "# polars.DataFrame.to_dummies\n",
    "df1 = pl.DataFrame(\n",
    "    {\n",
    "    \"Countries\" : [\"INDIA\",\"PAKISTAN\",\"AUSTRALIA\",\"ENGLAND\"],\n",
    "    \"Matches\" : [80,42,55,32],\n",
    "    \"Ranking\" : [1,2,7,6]\n",
    "}\n",
    ")\n",
    "df1.to_dummies()"
   ]
  },
  {
   "cell_type": "code",
   "execution_count": 6,
   "id": "d69d6387-4dc3-46da-939a-6590e061e812",
   "metadata": {},
   "outputs": [
    {
     "data": {
      "text/html": [
       "<div><style>\n",
       ".dataframe > thead > tr,\n",
       ".dataframe > tbody > tr {\n",
       "  text-align: right;\n",
       "  white-space: pre-wrap;\n",
       "}\n",
       "</style>\n",
       "<small>shape: (4, 4)</small><table border=\"1\" class=\"dataframe\"><thead><tr><th>Countries_AUSTRALIA</th><th>Countries_ENGLAND</th><th>Countries_INDIA</th><th>Countries_PAKISTAN</th></tr><tr><td>u8</td><td>u8</td><td>u8</td><td>u8</td></tr></thead><tbody><tr><td>0</td><td>0</td><td>1</td><td>0</td></tr><tr><td>0</td><td>0</td><td>0</td><td>1</td></tr><tr><td>1</td><td>0</td><td>0</td><td>0</td></tr><tr><td>0</td><td>1</td><td>0</td><td>0</td></tr></tbody></table></div>"
      ],
      "text/plain": [
       "shape: (4, 4)\n",
       "┌─────────────────────┬───────────────────┬─────────────────┬────────────────────┐\n",
       "│ Countries_AUSTRALIA ┆ Countries_ENGLAND ┆ Countries_INDIA ┆ Countries_PAKISTAN │\n",
       "│ ---                 ┆ ---               ┆ ---             ┆ ---                │\n",
       "│ u8                  ┆ u8                ┆ u8              ┆ u8                 │\n",
       "╞═════════════════════╪═══════════════════╪═════════════════╪════════════════════╡\n",
       "│ 0                   ┆ 0                 ┆ 1               ┆ 0                  │\n",
       "│ 0                   ┆ 0                 ┆ 0               ┆ 1                  │\n",
       "│ 1                   ┆ 0                 ┆ 0               ┆ 0                  │\n",
       "│ 0                   ┆ 1                 ┆ 0               ┆ 0                  │\n",
       "└─────────────────────┴───────────────────┴─────────────────┴────────────────────┘"
      ]
     },
     "execution_count": 6,
     "metadata": {},
     "output_type": "execute_result"
    }
   ],
   "source": [
    "df1[\"Countries\"].to_dummies()"
   ]
  },
  {
   "cell_type": "code",
   "execution_count": 7,
   "id": "a1eaf720-8d93-4c93-b717-a64b8dc1be55",
   "metadata": {},
   "outputs": [
    {
     "data": {
      "text/html": [
       "<div><style>\n",
       ".dataframe > thead > tr,\n",
       ".dataframe > tbody > tr {\n",
       "  text-align: right;\n",
       "  white-space: pre-wrap;\n",
       "}\n",
       "</style>\n",
       "<small>shape: (4,)</small><table border=\"1\" class=\"dataframe\"><thead><tr><th>Matches</th></tr><tr><td>i64</td></tr></thead><tbody><tr><td>80</td></tr><tr><td>42</td></tr><tr><td>55</td></tr><tr><td>32</td></tr></tbody></table></div>"
      ],
      "text/plain": [
       "shape: (4,)\n",
       "Series: 'Matches' [i64]\n",
       "[\n",
       "\t80\n",
       "\t42\n",
       "\t55\n",
       "\t32\n",
       "]"
      ]
     },
     "execution_count": 7,
     "metadata": {},
     "output_type": "execute_result"
    }
   ],
   "source": [
    "# polars.DataFrame.to_series\n",
    "\n",
    "df1.to_series(1)"
   ]
  },
  {
   "cell_type": "code",
   "execution_count": 8,
   "id": "4ee3dc02-46ab-4354-890a-7f37f0f2db3c",
   "metadata": {},
   "outputs": [
    {
     "data": {
      "text/html": [
       "<div><style>\n",
       ".dataframe > thead > tr,\n",
       ".dataframe > tbody > tr {\n",
       "  text-align: right;\n",
       "  white-space: pre-wrap;\n",
       "}\n",
       "</style>\n",
       "<small>shape: (13, 9)</small><table border=\"1\" class=\"dataframe\"><thead><tr><th>column_0</th><th>column_1</th><th>column_2</th><th>column_3</th><th>column_4</th><th>column_5</th><th>column_6</th><th>column_7</th><th>column_8</th></tr><tr><td>str</td><td>str</td><td>str</td><td>str</td><td>str</td><td>str</td><td>str</td><td>str</td><td>str</td></tr></thead><tbody><tr><td>&quot;count&quot;</td><td>&quot;null_count&quot;</td><td>&quot;mean&quot;</td><td>&quot;std&quot;</td><td>&quot;min&quot;</td><td>&quot;25%&quot;</td><td>&quot;50%&quot;</td><td>&quot;75%&quot;</td><td>&quot;max&quot;</td></tr><tr><td>&quot;11504798.0&quot;</td><td>&quot;0.0&quot;</td><td>&quot;5752398.5&quot;</td><td>&quot;3321149.255473698&quot;</td><td>&quot;0.0&quot;</td><td>&quot;2876199.0&quot;</td><td>&quot;5752399.0&quot;</td><td>&quot;8628598.0&quot;</td><td>&quot;11504797.0&quot;</td></tr><tr><td>&quot;11504798&quot;</td><td>&quot;0&quot;</td><td>null</td><td>null</td><td>&quot;Female&quot;</td><td>null</td><td>null</td><td>null</td><td>&quot;Male&quot;</td></tr><tr><td>&quot;11504798.0&quot;</td><td>&quot;0.0&quot;</td><td>&quot;38.38356336199905&quot;</td><td>&quot;14.993458508381048&quot;</td><td>&quot;20.0&quot;</td><td>&quot;24.0&quot;</td><td>&quot;36.0&quot;</td><td>&quot;49.0&quot;</td><td>&quot;85.0&quot;</td></tr><tr><td>&quot;11504798.0&quot;</td><td>&quot;0.0&quot;</td><td>&quot;0.9980219557092614&quot;</td><td>&quot;0.04443120303474176&quot;</td><td>&quot;0.0&quot;</td><td>&quot;1.0&quot;</td><td>&quot;1.0&quot;</td><td>&quot;1.0&quot;</td><td>&quot;1.0&quot;</td></tr><tr><td>&hellip;</td><td>&hellip;</td><td>&hellip;</td><td>&hellip;</td><td>&hellip;</td><td>&hellip;</td><td>&hellip;</td><td>&hellip;</td><td>&hellip;</td></tr><tr><td>&quot;11504798&quot;</td><td>&quot;0&quot;</td><td>null</td><td>null</td><td>&quot;No&quot;</td><td>null</td><td>null</td><td>null</td><td>&quot;Yes&quot;</td></tr><tr><td>&quot;11504798.0&quot;</td><td>&quot;0.0&quot;</td><td>&quot;30461.370410588694&quot;</td><td>&quot;16454.745205061357&quot;</td><td>&quot;2630.0&quot;</td><td>&quot;25277.0&quot;</td><td>&quot;31824.0&quot;</td><td>&quot;39451.0&quot;</td><td>&quot;540165.0&quot;</td></tr><tr><td>&quot;11504798.0&quot;</td><td>&quot;0.0&quot;</td><td>&quot;112.42544188954903&quot;</td><td>&quot;54.03570777686182&quot;</td><td>&quot;1.0&quot;</td><td>&quot;29.0&quot;</td><td>&quot;151.0&quot;</td><td>&quot;152.0&quot;</td><td>&quot;163.0&quot;</td></tr><tr><td>&quot;11504798.0&quot;</td><td>&quot;0.0&quot;</td><td>&quot;163.89774388042275&quot;</td><td>&quot;79.97953110341116&quot;</td><td>&quot;10.0&quot;</td><td>&quot;99.0&quot;</td><td>&quot;166.0&quot;</td><td>&quot;232.0&quot;</td><td>&quot;299.0&quot;</td></tr><tr><td>&quot;11504798.0&quot;</td><td>&quot;0.0&quot;</td><td>&quot;0.12299729208631043&quot;</td><td>&quot;0.32843411455228533&quot;</td><td>&quot;0.0&quot;</td><td>&quot;0.0&quot;</td><td>&quot;0.0&quot;</td><td>&quot;0.0&quot;</td><td>&quot;1.0&quot;</td></tr></tbody></table></div>"
      ],
      "text/plain": [
       "shape: (13, 9)\n",
       "┌───────────┬───────────┬───────────┬───────────┬───┬───────────┬───────────┬───────────┬──────────┐\n",
       "│ column_0  ┆ column_1  ┆ column_2  ┆ column_3  ┆ … ┆ column_5  ┆ column_6  ┆ column_7  ┆ column_8 │\n",
       "│ ---       ┆ ---       ┆ ---       ┆ ---       ┆   ┆ ---       ┆ ---       ┆ ---       ┆ ---      │\n",
       "│ str       ┆ str       ┆ str       ┆ str       ┆   ┆ str       ┆ str       ┆ str       ┆ str      │\n",
       "╞═══════════╪═══════════╪═══════════╪═══════════╪═══╪═══════════╪═══════════╪═══════════╪══════════╡\n",
       "│ count     ┆ null_coun ┆ mean      ┆ std       ┆ … ┆ 25%       ┆ 50%       ┆ 75%       ┆ max      │\n",
       "│           ┆ t         ┆           ┆           ┆   ┆           ┆           ┆           ┆          │\n",
       "│ 11504798. ┆ 0.0       ┆ 5752398.5 ┆ 3321149.2 ┆ … ┆ 2876199.0 ┆ 5752399.0 ┆ 8628598.0 ┆ 11504797 │\n",
       "│ 0         ┆           ┆           ┆ 55473698  ┆   ┆           ┆           ┆           ┆ .0       │\n",
       "│ 11504798  ┆ 0         ┆ null      ┆ null      ┆ … ┆ null      ┆ null      ┆ null      ┆ Male     │\n",
       "│ 11504798. ┆ 0.0       ┆ 38.383563 ┆ 14.993458 ┆ … ┆ 24.0      ┆ 36.0      ┆ 49.0      ┆ 85.0     │\n",
       "│ 0         ┆           ┆ 36199905  ┆ 508381048 ┆   ┆           ┆           ┆           ┆          │\n",
       "│ 11504798. ┆ 0.0       ┆ 0.9980219 ┆ 0.0444312 ┆ … ┆ 1.0       ┆ 1.0       ┆ 1.0       ┆ 1.0      │\n",
       "│ 0         ┆           ┆ 557092614 ┆ 030347417 ┆   ┆           ┆           ┆           ┆          │\n",
       "│           ┆           ┆           ┆ 6         ┆   ┆           ┆           ┆           ┆          │\n",
       "│ …         ┆ …         ┆ …         ┆ …         ┆ … ┆ …         ┆ …         ┆ …         ┆ …        │\n",
       "│ 11504798  ┆ 0         ┆ null      ┆ null      ┆ … ┆ null      ┆ null      ┆ null      ┆ Yes      │\n",
       "│ 11504798. ┆ 0.0       ┆ 30461.370 ┆ 16454.745 ┆ … ┆ 25277.0   ┆ 31824.0   ┆ 39451.0   ┆ 540165.0 │\n",
       "│ 0         ┆           ┆ 410588694 ┆ 205061357 ┆   ┆           ┆           ┆           ┆          │\n",
       "│ 11504798. ┆ 0.0       ┆ 112.42544 ┆ 54.035707 ┆ … ┆ 29.0      ┆ 151.0     ┆ 152.0     ┆ 163.0    │\n",
       "│ 0         ┆           ┆ 188954903 ┆ 77686182  ┆   ┆           ┆           ┆           ┆          │\n",
       "│ 11504798. ┆ 0.0       ┆ 163.89774 ┆ 79.979531 ┆ … ┆ 99.0      ┆ 166.0     ┆ 232.0     ┆ 299.0    │\n",
       "│ 0         ┆           ┆ 388042275 ┆ 10341116  ┆   ┆           ┆           ┆           ┆          │\n",
       "│ 11504798. ┆ 0.0       ┆ 0.1229972 ┆ 0.3284341 ┆ … ┆ 0.0       ┆ 0.0       ┆ 0.0       ┆ 1.0      │\n",
       "│ 0         ┆           ┆ 920863104 ┆ 145522853 ┆   ┆           ┆           ┆           ┆          │\n",
       "│           ┆           ┆ 3         ┆ 3         ┆   ┆           ┆           ┆           ┆          │\n",
       "└───────────┴───────────┴───────────┴───────────┴───┴───────────┴───────────┴───────────┴──────────┘"
      ]
     },
     "execution_count": 8,
     "metadata": {},
     "output_type": "execute_result"
    }
   ],
   "source": [
    "# polars.DataFrame.tranpose\n",
    "insurance_df.describe().transpose()"
   ]
  },
  {
   "cell_type": "code",
   "execution_count": 10,
   "id": "bc6e4c07-a485-4dee-aae2-4f9da833c3c8",
   "metadata": {},
   "outputs": [
    {
     "name": "stdout",
     "output_type": "stream",
     "text": [
      "shape: (6, 3)\n",
      "┌────────────┬─────────────┬───────┐\n",
      "│ Date       ┆ variable    ┆ value │\n",
      "│ ---        ┆ ---         ┆ ---   │\n",
      "│ str        ┆ str         ┆ i64   │\n",
      "╞════════════╪═════════════╪═══════╡\n",
      "│ 2023-08-01 ┆ Temperature ┆ 20    │\n",
      "│ 2023-08-02 ┆ Temperature ┆ 21    │\n",
      "│ 2023-08-03 ┆ Temperature ┆ 19    │\n",
      "│ 2023-08-01 ┆ Humidity    ┆ 30    │\n",
      "│ 2023-08-02 ┆ Humidity    ┆ 45    │\n",
      "│ 2023-08-03 ┆ Humidity    ┆ 50    │\n",
      "└────────────┴─────────────┴───────┘\n"
     ]
    }
   ],
   "source": [
    "# polars.DataFrame.unpivot\n",
    "\n",
    "df = pl.DataFrame({\n",
    "    \"Date\": [\"2023-08-01\", \"2023-08-02\", \"2023-08-03\"],\n",
    "    \"Temperature\": [20, 21, 19],\n",
    "    \"Humidity\": [30, 45, 50]\n",
    "})\n",
    "\n",
    "df_unpivoted = df.unpivot(index=\"Date\")\n",
    "\n",
    "print(df_unpivoted)"
   ]
  },
  {
   "cell_type": "markdown",
   "id": "9fbf6eec-bad7-4b0b-863a-71f1a5d90622",
   "metadata": {},
   "source": [
    "# Miscalleneaous Methods "
   ]
  },
  {
   "cell_type": "code",
   "execution_count": 11,
   "id": "f9027e38-a1ca-4a1a-a50b-f1ea43ea92c1",
   "metadata": {},
   "outputs": [
    {
     "data": {
      "text/plain": [
       "Schema([('id', Int64),\n",
       "        ('Gender', String),\n",
       "        ('Age', Int64),\n",
       "        ('Driving_License', Int64),\n",
       "        ('Region_Code', Float64),\n",
       "        ('Previously_Insured', Int64),\n",
       "        ('Vehicle_Age', String),\n",
       "        ('Vehicle_Damage', String),\n",
       "        ('Annual_Premium', Float64),\n",
       "        ('Policy_Sales_Channel', Float64),\n",
       "        ('Vintage', Int64),\n",
       "        ('Response', Int64)])"
      ]
     },
     "execution_count": 11,
     "metadata": {},
     "output_type": "execute_result"
    }
   ],
   "source": [
    "# polars.DataFrame.collect_schema\n",
    "\n",
    "insurance_df.collect_schema()"
   ]
  },
  {
   "cell_type": "code",
   "execution_count": 6,
   "id": "9f4284c8-b5f7-4c77-9e55-c79ab99b4345",
   "metadata": {},
   "outputs": [
    {
     "data": {
      "text/html": [
       "<div><style>\n",
       ".dataframe > thead > tr,\n",
       ".dataframe > tbody > tr {\n",
       "  text-align: right;\n",
       "  white-space: pre-wrap;\n",
       "}\n",
       "</style>\n",
       "<small>shape: (3, 3)</small><table border=\"1\" class=\"dataframe\"><thead><tr><th>PlayersNo</th><th>Matches</th><th>Ranking</th></tr><tr><td>f64</td><td>f64</td><td>f64</td></tr></thead><tbody><tr><td>1.0</td><td>0.241843</td><td>-0.706021</td></tr><tr><td>0.241843</td><td>1.0</td><td>-0.518179</td></tr><tr><td>-0.706021</td><td>-0.518179</td><td>1.0</td></tr></tbody></table></div>"
      ],
      "text/plain": [
       "shape: (3, 3)\n",
       "┌───────────┬───────────┬───────────┐\n",
       "│ PlayersNo ┆ Matches   ┆ Ranking   │\n",
       "│ ---       ┆ ---       ┆ ---       │\n",
       "│ f64       ┆ f64       ┆ f64       │\n",
       "╞═══════════╪═══════════╪═══════════╡\n",
       "│ 1.0       ┆ 0.241843  ┆ -0.706021 │\n",
       "│ 0.241843  ┆ 1.0       ┆ -0.518179 │\n",
       "│ -0.706021 ┆ -0.518179 ┆ 1.0       │\n",
       "└───────────┴───────────┴───────────┘"
      ]
     },
     "execution_count": 6,
     "metadata": {},
     "output_type": "execute_result"
    }
   ],
   "source": [
    "# polars.DataFrame.corr\n",
    "\n",
    "df1 = pl.DataFrame(\n",
    "    {\n",
    "    \"PlayersNo\" : [37,48,32,23],\n",
    "    \"Matches\" : [80,42,55,32],\n",
    "    \"Ranking\" : [1,2,7,6]\n",
    "}\n",
    ")\n",
    "df1.corr()"
   ]
  },
  {
   "cell_type": "code",
   "execution_count": 7,
   "id": "b51b37d9-673b-4a3d-9b54-f0aea6f1ad36",
   "metadata": {},
   "outputs": [
    {
     "name": "stdout",
     "output_type": "stream",
     "text": [
      "True\n",
      "False\n"
     ]
    }
   ],
   "source": [
    "# polars.DataFrame.equals\n",
    "\n",
    "df = pl.DataFrame({\n",
    "    \"Date\": [\"2023-08-01\", \"2023-08-02\", \"2023-08-03\"],\n",
    "    \"Temperature\": [20, 21, 19],\n",
    "    \"Humidity\": [30, 45, 50]\n",
    "})\n",
    "\n",
    "df1 = pl.DataFrame(\n",
    "    {\n",
    "    \"PlayersNo\" : [37,48,32,23],\n",
    "    \"Matches\" : [80,42,55,32],\n",
    "    \"Ranking\" : [1,2,7,6]\n",
    "}\n",
    ")\n",
    "print(df.equals(df))\n",
    "print(df.equals(df1))"
   ]
  },
  {
   "cell_type": "code",
   "execution_count": 9,
   "id": "f11b0c1d-e8c8-44e8-88d3-cb0bdbf78f62",
   "metadata": {},
   "outputs": [
    {
     "data": {
      "text/html": [
       "<div><style>\n",
       ".dataframe > thead > tr,\n",
       ".dataframe > tbody > tr {\n",
       "  text-align: right;\n",
       "  white-space: pre-wrap;\n",
       "}\n",
       "</style>\n",
       "<small>shape: (4, 3)</small><table border=\"1\" class=\"dataframe\"><thead><tr><th>column_0</th><th>column_1</th><th>column_2</th></tr><tr><td>i64</td><td>i64</td><td>i64</td></tr></thead><tbody><tr><td>74</td><td>240</td><td>-1</td></tr><tr><td>96</td><td>126</td><td>0</td></tr><tr><td>64</td><td>165</td><td>5</td></tr><tr><td>46</td><td>96</td><td>4</td></tr></tbody></table></div>"
      ],
      "text/plain": [
       "shape: (4, 3)\n",
       "┌──────────┬──────────┬──────────┐\n",
       "│ column_0 ┆ column_1 ┆ column_2 │\n",
       "│ ---      ┆ ---      ┆ ---      │\n",
       "│ i64      ┆ i64      ┆ i64      │\n",
       "╞══════════╪══════════╪══════════╡\n",
       "│ 74       ┆ 240      ┆ -1       │\n",
       "│ 96       ┆ 126      ┆ 0        │\n",
       "│ 64       ┆ 165      ┆ 5        │\n",
       "│ 46       ┆ 96       ┆ 4        │\n",
       "└──────────┴──────────┴──────────┘"
      ]
     },
     "execution_count": 9,
     "metadata": {},
     "output_type": "execute_result"
    }
   ],
   "source": [
    "# polars.DataFrame.map_rows\n",
    "df1 = pl.DataFrame(\n",
    "    {\n",
    "    \"PlayersNo\" : [37,48,32,23],\n",
    "    \"Matches\" : [80,42,55,32],\n",
    "    \"Ranking\" : [1,2,7,6]\n",
    "}\n",
    ")\n",
    "df1.map_rows(lambda t:(t[0] * 2, t[1] * 3,t[2]-2))"
   ]
  }
 ],
 "metadata": {
  "kernelspec": {
   "display_name": "Python 3 (ipykernel)",
   "language": "python",
   "name": "python3"
  },
  "language_info": {
   "codemirror_mode": {
    "name": "ipython",
    "version": 3
   },
   "file_extension": ".py",
   "mimetype": "text/x-python",
   "name": "python",
   "nbconvert_exporter": "python",
   "pygments_lexer": "ipython3",
   "version": "3.11.7"
  }
 },
 "nbformat": 4,
 "nbformat_minor": 5
}
